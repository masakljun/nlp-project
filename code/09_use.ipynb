{
 "cells": [
  {
   "cell_type": "markdown",
   "id": "1da3e577",
   "metadata": {},
   "source": [
    "# Universal sentence encoder\n",
    "\n",
    "The structure of this notebook is similar to the structure of BERT notebook\n",
    "\n",
    "Note: Running this code may take a while :)"
   ]
  },
  {
   "cell_type": "code",
   "execution_count": 6,
   "id": "persistent-precipitation",
   "metadata": {},
   "outputs": [],
   "source": [
    "import tensorflow as tf\n",
    "import tensorflow_hub as hub\n",
    "import numpy as np\n",
    "import os, sys\n",
    "from sklearn.metrics.pairwise import cosine_similarity\n",
    "import seaborn as sns"
   ]
  },
  {
   "cell_type": "code",
   "execution_count": 2,
   "id": "deluxe-saturn",
   "metadata": {},
   "outputs": [],
   "source": [
    "# get cosine similairty matrix\n",
    "def cos_sim(input_vectors):\n",
    "    similarity = cosine_similarity(input_vectors)\n",
    "    return similarity\n",
    "\n",
    "# get topN similar sentences\n",
    "def get_top_similar(sentence, sentence_list, similarity_matrix, topN):\n",
    "    # find the index of sentence in list\n",
    "    index = sentence_list.index(sentence)\n",
    "    # get the corresponding row in similarity matrix\n",
    "    similarity_row = np.array(similarity_matrix[index, :])\n",
    "    # get the indices of top similar\n",
    "    indices = similarity_row.argsort()[-topN:][::-1]\n",
    "    return [sentence_list[i] for i in indices]"
   ]
  },
  {
   "cell_type": "code",
   "execution_count": 3,
   "id": "occasional-worship",
   "metadata": {},
   "outputs": [],
   "source": [
    "import pandas as pd\n",
    "data = pd.read_csv(\"dataset/data.csv\", sep = \";\")"
   ]
  },
  {
   "cell_type": "code",
   "execution_count": 4,
   "id": "loved-genealogy",
   "metadata": {},
   "outputs": [],
   "source": [
    "def preprocess(A, labels):\n",
    "    B = []\n",
    "    labels_new = []\n",
    "    for i in range(len(A)):\n",
    "\n",
    "        text = A[i]\n",
    "        # remove old style retweet text \"RT\"\n",
    "        text = re.sub(r'^RT[\\s]+', '', text)\n",
    "\n",
    "        # remove hyperlinks\n",
    "        text= re.sub(r'https?:\\/\\/.*[\\r\\n]*', '', text)\n",
    "\n",
    "        # remove hashtags\n",
    "        # only removing the hash # sign from the word\n",
    "        text = re.sub(r'#', '', text)\n",
    "\n",
    "        # remove tagging @\n",
    "        text = re.sub(r\"(?:\\@|https?\\://)\\S+\", \"\", text)\n",
    "\n",
    "        # remove new line \\n\n",
    "        text = re.sub(\"\\n\", \"\", text)\n",
    "        \n",
    "        # remove numbers\n",
    "        text = text.replace(\"[0-9]\", \" \")\n",
    "    \n",
    "        # to lower case\n",
    "        text = text.lower()\n",
    "\n",
    "        # remove zero length tweets\n",
    "        if(len(text) == 0 ):\n",
    "            continue\n",
    "\n",
    "        B.append(text)\n",
    "        labels_new.append(labels[i])\n",
    "    return B, labels_new"
   ]
  },
  {
   "cell_type": "code",
   "execution_count": 5,
   "id": "deadly-finnish",
   "metadata": {},
   "outputs": [
    {
     "data": {
      "text/plain": [
       "54395"
      ]
     },
     "execution_count": 5,
     "metadata": {},
     "output_type": "execute_result"
    }
   ],
   "source": [
    "import re\n",
    "texts, labels = preprocess(data[\"text\"], data[\"label\"])\n",
    "len(texts)"
   ]
  },
  {
   "cell_type": "code",
   "execution_count": 6,
   "id": "injured-armor",
   "metadata": {},
   "outputs": [],
   "source": [
    "import spacy_universal_sentence_encoder\n",
    "nlp = spacy_universal_sentence_encoder.load_model('en_use_lg')"
   ]
  },
  {
   "cell_type": "code",
   "execution_count": 7,
   "id": "italic-october",
   "metadata": {},
   "outputs": [
    {
     "data": {
      "text/plain": [
       "array(['abusive', 'abusive', 'abusive', ..., 'toxic', 'toxic', 'toxic'],\n",
       "      dtype='<U12')"
      ]
     },
     "execution_count": 7,
     "metadata": {},
     "output_type": "execute_result"
    }
   ],
   "source": [
    "#ids = np.random.choice(list(range(len(texts))), size = 57581)\n",
    "ids = np.arange(0, len(texts))\n",
    "ids = np.sort(ids)\n",
    "l = np.array(labels)[ids]\n",
    "t = np.array(texts)[ids]\n",
    "ids = np.argsort(l)\n",
    "l = l[ids]\n",
    "t = t[ids].tolist()\n",
    "l"
   ]
  },
  {
   "cell_type": "code",
   "execution_count": 36,
   "id": "structural-china",
   "metadata": {},
   "outputs": [],
   "source": [
    "# get two documents\n",
    "docs = list(nlp.pipe(t))"
   ]
  },
  {
   "cell_type": "code",
   "execution_count": 37,
   "id": "funny-stocks",
   "metadata": {},
   "outputs": [],
   "source": [
    "embeddings = [doc.vector for doc in docs]"
   ]
  },
  {
   "cell_type": "code",
   "execution_count": 39,
   "id": "divided-blind",
   "metadata": {},
   "outputs": [],
   "source": [
    "test = np.array(embeddings)\n",
    "test.shape\n",
    "\n",
    "np.savez_compressed(\"use_embeddings\", embeddings = test)"
   ]
  },
  {
   "cell_type": "code",
   "execution_count": 43,
   "id": "humanitarian-radiation",
   "metadata": {},
   "outputs": [],
   "source": [
    "# sort\n",
    "idx = np.argsort(labels)\n",
    "labels = np.array(labels)[idx]\n",
    "test = test[idx, :]"
   ]
  },
  {
   "cell_type": "code",
   "execution_count": 44,
   "id": "racial-bachelor",
   "metadata": {},
   "outputs": [
    {
     "data": {
      "text/plain": [
       "(57581, 57581)"
      ]
     },
     "execution_count": 44,
     "metadata": {},
     "output_type": "execute_result"
    }
   ],
   "source": [
    "simmat = cosine_similarity(test, test)\n",
    "simmat.shape"
   ]
  },
  {
   "cell_type": "code",
   "execution_count": 45,
   "id": "packed-caution",
   "metadata": {},
   "outputs": [
    {
     "data": {
      "text/plain": [
       "array([    0,  4219,  6558,  6816,  8080,  9829, 11233, 19105, 27549,\n",
       "       28069, 28826, 28966, 32507, 40231, 40709, 57581], dtype=int64)"
      ]
     },
     "execution_count": 45,
     "metadata": {},
     "output_type": "execute_result"
    }
   ],
   "source": [
    "labs, occ = np.unique(labels, return_counts = True)\n",
    "indices = np.cumsum(occ)\n",
    "indices = np.insert(indices, 0, 0)\n",
    "indices"
   ]
  },
  {
   "cell_type": "code",
   "execution_count": 47,
   "id": "comprehensive-melbourne",
   "metadata": {},
   "outputs": [
    {
     "data": {
      "text/plain": [
       "15"
      ]
     },
     "execution_count": 47,
     "metadata": {},
     "output_type": "execute_result"
    }
   ],
   "source": [
    "avgs = []\n",
    "for i in range(len(indices) - 1):\n",
    "    avgs.append(np.mean(test[indices[i]:indices[i+1], :], axis = 0))\n",
    "len(avgs)"
   ]
  },
  {
   "cell_type": "code",
   "execution_count": 48,
   "id": "alleged-primary",
   "metadata": {},
   "outputs": [
    {
     "data": {
      "text/plain": [
       "(15, 15)"
      ]
     },
     "execution_count": 48,
     "metadata": {},
     "output_type": "execute_result"
    }
   ],
   "source": [
    "simmat1 = cosine_similarity(avgs, avgs)\n",
    "simmat1.shape"
   ]
  },
  {
   "cell_type": "code",
   "execution_count": 49,
   "id": "living-audio",
   "metadata": {},
   "outputs": [
    {
     "data": {
      "text/html": [
       "<div>\n",
       "<style scoped>\n",
       "    .dataframe tbody tr th:only-of-type {\n",
       "        vertical-align: middle;\n",
       "    }\n",
       "\n",
       "    .dataframe tbody tr th {\n",
       "        vertical-align: top;\n",
       "    }\n",
       "\n",
       "    .dataframe thead th {\n",
       "        text-align: right;\n",
       "    }\n",
       "</style>\n",
       "<table border=\"1\" class=\"dataframe\">\n",
       "  <thead>\n",
       "    <tr style=\"text-align: right;\">\n",
       "      <th></th>\n",
       "      <th>abusive</th>\n",
       "      <th>benevolent</th>\n",
       "      <th>cyberbulling</th>\n",
       "      <th>hate</th>\n",
       "      <th>hateful</th>\n",
       "      <th>identity</th>\n",
       "      <th>insult</th>\n",
       "      <th>obscene</th>\n",
       "      <th>offensive</th>\n",
       "      <th>profane</th>\n",
       "      <th>racism</th>\n",
       "      <th>sexism</th>\n",
       "      <th>spam</th>\n",
       "      <th>threat</th>\n",
       "      <th>toxic</th>\n",
       "    </tr>\n",
       "  </thead>\n",
       "  <tbody>\n",
       "    <tr>\n",
       "      <th>abusive</th>\n",
       "      <td>1.000000</td>\n",
       "      <td>0.863759</td>\n",
       "      <td>0.852676</td>\n",
       "      <td>0.855484</td>\n",
       "      <td>0.987313</td>\n",
       "      <td>0.852956</td>\n",
       "      <td>0.857996</td>\n",
       "      <td>0.858977</td>\n",
       "      <td>0.855044</td>\n",
       "      <td>0.852152</td>\n",
       "      <td>0.850659</td>\n",
       "      <td>0.857641</td>\n",
       "      <td>0.947325</td>\n",
       "      <td>0.854058</td>\n",
       "      <td>0.907242</td>\n",
       "    </tr>\n",
       "    <tr>\n",
       "      <th>benevolent</th>\n",
       "      <td>0.863759</td>\n",
       "      <td>1.000000</td>\n",
       "      <td>0.989933</td>\n",
       "      <td>0.994255</td>\n",
       "      <td>0.881070</td>\n",
       "      <td>0.989416</td>\n",
       "      <td>0.996368</td>\n",
       "      <td>0.987430</td>\n",
       "      <td>0.991396</td>\n",
       "      <td>0.994001</td>\n",
       "      <td>0.987508</td>\n",
       "      <td>0.996458</td>\n",
       "      <td>0.888386</td>\n",
       "      <td>0.989256</td>\n",
       "      <td>0.871519</td>\n",
       "    </tr>\n",
       "    <tr>\n",
       "      <th>cyberbulling</th>\n",
       "      <td>0.852676</td>\n",
       "      <td>0.989933</td>\n",
       "      <td>1.000000</td>\n",
       "      <td>0.991853</td>\n",
       "      <td>0.873499</td>\n",
       "      <td>0.983540</td>\n",
       "      <td>0.990037</td>\n",
       "      <td>0.979980</td>\n",
       "      <td>0.989444</td>\n",
       "      <td>0.991800</td>\n",
       "      <td>0.976071</td>\n",
       "      <td>0.992833</td>\n",
       "      <td>0.887154</td>\n",
       "      <td>0.983221</td>\n",
       "      <td>0.864918</td>\n",
       "    </tr>\n",
       "    <tr>\n",
       "      <th>hate</th>\n",
       "      <td>0.855484</td>\n",
       "      <td>0.994255</td>\n",
       "      <td>0.991853</td>\n",
       "      <td>1.000000</td>\n",
       "      <td>0.878670</td>\n",
       "      <td>0.990108</td>\n",
       "      <td>0.995146</td>\n",
       "      <td>0.987150</td>\n",
       "      <td>0.994064</td>\n",
       "      <td>0.996145</td>\n",
       "      <td>0.978900</td>\n",
       "      <td>0.997970</td>\n",
       "      <td>0.892703</td>\n",
       "      <td>0.989107</td>\n",
       "      <td>0.865738</td>\n",
       "    </tr>\n",
       "    <tr>\n",
       "      <th>hateful</th>\n",
       "      <td>0.987313</td>\n",
       "      <td>0.881070</td>\n",
       "      <td>0.873499</td>\n",
       "      <td>0.878670</td>\n",
       "      <td>1.000000</td>\n",
       "      <td>0.877288</td>\n",
       "      <td>0.880871</td>\n",
       "      <td>0.883596</td>\n",
       "      <td>0.874452</td>\n",
       "      <td>0.873895</td>\n",
       "      <td>0.867714</td>\n",
       "      <td>0.879465</td>\n",
       "      <td>0.980319</td>\n",
       "      <td>0.875987</td>\n",
       "      <td>0.923669</td>\n",
       "    </tr>\n",
       "    <tr>\n",
       "      <th>identity</th>\n",
       "      <td>0.852956</td>\n",
       "      <td>0.989416</td>\n",
       "      <td>0.983540</td>\n",
       "      <td>0.990108</td>\n",
       "      <td>0.877288</td>\n",
       "      <td>1.000000</td>\n",
       "      <td>0.995741</td>\n",
       "      <td>0.994729</td>\n",
       "      <td>0.986480</td>\n",
       "      <td>0.989518</td>\n",
       "      <td>0.976894</td>\n",
       "      <td>0.991806</td>\n",
       "      <td>0.892088</td>\n",
       "      <td>0.993274</td>\n",
       "      <td>0.875813</td>\n",
       "    </tr>\n",
       "    <tr>\n",
       "      <th>insult</th>\n",
       "      <td>0.857996</td>\n",
       "      <td>0.996368</td>\n",
       "      <td>0.990037</td>\n",
       "      <td>0.995146</td>\n",
       "      <td>0.880871</td>\n",
       "      <td>0.995741</td>\n",
       "      <td>1.000000</td>\n",
       "      <td>0.994169</td>\n",
       "      <td>0.991886</td>\n",
       "      <td>0.993972</td>\n",
       "      <td>0.984447</td>\n",
       "      <td>0.997354</td>\n",
       "      <td>0.895010</td>\n",
       "      <td>0.994015</td>\n",
       "      <td>0.874491</td>\n",
       "    </tr>\n",
       "    <tr>\n",
       "      <th>obscene</th>\n",
       "      <td>0.858977</td>\n",
       "      <td>0.987430</td>\n",
       "      <td>0.979980</td>\n",
       "      <td>0.987150</td>\n",
       "      <td>0.883596</td>\n",
       "      <td>0.994729</td>\n",
       "      <td>0.994169</td>\n",
       "      <td>1.000000</td>\n",
       "      <td>0.981507</td>\n",
       "      <td>0.983710</td>\n",
       "      <td>0.975575</td>\n",
       "      <td>0.988723</td>\n",
       "      <td>0.900079</td>\n",
       "      <td>0.993061</td>\n",
       "      <td>0.895120</td>\n",
       "    </tr>\n",
       "    <tr>\n",
       "      <th>offensive</th>\n",
       "      <td>0.855044</td>\n",
       "      <td>0.991396</td>\n",
       "      <td>0.989444</td>\n",
       "      <td>0.994064</td>\n",
       "      <td>0.874452</td>\n",
       "      <td>0.986480</td>\n",
       "      <td>0.991886</td>\n",
       "      <td>0.981507</td>\n",
       "      <td>1.000000</td>\n",
       "      <td>0.993145</td>\n",
       "      <td>0.975646</td>\n",
       "      <td>0.994866</td>\n",
       "      <td>0.883584</td>\n",
       "      <td>0.986399</td>\n",
       "      <td>0.863147</td>\n",
       "    </tr>\n",
       "    <tr>\n",
       "      <th>profane</th>\n",
       "      <td>0.852152</td>\n",
       "      <td>0.994001</td>\n",
       "      <td>0.991800</td>\n",
       "      <td>0.996145</td>\n",
       "      <td>0.873895</td>\n",
       "      <td>0.989518</td>\n",
       "      <td>0.993972</td>\n",
       "      <td>0.983710</td>\n",
       "      <td>0.993145</td>\n",
       "      <td>1.000000</td>\n",
       "      <td>0.981207</td>\n",
       "      <td>0.996939</td>\n",
       "      <td>0.886115</td>\n",
       "      <td>0.987677</td>\n",
       "      <td>0.863710</td>\n",
       "    </tr>\n",
       "    <tr>\n",
       "      <th>racism</th>\n",
       "      <td>0.850659</td>\n",
       "      <td>0.987508</td>\n",
       "      <td>0.976071</td>\n",
       "      <td>0.978900</td>\n",
       "      <td>0.867714</td>\n",
       "      <td>0.976894</td>\n",
       "      <td>0.984447</td>\n",
       "      <td>0.975575</td>\n",
       "      <td>0.975646</td>\n",
       "      <td>0.981207</td>\n",
       "      <td>1.000000</td>\n",
       "      <td>0.983007</td>\n",
       "      <td>0.878067</td>\n",
       "      <td>0.977124</td>\n",
       "      <td>0.859306</td>\n",
       "    </tr>\n",
       "    <tr>\n",
       "      <th>sexism</th>\n",
       "      <td>0.857641</td>\n",
       "      <td>0.996458</td>\n",
       "      <td>0.992833</td>\n",
       "      <td>0.997970</td>\n",
       "      <td>0.879465</td>\n",
       "      <td>0.991806</td>\n",
       "      <td>0.997354</td>\n",
       "      <td>0.988723</td>\n",
       "      <td>0.994866</td>\n",
       "      <td>0.996939</td>\n",
       "      <td>0.983007</td>\n",
       "      <td>1.000000</td>\n",
       "      <td>0.892403</td>\n",
       "      <td>0.990221</td>\n",
       "      <td>0.870437</td>\n",
       "    </tr>\n",
       "    <tr>\n",
       "      <th>spam</th>\n",
       "      <td>0.947325</td>\n",
       "      <td>0.888386</td>\n",
       "      <td>0.887154</td>\n",
       "      <td>0.892703</td>\n",
       "      <td>0.980318</td>\n",
       "      <td>0.892089</td>\n",
       "      <td>0.895010</td>\n",
       "      <td>0.900079</td>\n",
       "      <td>0.883584</td>\n",
       "      <td>0.886115</td>\n",
       "      <td>0.878067</td>\n",
       "      <td>0.892403</td>\n",
       "      <td>1.000000</td>\n",
       "      <td>0.887948</td>\n",
       "      <td>0.924762</td>\n",
       "    </tr>\n",
       "    <tr>\n",
       "      <th>threat</th>\n",
       "      <td>0.854058</td>\n",
       "      <td>0.989256</td>\n",
       "      <td>0.983221</td>\n",
       "      <td>0.989107</td>\n",
       "      <td>0.875988</td>\n",
       "      <td>0.993274</td>\n",
       "      <td>0.994015</td>\n",
       "      <td>0.993061</td>\n",
       "      <td>0.986399</td>\n",
       "      <td>0.987677</td>\n",
       "      <td>0.977124</td>\n",
       "      <td>0.990221</td>\n",
       "      <td>0.887948</td>\n",
       "      <td>1.000000</td>\n",
       "      <td>0.876565</td>\n",
       "    </tr>\n",
       "    <tr>\n",
       "      <th>toxic</th>\n",
       "      <td>0.907242</td>\n",
       "      <td>0.871519</td>\n",
       "      <td>0.864918</td>\n",
       "      <td>0.865738</td>\n",
       "      <td>0.923670</td>\n",
       "      <td>0.875813</td>\n",
       "      <td>0.874491</td>\n",
       "      <td>0.895120</td>\n",
       "      <td>0.863147</td>\n",
       "      <td>0.863709</td>\n",
       "      <td>0.859306</td>\n",
       "      <td>0.870437</td>\n",
       "      <td>0.924762</td>\n",
       "      <td>0.876565</td>\n",
       "      <td>1.000000</td>\n",
       "    </tr>\n",
       "  </tbody>\n",
       "</table>\n",
       "</div>"
      ],
      "text/plain": [
       "               abusive  benevolent  cyberbulling      hate   hateful  \\\n",
       "abusive       1.000000    0.863759      0.852676  0.855484  0.987313   \n",
       "benevolent    0.863759    1.000000      0.989933  0.994255  0.881070   \n",
       "cyberbulling  0.852676    0.989933      1.000000  0.991853  0.873499   \n",
       "hate          0.855484    0.994255      0.991853  1.000000  0.878670   \n",
       "hateful       0.987313    0.881070      0.873499  0.878670  1.000000   \n",
       "identity      0.852956    0.989416      0.983540  0.990108  0.877288   \n",
       "insult        0.857996    0.996368      0.990037  0.995146  0.880871   \n",
       "obscene       0.858977    0.987430      0.979980  0.987150  0.883596   \n",
       "offensive     0.855044    0.991396      0.989444  0.994064  0.874452   \n",
       "profane       0.852152    0.994001      0.991800  0.996145  0.873895   \n",
       "racism        0.850659    0.987508      0.976071  0.978900  0.867714   \n",
       "sexism        0.857641    0.996458      0.992833  0.997970  0.879465   \n",
       "spam          0.947325    0.888386      0.887154  0.892703  0.980318   \n",
       "threat        0.854058    0.989256      0.983221  0.989107  0.875988   \n",
       "toxic         0.907242    0.871519      0.864918  0.865738  0.923670   \n",
       "\n",
       "              identity    insult   obscene  offensive   profane    racism  \\\n",
       "abusive       0.852956  0.857996  0.858977   0.855044  0.852152  0.850659   \n",
       "benevolent    0.989416  0.996368  0.987430   0.991396  0.994001  0.987508   \n",
       "cyberbulling  0.983540  0.990037  0.979980   0.989444  0.991800  0.976071   \n",
       "hate          0.990108  0.995146  0.987150   0.994064  0.996145  0.978900   \n",
       "hateful       0.877288  0.880871  0.883596   0.874452  0.873895  0.867714   \n",
       "identity      1.000000  0.995741  0.994729   0.986480  0.989518  0.976894   \n",
       "insult        0.995741  1.000000  0.994169   0.991886  0.993972  0.984447   \n",
       "obscene       0.994729  0.994169  1.000000   0.981507  0.983710  0.975575   \n",
       "offensive     0.986480  0.991886  0.981507   1.000000  0.993145  0.975646   \n",
       "profane       0.989518  0.993972  0.983710   0.993145  1.000000  0.981207   \n",
       "racism        0.976894  0.984447  0.975575   0.975646  0.981207  1.000000   \n",
       "sexism        0.991806  0.997354  0.988723   0.994866  0.996939  0.983007   \n",
       "spam          0.892089  0.895010  0.900079   0.883584  0.886115  0.878067   \n",
       "threat        0.993274  0.994015  0.993061   0.986399  0.987677  0.977124   \n",
       "toxic         0.875813  0.874491  0.895120   0.863147  0.863709  0.859306   \n",
       "\n",
       "                sexism      spam    threat     toxic  \n",
       "abusive       0.857641  0.947325  0.854058  0.907242  \n",
       "benevolent    0.996458  0.888386  0.989256  0.871519  \n",
       "cyberbulling  0.992833  0.887154  0.983221  0.864918  \n",
       "hate          0.997970  0.892703  0.989107  0.865738  \n",
       "hateful       0.879465  0.980319  0.875987  0.923669  \n",
       "identity      0.991806  0.892088  0.993274  0.875813  \n",
       "insult        0.997354  0.895010  0.994015  0.874491  \n",
       "obscene       0.988723  0.900079  0.993061  0.895120  \n",
       "offensive     0.994866  0.883584  0.986399  0.863147  \n",
       "profane       0.996939  0.886115  0.987677  0.863710  \n",
       "racism        0.983007  0.878067  0.977124  0.859306  \n",
       "sexism        1.000000  0.892403  0.990221  0.870437  \n",
       "spam          0.892403  1.000000  0.887948  0.924762  \n",
       "threat        0.990221  0.887948  1.000000  0.876565  \n",
       "toxic         0.870437  0.924762  0.876565  1.000000  "
      ]
     },
     "execution_count": 49,
     "metadata": {},
     "output_type": "execute_result"
    }
   ],
   "source": [
    "df = pd.DataFrame(simmat1, columns = labs, index = labs)\n",
    "df"
   ]
  },
  {
   "cell_type": "code",
   "execution_count": 56,
   "id": "protective-poster",
   "metadata": {},
   "outputs": [
    {
     "data": {
      "image/png": "[encoded data removed]",
      "text/plain": [
       "<Figure size 720x720 with 2 Axes>"
      ]
     },
     "metadata": {
      "needs_background": "light"
     },
     "output_type": "display_data"
    }
   ],
   "source": [
    "import seaborn as sns\n",
    "import matplotlib.pyplot as plt\n",
    "fig, ax = plt.subplots(figsize=(10, 10))\n",
    "new_m = np.zeros((len(avgs), len(avgs)))\n",
    "mask = np.triu(np.ones_like(new_m), k = 1)\n",
    "sns.heatmap(df, cmap=\"YlGnBu\", annot = True, mask = mask, ax = ax, vmin = 0, vmax = 1)\n",
    "plt.show()"
   ]
  },
  {
   "cell_type": "code",
   "execution_count": null,
   "id": "premium-rugby",
   "metadata": {},
   "outputs": [],
   "source": []
  }
 ],
 "metadata": {
  "kernelspec": {
   "display_name": "Python [conda env:test1] *",
   "language": "python",
   "name": "conda-env-test1-py"
  },
  "language_info": {
   "codemirror_mode": {
    "name": "ipython",
    "version": 3
   },
   "file_extension": ".py",
   "mimetype": "text/x-python",
   "name": "python",
   "nbconvert_exporter": "python",
   "pygments_lexer": "ipython3",
   "version": "3.7.10"
  }
 },
 "nbformat": 4,
 "nbformat_minor": 5
}
