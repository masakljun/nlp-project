{
 "cells": [
  {
   "cell_type": "markdown",
   "id": "1da3e577",
   "metadata": {},
   "source": [
    "# Universal sentence encoder\n",
    "\n",
    "The structure of this notebook is similar to the structure of BERT notebook. First we preprocess the data, compute the embeddings, and compute the similarities.\n",
    "\n",
    "Note: if you installed the environment from environment.yml, you might need to additionally install *tensorflow_hub* using `pip install tensorflow_hub` if you wish to compute the embeddings manually."
   ]
  },
  {
   "cell_type": "code",
   "execution_count": 1,
   "id": "persistent-precipitation",
   "metadata": {},
   "outputs": [],
   "source": [
    "import tensorflow as tf\n",
    "import numpy as np\n",
    "import os, sys\n",
    "from sklearn.metrics.pairwise import cosine_similarity\n",
    "import seaborn as sns"
   ]
  },
  {
   "cell_type": "code",
   "execution_count": 2,
   "id": "deluxe-saturn",
   "metadata": {},
   "outputs": [],
   "source": [
    "# get cosine similairty matrix\n",
    "def cos_sim(input_vectors):\n",
    "    similarity = cosine_similarity(input_vectors)\n",
    "    return similarity\n",
    "\n",
    "# get topN similar sentences\n",
    "def get_top_similar(sentence, sentence_list, similarity_matrix, topN):\n",
    "    # find the index of sentence in list\n",
    "    index = sentence_list.index(sentence)\n",
    "    # get the corresponding row in similarity matrix\n",
    "    similarity_row = np.array(similarity_matrix[index, :])\n",
    "    # get the indices of top similar\n",
    "    indices = similarity_row.argsort()[-topN:][::-1]\n",
    "    return [sentence_list[i] for i in indices]"
   ]
  },
  {
   "cell_type": "code",
   "execution_count": 3,
   "id": "occasional-worship",
   "metadata": {},
   "outputs": [],
   "source": [
    "import pandas as pd\n",
    "data = pd.read_csv(\"dataset/data.csv\", sep = \";\")"
   ]
  },
  {
   "cell_type": "code",
   "execution_count": 4,
   "id": "loved-genealogy",
   "metadata": {},
   "outputs": [],
   "source": [
    "def preprocess(A, labels):\n",
    "    B = []\n",
    "    labels_new = []\n",
    "    for i in range(len(A)):\n",
    "\n",
    "        text = A[i]\n",
    "        # remove old style retweet text \"RT\"\n",
    "        text = re.sub(r'^RT[\\s]+', '', text)\n",
    "\n",
    "        # remove hyperlinks\n",
    "        text= re.sub(r'https?:\\/\\/.*[\\r\\n]*', '', text)\n",
    "\n",
    "        # remove hashtags\n",
    "        # only removing the hash # sign from the word\n",
    "        text = re.sub(r'#', '', text)\n",
    "\n",
    "        # remove tagging @\n",
    "        text = re.sub(r\"(?:\\@|https?\\://)\\S+\", \"\", text)\n",
    "\n",
    "        # remove new line \\n\n",
    "        text = re.sub(\"\\n\", \"\", text)\n",
    "        \n",
    "        # remove numbers\n",
    "        text = text.replace(\"[0-9]\", \" \")\n",
    "    \n",
    "        # to lower case\n",
    "        text = text.lower()\n",
    "\n",
    "        # remove zero length tweets\n",
    "        if(len(text) == 0 ):\n",
    "            continue\n",
    "\n",
    "        B.append(text)\n",
    "        labels_new.append(labels[i])\n",
    "    return B, labels_new"
   ]
  },
  {
   "cell_type": "code",
   "execution_count": 5,
   "id": "deadly-finnish",
   "metadata": {},
   "outputs": [
    {
     "data": {
      "text/plain": [
       "54395"
      ]
     },
     "execution_count": 5,
     "metadata": {},
     "output_type": "execute_result"
    }
   ],
   "source": [
    "import re\n",
    "texts, labels = preprocess(data[\"text\"], data[\"label\"])\n",
    "len(texts)"
   ]
  },
  {
   "cell_type": "code",
   "execution_count": 6,
   "id": "italic-october",
   "metadata": {},
   "outputs": [
    {
     "data": {
      "text/plain": [
       "array(['abusive', 'abusive', 'abusive', ..., 'toxic', 'toxic', 'toxic'],\n",
       "      dtype='<U12')"
      ]
     },
     "execution_count": 6,
     "metadata": {},
     "output_type": "execute_result"
    }
   ],
   "source": [
    "#ids = np.random.choice(list(range(len(texts))), size = 57581)\n",
    "ids = np.arange(0, len(texts))\n",
    "ids = np.sort(ids)\n",
    "l = np.array(labels)[ids]\n",
    "t = np.array(texts)[ids]\n",
    "ids = np.argsort(l)\n",
    "l = l[ids]\n",
    "t = t[ids].tolist()\n",
    "l"
   ]
  },
  {
   "cell_type": "markdown",
   "id": "atomic-holmes",
   "metadata": {},
   "source": [
    "The next part of code imports the model and computes the embeddings. However, the computation might take a while, so we suggest you to just skip to the **Import embeddings** subsection."
   ]
  },
  {
   "cell_type": "code",
   "execution_count": 6,
   "id": "injured-armor",
   "metadata": {},
   "outputs": [],
   "source": [
    "import tensorflow_hub as hub\n",
    "import spacy_universal_sentence_encoder\n",
    "nlp = spacy_universal_sentence_encoder.load_model('en_use_lg')"
   ]
  },
  {
   "cell_type": "code",
   "execution_count": 36,
   "id": "structural-china",
   "metadata": {},
   "outputs": [],
   "source": [
    "# get two documents\n",
    "docs = list(nlp.pipe(t))"
   ]
  },
  {
   "cell_type": "code",
   "execution_count": 37,
   "id": "funny-stocks",
   "metadata": {},
   "outputs": [],
   "source": [
    "embeddings = [doc.vector for doc in docs]"
   ]
  },
  {
   "cell_type": "code",
   "execution_count": 39,
   "id": "divided-blind",
   "metadata": {},
   "outputs": [],
   "source": [
    "test = np.array(embeddings)\n",
    "test.shape\n",
    "\n",
    "np.savez_compressed(\"use_embeddings\", embeddings = test)"
   ]
  },
  {
   "cell_type": "markdown",
   "id": "inner-mission",
   "metadata": {},
   "source": [
    "## Import embeddings\n",
    "If you wish to run the code without computing the embeddings yourself in the above cells, we provide you with the embeddings. You can download them [here](https://drive.google.com/file/d/1X07gTzFjmrTjguavJFqvd9BrlHi9WxWZ/view?usp=sharing) and put them in the *code* directory."
   ]
  },
  {
   "cell_type": "code",
   "execution_count": 7,
   "id": "italian-laundry",
   "metadata": {},
   "outputs": [
    {
     "name": "stdout",
     "output_type": "stream",
     "text": [
      "[[-0.0248306  -0.02076823 -0.03432957 ... -0.03455509 -0.02371345\n",
      "   0.00155978]\n",
      " [ 0.0182208  -0.00293666  0.03795592 ... -0.03999928 -0.02096456\n",
      "   0.02646431]\n",
      " [-0.05966632  0.07056623 -0.07427562 ...  0.04290533  0.00909936\n",
      "   0.01480398]\n",
      " ...\n",
      " [-0.00337342 -0.04251742  0.00702513 ... -0.05049346  0.03261129\n",
      "   0.05024904]\n",
      " [ 0.05360725 -0.05981196  0.06131688 ... -0.08435661 -0.03101975\n",
      "   0.02740242]\n",
      " [-0.01446245  0.04500685  0.06157331 ...  0.01559918  0.04664094\n",
      "  -0.02969109]]\n"
     ]
    }
   ],
   "source": [
    "test = np.load(\"use_embeddings.npz\")\n",
    "test = test[\"embeddings\"]\n",
    "print(test)"
   ]
  },
  {
   "cell_type": "code",
   "execution_count": 8,
   "id": "humanitarian-radiation",
   "metadata": {},
   "outputs": [],
   "source": [
    "# sort\n",
    "idx = np.argsort(labels)\n",
    "labels = np.array(labels)[idx]\n",
    "test = test[idx, :]"
   ]
  },
  {
   "cell_type": "code",
   "execution_count": 9,
   "id": "racial-bachelor",
   "metadata": {},
   "outputs": [
    {
     "data": {
      "text/plain": [
       "(54395, 54395)"
      ]
     },
     "execution_count": 9,
     "metadata": {},
     "output_type": "execute_result"
    }
   ],
   "source": [
    "simmat = cosine_similarity(test, test)\n",
    "simmat.shape"
   ]
  },
  {
   "cell_type": "code",
   "execution_count": 10,
   "id": "packed-caution",
   "metadata": {},
   "outputs": [
    {
     "data": {
      "text/plain": [
       "array([    0,  4219,  6558,  6816,  8080,  9829, 11233, 19105, 27549,\n",
       "       28069, 28826, 28966, 32507, 40231, 40709, 54395], dtype=int64)"
      ]
     },
     "execution_count": 10,
     "metadata": {},
     "output_type": "execute_result"
    }
   ],
   "source": [
    "labs, occ = np.unique(labels, return_counts = True)\n",
    "indices = np.cumsum(occ)\n",
    "indices = np.insert(indices, 0, 0)\n",
    "indices"
   ]
  },
  {
   "cell_type": "code",
   "execution_count": 11,
   "id": "comprehensive-melbourne",
   "metadata": {},
   "outputs": [
    {
     "data": {
      "text/plain": [
       "15"
      ]
     },
     "execution_count": 11,
     "metadata": {},
     "output_type": "execute_result"
    }
   ],
   "source": [
    "avgs = []\n",
    "for i in range(len(indices) - 1):\n",
    "    avgs.append(np.mean(test[indices[i]:indices[i+1], :], axis = 0))\n",
    "len(avgs)"
   ]
  },
  {
   "cell_type": "code",
   "execution_count": 12,
   "id": "alleged-primary",
   "metadata": {},
   "outputs": [
    {
     "data": {
      "text/plain": [
       "(15, 15)"
      ]
     },
     "execution_count": 12,
     "metadata": {},
     "output_type": "execute_result"
    }
   ],
   "source": [
    "simmat1 = cosine_similarity(avgs, avgs)\n",
    "simmat1.shape"
   ]
  },
  {
   "cell_type": "code",
   "execution_count": 13,
   "id": "living-audio",
   "metadata": {},
   "outputs": [
    {
     "data": {
      "text/html": [
       "<div>\n",
       "<style scoped>\n",
       "    .dataframe tbody tr th:only-of-type {\n",
       "        vertical-align: middle;\n",
       "    }\n",
       "\n",
       "    .dataframe tbody tr th {\n",
       "        vertical-align: top;\n",
       "    }\n",
       "\n",
       "    .dataframe thead th {\n",
       "        text-align: right;\n",
       "    }\n",
       "</style>\n",
       "<table border=\"1\" class=\"dataframe\">\n",
       "  <thead>\n",
       "    <tr style=\"text-align: right;\">\n",
       "      <th></th>\n",
       "      <th>abusive</th>\n",
       "      <th>benevolent</th>\n",
       "      <th>cyberbulling</th>\n",
       "      <th>hate</th>\n",
       "      <th>hateful</th>\n",
       "      <th>identity</th>\n",
       "      <th>insult</th>\n",
       "      <th>obscene</th>\n",
       "      <th>offensive</th>\n",
       "      <th>profane</th>\n",
       "      <th>racism</th>\n",
       "      <th>sexism</th>\n",
       "      <th>spam</th>\n",
       "      <th>threat</th>\n",
       "      <th>toxic</th>\n",
       "    </tr>\n",
       "  </thead>\n",
       "  <tbody>\n",
       "    <tr>\n",
       "      <th>abusive</th>\n",
       "      <td>1.000000</td>\n",
       "      <td>0.863759</td>\n",
       "      <td>0.852676</td>\n",
       "      <td>0.855484</td>\n",
       "      <td>0.987313</td>\n",
       "      <td>0.861411</td>\n",
       "      <td>0.857329</td>\n",
       "      <td>0.850673</td>\n",
       "      <td>0.855044</td>\n",
       "      <td>0.852152</td>\n",
       "      <td>0.850659</td>\n",
       "      <td>0.857641</td>\n",
       "      <td>0.947325</td>\n",
       "      <td>0.840473</td>\n",
       "      <td>0.926139</td>\n",
       "    </tr>\n",
       "    <tr>\n",
       "      <th>benevolent</th>\n",
       "      <td>0.863759</td>\n",
       "      <td>1.000000</td>\n",
       "      <td>0.989933</td>\n",
       "      <td>0.994255</td>\n",
       "      <td>0.881070</td>\n",
       "      <td>0.996347</td>\n",
       "      <td>0.995480</td>\n",
       "      <td>0.916780</td>\n",
       "      <td>0.991396</td>\n",
       "      <td>0.994001</td>\n",
       "      <td>0.987508</td>\n",
       "      <td>0.996458</td>\n",
       "      <td>0.888387</td>\n",
       "      <td>0.985130</td>\n",
       "      <td>0.906888</td>\n",
       "    </tr>\n",
       "    <tr>\n",
       "      <th>cyberbulling</th>\n",
       "      <td>0.852676</td>\n",
       "      <td>0.989933</td>\n",
       "      <td>1.000000</td>\n",
       "      <td>0.991853</td>\n",
       "      <td>0.873499</td>\n",
       "      <td>0.990486</td>\n",
       "      <td>0.988728</td>\n",
       "      <td>0.907281</td>\n",
       "      <td>0.989444</td>\n",
       "      <td>0.991800</td>\n",
       "      <td>0.976071</td>\n",
       "      <td>0.992833</td>\n",
       "      <td>0.887155</td>\n",
       "      <td>0.976175</td>\n",
       "      <td>0.901521</td>\n",
       "    </tr>\n",
       "    <tr>\n",
       "      <th>hate</th>\n",
       "      <td>0.855484</td>\n",
       "      <td>0.994255</td>\n",
       "      <td>0.991853</td>\n",
       "      <td>1.000000</td>\n",
       "      <td>0.878670</td>\n",
       "      <td>0.995477</td>\n",
       "      <td>0.994855</td>\n",
       "      <td>0.913362</td>\n",
       "      <td>0.994064</td>\n",
       "      <td>0.996145</td>\n",
       "      <td>0.978900</td>\n",
       "      <td>0.997970</td>\n",
       "      <td>0.892703</td>\n",
       "      <td>0.982915</td>\n",
       "      <td>0.902119</td>\n",
       "    </tr>\n",
       "    <tr>\n",
       "      <th>hateful</th>\n",
       "      <td>0.987313</td>\n",
       "      <td>0.881070</td>\n",
       "      <td>0.873499</td>\n",
       "      <td>0.878670</td>\n",
       "      <td>1.000000</td>\n",
       "      <td>0.882027</td>\n",
       "      <td>0.880864</td>\n",
       "      <td>0.868607</td>\n",
       "      <td>0.874452</td>\n",
       "      <td>0.873895</td>\n",
       "      <td>0.867714</td>\n",
       "      <td>0.879465</td>\n",
       "      <td>0.980319</td>\n",
       "      <td>0.865717</td>\n",
       "      <td>0.945227</td>\n",
       "    </tr>\n",
       "    <tr>\n",
       "      <th>identity</th>\n",
       "      <td>0.861411</td>\n",
       "      <td>0.996347</td>\n",
       "      <td>0.990486</td>\n",
       "      <td>0.995477</td>\n",
       "      <td>0.882027</td>\n",
       "      <td>1.000000</td>\n",
       "      <td>0.997182</td>\n",
       "      <td>0.919656</td>\n",
       "      <td>0.993448</td>\n",
       "      <td>0.994225</td>\n",
       "      <td>0.984148</td>\n",
       "      <td>0.997549</td>\n",
       "      <td>0.894298</td>\n",
       "      <td>0.985249</td>\n",
       "      <td>0.907653</td>\n",
       "    </tr>\n",
       "    <tr>\n",
       "      <th>insult</th>\n",
       "      <td>0.857329</td>\n",
       "      <td>0.995480</td>\n",
       "      <td>0.988728</td>\n",
       "      <td>0.994855</td>\n",
       "      <td>0.880864</td>\n",
       "      <td>0.997182</td>\n",
       "      <td>1.000000</td>\n",
       "      <td>0.925224</td>\n",
       "      <td>0.990602</td>\n",
       "      <td>0.992889</td>\n",
       "      <td>0.983184</td>\n",
       "      <td>0.996554</td>\n",
       "      <td>0.895401</td>\n",
       "      <td>0.991444</td>\n",
       "      <td>0.910905</td>\n",
       "    </tr>\n",
       "    <tr>\n",
       "      <th>obscene</th>\n",
       "      <td>0.850673</td>\n",
       "      <td>0.916780</td>\n",
       "      <td>0.907281</td>\n",
       "      <td>0.913362</td>\n",
       "      <td>0.868607</td>\n",
       "      <td>0.919656</td>\n",
       "      <td>0.925224</td>\n",
       "      <td>1.000000</td>\n",
       "      <td>0.909702</td>\n",
       "      <td>0.908277</td>\n",
       "      <td>0.905739</td>\n",
       "      <td>0.916271</td>\n",
       "      <td>0.882352</td>\n",
       "      <td>0.919300</td>\n",
       "      <td>0.937869</td>\n",
       "    </tr>\n",
       "    <tr>\n",
       "      <th>offensive</th>\n",
       "      <td>0.855044</td>\n",
       "      <td>0.991396</td>\n",
       "      <td>0.989444</td>\n",
       "      <td>0.994064</td>\n",
       "      <td>0.874452</td>\n",
       "      <td>0.993448</td>\n",
       "      <td>0.990602</td>\n",
       "      <td>0.909702</td>\n",
       "      <td>1.000000</td>\n",
       "      <td>0.993145</td>\n",
       "      <td>0.975646</td>\n",
       "      <td>0.994867</td>\n",
       "      <td>0.883584</td>\n",
       "      <td>0.975937</td>\n",
       "      <td>0.899114</td>\n",
       "    </tr>\n",
       "    <tr>\n",
       "      <th>profane</th>\n",
       "      <td>0.852152</td>\n",
       "      <td>0.994001</td>\n",
       "      <td>0.991800</td>\n",
       "      <td>0.996145</td>\n",
       "      <td>0.873895</td>\n",
       "      <td>0.994225</td>\n",
       "      <td>0.992889</td>\n",
       "      <td>0.908277</td>\n",
       "      <td>0.993145</td>\n",
       "      <td>1.000000</td>\n",
       "      <td>0.981207</td>\n",
       "      <td>0.996939</td>\n",
       "      <td>0.886115</td>\n",
       "      <td>0.981082</td>\n",
       "      <td>0.901041</td>\n",
       "    </tr>\n",
       "    <tr>\n",
       "      <th>racism</th>\n",
       "      <td>0.850659</td>\n",
       "      <td>0.987508</td>\n",
       "      <td>0.976071</td>\n",
       "      <td>0.978900</td>\n",
       "      <td>0.867714</td>\n",
       "      <td>0.984148</td>\n",
       "      <td>0.983184</td>\n",
       "      <td>0.905739</td>\n",
       "      <td>0.975646</td>\n",
       "      <td>0.981207</td>\n",
       "      <td>1.000000</td>\n",
       "      <td>0.983007</td>\n",
       "      <td>0.878067</td>\n",
       "      <td>0.975092</td>\n",
       "      <td>0.894108</td>\n",
       "    </tr>\n",
       "    <tr>\n",
       "      <th>sexism</th>\n",
       "      <td>0.857641</td>\n",
       "      <td>0.996458</td>\n",
       "      <td>0.992833</td>\n",
       "      <td>0.997970</td>\n",
       "      <td>0.879465</td>\n",
       "      <td>0.997549</td>\n",
       "      <td>0.996554</td>\n",
       "      <td>0.916271</td>\n",
       "      <td>0.994867</td>\n",
       "      <td>0.996939</td>\n",
       "      <td>0.983007</td>\n",
       "      <td>1.000000</td>\n",
       "      <td>0.892403</td>\n",
       "      <td>0.984191</td>\n",
       "      <td>0.906572</td>\n",
       "    </tr>\n",
       "    <tr>\n",
       "      <th>spam</th>\n",
       "      <td>0.947325</td>\n",
       "      <td>0.888387</td>\n",
       "      <td>0.887155</td>\n",
       "      <td>0.892703</td>\n",
       "      <td>0.980319</td>\n",
       "      <td>0.894298</td>\n",
       "      <td>0.895401</td>\n",
       "      <td>0.882352</td>\n",
       "      <td>0.883584</td>\n",
       "      <td>0.886115</td>\n",
       "      <td>0.878067</td>\n",
       "      <td>0.892403</td>\n",
       "      <td>1.000000</td>\n",
       "      <td>0.880803</td>\n",
       "      <td>0.946527</td>\n",
       "    </tr>\n",
       "    <tr>\n",
       "      <th>threat</th>\n",
       "      <td>0.840473</td>\n",
       "      <td>0.985130</td>\n",
       "      <td>0.976175</td>\n",
       "      <td>0.982915</td>\n",
       "      <td>0.865717</td>\n",
       "      <td>0.985249</td>\n",
       "      <td>0.991444</td>\n",
       "      <td>0.919300</td>\n",
       "      <td>0.975937</td>\n",
       "      <td>0.981082</td>\n",
       "      <td>0.975092</td>\n",
       "      <td>0.984191</td>\n",
       "      <td>0.880803</td>\n",
       "      <td>1.000000</td>\n",
       "      <td>0.899872</td>\n",
       "    </tr>\n",
       "    <tr>\n",
       "      <th>toxic</th>\n",
       "      <td>0.926139</td>\n",
       "      <td>0.906888</td>\n",
       "      <td>0.901521</td>\n",
       "      <td>0.902119</td>\n",
       "      <td>0.945227</td>\n",
       "      <td>0.907653</td>\n",
       "      <td>0.910905</td>\n",
       "      <td>0.937869</td>\n",
       "      <td>0.899114</td>\n",
       "      <td>0.901041</td>\n",
       "      <td>0.894108</td>\n",
       "      <td>0.906572</td>\n",
       "      <td>0.946527</td>\n",
       "      <td>0.899872</td>\n",
       "      <td>1.000000</td>\n",
       "    </tr>\n",
       "  </tbody>\n",
       "</table>\n",
       "</div>"
      ],
      "text/plain": [
       "               abusive  benevolent  cyberbulling      hate   hateful  \\\n",
       "abusive       1.000000    0.863759      0.852676  0.855484  0.987313   \n",
       "benevolent    0.863759    1.000000      0.989933  0.994255  0.881070   \n",
       "cyberbulling  0.852676    0.989933      1.000000  0.991853  0.873499   \n",
       "hate          0.855484    0.994255      0.991853  1.000000  0.878670   \n",
       "hateful       0.987313    0.881070      0.873499  0.878670  1.000000   \n",
       "identity      0.861411    0.996347      0.990486  0.995477  0.882027   \n",
       "insult        0.857329    0.995480      0.988728  0.994855  0.880864   \n",
       "obscene       0.850673    0.916780      0.907281  0.913362  0.868607   \n",
       "offensive     0.855044    0.991396      0.989444  0.994064  0.874452   \n",
       "profane       0.852152    0.994001      0.991800  0.996145  0.873895   \n",
       "racism        0.850659    0.987508      0.976071  0.978900  0.867714   \n",
       "sexism        0.857641    0.996458      0.992833  0.997970  0.879465   \n",
       "spam          0.947325    0.888387      0.887155  0.892703  0.980319   \n",
       "threat        0.840473    0.985130      0.976175  0.982915  0.865717   \n",
       "toxic         0.926139    0.906888      0.901521  0.902119  0.945227   \n",
       "\n",
       "              identity    insult   obscene  offensive   profane    racism  \\\n",
       "abusive       0.861411  0.857329  0.850673   0.855044  0.852152  0.850659   \n",
       "benevolent    0.996347  0.995480  0.916780   0.991396  0.994001  0.987508   \n",
       "cyberbulling  0.990486  0.988728  0.907281   0.989444  0.991800  0.976071   \n",
       "hate          0.995477  0.994855  0.913362   0.994064  0.996145  0.978900   \n",
       "hateful       0.882027  0.880864  0.868607   0.874452  0.873895  0.867714   \n",
       "identity      1.000000  0.997182  0.919656   0.993448  0.994225  0.984148   \n",
       "insult        0.997182  1.000000  0.925224   0.990602  0.992889  0.983184   \n",
       "obscene       0.919656  0.925224  1.000000   0.909702  0.908277  0.905739   \n",
       "offensive     0.993448  0.990602  0.909702   1.000000  0.993145  0.975646   \n",
       "profane       0.994225  0.992889  0.908277   0.993145  1.000000  0.981207   \n",
       "racism        0.984148  0.983184  0.905739   0.975646  0.981207  1.000000   \n",
       "sexism        0.997549  0.996554  0.916271   0.994867  0.996939  0.983007   \n",
       "spam          0.894298  0.895401  0.882352   0.883584  0.886115  0.878067   \n",
       "threat        0.985249  0.991444  0.919300   0.975937  0.981082  0.975092   \n",
       "toxic         0.907653  0.910905  0.937869   0.899114  0.901041  0.894108   \n",
       "\n",
       "                sexism      spam    threat     toxic  \n",
       "abusive       0.857641  0.947325  0.840473  0.926139  \n",
       "benevolent    0.996458  0.888387  0.985130  0.906888  \n",
       "cyberbulling  0.992833  0.887155  0.976175  0.901521  \n",
       "hate          0.997970  0.892703  0.982915  0.902119  \n",
       "hateful       0.879465  0.980319  0.865717  0.945227  \n",
       "identity      0.997549  0.894298  0.985249  0.907653  \n",
       "insult        0.996554  0.895401  0.991444  0.910905  \n",
       "obscene       0.916271  0.882352  0.919300  0.937869  \n",
       "offensive     0.994867  0.883584  0.975937  0.899114  \n",
       "profane       0.996939  0.886115  0.981082  0.901041  \n",
       "racism        0.983007  0.878067  0.975092  0.894108  \n",
       "sexism        1.000000  0.892403  0.984191  0.906572  \n",
       "spam          0.892403  1.000000  0.880803  0.946527  \n",
       "threat        0.984191  0.880803  1.000000  0.899872  \n",
       "toxic         0.906572  0.946527  0.899872  1.000000  "
      ]
     },
     "execution_count": 13,
     "metadata": {},
     "output_type": "execute_result"
    }
   ],
   "source": [
    "df = pd.DataFrame(simmat1, columns = labs, index = labs)\n",
    "df"
   ]
  },
  {
   "cell_type": "code",
   "execution_count": 14,
   "id": "protective-poster",
   "metadata": {},
   "outputs": [
    {
     "data": {
      "image/png": "[encoded data removed]",
      "text/plain": [
       "<Figure size 720x720 with 2 Axes>"
      ]
     },
     "metadata": {
      "needs_background": "light"
     },
     "output_type": "display_data"
    }
   ],
   "source": [
    "import seaborn as sns\n",
    "import matplotlib.pyplot as plt\n",
    "fig, ax = plt.subplots(figsize=(10, 10))\n",
    "new_m = np.zeros((len(avgs), len(avgs)))\n",
    "mask = np.triu(np.ones_like(new_m), k = 1)\n",
    "sns.heatmap(df, cmap=\"YlGnBu\", annot = True, mask = mask, ax = ax, vmin = 0, vmax = 1)\n",
    "plt.show()"
   ]
  },
  {
   "cell_type": "code",
   "execution_count": null,
   "id": "premium-rugby",
   "metadata": {},
   "outputs": [],
   "source": []
  }
 ],
 "metadata": {
  "kernelspec": {
   "display_name": "Python [conda env:test1] *",
   "language": "python",
   "name": "conda-env-test1-py"
  },
  "language_info": {
   "codemirror_mode": {
    "name": "ipython",
    "version": 3
   },
   "file_extension": ".py",
   "mimetype": "text/x-python",
   "name": "python",
   "nbconvert_exporter": "python",
   "pygments_lexer": "ipython3",
   "version": "3.7.10"
  }
 },
 "nbformat": 4,
 "nbformat_minor": 5
}
