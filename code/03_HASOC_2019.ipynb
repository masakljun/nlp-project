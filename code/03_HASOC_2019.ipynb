{
 "cells": [
  {
   "cell_type": "code",
   "execution_count": 1,
   "id": "vocal-round",
   "metadata": {},
   "outputs": [],
   "source": [
    "import pandas as pd"
   ]
  },
  {
   "cell_type": "code",
   "execution_count": 2,
   "id": "australian-mercury",
   "metadata": {},
   "outputs": [
    {
     "data": {
      "text/html": [
       "<div>\n",
       "<style scoped>\n",
       "    .dataframe tbody tr th:only-of-type {\n",
       "        vertical-align: middle;\n",
       "    }\n",
       "\n",
       "    .dataframe tbody tr th {\n",
       "        vertical-align: top;\n",
       "    }\n",
       "\n",
       "    .dataframe thead th {\n",
       "        text-align: right;\n",
       "    }\n",
       "</style>\n",
       "<table border=\"1\" class=\"dataframe\">\n",
       "  <thead>\n",
       "    <tr style=\"text-align: right;\">\n",
       "      <th></th>\n",
       "      <th>text_id</th>\n",
       "      <th>text</th>\n",
       "      <th>task_1</th>\n",
       "      <th>task_2</th>\n",
       "      <th>task_3</th>\n",
       "    </tr>\n",
       "  </thead>\n",
       "  <tbody>\n",
       "    <tr>\n",
       "      <th>0</th>\n",
       "      <td>hasoc_en_902</td>\n",
       "      <td>West Bengal Doctor Crisis: Protesting doctors ...</td>\n",
       "      <td>NOT</td>\n",
       "      <td>NONE</td>\n",
       "      <td>NONE</td>\n",
       "    </tr>\n",
       "    <tr>\n",
       "      <th>1</th>\n",
       "      <td>hasoc_en_416</td>\n",
       "      <td>68.5 million people have been forced to leave ...</td>\n",
       "      <td>NOT</td>\n",
       "      <td>NONE</td>\n",
       "      <td>NONE</td>\n",
       "    </tr>\n",
       "    <tr>\n",
       "      <th>2</th>\n",
       "      <td>hasoc_en_207</td>\n",
       "      <td>You came, you saw .... we will look after the ...</td>\n",
       "      <td>NOT</td>\n",
       "      <td>NONE</td>\n",
       "      <td>NONE</td>\n",
       "    </tr>\n",
       "    <tr>\n",
       "      <th>3</th>\n",
       "      <td>hasoc_en_595</td>\n",
       "      <td>We'll get Brexit delivered by October 31st.   ...</td>\n",
       "      <td>NOT</td>\n",
       "      <td>NONE</td>\n",
       "      <td>NONE</td>\n",
       "    </tr>\n",
       "    <tr>\n",
       "      <th>4</th>\n",
       "      <td>hasoc_en_568</td>\n",
       "      <td>Fuck you. Go back to the dark ages you cow @IB...</td>\n",
       "      <td>HOF</td>\n",
       "      <td>PRFN</td>\n",
       "      <td>UNT</td>\n",
       "    </tr>\n",
       "  </tbody>\n",
       "</table>\n",
       "</div>"
      ],
      "text/plain": [
       "        text_id                                               text task_1  \\\n",
       "0  hasoc_en_902  West Bengal Doctor Crisis: Protesting doctors ...    NOT   \n",
       "1  hasoc_en_416  68.5 million people have been forced to leave ...    NOT   \n",
       "2  hasoc_en_207  You came, you saw .... we will look after the ...    NOT   \n",
       "3  hasoc_en_595  We'll get Brexit delivered by October 31st.   ...    NOT   \n",
       "4  hasoc_en_568  Fuck you. Go back to the dark ages you cow @IB...    HOF   \n",
       "\n",
       "  task_2 task_3  \n",
       "0   NONE   NONE  \n",
       "1   NONE   NONE  \n",
       "2   NONE   NONE  \n",
       "3   NONE   NONE  \n",
       "4   PRFN    UNT  "
      ]
     },
     "execution_count": 2,
     "metadata": {},
     "output_type": "execute_result"
    }
   ],
   "source": [
    "df1 = pd.read_csv(\"data/hasoc2019_en_train_2919.tsv\", sep='\\t')\n",
    "df1.head()\n",
    "\n",
    "df2 = pd.read_csv(\"data/hasoc2019_en_test-2919.tsv\", sep='\\t')\n",
    "df2.head()"
   ]
  },
  {
   "cell_type": "code",
   "execution_count": 3,
   "id": "above-valuation",
   "metadata": {},
   "outputs": [],
   "source": [
    "hatespeech = list(df1.loc[df1[\"task_2\"] == \"HATE\"][\"text\"].values)\n",
    "hatespeech1 = list(df2.loc[df2[\"task_2\"] == \"HATE\"][\"text\"].values)\n",
    "hatespeech.extend(hatespeech1)"
   ]
  },
  {
   "cell_type": "code",
   "execution_count": 4,
   "id": "structural-pastor",
   "metadata": {},
   "outputs": [],
   "source": [
    "profane = list(df1.loc[df1[\"task_2\"] == \"PRFN\"][\"text\"].values)\n",
    "profane1 = list(df2.loc[df2[\"task_2\"] == \"PRFN\"][\"text\"].values)\n",
    "profane.extend(profane1)"
   ]
  },
  {
   "cell_type": "code",
   "execution_count": 5,
   "id": "removable-survivor",
   "metadata": {},
   "outputs": [],
   "source": [
    "offensive = list(df1.loc[df1[\"task_2\"] == \"OFFN\"][\"text\"].values)\n",
    "offensive1 = list(df2.loc[df2[\"task_2\"] == \"OFFN\"][\"text\"].values)\n",
    "offensive.extend(offensive1)"
   ]
  },
  {
   "cell_type": "code",
   "execution_count": 6,
   "id": "comparable-clearing",
   "metadata": {},
   "outputs": [
    {
     "name": "stdout",
     "output_type": "stream",
     "text": [
      "Lengths - HATE: 1267, OFFN: 522, PRFN: 760\n"
     ]
    }
   ],
   "source": [
    "print(f\"Lengths - HATE: {len(hatespeech)}, OFFN: {len(offensive)}, PRFN: {len(profane)}\")"
   ]
  },
  {
   "cell_type": "code",
   "execution_count": 8,
   "id": "portable-serum",
   "metadata": {},
   "outputs": [
    {
     "name": "stdout",
     "output_type": "stream",
     "text": [
      "2549\n",
      "2549\n"
     ]
    }
   ],
   "source": [
    "labels = [\"hate\"] * len(hatespeech)\n",
    "labels.extend([\"offensive\"] * len(offensive))\n",
    "labels.extend([\"profane\"] * len(profane))\n",
    "\n",
    "\n",
    "texts = hatespeech\n",
    "texts.extend(offensive)\n",
    "texts.extend(profane)\n",
    "print(len(labels))\n",
    "print(len(texts))"
   ]
  },
  {
   "cell_type": "code",
   "execution_count": 11,
   "id": "convinced-bishop",
   "metadata": {},
   "outputs": [],
   "source": [
    "new_df = pd.DataFrame({\"text\": texts, \"label\": labels})\n",
    "new_df.to_csv(\"data/filtered/hatespeech_profane_offensive.csv\", sep = \",\", index = False)"
   ]
  },
  {
   "cell_type": "code",
   "execution_count": 12,
   "id": "basic-heavy",
   "metadata": {},
   "outputs": [
    {
     "data": {
      "text/html": [
       "<div>\n",
       "<style scoped>\n",
       "    .dataframe tbody tr th:only-of-type {\n",
       "        vertical-align: middle;\n",
       "    }\n",
       "\n",
       "    .dataframe tbody tr th {\n",
       "        vertical-align: top;\n",
       "    }\n",
       "\n",
       "    .dataframe thead th {\n",
       "        text-align: right;\n",
       "    }\n",
       "</style>\n",
       "<table border=\"1\" class=\"dataframe\">\n",
       "  <thead>\n",
       "    <tr style=\"text-align: right;\">\n",
       "      <th></th>\n",
       "      <th>text</th>\n",
       "      <th>label</th>\n",
       "    </tr>\n",
       "  </thead>\n",
       "  <tbody>\n",
       "    <tr>\n",
       "      <th>0</th>\n",
       "      <td>@politico No. We should remember very clearly ...</td>\n",
       "      <td>hate</td>\n",
       "    </tr>\n",
       "    <tr>\n",
       "      <th>1</th>\n",
       "      <td>I don’t know how much more I can take! 45 is a...</td>\n",
       "      <td>hate</td>\n",
       "    </tr>\n",
       "    <tr>\n",
       "      <th>2</th>\n",
       "      <td>#ShameOnICC  1. ICC on Dhoni's gloves         ...</td>\n",
       "      <td>hate</td>\n",
       "    </tr>\n",
       "    <tr>\n",
       "      <th>3</th>\n",
       "      <td>Disgusting! And they don’t change their cultur...</td>\n",
       "      <td>hate</td>\n",
       "    </tr>\n",
       "    <tr>\n",
       "      <th>4</th>\n",
       "      <td>@TheRealOJ32 Of all the retired NFL players, w...</td>\n",
       "      <td>hate</td>\n",
       "    </tr>\n",
       "  </tbody>\n",
       "</table>\n",
       "</div>"
      ],
      "text/plain": [
       "                                                text label\n",
       "0  @politico No. We should remember very clearly ...  hate\n",
       "1  I don’t know how much more I can take! 45 is a...  hate\n",
       "2  #ShameOnICC  1. ICC on Dhoni's gloves         ...  hate\n",
       "3  Disgusting! And they don’t change their cultur...  hate\n",
       "4  @TheRealOJ32 Of all the retired NFL players, w...  hate"
      ]
     },
     "execution_count": 12,
     "metadata": {},
     "output_type": "execute_result"
    }
   ],
   "source": [
    "test = pd.read_csv(\"data/filtered/hatespeech_profane_offensive.csv\")\n",
    "test.head()"
   ]
  },
  {
   "cell_type": "code",
   "execution_count": null,
   "id": "forbidden-limit",
   "metadata": {},
   "outputs": [],
   "source": []
  }
 ],
 "metadata": {
  "kernelspec": {
   "display_name": "Python [conda env:.conda-nlp] *",
   "language": "python",
   "name": "conda-env-.conda-nlp-py"
  },
  "language_info": {
   "codemirror_mode": {
    "name": "ipython",
    "version": 3
   },
   "file_extension": ".py",
   "mimetype": "text/x-python",
   "name": "python",
   "nbconvert_exporter": "python",
   "pygments_lexer": "ipython3",
   "version": "3.8.8"
  }
 },
 "nbformat": 4,
 "nbformat_minor": 5
}
