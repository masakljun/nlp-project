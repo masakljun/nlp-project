{
 "cells": [
  {
   "cell_type": "markdown",
   "id": "48fa7c9e",
   "metadata": {},
   "source": [
    "# Further analysis of BERT\n",
    "\n",
    "This notebook is not tested and not guaranteed it will work for you. Though the structure is similar to 07_BERT_embeddings notebook, the results of this notebook are not used anywhere, so this notebook is also not documented."
   ]
  },
  {
   "cell_type": "code",
   "execution_count": 1,
   "id": "c71aaa06",
   "metadata": {},
   "outputs": [],
   "source": [
    "import pandas as pd\n",
    "import matplotlib.pyplot as plt\n",
    "import re\n",
    "import numpy as np"
   ]
  },
  {
   "cell_type": "code",
   "execution_count": 2,
   "id": "6f371773",
   "metadata": {},
   "outputs": [],
   "source": [
    "from transformers import (BertModel, \n",
    "                          BertTokenizer)\n",
    "\n",
    "from tqdm.notebook import tqdm"
   ]
  },
  {
   "cell_type": "markdown",
   "id": "b3155610",
   "metadata": {},
   "source": [
    "Read the data"
   ]
  },
  {
   "cell_type": "code",
   "execution_count": 3,
   "id": "f64fe0ed",
   "metadata": {},
   "outputs": [
    {
     "data": {
      "text/html": [
       "<div>\n",
       "<style scoped>\n",
       "    .dataframe tbody tr th:only-of-type {\n",
       "        vertical-align: middle;\n",
       "    }\n",
       "\n",
       "    .dataframe tbody tr th {\n",
       "        vertical-align: top;\n",
       "    }\n",
       "\n",
       "    .dataframe thead th {\n",
       "        text-align: right;\n",
       "    }\n",
       "</style>\n",
       "<table border=\"1\" class=\"dataframe\">\n",
       "  <thead>\n",
       "    <tr style=\"text-align: right;\">\n",
       "      <th></th>\n",
       "      <th>text</th>\n",
       "      <th>label</th>\n",
       "    </tr>\n",
       "  </thead>\n",
       "  <tbody>\n",
       "    <tr>\n",
       "      <th>0</th>\n",
       "      <td>fucks sake go away stupid anon — ^  https://t....</td>\n",
       "      <td>abusive</td>\n",
       "    </tr>\n",
       "    <tr>\n",
       "      <th>1</th>\n",
       "      <td>Damn dean just put Corbin to sleep. That Match...</td>\n",
       "      <td>abusive</td>\n",
       "    </tr>\n",
       "    <tr>\n",
       "      <th>2</th>\n",
       "      <td>@TheRealCamerota THAT BEER BUYING FREAKING IDI...</td>\n",
       "      <td>abusive</td>\n",
       "    </tr>\n",
       "    <tr>\n",
       "      <th>3</th>\n",
       "      <td>what idiot called them antacids and not afterb...</td>\n",
       "      <td>abusive</td>\n",
       "    </tr>\n",
       "    <tr>\n",
       "      <th>4</th>\n",
       "      <td>RT @gogglepossum: Don't you hate people that p...</td>\n",
       "      <td>abusive</td>\n",
       "    </tr>\n",
       "  </tbody>\n",
       "</table>\n",
       "</div>"
      ],
      "text/plain": [
       "                                                text    label\n",
       "0  fucks sake go away stupid anon — ^  https://t....  abusive\n",
       "1  Damn dean just put Corbin to sleep. That Match...  abusive\n",
       "2  @TheRealCamerota THAT BEER BUYING FREAKING IDI...  abusive\n",
       "3  what idiot called them antacids and not afterb...  abusive\n",
       "4  RT @gogglepossum: Don't you hate people that p...  abusive"
      ]
     },
     "execution_count": 3,
     "metadata": {},
     "output_type": "execute_result"
    }
   ],
   "source": [
    "data = pd.read_csv(\"dataset/data.csv\", sep = \";\")\n",
    "data.head()"
   ]
  },
  {
   "cell_type": "code",
   "execution_count": 4,
   "id": "955c2f62",
   "metadata": {},
   "outputs": [
    {
     "data": {
      "text/html": [
       "<div>\n",
       "<style scoped>\n",
       "    .dataframe tbody tr th:only-of-type {\n",
       "        vertical-align: middle;\n",
       "    }\n",
       "\n",
       "    .dataframe tbody tr th {\n",
       "        vertical-align: top;\n",
       "    }\n",
       "\n",
       "    .dataframe thead th {\n",
       "        text-align: right;\n",
       "    }\n",
       "</style>\n",
       "<table border=\"1\" class=\"dataframe\">\n",
       "  <thead>\n",
       "    <tr style=\"text-align: right;\">\n",
       "      <th></th>\n",
       "      <th>text</th>\n",
       "      <th>label</th>\n",
       "    </tr>\n",
       "  </thead>\n",
       "  <tbody>\n",
       "    <tr>\n",
       "      <th>0</th>\n",
       "      <td>fucks sake go away stupid anon — ^  https://t....</td>\n",
       "      <td>abusive</td>\n",
       "    </tr>\n",
       "    <tr>\n",
       "      <th>1</th>\n",
       "      <td>Damn dean just put Corbin to sleep. That Match...</td>\n",
       "      <td>abusive</td>\n",
       "    </tr>\n",
       "    <tr>\n",
       "      <th>2</th>\n",
       "      <td>@TheRealCamerota THAT BEER BUYING FREAKING IDI...</td>\n",
       "      <td>abusive</td>\n",
       "    </tr>\n",
       "    <tr>\n",
       "      <th>3</th>\n",
       "      <td>what idiot called them antacids and not afterb...</td>\n",
       "      <td>abusive</td>\n",
       "    </tr>\n",
       "    <tr>\n",
       "      <th>4</th>\n",
       "      <td>RT @gogglepossum: Don't you hate people that p...</td>\n",
       "      <td>abusive</td>\n",
       "    </tr>\n",
       "    <tr>\n",
       "      <th>...</th>\n",
       "      <td>...</td>\n",
       "      <td>...</td>\n",
       "    </tr>\n",
       "    <tr>\n",
       "      <th>44752</th>\n",
       "      <td>Fat piece of shit you obese piece of shit. I t...</td>\n",
       "      <td>obscene</td>\n",
       "    </tr>\n",
       "    <tr>\n",
       "      <th>44753</th>\n",
       "      <td>FUCKING FAGGOT LOLWAT.</td>\n",
       "      <td>obscene</td>\n",
       "    </tr>\n",
       "    <tr>\n",
       "      <th>44754</th>\n",
       "      <td>\" our previous conversation you fucking shit e...</td>\n",
       "      <td>obscene</td>\n",
       "    </tr>\n",
       "    <tr>\n",
       "      <th>44755</th>\n",
       "      <td>Your absurd edits Your absurd edits on great w...</td>\n",
       "      <td>obscene</td>\n",
       "    </tr>\n",
       "    <tr>\n",
       "      <th>44756</th>\n",
       "      <td>and i'm going to keep posting the stuff u dele...</td>\n",
       "      <td>obscene</td>\n",
       "    </tr>\n",
       "  </tbody>\n",
       "</table>\n",
       "<p>13436 rows × 2 columns</p>\n",
       "</div>"
      ],
      "text/plain": [
       "                                                    text    label\n",
       "0      fucks sake go away stupid anon — ^  https://t....  abusive\n",
       "1      Damn dean just put Corbin to sleep. That Match...  abusive\n",
       "2      @TheRealCamerota THAT BEER BUYING FREAKING IDI...  abusive\n",
       "3      what idiot called them antacids and not afterb...  abusive\n",
       "4      RT @gogglepossum: Don't you hate people that p...  abusive\n",
       "...                                                  ...      ...\n",
       "44752  Fat piece of shit you obese piece of shit. I t...  obscene\n",
       "44753                             FUCKING FAGGOT LOLWAT.  obscene\n",
       "44754  \" our previous conversation you fucking shit e...  obscene\n",
       "44755  Your absurd edits Your absurd edits on great w...  obscene\n",
       "44756  and i'm going to keep posting the stuff u dele...  obscene\n",
       "\n",
       "[13436 rows x 2 columns]"
      ]
     },
     "execution_count": 4,
     "metadata": {},
     "output_type": "execute_result"
    }
   ],
   "source": [
    "sel = [\"vulgar\", \"profane\", \"obscene\", \"abusive\"]\n",
    "data = data[data[\"label\"].isin(sel)]\n",
    "data"
   ]
  },
  {
   "cell_type": "markdown",
   "id": "9776a99a",
   "metadata": {},
   "source": [
    "Preprocess the dataset"
   ]
  },
  {
   "cell_type": "code",
   "execution_count": 5,
   "id": "7ee40b88",
   "metadata": {},
   "outputs": [],
   "source": [
    "def preprocess(A, labels):\n",
    "    B = []\n",
    "    labels_new = []\n",
    "    for i in range(len(A)):\n",
    "\n",
    "        text = A[i]\n",
    "        # remove old style retweet text \"RT\"\n",
    "        text = re.sub(r'^RT[\\s]+', '', text)\n",
    "\n",
    "        # remove hyperlinks\n",
    "        text= re.sub(r'https?:\\/\\/.*[\\r\\n]*', '', text)\n",
    "\n",
    "        # remove hashtags\n",
    "        # only removing the hash # sign from the word\n",
    "        text = re.sub(r'#', '', text)\n",
    "\n",
    "        # remove tagging @\n",
    "        text = re.sub(r\"(?:\\@|https?\\://)\\S+\", \"\", text)\n",
    "\n",
    "        # remove new line \\n\n",
    "        text = re.sub(\"\\n\", \"\", text)\n",
    "        \n",
    "        # remove numbers\n",
    "        text = text.replace(\"[0-9]\", \" \")\n",
    "    \n",
    "        # to lower case\n",
    "        text = text.lower()\n",
    "\n",
    "        # remove zero length tweets\n",
    "        if(len(text) == 0 ):\n",
    "            continue\n",
    "\n",
    "        B.append(text)\n",
    "        labels_new.append(labels[i])\n",
    "    return B, labels_new"
   ]
  },
  {
   "cell_type": "code",
   "execution_count": 6,
   "id": "7f661323",
   "metadata": {},
   "outputs": [
    {
     "data": {
      "text/plain": [
       "13420"
      ]
     },
     "execution_count": 6,
     "metadata": {},
     "output_type": "execute_result"
    }
   ],
   "source": [
    "texts, labels = preprocess(data[\"text\"].tolist(), data[\"label\"].tolist())\n",
    "len(texts)"
   ]
  },
  {
   "cell_type": "code",
   "execution_count": 7,
   "id": "aa9add12",
   "metadata": {},
   "outputs": [
    {
     "name": "stderr",
     "output_type": "stream",
     "text": [
      "Some weights of the model checkpoint at bert-base-cased were not used when initializing BertModel: ['cls.seq_relationship.weight', 'cls.predictions.transform.dense.weight', 'cls.seq_relationship.bias', 'cls.predictions.transform.LayerNorm.bias', 'cls.predictions.decoder.weight', 'cls.predictions.bias', 'cls.predictions.transform.LayerNorm.weight', 'cls.predictions.transform.dense.bias']\n",
      "- This IS expected if you are initializing BertModel from the checkpoint of a model trained on another task or with another architecture (e.g. initializing a BertForSequenceClassification model from a BertForPreTraining model).\n",
      "- This IS NOT expected if you are initializing BertModel from the checkpoint of a model that you expect to be exactly identical (initializing a BertForSequenceClassification model from a BertForSequenceClassification model).\n"
     ]
    }
   ],
   "source": [
    "bert_model = BertModel.from_pretrained(\"bert-base-cased\", output_hidden_states = True)"
   ]
  },
  {
   "cell_type": "code",
   "execution_count": 8,
   "id": "3c1bb842",
   "metadata": {},
   "outputs": [],
   "source": [
    "bert_tokenizer = BertTokenizer.from_pretrained(\"bert-base-cased\")"
   ]
  },
  {
   "cell_type": "code",
   "execution_count": 9,
   "id": "1daae22e",
   "metadata": {},
   "outputs": [
    {
     "name": "stdout",
     "output_type": "stream",
     "text": [
      "6\n"
     ]
    },
    {
     "data": {
      "text/plain": [
       "{'abusive': ['-', 'This', 'is', 'abusive'],\n",
       " 'profane': ['-', 'This', 'is', 'pro', '##fan', '##e'],\n",
       " 'obscene': ['-', 'This', 'is', 'o', '##bs', '##cene']}"
      ]
     },
     "execution_count": 9,
     "metadata": {},
     "output_type": "execute_result"
    }
   ],
   "source": [
    "tokenized_labels = dict()\n",
    "max_length = 0\n",
    "for label in list(set(labels)):\n",
    "    tokenized_labels[label] = bert_tokenizer.tokenize(f\" - This is {label}\")\n",
    "    if len(tokenized_labels[label]) > max_length:\n",
    "        max_length = len(tokenized_labels[label])\n",
    "\n",
    "    \n",
    "print(max_length)\n",
    "tokenized_labels\n",
    "    \n"
   ]
  },
  {
   "cell_type": "code",
   "execution_count": 10,
   "id": "0e6b6f6f",
   "metadata": {},
   "outputs": [
    {
     "data": {
      "text/plain": [
       "{'abusive': 1, 'profane': 3, 'obscene': 3}"
      ]
     },
     "execution_count": 10,
     "metadata": {},
     "output_type": "execute_result"
    }
   ],
   "source": [
    "tokenized_labels_lengths = dict()\n",
    "for label in list(set(labels)):\n",
    "    tokenized_labels_lengths[label] = len(tokenized_labels[label][3:])\n",
    "    \n",
    "tokenized_labels_lengths"
   ]
  },
  {
   "cell_type": "code",
   "execution_count": 11,
   "id": "b1dd2f0e",
   "metadata": {},
   "outputs": [],
   "source": [
    "texts_new = []\n",
    "for i, text in enumerate(texts):\n",
    "    texts_new.append(f\"{text} - This is {labels[i]}\")"
   ]
  },
  {
   "cell_type": "code",
   "execution_count": 12,
   "id": "9a3cebcf",
   "metadata": {},
   "outputs": [
    {
     "data": {
      "text/plain": [
       "['fucks sake go away stupid anon — ^   - This is abusive',\n",
       " 'damn dean just put corbin to sleep. that match also showed why it was on pre show. boring as fuck - This is abusive',\n",
       " ' that beer buying freaking idiot thinks trump leaked it to nail rice? are you kidding? and sacrifice flynn. mud is appropo - This is abusive',\n",
       " 'what idiot called them antacids and not afterburners - This is abusive',\n",
       " \" don't you hate people that put salt on their bag of dicks before even trying them? - This is abusive\",\n",
       " 'you worried about somebody bein ugly... bitch you ugly... - This is abusive',\n",
       " 'holy crap!! the biggest assclown of a mayor on  pulling race card!! get his ass outta office!!! draintheswamp - This is abusive',\n",
       " ' i just want to cry so fucking bad look at them  - This is abusive',\n",
       " 'yooooo vans got these sick ass velvet oxblood slip onnnnssssss 💦💦💦💦👅👅👅👅 - This is abusive',\n",
       " ' disgusting. insulting. parks are not a charity. give them a fucking budget, asshole.  theresistance… - This is abusive']"
      ]
     },
     "execution_count": 12,
     "metadata": {},
     "output_type": "execute_result"
    }
   ],
   "source": [
    "texts_new[0:10]"
   ]
  },
  {
   "cell_type": "markdown",
   "id": "d5ed2dc6",
   "metadata": {},
   "source": [
    "How many sequences are too long to add the label sentence?"
   ]
  },
  {
   "cell_type": "code",
   "execution_count": 13,
   "id": "48da9e5e",
   "metadata": {},
   "outputs": [],
   "source": [
    "pad_token=0\n",
    "pad_token_segment_id=0\n",
    "max_length=512\n",
    "\n",
    "def convert_to_input(reviews):\n",
    "  input_ids,attention_masks,token_type_ids, nums=[],[],[],[]\n",
    "  \n",
    "  for x in tqdm(reviews,position=0, leave=True):\n",
    "    inputs = bert_tokenizer.encode_plus(x,add_special_tokens=True, max_length=max_length, return_overflowing_tokens=True)\n",
    "    \n",
    "    i, t, num = inputs[\"input_ids\"], inputs[\"token_type_ids\"], inputs[\"num_truncated_tokens\"]\n",
    "    m = [1] * len(i)\n",
    "            \n",
    "    padding_length = max_length - len(i)\n",
    "\n",
    "    i = i + ([pad_token] * padding_length)\n",
    "    m = m + ([0] * padding_length)\n",
    "    t = t + ([pad_token_segment_id] * padding_length)\n",
    "    \n",
    "    input_ids.append(i)\n",
    "    attention_masks.append(m)\n",
    "    token_type_ids.append(t)\n",
    "    nums.append(num)\n",
    "  \n",
    "  return [np.asarray(input_ids), \n",
    "            np.asarray(attention_masks), \n",
    "            np.asarray(token_type_ids),\n",
    "            np.asarray(nums)]"
   ]
  },
  {
   "cell_type": "code",
   "execution_count": 14,
   "id": "698b9832",
   "metadata": {},
   "outputs": [
    {
     "data": {
      "application/vnd.jupyter.widget-view+json": {
       "model_id": "46dd535cdbd64dbeb05fdf67191affa3",
       "version_major": 2,
       "version_minor": 0
      },
      "text/plain": [
       "  0%|          | 0/13420 [00:00<?, ?it/s]"
      ]
     },
     "metadata": {},
     "output_type": "display_data"
    },
    {
     "name": "stderr",
     "output_type": "stream",
     "text": [
      "Truncation was not explicitly activated but `max_length` is provided a specific value, please use `truncation=True` to explicitly truncate examples to max length. Defaulting to 'longest_first' truncation strategy. If you encode pairs of sequences (GLUE-style) with the tokenizer you can select this strategy more precisely by providing a specific strategy to `truncation`.\n"
     ]
    }
   ],
   "source": [
    "test = convert_to_input(texts)"
   ]
  },
  {
   "cell_type": "markdown",
   "id": "1f16a3bc",
   "metadata": {},
   "source": [
    "Remove truncated sentences as we lose the labes"
   ]
  },
  {
   "cell_type": "code",
   "execution_count": 15,
   "id": "7ed01719",
   "metadata": {},
   "outputs": [],
   "source": [
    "idx = np.array(test[3]) <= 0"
   ]
  },
  {
   "cell_type": "code",
   "execution_count": 16,
   "id": "38a01f28",
   "metadata": {},
   "outputs": [
    {
     "data": {
      "text/plain": [
       "(3, 13221, 512)"
      ]
     },
     "execution_count": 16,
     "metadata": {},
     "output_type": "execute_result"
    }
   ],
   "source": [
    "inputs = np.array(test[0:3])\n",
    "inputs = inputs[:, idx, :]\n",
    "inputs.shape"
   ]
  },
  {
   "cell_type": "code",
   "execution_count": 17,
   "id": "a4b5f86a",
   "metadata": {},
   "outputs": [
    {
     "data": {
      "text/plain": [
       "13221"
      ]
     },
     "execution_count": 17,
     "metadata": {},
     "output_type": "execute_result"
    }
   ],
   "source": [
    "labels = np.array(labels)\n",
    "labels = labels[idx]\n",
    "len(labels)"
   ]
  },
  {
   "cell_type": "code",
   "execution_count": 3,
   "id": "3b3e4363",
   "metadata": {},
   "outputs": [],
   "source": []
  },
  {
   "cell_type": "code",
   "execution_count": null,
   "id": "fb478c48",
   "metadata": {},
   "outputs": [],
   "source": []
  },
  {
   "cell_type": "code",
   "execution_count": 18,
   "id": "9cff4582",
   "metadata": {},
   "outputs": [
    {
     "data": {
      "application/vnd.jupyter.widget-view+json": {
       "model_id": "23b47a653ea94f6395a4de5197446a7a",
       "version_major": 2,
       "version_minor": 0
      },
      "text/plain": [
       "  0%|          | 0/13221 [00:00<?, ?it/s]"
      ]
     },
     "metadata": {},
     "output_type": "display_data"
    },
    {
     "name": "stderr",
     "output_type": "stream",
     "text": [
      "C:\\Users\\matij\\anaconda3\\envs\\nlp-test\\lib\\site-packages\\numpy\\core\\fromnumeric.py:3373: RuntimeWarning: Mean of empty slice.\n",
      "  out=out, **kwargs)\n",
      "C:\\Users\\matij\\anaconda3\\envs\\nlp-test\\lib\\site-packages\\numpy\\core\\_methods.py:163: RuntimeWarning: invalid value encountered in true_divide\n",
      "  ret, rcount, out=ret, casting='unsafe', subok=False)\n"
     ]
    }
   ],
   "source": [
    "#token_embeddings = torch.stack(hidden_states, dim=0)\n",
    "import tensorflow as tf\n",
    "import torch\n",
    "\n",
    "embeddings = []\n",
    "\n",
    "bert_model = bert_model.to(\"cuda\")\n",
    "for j in tqdm(range(inputs.shape[1])):\n",
    "#with torch.no_grad():\n",
    "    inputs1 = torch.tensor(inputs[:,j,:])\n",
    "    inputs1 = inputs1.to(\"cuda\")\n",
    "    inputs1 = inputs1.long()\n",
    "\n",
    "    output = bert_model(inputs1)\n",
    "    hidden_states = output.hidden_states\n",
    "\n",
    "    token_embeddings = torch.stack(hidden_states, dim= 0)[:, 0, :, :]\n",
    "    token_embeddings = token_embeddings.cpu()\n",
    "\n",
    "    tokens = []\n",
    "    \n",
    "    # obtain location of the label tokens\n",
    "    last = sum(inputs[1,j,:]) - 1 # -1 to exclude the [SEP] symbol\n",
    "    first = last - tokenized_labels_lengths[labels[j]]\n",
    "    \n",
    "    # get embeddings by summing last 4 layers\n",
    "    for i in range(token_embeddings.shape[1]):\n",
    "        tokens.append(np.sum(token_embeddings[-4:, i, :].detach().numpy(), axis = 0))\n",
    "    \n",
    "    # after obtaining embeddings for 512 tokens, average those that belong to label\n",
    "    tokens = np.array(tokens)\n",
    "    tokens = tokens[first:last, :]\n",
    "    tokens = np.mean(tokens, axis = 0)\n",
    "    embeddings.append(tokens)"
   ]
  },
  {
   "cell_type": "code",
   "execution_count": 39,
   "id": "213eefec",
   "metadata": {},
   "outputs": [
    {
     "data": {
      "text/plain": [
       "(13221, 768)"
      ]
     },
     "execution_count": 39,
     "metadata": {},
     "output_type": "execute_result"
    }
   ],
   "source": [
    "test = np.array(embeddings)\n",
    "test.shape"
   ]
  },
  {
   "cell_type": "code",
   "execution_count": 40,
   "id": "98d4f669",
   "metadata": {},
   "outputs": [],
   "source": [
    "#np.savez_compressed(\"embeddings\", embeddings=test)"
   ]
  },
  {
   "cell_type": "markdown",
   "id": "62686153",
   "metadata": {},
   "source": [
    "Import the model"
   ]
  },
  {
   "cell_type": "code",
   "execution_count": 41,
   "id": "f7022cd4",
   "metadata": {},
   "outputs": [],
   "source": [
    "#test = np.load(\"embeddings.npz\")\n",
    "#test = test[\"embeddings\"]\n",
    "#from sentence_transformers import SentenceTransformer\n",
    "#model = SentenceTransformer('bert-base-nli-mean-tokens', 'cuda')\n",
    "\n",
    "#model = SentenceTransformer('distilbert-base-nli-mean-tokens', \"cuda\")\n",
    "\n",
    "#model.max_seq_length = 512"
   ]
  },
  {
   "cell_type": "code",
   "execution_count": 42,
   "id": "dbf11b59",
   "metadata": {},
   "outputs": [],
   "source": [
    "#ids = np.random.choice(list(range(len(texts))), size = 57581)\n",
    "#ids = np.arange(0, len(labels))\n",
    "#ids = np.sort(ids)\n",
    "#l = np.array(labels)[ids]\n",
    "#t = np.array(texts)[ids]\n",
    "#ids = np.argsort(l)\n",
    "#l = l[ids]\n",
    "#t = t[ids]\n",
    "#l\n",
    "idx = np.argsort(labels)\n",
    "labels = labels[idx]\n",
    "sentence_embeddings = test[idx, :]"
   ]
  },
  {
   "cell_type": "code",
   "execution_count": 43,
   "id": "557ba67d",
   "metadata": {},
   "outputs": [],
   "source": [
    "#texts"
   ]
  },
  {
   "cell_type": "code",
   "execution_count": 44,
   "id": "d33680bb",
   "metadata": {},
   "outputs": [
    {
     "name": "stdout",
     "output_type": "stream",
     "text": [
      "[[-4.593318   -5.7181816  -0.5780396  ... -5.6984506   0.8760278\n",
      "   4.9951053 ]\n",
      " [-0.24070968 -9.172941   -1.3749347  ... -7.2372622  -0.27863434\n",
      "  -1.1878853 ]\n",
      " [ 1.4915609  -5.2982073  -0.43185684 ... -7.1250105   1.7600458\n",
      "   0.17899188]\n",
      " ...\n",
      " [-1.4070283  -5.2441783   0.9575899  ... -6.3583694   0.3097835\n",
      "   4.903381  ]\n",
      " [ 0.35112634  1.4694649  -0.8964603  ... -1.7242912   1.1959769\n",
      "   2.736201  ]\n",
      " [-2.187752   -2.1805997  -1.2442788  ... -6.0393767   0.20209129\n",
      "   1.3893461 ]]\n"
     ]
    }
   ],
   "source": [
    "#sentences = ['This framework generates embeddings for each input sentence',\n",
    "#    'Sentences are passed as a list of string.', \n",
    "#    'The quick brown fox jumps over the lazy dog.']\n",
    "#sentence_embeddings = model.encode(t, show_progress_bar = True)\n",
    "#\n",
    "#print(\"Sentence embeddings:\")\n",
    "#print(sentence_embeddings)\n",
    "print(sentence_embeddings)"
   ]
  },
  {
   "cell_type": "code",
   "execution_count": 45,
   "id": "4c958aa0",
   "metadata": {},
   "outputs": [],
   "source": [
    "idx = np.isnan(sentence_embeddings).any(axis = 1)\n",
    "sentence_embeddings = sentence_embeddings[~idx]\n",
    "labels = labels[~idx]"
   ]
  },
  {
   "cell_type": "code",
   "execution_count": 46,
   "id": "2aa84b10",
   "metadata": {},
   "outputs": [
    {
     "name": "stdout",
     "output_type": "stream",
     "text": [
      "(13215, 13215)\n"
     ]
    }
   ],
   "source": [
    "from sklearn.metrics.pairwise import cosine_similarity\n",
    "import numpy as np\n",
    "\n",
    "# calculate distance between every embedding pair\n",
    "sim_mat = cosine_similarity(sentence_embeddings, sentence_embeddings)\n",
    "#df['sim_score'] = sim_mat[sentence_id]\n",
    "print(sim_mat.shape)"
   ]
  },
  {
   "cell_type": "code",
   "execution_count": 47,
   "id": "4b7a601b",
   "metadata": {},
   "outputs": [],
   "source": [
    "#fig, ax = plt.subplots(figsize=(20,20))\n",
    "#cax = ax.matshow(sim_mat, interpolation='nearest',cmap=plt.get_cmap(\"PiYG\", 7))\n",
    "#plt.show()"
   ]
  },
  {
   "cell_type": "code",
   "execution_count": 48,
   "id": "37720ef9",
   "metadata": {},
   "outputs": [],
   "source": [
    "#test = np.array(labels)[ids]\n",
    "#test[380]"
   ]
  },
  {
   "cell_type": "code",
   "execution_count": 49,
   "id": "d8db7240",
   "metadata": {},
   "outputs": [],
   "source": [
    "l = labels"
   ]
  },
  {
   "cell_type": "code",
   "execution_count": 50,
   "id": "dab5c49e",
   "metadata": {},
   "outputs": [],
   "source": [
    "score = {}\n",
    "for i in range(len(l)):\n",
    "    x = score.get(l[i])\n",
    "    if x is None:\n",
    "        x = []\n",
    "    x.append(sim_mat[100,i])\n",
    "    score[l[i]] = x"
   ]
  },
  {
   "cell_type": "code",
   "execution_count": 51,
   "id": "d3d84c98",
   "metadata": {},
   "outputs": [
    {
     "name": "stdout",
     "output_type": "stream",
     "text": [
      "abusive:0.45411904294306027\n",
      "obscene:0.49268211421999825\n",
      "profane:0.4998234525795967\n"
     ]
    }
   ],
   "source": [
    "for k,v in score.items():\n",
    "    print(f\"{k}:{sum(v)/len(v)}\")"
   ]
  },
  {
   "cell_type": "code",
   "execution_count": 52,
   "id": "3a5ee5cd",
   "metadata": {},
   "outputs": [
    {
     "data": {
      "text/plain": [
       "array([4219, 8240,  756], dtype=int64)"
      ]
     },
     "execution_count": 52,
     "metadata": {},
     "output_type": "execute_result"
    }
   ],
   "source": [
    "labs, occ = np.unique(l, return_counts = True)\n",
    "occ"
   ]
  },
  {
   "cell_type": "code",
   "execution_count": 53,
   "id": "98ae82a2",
   "metadata": {},
   "outputs": [
    {
     "name": "stdout",
     "output_type": "stream",
     "text": [
      "['abusive' 'abusive' 'abusive' ... 'profane' 'profane' 'profane']\n",
      "['abusive' 'obscene' 'profane']\n"
     ]
    }
   ],
   "source": [
    "print(l)\n",
    "print(labs)"
   ]
  },
  {
   "cell_type": "code",
   "execution_count": 54,
   "id": "f788c22f",
   "metadata": {},
   "outputs": [
    {
     "data": {
      "text/plain": [
       "array([    0,  4219, 12459, 13215], dtype=int64)"
      ]
     },
     "execution_count": 54,
     "metadata": {},
     "output_type": "execute_result"
    }
   ],
   "source": [
    "indices = np.cumsum(occ)\n",
    "indices = np.insert(indices, 0, 0)\n",
    "indices"
   ]
  },
  {
   "cell_type": "code",
   "execution_count": 55,
   "id": "dc69eda0",
   "metadata": {
    "scrolled": false
   },
   "outputs": [],
   "source": [
    "new_m = np.zeros((len(occ), len(occ)))\n",
    "for i in range(len(indices)-1):\n",
    "    for j in range(len(indices)-1):\n",
    "        x = indices[i]\n",
    "        y = indices[j]\n",
    "        x1 = indices[i+1]\n",
    "        y1 = indices[j+1]\n",
    "        \n",
    "        #print(f\"{x},{y},{x1},{y1}\")\n",
    "        new_m[i,j] = np.mean(sim_mat[int(x):int(x1), int(y):int(y1)])"
   ]
  },
  {
   "cell_type": "code",
   "execution_count": 56,
   "id": "d31d9dff",
   "metadata": {},
   "outputs": [
    {
     "data": {
      "text/html": [
       "<div>\n",
       "<style scoped>\n",
       "    .dataframe tbody tr th:only-of-type {\n",
       "        vertical-align: middle;\n",
       "    }\n",
       "\n",
       "    .dataframe tbody tr th {\n",
       "        vertical-align: top;\n",
       "    }\n",
       "\n",
       "    .dataframe thead th {\n",
       "        text-align: right;\n",
       "    }\n",
       "</style>\n",
       "<table border=\"1\" class=\"dataframe\">\n",
       "  <thead>\n",
       "    <tr style=\"text-align: right;\">\n",
       "      <th></th>\n",
       "      <th>abusive</th>\n",
       "      <th>obscene</th>\n",
       "      <th>profane</th>\n",
       "    </tr>\n",
       "  </thead>\n",
       "  <tbody>\n",
       "    <tr>\n",
       "      <th>abusive</th>\n",
       "      <td>0.553272</td>\n",
       "      <td>0.551695</td>\n",
       "      <td>0.550011</td>\n",
       "    </tr>\n",
       "    <tr>\n",
       "      <th>obscene</th>\n",
       "      <td>0.551695</td>\n",
       "      <td>0.594917</td>\n",
       "      <td>0.594426</td>\n",
       "    </tr>\n",
       "    <tr>\n",
       "      <th>profane</th>\n",
       "      <td>0.550011</td>\n",
       "      <td>0.594426</td>\n",
       "      <td>0.595553</td>\n",
       "    </tr>\n",
       "  </tbody>\n",
       "</table>\n",
       "</div>"
      ],
      "text/plain": [
       "          abusive   obscene   profane\n",
       "abusive  0.553272  0.551695  0.550011\n",
       "obscene  0.551695  0.594917  0.594426\n",
       "profane  0.550011  0.594426  0.595553"
      ]
     },
     "execution_count": 56,
     "metadata": {},
     "output_type": "execute_result"
    }
   ],
   "source": [
    "df = pd.DataFrame(new_m, columns = labs, index = labs)\n",
    "df"
   ]
  },
  {
   "cell_type": "code",
   "execution_count": 57,
   "id": "1dd4113d",
   "metadata": {},
   "outputs": [
    {
     "data": {
      "image/png": "[encoded data removed]",
      "text/plain": [
       "<Figure size 1440x1440 with 2 Axes>"
      ]
     },
     "metadata": {
      "needs_background": "light"
     },
     "output_type": "display_data"
    }
   ],
   "source": [
    "fig, ax = plt.subplots(figsize=(20,20))\n",
    "cax = ax.matshow(df, interpolation='nearest',cmap=plt.get_cmap(\"PiYG\", 30))\n",
    "\n",
    "for i in range(new_m.shape[0]):\n",
    "    for j in range(new_m.shape[0]):\n",
    "        c = new_m[j,i]\n",
    "        ax.text(i, j, f\"{c:.2f}\", va='center', ha='center')\n",
    "\n",
    "fig.colorbar(cax)\n",
    "\n",
    "ax.set_xticks(np.arange(len(labs)))\n",
    "ax.set_yticks(np.arange(len(labs)))\n",
    "ax.set_xticklabels(labs.tolist())\n",
    "ax.set_yticklabels(labs.tolist())\n",
    "plt.show()"
   ]
  },
  {
   "cell_type": "code",
   "execution_count": 58,
   "id": "2aaf7399",
   "metadata": {},
   "outputs": [
    {
     "ename": "ModuleNotFoundError",
     "evalue": "No module named 'seaborn'",
     "output_type": "error",
     "traceback": [
      "\u001b[1;31m---------------------------------------------------------------------------\u001b[0m",
      "\u001b[1;31mModuleNotFoundError\u001b[0m                       Traceback (most recent call last)",
      "\u001b[1;32m<ipython-input-58-7c83a93dac89>\u001b[0m in \u001b[0;36m<module>\u001b[1;34m\u001b[0m\n\u001b[1;32m----> 1\u001b[1;33m \u001b[1;32mimport\u001b[0m \u001b[0mseaborn\u001b[0m \u001b[1;32mas\u001b[0m \u001b[0msns\u001b[0m\u001b[1;33m\u001b[0m\u001b[1;33m\u001b[0m\u001b[0m\n\u001b[0m\u001b[0;32m      2\u001b[0m \u001b[0mfig\u001b[0m\u001b[1;33m,\u001b[0m \u001b[0max\u001b[0m \u001b[1;33m=\u001b[0m \u001b[0mplt\u001b[0m\u001b[1;33m.\u001b[0m\u001b[0msubplots\u001b[0m\u001b[1;33m(\u001b[0m\u001b[0mfigsize\u001b[0m\u001b[1;33m=\u001b[0m\u001b[1;33m(\u001b[0m\u001b[1;36m10\u001b[0m\u001b[1;33m,\u001b[0m\u001b[1;36m10\u001b[0m\u001b[1;33m)\u001b[0m\u001b[1;33m)\u001b[0m         \u001b[1;31m# Sample figsize in inches\u001b[0m\u001b[1;33m\u001b[0m\u001b[1;33m\u001b[0m\u001b[0m\n\u001b[0;32m      3\u001b[0m \u001b[0mmask\u001b[0m \u001b[1;33m=\u001b[0m \u001b[0mnp\u001b[0m\u001b[1;33m.\u001b[0m\u001b[0mtriu\u001b[0m\u001b[1;33m(\u001b[0m\u001b[0mnp\u001b[0m\u001b[1;33m.\u001b[0m\u001b[0mones_like\u001b[0m\u001b[1;33m(\u001b[0m\u001b[0mnew_m\u001b[0m\u001b[1;33m)\u001b[0m\u001b[1;33m,\u001b[0m \u001b[0mk\u001b[0m \u001b[1;33m=\u001b[0m \u001b[1;36m1\u001b[0m\u001b[1;33m)\u001b[0m\u001b[1;33m\u001b[0m\u001b[1;33m\u001b[0m\u001b[0m\n\u001b[0;32m      4\u001b[0m \u001b[0msns\u001b[0m\u001b[1;33m.\u001b[0m\u001b[0mheatmap\u001b[0m\u001b[1;33m(\u001b[0m\u001b[0mdf\u001b[0m\u001b[1;33m,\u001b[0m \u001b[0mcmap\u001b[0m\u001b[1;33m=\u001b[0m\u001b[1;34m\"YlGnBu\"\u001b[0m\u001b[1;33m,\u001b[0m \u001b[0mannot\u001b[0m\u001b[1;33m=\u001b[0m\u001b[1;32mTrue\u001b[0m\u001b[1;33m,\u001b[0m \u001b[0mmask\u001b[0m\u001b[1;33m=\u001b[0m\u001b[0mmask\u001b[0m\u001b[1;33m,\u001b[0m \u001b[0max\u001b[0m \u001b[1;33m=\u001b[0m \u001b[0max\u001b[0m\u001b[1;33m,\u001b[0m \u001b[0mvmin\u001b[0m\u001b[1;33m=\u001b[0m\u001b[1;36m0\u001b[0m\u001b[1;33m,\u001b[0m \u001b[0mvmax\u001b[0m\u001b[1;33m=\u001b[0m\u001b[1;36m1\u001b[0m\u001b[1;33m)\u001b[0m\u001b[1;33m\u001b[0m\u001b[1;33m\u001b[0m\u001b[0m\n\u001b[0;32m      5\u001b[0m \u001b[0mplt\u001b[0m\u001b[1;33m.\u001b[0m\u001b[0mshow\u001b[0m\u001b[1;33m(\u001b[0m\u001b[1;33m)\u001b[0m\u001b[1;33m\u001b[0m\u001b[1;33m\u001b[0m\u001b[0m\n",
      "\u001b[1;31mModuleNotFoundError\u001b[0m: No module named 'seaborn'"
     ]
    }
   ],
   "source": [
    "import seaborn as sns\n",
    "fig, ax = plt.subplots(figsize=(10,10))         # Sample figsize in inches\n",
    "mask = np.triu(np.ones_like(new_m), k = 1)\n",
    "sns.heatmap(df, cmap=\"YlGnBu\", annot=True, mask=mask, ax = ax, vmin=0, vmax=1)\n",
    "plt.show()"
   ]
  },
  {
   "cell_type": "code",
   "execution_count": 59,
   "id": "4c6ecd90",
   "metadata": {},
   "outputs": [
    {
     "name": "stdout",
     "output_type": "stream",
     "text": [
      "True\n"
     ]
    }
   ],
   "source": [
    "import torch\n",
    "print(torch.cuda.is_available())"
   ]
  },
  {
   "cell_type": "code",
   "execution_count": 60,
   "id": "33f34801",
   "metadata": {},
   "outputs": [
    {
     "data": {
      "text/plain": [
       "tensor([0.], device='cuda:0')"
      ]
     },
     "execution_count": 60,
     "metadata": {},
     "output_type": "execute_result"
    }
   ],
   "source": [
    "torch.zeros(1).cuda()"
   ]
  },
  {
   "cell_type": "code",
   "execution_count": 61,
   "id": "5691c57a",
   "metadata": {},
   "outputs": [],
   "source": [
    "#!pip uninstall -y torch"
   ]
  },
  {
   "cell_type": "code",
   "execution_count": 62,
   "id": "94490a6c",
   "metadata": {},
   "outputs": [
    {
     "data": {
      "text/plain": [
       "array([    0,  4219, 12459, 13215], dtype=int64)"
      ]
     },
     "execution_count": 62,
     "metadata": {},
     "output_type": "execute_result"
    }
   ],
   "source": [
    "indices"
   ]
  },
  {
   "cell_type": "code",
   "execution_count": 63,
   "id": "50cadb96",
   "metadata": {},
   "outputs": [],
   "source": [
    "avgs = []\n",
    "for i in range(len(indices) - 1):\n",
    "    avgs.append(np.mean(sentence_embeddings[indices[i]:indices[i+1]], axis = 0))"
   ]
  },
  {
   "cell_type": "code",
   "execution_count": 64,
   "id": "12c09af3",
   "metadata": {},
   "outputs": [
    {
     "data": {
      "text/html": [
       "<div>\n",
       "<style scoped>\n",
       "    .dataframe tbody tr th:only-of-type {\n",
       "        vertical-align: middle;\n",
       "    }\n",
       "\n",
       "    .dataframe tbody tr th {\n",
       "        vertical-align: top;\n",
       "    }\n",
       "\n",
       "    .dataframe thead th {\n",
       "        text-align: right;\n",
       "    }\n",
       "</style>\n",
       "<table border=\"1\" class=\"dataframe\">\n",
       "  <thead>\n",
       "    <tr style=\"text-align: right;\">\n",
       "      <th></th>\n",
       "      <th>abusive</th>\n",
       "      <th>obscene</th>\n",
       "      <th>profane</th>\n",
       "    </tr>\n",
       "  </thead>\n",
       "  <tbody>\n",
       "    <tr>\n",
       "      <th>abusive</th>\n",
       "      <td>1.000000</td>\n",
       "      <td>0.962430</td>\n",
       "      <td>0.959401</td>\n",
       "    </tr>\n",
       "    <tr>\n",
       "      <th>obscene</th>\n",
       "      <td>0.962430</td>\n",
       "      <td>1.000000</td>\n",
       "      <td>0.998711</td>\n",
       "    </tr>\n",
       "    <tr>\n",
       "      <th>profane</th>\n",
       "      <td>0.959401</td>\n",
       "      <td>0.998711</td>\n",
       "      <td>1.000000</td>\n",
       "    </tr>\n",
       "  </tbody>\n",
       "</table>\n",
       "</div>"
      ],
      "text/plain": [
       "          abusive   obscene   profane\n",
       "abusive  1.000000  0.962430  0.959401\n",
       "obscene  0.962430  1.000000  0.998711\n",
       "profane  0.959401  0.998711  1.000000"
      ]
     },
     "execution_count": 64,
     "metadata": {},
     "output_type": "execute_result"
    }
   ],
   "source": [
    "df1 = pd.DataFrame(cosine_similarity(avgs, avgs), columns = labs, index = labs)\n",
    "df1"
   ]
  },
  {
   "cell_type": "code",
   "execution_count": 66,
   "id": "2198b6c3",
   "metadata": {},
   "outputs": [
    {
     "data": {
      "image/png": "[encoded data removed]",
      "text/plain": [
       "<Figure size 720x720 with 2 Axes>"
      ]
     },
     "metadata": {
      "needs_background": "light"
     },
     "output_type": "display_data"
    }
   ],
   "source": [
    "import seaborn as sns\n",
    "fig, ax = plt.subplots(figsize=(10,10))         # Sample figsize in inches\n",
    "mask = np.triu(np.ones_like(new_m), k = 1)\n",
    "sns.heatmap(df1, cmap=\"YlGnBu\", annot=True, mask=mask, ax = ax, vmin=0, vmax=1)\n",
    "plt.show()"
   ]
  },
  {
   "cell_type": "markdown",
   "id": "cca7c8be",
   "metadata": {},
   "source": [
    "TODO: Visualize embeddings"
   ]
  },
  {
   "cell_type": "code",
   "execution_count": 67,
   "id": "9727528b",
   "metadata": {},
   "outputs": [],
   "source": [
    "len(labels)\n",
    "from sklearn.manifold import TSNE\n",
    "import matplotlib.cm as cm\n"
   ]
  },
  {
   "cell_type": "code",
   "execution_count": 68,
   "id": "23bd1b6b",
   "metadata": {},
   "outputs": [],
   "source": [
    "def plotTSNE(title, embedding_clusters, labels, filename = None):\n",
    "    embedding_clusters = np.array(embedding_clusters)\n",
    "    print(embedding_clusters.shape)\n",
    "    n, m = embedding_clusters.shape\n",
    "    model_en_2d = TSNE(perplexity=15, n_components=2, init='pca', n_iter=3500, random_state=32)\n",
    "    model_en_2d = model_en_2d.fit_transform(embedding_clusters)\n",
    "    embeddings_en_2d = np.array(model_en_2d)\n",
    "    print(embeddings_en_2d.shape)\n",
    "    plot_similar_words(title, labels, embeddings_en_2d, filename)"
   ]
  },
  {
   "cell_type": "code",
   "execution_count": 69,
   "id": "e2571dcf",
   "metadata": {},
   "outputs": [],
   "source": [
    "def plot_similar_words(title, labels, embedding_clusters, filename=None):\n",
    "    plt.figure(figsize=(16, 9))\n",
    "    #colors = cm.rainbow(np.linspace(0, 1, len(set(labels))))\n",
    "    #colors = dict(zip(list(set(labels)), colors))\n",
    "    #print(colors)\n",
    "    colors = cm.rainbow(np.linspace(0, 1, len(set(labels))))\n",
    "    #colors = cm.tab20(np.linspace(0, 1, len(set(labels))))\n",
    "    plt.set_cmap(\"rainbow\")\n",
    "    for i, label in enumerate(set(labels)):\n",
    "        idx = np.where(labels == label)\n",
    "        x = embedding_clusters[idx, 0]\n",
    "        y = embedding_clusters[idx, 1]\n",
    "        plt.scatter(x, y, alpha=0.7, label=label, s = 2, color = colors[i])\n",
    "        #plt.scatter(int(np.mean(x)), int(np.mean(y)), marker='s', edgecolor='black', linewidth=3, facecolor=colors[i])\n",
    "        plt.annotate(label.upper(), alpha=1.0, xy=(int(np.mean(x)), int(np.mean(y))), xytext=(0, 0),\n",
    "            textcoords='offset points', ha='center', va='center', size=12)\n",
    "    plt.legend(loc=4)\n",
    "    plt.title(title)\n",
    "    plt.grid(False)\n",
    "    if filename:\n",
    "        plt.savefig(filename, format='png', dpi=150, bbox_inches='tight')\n",
    "    plt.show()"
   ]
  },
  {
   "cell_type": "code",
   "execution_count": 70,
   "id": "d45c90b8",
   "metadata": {},
   "outputs": [
    {
     "name": "stdout",
     "output_type": "stream",
     "text": [
      "(13215, 768)\n",
      "(13215, 2)\n"
     ]
    },
    {
     "data": {
      "image/png": "[encoded data removed]",
      "text/plain": [
       "<Figure size 1152x648 with 1 Axes>"
      ]
     },
     "metadata": {
      "needs_background": "light"
     },
     "output_type": "display_data"
    }
   ],
   "source": [
    "#idx = np.random.randint(0, 55000, 1000)\n",
    "plotTSNE(\"BERT embeddings [t-SNE]\", sentence_embeddings, labels, \"test_thin.png\")"
   ]
  },
  {
   "cell_type": "code",
   "execution_count": null,
   "id": "137237ca",
   "metadata": {},
   "outputs": [],
   "source": []
  },
  {
   "cell_type": "code",
   "execution_count": 71,
   "id": "7164da73",
   "metadata": {},
   "outputs": [
    {
     "data": {
      "text/plain": [
       "3"
      ]
     },
     "execution_count": 71,
     "metadata": {},
     "output_type": "execute_result"
    }
   ],
   "source": [
    "colors = cm.rainbow(np.linspace(0, 1, len(set(labels))))\n",
    "len(colors)"
   ]
  },
  {
   "cell_type": "code",
   "execution_count": 72,
   "id": "1afb3793",
   "metadata": {},
   "outputs": [
    {
     "data": {
      "text/plain": [
       "array([[0.22352941, 0.23137255, 0.4745098 , 1.        ],\n",
       "       [0.90588235, 0.72941176, 0.32156863, 1.        ],\n",
       "       [0.87058824, 0.61960784, 0.83921569, 1.        ]])"
      ]
     },
     "execution_count": 72,
     "metadata": {},
     "output_type": "execute_result"
    }
   ],
   "source": [
    "cm.tab20b(np.linspace(0, 1, len(set(labels))))"
   ]
  },
  {
   "cell_type": "code",
   "execution_count": null,
   "id": "602129fe",
   "metadata": {},
   "outputs": [],
   "source": []
  }
 ],
 "metadata": {
  "kernelspec": {
   "display_name": "Python [conda env:test1] *",
   "language": "python",
   "name": "conda-env-test1-py"
  },
  "language_info": {
   "codemirror_mode": {
    "name": "ipython",
    "version": 3
   },
   "file_extension": ".py",
   "mimetype": "text/x-python",
   "name": "python",
   "nbconvert_exporter": "python",
   "pygments_lexer": "ipython3",
   "version": "3.7.10"
  }
 },
 "nbformat": 4,
 "nbformat_minor": 5
}
