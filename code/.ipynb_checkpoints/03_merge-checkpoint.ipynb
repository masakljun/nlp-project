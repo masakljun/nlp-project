{
 "cells": [
  {
   "cell_type": "markdown",
   "id": "1527ab52",
   "metadata": {},
   "source": [
    "# Merge obtained data sets into one big file\n",
    "\n",
    "Merge the data sets from the *code/data/filtered* directory into one big data set. You need to create *code/data/dataset* folder if it does not exist yet. All code *01* and *02* should be run before this."
   ]
  },
  {
   "cell_type": "code",
   "execution_count": 1,
   "id": "thorough-brooks",
   "metadata": {},
   "outputs": [],
   "source": [
    "import json\n",
    "import pandas as pd"
   ]
  },
  {
   "cell_type": "code",
   "execution_count": 2,
   "id": "beneficial-title",
   "metadata": {},
   "outputs": [],
   "source": [
    "with open(\"data/filtered/abusive_hateful_spam_normal.json\") as f:\n",
    "    data1 = json.load(f)\n",
    "    \n",
    "data2 = pd.read_csv(\"data/filtered/hatespeech_profane_offensive.csv\")\n",
    "data3 = pd.read_csv(\"data/filtered/lol_cyberbullying.csv\", sep = \";\")\n",
    "with open(\"data/filtered/racism_sexism_benevolent.json\") as f1:\n",
    "    data4 = json.load(f1) \n",
    "data5 = pd.read_csv(\"data/filtered/toxic_obscene_threat_insult_identity.csv\")"
   ]
  },
  {
   "cell_type": "code",
   "execution_count": 3,
   "id": "refined-denmark",
   "metadata": {},
   "outputs": [
    {
     "data": {
      "text/html": [
       "<div>\n",
       "<style scoped>\n",
       "    .dataframe tbody tr th:only-of-type {\n",
       "        vertical-align: middle;\n",
       "    }\n",
       "\n",
       "    .dataframe tbody tr th {\n",
       "        vertical-align: top;\n",
       "    }\n",
       "\n",
       "    .dataframe thead th {\n",
       "        text-align: right;\n",
       "    }\n",
       "</style>\n",
       "<table border=\"1\" class=\"dataframe\">\n",
       "  <thead>\n",
       "    <tr style=\"text-align: right;\">\n",
       "      <th></th>\n",
       "      <th>text</th>\n",
       "      <th>label</th>\n",
       "    </tr>\n",
       "  </thead>\n",
       "  <tbody>\n",
       "    <tr>\n",
       "      <th>0</th>\n",
       "      <td>fucks sake go away stupid anon — ^  https://t....</td>\n",
       "      <td>abusive</td>\n",
       "    </tr>\n",
       "    <tr>\n",
       "      <th>1</th>\n",
       "      <td>Damn dean just put Corbin to sleep. That Match...</td>\n",
       "      <td>abusive</td>\n",
       "    </tr>\n",
       "    <tr>\n",
       "      <th>2</th>\n",
       "      <td>@TheRealCamerota THAT BEER BUYING FREAKING IDI...</td>\n",
       "      <td>abusive</td>\n",
       "    </tr>\n",
       "    <tr>\n",
       "      <th>3</th>\n",
       "      <td>what idiot called them antacids and not afterb...</td>\n",
       "      <td>abusive</td>\n",
       "    </tr>\n",
       "    <tr>\n",
       "      <th>4</th>\n",
       "      <td>RT @gogglepossum: Don't you hate people that p...</td>\n",
       "      <td>abusive</td>\n",
       "    </tr>\n",
       "    <tr>\n",
       "      <th>...</th>\n",
       "      <td>...</td>\n",
       "      <td>...</td>\n",
       "    </tr>\n",
       "    <tr>\n",
       "      <th>13759</th>\n",
       "      <td>In @RDispatches, @sunnivie asks whether \"relig...</td>\n",
       "      <td>hateful</td>\n",
       "    </tr>\n",
       "    <tr>\n",
       "      <th>13760</th>\n",
       "      <td>Pop Modern Silicone Cake Putty Spatula Bakewar...</td>\n",
       "      <td>spam</td>\n",
       "    </tr>\n",
       "    <tr>\n",
       "      <th>13761</th>\n",
       "      <td>Tired of empty jargon in the wide world of bio...</td>\n",
       "      <td>spam</td>\n",
       "    </tr>\n",
       "    <tr>\n",
       "      <th>13762</th>\n",
       "      <td>You could win a big screen TV! Enter now! #swe...</td>\n",
       "      <td>spam</td>\n",
       "    </tr>\n",
       "    <tr>\n",
       "      <th>13763</th>\n",
       "      <td>I've just entered the @unitlostgaming @Dell In...</td>\n",
       "      <td>spam</td>\n",
       "    </tr>\n",
       "  </tbody>\n",
       "</table>\n",
       "<p>13764 rows × 2 columns</p>\n",
       "</div>"
      ],
      "text/plain": [
       "                                                    text    label\n",
       "0      fucks sake go away stupid anon — ^  https://t....  abusive\n",
       "1      Damn dean just put Corbin to sleep. That Match...  abusive\n",
       "2      @TheRealCamerota THAT BEER BUYING FREAKING IDI...  abusive\n",
       "3      what idiot called them antacids and not afterb...  abusive\n",
       "4      RT @gogglepossum: Don't you hate people that p...  abusive\n",
       "...                                                  ...      ...\n",
       "13759  In @RDispatches, @sunnivie asks whether \"relig...  hateful\n",
       "13760  Pop Modern Silicone Cake Putty Spatula Bakewar...     spam\n",
       "13761  Tired of empty jargon in the wide world of bio...     spam\n",
       "13762  You could win a big screen TV! Enter now! #swe...     spam\n",
       "13763  I've just entered the @unitlostgaming @Dell In...     spam\n",
       "\n",
       "[13764 rows x 2 columns]"
      ]
     },
     "execution_count": 3,
     "metadata": {},
     "output_type": "execute_result"
    }
   ],
   "source": [
    "# convert first json to pandas\n",
    "texts = []\n",
    "labels = []\n",
    "for tweet in list(data1.values()):\n",
    "    texts.append(tweet[\"text\"])\n",
    "    labels.append(tweet[\"label\"])\n",
    "data1 = pd.DataFrame({\"text\":texts, \"label\":labels})\n",
    "data1"
   ]
  },
  {
   "cell_type": "code",
   "execution_count": 4,
   "id": "smart-penetration",
   "metadata": {},
   "outputs": [],
   "source": [
    "# convert second json to pandas\n",
    "texts = []\n",
    "labels = []\n",
    "for tweet in list(data4.values()):\n",
    "    if tweet[\"label\"] == \"both\":\n",
    "        texts.append(tweet[\"text\"])\n",
    "        texts.append(tweet[\"text\"])\n",
    "        labels.append(\"racism\")\n",
    "        labels.append(\"sexism\")\n",
    "    else:\n",
    "        texts.append(tweet[\"text\"])\n",
    "        labels.append(tweet[\"label\"])\n",
    "\n",
    "data4 = pd.DataFrame({\"text\":texts, \"label\":labels})\n",
    "\n"
   ]
  },
  {
   "cell_type": "code",
   "execution_count": 5,
   "id": "enormous-authority",
   "metadata": {},
   "outputs": [
    {
     "data": {
      "text/html": [
       "<div>\n",
       "<style scoped>\n",
       "    .dataframe tbody tr th:only-of-type {\n",
       "        vertical-align: middle;\n",
       "    }\n",
       "\n",
       "    .dataframe tbody tr th {\n",
       "        vertical-align: top;\n",
       "    }\n",
       "\n",
       "    .dataframe thead th {\n",
       "        text-align: right;\n",
       "    }\n",
       "</style>\n",
       "<table border=\"1\" class=\"dataframe\">\n",
       "  <thead>\n",
       "    <tr style=\"text-align: right;\">\n",
       "      <th></th>\n",
       "      <th>text</th>\n",
       "      <th>label</th>\n",
       "    </tr>\n",
       "  </thead>\n",
       "  <tbody>\n",
       "    <tr>\n",
       "      <th>0</th>\n",
       "      <td>These girls are the equivalent of the irritati...</td>\n",
       "      <td>racism</td>\n",
       "    </tr>\n",
       "    <tr>\n",
       "      <th>1</th>\n",
       "      <td>Drasko they didn't cook half a bird you idiot ...</td>\n",
       "      <td>racism</td>\n",
       "    </tr>\n",
       "    <tr>\n",
       "      <th>2</th>\n",
       "      <td>Hopefully someone cooks Drasko in the next ep ...</td>\n",
       "      <td>racism</td>\n",
       "    </tr>\n",
       "    <tr>\n",
       "      <th>3</th>\n",
       "      <td>of course you were born in serbia...you're as ...</td>\n",
       "      <td>racism</td>\n",
       "    </tr>\n",
       "    <tr>\n",
       "      <th>4</th>\n",
       "      <td>So Drasko just said he was impressed the girls...</td>\n",
       "      <td>racism</td>\n",
       "    </tr>\n",
       "    <tr>\n",
       "      <th>...</th>\n",
       "      <td>...</td>\n",
       "      <td>...</td>\n",
       "    </tr>\n",
       "    <tr>\n",
       "      <th>6035</th>\n",
       "      <td>A man is as good as the woman he is with\\n\\n#A...</td>\n",
       "      <td>benevolent</td>\n",
       "    </tr>\n",
       "    <tr>\n",
       "      <th>6036</th>\n",
       "      <td>These woman are missed. My mother and her sist...</td>\n",
       "      <td>benevolent</td>\n",
       "    </tr>\n",
       "    <tr>\n",
       "      <th>6037</th>\n",
       "      <td>RT @GemmaAnneStyles: Happy #womensday to all m...</td>\n",
       "      <td>benevolent</td>\n",
       "    </tr>\n",
       "    <tr>\n",
       "      <th>6038</th>\n",
       "      <td>RT @ConstanceQueen8: #ADayWithoutWomen Trump W...</td>\n",
       "      <td>benevolent</td>\n",
       "    </tr>\n",
       "    <tr>\n",
       "      <th>6039</th>\n",
       "      <td>RT @GemmaAnneStyles: Happy #womensday to all m...</td>\n",
       "      <td>benevolent</td>\n",
       "    </tr>\n",
       "  </tbody>\n",
       "</table>\n",
       "<p>6040 rows × 2 columns</p>\n",
       "</div>"
      ],
      "text/plain": [
       "                                                   text       label\n",
       "0     These girls are the equivalent of the irritati...      racism\n",
       "1     Drasko they didn't cook half a bird you idiot ...      racism\n",
       "2     Hopefully someone cooks Drasko in the next ep ...      racism\n",
       "3     of course you were born in serbia...you're as ...      racism\n",
       "4     So Drasko just said he was impressed the girls...      racism\n",
       "...                                                 ...         ...\n",
       "6035  A man is as good as the woman he is with\\n\\n#A...  benevolent\n",
       "6036  These woman are missed. My mother and her sist...  benevolent\n",
       "6037  RT @GemmaAnneStyles: Happy #womensday to all m...  benevolent\n",
       "6038  RT @ConstanceQueen8: #ADayWithoutWomen Trump W...  benevolent\n",
       "6039  RT @GemmaAnneStyles: Happy #womensday to all m...  benevolent\n",
       "\n",
       "[6040 rows x 2 columns]"
      ]
     },
     "execution_count": 5,
     "metadata": {},
     "output_type": "execute_result"
    }
   ],
   "source": [
    "data4"
   ]
  },
  {
   "cell_type": "code",
   "execution_count": 6,
   "id": "varying-parks",
   "metadata": {},
   "outputs": [],
   "source": [
    "texts = []\n",
    "labels = []\n",
    "\n",
    "texts.extend(data1[\"text\"].tolist())\n",
    "labels.extend(data1[\"label\"].tolist())\n",
    "texts.extend(data2[\"text\"].tolist())\n",
    "labels.extend(data2[\"label\"].tolist())\n",
    "cyber = data3[\"messages\"].tolist()\n",
    "texts.extend(cyber)\n",
    "labels.extend([\"cyberbulling\"] * len(cyber))\n",
    "texts.extend(data4[\"text\"].tolist())\n",
    "labels.extend(data4[\"label\"].tolist())\n",
    "texts.extend(data5[\"text\"].tolist())\n",
    "labels.extend(data5[\"label\"].tolist())\n"
   ]
  },
  {
   "cell_type": "code",
   "execution_count": 7,
   "id": "rental-overhead",
   "metadata": {},
   "outputs": [
    {
     "data": {
      "text/html": [
       "<div>\n",
       "<style scoped>\n",
       "    .dataframe tbody tr th:only-of-type {\n",
       "        vertical-align: middle;\n",
       "    }\n",
       "\n",
       "    .dataframe tbody tr th {\n",
       "        vertical-align: top;\n",
       "    }\n",
       "\n",
       "    .dataframe thead th {\n",
       "        text-align: right;\n",
       "    }\n",
       "</style>\n",
       "<table border=\"1\" class=\"dataframe\">\n",
       "  <thead>\n",
       "    <tr style=\"text-align: right;\">\n",
       "      <th></th>\n",
       "      <th>text</th>\n",
       "      <th>label</th>\n",
       "    </tr>\n",
       "  </thead>\n",
       "  <tbody>\n",
       "    <tr>\n",
       "      <th>0</th>\n",
       "      <td>fucks sake go away stupid anon — ^  https://t....</td>\n",
       "      <td>abusive</td>\n",
       "    </tr>\n",
       "    <tr>\n",
       "      <th>1</th>\n",
       "      <td>Damn dean just put Corbin to sleep. That Match...</td>\n",
       "      <td>abusive</td>\n",
       "    </tr>\n",
       "    <tr>\n",
       "      <th>2</th>\n",
       "      <td>@TheRealCamerota THAT BEER BUYING FREAKING IDI...</td>\n",
       "      <td>abusive</td>\n",
       "    </tr>\n",
       "    <tr>\n",
       "      <th>3</th>\n",
       "      <td>what idiot called them antacids and not afterb...</td>\n",
       "      <td>abusive</td>\n",
       "    </tr>\n",
       "    <tr>\n",
       "      <th>4</th>\n",
       "      <td>RT @gogglepossum: Don't you hate people that p...</td>\n",
       "      <td>abusive</td>\n",
       "    </tr>\n",
       "  </tbody>\n",
       "</table>\n",
       "</div>"
      ],
      "text/plain": [
       "                                                text    label\n",
       "0  fucks sake go away stupid anon — ^  https://t....  abusive\n",
       "1  Damn dean just put Corbin to sleep. That Match...  abusive\n",
       "2  @TheRealCamerota THAT BEER BUYING FREAKING IDI...  abusive\n",
       "3  what idiot called them antacids and not afterb...  abusive\n",
       "4  RT @gogglepossum: Don't you hate people that p...  abusive"
      ]
     },
     "execution_count": 7,
     "metadata": {},
     "output_type": "execute_result"
    }
   ],
   "source": [
    "df = pd.DataFrame({\"text\":texts, \"label\":labels})\n",
    "df.head()"
   ]
  },
  {
   "cell_type": "code",
   "execution_count": 8,
   "id": "indie-decimal",
   "metadata": {},
   "outputs": [],
   "source": [
    "df = df[df[\"label\"].notna()]"
   ]
  },
  {
   "cell_type": "code",
   "execution_count": 9,
   "id": "ordered-mistake",
   "metadata": {},
   "outputs": [
    {
     "name": "stdout",
     "output_type": "stream",
     "text": [
      "15 unique labels: {'spam', 'profane', 'sexism', 'threat', 'benevolent', 'obscene', 'insult', 'hateful', 'racism', 'identity', 'hate', 'offensive', 'toxic', 'cyberbulling', 'abusive'}\n"
     ]
    }
   ],
   "source": [
    "labels = set(df[\"label\"].tolist())\n",
    "print(f\"{len(labels)} unique labels: {labels}\")"
   ]
  },
  {
   "cell_type": "code",
   "execution_count": 10,
   "id": "studied-poetry",
   "metadata": {},
   "outputs": [],
   "source": [
    "df.to_csv(\"dataset/data.csv\", sep =  \";\", index = False)"
   ]
  },
  {
   "cell_type": "markdown",
   "id": "ab33ad79",
   "metadata": {},
   "source": [
    "## Plot combined distribution"
   ]
  },
  {
   "cell_type": "code",
   "execution_count": 241,
   "id": "90165e12",
   "metadata": {},
   "outputs": [],
   "source": [
    "import matplotlib.pyplot as plt\n",
    "import matplotlib.patches as mpatches\n",
    "import numpy as np"
   ]
  },
  {
   "cell_type": "code",
   "execution_count": 242,
   "id": "96c5b3c2",
   "metadata": {},
   "outputs": [
    {
     "data": {
      "text/html": [
       "<div>\n",
       "<style scoped>\n",
       "    .dataframe tbody tr th:only-of-type {\n",
       "        vertical-align: middle;\n",
       "    }\n",
       "\n",
       "    .dataframe tbody tr th {\n",
       "        vertical-align: top;\n",
       "    }\n",
       "\n",
       "    .dataframe thead th {\n",
       "        text-align: right;\n",
       "    }\n",
       "</style>\n",
       "<table border=\"1\" class=\"dataframe\">\n",
       "  <thead>\n",
       "    <tr style=\"text-align: right;\">\n",
       "      <th></th>\n",
       "      <th>text</th>\n",
       "      <th>label</th>\n",
       "    </tr>\n",
       "  </thead>\n",
       "  <tbody>\n",
       "    <tr>\n",
       "      <th>0</th>\n",
       "      <td>fucks sake go away stupid anon — ^  https://t....</td>\n",
       "      <td>abusive</td>\n",
       "    </tr>\n",
       "    <tr>\n",
       "      <th>1</th>\n",
       "      <td>Damn dean just put Corbin to sleep. That Match...</td>\n",
       "      <td>abusive</td>\n",
       "    </tr>\n",
       "    <tr>\n",
       "      <th>2</th>\n",
       "      <td>@TheRealCamerota THAT BEER BUYING FREAKING IDI...</td>\n",
       "      <td>abusive</td>\n",
       "    </tr>\n",
       "    <tr>\n",
       "      <th>3</th>\n",
       "      <td>what idiot called them antacids and not afterb...</td>\n",
       "      <td>abusive</td>\n",
       "    </tr>\n",
       "    <tr>\n",
       "      <th>4</th>\n",
       "      <td>RT @gogglepossum: Don't you hate people that p...</td>\n",
       "      <td>abusive</td>\n",
       "    </tr>\n",
       "  </tbody>\n",
       "</table>\n",
       "</div>"
      ],
      "text/plain": [
       "                                                text    label\n",
       "0  fucks sake go away stupid anon — ^  https://t....  abusive\n",
       "1  Damn dean just put Corbin to sleep. That Match...  abusive\n",
       "2  @TheRealCamerota THAT BEER BUYING FREAKING IDI...  abusive\n",
       "3  what idiot called them antacids and not afterb...  abusive\n",
       "4  RT @gogglepossum: Don't you hate people that p...  abusive"
      ]
     },
     "execution_count": 242,
     "metadata": {},
     "output_type": "execute_result"
    }
   ],
   "source": [
    "df = pd.read_csv(\"dataset/data.csv\", sep = \";\")\n",
    "df.head()"
   ]
  },
  {
   "cell_type": "code",
   "execution_count": 243,
   "id": "d0387ecb",
   "metadata": {},
   "outputs": [
    {
     "data": {
      "text/plain": [
       "array([ 4227,  2339,   259,  1267,  1752,  1405,  7877,  8449,   522,\n",
       "         760,   148,  3553,  7782,   478, 13699], dtype=int64)"
      ]
     },
     "execution_count": 243,
     "metadata": {},
     "output_type": "execute_result"
    }
   ],
   "source": [
    "labels, counts = np.unique(df[\"label\"], return_counts = True)\n",
    "counts"
   ]
  },
  {
   "cell_type": "code",
   "execution_count": 244,
   "id": "be936b42",
   "metadata": {},
   "outputs": [
    {
     "data": {
      "text/plain": [
       "array(['abusive', 'benevolent', 'cyberbulling', 'hate', 'hateful',\n",
       "       'identity', 'insult', 'obscene', 'offensive', 'profane', 'racism',\n",
       "       'sexism', 'spam', 'threat', 'toxic'], dtype=object)"
      ]
     },
     "execution_count": 244,
     "metadata": {},
     "output_type": "execute_result"
    }
   ],
   "source": [
    "labels"
   ]
  },
  {
   "cell_type": "code",
   "execution_count": 245,
   "id": "831bfd3e",
   "metadata": {},
   "outputs": [
    {
     "data": {
      "text/plain": [
       "['AHS',\n",
       " 'SRB',\n",
       " 'CYB',\n",
       " 'HPO',\n",
       " 'AHS',\n",
       " 'TOITI',\n",
       " 'TOITI',\n",
       " 'TOITI',\n",
       " 'HPO',\n",
       " 'HPO',\n",
       " 'SRB',\n",
       " 'SRB',\n",
       " 'AHS',\n",
       " 'TOITI',\n",
       " 'TOITI']"
      ]
     },
     "execution_count": 245,
     "metadata": {},
     "output_type": "execute_result"
    }
   ],
   "source": [
    "dataset = {\n",
    "    'abusive' : 'AHS', \n",
    "    'benevolent': 'SRB', \n",
    "    'cyberbulling' : 'CYB', \n",
    "    'hate' : 'HPO', \n",
    "    'hateful' : 'AHS',\n",
    "    'identity' : 'TOITI',\n",
    "    'insult' : 'TOITI',\n",
    "    'obscene' : 'TOITI', \n",
    "    'offensive' : 'HPO', \n",
    "    'profane' : 'HPO', \n",
    "    'racism' : 'SRB',\n",
    "    'sexism' : 'SRB',\n",
    "    'spam' : 'AHS',\n",
    "    'threat' : 'TOITI',\n",
    "    'toxic'  : 'TOITI'\n",
    "}\n",
    "\n",
    "groups = [dataset[lbl] for lbl in labels]\n",
    "groups"
   ]
  },
  {
   "cell_type": "code",
   "execution_count": 246,
   "id": "5d557ac6",
   "metadata": {},
   "outputs": [],
   "source": [
    "# color palette\n",
    "cmap = plt.get_cmap(\"tab10\")\n",
    "rgbs = cmap.colors\n",
    "\n",
    "groups_unique = np.unique(groups)\n",
    "color_mapper = dict(zip(groups_unique, rgbs[:len(groups_unique)]))"
   ]
  },
  {
   "cell_type": "code",
   "execution_count": 247,
   "id": "7f49883b",
   "metadata": {},
   "outputs": [],
   "source": [
    "labels = np.array(labels)\n",
    "counts = np.array(counts)\n",
    "groups = np.array(groups)\n",
    "\n",
    "idx = np.argsort(counts)[::-1]\n",
    "labels, counts, groups = labels[idx], counts[idx], groups[idx]"
   ]
  },
  {
   "cell_type": "code",
   "execution_count": 248,
   "id": "550c7810",
   "metadata": {},
   "outputs": [],
   "source": [
    "colors = [color_mapper[group] for group in groups]"
   ]
  },
  {
   "cell_type": "code",
   "execution_count": 249,
   "id": "cbc16d40",
   "metadata": {},
   "outputs": [
    {
     "data": {
      "image/png": "[encoded data removed]",
      "text/plain": [
       "<Figure size 720x288 with 1 Axes>"
      ]
     },
     "metadata": {
      "needs_background": "light"
     },
     "output_type": "display_data"
    }
   ],
   "source": [
    "fig, ax = plt.subplots(figsize = (10,4))\n",
    "\n",
    "ax.bar(labels, counts, color = colors)\n",
    "ax.set_ylim([0, 15500])\n",
    "\n",
    "for i, v in enumerate(counts):\n",
    "    ax.text(i, v + 300, str(v), color=\"gray\", fontweight='bold', ha = \"center\")\n",
    "    \n",
    "legend_patches = []\n",
    "for key, value in color_mapper.items():\n",
    "    legend_patches.append(mpatches.Patch(color=value, label=key))\n",
    "plt.xticks(rotation=45, ha = \"right\")\n",
    "plt.title(\"Distribution of labels by data set\")\n",
    "\n",
    "plt.show()"
   ]
  },
  {
   "cell_type": "code",
   "execution_count": 250,
   "id": "f976f73b",
   "metadata": {},
   "outputs": [
    {
     "data": {
      "text/plain": [
       "{'AHS': 13761, 'CYB': 259, 'HPO': 2549, 'SRB': 6040, 'TOITI': 31908}"
      ]
     },
     "execution_count": 250,
     "metadata": {},
     "output_type": "execute_result"
    }
   ],
   "source": [
    "groups_size = dict(zip(groups_unique, [0] * len(groups_unique)))\n",
    "\n",
    "for i in range(len(counts)):\n",
    "    groups_size[groups[i]] += counts[i]\n",
    "    \n",
    "groups_size"
   ]
  },
  {
   "cell_type": "code",
   "execution_count": 251,
   "id": "a761d0b4",
   "metadata": {},
   "outputs": [],
   "source": [
    "groups_sizes = [groups_size[group] for group in groups]\n",
    "groups_sizes = np.array(groups_sizes)"
   ]
  },
  {
   "cell_type": "code",
   "execution_count": 252,
   "id": "e060d069",
   "metadata": {},
   "outputs": [
    {
     "name": "stdout",
     "output_type": "stream",
     "text": [
      "[31908 31908 31908 31908 31908 13761 13761 13761  6040  6040  6040  2549\n",
      "  2549  2549   259]\n",
      "[13699  8449  7877  1405   478  7782  4227  1752  3553  2339   148  1267\n",
      "   760   522   259]\n"
     ]
    }
   ],
   "source": [
    "idx = np.lexsort((counts, groups_sizes))[::-1]\n",
    "labels, counts, groups, groups_sizes = labels[idx], counts[idx], groups[idx], groups_sizes[idx]\n",
    "print(groups_sizes)\n",
    "print(counts)"
   ]
  },
  {
   "cell_type": "code",
   "execution_count": 253,
   "id": "db7bcb76",
   "metadata": {},
   "outputs": [],
   "source": [
    "colors = [color_mapper[group] for group in groups]"
   ]
  },
  {
   "cell_type": "code",
   "execution_count": 254,
   "id": "60217361",
   "metadata": {},
   "outputs": [
    {
     "data": {
      "text/plain": [
       "array(['TOITI', 'TOITI', 'TOITI', 'TOITI', 'TOITI', 'AHS', 'AHS', 'AHS',\n",
       "       'SRB', 'SRB', 'SRB', 'HPO', 'HPO', 'HPO', 'CYB'], dtype='<U5')"
      ]
     },
     "execution_count": 254,
     "metadata": {},
     "output_type": "execute_result"
    }
   ],
   "source": [
    "groups"
   ]
  },
  {
   "cell_type": "code",
   "execution_count": null,
   "id": "217bbc02",
   "metadata": {},
   "outputs": [],
   "source": []
  },
  {
   "cell_type": "code",
   "execution_count": 258,
   "id": "eb01dd35",
   "metadata": {},
   "outputs": [
    {
     "data": {
      "image/png": "[encoded data removed]",
      "text/plain": [
       "<Figure size 864x288 with 1 Axes>"
      ]
     },
     "metadata": {
      "needs_background": "light"
     },
     "output_type": "display_data"
    }
   ],
   "source": [
    "fig, ax = plt.subplots(figsize = (12,4))\n",
    "\n",
    "ax.bar(labels, counts, color = colors)\n",
    "ax.set_ylim([0, 15500])\n",
    "\n",
    "for i, v in enumerate(counts):\n",
    "    ax.text(i, v + 300, str(v), color=\"gray\", fontweight='bold', ha = \"center\")\n",
    "    \n",
    "plt.xticks(rotation=30, ha = \"right\")\n",
    "plt.title(\"Distribution of labels by data set\")\n",
    "\n",
    "legend_patches = []\n",
    "for key, value in color_mapper.items():\n",
    "    legend_patches.append(mpatches.Patch(color=value, label=key))\n",
    "plt.legend(handles=legend_patches)\n",
    "\n",
    "plt.show()"
   ]
  },
  {
   "cell_type": "code",
   "execution_count": null,
   "id": "ff8b60d4",
   "metadata": {},
   "outputs": [],
   "source": []
  }
 ],
 "metadata": {
  "kernelspec": {
   "display_name": "Python [conda env:nlp-test]",
   "language": "python",
   "name": "conda-env-nlp-test-py"
  },
  "language_info": {
   "codemirror_mode": {
    "name": "ipython",
    "version": 3
   },
   "file_extension": ".py",
   "mimetype": "text/x-python",
   "name": "python",
   "nbconvert_exporter": "python",
   "pygments_lexer": "ipython3",
   "version": "3.7.10"
  }
 },
 "nbformat": 4,
 "nbformat_minor": 5
}
