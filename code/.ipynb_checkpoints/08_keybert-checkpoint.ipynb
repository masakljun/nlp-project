{
 "cells": [
  {
   "cell_type": "markdown",
   "id": "0f812e2d",
   "metadata": {},
   "source": [
    "# KeyBERT\n",
    "\n",
    "This notebook leverages KeyBERT to use the BERT embeddings to extract the keywords from the documents."
   ]
  },
  {
   "cell_type": "code",
   "execution_count": 1,
   "id": "driven-restaurant",
   "metadata": {},
   "outputs": [],
   "source": [
    "import pandas as pd\n",
    "import re\n",
    "import numpy as np\n",
    "from keybert import KeyBERT"
   ]
  },
  {
   "cell_type": "markdown",
   "id": "4044c2b5",
   "metadata": {},
   "source": [
    "Read the dataset"
   ]
  },
  {
   "cell_type": "code",
   "execution_count": 2,
   "id": "unsigned-saver",
   "metadata": {},
   "outputs": [],
   "source": [
    "data = pd.read_csv(\"dataset/data.csv\", sep = \";\")"
   ]
  },
  {
   "cell_type": "code",
   "execution_count": 3,
   "id": "hollywood-attention",
   "metadata": {},
   "outputs": [],
   "source": [
    "text = data[\"text\"].tolist()\n",
    "labels = data[\"label\"].tolist()"
   ]
  },
  {
   "cell_type": "markdown",
   "id": "33fbc9cb",
   "metadata": {},
   "source": [
    "Preprocess the dataset"
   ]
  },
  {
   "cell_type": "code",
   "execution_count": 4,
   "id": "genetic-blake",
   "metadata": {},
   "outputs": [],
   "source": [
    "def preprocess(A, labels):\n",
    "    B = []\n",
    "    labels_new = []\n",
    "    for i in range(len(A)):\n",
    "\n",
    "        text = A[i]\n",
    "        # remove old style retweet text \"RT\"\n",
    "        text = re.sub(r'^RT[\\s]+', '', text)\n",
    "\n",
    "        # remove hyperlinks\n",
    "        text= re.sub(r'https?:\\/\\/.*[\\r\\n]*', '', text)\n",
    "\n",
    "        # remove hashtags\n",
    "        # only removing the hash # sign from the word\n",
    "        text = re.sub(r'#', '', text)\n",
    "\n",
    "        # remove tagging @\n",
    "        text = re.sub(r\"(?:\\@|https?\\://)\\S+\", \"\", text)\n",
    "\n",
    "        # remove new line \\n\n",
    "        text = re.sub(\"\\n\", \"\", text)\n",
    "        \n",
    "        # remove numbers\n",
    "        text = text.replace(\"[0-9]\", \" \")\n",
    "    \n",
    "        # to lower case\n",
    "        text = text.lower()\n",
    "\n",
    "        # remove zero length tweets\n",
    "        if(len(text) == 0 ):\n",
    "            continue\n",
    "\n",
    "        B.append(text)\n",
    "        labels_new.append(labels[i])\n",
    "    return B, labels_new"
   ]
  },
  {
   "cell_type": "code",
   "execution_count": 5,
   "id": "appointed-zimbabwe",
   "metadata": {},
   "outputs": [
    {
     "data": {
      "text/plain": [
       "54395"
      ]
     },
     "execution_count": 5,
     "metadata": {},
     "output_type": "execute_result"
    }
   ],
   "source": [
    "texts, labels = preprocess(text, labels)\n",
    "len(texts)"
   ]
  },
  {
   "cell_type": "code",
   "execution_count": 6,
   "id": "b48df78a",
   "metadata": {},
   "outputs": [],
   "source": [
    "texts = np.array(texts)\n",
    "labels = np.array(labels)"
   ]
  },
  {
   "cell_type": "code",
   "execution_count": 7,
   "id": "cf377530",
   "metadata": {},
   "outputs": [],
   "source": [
    "model = KeyBERT('distilbert-base-nli-mean-tokens')"
   ]
  },
  {
   "cell_type": "code",
   "execution_count": 8,
   "id": "0d246445",
   "metadata": {},
   "outputs": [],
   "source": [
    "def get_keywords(doc, model):\n",
    "    keywords = model.extract_keywords(doc)[:3]\n",
    "    return keywords"
   ]
  },
  {
   "cell_type": "markdown",
   "id": "d80c22cb",
   "metadata": {},
   "source": [
    "### Select the label\n",
    "Set the label variable to the label you wish to extract keywords for. Possible options are show in the following cell:"
   ]
  },
  {
   "cell_type": "code",
   "execution_count": 9,
   "id": "98f93184",
   "metadata": {},
   "outputs": [
    {
     "data": {
      "text/plain": [
       "array(['abusive', 'benevolent', 'cyberbulling', 'hate', 'hateful',\n",
       "       'identity', 'insult', 'obscene', 'offensive', 'profane', 'racism',\n",
       "       'sexism', 'spam', 'threat', 'toxic'], dtype='<U12')"
      ]
     },
     "execution_count": 9,
     "metadata": {},
     "output_type": "execute_result"
    }
   ],
   "source": [
    "# choose the label\n",
    "np.unique(labels)"
   ]
  },
  {
   "cell_type": "code",
   "execution_count": 10,
   "id": "e6f5308b",
   "metadata": {},
   "outputs": [],
   "source": [
    "label = \"spam\"\n",
    "idx = labels == label"
   ]
  },
  {
   "cell_type": "code",
   "execution_count": 11,
   "id": "a9453ead",
   "metadata": {},
   "outputs": [],
   "source": [
    "texts_f = texts[idx]"
   ]
  },
  {
   "cell_type": "code",
   "execution_count": 12,
   "id": "f2e34495",
   "metadata": {},
   "outputs": [],
   "source": [
    "keywords = []"
   ]
  },
  {
   "cell_type": "markdown",
   "id": "4d5e8608",
   "metadata": {},
   "source": [
    "For each label get the keywords"
   ]
  },
  {
   "cell_type": "code",
   "execution_count": 13,
   "id": "a1e1500f",
   "metadata": {},
   "outputs": [],
   "source": [
    "for i in range(len(texts_f)):\n",
    "    keywords.extend(get_keywords(texts_f[i], model))"
   ]
  },
  {
   "cell_type": "code",
   "execution_count": 14,
   "id": "e399b704",
   "metadata": {},
   "outputs": [],
   "source": [
    "keywords = [x[0] for x in keywords]"
   ]
  },
  {
   "cell_type": "markdown",
   "id": "aa6c9ea5",
   "metadata": {},
   "source": [
    "Get most common keywords of this label and show counts"
   ]
  },
  {
   "cell_type": "code",
   "execution_count": 15,
   "id": "769580a9",
   "metadata": {},
   "outputs": [
    {
     "name": "stdout",
     "output_type": "stream",
     "text": [
      "Keywords: ['video' 'new' '2017' 'liked' 'free' 'april']\n",
      "Counts: [335 323 170 162 124 124]\n"
     ]
    }
   ],
   "source": [
    "w, c = np.unique(keywords, return_counts = True)\n",
    "w = w[np.argsort(c)][-6::]\n",
    "c = c[np.argsort(c)][-6::]\n",
    "print(f\"Keywords: {w[::-1]}\")\n",
    "print(f\"Counts: {c[::-1]}\")"
   ]
  },
  {
   "cell_type": "code",
   "execution_count": null,
   "id": "6b5dee19",
   "metadata": {},
   "outputs": [],
   "source": [
    "\"\"\"\n",
    "abusive: fucking, idiot, bitch, hate, fuck\n",
    "benevolent: women, womensday, sassy, adaywithoutwomen, woman\n",
    "cyberbullying: riot, troll, hacking, trolls, hacker\n",
    "hate: trumpisatraitor, doctorsfightback, shameonicc, borisjohnsonshouldnotbepm, trump\n",
    "hateful: hate, trump, idiot, nigga, fucking\n",
    "identity: gay, fuck, nigger, bitch, fucking\n",
    "insult: fuck, wikipedia, bitch, fucking, suck\n",
    "obscene: fuck, wikipedia, bitch, fucking, suck\n",
    "offensive: trumpisatraitor, fucktrump, trump, murderer, rapist\n",
    "profane: fucktrump, fuck, dickhead, trump, douchebag\n",
    "racism: coon, white, black, terror, fuck\n",
    "sexism: sexist, women, feminazi, girls, kat\n",
    "spam: video, new, 2017, liked, free\n",
    "threat: kill, die, fuck, bitch, rape, death\n",
    "toxic: fuck, wikipedia, bitch, fucking, suck\n",
    "\n",
    "\"\"\""
   ]
  },
  {
   "cell_type": "code",
   "execution_count": null,
   "id": "cfbc0b51",
   "metadata": {},
   "outputs": [],
   "source": []
  }
 ],
 "metadata": {
  "kernelspec": {
   "display_name": "Python [conda env:test1] *",
   "language": "python",
   "name": "conda-env-test1-py"
  },
  "language_info": {
   "codemirror_mode": {
    "name": "ipython",
    "version": 3
   },
   "file_extension": ".py",
   "mimetype": "text/x-python",
   "name": "python",
   "nbconvert_exporter": "python",
   "pygments_lexer": "ipython3",
   "version": "3.7.10"
  }
 },
 "nbformat": 4,
 "nbformat_minor": 5
}
