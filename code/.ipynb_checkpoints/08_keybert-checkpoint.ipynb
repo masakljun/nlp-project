{
 "cells": [
  {
   "cell_type": "code",
   "execution_count": 1,
   "id": "driven-restaurant",
   "metadata": {},
   "outputs": [],
   "source": [
    "import pandas as pd\n",
    "import re\n",
    "import numpy as np\n",
    "from keybert import KeyBERT"
   ]
  },
  {
   "cell_type": "markdown",
   "id": "4044c2b5",
   "metadata": {},
   "source": [
    "Read the dataset"
   ]
  },
  {
   "cell_type": "code",
   "execution_count": 26,
   "id": "unsigned-saver",
   "metadata": {},
   "outputs": [],
   "source": [
    "data = pd.read_csv(\"dataset/data.csv\", sep = \";\")"
   ]
  },
  {
   "cell_type": "code",
   "execution_count": 27,
   "id": "hollywood-attention",
   "metadata": {},
   "outputs": [],
   "source": [
    "text = data[\"text\"].tolist()\n",
    "labels = data[\"label\"].tolist()"
   ]
  },
  {
   "cell_type": "markdown",
   "id": "33fbc9cb",
   "metadata": {},
   "source": [
    "Preprocess the dataset"
   ]
  },
  {
   "cell_type": "code",
   "execution_count": 28,
   "id": "genetic-blake",
   "metadata": {},
   "outputs": [],
   "source": [
    "def preprocess(A, labels):\n",
    "    B = []\n",
    "    labels_new = []\n",
    "    for i in range(len(A)):\n",
    "\n",
    "        text = A[i]\n",
    "        # remove old style retweet text \"RT\"\n",
    "        text = re.sub(r'^RT[\\s]+', '', text)\n",
    "\n",
    "        # remove hyperlinks\n",
    "        text= re.sub(r'https?:\\/\\/.*[\\r\\n]*', '', text)\n",
    "\n",
    "        # remove hashtags\n",
    "        # only removing the hash # sign from the word\n",
    "        text = re.sub(r'#', '', text)\n",
    "\n",
    "        # remove tagging @\n",
    "        text = re.sub(r\"(?:\\@|https?\\://)\\S+\", \"\", text)\n",
    "\n",
    "        # remove new line \\n\n",
    "        text = re.sub(\"\\n\", \"\", text)\n",
    "        \n",
    "        # remove numbers\n",
    "        text = text.replace(\"[0-9]\", \" \")\n",
    "    \n",
    "        # to lower case\n",
    "        text = text.lower()\n",
    "\n",
    "        # remove zero length tweets\n",
    "        if(len(text) == 0 ):\n",
    "            continue\n",
    "\n",
    "        B.append(text)\n",
    "        labels_new.append(labels[i])\n",
    "    return B, labels_new"
   ]
  },
  {
   "cell_type": "code",
   "execution_count": 29,
   "id": "appointed-zimbabwe",
   "metadata": {},
   "outputs": [
    {
     "data": {
      "text/plain": [
       "57581"
      ]
     },
     "execution_count": 29,
     "metadata": {},
     "output_type": "execute_result"
    }
   ],
   "source": [
    "texts, labels = preprocess(text, labels)\n",
    "len(texts)"
   ]
  },
  {
   "cell_type": "code",
   "execution_count": 30,
   "id": "b48df78a",
   "metadata": {},
   "outputs": [],
   "source": [
    "texts = np.array(texts)\n",
    "labels = np.array(labels)"
   ]
  },
  {
   "cell_type": "code",
   "execution_count": 9,
   "id": "cf377530",
   "metadata": {},
   "outputs": [],
   "source": [
    "model = KeyBERT('distilbert-base-nli-mean-tokens')"
   ]
  },
  {
   "cell_type": "code",
   "execution_count": 10,
   "id": "0d246445",
   "metadata": {},
   "outputs": [],
   "source": [
    "def get_keywords(doc, model):\n",
    "    keywords = model.extract_keywords(doc)[:3]\n",
    "    return keywords"
   ]
  },
  {
   "cell_type": "code",
   "execution_count": 7,
   "id": "98f93184",
   "metadata": {},
   "outputs": [
    {
     "data": {
      "text/plain": [
       "array(['abusive', 'benevolent', 'cyberbulling', 'hate', 'hateful',\n",
       "       'identity', 'insult', 'obscene', 'offensive', 'profane', 'racism',\n",
       "       'sexism', 'spam', 'threat', 'toxic'], dtype='<U12')"
      ]
     },
     "execution_count": 7,
     "metadata": {},
     "output_type": "execute_result"
    }
   ],
   "source": [
    "# choose the label\n",
    "np.unique(labels)"
   ]
  },
  {
   "cell_type": "code",
   "execution_count": 120,
   "id": "e6f5308b",
   "metadata": {},
   "outputs": [],
   "source": [
    "label = \"toxic\"\n",
    "idx = labels == label"
   ]
  },
  {
   "cell_type": "code",
   "execution_count": 121,
   "id": "a9453ead",
   "metadata": {},
   "outputs": [],
   "source": [
    "texts_f = texts[idx]"
   ]
  },
  {
   "cell_type": "code",
   "execution_count": 122,
   "id": "f2e34495",
   "metadata": {},
   "outputs": [],
   "source": [
    "keywords = []"
   ]
  },
  {
   "cell_type": "code",
   "execution_count": 123,
   "id": "a1e1500f",
   "metadata": {},
   "outputs": [],
   "source": [
    "for i in range(len(texts_f)):\n",
    "    keywords.extend(get_keywords(texts_f[i], model))"
   ]
  },
  {
   "cell_type": "code",
   "execution_count": 124,
   "id": "e399b704",
   "metadata": {},
   "outputs": [],
   "source": [
    "keywords = [x[0] for x in keywords]"
   ]
  },
  {
   "cell_type": "code",
   "execution_count": 125,
   "id": "769580a9",
   "metadata": {},
   "outputs": [
    {
     "name": "stdout",
     "output_type": "stream",
     "text": [
      "Keywords: ['fuck' 'wikipedia' 'bitch' 'fucking' 'suck' 'gay']\n",
      "Counts: [2108 1605  842  808  562  523]\n"
     ]
    }
   ],
   "source": [
    "w, c = np.unique(keywords, return_counts = True)\n",
    "w = w[np.argsort(c)][-6::]\n",
    "c = c[np.argsort(c)][-6::]\n",
    "print(f\"Keywords: {w[::-1]}\")\n",
    "print(f\"Counts: {c[::-1]}\")"
   ]
  },
  {
   "cell_type": "code",
   "execution_count": null,
   "id": "6b5dee19",
   "metadata": {},
   "outputs": [],
   "source": [
    "\"\"\"\n",
    "abusive: fucking, idiot, bitch, hate, fuck\n",
    "benevolent: women, womensday, sassy, adaywithoutwomen, woman\n",
    "cyberbullying: riot, troll, hacking, trolls, hacker\n",
    "hate: trumpisatraitor, doctorsfightback, shameonicc, borisjohnsonshouldnotbepm, trump\n",
    "hateful: hate, trump, idiot, nigga, fucking\n",
    "identity: gay, fuck, nigger, bitch, fucking\n",
    "insult: fuck, wikipedia, bitch, fucking, suck\n",
    "obscene: fuck, wikipedia, bitch, fucking, suck\n",
    "offensive: trumpisatraitor, fucktrump, trump, murderer, rapist\n",
    "profane: fucktrump, fuck, dickhead, trump, douchebag\n",
    "racism: coon, white, black, terror, fuck\n",
    "sexism: sexist, women, feminazi, girls, kat\n",
    "spam: video, new, 2017, liked, free\n",
    "threat: kill, die, fuck, bitch, rape, death\n",
    "toxic: fuck, wikipedia, bitch, fucking, suck\n",
    "\n",
    "\"\"\""
   ]
  },
  {
   "cell_type": "markdown",
   "id": "8ff62723",
   "metadata": {},
   "source": [
    "Get possible keyword candidates"
   ]
  },
  {
   "cell_type": "code",
   "execution_count": 16,
   "id": "square-dancing",
   "metadata": {},
   "outputs": [
    {
     "data": {
      "text/plain": [
       "'\\nfrom sklearn.feature_extraction.text import CountVectorizer\\n\\nn_gram_range = (1, 1)\\nstop_words = \"english\"\\n\\n# Extract candidate words/phrases\\ncount = CountVectorizer(ngram_range=n_gram_range, stop_words=stop_words).fit(texts[idx].tolist())\\ncandidates = count.get_feature_names()\\n'"
      ]
     },
     "execution_count": 16,
     "metadata": {},
     "output_type": "execute_result"
    }
   ],
   "source": [
    "\"\"\"\n",
    "from sklearn.feature_extraction.text import CountVectorizer\n",
    "\n",
    "n_gram_range = (1, 1)\n",
    "stop_words = \"english\"\n",
    "\n",
    "# Extract candidate words/phrases\n",
    "count = CountVectorizer(ngram_range=n_gram_range, stop_words=stop_words).fit(texts[idx].tolist())\n",
    "candidates = count.get_feature_names()\n",
    "\"\"\""
   ]
  },
  {
   "cell_type": "code",
   "execution_count": 17,
   "id": "9d5f553e",
   "metadata": {},
   "outputs": [],
   "source": [
    "#len(candidates)"
   ]
  },
  {
   "cell_type": "markdown",
   "id": "846aa028",
   "metadata": {},
   "source": [
    "Load the model"
   ]
  },
  {
   "cell_type": "code",
   "execution_count": 18,
   "id": "signal-karen",
   "metadata": {},
   "outputs": [
    {
     "data": {
      "text/plain": [
       "'\\nfrom sentence_transformers import SentenceTransformer\\nmodel = SentenceTransformer(\\'bert-base-nli-mean-tokens\\')\\n\\n#model = SentenceTransformer(\\'distilbert-base-nli-mean-tokens\\', \"cuda\")\\n\\nmodel.max_seq_length = 512\\n'"
      ]
     },
     "execution_count": 18,
     "metadata": {},
     "output_type": "execute_result"
    }
   ],
   "source": [
    "\"\"\"\n",
    "from sentence_transformers import SentenceTransformer\n",
    "model = SentenceTransformer('bert-base-nli-mean-tokens')\n",
    "\n",
    "#model = SentenceTransformer('distilbert-base-nli-mean-tokens', \"cuda\")\n",
    "\n",
    "model.max_seq_length = 512\n",
    "\"\"\""
   ]
  },
  {
   "cell_type": "code",
   "execution_count": 19,
   "id": "e5638684",
   "metadata": {},
   "outputs": [
    {
     "data": {
      "text/plain": [
       "'\\ndoc_embedding = model.encode(texts, show_progress_bar = True)\\ncandidate_embeddings = model.encode(candidates)\\n'"
      ]
     },
     "execution_count": 19,
     "metadata": {},
     "output_type": "execute_result"
    }
   ],
   "source": [
    "\"\"\"\n",
    "doc_embedding = model.encode(texts, show_progress_bar = True)\n",
    "candidate_embeddings = model.encode(candidates)\n",
    "\"\"\""
   ]
  },
  {
   "cell_type": "code",
   "execution_count": 20,
   "id": "b0094e31",
   "metadata": {},
   "outputs": [],
   "source": [
    "#candidate_embeddings.shape"
   ]
  },
  {
   "cell_type": "code",
   "execution_count": 21,
   "id": "social-toolbox",
   "metadata": {},
   "outputs": [],
   "source": [
    "\n",
    "#def get_keywords(doc_embedding, candidate_embeddings, top_n = 3):\n",
    "#    distances = cosine_similarity(test, candidate_embeddings)\n",
    "#    keywords = [candidates[index] for index in distances.argsort()[0][-top_n:]]\n",
    "#    return keywords"
   ]
  },
  {
   "cell_type": "markdown",
   "id": "316ab907",
   "metadata": {},
   "source": [
    "Compute the similarity between the embeddings of tweets and keyword candidates"
   ]
  },
  {
   "cell_type": "code",
   "execution_count": 22,
   "id": "caring-allen",
   "metadata": {},
   "outputs": [
    {
     "data": {
      "text/plain": [
       "'\\nfrom sklearn.metrics.pairwise import cosine_similarity\\n\\nkeyword_matrix = cosine_similarity(doc_embedding, candidate_embeddings)\\n'"
      ]
     },
     "execution_count": 22,
     "metadata": {},
     "output_type": "execute_result"
    }
   ],
   "source": [
    "\"\"\"\n",
    "from sklearn.metrics.pairwise import cosine_similarity\n",
    "\n",
    "keyword_matrix = cosine_similarity(doc_embedding, candidate_embeddings)\n",
    "\"\"\""
   ]
  },
  {
   "cell_type": "markdown",
   "id": "d5505b82",
   "metadata": {},
   "source": [
    "Extract keywords for each tweet"
   ]
  },
  {
   "cell_type": "code",
   "execution_count": 23,
   "id": "0a8e5a2a",
   "metadata": {},
   "outputs": [],
   "source": [
    "#def get_keywords(i, keyword_matrix, candidates, top_n = 3):\n",
    "#    keywords = [candidates[index] for index in keyword_matrix[i,:].argsort()[-top_n:]]\n",
    "#    return keywords"
   ]
  },
  {
   "cell_type": "code",
   "execution_count": 24,
   "id": "excellent-narrow",
   "metadata": {},
   "outputs": [
    {
     "data": {
      "text/plain": [
       "'\\nkeywords = {}\\nfor i in range(doc_embedding.shape[0]):\\n    x = keywords.get(labels[i])\\n    if x is None:\\n        x = []\\n        \\n    # extract keywords\\n    keys = get_keywords(i, keyword_matrix, candidates)\\n    x.extend(keys)\\n    \\n    keywords[labels[i]] = x\\n'"
      ]
     },
     "execution_count": 24,
     "metadata": {},
     "output_type": "execute_result"
    }
   ],
   "source": [
    "\"\"\"\n",
    "keywords = {}\n",
    "for i in range(doc_embedding.shape[0]):\n",
    "    x = keywords.get(labels[i])\n",
    "    if x is None:\n",
    "        x = []\n",
    "        \n",
    "    # extract keywords\n",
    "    keys = get_keywords(i, keyword_matrix, candidates)\n",
    "    x.extend(keys)\n",
    "    \n",
    "    keywords[labels[i]] = x\n",
    "\"\"\""
   ]
  },
  {
   "cell_type": "markdown",
   "id": "46f99366",
   "metadata": {},
   "source": [
    "Get most common keywords for each label"
   ]
  },
  {
   "cell_type": "code",
   "execution_count": 25,
   "id": "51c50dab",
   "metadata": {},
   "outputs": [
    {
     "data": {
      "text/plain": [
       "'\\nimport numpy as np\\n\\nremove = \"yamla_likes_to_fuck_babies_up_the_ass_wwwwwwwwwwwwwwwwwwwwwwwwwwwwwwwwwwwwwwwwwwwwwwwwwwwwwwwwwwwwwwwwwwwwwwwwwwwwwwwwwwwwwwwwwwwwwwwwwwwwwwwwwwwwwwwwwwwwwwwwwwwwwwwwwwww\"\\ntop_n = 10\\nfor k,v in keywords.items():\\n    words, counts = np.unique(v, return_counts = True)\\n    idx = np.argsort(counts)\\n    words = words[idx]\\n    counts = counts[idx]\\n    keys = words[-top_n:]\\n    if keys[-1] == remove:\\n        keys = np.delete(keys, -1)\\n    print(f\"{k}: {keys}\")\\n'"
      ]
     },
     "execution_count": 25,
     "metadata": {},
     "output_type": "execute_result"
    }
   ],
   "source": [
    "\"\"\"\n",
    "import numpy as np\n",
    "\n",
    "remove = \"yamla_likes_to_fuck_babies_up_the_ass_wwwwwwwwwwwwwwwwwwwwwwwwwwwwwwwwwwwwwwwwwwwwwwwwwwwwwwwwwwwwwwwwwwwwwwwwwwwwwwwwwwwwwwwwwwwwwwwwwwwwwwwwwwwwwwwwwwwwwwwwwwwwwwwwwwww\"\n",
    "top_n = 10\n",
    "for k,v in keywords.items():\n",
    "    words, counts = np.unique(v, return_counts = True)\n",
    "    idx = np.argsort(counts)\n",
    "    words = words[idx]\n",
    "    counts = counts[idx]\n",
    "    keys = words[-top_n:]\n",
    "    if keys[-1] == remove:\n",
    "        keys = np.delete(keys, -1)\n",
    "    print(f\"{k}: {keys}\")\n",
    "\"\"\""
   ]
  },
  {
   "cell_type": "code",
   "execution_count": null,
   "id": "cfbc0b51",
   "metadata": {},
   "outputs": [],
   "source": []
  }
 ],
 "metadata": {
  "kernelspec": {
   "display_name": "Python [conda env:nlp] *",
   "language": "python",
   "name": "conda-env-nlp-py"
  },
  "language_info": {
   "codemirror_mode": {
    "name": "ipython",
    "version": 3
   },
   "file_extension": ".py",
   "mimetype": "text/x-python",
   "name": "python",
   "nbconvert_exporter": "python",
   "pygments_lexer": "ipython3",
   "version": "3.7.10"
  }
 },
 "nbformat": 4,
 "nbformat_minor": 5
}
