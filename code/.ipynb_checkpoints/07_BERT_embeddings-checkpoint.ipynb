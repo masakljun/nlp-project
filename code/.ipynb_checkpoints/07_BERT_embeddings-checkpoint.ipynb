{
 "cells": [
  {
   "cell_type": "code",
   "execution_count": 1,
   "id": "c71aaa06",
   "metadata": {},
   "outputs": [],
   "source": [
    "import pandas as pd\n",
    "import matplotlib.pyplot as plt\n",
    "import re\n",
    "import numpy as np"
   ]
  },
  {
   "cell_type": "code",
   "execution_count": 2,
   "id": "6f371773",
   "metadata": {},
   "outputs": [],
   "source": [
    "from transformers import (BertModel, \n",
    "                          BertTokenizer)\n",
    "\n",
    "from tqdm.notebook import tqdm"
   ]
  },
  {
   "cell_type": "markdown",
   "id": "b3155610",
   "metadata": {},
   "source": [
    "Read the data"
   ]
  },
  {
   "cell_type": "code",
   "execution_count": 3,
   "id": "f64fe0ed",
   "metadata": {},
   "outputs": [
    {
     "data": {
      "text/html": [
       "<div>\n",
       "<style scoped>\n",
       "    .dataframe tbody tr th:only-of-type {\n",
       "        vertical-align: middle;\n",
       "    }\n",
       "\n",
       "    .dataframe tbody tr th {\n",
       "        vertical-align: top;\n",
       "    }\n",
       "\n",
       "    .dataframe thead th {\n",
       "        text-align: right;\n",
       "    }\n",
       "</style>\n",
       "<table border=\"1\" class=\"dataframe\">\n",
       "  <thead>\n",
       "    <tr style=\"text-align: right;\">\n",
       "      <th></th>\n",
       "      <th>text</th>\n",
       "      <th>label</th>\n",
       "    </tr>\n",
       "  </thead>\n",
       "  <tbody>\n",
       "    <tr>\n",
       "      <th>0</th>\n",
       "      <td>fucks sake go away stupid anon — ^  https://t....</td>\n",
       "      <td>abusive</td>\n",
       "    </tr>\n",
       "    <tr>\n",
       "      <th>1</th>\n",
       "      <td>Damn dean just put Corbin to sleep. That Match...</td>\n",
       "      <td>abusive</td>\n",
       "    </tr>\n",
       "    <tr>\n",
       "      <th>2</th>\n",
       "      <td>@TheRealCamerota THAT BEER BUYING FREAKING IDI...</td>\n",
       "      <td>abusive</td>\n",
       "    </tr>\n",
       "    <tr>\n",
       "      <th>3</th>\n",
       "      <td>what idiot called them antacids and not afterb...</td>\n",
       "      <td>abusive</td>\n",
       "    </tr>\n",
       "    <tr>\n",
       "      <th>4</th>\n",
       "      <td>RT @gogglepossum: Don't you hate people that p...</td>\n",
       "      <td>abusive</td>\n",
       "    </tr>\n",
       "  </tbody>\n",
       "</table>\n",
       "</div>"
      ],
      "text/plain": [
       "                                                text    label\n",
       "0  fucks sake go away stupid anon — ^  https://t....  abusive\n",
       "1  Damn dean just put Corbin to sleep. That Match...  abusive\n",
       "2  @TheRealCamerota THAT BEER BUYING FREAKING IDI...  abusive\n",
       "3  what idiot called them antacids and not afterb...  abusive\n",
       "4  RT @gogglepossum: Don't you hate people that p...  abusive"
      ]
     },
     "execution_count": 3,
     "metadata": {},
     "output_type": "execute_result"
    }
   ],
   "source": [
    "data = pd.read_csv(\"dataset/data.csv\", sep = \";\")\n",
    "data.head()"
   ]
  },
  {
   "cell_type": "markdown",
   "id": "9776a99a",
   "metadata": {},
   "source": [
    "Preprocess the dataset"
   ]
  },
  {
   "cell_type": "code",
   "execution_count": 4,
   "id": "7ee40b88",
   "metadata": {},
   "outputs": [],
   "source": [
    "def preprocess(A, labels):\n",
    "    B = []\n",
    "    labels_new = []\n",
    "    for i in range(len(A)):\n",
    "\n",
    "        text = A[i]\n",
    "        # remove old style retweet text \"RT\"\n",
    "        text = re.sub(r'^RT[\\s]+', '', text)\n",
    "\n",
    "        # remove hyperlinks\n",
    "        text= re.sub(r'https?:\\/\\/.*[\\r\\n]*', '', text)\n",
    "\n",
    "        # remove hashtags\n",
    "        # only removing the hash # sign from the word\n",
    "        text = re.sub(r'#', '', text)\n",
    "\n",
    "        # remove tagging @\n",
    "        text = re.sub(r\"(?:\\@|https?\\://)\\S+\", \"\", text)\n",
    "\n",
    "        # remove new line \\n\n",
    "        text = re.sub(\"\\n\", \"\", text)\n",
    "        \n",
    "        # remove numbers\n",
    "        text = text.replace(\"[0-9]\", \" \")\n",
    "    \n",
    "        # to lower case\n",
    "        text = text.lower()\n",
    "\n",
    "        # remove zero length tweets\n",
    "        if(len(text) == 0 ):\n",
    "            continue\n",
    "\n",
    "        B.append(text)\n",
    "        labels_new.append(labels[i])\n",
    "    return B, labels_new"
   ]
  },
  {
   "cell_type": "code",
   "execution_count": 5,
   "id": "7f661323",
   "metadata": {},
   "outputs": [
    {
     "data": {
      "text/plain": [
       "57581"
      ]
     },
     "execution_count": 5,
     "metadata": {},
     "output_type": "execute_result"
    }
   ],
   "source": [
    "texts, labels = preprocess(data[\"text\"], data[\"label\"])\n",
    "len(texts)"
   ]
  },
  {
   "cell_type": "code",
   "execution_count": 6,
   "id": "aa9add12",
   "metadata": {},
   "outputs": [],
   "source": [
    "bert_model = BertModel.from_pretrained(\"bert-base-cased\", output_hidden_states = True)"
   ]
  },
  {
   "cell_type": "code",
   "execution_count": 7,
   "id": "3c1bb842",
   "metadata": {},
   "outputs": [],
   "source": [
    "bert_tokenizer = BertTokenizer.from_pretrained(\"bert-base-cased\")"
   ]
  },
  {
   "cell_type": "code",
   "execution_count": 8,
   "id": "1daae22e",
   "metadata": {},
   "outputs": [
    {
     "name": "stdout",
     "output_type": "stream",
     "text": [
      "8\n"
     ]
    },
    {
     "data": {
      "text/plain": [
       "{'racism': ['-', 'This', 'is', 'racism'],\n",
       " 'hateful': ['-', 'This', 'is', 'hate', '##ful'],\n",
       " 'sexism': ['-', 'This', 'is', 'sex', '##ism'],\n",
       " 'benevolent': ['-', 'This', 'is', 'ben', '##evo', '##lent'],\n",
       " 'abusive': ['-', 'This', 'is', 'abusive'],\n",
       " 'cyberbulling': ['-', 'This', 'is', 'c', '##y', '##ber', '##bull', '##ing'],\n",
       " 'toxic': ['-', 'This', 'is', 'toxic'],\n",
       " 'obscene': ['-', 'This', 'is', 'o', '##bs', '##cene'],\n",
       " 'identity': ['-', 'This', 'is', 'identity'],\n",
       " 'profane': ['-', 'This', 'is', 'pro', '##fan', '##e'],\n",
       " 'threat': ['-', 'This', 'is', 'threat'],\n",
       " 'insult': ['-', 'This', 'is', 'insult'],\n",
       " 'offensive': ['-', 'This', 'is', 'offensive'],\n",
       " 'spam': ['-', 'This', 'is', 'spa', '##m'],\n",
       " 'hate': ['-', 'This', 'is', 'hate']}"
      ]
     },
     "execution_count": 8,
     "metadata": {},
     "output_type": "execute_result"
    }
   ],
   "source": [
    "tokenized_labels = dict()\n",
    "max_length = 0\n",
    "for label in list(set(labels)):\n",
    "    tokenized_labels[label] = bert_tokenizer.tokenize(f\" - This is {label}\")\n",
    "    if len(tokenized_labels[label]) > max_length:\n",
    "        max_length = len(tokenized_labels[label])\n",
    "\n",
    "    \n",
    "print(max_length)\n",
    "tokenized_labels\n",
    "    \n"
   ]
  },
  {
   "cell_type": "code",
   "execution_count": 9,
   "id": "0e6b6f6f",
   "metadata": {},
   "outputs": [
    {
     "data": {
      "text/plain": [
       "{'racism': 1,\n",
       " 'hateful': 2,\n",
       " 'sexism': 2,\n",
       " 'benevolent': 3,\n",
       " 'abusive': 1,\n",
       " 'cyberbulling': 5,\n",
       " 'toxic': 1,\n",
       " 'obscene': 3,\n",
       " 'identity': 1,\n",
       " 'profane': 3,\n",
       " 'threat': 1,\n",
       " 'insult': 1,\n",
       " 'offensive': 1,\n",
       " 'spam': 2,\n",
       " 'hate': 1}"
      ]
     },
     "execution_count": 9,
     "metadata": {},
     "output_type": "execute_result"
    }
   ],
   "source": [
    "tokenized_labels_lengths = dict()\n",
    "for label in list(set(labels)):\n",
    "    tokenized_labels_lengths[label] = len(tokenized_labels[label][3:])\n",
    "    \n",
    "tokenized_labels_lengths"
   ]
  },
  {
   "cell_type": "code",
   "execution_count": 10,
   "id": "b1dd2f0e",
   "metadata": {},
   "outputs": [],
   "source": [
    "texts_new = []\n",
    "for i, text in enumerate(texts):\n",
    "    texts_new.append(f\"{text} - This is {labels[i]}\")"
   ]
  },
  {
   "cell_type": "code",
   "execution_count": 11,
   "id": "9a3cebcf",
   "metadata": {},
   "outputs": [
    {
     "data": {
      "text/plain": [
       "['fucks sake go away stupid anon — ^   - This is abusive',\n",
       " 'damn dean just put corbin to sleep. that match also showed why it was on pre show. boring as fuck - This is abusive',\n",
       " ' that beer buying freaking idiot thinks trump leaked it to nail rice? are you kidding? and sacrifice flynn. mud is appropo - This is abusive',\n",
       " 'what idiot called them antacids and not afterburners - This is abusive',\n",
       " \" don't you hate people that put salt on their bag of dicks before even trying them? - This is abusive\",\n",
       " 'you worried about somebody bein ugly... bitch you ugly... - This is abusive',\n",
       " 'holy crap!! the biggest assclown of a mayor on  pulling race card!! get his ass outta office!!! draintheswamp - This is abusive',\n",
       " ' i just want to cry so fucking bad look at them  - This is abusive',\n",
       " 'yooooo vans got these sick ass velvet oxblood slip onnnnssssss 💦💦💦💦👅👅👅👅 - This is abusive',\n",
       " ' disgusting. insulting. parks are not a charity. give them a fucking budget, asshole.  theresistance… - This is abusive']"
      ]
     },
     "execution_count": 11,
     "metadata": {},
     "output_type": "execute_result"
    }
   ],
   "source": [
    "texts_new[0:10]"
   ]
  },
  {
   "cell_type": "markdown",
   "id": "d5ed2dc6",
   "metadata": {},
   "source": [
    "How many sequences are too long to add the label sentence?"
   ]
  },
  {
   "cell_type": "code",
   "execution_count": 12,
   "id": "48da9e5e",
   "metadata": {},
   "outputs": [],
   "source": [
    "pad_token=0\n",
    "pad_token_segment_id=0\n",
    "max_length=512\n",
    "\n",
    "def convert_to_input(reviews):\n",
    "  input_ids,attention_masks,token_type_ids, nums=[],[],[],[]\n",
    "  \n",
    "  for x in tqdm(reviews,position=0, leave=True):\n",
    "    inputs = bert_tokenizer.encode_plus(x,add_special_tokens=True, max_length=max_length, return_overflowing_tokens=True)\n",
    "    \n",
    "    i, t, num = inputs[\"input_ids\"], inputs[\"token_type_ids\"], inputs[\"num_truncated_tokens\"]\n",
    "    m = [1] * len(i)\n",
    "            \n",
    "    padding_length = max_length - len(i)\n",
    "\n",
    "    i = i + ([pad_token] * padding_length)\n",
    "    m = m + ([0] * padding_length)\n",
    "    t = t + ([pad_token_segment_id] * padding_length)\n",
    "    \n",
    "    input_ids.append(i)\n",
    "    attention_masks.append(m)\n",
    "    token_type_ids.append(t)\n",
    "    nums.append(num)\n",
    "  \n",
    "  return [np.asarray(input_ids), \n",
    "            np.asarray(attention_masks), \n",
    "            np.asarray(token_type_ids),\n",
    "            np.asarray(nums)]"
   ]
  },
  {
   "cell_type": "code",
   "execution_count": 13,
   "id": "698b9832",
   "metadata": {},
   "outputs": [
    {
     "data": {
      "application/vnd.jupyter.widget-view+json": {
       "model_id": "02f6151521a54693a05fab8cfdfd5f64",
       "version_major": 2,
       "version_minor": 0
      },
      "text/plain": [
       "  0%|          | 0/57581 [00:00<?, ?it/s]"
      ]
     },
     "metadata": {},
     "output_type": "display_data"
    },
    {
     "name": "stderr",
     "output_type": "stream",
     "text": [
      "Truncation was not explicitly activated but `max_length` is provided a specific value, please use `truncation=True` to explicitly truncate examples to max length. Defaulting to 'longest_first' truncation strategy. If you encode pairs of sequences (GLUE-style) with the tokenizer you can select this strategy more precisely by providing a specific strategy to `truncation`.\n"
     ]
    }
   ],
   "source": [
    "test = convert_to_input(texts)"
   ]
  },
  {
   "cell_type": "markdown",
   "id": "1f16a3bc",
   "metadata": {},
   "source": [
    "Remove truncated sentences as we lose the labes"
   ]
  },
  {
   "cell_type": "code",
   "execution_count": 14,
   "id": "7ed01719",
   "metadata": {},
   "outputs": [],
   "source": [
    "idx = np.array(test[3]) <= 0"
   ]
  },
  {
   "cell_type": "code",
   "execution_count": 15,
   "id": "38a01f28",
   "metadata": {},
   "outputs": [
    {
     "data": {
      "text/plain": [
       "(3, 56708, 512)"
      ]
     },
     "execution_count": 15,
     "metadata": {},
     "output_type": "execute_result"
    }
   ],
   "source": [
    "inputs = np.array(test[0:3])\n",
    "inputs = inputs[:, idx, :]\n",
    "inputs.shape"
   ]
  },
  {
   "cell_type": "code",
   "execution_count": 16,
   "id": "a4b5f86a",
   "metadata": {},
   "outputs": [
    {
     "data": {
      "text/plain": [
       "56708"
      ]
     },
     "execution_count": 16,
     "metadata": {},
     "output_type": "execute_result"
    }
   ],
   "source": [
    "labels = np.array(labels)\n",
    "labels = labels[idx]\n",
    "len(labels)"
   ]
  },
  {
   "cell_type": "code",
   "execution_count": 17,
   "id": "3b3e4363",
   "metadata": {},
   "outputs": [
    {
     "data": {
      "text/plain": [
       "array([ 3687, 16618,  1122])"
      ]
     },
     "execution_count": 17,
     "metadata": {},
     "output_type": "execute_result"
    }
   ],
   "source": [
    "last = sum(inputs[1,40000,:]) - 1\n",
    "first = last - tokenized_labels_lengths[labels[40000]]\n",
    "\n",
    "inputs[0, 40000, first:last]"
   ]
  },
  {
   "cell_type": "code",
   "execution_count": null,
   "id": "ecd343ee",
   "metadata": {},
   "outputs": [],
   "source": []
  },
  {
   "cell_type": "code",
   "execution_count": null,
   "id": "fb478c48",
   "metadata": {},
   "outputs": [],
   "source": []
  },
  {
   "cell_type": "code",
   "execution_count": 18,
   "id": "9cff4582",
   "metadata": {},
   "outputs": [
    {
     "data": {
      "application/vnd.jupyter.widget-view+json": {
       "model_id": "0a1f84cb501941b48ad5ae879fc21103",
       "version_major": 2,
       "version_minor": 0
      },
      "text/plain": [
       "  0%|          | 0/56708 [00:00<?, ?it/s]"
      ]
     },
     "metadata": {},
     "output_type": "display_data"
    },
    {
     "name": "stderr",
     "output_type": "stream",
     "text": [
      "C:\\Users\\matij\\anaconda3\\envs\\nlp\\lib\\site-packages\\numpy\\core\\fromnumeric.py:3373: RuntimeWarning: Mean of empty slice.\n",
      "  out=out, **kwargs)\n",
      "C:\\Users\\matij\\anaconda3\\envs\\nlp\\lib\\site-packages\\numpy\\core\\_methods.py:163: RuntimeWarning: invalid value encountered in true_divide\n",
      "  ret, rcount, out=ret, casting='unsafe', subok=False)\n"
     ]
    }
   ],
   "source": [
    "#token_embeddings = torch.stack(hidden_states, dim=0)\n",
    "import tensorflow as tf\n",
    "import torch\n",
    "\n",
    "embeddings = []\n",
    "\n",
    "bert_model = bert_model.to(\"cuda\")\n",
    "for j in tqdm(range(inputs.shape[1])):\n",
    "#with torch.no_grad():\n",
    "    inputs1 = torch.tensor(inputs[:,j,:])\n",
    "    inputs1 = inputs1.to(\"cuda\")\n",
    "\n",
    "    output = bert_model(inputs1)\n",
    "    hidden_states = output.hidden_states\n",
    "\n",
    "    token_embeddings = torch.stack(hidden_states, dim= 0)[:, 0, :, :]\n",
    "    token_embeddings = token_embeddings.cpu()\n",
    "\n",
    "    tokens = []\n",
    "    \n",
    "    last = sum(inputs[1,j,:]) - 1\n",
    "    first = last - tokenized_labels_lengths[labels[j]]\n",
    "    \n",
    "    # get embeddings by summing last 4 layers\n",
    "    for i in range(token_embeddings.shape[1]):\n",
    "        tokens.append(np.sum(token_embeddings[-4:, i, :].detach().numpy(), axis = 0))\n",
    "        \n",
    "    tokens = np.array(tokens)\n",
    "    tokens = tokens[first:last, :]\n",
    "    tokens = np.mean(tokens, axis = 0)\n",
    "    embeddings.append(tokens)"
   ]
  },
  {
   "cell_type": "code",
   "execution_count": 21,
   "id": "213eefec",
   "metadata": {},
   "outputs": [
    {
     "data": {
      "text/plain": [
       "(56708, 768)"
      ]
     },
     "execution_count": 21,
     "metadata": {},
     "output_type": "execute_result"
    }
   ],
   "source": [
    "test = np.array(embeddings)\n",
    "test.shape"
   ]
  },
  {
   "cell_type": "code",
   "execution_count": 22,
   "id": "98d4f669",
   "metadata": {},
   "outputs": [],
   "source": [
    "np.savez_compressed(\"embeddings\", embeddings=test)"
   ]
  },
  {
   "cell_type": "markdown",
   "id": "62686153",
   "metadata": {},
   "source": [
    "Import the model"
   ]
  },
  {
   "cell_type": "code",
   "execution_count": null,
   "id": "f7022cd4",
   "metadata": {},
   "outputs": [],
   "source": [
    "#from sentence_transformers import SentenceTransformer\n",
    "#model = SentenceTransformer('bert-base-nli-mean-tokens', 'cuda')\n",
    "\n",
    "#model = SentenceTransformer('distilbert-base-nli-mean-tokens', \"cuda\")\n",
    "\n",
    "#model.max_seq_length = 512"
   ]
  },
  {
   "cell_type": "code",
   "execution_count": 23,
   "id": "dbf11b59",
   "metadata": {},
   "outputs": [],
   "source": [
    "#ids = np.random.choice(list(range(len(texts))), size = 57581)\n",
    "#ids = np.arange(0, len(labels))\n",
    "#ids = np.sort(ids)\n",
    "#l = np.array(labels)[ids]\n",
    "#t = np.array(texts)[ids]\n",
    "#ids = np.argsort(l)\n",
    "#l = l[ids]\n",
    "#t = t[ids]\n",
    "#l\n",
    "idx = np.argsort(labels)\n",
    "labels = labels[idx]\n",
    "sentence_embeddings = test[idx, :]"
   ]
  },
  {
   "cell_type": "code",
   "execution_count": null,
   "id": "557ba67d",
   "metadata": {},
   "outputs": [],
   "source": [
    "#texts"
   ]
  },
  {
   "cell_type": "code",
   "execution_count": 25,
   "id": "d33680bb",
   "metadata": {},
   "outputs": [
    {
     "name": "stdout",
     "output_type": "stream",
     "text": [
      "[[-4.593318   -5.7181816  -0.5780396  ... -5.6984506   0.8760278\n",
      "   4.9951053 ]\n",
      " [ 0.5288634  -1.5946627   0.5654395  ... -4.2381983  -1.6394398\n",
      "  -0.69327927]\n",
      " [ 0.08158546 -3.638883    1.0736246  ... -5.057759    5.2808337\n",
      "   3.50873   ]\n",
      " ...\n",
      " [-4.7490363  -4.1965904   1.0788589  ... -3.1065626   3.1893675\n",
      "  -0.42115948]\n",
      " [ 0.595692   -1.5792352   0.46107382 ... -1.960351   -1.0385844\n",
      "   5.9837785 ]\n",
      " [-2.007664   -2.595       2.1171632  ... -3.8738675   5.095543\n",
      "   2.5293028 ]]\n"
     ]
    }
   ],
   "source": [
    "#sentences = ['This framework generates embeddings for each input sentence',\n",
    "#    'Sentences are passed as a list of string.', \n",
    "#    'The quick brown fox jumps over the lazy dog.']\n",
    "#sentence_embeddings = model.encode(t, show_progress_bar = True)\n",
    "#\n",
    "#print(\"Sentence embeddings:\")\n",
    "#print(sentence_embeddings)\n",
    "print(sentence_embeddings)"
   ]
  },
  {
   "cell_type": "code",
   "execution_count": 30,
   "id": "703fc6a7",
   "metadata": {},
   "outputs": [],
   "source": [
    "idx = np.isnan(sentence_embeddings).any(axis = 1)\n",
    "sentence_embeddings = sentence_embeddings[~idx]\n",
    "labels = labels[~idx]"
   ]
  },
  {
   "cell_type": "code",
   "execution_count": 31,
   "id": "2aa84b10",
   "metadata": {},
   "outputs": [
    {
     "name": "stdout",
     "output_type": "stream",
     "text": [
      "(56581, 56581)\n"
     ]
    }
   ],
   "source": [
    "from sklearn.metrics.pairwise import cosine_similarity\n",
    "import numpy as np\n",
    "\n",
    "# calculate distance between every embedding pair\n",
    "sim_mat = cosine_similarity(sentence_embeddings, sentence_embeddings)\n",
    "#df['sim_score'] = sim_mat[sentence_id]\n",
    "print(sim_mat.shape)"
   ]
  },
  {
   "cell_type": "code",
   "execution_count": null,
   "id": "4b7a601b",
   "metadata": {},
   "outputs": [],
   "source": [
    "#fig, ax = plt.subplots(figsize=(20,20))\n",
    "#cax = ax.matshow(sim_mat, interpolation='nearest',cmap=plt.get_cmap(\"PiYG\", 7))\n",
    "#plt.show()"
   ]
  },
  {
   "cell_type": "code",
   "execution_count": null,
   "id": "37720ef9",
   "metadata": {},
   "outputs": [],
   "source": [
    "test = np.array(labels)[ids]\n",
    "test[380]"
   ]
  },
  {
   "cell_type": "code",
   "execution_count": 32,
   "id": "d8db7240",
   "metadata": {},
   "outputs": [],
   "source": [
    "l = labels"
   ]
  },
  {
   "cell_type": "code",
   "execution_count": 33,
   "id": "dab5c49e",
   "metadata": {},
   "outputs": [],
   "source": [
    "score = {}\n",
    "for i in range(len(l)):\n",
    "    x = score.get(l[i])\n",
    "    if x is None:\n",
    "        x = []\n",
    "    x.append(sim_mat[100,i])\n",
    "    score[l[i]] = x"
   ]
  },
  {
   "cell_type": "code",
   "execution_count": 34,
   "id": "d3d84c98",
   "metadata": {},
   "outputs": [
    {
     "name": "stdout",
     "output_type": "stream",
     "text": [
      "abusive:0.6111448857068846\n",
      "benevolent:0.6230624404892344\n",
      "cyberbulling:0.5067258853980197\n",
      "hate:0.5342457341148129\n",
      "hateful:0.6113843444726287\n",
      "identity:0.6042040066293495\n",
      "insult:0.612733682946361\n",
      "obscene:0.6025878094135811\n",
      "offensive:0.5403833301594624\n",
      "profane:0.5752135841619401\n",
      "racism:0.6156023163880621\n",
      "sexism:0.6001643895883585\n",
      "spam:0.6058953251968702\n",
      "threat:0.6292168477574132\n",
      "toxic:0.6069627558413572\n"
     ]
    }
   ],
   "source": [
    "for k,v in score.items():\n",
    "    print(f\"{k}:{sum(v)/len(v)}\")"
   ]
  },
  {
   "cell_type": "code",
   "execution_count": 35,
   "id": "3a5ee5cd",
   "metadata": {},
   "outputs": [
    {
     "data": {
      "text/plain": [
       "array([ 4219,  2339,   246,  1264,  1748,  1367,  7704,  8243,   520,\n",
       "         756,   140,  3533,  7610,   466, 16426], dtype=int64)"
      ]
     },
     "execution_count": 35,
     "metadata": {},
     "output_type": "execute_result"
    }
   ],
   "source": [
    "labs, occ = np.unique(l, return_counts = True)\n",
    "occ"
   ]
  },
  {
   "cell_type": "code",
   "execution_count": 36,
   "id": "98ae82a2",
   "metadata": {},
   "outputs": [
    {
     "name": "stdout",
     "output_type": "stream",
     "text": [
      "['abusive' 'abusive' 'abusive' ... 'toxic' 'toxic' 'toxic']\n",
      "['abusive' 'benevolent' 'cyberbulling' 'hate' 'hateful' 'identity'\n",
      " 'insult' 'obscene' 'offensive' 'profane' 'racism' 'sexism' 'spam'\n",
      " 'threat' 'toxic']\n"
     ]
    }
   ],
   "source": [
    "print(l)\n",
    "print(labs)"
   ]
  },
  {
   "cell_type": "code",
   "execution_count": 37,
   "id": "f788c22f",
   "metadata": {},
   "outputs": [
    {
     "data": {
      "text/plain": [
       "array([    0,  4219,  6558,  6804,  8068,  9816, 11183, 18887, 27130,\n",
       "       27650, 28406, 28546, 32079, 39689, 40155, 56581], dtype=int64)"
      ]
     },
     "execution_count": 37,
     "metadata": {},
     "output_type": "execute_result"
    }
   ],
   "source": [
    "indices = np.cumsum(occ)\n",
    "indices = np.insert(indices, 0, 0)\n",
    "indices"
   ]
  },
  {
   "cell_type": "code",
   "execution_count": 38,
   "id": "dc69eda0",
   "metadata": {
    "scrolled": false
   },
   "outputs": [],
   "source": [
    "new_m = np.zeros((len(occ), len(occ)))\n",
    "for i in range(len(indices)-1):\n",
    "    for j in range(len(indices)-1):\n",
    "        x = indices[i]\n",
    "        y = indices[j]\n",
    "        x1 = indices[i+1]\n",
    "        y1 = indices[j+1]\n",
    "        \n",
    "        #print(f\"{x},{y},{x1},{y1}\")\n",
    "        new_m[i,j] = np.mean(sim_mat[int(x):int(x1), int(y):int(y1)])"
   ]
  },
  {
   "cell_type": "code",
   "execution_count": 39,
   "id": "d31d9dff",
   "metadata": {},
   "outputs": [
    {
     "data": {
      "text/html": [
       "<div>\n",
       "<style scoped>\n",
       "    .dataframe tbody tr th:only-of-type {\n",
       "        vertical-align: middle;\n",
       "    }\n",
       "\n",
       "    .dataframe tbody tr th {\n",
       "        vertical-align: top;\n",
       "    }\n",
       "\n",
       "    .dataframe thead th {\n",
       "        text-align: right;\n",
       "    }\n",
       "</style>\n",
       "<table border=\"1\" class=\"dataframe\">\n",
       "  <thead>\n",
       "    <tr style=\"text-align: right;\">\n",
       "      <th></th>\n",
       "      <th>abusive</th>\n",
       "      <th>benevolent</th>\n",
       "      <th>cyberbulling</th>\n",
       "      <th>hate</th>\n",
       "      <th>hateful</th>\n",
       "      <th>identity</th>\n",
       "      <th>insult</th>\n",
       "      <th>obscene</th>\n",
       "      <th>offensive</th>\n",
       "      <th>profane</th>\n",
       "      <th>racism</th>\n",
       "      <th>sexism</th>\n",
       "      <th>spam</th>\n",
       "      <th>threat</th>\n",
       "      <th>toxic</th>\n",
       "    </tr>\n",
       "  </thead>\n",
       "  <tbody>\n",
       "    <tr>\n",
       "      <th>abusive</th>\n",
       "      <td>0.553273</td>\n",
       "      <td>0.585652</td>\n",
       "      <td>0.484954</td>\n",
       "      <td>0.517851</td>\n",
       "      <td>0.568438</td>\n",
       "      <td>0.535494</td>\n",
       "      <td>0.541423</td>\n",
       "      <td>0.551191</td>\n",
       "      <td>0.519699</td>\n",
       "      <td>0.555197</td>\n",
       "      <td>0.565533</td>\n",
       "      <td>0.564797</td>\n",
       "      <td>0.563643</td>\n",
       "      <td>0.541102</td>\n",
       "      <td>0.536920</td>\n",
       "    </tr>\n",
       "    <tr>\n",
       "      <th>benevolent</th>\n",
       "      <td>0.585653</td>\n",
       "      <td>0.703824</td>\n",
       "      <td>0.609013</td>\n",
       "      <td>0.568021</td>\n",
       "      <td>0.643993</td>\n",
       "      <td>0.580309</td>\n",
       "      <td>0.585881</td>\n",
       "      <td>0.627860</td>\n",
       "      <td>0.567023</td>\n",
       "      <td>0.630388</td>\n",
       "      <td>0.612130</td>\n",
       "      <td>0.636468</td>\n",
       "      <td>0.633038</td>\n",
       "      <td>0.590648</td>\n",
       "      <td>0.582779</td>\n",
       "    </tr>\n",
       "    <tr>\n",
       "      <th>cyberbulling</th>\n",
       "      <td>0.484953</td>\n",
       "      <td>0.609013</td>\n",
       "      <td>0.632210</td>\n",
       "      <td>0.486140</td>\n",
       "      <td>0.555236</td>\n",
       "      <td>0.513246</td>\n",
       "      <td>0.518506</td>\n",
       "      <td>0.560626</td>\n",
       "      <td>0.482850</td>\n",
       "      <td>0.535326</td>\n",
       "      <td>0.518707</td>\n",
       "      <td>0.544915</td>\n",
       "      <td>0.535379</td>\n",
       "      <td>0.527959</td>\n",
       "      <td>0.519149</td>\n",
       "    </tr>\n",
       "    <tr>\n",
       "      <th>hate</th>\n",
       "      <td>0.517851</td>\n",
       "      <td>0.568021</td>\n",
       "      <td>0.486140</td>\n",
       "      <td>0.528531</td>\n",
       "      <td>0.542731</td>\n",
       "      <td>0.510317</td>\n",
       "      <td>0.514081</td>\n",
       "      <td>0.531084</td>\n",
       "      <td>0.529418</td>\n",
       "      <td>0.558966</td>\n",
       "      <td>0.542165</td>\n",
       "      <td>0.543816</td>\n",
       "      <td>0.540961</td>\n",
       "      <td>0.511250</td>\n",
       "      <td>0.509818</td>\n",
       "    </tr>\n",
       "    <tr>\n",
       "      <th>hateful</th>\n",
       "      <td>0.568438</td>\n",
       "      <td>0.643994</td>\n",
       "      <td>0.555236</td>\n",
       "      <td>0.542731</td>\n",
       "      <td>0.612147</td>\n",
       "      <td>0.557483</td>\n",
       "      <td>0.563059</td>\n",
       "      <td>0.594908</td>\n",
       "      <td>0.542696</td>\n",
       "      <td>0.594870</td>\n",
       "      <td>0.589689</td>\n",
       "      <td>0.606285</td>\n",
       "      <td>0.604426</td>\n",
       "      <td>0.565092</td>\n",
       "      <td>0.559383</td>\n",
       "    </tr>\n",
       "    <tr>\n",
       "      <th>identity</th>\n",
       "      <td>0.535494</td>\n",
       "      <td>0.580309</td>\n",
       "      <td>0.513246</td>\n",
       "      <td>0.510317</td>\n",
       "      <td>0.557483</td>\n",
       "      <td>0.549294</td>\n",
       "      <td>0.556676</td>\n",
       "      <td>0.551795</td>\n",
       "      <td>0.510621</td>\n",
       "      <td>0.533629</td>\n",
       "      <td>0.564499</td>\n",
       "      <td>0.556286</td>\n",
       "      <td>0.551090</td>\n",
       "      <td>0.559922</td>\n",
       "      <td>0.554365</td>\n",
       "    </tr>\n",
       "    <tr>\n",
       "      <th>insult</th>\n",
       "      <td>0.541423</td>\n",
       "      <td>0.585881</td>\n",
       "      <td>0.518506</td>\n",
       "      <td>0.514081</td>\n",
       "      <td>0.563059</td>\n",
       "      <td>0.556676</td>\n",
       "      <td>0.565051</td>\n",
       "      <td>0.557364</td>\n",
       "      <td>0.514316</td>\n",
       "      <td>0.536154</td>\n",
       "      <td>0.571480</td>\n",
       "      <td>0.561913</td>\n",
       "      <td>0.556464</td>\n",
       "      <td>0.568590</td>\n",
       "      <td>0.562884</td>\n",
       "    </tr>\n",
       "    <tr>\n",
       "      <th>obscene</th>\n",
       "      <td>0.551190</td>\n",
       "      <td>0.627861</td>\n",
       "      <td>0.560626</td>\n",
       "      <td>0.531084</td>\n",
       "      <td>0.594908</td>\n",
       "      <td>0.551795</td>\n",
       "      <td>0.557367</td>\n",
       "      <td>0.595289</td>\n",
       "      <td>0.531403</td>\n",
       "      <td>0.589872</td>\n",
       "      <td>0.572842</td>\n",
       "      <td>0.592479</td>\n",
       "      <td>0.590277</td>\n",
       "      <td>0.558649</td>\n",
       "      <td>0.553973</td>\n",
       "    </tr>\n",
       "    <tr>\n",
       "      <th>offensive</th>\n",
       "      <td>0.519700</td>\n",
       "      <td>0.567022</td>\n",
       "      <td>0.482850</td>\n",
       "      <td>0.529418</td>\n",
       "      <td>0.542696</td>\n",
       "      <td>0.510621</td>\n",
       "      <td>0.514316</td>\n",
       "      <td>0.531403</td>\n",
       "      <td>0.534246</td>\n",
       "      <td>0.561861</td>\n",
       "      <td>0.542669</td>\n",
       "      <td>0.542909</td>\n",
       "      <td>0.540945</td>\n",
       "      <td>0.511380</td>\n",
       "      <td>0.509767</td>\n",
       "    </tr>\n",
       "    <tr>\n",
       "      <th>profane</th>\n",
       "      <td>0.555197</td>\n",
       "      <td>0.630388</td>\n",
       "      <td>0.535326</td>\n",
       "      <td>0.558966</td>\n",
       "      <td>0.594870</td>\n",
       "      <td>0.533629</td>\n",
       "      <td>0.536154</td>\n",
       "      <td>0.589873</td>\n",
       "      <td>0.561860</td>\n",
       "      <td>0.646922</td>\n",
       "      <td>0.570930</td>\n",
       "      <td>0.596502</td>\n",
       "      <td>0.595026</td>\n",
       "      <td>0.530630</td>\n",
       "      <td>0.530167</td>\n",
       "    </tr>\n",
       "    <tr>\n",
       "      <th>racism</th>\n",
       "      <td>0.565533</td>\n",
       "      <td>0.612131</td>\n",
       "      <td>0.518707</td>\n",
       "      <td>0.542165</td>\n",
       "      <td>0.589689</td>\n",
       "      <td>0.564499</td>\n",
       "      <td>0.571480</td>\n",
       "      <td>0.572842</td>\n",
       "      <td>0.542669</td>\n",
       "      <td>0.570930</td>\n",
       "      <td>0.603237</td>\n",
       "      <td>0.591435</td>\n",
       "      <td>0.585543</td>\n",
       "      <td>0.572501</td>\n",
       "      <td>0.567457</td>\n",
       "    </tr>\n",
       "    <tr>\n",
       "      <th>sexism</th>\n",
       "      <td>0.564797</td>\n",
       "      <td>0.636469</td>\n",
       "      <td>0.544915</td>\n",
       "      <td>0.543816</td>\n",
       "      <td>0.606286</td>\n",
       "      <td>0.556285</td>\n",
       "      <td>0.561914</td>\n",
       "      <td>0.592480</td>\n",
       "      <td>0.542909</td>\n",
       "      <td>0.596502</td>\n",
       "      <td>0.591435</td>\n",
       "      <td>0.611780</td>\n",
       "      <td>0.603320</td>\n",
       "      <td>0.561525</td>\n",
       "      <td>0.557805</td>\n",
       "    </tr>\n",
       "    <tr>\n",
       "      <th>spam</th>\n",
       "      <td>0.563643</td>\n",
       "      <td>0.633039</td>\n",
       "      <td>0.535378</td>\n",
       "      <td>0.540961</td>\n",
       "      <td>0.604427</td>\n",
       "      <td>0.551091</td>\n",
       "      <td>0.556463</td>\n",
       "      <td>0.590277</td>\n",
       "      <td>0.540946</td>\n",
       "      <td>0.595026</td>\n",
       "      <td>0.585543</td>\n",
       "      <td>0.603320</td>\n",
       "      <td>0.608723</td>\n",
       "      <td>0.555722</td>\n",
       "      <td>0.552385</td>\n",
       "    </tr>\n",
       "    <tr>\n",
       "      <th>threat</th>\n",
       "      <td>0.541102</td>\n",
       "      <td>0.590648</td>\n",
       "      <td>0.527959</td>\n",
       "      <td>0.511250</td>\n",
       "      <td>0.565092</td>\n",
       "      <td>0.559922</td>\n",
       "      <td>0.568590</td>\n",
       "      <td>0.558649</td>\n",
       "      <td>0.511380</td>\n",
       "      <td>0.530630</td>\n",
       "      <td>0.572501</td>\n",
       "      <td>0.561524</td>\n",
       "      <td>0.555722</td>\n",
       "      <td>0.577289</td>\n",
       "      <td>0.566648</td>\n",
       "    </tr>\n",
       "    <tr>\n",
       "      <th>toxic</th>\n",
       "      <td>0.536919</td>\n",
       "      <td>0.582779</td>\n",
       "      <td>0.519149</td>\n",
       "      <td>0.509817</td>\n",
       "      <td>0.559382</td>\n",
       "      <td>0.554365</td>\n",
       "      <td>0.562882</td>\n",
       "      <td>0.553972</td>\n",
       "      <td>0.509767</td>\n",
       "      <td>0.530167</td>\n",
       "      <td>0.567457</td>\n",
       "      <td>0.557805</td>\n",
       "      <td>0.552384</td>\n",
       "      <td>0.566649</td>\n",
       "      <td>0.561321</td>\n",
       "    </tr>\n",
       "  </tbody>\n",
       "</table>\n",
       "</div>"
      ],
      "text/plain": [
       "               abusive  benevolent  cyberbulling      hate   hateful  \\\n",
       "abusive       0.553273    0.585652      0.484954  0.517851  0.568438   \n",
       "benevolent    0.585653    0.703824      0.609013  0.568021  0.643993   \n",
       "cyberbulling  0.484953    0.609013      0.632210  0.486140  0.555236   \n",
       "hate          0.517851    0.568021      0.486140  0.528531  0.542731   \n",
       "hateful       0.568438    0.643994      0.555236  0.542731  0.612147   \n",
       "identity      0.535494    0.580309      0.513246  0.510317  0.557483   \n",
       "insult        0.541423    0.585881      0.518506  0.514081  0.563059   \n",
       "obscene       0.551190    0.627861      0.560626  0.531084  0.594908   \n",
       "offensive     0.519700    0.567022      0.482850  0.529418  0.542696   \n",
       "profane       0.555197    0.630388      0.535326  0.558966  0.594870   \n",
       "racism        0.565533    0.612131      0.518707  0.542165  0.589689   \n",
       "sexism        0.564797    0.636469      0.544915  0.543816  0.606286   \n",
       "spam          0.563643    0.633039      0.535378  0.540961  0.604427   \n",
       "threat        0.541102    0.590648      0.527959  0.511250  0.565092   \n",
       "toxic         0.536919    0.582779      0.519149  0.509817  0.559382   \n",
       "\n",
       "              identity    insult   obscene  offensive   profane    racism  \\\n",
       "abusive       0.535494  0.541423  0.551191   0.519699  0.555197  0.565533   \n",
       "benevolent    0.580309  0.585881  0.627860   0.567023  0.630388  0.612130   \n",
       "cyberbulling  0.513246  0.518506  0.560626   0.482850  0.535326  0.518707   \n",
       "hate          0.510317  0.514081  0.531084   0.529418  0.558966  0.542165   \n",
       "hateful       0.557483  0.563059  0.594908   0.542696  0.594870  0.589689   \n",
       "identity      0.549294  0.556676  0.551795   0.510621  0.533629  0.564499   \n",
       "insult        0.556676  0.565051  0.557364   0.514316  0.536154  0.571480   \n",
       "obscene       0.551795  0.557367  0.595289   0.531403  0.589872  0.572842   \n",
       "offensive     0.510621  0.514316  0.531403   0.534246  0.561861  0.542669   \n",
       "profane       0.533629  0.536154  0.589873   0.561860  0.646922  0.570930   \n",
       "racism        0.564499  0.571480  0.572842   0.542669  0.570930  0.603237   \n",
       "sexism        0.556285  0.561914  0.592480   0.542909  0.596502  0.591435   \n",
       "spam          0.551091  0.556463  0.590277   0.540946  0.595026  0.585543   \n",
       "threat        0.559922  0.568590  0.558649   0.511380  0.530630  0.572501   \n",
       "toxic         0.554365  0.562882  0.553972   0.509767  0.530167  0.567457   \n",
       "\n",
       "                sexism      spam    threat     toxic  \n",
       "abusive       0.564797  0.563643  0.541102  0.536920  \n",
       "benevolent    0.636468  0.633038  0.590648  0.582779  \n",
       "cyberbulling  0.544915  0.535379  0.527959  0.519149  \n",
       "hate          0.543816  0.540961  0.511250  0.509818  \n",
       "hateful       0.606285  0.604426  0.565092  0.559383  \n",
       "identity      0.556286  0.551090  0.559922  0.554365  \n",
       "insult        0.561913  0.556464  0.568590  0.562884  \n",
       "obscene       0.592479  0.590277  0.558649  0.553973  \n",
       "offensive     0.542909  0.540945  0.511380  0.509767  \n",
       "profane       0.596502  0.595026  0.530630  0.530167  \n",
       "racism        0.591435  0.585543  0.572501  0.567457  \n",
       "sexism        0.611780  0.603320  0.561525  0.557805  \n",
       "spam          0.603320  0.608723  0.555722  0.552385  \n",
       "threat        0.561524  0.555722  0.577289  0.566648  \n",
       "toxic         0.557805  0.552384  0.566649  0.561321  "
      ]
     },
     "execution_count": 39,
     "metadata": {},
     "output_type": "execute_result"
    }
   ],
   "source": [
    "df = pd.DataFrame(new_m, columns = labs, index = labs)\n",
    "df"
   ]
  },
  {
   "cell_type": "code",
   "execution_count": 40,
   "id": "1dd4113d",
   "metadata": {},
   "outputs": [
    {
     "data": {
      "image/png": "[encoded data removed]",
      "text/plain": [
       "<Figure size 1440x1440 with 2 Axes>"
      ]
     },
     "metadata": {
      "needs_background": "light"
     },
     "output_type": "display_data"
    }
   ],
   "source": [
    "fig, ax = plt.subplots(figsize=(20,20))\n",
    "cax = ax.matshow(df, interpolation='nearest',cmap=plt.get_cmap(\"PiYG\", 30))\n",
    "\n",
    "for i in range(new_m.shape[0]):\n",
    "    for j in range(new_m.shape[0]):\n",
    "        c = new_m[j,i]\n",
    "        ax.text(i, j, f\"{c:.2f}\", va='center', ha='center')\n",
    "\n",
    "fig.colorbar(cax)\n",
    "\n",
    "ax.set_xticks(np.arange(len(labs)))\n",
    "ax.set_yticks(np.arange(len(labs)))\n",
    "ax.set_xticklabels(labs.tolist())\n",
    "ax.set_yticklabels(labs.tolist())\n",
    "plt.show()"
   ]
  },
  {
   "cell_type": "code",
   "execution_count": 41,
   "id": "2aaf7399",
   "metadata": {},
   "outputs": [
    {
     "data": {
      "image/png": "[encoded data removed]",
      "text/plain": [
       "<Figure size 720x720 with 2 Axes>"
      ]
     },
     "metadata": {
      "needs_background": "light"
     },
     "output_type": "display_data"
    }
   ],
   "source": [
    "import seaborn as sns\n",
    "fig, ax = plt.subplots(figsize=(10,10))         # Sample figsize in inches\n",
    "mask = np.triu(np.ones_like(new_m), k = 1)\n",
    "sns.heatmap(df, cmap=\"YlGnBu\", annot=True, mask=mask, ax = ax, vmin=0, vmax=1)\n",
    "plt.show()"
   ]
  },
  {
   "cell_type": "code",
   "execution_count": null,
   "id": "4c6ecd90",
   "metadata": {},
   "outputs": [],
   "source": [
    "import torch\n",
    "print(torch.cuda.is_available())"
   ]
  },
  {
   "cell_type": "code",
   "execution_count": null,
   "id": "33f34801",
   "metadata": {},
   "outputs": [],
   "source": [
    "torch.zeros(1).cuda()"
   ]
  },
  {
   "cell_type": "code",
   "execution_count": null,
   "id": "5691c57a",
   "metadata": {},
   "outputs": [],
   "source": [
    "#!pip uninstall -y torch"
   ]
  },
  {
   "cell_type": "code",
   "execution_count": 42,
   "id": "94490a6c",
   "metadata": {},
   "outputs": [
    {
     "data": {
      "text/plain": [
       "array([    0,  4219,  6558,  6804,  8068,  9816, 11183, 18887, 27130,\n",
       "       27650, 28406, 28546, 32079, 39689, 40155, 56581], dtype=int64)"
      ]
     },
     "execution_count": 42,
     "metadata": {},
     "output_type": "execute_result"
    }
   ],
   "source": [
    "indices"
   ]
  },
  {
   "cell_type": "code",
   "execution_count": 45,
   "id": "dcd5c2ea",
   "metadata": {},
   "outputs": [
    {
     "data": {
      "text/plain": [
       "768"
      ]
     },
     "execution_count": 45,
     "metadata": {},
     "output_type": "execute_result"
    }
   ],
   "source": [
    "avgs = []\n",
    "for i in range(len(indices) - 1):\n",
    "    avgs.append(np.mean(sentence_embeddings[indices[i]:indices[i+1]], axis = 0))"
   ]
  },
  {
   "cell_type": "code",
   "execution_count": null,
   "id": "546731b8",
   "metadata": {},
   "outputs": [],
   "source": []
  }
 ],
 "metadata": {
  "kernelspec": {
   "display_name": "Python [conda env:nlp] *",
   "language": "python",
   "name": "conda-env-nlp-py"
  },
  "language_info": {
   "codemirror_mode": {
    "name": "ipython",
    "version": 3
   },
   "file_extension": ".py",
   "mimetype": "text/x-python",
   "name": "python",
   "nbconvert_exporter": "python",
   "pygments_lexer": "ipython3",
   "version": "3.7.10"
  }
 },
 "nbformat": 4,
 "nbformat_minor": 5
}
