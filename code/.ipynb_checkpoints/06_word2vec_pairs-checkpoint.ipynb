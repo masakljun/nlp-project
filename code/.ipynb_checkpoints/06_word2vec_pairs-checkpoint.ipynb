{
 "cells": [
  {
   "cell_type": "code",
   "execution_count": 1,
   "id": "controlled-stick",
   "metadata": {},
   "outputs": [],
   "source": [
    "import gensim\n",
    "import gensim.downloader\n",
    "from sklearn.manifold import TSNE\n",
    "from sklearn.manifold import MDS\n",
    "from sklearn.decomposition import PCA\n",
    "import numpy as np\n",
    "import tempfile\n",
    "import imageio\n",
    "import shutil\n",
    "import os\n",
    "from statistics import mean\n",
    "import pandas as pd \n",
    "from nltk.stem import WordNetLemmatizer \n",
    "from nltk.stem import PorterStemmer \n",
    "from gensim.test.utils import datapath\n",
    "from gensim.models.fasttext import load_facebook_vectors\n",
    "\n",
    "from IPython.display import Image\n",
    "from IPython.display import display\n",
    "pd.options.display.max_columns = None\n",
    "\n",
    "import matplotlib.patheffects as PathEffects\n",
    "import matplotlib.pyplot as plt\n",
    "import matplotlib.cm as cm\n",
    "%matplotlib inline\n",
    "\n",
    "from matplotlib.axes._axes import _log as matplotlib_axes_logger\n",
    "matplotlib_axes_logger.setLevel('ERROR')"
   ]
  },
  {
   "cell_type": "code",
   "execution_count": null,
   "id": "occasional-entertainment",
   "metadata": {},
   "outputs": [],
   "source": [
    "model_wv = gensim.downloader.load('word2vec-google-news-300')\n",
    "model_g = gensim.downloader.load('glove-wiki-gigaword-300')"
   ]
  },
  {
   "cell_type": "markdown",
   "id": "appropriate-province",
   "metadata": {},
   "source": [
    "#### Find pairs\n",
    "Paris is to France as Berlin is to ?\n",
    "\n",
    "Paris : France :: Berin : ?\n",
    "\n",
    "France - Paris + Berlin = ?\n",
    "\n",
    "? = Germany"
   ]
  },
  {
   "cell_type": "markdown",
   "id": "clean-damages",
   "metadata": {},
   "source": [
    "sims = model_wv.most_similar(positive=['France', 'Berlin'], negative=['Paris'])"
   ]
  },
  {
   "cell_type": "code",
   "execution_count": 26,
   "id": "interested-influence",
   "metadata": {},
   "outputs": [
    {
     "data": {
      "text/plain": [
       "[('institutionalized_racism', 0.7096136808395386),\n",
       " ('homophobia', 0.7021567821502686),\n",
       " ('Racism', 0.6871979832649231),\n",
       " ('racial_discrimination', 0.6775422692298889),\n",
       " ('bigotry', 0.6737836599349976),\n",
       " ('racial_prejudice', 0.6732275485992432),\n",
       " ('racial_intolerance', 0.6541361808776855),\n",
       " ('racist', 0.6478179693222046),\n",
       " ('racial_bigotry', 0.6457424163818359),\n",
       " ('blatant_racism', 0.6429591178894043)]"
      ]
     },
     "execution_count": 26,
     "metadata": {},
     "output_type": "execute_result"
    }
   ],
   "source": [
    "sims1 = model_wv.most_similar(positive=['father', 'racism'], negative=['son'])\n",
    "sims2 = model_g.most_similar(positive=['father', 'racism'], negative=['son'])\n",
    "print(sims1)\n",
    "print(sims2)"
   ]
  },
  {
   "cell_type": "code",
   "execution_count": 28,
   "id": "valuable-repair",
   "metadata": {},
   "outputs": [
    {
     "data": {
      "text/plain": [
       "[('racism', 0.7008050680160522),\n",
       " ('homophobic', 0.6619293689727783),\n",
       " ('bigotry', 0.6219342350959778),\n",
       " ('homophobic_attitudes', 0.6141318082809448),\n",
       " ('Homophobia', 0.6102346777915955),\n",
       " ('homosexuality', 0.6007557511329651),\n",
       " ('gay_bashing', 0.5969532132148743),\n",
       " ('gay', 0.588276743888855),\n",
       " ('racial_intolerance', 0.5835667252540588),\n",
       " ('sexism', 0.5829565525054932)]"
      ]
     },
     "execution_count": 28,
     "metadata": {},
     "output_type": "execute_result"
    }
   ],
   "source": [
    "sims1 = model_wv.most_similar(positive=['father', 'homophobia'], negative=['son'])\n",
    "sims2 = model_g.most_similar(positive=['father', 'racism'], negative=['son'])\n",
    "print(sims1)\n",
    "print(sims2)\n"
   ]
  },
  {
   "cell_type": "code",
   "execution_count": 33,
   "id": "above-reading",
   "metadata": {},
   "outputs": [
    {
     "data": {
      "text/plain": [
       "[('racist', 0.6147336959838867),\n",
       " ('homophobia', 0.6094756126403809),\n",
       " ('Racism', 0.5982325077056885),\n",
       " ('institutionalized_racism', 0.5960187315940857),\n",
       " ('bigotry', 0.591637134552002),\n",
       " ('racisim', 0.5760897397994995),\n",
       " ('racial_prejudice', 0.5670235753059387),\n",
       " ('racial_bigotry', 0.5633367300033569),\n",
       " ('antisemitism', 0.5627503395080566),\n",
       " ('anti_Semitism', 0.5612086057662964)]"
      ]
     },
     "execution_count": 33,
     "metadata": {},
     "output_type": "execute_result"
    }
   ],
   "source": [
    "sims = model_gn.most_similar(positive=['brother', 'racism'], negative=['sister'])\n",
    "sims"
   ]
  },
  {
   "cell_type": "code",
   "execution_count": 37,
   "id": "resistant-mobility",
   "metadata": {},
   "outputs": [
    {
     "data": {
      "text/plain": [
       "[('threats', 0.6914057731628418),\n",
       " ('danger', 0.6388524770736694),\n",
       " ('threat_posed', 0.5806745886802673),\n",
       " ('imminent_danger', 0.5285804271697998),\n",
       " ('Threat', 0.5084208250045776),\n",
       " ('existential_threat', 0.4896283745765686),\n",
       " ('graver_threat', 0.4868716299533844),\n",
       " ('pose_threat', 0.48574480414390564),\n",
       " ('menace', 0.4846875071525574),\n",
       " ('hazard', 0.4650760293006897)]"
      ]
     },
     "execution_count": 37,
     "metadata": {},
     "output_type": "execute_result"
    }
   ],
   "source": [
    "sims = model_gn.most_similar(positive=['father', 'threat'], negative=['son'])\n",
    "sims"
   ]
  }
 ],
 "metadata": {
  "kernelspec": {
   "display_name": "Python [conda env:nlp] *",
   "language": "python",
   "name": "conda-env-nlp-py"
  },
  "language_info": {
   "codemirror_mode": {
    "name": "ipython",
    "version": 3
   },
   "file_extension": ".py",
   "mimetype": "text/x-python",
   "name": "python",
   "nbconvert_exporter": "python",
   "pygments_lexer": "ipython3",
   "version": "3.8.8"
  }
 },
 "nbformat": 4,
 "nbformat_minor": 5
}
