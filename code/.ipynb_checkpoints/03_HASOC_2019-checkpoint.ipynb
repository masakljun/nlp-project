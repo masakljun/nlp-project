{
 "cells": [
  {
   "cell_type": "code",
   "execution_count": 1,
   "id": "vocal-round",
   "metadata": {},
   "outputs": [],
   "source": [
    "import pandas as pd"
   ]
  },
  {
   "cell_type": "code",
   "execution_count": 2,
   "id": "australian-mercury",
   "metadata": {},
   "outputs": [
    {
     "data": {
      "text/html": [
       "<div>\n",
       "<style scoped>\n",
       "    .dataframe tbody tr th:only-of-type {\n",
       "        vertical-align: middle;\n",
       "    }\n",
       "\n",
       "    .dataframe tbody tr th {\n",
       "        vertical-align: top;\n",
       "    }\n",
       "\n",
       "    .dataframe thead th {\n",
       "        text-align: right;\n",
       "    }\n",
       "</style>\n",
       "<table border=\"1\" class=\"dataframe\">\n",
       "  <thead>\n",
       "    <tr style=\"text-align: right;\">\n",
       "      <th></th>\n",
       "      <th>text_id</th>\n",
       "      <th>text</th>\n",
       "      <th>task_1</th>\n",
       "      <th>task_2</th>\n",
       "      <th>task_3</th>\n",
       "    </tr>\n",
       "  </thead>\n",
       "  <tbody>\n",
       "    <tr>\n",
       "      <th>0</th>\n",
       "      <td>hasoc_en_902</td>\n",
       "      <td>West Bengal Doctor Crisis: Protesting doctors ...</td>\n",
       "      <td>NOT</td>\n",
       "      <td>NONE</td>\n",
       "      <td>NONE</td>\n",
       "    </tr>\n",
       "    <tr>\n",
       "      <th>1</th>\n",
       "      <td>hasoc_en_416</td>\n",
       "      <td>68.5 million people have been forced to leave ...</td>\n",
       "      <td>NOT</td>\n",
       "      <td>NONE</td>\n",
       "      <td>NONE</td>\n",
       "    </tr>\n",
       "    <tr>\n",
       "      <th>2</th>\n",
       "      <td>hasoc_en_207</td>\n",
       "      <td>You came, you saw .... we will look after the ...</td>\n",
       "      <td>NOT</td>\n",
       "      <td>NONE</td>\n",
       "      <td>NONE</td>\n",
       "    </tr>\n",
       "    <tr>\n",
       "      <th>3</th>\n",
       "      <td>hasoc_en_595</td>\n",
       "      <td>We'll get Brexit delivered by October 31st.   ...</td>\n",
       "      <td>NOT</td>\n",
       "      <td>NONE</td>\n",
       "      <td>NONE</td>\n",
       "    </tr>\n",
       "    <tr>\n",
       "      <th>4</th>\n",
       "      <td>hasoc_en_568</td>\n",
       "      <td>Fuck you. Go back to the dark ages you cow @IB...</td>\n",
       "      <td>HOF</td>\n",
       "      <td>PRFN</td>\n",
       "      <td>UNT</td>\n",
       "    </tr>\n",
       "  </tbody>\n",
       "</table>\n",
       "</div>"
      ],
      "text/plain": [
       "        text_id                                               text task_1  \\\n",
       "0  hasoc_en_902  West Bengal Doctor Crisis: Protesting doctors ...    NOT   \n",
       "1  hasoc_en_416  68.5 million people have been forced to leave ...    NOT   \n",
       "2  hasoc_en_207  You came, you saw .... we will look after the ...    NOT   \n",
       "3  hasoc_en_595  We'll get Brexit delivered by October 31st.   ...    NOT   \n",
       "4  hasoc_en_568  Fuck you. Go back to the dark ages you cow @IB...    HOF   \n",
       "\n",
       "  task_2 task_3  \n",
       "0   NONE   NONE  \n",
       "1   NONE   NONE  \n",
       "2   NONE   NONE  \n",
       "3   NONE   NONE  \n",
       "4   PRFN    UNT  "
      ]
     },
     "execution_count": 2,
     "metadata": {},
     "output_type": "execute_result"
    }
   ],
   "source": [
    "df1 = pd.read_csv(\"data/hasoc2019_en_train_2919.tsv\", sep='\\t')\n",
    "df1.head()\n",
    "\n",
    "df2 = pd.read_csv(\"data/hasoc2019_en_test-2919.tsv\", sep='\\t')\n",
    "df2.head()"
   ]
  },
  {
   "cell_type": "code",
   "execution_count": 3,
   "id": "above-valuation",
   "metadata": {},
   "outputs": [],
   "source": [
    "hatespeech = list(df1.loc[df1[\"task_2\"] == \"HATE\"][\"text\"].values)\n",
    "hatespeech1 = list(df2.loc[df2[\"task_2\"] == \"HATE\"][\"text\"].values)\n",
    "hatespeech.extend(hatespeech1)"
   ]
  },
  {
   "cell_type": "code",
   "execution_count": 4,
   "id": "structural-pastor",
   "metadata": {},
   "outputs": [],
   "source": [
    "profane = list(df1.loc[df1[\"task_2\"] == \"PRFN\"][\"text\"].values)\n",
    "profane1 = list(df2.loc[df2[\"task_2\"] == \"PRFN\"][\"text\"].values)\n",
    "profane.extend(profane1)"
   ]
  },
  {
   "cell_type": "code",
   "execution_count": 5,
   "id": "removable-survivor",
   "metadata": {},
   "outputs": [],
   "source": [
    "offensive = list(df1.loc[df1[\"task_2\"] == \"OFFN\"][\"text\"].values)\n",
    "offensive1 = list(df2.loc[df2[\"task_2\"] == \"OFFN\"][\"text\"].values)\n",
    "offensive.extend(offensive1)"
   ]
  },
  {
   "cell_type": "code",
   "execution_count": 6,
   "id": "comparable-clearing",
   "metadata": {},
   "outputs": [
    {
     "name": "stdout",
     "output_type": "stream",
     "text": [
      "Lengths - HATE: 1267, OFFN: 522, PRFN: 760\n"
     ]
    }
   ],
   "source": [
    "print(f\"Lengths - HATE: {len(hatespeech)}, OFFN: {len(offensive)}, PRFN: {len(profane)}\")"
   ]
  },
  {
   "cell_type": "code",
   "execution_count": 8,
   "id": "portable-serum",
   "metadata": {},
   "outputs": [
    {
     "name": "stdout",
     "output_type": "stream",
     "text": [
      "2549\n",
      "2549\n"
     ]
    }
   ],
   "source": [
    "labels = [\"hate\"] * len(hatespeech)\n",
    "labels.extend([\"offensive\"] * len(offensive))\n",
    "labels.extend([\"profane\"] * len(profane))\n",
    "\n",
    "\n",
    "texts = hatespeech\n",
    "texts.extend(offensive)\n",
    "texts.extend(profane)\n",
    "print(len(labels))\n",
    "print(len(texts))"
   ]
  },
  {
   "cell_type": "code",
   "execution_count": 11,
   "id": "convinced-bishop",
   "metadata": {},
   "outputs": [],
   "source": [
    "new_df = pd.DataFrame({\"text\": texts, \"label\": labels})\n",
    "new_df.to_csv(\"data/filtered/hatespeech_profane_offensive.csv\", sep = \",\", index = False)"
   ]
  },
  {
   "cell_type": "code",
   "execution_count": 12,
   "id": "basic-heavy",
   "metadata": {},
   "outputs": [
    {
     "data": {
      "text/html": [
       "<div>\n",
       "<style scoped>\n",
       "    .dataframe tbody tr th:only-of-type {\n",
       "        vertical-align: middle;\n",
       "    }\n",
       "\n",
       "    .dataframe tbody tr th {\n",
       "        vertical-align: top;\n",
       "    }\n",
       "\n",
       "    .dataframe thead th {\n",
       "        text-align: right;\n",
       "    }\n",
       "</style>\n",
       "<table border=\"1\" class=\"dataframe\">\n",
       "  <thead>\n",
       "    <tr style=\"text-align: right;\">\n",
       "      <th></th>\n",
       "      <th>text</th>\n",
       "      <th>label</th>\n",
       "    </tr>\n",
       "  </thead>\n",
       "  <tbody>\n",
       "    <tr>\n",
       "      <th>0</th>\n",
       "      <td>@politico No. We should remember very clearly ...</td>\n",
       "      <td>hate</td>\n",
       "    </tr>\n",
       "    <tr>\n",
       "      <th>1</th>\n",
       "      <td>I don’t know how much more I can take! 45 is a...</td>\n",
       "      <td>hate</td>\n",
       "    </tr>\n",
       "    <tr>\n",
       "      <th>2</th>\n",
       "      <td>#ShameOnICC  1. ICC on Dhoni's gloves         ...</td>\n",
       "      <td>hate</td>\n",
       "    </tr>\n",
       "    <tr>\n",
       "      <th>3</th>\n",
       "      <td>Disgusting! And they don’t change their cultur...</td>\n",
       "      <td>hate</td>\n",
       "    </tr>\n",
       "    <tr>\n",
       "      <th>4</th>\n",
       "      <td>@TheRealOJ32 Of all the retired NFL players, w...</td>\n",
       "      <td>hate</td>\n",
       "    </tr>\n",
       "  </tbody>\n",
       "</table>\n",
       "</div>"
      ],
      "text/plain": [
       "                                                text label\n",
       "0  @politico No. We should remember very clearly ...  hate\n",
       "1  I don’t know how much more I can take! 45 is a...  hate\n",
       "2  #ShameOnICC  1. ICC on Dhoni's gloves         ...  hate\n",
       "3  Disgusting! And they don’t change their cultur...  hate\n",
       "4  @TheRealOJ32 Of all the retired NFL players, w...  hate"
      ]
     },
     "execution_count": 12,
     "metadata": {},
     "output_type": "execute_result"
    }
   ],
   "source": [
    "test = pd.read_csv(\"data/filtered/hatespeech_profane_offensive.csv\")\n",
    "test.head()"
   ]
  },
  {
   "cell_type": "markdown",
   "id": "statewide-rough",
   "metadata": {},
   "source": [
    "# Plot distribution"
   ]
  },
  {
   "cell_type": "code",
   "execution_count": 6,
   "id": "round-palmer",
   "metadata": {},
   "outputs": [],
   "source": [
    "import pandas as pd\n",
    "import numpy as np\n",
    "import matplotlib.pyplot as plt"
   ]
  },
  {
   "cell_type": "code",
   "execution_count": 3,
   "id": "needed-large",
   "metadata": {},
   "outputs": [
    {
     "data": {
      "text/html": [
       "<div>\n",
       "<style scoped>\n",
       "    .dataframe tbody tr th:only-of-type {\n",
       "        vertical-align: middle;\n",
       "    }\n",
       "\n",
       "    .dataframe tbody tr th {\n",
       "        vertical-align: top;\n",
       "    }\n",
       "\n",
       "    .dataframe thead th {\n",
       "        text-align: right;\n",
       "    }\n",
       "</style>\n",
       "<table border=\"1\" class=\"dataframe\">\n",
       "  <thead>\n",
       "    <tr style=\"text-align: right;\">\n",
       "      <th></th>\n",
       "      <th>text</th>\n",
       "      <th>label</th>\n",
       "    </tr>\n",
       "  </thead>\n",
       "  <tbody>\n",
       "    <tr>\n",
       "      <th>0</th>\n",
       "      <td>@politico No. We should remember very clearly ...</td>\n",
       "      <td>hate</td>\n",
       "    </tr>\n",
       "    <tr>\n",
       "      <th>1</th>\n",
       "      <td>I don’t know how much more I can take! 45 is a...</td>\n",
       "      <td>hate</td>\n",
       "    </tr>\n",
       "    <tr>\n",
       "      <th>2</th>\n",
       "      <td>#ShameOnICC  1. ICC on Dhoni's gloves         ...</td>\n",
       "      <td>hate</td>\n",
       "    </tr>\n",
       "    <tr>\n",
       "      <th>3</th>\n",
       "      <td>Disgusting! And they don’t change their cultur...</td>\n",
       "      <td>hate</td>\n",
       "    </tr>\n",
       "    <tr>\n",
       "      <th>4</th>\n",
       "      <td>@TheRealOJ32 Of all the retired NFL players, w...</td>\n",
       "      <td>hate</td>\n",
       "    </tr>\n",
       "  </tbody>\n",
       "</table>\n",
       "</div>"
      ],
      "text/plain": [
       "                                                text label\n",
       "0  @politico No. We should remember very clearly ...  hate\n",
       "1  I don’t know how much more I can take! 45 is a...  hate\n",
       "2  #ShameOnICC  1. ICC on Dhoni's gloves         ...  hate\n",
       "3  Disgusting! And they don’t change their cultur...  hate\n",
       "4  @TheRealOJ32 Of all the retired NFL players, w...  hate"
      ]
     },
     "execution_count": 3,
     "metadata": {},
     "output_type": "execute_result"
    }
   ],
   "source": [
    "df = pd.read_csv(\"data/filtered/hatespeech_profane_offensive.csv\")\n",
    "df.head()"
   ]
  },
  {
   "cell_type": "code",
   "execution_count": 8,
   "id": "growing-parish",
   "metadata": {},
   "outputs": [],
   "source": [
    "labels, counts = np.unique(df[\"label\"], return_counts = True)"
   ]
  },
  {
   "cell_type": "code",
   "execution_count": 20,
   "id": "peaceful-danish",
   "metadata": {},
   "outputs": [
    {
     "data": {
      "image/png": "[encoded data removed]",
      "text/plain": [
       "<Figure size 432x144 with 1 Axes>"
      ]
     },
     "metadata": {
      "needs_background": "light"
     },
     "output_type": "display_data"
    }
   ],
   "source": [
    "idx = np.argsort(counts)\n",
    "labels = labels[idx]\n",
    "counts = counts[idx]\n",
    "\n",
    "fig, ax = plt.subplots(figsize = (6,2))\n",
    "ax.barh(labels,counts)\n",
    "ax.set_xlim([0, 1750])\n",
    "for i, v in enumerate(counts):\n",
    "    ax.text(v + 50, i - 0.15, str(v), color=\"gray\", fontweight='bold')\n",
    "plt.title(\"Distribution of tweets in dataset HPO\")\n",
    "plt.show()"
   ]
  },
  {
   "cell_type": "markdown",
   "id": "italic-dodge",
   "metadata": {},
   "source": [
    "# Tweet examples"
   ]
  },
  {
   "cell_type": "code",
   "execution_count": 21,
   "id": "intensive-feedback",
   "metadata": {},
   "outputs": [
    {
     "name": "stdout",
     "output_type": "stream",
     "text": [
      "['@politico No. We should remember very clearly that #Individual1 just admitted to treason . #TrumpIsATraitor  #McCainsAHero #JohnMcCainDay'\n",
      " 'I don’t know how much more I can take! 45 is a compulsive liar! #Trump30Hours #TrumpIsATraitor'\n",
      " \"#ShameOnICC  1. ICC on Dhoni's gloves                    Vs  2.ICC planning the World Cup https://t.co/4kO3zKt7ln\"\n",
      " 'Disgusting! And they don’t change their culture or come up with vetting system or preventative ways to stop this from occurring. This will continue to happen. The Catholic Church needs to go! #rapist #ChildTrafficking #CatholicChurch #CatholicTwitter https://t.co/tb4tSoD2Lz'\n",
      " '@TheRealOJ32 Of all the retired NFL players, why is it that you DON’T suffer from CTE?     You should be at the bottom of a pool you mistook for an elevator. #murderer'\n",
      " '@kojikabu @Maggie_Klaus @JoeBiden What it is that we will do anything to get trump the hell out there EXCEPT CHEAT LIKE TRUMP DID!!!!  #FuckTrump #Bluewave2020'\n",
      " '#ShameOnICC  ICC is earning billions from this event, but at the management level they performance is zero. Even a small company manager can handle such events more efficiently then ICC. https://t.co/GA1Quubpm2'\n",
      " 'Its a shame when #antimuslim #Islamophobe @realDonaldTrump is attacking @SadiqKhan, @georgegalloway has to behave like this.... #istandwithsadiqkhan #WeAllStandTogether https://t.co/iYbNeeSXaO'\n",
      " '@funder Am I the only one who feels like it’s no longer a question of if #TrumpIsATraitor, but rather if Republicans are still Americans?'\n",
      " \"'Well, even his “friendly” Fox &amp; Friends were on him about what he said originally... he had to backtrack...   He is a very dangerous man.' #TrumpIsATraitor #TrumpResignNow #Trump #TrumpFail #TrumpDerangementSyndrome  #TRUMP2020Landside #MAGA #Trump2020 #TrumpTrain #TrumpTrain2020 https://t.co/e3OpRi7jmH\"\n",
      " '#Rangzen people, we have to stop this fake activist troll from ruining our #FreeTibet movement.     #Tibetans #humanrights #BoycottChina #Dharamsala #March10 #Tibetan #DalaiLama #BhoRangzen https://t.co/Hs54Goqis7'\n",
      " 'Proven that @MamataOfficial is in support of terror mob and in favor of changing demography of Bengal. CM is zaddi and same working like Hitler. #DoctorsFightBack #BengalDoctorsStrike #hitlerdidi  #MamataLosingControl #MamataBanarjee #mamtafrustrated https://t.co/hKZGxr3lUo'\n",
      " '#DhoniKeepsTheGlove   #DhoniKeSaathDesh   #IndiaWithDhoni    We need to understand ICC rules correctly    It can only allow terror sponsering countries to play,   but not the Army insignia.'\n",
      " '@CNN Disgusting! And they don’t change their culture or come up with vetting system or preventative ways to stop this from occurring. This will continue to happen. The Catholic Church needs to go! #rapist #ChildTrafficking #CatholicChurch #CatholicTwitter'\n",
      " 'If that Bengali Jihadi $lu7 catches any illness, no doctor must treat her. She should suffer from non-treatment and face consequences! #DoctorsFightBack #DoctorsUnderOppression #DoctorsProtest'\n",
      " '@realDonaldTrump You literally admitted you’d commit a felony to get elected.  Barr, if he actually followed the law, would have arrested you.  Stop harassing America.  PS: We all know Iran is innocent and you are just trying to distract from your latest felony.  #TrumpIsATraitor #TrumpColluded'\n",
      " '@BorisJohnson is not a harmless buffoon. he is a cold, calculating, vile man who uses his persona to get away with  his racism, homophobia and elitism. Oh and he’s soon to be our new prime minster, help us all  #BorisJohnsonShouldNotBePM #borisjohnson     https://t.co/ZfozJi2t8d'\n",
      " \"@realDonaldTrump I'm 'OK' with it!    Christopher Steele was so concerned about what he was finding that he contacted FBI, right?!    That's what the TRUMP CAMPAIGN &amp; TRUMP FAMILY SHOULD HAVE DONE!    #TrumpIsATraitor  #TrumpMustGo\"\n",
      " '@Comey I am crushed that no one is calling attention to the lie that @hogangidley45 told about #JamesComey being a convict!!!  See the short clip to confirm that #Trump Administration is lying.  #TrumpIsATraitor #TrumpResign #TrumpTantrum #WhiteHouse https://t.co/BNpZLCBQpE'\n",
      " '@TheRealOJ32 You belong in jail and then in hell #murderer #JusticeForNicoleAndRon']\n"
     ]
    }
   ],
   "source": [
    "target = \"hate\"\n",
    "dft = df.loc[df[\"label\"] == target]\n",
    "print(dft[\"text\"].values[:20])"
   ]
  },
  {
   "cell_type": "code",
   "execution_count": 22,
   "id": "noted-massachusetts",
   "metadata": {},
   "outputs": [
    {
     "name": "stdout",
     "output_type": "stream",
     "text": [
      "['@TheRealOJ32 The world will rejoice when you die. #murderer #classless'\n",
      " '@realDonaldTrump Destroy our country?  More like defending our country against a treasonous traitor in the white house!    #TrumpIsATraitor   #TrumpTaxes  #TrumpsAnInternationalDisgrace   #TrumpMustResign'\n",
      " 'So it looks like the lying incompetent homophobic racist #BorisJohnson will be the next #Tory leader...well at least we’ll get a #GeneralElection eh Boris?  #BorisJohnsonShouldNotBePM #ToryDrugOff #ToryLeadershipContest https://t.co/Ho4HibTo7A'\n",
      " '@UROCKlive1 He’s had the worst numbers of any president ever. Theres not much “Lower” to go. #TrumpIsATraitor'\n",
      " \"@realDonaldTrump This is one of the worst times to be American, because you are causing serious damage to our country. I sure don't wish you a Happy Father's Day, because everyone knows you're a terrible father. #DerangedDonald #TrumpisaTraitor #TrumpisaCriminal\"\n",
      " '@realDonaldTrump You are a crook and a national embarrassment.  #FUCKTRUMP  #impeach45  Happy #JohnMcCainDay'\n",
      " \"@Conservatives a 'Johnson' is slang for a penis. #Dickhead #NominativeDeterminism  #ToriesOut #PeoplesVote #Blindingobvious\"\n",
      " '@realDonaldTrump “I was such an amazing quarterback in high school, that I can tell you. Watch these 50 year old videos...” 🙄    Dolt45 loves to prove over and over again what a PATHETIC LOSER he is. Can you please for one day show just a little bit of class?    #Douchebag'\n",
      " 'Now we can add #FlagRapist to the resume of #Traitor, #Pedophile, #Racist, #Rapist and serial sexual predator of women @RealDonaldtRump! https://t.co/2nBGNxGIsi via @HuffPostPol #MeToo'\n",
      " 'Trump is a traitor. Period.    #TrumpIsATraitor https://t.co/7WTTkTuAq4'\n",
      " '@realDonaldTrump TRAITOR  #TrumpIsATraitor https://t.co/Ip9XqS0U3c'\n",
      " '@realDonaldTrump @foxandfriends Pete Hogsbreath is in Dotard Donald Trump’s club for Adulterous Daddies! #Adultery #TrumpCrimeFamily #TrumpIsAFraud #TrumpsAnInternationalDisgrace #TrumpIsATraitor @foxandfriends'\n",
      " '@realDonaldTrump @USArmy Trump is a piece of 💩 Well I was serving proudly he was playing Captain Bone Spurr’s at Studio 54 in NY Spending his Daddy’s money 💰 prowling for women like Ivanka And Melania The Purple heart he has he took from a veteran and stated that was the easy way to get it #fucktrump'\n",
      " \"@realDonaldTrump It's not a presidency it's a Trump crime spree. #TrumpIsATraitor https://t.co/bTrSZhAh0R\"\n",
      " '@khanamad999 @MoeedNj @GVS_News how this #porki country produce such rectums ?  surgical strike 1  surgical strike 2.0  #balakotairstrike   #F16 down  shamelessly returned capture pilot in 24 Hrs (that to announced by the #jihadi #pm #imranhataomulkbachao )  now on ventilator of #bailout package from #IMF   way to go.'\n",
      " '@JohnCornyn @txlegion @TexasBoysState Did you tell them How you voted to repeal sanctions against Oleg Deripaska and Rusal? https://t.co/BODxwbfvww Cant wait to Vote you out! @mjhegar #TraitorTrump #TrumpRussia #ReadTheMuellerReport #TrumpIsATraitor #TrumpCriminalInvestigations #TrumpConcentrationCamps'\n",
      " 'Have to say, a great benefit to having a known pathological liar as president is when he tries to start a war, no one believes him #TrumpIsATraitor'\n",
      " \"Following OJ Simpson would be entertaining but I dont need to follow a murderer sociopath when people like his tweets and he's automatically on my TL. He is crazy! Just saw him rambling about Kloe K. Damn why isn't he locked up😞 #murderer\"\n",
      " \"Boris isn't even PM yet but he is already destroying trade with the EU and enriching his friends - We know what type of Boris we will get - Inept, indolent and offensive - a UK Trump without ANY of the economic firepower Nutter!  #BorisJohnsonShouldNotBePM #BorisJohnson https://t.co/VxyettyYXQ\"\n",
      " '@GOP @realDonaldTrump He’s also lied, cheated, committed crimes against America, broken emoluments laws, nepotism, spread his corruption, conspired with Russia, and banked millions of our tax dollars while you dumbf**ks cheer    -You have become his accomplices   #TrumpIsAFraud #TrumpIsATraitor']\n"
     ]
    }
   ],
   "source": [
    "target = \"offensive\"\n",
    "dft = df.loc[df[\"label\"] == target]\n",
    "print(dft[\"text\"].values[:20])"
   ]
  },
  {
   "cell_type": "code",
   "execution_count": 23,
   "id": "developmental-forum",
   "metadata": {},
   "outputs": [
    {
     "name": "stdout",
     "output_type": "stream",
     "text": [
      "['#ADOS #trendingnow #blacklivesmatter #justice #fucktrump  ‘Central Park Five’ Prosecutor Elizabeth Lederer Out at Columbia Law School https://t.co/7S1Lu7wi53'\n",
      " 'Good work @ICC keep going just destroy the whole fucking world cup #ShameOnICC https://t.co/ELvq7PAuY9'\n",
      " '@realDonaldTrump fuck you and go fuck yourself you piece of shit someone get this asshole a jail cell for his birthday #ImpeachTrumpNow #fucktrump #dickstaindonald #DerangedDonald https://t.co/41eFBCu2uD'\n",
      " '@Werdnat This crazy Manbaby will probably paint it gold.  Not gawdy at all.    #ihate45   #worstPresidentever   #weaselheadedfucknugget   #shutyourshithole   #fucktrump   #yousuck   #liarinchief   #noclass   #moron   #ridusofthisdisease  #UnfollowTrump  ┌∏┐ (•˽•)┌∏┐'\n",
      " 'This is everything. #fucktrump https://t.co/e2C48U3pss'\n",
      " 'Hey Trump ! These lovely ladies got something to tell ya ....  #FUCKTRUMP https://t.co/s1WhlaPaMf'\n",
      " 'I love this bill, I think they should start printing them #FuckTrump https://t.co/NY9CuyivGl'\n",
      " 'So basically he’s not vegan #dickhead 🙄 https://t.co/Z2SPDxudxp'\n",
      " '@realDonaldTrump Maybe @LindseyGrahamSC should take his lips off your ass, read the report, and get with the dems and everyone else with half a brain and get YOU out of the White House! 🤷\\u200d♂️ #POSPOTUS #ASSKISSERS #ImpeachTrump #FuckTrump #ButNotLiterallyLindsey'\n",
      " '@ICC @bira91 This world cup 19 should be ban !! 😡😡 Rain rain rain motherfuckerr ICC   Shift this world to another country or ban this world cup 19 😡😡   #ShameOnICC 😡😡'\n",
      " '😅😂🤣🤣    LMAO at the shoe-lifts, girdle-butt stance.  Pathetic.    But #FUCKTRUMP for the vomitus of lies he spews and crimes he commits😡🤬🤮🤬😡 https://t.co/1IhAUsvqnx'\n",
      " 'Fck the US tho and #fucktrump https://t.co/Wyc6RQW02x'\n",
      " 'Trump doesn’t know what the Hell he is talking about!!!!    He can’t help but spew B*llshit!!!   He’s a Disgrace &amp; 2020 can not get here fast enough!    #FuckfaceVonClownstick #fucktrump #LockTrumpUp #ImpeachTheMF #ImpeachTheMFTraitor https://t.co/vUdyQ5iEhk'\n",
      " \"@AdityaRajKaul Dukarr 🐷🐽🇵🇰 Mullah's drying for business deals with 🇮🇳🕉️ Bloody beggar's Allah ke naam de de, Chalo 🍅🍅 tamatar toh dedo !! 😂😂😂 #INDvPAK #CWC19  #ModiJiSeMilnaHai #FridayMotivation #ModiSurgicalSnub #ModiGlobalPower #ImranKhan #cwc11 #imranhataomulkbachao\"\n",
      " 'Some of the GOP in Congress I find utterly disgusting. It’s almost impossible to listen to them try to justify fucked up trump. It’s really disheartening #FuckTrump #FuckTheGOP'\n",
      " 'The great thing about all the Nazis, right wingers, alt right types and the rest of the fascist maggots on Twitter is this: you can BLOCK them and UNFOLLOW them. It’s really makes me happy not to deal with or see their bullshit #fucktrump https://t.co/THhdCfKVEQ'\n",
      " '@robreiner He is so fucking stupid. #FuckTrump'\n",
      " '@snb19692 @suehard @ElspethElspeth @jane_janekeane @LisatheSimpson You do know that #Dickhead. alias Steve Bray, is making a fortune off of crowd funding ?'\n",
      " 'Fuck me, do we really want the idiot @BorisJohnson in charge of the country when he can’t even function as a mayor? #inepttoryparty #generalelectionow #torysout #BorisJohnsonShouldNotBePM https://t.co/hKacQXhxYC'\n",
      " \"innocent people, especially those in a drastically higher power bracket, DO NOT PAY! let's face it: #bryansinger is a fucking #RAPIST hollywood has enabled him to prey on young men for DECADES #rapeculture hope karma comes for him and his enablers https://t.co/5S2HKuXeZK\"]\n"
     ]
    }
   ],
   "source": [
    "target = \"profane\"\n",
    "dft = df.loc[df[\"label\"] == target]\n",
    "print(dft[\"text\"].values[:20])"
   ]
  },
  {
   "cell_type": "code",
   "execution_count": null,
   "id": "little-producer",
   "metadata": {},
   "outputs": [],
   "source": []
  }
 ],
 "metadata": {
  "kernelspec": {
   "display_name": "Python [conda env:nlp] *",
   "language": "python",
   "name": "conda-env-nlp-py"
  },
  "language_info": {
   "codemirror_mode": {
    "name": "ipython",
    "version": 3
   },
   "file_extension": ".py",
   "mimetype": "text/x-python",
   "name": "python",
   "nbconvert_exporter": "python",
   "pygments_lexer": "ipython3",
   "version": "3.8.8"
  }
 },
 "nbformat": 4,
 "nbformat_minor": 5
}
