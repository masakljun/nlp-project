{
 "cells": [
  {
   "cell_type": "markdown",
   "id": "synthetic-input",
   "metadata": {},
   "source": [
    "# Tweet extraction\n",
    "\n",
    "In this part we extract the tweets and form JSON files."
   ]
  },
  {
   "cell_type": "code",
   "execution_count": 1,
   "id": "atlantic-transport",
   "metadata": {},
   "outputs": [],
   "source": [
    "def custom_tweet( tweet_id, tweet_text, entities, label):\n",
    "    new_d = dict()\n",
    "    new_d[\"id\"] = tweet_id\n",
    "    new_d[\"text\"] = tweet_text\n",
    "    new_d[\"entities\"] = entities\n",
    "    new_d[\"label\"] = label\n",
    "    return new_d\n"
   ]
  },
  {
   "cell_type": "code",
   "execution_count": 2,
   "id": "solid-philippines",
   "metadata": {},
   "outputs": [],
   "source": [
    "import tweepy\n",
    "import pandas as pd\n",
    "import numpy as np\n",
    "import json\n",
    "import time\n",
    "from tqdm.notebook import tqdm"
   ]
  },
  {
   "cell_type": "code",
   "execution_count": 3,
   "id": "relevant-violin",
   "metadata": {},
   "outputs": [],
   "source": [
    "with open('twitter_api.txt') as f:\n",
    "     data = json.load(f)"
   ]
  },
  {
   "cell_type": "code",
   "execution_count": 4,
   "id": "missing-attendance",
   "metadata": {},
   "outputs": [],
   "source": [
    "# initialize tweepy\n",
    "consumer_key = data[\"key\"]\n",
    "consumer_secret = data[\"secret-key\"]\n",
    "\n",
    "access_token = data[\"access-token\"]\n",
    "access_token_secret = data[\"access-token-secret\"]\n",
    "\n",
    "auth = tweepy.OAuthHandler(consumer_key, consumer_secret)\n",
    "auth.set_access_token(access_token, access_token_secret)\n",
    "\n",
    "api = tweepy.API(auth, wait_on_rate_limit=True)"
   ]
  },
  {
   "cell_type": "code",
   "execution_count": 5,
   "id": "adapted-sucking",
   "metadata": {},
   "outputs": [
    {
     "data": {
      "text/html": [
       "<div>\n",
       "<style scoped>\n",
       "    .dataframe tbody tr th:only-of-type {\n",
       "        vertical-align: middle;\n",
       "    }\n",
       "\n",
       "    .dataframe tbody tr th {\n",
       "        vertical-align: top;\n",
       "    }\n",
       "\n",
       "    .dataframe thead th {\n",
       "        text-align: right;\n",
       "    }\n",
       "</style>\n",
       "<table border=\"1\" class=\"dataframe\">\n",
       "  <thead>\n",
       "    <tr style=\"text-align: right;\">\n",
       "      <th></th>\n",
       "      <th>0</th>\n",
       "      <th>1</th>\n",
       "    </tr>\n",
       "  </thead>\n",
       "  <tbody>\n",
       "    <tr>\n",
       "      <th>0</th>\n",
       "      <td>572342978255048705</td>\n",
       "      <td>racism</td>\n",
       "    </tr>\n",
       "    <tr>\n",
       "      <th>1</th>\n",
       "      <td>572341498827522049</td>\n",
       "      <td>racism</td>\n",
       "    </tr>\n",
       "    <tr>\n",
       "      <th>2</th>\n",
       "      <td>572340476503724032</td>\n",
       "      <td>racism</td>\n",
       "    </tr>\n",
       "    <tr>\n",
       "      <th>3</th>\n",
       "      <td>572334712804384768</td>\n",
       "      <td>racism</td>\n",
       "    </tr>\n",
       "    <tr>\n",
       "      <th>4</th>\n",
       "      <td>572332655397629952</td>\n",
       "      <td>racism</td>\n",
       "    </tr>\n",
       "  </tbody>\n",
       "</table>\n",
       "</div>"
      ],
      "text/plain": [
       "                    0       1\n",
       "0  572342978255048705  racism\n",
       "1  572341498827522049  racism\n",
       "2  572340476503724032  racism\n",
       "3  572334712804384768  racism\n",
       "4  572332655397629952  racism"
      ]
     },
     "execution_count": 5,
     "metadata": {},
     "output_type": "execute_result"
    }
   ],
   "source": [
    "# reads df\n",
    "df = pd.read_csv(\"data/filtered/racism_sexism_benevolent.csv\", header = None)\n",
    "df.head()"
   ]
  },
  {
   "cell_type": "code",
   "execution_count": 6,
   "id": "remarkable-punch",
   "metadata": {},
   "outputs": [],
   "source": [
    "labels = dict(zip(df[0].to_numpy().astype(str), df[1]))"
   ]
  },
  {
   "cell_type": "code",
   "execution_count": 68,
   "id": "favorite-ownership",
   "metadata": {},
   "outputs": [],
   "source": [
    "ids_to_request = df[0].to_numpy().tolist()"
   ]
  },
  {
   "cell_type": "code",
   "execution_count": 8,
   "id": "limited-victory",
   "metadata": {},
   "outputs": [],
   "source": [
    "#test = custom_tweet(tweets[0].id_str, tweets[0].text, tweets[0].entities, \"racist\")\n",
    "#test"
   ]
  },
  {
   "cell_type": "code",
   "execution_count": 9,
   "id": "incorporate-wildlife",
   "metadata": {},
   "outputs": [],
   "source": [
    "#custom_tweets = dict()\n",
    "#for tweet in tweets:\n",
    "#    custom = custom_tweet(tweet.id_str, tweet.text, tweet.entities, labels[tweet.id_str])\n",
    "#    custom_tweets[tweet.id_str] = custom\n",
    "\n",
    "#custom_tweets\n",
    "\n",
    "#with open('result.json', 'w') as fp:\n",
    "#    json.dump(custom_tweets, fp)\n",
    "#fp.close()"
   ]
  },
  {
   "cell_type": "code",
   "execution_count": 10,
   "id": "adjusted-success",
   "metadata": {},
   "outputs": [
    {
     "name": "stdout",
     "output_type": "stream",
     "text": [
      "1\n"
     ]
    }
   ],
   "source": [
    "# read starting point\n",
    "with open('init.txt', 'r') as fp:\n",
    "    start = fp.read()\n",
    "fp.close() \n",
    "start = int(start)\n",
    "print(start)"
   ]
  },
  {
   "cell_type": "code",
   "execution_count": 11,
   "id": "other-problem",
   "metadata": {},
   "outputs": [
    {
     "data": {
      "application/vnd.jupyter.widget-view+json": {
       "model_id": "df613b40363b4045826574b42018f99b",
       "version_major": 2,
       "version_minor": 0
      },
      "text/plain": [
       "  0%|          | 0/138 [00:00<?, ?it/s]"
      ]
     },
     "metadata": {},
     "output_type": "display_data"
    }
   ],
   "source": [
    "for i in tqdm(range(start, int(len(ids_to_request)/100))):\n",
    "    # get tweets\n",
    "    tweets = api.statuses_lookup(ids_to_request[i*100:(i+1)*100])\n",
    "    \n",
    "    # get dict\n",
    "    custom_tweets = dict()\n",
    "    for tweet in tweets:\n",
    "        custom = custom_tweet(tweet.id_str, tweet.text, tweet.entities, labels[tweet.id_str])\n",
    "        custom_tweets[tweet.id_str] = custom\n",
    "    \n",
    "    # save them\n",
    "    if len(tweets) > 0:\n",
    "        f = open(f'data/filtered/racism_sexism_benevolent/{i:03d}.json', \"w\")\n",
    "        json.dump(custom_tweets, f)\n",
    "        f.close()\n",
    "    \n",
    "    # update init\n",
    "    f = open('init.txt', 'w')\n",
    "    f.write(str(i+1))\n",
    "    f.close()\n",
    "    \n",
    "    "
   ]
  },
  {
   "cell_type": "code",
   "execution_count": 12,
   "id": "exposed-memphis",
   "metadata": {},
   "outputs": [
    {
     "data": {
      "text/plain": [
       "139"
      ]
     },
     "execution_count": 12,
     "metadata": {},
     "output_type": "execute_result"
    }
   ],
   "source": [
    "int(len(ids_to_request)/100)"
   ]
  },
  {
   "cell_type": "markdown",
   "id": "monthly-oxygen",
   "metadata": {},
   "source": [
    "# Merging files\n",
    "\n",
    "Merge files into one"
   ]
  },
  {
   "cell_type": "code",
   "execution_count": 69,
   "id": "usual-seafood",
   "metadata": {},
   "outputs": [],
   "source": [
    "import os\n",
    "import json"
   ]
  },
  {
   "cell_type": "code",
   "execution_count": 70,
   "id": "marked-qualification",
   "metadata": {},
   "outputs": [],
   "source": [
    "all_tweets = dict()\n",
    "\n",
    "for fn in os.listdir(\"data/filtered/racism_sexism_benevolent/\"):\n",
    "    f = open(f\"data/filtered/racism_sexism_benevolent/{fn}\", \"r\")\n",
    "    data = json.load(f)\n",
    "    all_tweets = {**all_tweets, **data}\n",
    "    \n",
    "# dump merged\n",
    "f = open(f'data/filtered/racism_sexism_benevolent_extracted.json', \"w\")\n",
    "json.dump(custom_tweets, f)\n",
    "f.close()"
   ]
  },
  {
   "cell_type": "markdown",
   "id": "revolutionary-calculation",
   "metadata": {},
   "source": [
    "# Distribution of the tweets"
   ]
  },
  {
   "cell_type": "code",
   "execution_count": 71,
   "id": "electrical-estate",
   "metadata": {},
   "outputs": [],
   "source": [
    "counter = [0] * 4   # racism, sexism, both, benevolent_sexism"
   ]
  },
  {
   "cell_type": "code",
   "execution_count": 72,
   "id": "smart-commander",
   "metadata": {},
   "outputs": [
    {
     "data": {
      "text/plain": [
       "[130, 3535, 18, 2386]"
      ]
     },
     "execution_count": 72,
     "metadata": {},
     "output_type": "execute_result"
    }
   ],
   "source": [
    "for v in list(all_tweets.values()):\n",
    "    label = v[\"label\"]\n",
    "    if label == \"racism\":\n",
    "        counter[0] = counter[0] + 1\n",
    "    elif label == \"sexism\":\n",
    "        counter[1] = counter[1] + 1\n",
    "    elif label == \"both\":\n",
    "        counter[2] = counter[2] + 1\n",
    "    elif label == \"benevolent\":\n",
    "        counter[3] = counter[3] + 1\n",
    "\n",
    "        \n",
    "counter"
   ]
  },
  {
   "cell_type": "code",
   "execution_count": 73,
   "id": "norwegian-atmosphere",
   "metadata": {},
   "outputs": [
    {
     "data": {
      "image/png": "[encoded data removed]",
      "text/plain": [
       "<Figure size 432x158.4 with 1 Axes>"
      ]
     },
     "metadata": {
      "needs_background": "light"
     },
     "output_type": "display_data"
    }
   ],
   "source": [
    "import matplotlib.pyplot as plt\n",
    "import numpy as np\n",
    "\n",
    "counter = np.array(counter)\n",
    "\n",
    "idx = np.argsort(counter)\n",
    "\n",
    "x = np.array([\"racism\", \"sexism\", \"both\", \"benevolent\"])[idx]\n",
    "y = counter[idx]\n",
    "\n",
    "fig, ax = plt.subplots(figsize = (6,2.2))\n",
    "ax.barh(x,y)\n",
    "ax.set_xlim([0, 4050])\n",
    "for i, v in enumerate(y):\n",
    "    ax.text(v + 50, i - 0.15, str(v), color=\"gray\", fontweight='bold')\n",
    "plt.title(\"Distribution of tweets in dataset\")\n",
    "plt.show()"
   ]
  }
 ],
 "metadata": {
  "kernelspec": {
   "display_name": "Python [conda env:.conda-nlp] *",
   "language": "python",
   "name": "conda-env-.conda-nlp-py"
  },
  "language_info": {
   "codemirror_mode": {
    "name": "ipython",
    "version": 3
   },
   "file_extension": ".py",
   "mimetype": "text/x-python",
   "name": "python",
   "nbconvert_exporter": "python",
   "pygments_lexer": "ipython3",
   "version": "3.8.8"
  }
 },
 "nbformat": 4,
 "nbformat_minor": 5
}
