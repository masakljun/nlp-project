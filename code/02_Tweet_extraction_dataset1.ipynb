{
 "cells": [
  {
   "cell_type": "markdown",
   "id": "noble-velvet",
   "metadata": {},
   "source": [
    "# Tweet extraction\n",
    "\n",
    "In this part we extract the tweets for the [3], [11], and [12] in the report and form JSON files.\n",
    "\n",
    "To run this code you need an API key from twitter. You have to create file *twitter_api.txt* in the *code* folder of the repository. Then fill out the following JSON and paste it into the *twitter_api.txt*:\n",
    "```\n",
    "{\"key\": \"your-key-here\",\n",
    "\"secret-key\": \"your-secret-key-here\",\n",
    "\"bearer-token\": \"your-bearer-token-here\",\n",
    "\"access-token\": \"your-access-token-here\",\n",
    "\"access-token-secret\": \"your-access-token-secret-here\"}\n",
    "```\n",
    "\n",
    "You also need to create a folder named *filtered* in the data folder of this repository."
   ]
  },
  {
   "cell_type": "code",
   "execution_count": 1,
   "id": "atlantic-transport",
   "metadata": {},
   "outputs": [],
   "source": [
    "def custom_tweet( tweet_id, tweet_text, entities, label):\n",
    "    new_d = dict()\n",
    "    new_d[\"id\"] = tweet_id\n",
    "    new_d[\"text\"] = tweet_text\n",
    "    new_d[\"entities\"] = entities\n",
    "    new_d[\"label\"] = label\n",
    "    return new_d\n"
   ]
  },
  {
   "cell_type": "code",
   "execution_count": 2,
   "id": "solid-philippines",
   "metadata": {},
   "outputs": [],
   "source": [
    "import tweepy\n",
    "import pandas as pd\n",
    "import numpy as np\n",
    "import json\n",
    "import time\n",
    "from tqdm.notebook import tqdm"
   ]
  },
  {
   "cell_type": "code",
   "execution_count": 3,
   "id": "relevant-violin",
   "metadata": {},
   "outputs": [],
   "source": [
    "with open('twitter_api.txt') as f:\n",
    "     data = json.load(f)"
   ]
  },
  {
   "cell_type": "code",
   "execution_count": 4,
   "id": "missing-attendance",
   "metadata": {},
   "outputs": [],
   "source": [
    "# initialize tweepy\n",
    "consumer_key = data[\"key\"]\n",
    "consumer_secret = data[\"secret-key\"]\n",
    "\n",
    "access_token = data[\"access-token\"]\n",
    "access_token_secret = data[\"access-token-secret\"]\n",
    "\n",
    "auth = tweepy.OAuthHandler(consumer_key, consumer_secret)\n",
    "auth.set_access_token(access_token, access_token_secret)\n",
    "\n",
    "api = tweepy.API(auth, wait_on_rate_limit=True)"
   ]
  },
  {
   "cell_type": "code",
   "execution_count": 5,
   "id": "adapted-sucking",
   "metadata": {},
   "outputs": [
    {
     "data": {
      "text/html": [
       "<div>\n",
       "<style scoped>\n",
       "    .dataframe tbody tr th:only-of-type {\n",
       "        vertical-align: middle;\n",
       "    }\n",
       "\n",
       "    .dataframe tbody tr th {\n",
       "        vertical-align: top;\n",
       "    }\n",
       "\n",
       "    .dataframe thead th {\n",
       "        text-align: right;\n",
       "    }\n",
       "</style>\n",
       "<table border=\"1\" class=\"dataframe\">\n",
       "  <thead>\n",
       "    <tr style=\"text-align: right;\">\n",
       "      <th></th>\n",
       "      <th>0</th>\n",
       "      <th>1</th>\n",
       "    </tr>\n",
       "  </thead>\n",
       "  <tbody>\n",
       "    <tr>\n",
       "      <th>0</th>\n",
       "      <td>572342978255048705</td>\n",
       "      <td>racism</td>\n",
       "    </tr>\n",
       "    <tr>\n",
       "      <th>1</th>\n",
       "      <td>572341498827522049</td>\n",
       "      <td>racism</td>\n",
       "    </tr>\n",
       "    <tr>\n",
       "      <th>2</th>\n",
       "      <td>572340476503724032</td>\n",
       "      <td>racism</td>\n",
       "    </tr>\n",
       "    <tr>\n",
       "      <th>3</th>\n",
       "      <td>572334712804384768</td>\n",
       "      <td>racism</td>\n",
       "    </tr>\n",
       "    <tr>\n",
       "      <th>4</th>\n",
       "      <td>572332655397629952</td>\n",
       "      <td>racism</td>\n",
       "    </tr>\n",
       "  </tbody>\n",
       "</table>\n",
       "</div>"
      ],
      "text/plain": [
       "                    0       1\n",
       "0  572342978255048705  racism\n",
       "1  572341498827522049  racism\n",
       "2  572340476503724032  racism\n",
       "3  572334712804384768  racism\n",
       "4  572332655397629952  racism"
      ]
     },
     "execution_count": 5,
     "metadata": {},
     "output_type": "execute_result"
    }
   ],
   "source": [
    "# reads df\n",
    "df = pd.read_csv(\"data/filtered/racism_sexism_benevolent.csv\", header = None)\n",
    "df.head()"
   ]
  },
  {
   "cell_type": "code",
   "execution_count": 6,
   "id": "remarkable-punch",
   "metadata": {},
   "outputs": [],
   "source": [
    "labels = dict(zip(df[0].to_numpy().astype(str), df[1]))"
   ]
  },
  {
   "cell_type": "code",
   "execution_count": 7,
   "id": "favorite-ownership",
   "metadata": {},
   "outputs": [],
   "source": [
    "ids_to_request = df[0].to_numpy().tolist()"
   ]
  },
  {
   "cell_type": "markdown",
   "id": "c7769bd5",
   "metadata": {},
   "source": [
    "Before running the code you need to create *init.txt* in the *code* folder of this repository. The file must contain a single line with integer *0*, no spaces or any other signs."
   ]
  },
  {
   "cell_type": "code",
   "execution_count": 10,
   "id": "adjusted-success",
   "metadata": {},
   "outputs": [
    {
     "name": "stdout",
     "output_type": "stream",
     "text": [
      "0\n"
     ]
    }
   ],
   "source": [
    "# read starting point\n",
    "with open('init.txt', 'r') as fp:\n",
    "    start = fp.read()\n",
    "fp.close() \n",
    "start = int(start)\n",
    "print(start)"
   ]
  },
  {
   "cell_type": "markdown",
   "id": "767632c8",
   "metadata": {},
   "source": [
    "Before running the code make sure you have the following directories: *data/filtered/racism_sexism_benevolent/*"
   ]
  },
  {
   "cell_type": "code",
   "execution_count": 11,
   "id": "other-problem",
   "metadata": {},
   "outputs": [
    {
     "data": {
      "application/vnd.jupyter.widget-view+json": {
       "model_id": "b4452c8d6f6241c9ab81e452e3a07342",
       "version_major": 2,
       "version_minor": 0
      },
      "text/plain": [
       "  0%|          | 0/139 [00:00<?, ?it/s]"
      ]
     },
     "metadata": {},
     "output_type": "display_data"
    }
   ],
   "source": [
    "for i in tqdm(range(start, int(len(ids_to_request)/100))):\n",
    "    # get tweets\n",
    "    tweets = api.statuses_lookup(ids_to_request[i*100:(i+1)*100])\n",
    "    \n",
    "    # get dict\n",
    "    custom_tweets = dict()\n",
    "    for tweet in tweets:\n",
    "        custom = custom_tweet(tweet.id_str, tweet.text, tweet.entities, labels[tweet.id_str])\n",
    "        custom_tweets[tweet.id_str] = custom\n",
    "    \n",
    "    # save them\n",
    "    if len(tweets) > 0:\n",
    "        f = open(f'data/filtered/racism_sexism_benevolent/{i:03d}.json', \"w\")\n",
    "        json.dump(custom_tweets, f)\n",
    "        f.close()\n",
    "    \n",
    "    # update init\n",
    "    f = open('init.txt', 'w')\n",
    "    f.write(str(i+1))\n",
    "    f.close()\n",
    "    \n",
    "    "
   ]
  },
  {
   "cell_type": "code",
   "execution_count": 12,
   "id": "exposed-memphis",
   "metadata": {},
   "outputs": [
    {
     "data": {
      "text/plain": [
       "139"
      ]
     },
     "execution_count": 12,
     "metadata": {},
     "output_type": "execute_result"
    }
   ],
   "source": [
    "int(len(ids_to_request)/100)"
   ]
  },
  {
   "cell_type": "markdown",
   "id": "opposite-writer",
   "metadata": {},
   "source": [
    "# Merging files\n",
    "\n",
    "The previous code generated a lot of smaller files as the extraction extracts tweets in bathes. This part merge files into one."
   ]
  },
  {
   "cell_type": "code",
   "execution_count": 3,
   "id": "usual-seafood",
   "metadata": {},
   "outputs": [],
   "source": [
    "import os\n",
    "import json"
   ]
  },
  {
   "cell_type": "code",
   "execution_count": 3,
   "id": "amazing-functionality",
   "metadata": {},
   "outputs": [],
   "source": [
    "all_tweets = dict()\n",
    "\n",
    "for fn in os.listdir(\"data/filtered/racism_sexism_benevolent/\"):\n",
    "    f = open(f\"data/filtered/racism_sexism_benevolent/{fn}\", \"r\")\n",
    "    data = json.load(f)\n",
    "    all_tweets = {**all_tweets, **data}\n",
    "    \n",
    "# dump merged\n",
    "f = open(f'data/filtered/racism_sexism_benevolent.json', \"w\")\n",
    "json.dump(all_tweets, f)\n",
    "f.close()"
   ]
  },
  {
   "cell_type": "markdown",
   "id": "existing-parcel",
   "metadata": {},
   "source": [
    "# Distribution of the tweets"
   ]
  },
  {
   "cell_type": "code",
   "execution_count": 15,
   "id": "rapid-jerusalem",
   "metadata": {},
   "outputs": [],
   "source": [
    "counter = [0] * 4   # racism, sexism, both, benevolent_sexism"
   ]
  },
  {
   "cell_type": "code",
   "execution_count": 16,
   "id": "local-former",
   "metadata": {},
   "outputs": [
    {
     "data": {
      "text/plain": [
       "[130, 3535, 18, 2339]"
      ]
     },
     "execution_count": 16,
     "metadata": {},
     "output_type": "execute_result"
    }
   ],
   "source": [
    "for v in list(all_tweets.values()):\n",
    "    label = v[\"label\"]\n",
    "    if label == \"racism\":\n",
    "        counter[0] = counter[0] + 1\n",
    "    elif label == \"sexism\":\n",
    "        counter[1] = counter[1] + 1\n",
    "    elif label == \"both\":\n",
    "        counter[2] = counter[2] + 1\n",
    "    elif label == \"benevolent\":\n",
    "        counter[3] = counter[3] + 1\n",
    "\n",
    "        \n",
    "counter"
   ]
  },
  {
   "cell_type": "code",
   "execution_count": 17,
   "id": "fifth-determination",
   "metadata": {},
   "outputs": [
    {
     "data": {
      "image/png": "[encoded data removed]",
      "text/plain": [
       "<Figure size 432x158.4 with 1 Axes>"
      ]
     },
     "metadata": {
      "needs_background": "light"
     },
     "output_type": "display_data"
    }
   ],
   "source": [
    "import matplotlib.pyplot as plt\n",
    "import numpy as np\n",
    "\n",
    "counter = np.array(counter)\n",
    "\n",
    "idx = np.argsort(counter)\n",
    "\n",
    "x = np.array([\"racism\", \"sexism\", \"both\", \"benevolent\"])[idx]\n",
    "y = counter[idx]\n",
    "\n",
    "fig, ax = plt.subplots(figsize = (6,2.2))\n",
    "ax.barh(x,y)\n",
    "ax.set_xlim([0, 4050])\n",
    "for i, v in enumerate(y):\n",
    "    ax.text(v + 50, i - 0.15, str(v), color=\"gray\", fontweight='bold')\n",
    "plt.title(\"Distribution of tweets in dataset\")\n",
    "plt.show()"
   ]
  },
  {
   "cell_type": "markdown",
   "id": "continental-blanket",
   "metadata": {},
   "source": [
    "# Tweet examples"
   ]
  },
  {
   "cell_type": "code",
   "execution_count": 20,
   "id": "rural-prediction",
   "metadata": {},
   "outputs": [
    {
     "name": "stdout",
     "output_type": "stream",
     "text": [
      "These girls are the equivalent of the irritating Asian girls a couple years ago. Well done, 7. #MKR\n",
      "Drasko they didn't cook half a bird you idiot #mkr\n",
      "Hopefully someone cooks Drasko in the next ep of #MKR\n",
      "of course you were born in serbia...you're as fucked as A Serbian Film #MKR\n",
      "So Drasko just said he was impressed the girls cooked half a chicken.. They cooked a whole one  #MKR\n",
      "\"He can't be a server at our restaurant, that beard makes him look like a terrorist.\" Everyone laughs. #fuckthanksgiving\n",
      "@MisfitInChains @oldgfatherclock @venereveritas13 SANTA JUST *IS* WHITE\n",
      "@GarrettaBrown85 @5Candrew Why do people even talk about white privilege when the majority of food stamp recipients are white people!!\n",
      "RT @harikondabolu: In his #Ferguson testimony, Darren Wilson said he thought \"it looks like a demon\" before he shot Mike Brown. Ironic word…\n",
      "RT @AntonioFrench: I spent the morning at the Board of Elections getting maps/data to start registering every black person in #Ferguson. ht…\n",
      "RT @Dreamdefenders: Eric Holder from #ferguson: \"I understand that mistrust. I am the Attorney General, but I am also a Black Man\" http://t…\n",
      "RT @YesYoureRacist: At least you're only a tiny bit racist RT @AnMo95: I'm not racist, but my dick is!\n",
      "http://t.co/ZxbZV39jru: Maine Coon Cat Play Toy Car Remote http://t.co/QrpK42UuGP #coon #maine #remote\n",
      "cohen coon PowerPoint Slides - http://t.co/Khz2GOdiwf  #cohen #coon\n",
      "#Repost totalblacktv1\n",
      "\n",
      "Don't ask me to think.......I just want to entertain! #coon #cooning… http://t.co/T2SQ4Nj46z\n",
      "#BlameOneNotAll is bad because I should be able to hate entire demographics of people for the bad things individuals do to me! #racismyall\n",
      "@SuzieZUMO i seriously only see white.\n",
      "@Ricky_Rick00 dude we were the best team ever. We made shit happen! #aggies #Coon\n",
      "Man wtf is this damn #Coon ass nigga #BillyBlanks doing on that damn commercial? ? #CooneryAtItsFinest\n",
      "Now streaming - World PvP, Ashran, killin' stuff\n",
      "\n",
      "http://t.co/oMYz04QGPZ\n",
      "What if my skin is so white it glows, and I've got blue hair? #ladylike http://t.co/s2FphAPE9S\n"
     ]
    }
   ],
   "source": [
    "i = 0\n",
    "target = \"racism\"\n",
    "for id, tweet in all_tweets.items():\n",
    "    if tweet[\"label\"] == target:\n",
    "        print(tweet[\"text\"])\n",
    "        i = i + 1\n",
    "        \n",
    "    if i > 20:\n",
    "        break"
   ]
  },
  {
   "cell_type": "code",
   "execution_count": 23,
   "id": "thirty-reception",
   "metadata": {},
   "outputs": [
    {
     "name": "stdout",
     "output_type": "stream",
     "text": [
      "I've had better looking shits than these two! #MKR2015 #MKR #killerblondes\n",
      "The face of very ugly promo girls ! Faces like cats arsehole #mkr excited to see them@go down tonight...literally http://t.co/HgoJrfoIeO\n",
      "@mykitchenrules Elegant and beautiful?Cheap and trashy!Nothing more unattractive than girls banging on about how hot hey are. #mkr #notsassy\n",
      "Stop saying dumb blondes with pretty faces as you need a pretty face to pull that off!!!! #mkr\n",
      "#mkr Omg there restaurant looks like a a little girls room oh my! Gosh\n",
      "Drasko only likes his mum's hot pot, especially when she's drunk and unconscious #MKR\n",
      "its melting because you didnt put it in the freezer before you served it you dumb skank! #MKR\n",
      "@mykitchenrules Girls, please don't let the leftovers go to waist. My dog would really appreciate it! #MKR\n",
      "Sorry #killerblondes but you are a long LONG way from refined. #mkr\n",
      "I think they're deconstraucted Pro . . . mowhores #MKR\n",
      "#mkr deconstructed by girls that have deconstructed brains  ! Nearly brought up my dinner when I saw that crap on the plate\n",
      "@mykitchenrules The Sassy Foods feeling http://t.co/TtqS1N27OL #MKR2015 #MKR these girls are vile people #KillerBlondes #basichotdog #nobun\n",
      "These two are revolting #MKR #MKR2015\n",
      "Wish these blondes were in that How To Get Away With Murder show....#MKR\n",
      "In the words of former contestant @whatsnextjake , Katie and Nikki need to calm their farm. #MKR\n",
      "The menus look like they were made by a 5 year old little girl...in this case just the mental age of a 5 year old girl I guess #MKR\n",
      "I dislike Kat more than the blondes who are going to tell us they're hot another 50,000 times #MKR #notaustraliasnexttopmodel\n",
      "Not dumb blondes...mmm...perhaps just delusions of adequacy? #MKR\n",
      "I cannot stop looking at Nikki's dreadful black crooked bra #MKR #MKR2015\n",
      "There's more moisture in those spatchcocks than the #killerblondes #MKR\n",
      "#katieandnikki stop calling yourselves pretty and hot..you're not and saying it a million times doesn't make you either...STFU #MKR\n",
      "Were butchers but can't tell red poultry is not cooked..  #salmonellaqueens #MKR\n",
      "Nikki...Kermit the frog called and he wants his voice back #MKR #MKR2015 #KillerBlondes @mykitchenrules\n",
      "Ash found her inner bogun #whistle #fingersinthemouth Ewwww #MKR\n",
      "My deconstructed tart joke from the last season of #MKR http://t.co/10LPgtdopB\n",
      "Sassy...? More like femme bots than killer blondes... #mkr\n",
      "The girls can cook for me anytime. Just not hot pot... or spatchcock. #MKR\n",
      "So bummed the dull chicks on #MKR are using such a great name for their restaurant. #Sassy #Iamlatetothepartytonight #IQ\n",
      "Obviously natural blondes!! #mkr\n",
      "\"@NewIdeamagazine:They weren't kidding when they said deconstructed! #mkr\" Yeh. Seen better shit in women's magazi... Oh. Right...Sorry #MKR\n",
      "nothing worse than a raw cock....oh wait....#MKR\n"
     ]
    }
   ],
   "source": [
    "i = 0\n",
    "target = \"sexism\"\n",
    "for id, tweet in all_tweets.items():\n",
    "    if tweet[\"label\"] == target:\n",
    "        print(tweet[\"text\"])\n",
    "        i = i + 1\n",
    "        \n",
    "    if i > 30:\n",
    "        break"
   ]
  },
  {
   "cell_type": "code",
   "execution_count": 5,
   "id": "unlikely-being",
   "metadata": {},
   "outputs": [
    {
     "name": "stdout",
     "output_type": "stream",
     "text": [
      "RT @GemmaAnneStyles: Happy #womensday to all my sassy women, classy women, nasty women 💋👧🏾💖👩🏼‍🔬👄👵🏼 my fine women, alive women, gonna fight…\n",
      "RT @antonioguterres: We can’t achieve any of our goals without the participation of women and girls. #WomensDay https://t.co/2oCVEQQFMR\n",
      "RT @GemmaAnneStyles: Happy #womensday to all my sassy women, classy women, nasty women 💋👧🏾💖👩🏼‍🔬👄👵🏼 my fine women, alive women, gonna fight…\n",
      "RT @XavierSociety: Our library has many books on our Holy Mother. Imagine how different the world would be w/o her. #ADayWithoutWomen #Inte…\n",
      "#women are a #force #internationalwomensday #adaywithoutwomen #womensmarch #equality #EqualityMatters… https://t.co/Dc6oixVXEu\n",
      "RT @GemmaAnneStyles: Happy #womensday to all my sassy women, classy women, nasty women 💋👧🏾💖👩🏼‍🔬👄👵🏼 my fine women, alive women, gonna fight…\n",
      "RT @SriSri: Women possess a unique combination of will,determination &amp; emotions.They can protect,support &amp; uplift the family &amp; society.Happ…\n",
      "RT @mikandynothem: My wife is going to work today beacause she is NO lazy liberal woman looking for a day off! \n",
      "#adaywithoutwomen #MAGA htt…\n",
      "RT @GemmaAnneStyles: Happy #womensday to all my sassy women, classy women, nasty women 💋👧🏾💖👩🏼‍🔬👄👵🏼 my fine women, alive women, gonna fight…\n",
      "RT @jgopikrishnan70: Helen Rowland : \"It takes a woman twenty years to make a man of her son, and another woman twenty minutes to make a fo…\n",
      "RT @GemmaAnneStyles: Happy #womensday to all my sassy women, classy women, nasty women 💋👧🏾💖👩🏼‍🔬👄👵🏼 my fine women, alive women, gonna fight…\n",
      "RT @theCandidDiva: Every man needs a woman When his life is a mess,Bcoz just like d game of Chess d Queen Protects d King.\n",
      "#WomensDay \n",
      "#Int…\n",
      "RT @GemmaAnneStyles: Happy #womensday to all my sassy women, classy women, nasty women 💋👧🏾💖👩🏼‍🔬👄👵🏼 my fine women, alive women, gonna fight…\n",
      "RT @LeahRBoss: #adaywithoutwomen will demonstrate to your family and your boss that your emotions are more important than your responsibili…\n",
      "\"she parties like a man but loves like a woman\"\n",
      "RT @GemmaAnneStyles: Happy #womensday to all my sassy women, classy women, nasty women 💋👧🏾💖👩🏼‍🔬👄👵🏼 my fine women, alive women, gonna fight…\n",
      "RT @GemmaAnneStyles: Happy #womensday to all my sassy women, classy women, nasty women 💋👧🏾💖👩🏼‍🔬👄👵🏼 my fine women, alive women, gonna fight…\n",
      "RT @UN_Women: \"Why do we continue to undervalue fathers and overburden mothers?\" -Goodwill Ambassador Anne Hathaway on paid parental leave.…\n",
      "RT @scrowder: What will we do without feminists?! #InternationalWomensDay #ADayWithoutWomen &gt;&gt; https://t.co/5kEWwEHJ6f https://t.co/Y6iZa3A…\n",
      "RT @xanria_018: Lucky is the man who is the first love of a woman, but luckier is the woman who is the last love of a man.\n",
      "#ALDUBxDTBYLandas\n",
      "i need a man who can act like a man bh pareil\n",
      "RT @GemmaAnneStyles: Happy #womensday to all my sassy women, classy women, nasty women 💋👧🏾💖👩🏼‍🔬👄👵🏼 my fine women, alive women, gonna fight…\n",
      "RT @GemmaAnneStyles: Happy #womensday to all my sassy women, classy women, nasty women 💋👧🏾💖👩🏼‍🔬👄👵🏼 my fine women, alive women, gonna fight…\n",
      "RT @janasays_: A lot of females try to think like a man to avoid getting hurt/played instead of just being a woman. Take a chance ,love aga…\n",
      "RT @GemmaAnneStyles: Happy #womensday to all my sassy women, classy women, nasty women 💋👧🏾💖👩🏼‍🔬👄👵🏼 my fine women, alive women, gonna fight…\n",
      "RT @AdrianArellano0: It was such a nice day out today. Nice and quiet, the roads were clear...\n",
      "\n",
      "Must've been #ADayWithoutWomen.\n",
      "RT @singleinthecity: Happy #InternationalWomensDay.Thanks to women everywhere for all you do to help create a wiser, stronger, kinder &amp; hap…\n",
      "#BeAWoman &gt; than celebrating #womensday &amp; also don't compare yourself with others. Because you have the courage to tackle everything.\n",
      "RT @mikandynothem: My wife is going to work today beacause she is NO lazy liberal woman looking for a day off! \n",
      "#adaywithoutwomen #MAGA htt…\n",
      "RT @GemmaAnneStyles: Happy #womensday to all my sassy women, classy women, nasty women 💋👧🏾💖👩🏼‍🔬👄👵🏼 my fine women, alive women, gonna fight…\n",
      "RT @GemmaAnneStyles: Happy #womensday to all my sassy women, classy women, nasty women 💋👧🏾💖👩🏼‍🔬👄👵🏼 my fine women, alive women, gonna fight…\n",
      "RT @xanria_00018: Lucky is the man who is the first love of a woman, but luckier is the woman who is the last love of a man.\n",
      "#DTBYSinagMeet…\n",
      "#ScienceFiction would be unrecognizable without women https://t.co/s9wCU8VG23 #womensday https://t.co/WeR5TKfrIF\n",
      "RT @CarrieLynnLand: #ScienceFiction would be unrecognizable without women https://t.co/s9wCU8VG23 #womensday https://t.co/WeR5TKfrIF\n",
      "RT @GemmaAnneStyles: Happy #womensday to all my sassy women, classy women, nasty women 💋👧🏾💖👩🏼‍🔬👄👵🏼 my fine women, alive women, gonna fight…\n",
      "RT @FekuLeaks: .@narendramodi Saluting the indomitable spirit, determination &amp; dedication of Nari Shakti on International #womensday #TheGr…\n",
      "RT @ajmalkwazir: Women are most respectable in our society and culture. I believe in giving them due respect no matter what the situ is.#wo…\n",
      "RT @SriSri: Women possess a unique combination of will,determination &amp; emotions.They can protect,support &amp; uplift the family &amp; society.Happ…\n",
      "For the love of a woman, visceral and tender and primitive and fierce. \n",
      "For the love of every woman\n",
      "RT @Zaydan_Khan: SHE is Mother.\n",
      "SHE is Sister.\n",
      "SHE is Daughter.\n",
      "SHE can b a father\n",
      "SHe can b a Brother \n",
      "SHE can b a Son\n",
      "SHE IS POWER!!!!\n",
      "#p…\n",
      "RT @GemmaAnneStyles: Happy #womensday to all my sassy women, classy women, nasty women 💋👧🏾💖👩🏼‍🔬👄👵🏼 my fine women, alive women, gonna fight…\n",
      "RT @GemmaAnneStyles: Happy #womensday to all my sassy women, classy women, nasty women 💋👧🏾💖👩🏼‍🔬👄👵🏼 my fine women, alive women, gonna fight…\n",
      "RT @scrowder: What will we do without feminists?! #InternationalWomensDay #ADayWithoutWomen &gt;&gt; https://t.co/5kEWwEHJ6f https://t.co/Y6iZa3A…\n",
      "RT @GemmaAnneStyles: Happy #womensday to all my sassy women, classy women, nasty women 💋👧🏾💖👩🏼‍🔬👄👵🏼 my fine women, alive women, gonna fight…\n",
      "RT @realACJoshua: \"We can't be here without the participation of women and girls\" - #freeBiafra @Amaka_Ekwo on #WomensDay\n",
      "RT @GemmaAnneStyles: Happy #womensday to all my sassy women, classy women, nasty women 💋👧🏾💖👩🏼‍🔬👄👵🏼 my fine women, alive women, gonna fight…\n",
      "RT @fahriafahri: Women aren't created weaker than men. Women are created stronger to teach &amp; LOVE us. Without Women, everyone's nothing. #I…\n",
      "I loved you like a man loves a woman he never touches, only writes to, keeps little photographs of.\n",
      "RT @SarcasticRover: I wouldn't have made it to Mars without women. \n",
      "\n",
      "#ADayWithoutWomen is a day without Curiosity. https://t.co/yLTJCGAaqj\n",
      "RT @SyedSaddiq: \"BEHIND every successful man, there's a woman\".\n",
      "\n",
      "I disagree.\n",
      "\n",
      "It's \"NEXT to every successful man, there's a woman\"\n",
      "\n",
      "#KamiSo…\n",
      "RT @SriSri: Women possess a unique combination of will,determination &amp; emotions.They can protect,support &amp; uplift the family &amp; society.Happ…\n",
      "RT @sesamestreet: Girls can change the world. Happy International #WomensDay! #IWD2017 https://t.co/CRe6pySrrf\n",
      "RT @scrowder: What, oh what would we do without feminists?! #InternationalWomensDay #ADayWithoutWomen https://t.co/YHYoRt8312\n",
      "RT @GemmaAnneStyles: Happy #womensday to all my sassy women, classy women, nasty women 💋👧🏾💖👩🏼‍🔬👄👵🏼 my fine women, alive women, gonna fight…\n",
      "RT @GemmaAnneStyles: Happy #womensday to all my sassy women, classy women, nasty women 💋👧🏾💖👩🏼‍🔬👄👵🏼 my fine women, alive women, gonna fight…\n",
      "My main ladies, fighting the good fight ✌🏼#internationalwomensday #adaywithoutwomen #disney… https://t.co/9YRcGCFQuM\n",
      "RT AuroraMag: \"Let’s talk about how a girl’s brain is as good as a boy’s. That a man need not fear his wife’s incom… https://t.co/Ythv294d4l\n",
      "RT @GemmaAnneStyles: Happy #womensday to all my sassy women, classy women, nasty women 💋👧🏾💖👩🏼‍🔬👄👵🏼 my fine women, alive women, gonna fight…\n",
      "Me @ 5'7\": i'm  tall for a girl\n",
      "Dutch friend @ 6': what? honey, youre not that tall???\n",
      "Me: .....i mean.....back home......\n",
      "RT @RobWeissMSW: Thank you for trying to love us imperfect men with your open hearts.\" #adaywithoutwomen #internationalwomensday \n",
      "https://t…\n",
      "RT @ShotBy100mz: These bitches so worried about thinking like a man they don't know what it is to be a woman\n"
     ]
    }
   ],
   "source": [
    "i = 0\n",
    "target = \"benevolent\"\n",
    "for id, tweet in all_tweets.items():\n",
    "    if tweet[\"label\"] == target:\n",
    "        print(tweet[\"text\"])\n",
    "        i = i + 1\n",
    "        \n",
    "    if i > 60:\n",
    "        break"
   ]
  },
  {
   "cell_type": "code",
   "execution_count": null,
   "id": "rocky-seller",
   "metadata": {},
   "outputs": [],
   "source": []
  }
 ],
 "metadata": {
  "kernelspec": {
   "display_name": "Python 3",
   "language": "python",
   "name": "python3"
  },
  "language_info": {
   "codemirror_mode": {
    "name": "ipython",
    "version": 3
   },
   "file_extension": ".py",
   "mimetype": "text/x-python",
   "name": "python",
   "nbconvert_exporter": "python",
   "pygments_lexer": "ipython3",
   "version": "3.7.10"
  }
 },
 "nbformat": 4,
 "nbformat_minor": 5
}
