{
 "cells": [
  {
   "cell_type": "markdown",
   "id": "e81a8d6c",
   "metadata": {},
   "source": [
    "# LDA"
   ]
  },
  {
   "cell_type": "code",
   "execution_count": 1,
   "id": "preceding-trunk",
   "metadata": {},
   "outputs": [
    {
     "name": "stderr",
     "output_type": "stream",
     "text": [
      "[nltk_data] Downloading package wordnet to\n",
      "[nltk_data]     C:\\Users\\matij\\AppData\\Roaming\\nltk_data...\n",
      "[nltk_data]   Package wordnet is already up-to-date!\n"
     ]
    },
    {
     "data": {
      "text/plain": [
       "True"
      ]
     },
     "execution_count": 1,
     "metadata": {},
     "output_type": "execute_result"
    }
   ],
   "source": [
    "import json \n",
    "import nltk\n",
    "import gensim\n",
    "import pandas as pd\n",
    "from gensim.utils import simple_preprocess\n",
    "from gensim.parsing.preprocessing import STOPWORDS\n",
    "from nltk.stem import WordNetLemmatizer, SnowballStemmer\n",
    "from nltk.stem.porter import *\n",
    "import numpy as np\n",
    "np.random.seed(1)\n",
    "nltk.download('wordnet')"
   ]
  },
  {
   "cell_type": "markdown",
   "id": "7791b8ae",
   "metadata": {},
   "source": [
    "Read and preprocess data"
   ]
  },
  {
   "cell_type": "code",
   "execution_count": 2,
   "id": "fuzzy-waters",
   "metadata": {},
   "outputs": [
    {
     "data": {
      "text/html": [
       "<div>\n",
       "<style scoped>\n",
       "    .dataframe tbody tr th:only-of-type {\n",
       "        vertical-align: middle;\n",
       "    }\n",
       "\n",
       "    .dataframe tbody tr th {\n",
       "        vertical-align: top;\n",
       "    }\n",
       "\n",
       "    .dataframe thead th {\n",
       "        text-align: right;\n",
       "    }\n",
       "</style>\n",
       "<table border=\"1\" class=\"dataframe\">\n",
       "  <thead>\n",
       "    <tr style=\"text-align: right;\">\n",
       "      <th></th>\n",
       "      <th>text</th>\n",
       "      <th>label</th>\n",
       "    </tr>\n",
       "  </thead>\n",
       "  <tbody>\n",
       "    <tr>\n",
       "      <th>0</th>\n",
       "      <td>fucks sake go away stupid anon — ^  https://t....</td>\n",
       "      <td>abusive</td>\n",
       "    </tr>\n",
       "    <tr>\n",
       "      <th>1</th>\n",
       "      <td>Damn dean just put Corbin to sleep. That Match...</td>\n",
       "      <td>abusive</td>\n",
       "    </tr>\n",
       "    <tr>\n",
       "      <th>2</th>\n",
       "      <td>@TheRealCamerota THAT BEER BUYING FREAKING IDI...</td>\n",
       "      <td>abusive</td>\n",
       "    </tr>\n",
       "    <tr>\n",
       "      <th>3</th>\n",
       "      <td>what idiot called them antacids and not afterb...</td>\n",
       "      <td>abusive</td>\n",
       "    </tr>\n",
       "    <tr>\n",
       "      <th>4</th>\n",
       "      <td>RT @gogglepossum: Don't you hate people that p...</td>\n",
       "      <td>abusive</td>\n",
       "    </tr>\n",
       "  </tbody>\n",
       "</table>\n",
       "</div>"
      ],
      "text/plain": [
       "                                                text    label\n",
       "0  fucks sake go away stupid anon — ^  https://t....  abusive\n",
       "1  Damn dean just put Corbin to sleep. That Match...  abusive\n",
       "2  @TheRealCamerota THAT BEER BUYING FREAKING IDI...  abusive\n",
       "3  what idiot called them antacids and not afterb...  abusive\n",
       "4  RT @gogglepossum: Don't you hate people that p...  abusive"
      ]
     },
     "execution_count": 2,
     "metadata": {},
     "output_type": "execute_result"
    }
   ],
   "source": [
    "df = pd.read_csv(\"dataset/data.csv\", sep = \";\")\n",
    "df.head()"
   ]
  },
  {
   "cell_type": "code",
   "execution_count": 3,
   "id": "bb1ce4b9",
   "metadata": {},
   "outputs": [
    {
     "data": {
      "text/plain": [
       "54517"
      ]
     },
     "execution_count": 3,
     "metadata": {},
     "output_type": "execute_result"
    }
   ],
   "source": [
    "len(df)"
   ]
  },
  {
   "cell_type": "code",
   "execution_count": 4,
   "id": "improving-skirt",
   "metadata": {},
   "outputs": [],
   "source": [
    "labels = df[\"label\"].tolist()\n",
    "texts = df[\"text\"].tolist()\n",
    "labels = [x[:4] for x in labels]\n",
    "#labels"
   ]
  },
  {
   "cell_type": "code",
   "execution_count": 5,
   "id": "ambient-falls",
   "metadata": {},
   "outputs": [],
   "source": [
    "def preprocess(A):\n",
    "    B = []\n",
    "  \n",
    "    for i in range(len(A)):\n",
    "\n",
    "        text = A[i]\n",
    "        # remove old style retweet text \"RT\"\n",
    "        text = re.sub(r'^RT[\\s]+', '', text)\n",
    "\n",
    "        # remove hyperlinks\n",
    "        text= re.sub(r'https?:\\/\\/.*[\\r\\n]*', '', text)\n",
    "\n",
    "        # remove hashtags\n",
    "        # only removing the hash # sign from the word\n",
    "        text = re.sub(r'#', '', text)\n",
    "\n",
    "        # remove tagging @\n",
    "        text = re.sub(r\"(?:\\@|https?\\://)\\S+\", \"\", text)\n",
    "\n",
    "        # remove new line \\n\n",
    "        text = re.sub(\"\\n\", \"\", text)\n",
    "\n",
    "        # remove zero length tweets\n",
    "        if(len(text) == 0 ):\n",
    "            continue\n",
    "\n",
    "        B.append(text)\n",
    "        \n",
    "    return B"
   ]
  },
  {
   "cell_type": "code",
   "execution_count": 6,
   "id": "written-glass",
   "metadata": {},
   "outputs": [],
   "source": [
    "texts = preprocess(texts)"
   ]
  },
  {
   "cell_type": "code",
   "execution_count": 7,
   "id": "directed-telescope",
   "metadata": {},
   "outputs": [
    {
     "name": "stdout",
     "output_type": "stream",
     "text": [
      "337\n"
     ]
    }
   ],
   "source": [
    "stopwords = list(gensim.parsing.preprocessing.STOPWORDS)\n",
    "#print(len(stopwords))\n",
    "#stopwords.extend([\"like\", \"damn\"])\n",
    "print(len(stopwords))\n",
    "stemmer = SnowballStemmer(\"english\")\n",
    "def lemmatize_stemming(text):\n",
    "    return stemmer.stem(WordNetLemmatizer().lemmatize(text, pos='v'))\n",
    "def preprocess(text):\n",
    "    result = []\n",
    "    \n",
    "    for token in gensim.utils.simple_preprocess(text):\n",
    "        if token not in stopwords and len(token) > 3:\n",
    "            result.append(lemmatize_stemming(token))\n",
    "    return result\n"
   ]
  },
  {
   "cell_type": "code",
   "execution_count": 8,
   "id": "infectious-ancient",
   "metadata": {},
   "outputs": [],
   "source": [
    "res = []\n",
    "for text in texts:\n",
    "    res.append(preprocess(text))\n"
   ]
  },
  {
   "cell_type": "code",
   "execution_count": 9,
   "id": "interim-inquiry",
   "metadata": {},
   "outputs": [
    {
     "name": "stdout",
     "output_type": "stream",
     "text": [
      "Dictionary(37001 unique tokens: ['anon', 'away', 'fuck', 'sake', 'stupid']...)\n",
      "0 anon\n",
      "1 away\n",
      "2 fuck\n",
      "3 sake\n",
      "4 stupid\n",
      "5 bore\n",
      "6 corbin\n",
      "7 damn\n",
      "8 dean\n",
      "9 match\n",
      "10 show\n"
     ]
    }
   ],
   "source": [
    "dictionary = gensim.corpora.Dictionary(res)\n",
    "print(dictionary)\n",
    "count = 0\n",
    "for k, v in dictionary.iteritems():\n",
    "    print(k, v)\n",
    "    count += 1\n",
    "    if count > 10:\n",
    "        break"
   ]
  },
  {
   "cell_type": "code",
   "execution_count": 10,
   "id": "applied-daniel",
   "metadata": {},
   "outputs": [],
   "source": [
    "dictionary.filter_extremes(no_below=5, no_above=0.6, keep_n=100000)"
   ]
  },
  {
   "cell_type": "code",
   "execution_count": 11,
   "id": "palestinian-bulletin",
   "metadata": {},
   "outputs": [],
   "source": [
    "bow_corpus = [dictionary.doc2bow(doc) for doc in res]\n"
   ]
  },
  {
   "cell_type": "code",
   "execution_count": 12,
   "id": "tender-earthquake",
   "metadata": {},
   "outputs": [
    {
     "name": "stdout",
     "output_type": "stream",
     "text": [
      "[(0, 0.6467740881470198),\n",
      " (1, 0.4155375954767548),\n",
      " (2, 0.14658472445759876),\n",
      " (3, 0.554131852891468),\n",
      " (4, 0.28365929178108407)]\n"
     ]
    }
   ],
   "source": [
    "from gensim import corpora, models\n",
    "tfidf = models.TfidfModel(bow_corpus)\n",
    "corpus_tfidf = tfidf[bow_corpus]\n",
    "from pprint import pprint\n",
    "for doc in corpus_tfidf:\n",
    "    pprint(doc)\n",
    "    break"
   ]
  },
  {
   "cell_type": "code",
   "execution_count": 13,
   "id": "faced-election",
   "metadata": {},
   "outputs": [],
   "source": [
    "lda_model = gensim.models.LdaMulticore(bow_corpus, num_topics=10, id2word=dictionary, passes=2, workers=2)"
   ]
  },
  {
   "cell_type": "code",
   "execution_count": 14,
   "id": "falling-stable",
   "metadata": {},
   "outputs": [
    {
     "name": "stdout",
     "output_type": "stream",
     "text": [
      "Topic: 0 \n",
      "Words: 0.085*\"moron\" + 0.034*\"nippl\" + 0.027*\"go\" + 0.021*\"retard\" + 0.019*\"rape\" + 0.015*\"aid\" + 0.014*\"loser\" + 0.013*\"care\" + 0.012*\"imag\" + 0.011*\"repeat\"\n",
      "\n",
      "\n",
      "Topic: 1 \n",
      "Words: 0.047*\"vandal\" + 0.046*\"nigga\" + 0.034*\"bastard\" + 0.024*\"tommi\" + 0.022*\"lick\" + 0.019*\"hanib\" + 0.019*\"person\" + 0.014*\"poop\" + 0.014*\"peopl\" + 0.012*\"post\"\n",
      "\n",
      "\n",
      "Topic: 2 \n",
      "Words: 0.035*\"dickhead\" + 0.031*\"talk\" + 0.030*\"page\" + 0.020*\"spanish\" + 0.017*\"like\" + 0.015*\"ball\" + 0.012*\"good\" + 0.012*\"boob\" + 0.012*\"peopl\" + 0.009*\"small\"\n",
      "\n",
      "\n",
      "Topic: 3 \n",
      "Words: 0.041*\"like\" + 0.028*\"fucker\" + 0.019*\"want\" + 0.017*\"mother\" + 0.017*\"mothjer\" + 0.014*\"tell\" + 0.013*\"cocksuck\" + 0.012*\"know\" + 0.012*\"pussi\" + 0.011*\"inform\"\n",
      "\n",
      "\n",
      "Topic: 4 \n",
      "Words: 0.050*\"know\" + 0.037*\"idiot\" + 0.033*\"women\" + 0.023*\"assad\" + 0.022*\"fggt\" + 0.021*\"delet\" + 0.019*\"shit\" + 0.018*\"rice\" + 0.016*\"dumb\" + 0.014*\"useless\"\n",
      "\n",
      "\n",
      "Topic: 5 \n",
      "Words: 0.247*\"fuck\" + 0.071*\"faggot\" + 0.040*\"cunt\" + 0.021*\"block\" + 0.020*\"admin\" + 0.015*\"wikipedia\" + 0.012*\"wiki\" + 0.011*\"mexican\" + 0.011*\"yourselfgo\" + 0.010*\"shit\"\n",
      "\n",
      "\n",
      "Topic: 6 \n",
      "Words: 0.059*\"huge\" + 0.033*\"asshol\" + 0.022*\"kill\" + 0.019*\"page\" + 0.017*\"edit\" + 0.014*\"take\" + 0.014*\"remov\" + 0.013*\"drink\" + 0.009*\"ars\" + 0.009*\"chees\"\n",
      "\n",
      "\n",
      "Topic: 7 \n",
      "Words: 0.093*\"hate\" + 0.037*\"love\" + 0.026*\"wikipedia\" + 0.023*\"damn\" + 0.021*\"like\" + 0.018*\"whore\" + 0.015*\"cock\" + 0.015*\"fool\" + 0.015*\"dirti\" + 0.012*\"bloodi\"\n",
      "\n",
      "\n",
      "Topic: 8 \n",
      "Words: 0.220*\"nigger\" + 0.061*\"bitch\" + 0.052*\"shit\" + 0.030*\"user\" + 0.028*\"stupid\" + 0.026*\"peni\" + 0.016*\"wanker\" + 0.014*\"block\" + 0.014*\"piec\" + 0.013*\"like\"\n",
      "\n",
      "\n",
      "Topic: 9 \n",
      "Words: 0.156*\"suck\" + 0.049*\"dick\" + 0.027*\"cock\" + 0.026*\"stupid\" + 0.023*\"edit\" + 0.020*\"twat\" + 0.016*\"jewish\" + 0.016*\"piec\" + 0.015*\"fuck\" + 0.014*\"bitch\"\n",
      "\n",
      "\n"
     ]
    }
   ],
   "source": [
    "for idx, topic in lda_model.print_topics(-1):\n",
    "    print('Topic: {} \\nWords: {}'.format(idx, topic))\n",
    "    print(\"\\n\")"
   ]
  },
  {
   "cell_type": "code",
   "execution_count": 15,
   "id": "pretty-studio",
   "metadata": {},
   "outputs": [
    {
     "name": "stdout",
     "output_type": "stream",
     "text": [
      "Topic: 0 Word: 0.017*\"like\" + 0.014*\"idiot\" + 0.013*\"peni\" + 0.013*\"video\" + 0.012*\"nerd\" + 0.009*\"fuck\" + 0.006*\"hell\" + 0.005*\"want\" + 0.005*\"know\" + 0.005*\"jackass\"\n",
      "\n",
      "\n",
      "Topic: 1 Word: 0.021*\"nigger\" + 0.018*\"vandal\" + 0.015*\"fuck\" + 0.010*\"page\" + 0.008*\"edit\" + 0.006*\"stop\" + 0.006*\"like\" + 0.006*\"shut\" + 0.006*\"wikipedia\" + 0.006*\"jerk\"\n",
      "\n",
      "\n",
      "Topic: 2 Word: 0.007*\"fuck\" + 0.006*\"wouldn\" + 0.006*\"mar\" + 0.006*\"like\" + 0.006*\"know\" + 0.006*\"hello\" + 0.006*\"women\" + 0.005*\"curios\" + 0.005*\"dead\" + 0.004*\"nigga\"\n",
      "\n",
      "\n",
      "Topic: 3 Word: 0.010*\"warn\" + 0.010*\"fuck\" + 0.009*\"jew\" + 0.009*\"dumb\" + 0.007*\"editor\" + 0.007*\"prick\" + 0.007*\"stupid\" + 0.006*\"ars\" + 0.006*\"user\" + 0.005*\"articl\"\n",
      "\n",
      "\n",
      "Topic: 4 Word: 0.053*\"fuck\" + 0.025*\"suck\" + 0.019*\"dick\" + 0.013*\"cunt\" + 0.012*\"shit\" + 0.009*\"mother\" + 0.009*\"stupid\" + 0.009*\"wiki\" + 0.009*\"bitch\" + 0.008*\"fucker\"\n",
      "\n",
      "\n",
      "Topic: 5 Word: 0.029*\"women\" + 0.010*\"fuck\" + 0.010*\"gonna\" + 0.008*\"fine\" + 0.008*\"fight\" + 0.008*\"womensday\" + 0.008*\"happi\" + 0.008*\"retard\" + 0.007*\"nasti\" + 0.006*\"sassi\"\n",
      "\n",
      "\n",
      "Topic: 6 Word: 0.017*\"asshol\" + 0.014*\"fuck\" + 0.010*\"cock\" + 0.010*\"suck\" + 0.010*\"hate\" + 0.009*\"shit\" + 0.008*\"life\" + 0.006*\"admin\" + 0.006*\"piec\" + 0.006*\"like\"\n",
      "\n",
      "\n",
      "Topic: 7 Word: 0.045*\"faggot\" + 0.012*\"fuck\" + 0.011*\"love\" + 0.009*\"woman\" + 0.006*\"admin\" + 0.006*\"like\" + 0.005*\"sexist\" + 0.005*\"lucki\" + 0.004*\"sock\" + 0.004*\"peopl\"\n",
      "\n",
      "\n",
      "Topic: 8 Word: 0.021*\"delet\" + 0.014*\"fuck\" + 0.008*\"page\" + 0.008*\"block\" + 0.007*\"motherfuck\" + 0.007*\"shit\" + 0.007*\"wikipedia\" + 0.007*\"twat\" + 0.006*\"like\" + 0.006*\"articl\"\n",
      "\n",
      "\n",
      "Topic: 9 Word: 0.017*\"bitch\" + 0.013*\"fuck\" + 0.008*\"homo\" + 0.006*\"page\" + 0.005*\"stupid\" + 0.005*\"block\" + 0.005*\"think\" + 0.005*\"stop\" + 0.005*\"like\" + 0.005*\"wikipedia\"\n",
      "\n",
      "\n"
     ]
    }
   ],
   "source": [
    "lda_model_tfidf = gensim.models.LdaMulticore(corpus_tfidf, num_topics=10, id2word=dictionary, passes=2, workers=4)\n",
    "for idx, topic in lda_model_tfidf.print_topics(-1):\n",
    "    print('Topic: {} Word: {}'.format(idx, topic))\n",
    "    print(\"\\n\")"
   ]
  },
  {
   "cell_type": "code",
   "execution_count": 16,
   "id": "a99935db",
   "metadata": {},
   "outputs": [],
   "source": [
    "#lda_model = lda_model_tfidf\n",
    "#bow_corpus = corpus_tfidf"
   ]
  },
  {
   "cell_type": "code",
   "execution_count": 19,
   "id": "caroline-stranger",
   "metadata": {},
   "outputs": [
    {
     "data": {
      "image/png": "[encoded data removed]",
      "text/plain": [
       "<Figure size 720x720 with 10 Axes>"
      ]
     },
     "metadata": {
      "needs_background": "light"
     },
     "output_type": "display_data"
    }
   ],
   "source": [
    "# 1. Wordcloud of Top N words in each topic\n",
    "from matplotlib import pyplot as plt\n",
    "from wordcloud import WordCloud, STOPWORDS\n",
    "import matplotlib.colors as mcolors\n",
    "\n",
    "cols = [color for name, color in mcolors.TABLEAU_COLORS.items()] \n",
    "\n",
    "cloud = WordCloud(stopwords=stopwords,\n",
    "                  background_color='white',\n",
    "                  width=2500,\n",
    "                  height=1800,\n",
    "                  max_words=10,\n",
    "                  colormap='tab10',\n",
    "                  color_func=lambda *args, **kwargs: cols[i],\n",
    "                  prefer_horizontal=1.0)\n",
    "\n",
    "topics = lda_model.show_topics(formatted=False)\n",
    "\n",
    "fig, axes = plt.subplots(5, 2, figsize=(10,10), sharex=True, sharey=True)\n",
    "\n",
    "for i, ax in enumerate(axes.flatten()):\n",
    "    fig.add_subplot(ax)\n",
    "    topic_words = dict(topics[i][1])\n",
    "    cloud.generate_from_frequencies(topic_words, max_font_size=300)\n",
    "    plt.gca().imshow(cloud)\n",
    "    plt.gca().set_title('Topic ' + str(i), fontdict=dict(size=16))\n",
    "    plt.gca().axis('off')\n",
    "\n",
    "\n",
    "plt.subplots_adjust(wspace=0, hspace=0)\n",
    "plt.axis('off')\n",
    "plt.margins(x=0, y=0)\n",
    "plt.tight_layout()\n",
    "plt.show()"
   ]
  },
  {
   "cell_type": "code",
   "execution_count": 20,
   "id": "0476bb43",
   "metadata": {},
   "outputs": [
    {
     "data": {
      "text/plain": [
       "[(0,\n",
       "  [('moron', 0.08476234),\n",
       "   ('nippl', 0.034474958),\n",
       "   ('go', 0.026833037),\n",
       "   ('retard', 0.020804062),\n",
       "   ('rape', 0.019381568),\n",
       "   ('aid', 0.015234047),\n",
       "   ('loser', 0.014165144),\n",
       "   ('care', 0.01279061),\n",
       "   ('imag', 0.011928145),\n",
       "   ('repeat', 0.010718955)]),\n",
       " (1,\n",
       "  [('vandal', 0.04681755),\n",
       "   ('nigga', 0.045651898),\n",
       "   ('bastard', 0.03391518),\n",
       "   ('tommi', 0.02434567),\n",
       "   ('lick', 0.022282945),\n",
       "   ('hanib', 0.019183628),\n",
       "   ('person', 0.019029625),\n",
       "   ('poop', 0.014387346),\n",
       "   ('peopl', 0.0141825145),\n",
       "   ('post', 0.011513612)]),\n",
       " (2,\n",
       "  [('dickhead', 0.0352463),\n",
       "   ('talk', 0.03140514),\n",
       "   ('page', 0.029689485),\n",
       "   ('spanish', 0.019620469),\n",
       "   ('like', 0.016624838),\n",
       "   ('ball', 0.01491523),\n",
       "   ('good', 0.012121166),\n",
       "   ('boob', 0.011917688),\n",
       "   ('peopl', 0.011786627),\n",
       "   ('small', 0.009406547)]),\n",
       " (3,\n",
       "  [('like', 0.04068328),\n",
       "   ('fucker', 0.028171694),\n",
       "   ('want', 0.018581867),\n",
       "   ('mother', 0.01727406),\n",
       "   ('mothjer', 0.016782705),\n",
       "   ('tell', 0.013688001),\n",
       "   ('cocksuck', 0.013181341),\n",
       "   ('know', 0.012142002),\n",
       "   ('pussi', 0.012079883),\n",
       "   ('inform', 0.010867855)]),\n",
       " (4,\n",
       "  [('know', 0.05024711),\n",
       "   ('idiot', 0.037470948),\n",
       "   ('women', 0.03304205),\n",
       "   ('assad', 0.022885403),\n",
       "   ('fggt', 0.02167818),\n",
       "   ('delet', 0.021383664),\n",
       "   ('shit', 0.018595772),\n",
       "   ('rice', 0.018248526),\n",
       "   ('dumb', 0.016080145),\n",
       "   ('useless', 0.0136472145)]),\n",
       " (5,\n",
       "  [('fuck', 0.24673522),\n",
       "   ('faggot', 0.07148758),\n",
       "   ('cunt', 0.040262517),\n",
       "   ('block', 0.020599896),\n",
       "   ('admin', 0.020166747),\n",
       "   ('wikipedia', 0.01487297),\n",
       "   ('wiki', 0.011960659),\n",
       "   ('mexican', 0.011008646),\n",
       "   ('yourselfgo', 0.010810123),\n",
       "   ('shit', 0.009603426)]),\n",
       " (6,\n",
       "  [('huge', 0.05913626),\n",
       "   ('asshol', 0.033242892),\n",
       "   ('kill', 0.02202341),\n",
       "   ('page', 0.0189049),\n",
       "   ('edit', 0.016867656),\n",
       "   ('take', 0.014028281),\n",
       "   ('remov', 0.013842199),\n",
       "   ('drink', 0.012689532),\n",
       "   ('ars', 0.009304418),\n",
       "   ('chees', 0.009065553)]),\n",
       " (7,\n",
       "  [('hate', 0.093188845),\n",
       "   ('love', 0.03693951),\n",
       "   ('wikipedia', 0.025501225),\n",
       "   ('damn', 0.023268597),\n",
       "   ('like', 0.020540955),\n",
       "   ('whore', 0.018220436),\n",
       "   ('cock', 0.014950844),\n",
       "   ('fool', 0.014891254),\n",
       "   ('dirti', 0.0147515135),\n",
       "   ('bloodi', 0.012080939)]),\n",
       " (8,\n",
       "  [('nigger', 0.22043587),\n",
       "   ('bitch', 0.060895782),\n",
       "   ('shit', 0.05238253),\n",
       "   ('user', 0.030453105),\n",
       "   ('stupid', 0.027913604),\n",
       "   ('peni', 0.025587061),\n",
       "   ('wanker', 0.016099704),\n",
       "   ('block', 0.013678116),\n",
       "   ('piec', 0.013566281),\n",
       "   ('like', 0.0128393)]),\n",
       " (9,\n",
       "  [('suck', 0.15560415),\n",
       "   ('dick', 0.048566416),\n",
       "   ('cock', 0.027170105),\n",
       "   ('stupid', 0.025739878),\n",
       "   ('edit', 0.022739008),\n",
       "   ('twat', 0.020457333),\n",
       "   ('jewish', 0.01616225),\n",
       "   ('piec', 0.016023165),\n",
       "   ('fuck', 0.014997723),\n",
       "   ('bitch', 0.014263578)])]"
      ]
     },
     "execution_count": 20,
     "metadata": {},
     "output_type": "execute_result"
    }
   ],
   "source": [
    "topics = lda_model.show_topics(15, formatted=False)\n",
    "topics"
   ]
  },
  {
   "cell_type": "code",
   "execution_count": 21,
   "id": "2ea122ca",
   "metadata": {},
   "outputs": [
    {
     "name": "stdout",
     "output_type": "stream",
     "text": [
      "0 moron, nippl, go, retard, rape\n",
      "1 vandal, nigga, bastard, tommi, lick\n",
      "2 dickhead, talk, page, spanish, like\n",
      "3 like, fucker, want, mother, mothjer\n",
      "4 know, idiot, women, assad, fggt\n",
      "5 fuck, faggot, cunt, block, admin\n",
      "6 huge, asshol, kill, page, edit\n",
      "7 hate, love, wikipedia, damn, like\n",
      "8 nigger, bitch, shit, user, stupid\n",
      "9 suck, dick, cock, stupid, edit\n"
     ]
    },
    {
     "data": {
      "text/html": [
       "<div>\n",
       "<style scoped>\n",
       "    .dataframe tbody tr th:only-of-type {\n",
       "        vertical-align: middle;\n",
       "    }\n",
       "\n",
       "    .dataframe tbody tr th {\n",
       "        vertical-align: top;\n",
       "    }\n",
       "\n",
       "    .dataframe thead th {\n",
       "        text-align: right;\n",
       "    }\n",
       "</style>\n",
       "<table border=\"1\" class=\"dataframe\">\n",
       "  <thead>\n",
       "    <tr style=\"text-align: right;\">\n",
       "      <th></th>\n",
       "      <th>text</th>\n",
       "    </tr>\n",
       "  </thead>\n",
       "  <tbody>\n",
       "    <tr>\n",
       "      <th>0</th>\n",
       "      <td>moron, nippl, go, retard, rape</td>\n",
       "    </tr>\n",
       "    <tr>\n",
       "      <th>1</th>\n",
       "      <td>vandal, nigga, bastard, tommi, lick</td>\n",
       "    </tr>\n",
       "    <tr>\n",
       "      <th>2</th>\n",
       "      <td>dickhead, talk, page, spanish, like</td>\n",
       "    </tr>\n",
       "    <tr>\n",
       "      <th>3</th>\n",
       "      <td>like, fucker, want, mother, mothjer</td>\n",
       "    </tr>\n",
       "    <tr>\n",
       "      <th>4</th>\n",
       "      <td>know, idiot, women, assad, fggt</td>\n",
       "    </tr>\n",
       "    <tr>\n",
       "      <th>5</th>\n",
       "      <td>fuck, faggot, cunt, block, admin</td>\n",
       "    </tr>\n",
       "    <tr>\n",
       "      <th>6</th>\n",
       "      <td>huge, asshol, kill, page, edit</td>\n",
       "    </tr>\n",
       "    <tr>\n",
       "      <th>7</th>\n",
       "      <td>hate, love, wikipedia, damn, like</td>\n",
       "    </tr>\n",
       "    <tr>\n",
       "      <th>8</th>\n",
       "      <td>nigger, bitch, shit, user, stupid</td>\n",
       "    </tr>\n",
       "    <tr>\n",
       "      <th>9</th>\n",
       "      <td>suck, dick, cock, stupid, edit</td>\n",
       "    </tr>\n",
       "  </tbody>\n",
       "</table>\n",
       "</div>"
      ],
      "text/plain": [
       "                                  text\n",
       "0       moron, nippl, go, retard, rape\n",
       "1  vandal, nigga, bastard, tommi, lick\n",
       "2  dickhead, talk, page, spanish, like\n",
       "3  like, fucker, want, mother, mothjer\n",
       "4      know, idiot, women, assad, fggt\n",
       "5     fuck, faggot, cunt, block, admin\n",
       "6       huge, asshol, kill, page, edit\n",
       "7    hate, love, wikipedia, damn, like\n",
       "8    nigger, bitch, shit, user, stupid\n",
       "9       suck, dick, cock, stupid, edit"
      ]
     },
     "execution_count": 21,
     "metadata": {},
     "output_type": "execute_result"
    }
   ],
   "source": [
    "df1 = pd.DataFrame(columns = [\"text\"])\n",
    "\n",
    "for i in range(len(topics)):\n",
    "    \n",
    "    words = [x[0] for x in topics[i][1]]\n",
    "    words = \", \".join(words[:5])\n",
    "    print(f\"{i} {words}\")\n",
    "    df1 = df1.append({\"text\": words}, ignore_index = True)\n",
    "    \n",
    "df1"
   ]
  },
  {
   "cell_type": "code",
   "execution_count": 22,
   "id": "49a39da5",
   "metadata": {},
   "outputs": [
    {
     "name": "stdout",
     "output_type": "stream",
     "text": [
      "10\n"
     ]
    }
   ],
   "source": [
    "print(len(topics))"
   ]
  },
  {
   "cell_type": "code",
   "execution_count": 23,
   "id": "74e93e32",
   "metadata": {},
   "outputs": [
    {
     "data": {
      "text/plain": [
       "[(0, 0.012523938),\n",
       " (1, 0.012525151),\n",
       " (2, 0.012523131),\n",
       " (3, 0.012526329),\n",
       " (4, 0.012525588),\n",
       " (5, 0.52232236),\n",
       " (6, 0.26035935),\n",
       " (7, 0.12964827),\n",
       " (8, 0.012521475),\n",
       " (9, 0.012524402)]"
      ]
     },
     "execution_count": 23,
     "metadata": {},
     "output_type": "execute_result"
    }
   ],
   "source": [
    "lda_model[bow_corpus[1]]"
   ]
  },
  {
   "cell_type": "code",
   "execution_count": 24,
   "id": "ad4c325b",
   "metadata": {},
   "outputs": [
    {
     "name": "stdout",
     "output_type": "stream",
     "text": [
      "\n",
      "Perplexity:  -7.374861047383637\n",
      "\n",
      "Coherence Score:  0.49745791892932195\n"
     ]
    }
   ],
   "source": [
    "# Compute Perplexity\n",
    "print('\\nPerplexity: ', lda_model.log_perplexity(bow_corpus))  # a measure of how good the model is. lower the better.\n",
    "\n",
    "# Compute Coherence Score\n",
    "coherence_model_lda = gensim.models.CoherenceModel(model=lda_model, texts=res, dictionary=dictionary, coherence='c_v')\n",
    "coherence_lda = coherence_model_lda.get_coherence()\n",
    "print('\\nCoherence Score: ', coherence_lda)"
   ]
  },
  {
   "cell_type": "markdown",
   "id": "43be0ed9",
   "metadata": {},
   "source": [
    "## This are some internal tests and results are not used in the report - not further explained"
   ]
  },
  {
   "cell_type": "code",
   "execution_count": 25,
   "id": "a0f17fb1",
   "metadata": {},
   "outputs": [
    {
     "data": {
      "text/html": [
       "\n",
       "<link rel=\"stylesheet\" type=\"text/css\" href=\"https://cdn.jsdelivr.net/gh/bmabey/pyLDAvis@3.3.1/pyLDAvis/js/ldavis.v1.0.0.css\">\n",
       "\n",
       "\n",
       "<div id=\"ldavis_el2136419156923363288030647793\"></div>\n",
       "<script type=\"text/javascript\">\n",
       "\n",
       "var ldavis_el2136419156923363288030647793_data = {\"mdsDat\": {\"x\": [-0.025489708232002244, 0.1024358515065842, -0.0846164804121579, -0.10131247047071407, 0.09247223723145573, 0.31544718437367775, -0.010751588828074206, -0.07027872146512973, -0.06303193976903947, -0.15487436393459997], \"y\": [0.020493889063520242, 0.028288958546726337, 0.038123956512716835, -0.002013095345043888, -0.031380476608076135, -0.07849889231216049, 0.08869323176347202, 0.05596412617139959, 0.1596563128409919, -0.27932801063354606], \"topics\": [1, 2, 3, 4, 5, 6, 7, 8, 9, 10], \"cluster\": [1, 1, 1, 1, 1, 1, 1, 1, 1, 1], \"Freq\": [14.950928996403443, 14.743562919637201, 10.11333845603448, 9.865878208370464, 9.489429183584045, 8.922234422270918, 8.378265885130903, 8.355800498269309, 7.905550196336774, 7.275011233962461]}, \"tinfo\": {\"Term\": [\"fuck\", \"nigger\", \"suck\", \"faggot\", \"hate\", \"moron\", \"huge\", \"cunt\", \"bitch\", \"dick\", \"vandal\", \"shit\", \"nigga\", \"dickhead\", \"fucker\", \"know\", \"love\", \"stupid\", \"asshol\", \"nippl\", \"bastard\", \"women\", \"idiot\", \"cock\", \"user\", \"admin\", \"block\", \"peni\", \"delet\", \"tommi\", \"atheist\", \"niggaz\", \"simpson\", \"mongo\", \"mefuck\", \"vomit\", \"object\", \"suppress\", \"curp\", \"alot\", \"wale\", \"mothjer\", \"geek\", \"arrest\", \"pointless\", \"complaint\", \"uncl\", \"fucker\", \"\\u0177our\", \"novemb\", \"tang\", \"conduct\", \"rajput\", \"bend\", \"turkey\", \"asperg\", \"mann\", \"inappropri\", \"joseph\", \"context\", \"puppet\", \"sock\", \"central\", \"blah\", \"peter\", \"putin\", \"video\", \"greek\", \"act\", \"mother\", \"whine\", \"inform\", \"moder\", \"realiz\", \"pussi\", \"tell\", \"add\", \"like\", \"mean\", \"kiss\", \"want\", \"cocksuck\", \"muslim\", \"right\", \"slut\", \"time\", \"better\", \"need\", \"littl\", \"know\", \"say\", \"prove\", \"feel\", \"come\", \"think\", \"year\", \"thing\", \"edit\", \"go\", \"peopl\", \"articl\", \"fuck\", \"wikipedia\", \"wiki\", \"yourselfgo\", \"faggot\", \"edi\", \"georg\", \"couriano\", \"bush\", \"mod\", \"california\", \"misterwiki\", \"libtard\", \"fuckbag\", \"njgw\", \"fag\", \"limp\", \"freedom\", \"fuckyou\", \"enemi\", \"dickfac\", \"thoma\", \"disagre\", \"israel\", \"noob\", \"smelli\", \"isra\", \"harrass\", \"fucki\", \"hindu\", \"rot\", \"supress\", \"cunt\", \"chula\", \"vista\", \"admin\", \"fuck\", \"shithead\", \"minor\", \"shut\", \"warn\", \"diego\", \"block\", \"queer\", \"mexican\", \"contribut\", \"life\", \"wikipedia\", \"come\", \"internet\", \"post\", \"littl\", \"asshol\", \"shit\", \"right\", \"stop\", \"page\", \"peopl\", \"hell\", \"say\", \"think\", \"cocksuck\", \"stupid\", \"want\", \"edit\", \"spanish\", \"robert\", \"bark\", \"boob\", \"dipshit\", \"censor\", \"heil\", \"propaganda\", \"angela\", \"unsign\", \"irish\", \"dickhead\", \"feminazi\", \"pig\", \"allemand\", \"verifi\", \"ball\", \"intend\", \"pedophil\", \"preced\", \"negro\", \"clever\", \"rightcom\", \"rightget\", \"rodeoand\", \"will\", \"whatsoev\", \"offpiss\", \"dislik\", \"behav\", \"contrib\", \"unblock\", \"dummi\", \"ullmann\", \"factual\", \"small\", \"talk\", \"harass\", \"monkey\", \"toni\", \"ugli\", \"proof\", \"fals\", \"text\", \"page\", \"good\", \"report\", \"game\", \"money\", \"peopl\", \"like\", \"messag\", \"fuckin\", \"articl\", \"stop\", \"think\", \"leav\", \"call\", \"world\", \"look\", \"know\", \"wikipedia\", \"make\", \"chees\", \"norri\", \"homeland\", \"semit\", \"ethnic\", \"salt\", \"hairi\", \"mccain\", \"cult\", \"stalker\", \"redneck\", \"hippi\", \"dedic\", \"extern\", \"phuq\", \"jewfat\", \"awww\", \"wasnt\", \"paranoid\", \"viva\", \"cynic\", \"septemb\", \"gamaliel\", \"trout\", \"octob\", \"rever\", \"priest\", \"ilche\", \"macedonian\", \"christma\", \"drink\", \"ars\", \"huge\", \"term\", \"credit\", \"anal\", \"arab\", \"take\", \"england\", \"asshol\", \"sweet\", \"troll\", \"enjoy\", \"stalk\", \"nice\", \"anti\", \"kill\", \"remov\", \"languag\", \"list\", \"welcom\", \"content\", \"chang\", \"page\", \"edit\", \"discuss\", \"person\", \"thing\", \"stop\", \"want\", \"link\", \"idiot\", \"idea\", \"word\", \"peopl\", \"jewish\", \"cline\", \"shitfuck\", \"lmao\", \"jessica\", \"manner\", \"contributor\", \"chicken\", \"bold\", \"mutha\", \"neiln\", \"righteous\", \"satan\", \"suck\", \"theyr\", \"dozen\", \"shitstop\", \"monitor\", \"whini\", \"februari\", \"naughti\", \"tongu\", \"comput\", \"meaningless\", \"persist\", \"sunflow\", \"academ\", \"unconstruct\", \"northern\", \"bradburi\", \"shes\", \"duck\", \"twat\", \"john\", \"nate\", \"dick\", \"chines\", \"lifetim\", \"wanta\", \"eras\", \"jone\", \"beavi\", \"guy\", \"cock\", \"fire\", \"metal\", \"terrorist\", \"piec\", \"slap\", \"dont\", \"stupid\", \"coward\", \"edit\", \"ban\", \"stuff\", \"articl\", \"yeah\", \"correct\", \"bitch\", \"work\", \"read\", \"shit\", \"fuck\", \"wikipedia\", \"delet\", \"like\", \"littl\", \"say\", \"life\", \"person\", \"nigger\", \"wanker\", \"licker\", \"homo\", \"romney\", \"mitt\", \"cougar\", \"edgar\", \"nhrhs\", \"enigmaman\", \"subject\", \"disput\", \"sanns\", \"fuckwit\", \"delanoy\", \"billj\", \"pedo\", \"refrain\", \"revis\", \"criteria\", \"sikh\", \"unemploy\", \"describ\", \"motha\", \"goodby\", \"hahahaha\", \"cracker\", \"anon\", \"difficult\", \"pumpkin\", \"peni\", \"scum\", \"hitler\", \"password\", \"jew\", \"user\", \"spic\", \"administr\", \"bitch\", \"chink\", \"virgin\", \"sexual\", \"shit\", \"douch\", \"motherfuck\", \"stupid\", \"dumbass\", \"piec\", \"asian\", \"american\", \"delet\", \"block\", \"cocksuck\", \"like\", \"leav\", \"page\", \"wikipedia\", \"fuck\", \"fggt\", \"rice\", \"supertr\", \"assad\", \"knob\", \"dust\", \"sucker\", \"valid\", \"super\", \"haha\", \"plot\", \"prostitut\", \"fack\", \"imbecil\", \"numer\", \"calm\", \"fiction\", \"bare\", \"yank\", \"snitch\", \"retart\", \"gawd\", \"feebl\", \"doosh\", \"fukin\", \"trace\", \"philosoph\", \"myspac\", \"soviet\", \"makin\", \"donkey\", \"women\", \"useless\", \"forev\", \"disturb\", \"rap\", \"sack\", \"dumb\", \"respect\", \"idiot\", \"chuck\", \"womensday\", \"know\", \"million\", \"fight\", \"live\", \"gonna\", \"delet\", \"happi\", \"construct\", \"lame\", \"mexican\", \"pathet\", \"shit\", \"fool\", \"articl\", \"real\", \"think\", \"fuck\", \"blank\", \"codi\", \"shithol\", \"arrog\", \"molest\", \"turk\", \"iranian\", \"sloppi\", \"hate\", \"moonshin\", \"cuntfuck\", \"gwernol\", \"usual\", \"fart\", \"filter\", \"religi\", \"maggot\", \"manipul\", \"threat\", \"intellectu\", \"albino\", \"niggertardgo\", \"credibl\", \"asham\", \"filth\", \"australian\", \"curios\", \"beth\", \"eastern\", \"supremacist\", \"bloodi\", \"persian\", \"dirti\", \"whore\", \"havent\", \"love\", \"damn\", \"religion\", \"smell\", \"weak\", \"fool\", \"indian\", \"billcj\", \"sign\", \"christian\", \"butt\", \"wikipedia\", \"cock\", \"nazi\", \"write\", \"like\", \"time\", \"know\", \"fuckin\", \"racist\", \"deserv\", \"think\", \"peopl\", \"world\", \"articl\", \"kill\", \"vandal\", \"tommi\", \"poop\", \"bias\", \"notabl\", \"silli\", \"bail\", \"ident\", \"consensus\", \"turkish\", \"pakistani\", \"lick\", \"nativ\", \"lion\", \"fagget\", \"racial\", \"cretin\", \"tit\", \"resid\", \"spew\", \"raid\", \"except\", \"deliber\", \"macro\", \"hobbi\", \"slit\", \"gather\", \"gger\", \"nicknam\", \"bigot\", \"nasti\", \"nigga\", \"feminist\", \"hanib\", \"basement\", \"bastard\", \"aliv\", \"male\", \"truth\", \"rule\", \"classi\", \"person\", \"jerk\", \"fine\", \"post\", \"cite\", \"look\", \"peopl\", \"listen\", \"watch\", \"stop\", \"gonna\", \"lie\", \"head\", \"attack\", \"ruin\", \"page\", \"edit\", \"like\", \"wikipedia\", \"time\", \"fuck\", \"nippl\", \"daedalus\", \"aid\", \"oxymoron\", \"genr\", \"moron\", \"rape\", \"conflict\", \"juici\", \"hist\", \"grammar\", \"socialist\", \"looser\", \"luckier\", \"son\", \"latinus\", \"fece\", \"archiv\", \"expir\", \"paedophil\", \"satisfi\", \"slight\", \"santa\", \"discredit\", \"muhajir\", \"congratul\", \"ancestor\", \"mormon\", \"serbia\", \"eventu\", \"jackass\", \"lucki\", \"sassi\", \"dildo\", \"murder\", \"nerd\", \"shove\", \"fucken\", \"imag\", \"retard\", \"repeat\", \"achiev\", \"woman\", \"go\", \"loser\", \"ridicul\", \"belong\", \"care\", \"sourc\", \"bigger\", \"abus\", \"femal\", \"black\", \"hous\", \"site\", \"kill\", \"think\", \"love\", \"obvious\", \"peopl\", \"hell\", \"white\"], \"Freq\": [30763.0, 14840.0, 11318.0, 7961.0, 5903.0, 4678.0, 4829.0, 4575.0, 6096.0, 3903.0, 2792.0, 7307.0, 2884.0, 2700.0, 3208.0, 6708.0, 3051.0, 4628.0, 3555.0, 1892.0, 2525.0, 2333.0, 3846.0, 3247.0, 2615.0, 2347.0, 3374.0, 1783.0, 2840.0, 1452.0, 661.8782520241705, 232.4024275082202, 211.86141443600516, 189.5207652360259, 173.95605085650615, 170.00343971712815, 165.83546674244295, 148.50864011038354, 151.9698959291169, 129.5809436021429, 467.98227908758673, 1892.767497599595, 119.44151460567987, 533.1884282468137, 98.87490573404207, 90.6070620732615, 82.82215777650597, 3177.227234919104, 74.024699672476, 72.61628736276735, 70.50335050982991, 69.96518881578585, 103.58455908666221, 65.66127385227118, 64.71059898968993, 63.65280777440775, 62.264365308721665, 61.000008967859564, 57.925795247706944, 57.307872342330135, 209.28445114495622, 363.6846547716098, 112.3720322686809, 209.38659801313213, 89.02377248711721, 114.116209736911, 370.5252125850207, 185.49980234912556, 374.0883264247449, 1948.1828825735774, 184.61313339687305, 1225.685742312834, 157.72908865811837, 264.1501467963266, 1362.3793640355618, 1543.7442007656057, 715.3467019354188, 4588.294470399941, 1035.397103094126, 273.29294796894675, 2095.6785487353263, 1486.6026650136253, 420.11615162501005, 1139.3669646315495, 296.4194715830054, 1158.0488653147104, 572.6662759018517, 824.3087881489694, 738.7091349231773, 1369.3851161799996, 783.3437451144939, 304.6666889288882, 424.27786186754616, 639.2364665043348, 825.5319772012498, 470.1246849181104, 610.7942093668672, 693.792084702529, 606.3551007913206, 642.0163843311502, 533.3835839085832, 728.7200640159624, 504.9046169197763, 1330.2237555167023, 1202.265023223979, 7950.60539921229, 457.4394766102262, 306.3691389843291, 252.93945257307573, 514.0731574766313, 146.48983638796534, 278.8669954245949, 125.00820743092076, 130.4685823279836, 125.0236794728093, 116.34602617500683, 98.74579521420893, 136.77927216314686, 198.6401338291632, 88.99532088970722, 86.07625153063941, 131.92564730710725, 71.45427210754741, 73.14959358443924, 143.79671710338948, 235.40531765733306, 57.62785342578043, 56.22962104777939, 49.3781574539808, 48.96250007759645, 48.59132320322724, 48.22939718570269, 46.56701367915768, 4477.859893305637, 258.01055348568593, 269.1436910414347, 2242.8769098541898, 27441.049839452226, 332.27376508761165, 90.12802325007549, 965.91592395876, 693.3349537335145, 257.410056997995, 2291.050245164263, 141.99903415104092, 1224.3441319442288, 337.32034378487714, 1010.4575890917883, 1654.1210477570648, 853.2138938050474, 275.84470359359705, 536.8520944882282, 652.4524070861535, 847.029634504647, 1068.0602988310854, 624.7018045441254, 609.3163543008973, 757.701392820713, 679.4696736846107, 484.79617002889273, 515.6747921793763, 598.1217428916868, 529.7080765927534, 549.6498424887687, 494.8728584382503, 470.1236507601841, 1496.8251069779576, 680.1606466852515, 633.6608676939838, 909.1879857676034, 451.7821328058478, 356.5171219095363, 314.68743496708373, 267.30362097935495, 239.99331629282287, 182.54123714447522, 176.0799306864151, 2688.9035811168083, 209.959821464088, 147.53328254175221, 159.79453887678477, 106.88411181222499, 1137.8673237719834, 83.42700607651246, 163.3648004464786, 171.80361343841457, 78.95018677827979, 77.328434613032, 79.43502943979074, 79.43502943979074, 79.43502943979074, 72.33830395546686, 71.98044918221085, 75.02380671061435, 70.09196339162438, 72.41858559451155, 123.70861043675565, 611.097068931187, 95.54028379881613, 670.5768334131895, 133.28208598794276, 717.6156659321366, 2395.865358576018, 370.5748236826757, 238.01351840844382, 89.02846105524398, 506.7083976785925, 226.1013200145998, 266.51717264695975, 241.89522602250065, 2264.9798653527428, 924.7111216431746, 377.6375830042111, 450.5473613207366, 280.88221734844484, 899.1894558168722, 1268.2915628102455, 379.6042367074091, 471.7932250088415, 626.5524945112687, 587.097641384907, 562.8016882161451, 403.44259474700027, 357.9391446892565, 380.05959377329765, 390.65813783253714, 462.96289304178003, 418.8340046122488, 369.7675578092748, 674.6789639578974, 291.7705637472239, 263.2522889263841, 244.38798102104434, 228.21098715104984, 317.9754754389633, 195.44437289095484, 361.8592320222882, 215.97407144316415, 99.27204409260709, 82.46018620896865, 81.4218620729484, 79.38986750024492, 72.77532385461795, 285.4727979845734, 69.38301159993742, 68.07499783392811, 65.38390634167351, 67.63605040994437, 184.77702518448518, 61.51633195971641, 54.196868069782084, 69.04729444906214, 52.0317268049149, 43.36493240710251, 42.25351101432892, 43.06234597921225, 42.66233408584953, 100.09195151145876, 39.952931457865624, 944.3837037745927, 692.4558841068548, 4401.054467187635, 318.4296366572885, 246.39206053374315, 551.6180817422401, 315.0161671783586, 1044.0164516825857, 125.69765976900152, 2474.011371031701, 163.3010216931238, 481.91655081703544, 367.6154872075301, 122.35016582760592, 587.9778026178684, 463.20424223283834, 1639.0320377338799, 1030.1678094748413, 301.61991875497256, 381.9640359833281, 194.39550479837789, 292.853862146585, 641.9977236895112, 1406.9455010882925, 1255.3291932829252, 346.14885804730625, 601.7827788099631, 570.692783600762, 603.5165968758014, 639.917765810729, 367.7701203518389, 483.99030534915, 318.2258619175898, 328.096044921692, 315.2182091396586, 1156.935243581002, 486.1173829848958, 333.276803764598, 234.46701889341455, 114.9591667001482, 83.94869060021813, 85.17257836360433, 788.7402845123617, 76.17391539589714, 61.294737849270476, 315.3469609472966, 59.431506291576255, 55.35049847358513, 11138.543676432259, 47.7287602811913, 46.3297105764398, 53.76030354510964, 54.30807263147202, 43.22534131037371, 41.675479586598996, 40.05105976727514, 39.227391560823214, 38.489598080495576, 38.483510599910055, 38.182115727799435, 38.727668154564626, 37.21105632474779, 40.010980728430425, 35.629736367967816, 35.02278413702177, 49.515625415770245, 46.20118598633647, 1464.3882630373616, 420.22632646108787, 97.98465416939582, 3476.5083792225178, 179.5144108175253, 320.1024791141076, 104.09572634634348, 98.39051120835079, 86.13526696001922, 103.53611979773369, 941.7325299156252, 1944.905663881984, 272.45884772808586, 143.22939320607793, 223.78823628402398, 1146.9791420001363, 212.96797079252394, 855.2892722711977, 1842.5263903947816, 252.26649545981945, 1627.7164088102186, 436.810006904967, 259.3863727527717, 940.9331324651012, 297.8294501482999, 221.9518254741251, 1021.0234103707506, 455.42594753413294, 441.02666012368474, 916.8273426777538, 1073.5753761028814, 595.7082334725974, 455.48648067441115, 437.3689717889565, 333.9959681376718, 330.3500464320836, 306.57798891371493, 301.9477370140656, 14836.212230909554, 1083.5742335111768, 833.6311934209576, 826.2287331639556, 437.2571707826976, 436.4804816057186, 301.7196754763457, 315.93168961273346, 229.99895514925586, 208.45307022660356, 185.75971809016127, 95.46261225471159, 136.86205404602845, 73.1327514052761, 116.72418857156269, 140.23362534521573, 56.200291911209966, 55.55046269775758, 52.49073294933058, 51.12525871774274, 74.90488112244205, 48.90160907480637, 48.397659808912536, 48.34705215624016, 78.83599645444325, 45.65826498413586, 57.667365373669874, 42.37743330804795, 40.7912371567191, 41.16142755241685, 1722.111147286351, 459.0819110016202, 363.458003014146, 155.49043404008793, 765.0085013724486, 2049.615229836509, 376.4442134587413, 530.987495387721, 4098.528675149941, 309.7774417619755, 123.74136780907897, 237.49250761402524, 3525.5528275528563, 293.98070841225683, 489.34492687981896, 1878.696724975506, 259.12990784604636, 913.0647268649897, 243.2314107259439, 422.2084810644911, 854.9187826510882, 920.5916730154208, 744.0138864957357, 864.1360040292183, 428.70920211561634, 424.138889956705, 386.4578687552552, 436.0284523909834, 1370.0741847657764, 1153.3180126889904, 609.0459828838833, 1446.371425933704, 342.40423976940065, 307.7216583041031, 305.49965800268666, 225.8400451650239, 514.2185641317909, 273.46637213789114, 122.48495972191407, 108.62182594245165, 100.92632413034784, 98.53552026038463, 85.2136865437542, 83.37003932209842, 82.40554945602918, 79.46682375573663, 95.22383454208206, 66.58424866480375, 65.14926014548826, 65.17643146478578, 61.65425815154052, 59.863095794820815, 71.92721306555971, 55.42641592383225, 54.58269973939553, 53.10031407983777, 50.94953824537496, 50.63096501107663, 102.27565640832518, 2088.2777975879203, 862.512292203583, 471.49930532036683, 92.9665107898269, 371.72736863287383, 86.57228929622785, 1016.2749720462846, 509.9371352785378, 2368.1867963398163, 299.59295310480206, 318.9281610361802, 3175.6480679765123, 254.6380678659559, 474.88629525015335, 842.6097900931859, 634.1315925701305, 1351.4606023412223, 450.6646643568849, 315.6289315982921, 172.0137867144498, 823.4001308735578, 461.43895696688946, 1175.2641393994636, 440.02224792535014, 583.4359880720003, 357.9988259565551, 424.54052608642854, 458.402214392597, 377.75840716946294, 402.7873777086594, 266.5836520337253, 242.09207196151905, 226.62127872227825, 200.18555090539655, 181.0782217885045, 162.38025335996858, 5873.7996115345695, 149.47410615408126, 143.00638632015676, 170.04046697225948, 108.89555651289791, 328.97565677482424, 246.89694560932585, 95.71080071777646, 94.1601126682029, 93.41702190407557, 520.7083218495252, 90.80476094445223, 84.4166414680829, 82.97432525486, 79.08790090223263, 77.63018266554843, 74.82210541336269, 71.70808630019754, 70.08617765047369, 67.24756051184394, 62.24320167593845, 55.778530694204605, 761.4753942014895, 142.82383675385356, 929.8047910247025, 1148.4549392513632, 226.94041393160614, 2328.339574843355, 1466.6463325403352, 166.15657415755214, 304.1153086744753, 268.67691836857733, 938.6127819165636, 302.26903238712566, 142.24673416157864, 301.69633246949434, 219.65862488050942, 221.0350183787364, 1607.3714289671966, 942.3688504107869, 446.1552198568827, 566.6743584118858, 1294.7198918310235, 516.1065876097713, 595.5769782094522, 352.7970030104626, 307.43204894160215, 245.32234369864682, 360.40403231305964, 365.1238462867533, 289.61738912679914, 282.88810639230206, 259.06080187031273, 2791.951739277069, 1451.8473837293534, 857.9854468576312, 441.1596333601481, 256.01226446793794, 213.23771921094388, 175.2224501982529, 154.57969399771687, 151.9427637387471, 127.05612088547636, 114.90403296952678, 1328.8373467508081, 106.26193020177972, 96.49744333615227, 85.86383097740767, 81.24649201858664, 75.56109321030276, 84.27677843287125, 75.2063090069634, 67.0115603503384, 88.23265978904341, 64.23270669067851, 60.32392254872548, 59.927831089400875, 57.869931365800525, 58.24724364404276, 54.32124930249521, 57.39387044736771, 53.34426327448486, 162.87893959839056, 432.0320766122291, 2722.4384726563458, 139.1889436526261, 1144.0104388562918, 164.00326062474488, 2022.5225511691506, 309.9551531904003, 176.8916521142302, 499.4865062858969, 598.2388676007091, 187.26617425560187, 1134.826482083562, 369.14968676371785, 334.23668292666525, 686.6111250877948, 181.61975700065534, 557.7583121268599, 845.7703844678931, 256.5830404945063, 323.16289489422525, 603.5948983172775, 334.1144689881167, 269.47193183650097, 312.9767060705624, 341.3789921247462, 226.96632111435667, 465.750821725987, 423.37757472529046, 450.9281676426225, 348.659232845838, 303.09115076172037, 258.33410714368995, 1891.9277501778345, 564.2975501845295, 836.0188796099961, 257.1361581640209, 135.24128245408224, 4651.614912897885, 1063.6278748497828, 95.60470221617678, 94.29011048868453, 86.7091016351761, 85.60963583646732, 77.45228524288989, 74.14903884073658, 70.15207792021683, 67.92201429859705, 63.54492708215425, 62.57766218162255, 62.27759240022407, 57.06786249010151, 56.405880531598086, 55.032596026279876, 70.60935388251914, 63.36016653630393, 47.81963248002909, 46.844812968658246, 94.64730782198458, 42.933421991123254, 40.6037748629875, 39.924450840109564, 60.53943137156043, 292.86521896280027, 163.60474781861254, 261.303543438659, 81.0573391466516, 583.2066548677612, 443.7626321991814, 234.465962524059, 148.4114128157534, 654.5965453923711, 1141.6919909348233, 588.2382237356248, 80.50154339259417, 450.35252722001223, 1472.551976748358, 777.3593229056903, 179.6511501162954, 195.47552032509577, 701.9271885162666, 578.7145970156641, 110.97263976807082, 274.74125715795105, 170.01192667031063, 296.12385323176983, 249.13891421081533, 300.53224496670043, 506.46346168936026, 499.3370711084213, 436.14487567417467, 214.00710529271936, 337.4740044796329, 249.70888643967368, 217.97686322554097], \"Total\": [30763.0, 14840.0, 11318.0, 7961.0, 5903.0, 4678.0, 4829.0, 4575.0, 6096.0, 3903.0, 2792.0, 7307.0, 2884.0, 2700.0, 3208.0, 6708.0, 3051.0, 4628.0, 3555.0, 1892.0, 2525.0, 2333.0, 3846.0, 3247.0, 2615.0, 2347.0, 3374.0, 1783.0, 2840.0, 1452.0, 662.6220879912692, 233.14633610111983, 212.6620721916501, 190.26825555763662, 174.71175740130852, 170.7599508239465, 166.57946098397383, 149.2522771770712, 152.83286234649748, 130.32466788387896, 470.78252618605217, 1904.1112129828434, 120.18530273707249, 537.0082942503811, 99.61881933231015, 91.35094270425087, 83.56592507563191, 3208.9357156637698, 74.76898770189591, 73.35997155591235, 71.24712636799728, 70.70945178545594, 104.72521903456975, 66.405067000952, 65.45432609054949, 64.39652650453635, 63.00808793540362, 61.74369454310064, 58.669788196942, 58.052122381143164, 213.06184574261255, 372.9645417523865, 113.91976957600504, 215.06365861114168, 90.43929238659952, 116.55789680447431, 388.93588288058623, 192.7308996921291, 401.48452160129267, 2381.1557941386027, 195.89807971949872, 1557.0708721409462, 167.8266450247758, 298.0129539574304, 1951.391619951582, 2305.2503296671043, 957.4338530867166, 9671.407181012602, 1681.69765624202, 330.19743272133684, 4218.231511362363, 2761.8229437171217, 597.722560284014, 2590.218072857355, 384.65817351175514, 3144.4990118126116, 1147.7938137718972, 2080.6173488267104, 2157.2605585659767, 6708.052969854818, 2439.2180091717655, 446.4999972405305, 891.465046743813, 2253.2307164339286, 4061.6267685045445, 1154.1586201141804, 2229.509455196434, 4769.10533103353, 3228.4174097019577, 4689.06548206043, 3706.111218483469, 30763.069418121304, 5855.717968058822, 1331.0131575855207, 1203.0542453584421, 7961.115067233056, 458.22938271794084, 307.1583070320312, 253.7310042978165, 515.7749308334304, 147.29061787118061, 280.4622516668723, 125.79713574354386, 131.29263488141495, 125.83323372332865, 117.15619878424516, 99.5351511755394, 137.8883410393512, 200.28019376991784, 89.7881753481662, 86.86551230097862, 133.32481901258413, 72.24454877934105, 73.99865447681213, 145.66784336645384, 238.59198117228084, 58.431162612769164, 57.042839012590605, 50.16731711261202, 49.75220105302659, 49.38067902730417, 49.03409394842299, 47.36371721084285, 4575.707928520824, 262.4344501682815, 274.0709085409603, 2347.396161983673, 30763.069418121304, 344.2170598750679, 93.43719645605425, 1142.2812986821796, 830.5469880108246, 287.1124855577275, 3374.6444604844964, 152.32600981529592, 2048.489327543705, 459.9689063949273, 2437.516258769615, 5855.717968058822, 2253.2307164339286, 466.8666595527282, 1514.7617561474972, 2157.2605585659767, 3555.6644739638873, 7307.212866408322, 2590.218072857355, 3149.800983260889, 5773.910345764925, 4689.06548206043, 1847.548296808395, 2439.2180091717655, 4061.6267685045445, 2761.8229437171217, 4628.024700067908, 4218.231511362363, 4769.10533103353, 1498.1301683483161, 680.9085455221291, 634.4163792586589, 910.5131945214413, 452.5300163795538, 357.26516821326743, 315.43521121719846, 268.0513566406563, 240.77686588343067, 183.2889000430684, 176.8281376373269, 2700.6575810497907, 210.9508812839355, 148.2811925466365, 160.70848664528407, 107.63181390824478, 1147.87371580182, 84.17474826963324, 164.90608980126885, 173.42530953114607, 79.69792011791968, 78.08270927352525, 80.22006368025485, 80.22006368025485, 80.22006368025485, 73.08618188437559, 72.72827266652173, 75.80501893776147, 70.83964574311946, 73.31254940643831, 126.53986552966823, 651.85907752841, 97.31458149887952, 745.6339683355563, 141.36739593457966, 934.1499441862929, 3662.756967173993, 462.4123067850889, 285.4490311703801, 91.61165614700666, 735.2212056080635, 278.88682172083475, 347.8332693539645, 308.753122642918, 5773.910345764925, 2093.993414476248, 641.2947437997924, 880.5975768498489, 433.4412161696328, 4689.06548206043, 9671.407181012602, 836.5923670900145, 1417.4200450709893, 3706.111218483469, 3149.800983260889, 4061.6267685045445, 1689.1081658430178, 1137.2107972002557, 1474.384795156994, 1985.1662464786623, 6708.052969854818, 5855.717968058822, 1616.1857405352407, 675.6119736636879, 292.5244669018417, 264.0110247307398, 245.1416175887108, 228.96497636850842, 319.08941479948055, 196.1980387315025, 363.611400079458, 217.19109465880643, 100.02564243351846, 83.21385917080279, 82.17571634593767, 80.14383769869477, 73.52909727936056, 288.4526926408432, 70.13649925174423, 68.82865960014786, 66.13780118085211, 68.46555671779176, 187.06105963940837, 62.34754316407176, 54.95062519231658, 70.06650559753234, 52.85779797243997, 44.1186554989446, 43.007051079063025, 43.84833487673406, 43.4412636055427, 101.96795811914127, 40.707075590788136, 971.0765026005383, 710.0355695568528, 4829.241770547567, 331.21526016770315, 258.39380734686074, 635.2861004172933, 352.7256979844498, 1287.9686108241817, 134.1992593868829, 3555.6644739638873, 180.30999523912098, 613.9301357993169, 467.7181056296961, 133.81122793403614, 848.2803213277597, 650.2806223542354, 2979.598332158252, 1706.9393166497832, 397.0207460479803, 544.9897598426095, 232.67635174468072, 399.78282370945533, 1228.2276162299192, 5773.910345764925, 4769.10533103353, 608.7009168784049, 2510.0839240694486, 2229.509455196434, 3149.800983260889, 4218.231511362363, 790.5763466213482, 3846.243629717215, 554.5965797716, 995.5130245949952, 4689.06548206043, 1157.718618181725, 486.90073591703236, 334.0608219182493, 236.1289582282113, 115.90768876001364, 84.73221558759597, 85.99589358313311, 796.6006597538197, 76.95729999024931, 62.078188158147064, 319.50276725898135, 60.21496735126521, 56.13413206057205, 11318.22614341397, 48.5121270916691, 47.113581370474144, 54.67180094931491, 55.280358021526226, 44.02161664055628, 42.45879829688945, 40.83534295604577, 40.01094652740001, 39.27319589899224, 39.26717896955681, 38.96554306209568, 39.52385146520435, 37.994729694503846, 40.885556789034744, 36.41624845883533, 35.80937471240083, 50.64232854219852, 47.32699297866741, 1556.784341484467, 448.2225206274952, 101.90499828855941, 3903.704245282115, 197.27570614169292, 372.9896601760416, 113.15317052388289, 106.62316954268124, 92.69816395440496, 114.38699996907405, 1373.5609198775435, 3247.5460610540486, 350.1175956140922, 172.39574684874435, 289.9776361642618, 2197.358150934057, 298.808379295257, 1728.5138869822827, 4628.024700067908, 373.3572637025981, 4769.10533103353, 907.1745278239239, 463.2626716277996, 3706.111218483469, 605.3118351808624, 407.21820731123296, 6096.977246280009, 1537.0244159680212, 1516.9700801895, 7307.212866408322, 30763.069418121304, 5855.717968058822, 2840.947730745326, 9671.407181012602, 2157.2605585659767, 2439.2180091717655, 2437.516258769615, 2510.0839240694486, 14840.338676699426, 1084.3618861771108, 834.4206872151752, 827.0165738929431, 438.11748435521775, 437.34195077801934, 302.50851405457433, 316.7631605844378, 230.81677371306083, 209.26828812138586, 186.54816739726257, 96.25074757481968, 138.26283634012086, 73.9210969958145, 118.05923475449737, 141.87491516693274, 56.98802005272463, 56.33896221713695, 53.278855652354096, 51.913269427291844, 76.08694843526445, 49.68977990272116, 49.18570248913012, 49.13485534752066, 80.14555651100282, 46.4460921152044, 58.68437590919334, 43.16529847534572, 41.57921296772282, 41.96217493300671, 1783.5981265843186, 470.0835480020075, 371.6448815329911, 160.83986238002493, 834.0576367284291, 2615.1082681969697, 431.1113952475309, 658.9728699749187, 6096.977246280009, 383.37515577871045, 137.64033462079863, 287.80109669054843, 7307.212866408322, 393.3812187971062, 754.9056890627583, 4628.024700067908, 372.67390419158613, 2197.358150934057, 343.8057676276778, 826.9143249482161, 2840.947730745326, 3374.6444604844964, 2761.8229437171217, 9671.407181012602, 1689.1081658430178, 5773.910345764925, 5855.717968058822, 30763.069418121304, 1370.8214090056083, 1154.0973153785037, 609.8212746577888, 1449.3390588414493, 343.15156951499216, 308.46974228578216, 306.2471292667675, 226.58747348198523, 517.0165546457711, 274.9739072291204, 123.23226235577687, 109.36916820218423, 101.6764819882823, 99.28291540191434, 85.96189379296545, 84.11790833161338, 83.15292092556636, 80.21442025821558, 96.14102931513291, 67.33149079638017, 65.90782178135638, 65.9622885981002, 62.40174109172115, 60.61387399228331, 72.84002915286459, 56.17416776347439, 55.330174299001705, 53.847637786243645, 51.69708399066135, 51.37841286313889, 105.07159797400428, 2333.0664448172292, 947.2944727212562, 508.45779048186176, 95.73918735769523, 425.71267970840927, 90.13737791286928, 1408.1410440642553, 669.1836128874728, 3846.243629717215, 372.2259981714705, 405.96883025169024, 6708.052969854818, 329.58454536505445, 719.2316852663876, 1492.7829047878095, 1047.5047193427881, 2840.947730745326, 705.9075013797762, 488.2149711051886, 214.31152022960651, 2048.489327543705, 1111.1662090310351, 7307.212866408322, 1432.9563248199502, 3706.111218483469, 1255.7944810850925, 4061.6267685045445, 30763.069418121304, 378.5205947622107, 403.6208022923759, 267.34941226977384, 242.85416613303957, 227.38423685046956, 200.94754219943934, 181.84017006496765, 163.142183327547, 5903.191414678662, 150.23655898811197, 143.78697945399466, 170.98534615226905, 109.66000747687835, 331.3487963666869, 248.806670795385, 96.47289080779898, 94.92246122759488, 94.17920393055849, 524.9973361127401, 91.5669062688599, 85.18093019763842, 83.73758670751262, 79.85001377992558, 78.39252548262465, 75.5841295789893, 72.47013708828848, 70.85847781364055, 68.00957514368152, 63.005291697320246, 56.540429933687726, 785.4591886481677, 145.04851264978515, 975.6745948959403, 1297.9848338425484, 242.37420705812607, 3051.0376743186134, 1887.2278158044621, 179.88637665788107, 352.25216809093416, 313.8516020571903, 1432.9563248199502, 379.67093841784794, 157.33803706148254, 399.7451698171095, 291.0557283555899, 299.5452015102366, 5855.717968058822, 3247.5460610540486, 989.079197949316, 1630.9837909055725, 9671.407181012602, 3144.4990118126116, 6708.052969854818, 1417.4200450709893, 1070.130944470137, 465.707589488134, 4061.6267685045445, 4689.06548206043, 1474.384795156994, 3706.111218483469, 2979.598332158252, 2792.7050865686783, 1452.6185763535925, 859.2021300372893, 441.91279288623076, 256.76542849512697, 213.99085688946965, 175.97589771873575, 155.33303412705212, 152.6960193198948, 127.80931803305266, 115.65735240703785, 1338.2453532073278, 107.01512014589709, 97.25032942451507, 86.61678935823764, 82.00003654263094, 76.31412894949678, 85.14739271017272, 76.0036113581387, 67.76464307197568, 89.23376210610991, 64.98581916380677, 61.07706367074541, 60.68829819292415, 58.62288667358272, 59.00768103595798, 55.07437878885527, 58.197249213036216, 54.09724320320106, 165.33558292109677, 446.02245439634817, 2884.7800168323047, 143.91112710330992, 1270.4132317317167, 173.09844123593018, 2525.642558631521, 354.04591140582136, 207.95505545041502, 694.2305699914027, 862.5566223447805, 241.51382578261948, 2510.0839240694486, 621.1390003431891, 551.4324417067899, 1514.7617561474972, 249.90781762549486, 1985.1662464786623, 4689.06548206043, 513.3986286014754, 818.5211409702557, 3149.800983260889, 1047.5047193427881, 622.0017621467848, 953.160939511717, 1289.8141908862815, 474.4096523173924, 5773.910345764925, 4769.10533103353, 9671.407181012602, 5855.717968058822, 3144.4990118126116, 30763.069418121304, 1892.6751709333028, 565.0449086724922, 837.4246102186725, 257.8836788450241, 135.98865939329025, 4678.178210913792, 1071.4378806953127, 96.35227221828733, 95.03745733497102, 87.45657733417221, 86.35722507220494, 78.19970676875148, 74.8963553112385, 70.9139471661786, 68.66953885269852, 64.29347413130054, 63.32510439873249, 63.02507421617227, 57.8155512526469, 57.15326222903345, 55.78029422331121, 71.60328333695983, 64.28909367271217, 48.57693863640905, 47.59517625756329, 96.20638577183985, 43.68089412682973, 41.35101019126073, 40.67185449381437, 61.68157054302094, 302.3186859951198, 168.52218212566666, 272.88707768521914, 83.3451427451719, 651.7415111113315, 503.4969338929458, 264.7304462933542, 165.16304079170718, 859.8407582603467, 1632.3456114348576, 780.0149163344018, 85.3448369940206, 706.9088879051387, 3228.4174097019577, 1457.9896739013604, 239.22424879090565, 269.85711108966524, 1491.7854354111532, 1249.3392425412262, 133.1924519635838, 599.4077163333741, 281.3692664295303, 764.5740115996656, 626.9492627807052, 918.1692417004826, 2979.598332158252, 4061.6267685045445, 3051.0376743186134, 586.9392917104167, 4689.06548206043, 1847.548296808395, 920.3790303204248], \"Category\": [\"Default\", \"Default\", \"Default\", \"Default\", \"Default\", \"Default\", \"Default\", \"Default\", \"Default\", \"Default\", \"Default\", \"Default\", \"Default\", \"Default\", \"Default\", \"Default\", \"Default\", \"Default\", \"Default\", \"Default\", \"Default\", \"Default\", \"Default\", \"Default\", \"Default\", \"Default\", \"Default\", \"Default\", \"Default\", \"Default\", \"Topic1\", \"Topic1\", \"Topic1\", \"Topic1\", \"Topic1\", \"Topic1\", \"Topic1\", \"Topic1\", \"Topic1\", \"Topic1\", \"Topic1\", \"Topic1\", \"Topic1\", \"Topic1\", \"Topic1\", \"Topic1\", \"Topic1\", \"Topic1\", \"Topic1\", \"Topic1\", \"Topic1\", \"Topic1\", \"Topic1\", \"Topic1\", \"Topic1\", \"Topic1\", \"Topic1\", \"Topic1\", \"Topic1\", \"Topic1\", \"Topic1\", \"Topic1\", \"Topic1\", \"Topic1\", \"Topic1\", \"Topic1\", \"Topic1\", \"Topic1\", \"Topic1\", \"Topic1\", \"Topic1\", \"Topic1\", \"Topic1\", \"Topic1\", \"Topic1\", \"Topic1\", \"Topic1\", \"Topic1\", \"Topic1\", \"Topic1\", \"Topic1\", \"Topic1\", \"Topic1\", \"Topic1\", \"Topic1\", \"Topic1\", \"Topic1\", \"Topic1\", \"Topic1\", \"Topic1\", \"Topic1\", \"Topic1\", \"Topic1\", \"Topic1\", \"Topic1\", \"Topic1\", \"Topic1\", \"Topic1\", \"Topic1\", \"Topic1\", \"Topic1\", \"Topic1\", \"Topic1\", \"Topic2\", \"Topic2\", \"Topic2\", \"Topic2\", \"Topic2\", \"Topic2\", \"Topic2\", \"Topic2\", \"Topic2\", \"Topic2\", \"Topic2\", \"Topic2\", \"Topic2\", \"Topic2\", \"Topic2\", \"Topic2\", \"Topic2\", \"Topic2\", \"Topic2\", \"Topic2\", \"Topic2\", \"Topic2\", \"Topic2\", \"Topic2\", \"Topic2\", \"Topic2\", \"Topic2\", \"Topic2\", \"Topic2\", \"Topic2\", \"Topic2\", \"Topic2\", \"Topic2\", \"Topic2\", \"Topic2\", \"Topic2\", \"Topic2\", \"Topic2\", \"Topic2\", \"Topic2\", \"Topic2\", \"Topic2\", \"Topic2\", \"Topic2\", \"Topic2\", \"Topic2\", \"Topic2\", \"Topic2\", \"Topic2\", \"Topic2\", \"Topic2\", \"Topic2\", \"Topic2\", \"Topic2\", \"Topic2\", \"Topic2\", \"Topic2\", \"Topic2\", \"Topic2\", \"Topic2\", \"Topic2\", \"Topic2\", \"Topic2\", \"Topic3\", \"Topic3\", \"Topic3\", \"Topic3\", \"Topic3\", \"Topic3\", \"Topic3\", \"Topic3\", \"Topic3\", \"Topic3\", \"Topic3\", \"Topic3\", \"Topic3\", \"Topic3\", \"Topic3\", \"Topic3\", \"Topic3\", \"Topic3\", \"Topic3\", \"Topic3\", \"Topic3\", \"Topic3\", \"Topic3\", \"Topic3\", \"Topic3\", \"Topic3\", \"Topic3\", \"Topic3\", \"Topic3\", \"Topic3\", \"Topic3\", \"Topic3\", \"Topic3\", \"Topic3\", \"Topic3\", \"Topic3\", \"Topic3\", \"Topic3\", \"Topic3\", \"Topic3\", \"Topic3\", \"Topic3\", \"Topic3\", \"Topic3\", \"Topic3\", \"Topic3\", \"Topic3\", \"Topic3\", \"Topic3\", \"Topic3\", \"Topic3\", \"Topic3\", \"Topic3\", \"Topic3\", \"Topic3\", \"Topic3\", \"Topic3\", \"Topic3\", \"Topic3\", \"Topic3\", \"Topic3\", \"Topic3\", \"Topic3\", \"Topic4\", \"Topic4\", \"Topic4\", \"Topic4\", \"Topic4\", \"Topic4\", \"Topic4\", \"Topic4\", \"Topic4\", \"Topic4\", \"Topic4\", \"Topic4\", \"Topic4\", \"Topic4\", \"Topic4\", \"Topic4\", \"Topic4\", \"Topic4\", \"Topic4\", \"Topic4\", \"Topic4\", \"Topic4\", \"Topic4\", \"Topic4\", \"Topic4\", \"Topic4\", \"Topic4\", \"Topic4\", \"Topic4\", \"Topic4\", \"Topic4\", \"Topic4\", \"Topic4\", \"Topic4\", \"Topic4\", \"Topic4\", \"Topic4\", \"Topic4\", \"Topic4\", \"Topic4\", \"Topic4\", \"Topic4\", \"Topic4\", \"Topic4\", \"Topic4\", \"Topic4\", \"Topic4\", \"Topic4\", \"Topic4\", \"Topic4\", \"Topic4\", \"Topic4\", \"Topic4\", \"Topic4\", \"Topic4\", \"Topic4\", \"Topic4\", \"Topic4\", \"Topic4\", \"Topic4\", \"Topic4\", \"Topic4\", \"Topic4\", \"Topic4\", \"Topic4\", \"Topic5\", \"Topic5\", \"Topic5\", \"Topic5\", \"Topic5\", \"Topic5\", \"Topic5\", \"Topic5\", \"Topic5\", \"Topic5\", \"Topic5\", \"Topic5\", \"Topic5\", \"Topic5\", \"Topic5\", \"Topic5\", \"Topic5\", \"Topic5\", \"Topic5\", \"Topic5\", \"Topic5\", \"Topic5\", \"Topic5\", \"Topic5\", \"Topic5\", \"Topic5\", \"Topic5\", \"Topic5\", \"Topic5\", \"Topic5\", \"Topic5\", \"Topic5\", \"Topic5\", \"Topic5\", \"Topic5\", \"Topic5\", \"Topic5\", \"Topic5\", \"Topic5\", \"Topic5\", \"Topic5\", \"Topic5\", \"Topic5\", \"Topic5\", \"Topic5\", \"Topic5\", \"Topic5\", \"Topic5\", \"Topic5\", \"Topic5\", \"Topic5\", \"Topic5\", \"Topic5\", \"Topic5\", \"Topic5\", \"Topic5\", \"Topic5\", \"Topic5\", \"Topic5\", \"Topic5\", \"Topic5\", \"Topic5\", \"Topic5\", \"Topic5\", \"Topic5\", \"Topic5\", \"Topic5\", \"Topic5\", \"Topic5\", \"Topic5\", \"Topic6\", \"Topic6\", \"Topic6\", \"Topic6\", \"Topic6\", \"Topic6\", \"Topic6\", \"Topic6\", \"Topic6\", \"Topic6\", \"Topic6\", \"Topic6\", \"Topic6\", \"Topic6\", \"Topic6\", \"Topic6\", \"Topic6\", \"Topic6\", \"Topic6\", \"Topic6\", \"Topic6\", \"Topic6\", \"Topic6\", \"Topic6\", \"Topic6\", \"Topic6\", \"Topic6\", \"Topic6\", \"Topic6\", \"Topic6\", \"Topic6\", \"Topic6\", \"Topic6\", \"Topic6\", \"Topic6\", \"Topic6\", \"Topic6\", \"Topic6\", \"Topic6\", \"Topic6\", \"Topic6\", \"Topic6\", \"Topic6\", \"Topic6\", \"Topic6\", \"Topic6\", \"Topic6\", \"Topic6\", \"Topic6\", \"Topic6\", \"Topic6\", \"Topic6\", \"Topic6\", \"Topic6\", \"Topic6\", \"Topic6\", \"Topic6\", \"Topic6\", \"Topic7\", \"Topic7\", \"Topic7\", \"Topic7\", \"Topic7\", \"Topic7\", \"Topic7\", \"Topic7\", \"Topic7\", \"Topic7\", \"Topic7\", \"Topic7\", \"Topic7\", \"Topic7\", \"Topic7\", \"Topic7\", \"Topic7\", \"Topic7\", \"Topic7\", \"Topic7\", \"Topic7\", \"Topic7\", \"Topic7\", \"Topic7\", \"Topic7\", \"Topic7\", \"Topic7\", \"Topic7\", \"Topic7\", \"Topic7\", \"Topic7\", \"Topic7\", \"Topic7\", \"Topic7\", \"Topic7\", \"Topic7\", \"Topic7\", \"Topic7\", \"Topic7\", \"Topic7\", \"Topic7\", \"Topic7\", \"Topic7\", \"Topic7\", \"Topic7\", \"Topic7\", \"Topic7\", \"Topic7\", \"Topic7\", \"Topic7\", \"Topic7\", \"Topic7\", \"Topic7\", \"Topic7\", \"Topic7\", \"Topic7\", \"Topic7\", \"Topic7\", \"Topic7\", \"Topic8\", \"Topic8\", \"Topic8\", \"Topic8\", \"Topic8\", \"Topic8\", \"Topic8\", \"Topic8\", \"Topic8\", \"Topic8\", \"Topic8\", \"Topic8\", \"Topic8\", \"Topic8\", \"Topic8\", \"Topic8\", \"Topic8\", \"Topic8\", \"Topic8\", \"Topic8\", \"Topic8\", \"Topic8\", \"Topic8\", \"Topic8\", \"Topic8\", \"Topic8\", \"Topic8\", \"Topic8\", \"Topic8\", \"Topic8\", \"Topic8\", \"Topic8\", \"Topic8\", \"Topic8\", \"Topic8\", \"Topic8\", \"Topic8\", \"Topic8\", \"Topic8\", \"Topic8\", \"Topic8\", \"Topic8\", \"Topic8\", \"Topic8\", \"Topic8\", \"Topic8\", \"Topic8\", \"Topic8\", \"Topic8\", \"Topic8\", \"Topic8\", \"Topic8\", \"Topic8\", \"Topic8\", \"Topic8\", \"Topic8\", \"Topic8\", \"Topic8\", \"Topic8\", \"Topic8\", \"Topic8\", \"Topic9\", \"Topic9\", \"Topic9\", \"Topic9\", \"Topic9\", \"Topic9\", \"Topic9\", \"Topic9\", \"Topic9\", \"Topic9\", \"Topic9\", \"Topic9\", \"Topic9\", \"Topic9\", \"Topic9\", \"Topic9\", \"Topic9\", \"Topic9\", \"Topic9\", \"Topic9\", \"Topic9\", \"Topic9\", \"Topic9\", \"Topic9\", \"Topic9\", \"Topic9\", \"Topic9\", \"Topic9\", \"Topic9\", \"Topic9\", \"Topic9\", \"Topic9\", \"Topic9\", \"Topic9\", \"Topic9\", \"Topic9\", \"Topic9\", \"Topic9\", \"Topic9\", \"Topic9\", \"Topic9\", \"Topic9\", \"Topic9\", \"Topic9\", \"Topic9\", \"Topic9\", \"Topic9\", \"Topic9\", \"Topic9\", \"Topic9\", \"Topic9\", \"Topic9\", \"Topic9\", \"Topic9\", \"Topic9\", \"Topic9\", \"Topic9\", \"Topic9\", \"Topic9\", \"Topic9\", \"Topic9\", \"Topic9\", \"Topic10\", \"Topic10\", \"Topic10\", \"Topic10\", \"Topic10\", \"Topic10\", \"Topic10\", \"Topic10\", \"Topic10\", \"Topic10\", \"Topic10\", \"Topic10\", \"Topic10\", \"Topic10\", \"Topic10\", \"Topic10\", \"Topic10\", \"Topic10\", \"Topic10\", \"Topic10\", \"Topic10\", \"Topic10\", \"Topic10\", \"Topic10\", \"Topic10\", \"Topic10\", \"Topic10\", \"Topic10\", \"Topic10\", \"Topic10\", \"Topic10\", \"Topic10\", \"Topic10\", \"Topic10\", \"Topic10\", \"Topic10\", \"Topic10\", \"Topic10\", \"Topic10\", \"Topic10\", \"Topic10\", \"Topic10\", \"Topic10\", \"Topic10\", \"Topic10\", \"Topic10\", \"Topic10\", \"Topic10\", \"Topic10\", \"Topic10\", \"Topic10\", \"Topic10\", \"Topic10\", \"Topic10\", \"Topic10\", \"Topic10\", \"Topic10\", \"Topic10\", \"Topic10\", \"Topic10\", \"Topic10\", \"Topic10\"], \"logprob\": [30.0, 29.0, 28.0, 27.0, 26.0, 25.0, 24.0, 23.0, 22.0, 21.0, 20.0, 19.0, 18.0, 17.0, 16.0, 15.0, 14.0, 13.0, 12.0, 11.0, 10.0, 9.0, 8.0, 7.0, 6.0, 5.0, 4.0, 3.0, 2.0, 1.0, -5.1381, -6.1847, -6.2773, -6.3887, -6.4744, -6.4974, -6.5222, -6.6326, -6.6095, -6.7689, -5.4848, -4.0874, -6.8504, -5.3543, -7.0393, -7.1267, -7.2165, -3.5694, -7.3288, -7.348, -7.3775, -7.3852, -6.9928, -7.4487, -7.4633, -7.4798, -7.5018, -7.5223, -7.574, -7.5848, -6.2895, -5.7369, -6.9114, -6.289, -7.1443, -6.896, -5.7183, -6.4101, -5.7087, -4.0585, -6.4149, -4.5219, -6.5723, -6.0567, -4.4162, -4.2912, -5.0604, -3.2019, -4.6907, -6.0227, -3.9856, -4.329, -5.5927, -4.595, -5.9414, -4.5787, -5.2829, -4.9187, -5.0283, -4.4111, -4.9696, -5.914, -5.5828, -5.1729, -4.9172, -5.4802, -5.2184, -5.091, -5.2257, -5.1686, -5.354, -5.0419, -5.4088, -4.4261, -4.5273, -2.6382, -5.4936, -5.8944, -6.0861, -5.3769, -6.6323, -5.9885, -6.7909, -6.7481, -6.7907, -6.8627, -7.0267, -6.7009, -6.3277, -7.1307, -7.164, -6.737, -7.3502, -7.3267, -6.6508, -6.1579, -7.5652, -7.5898, -7.7197, -7.7282, -7.7358, -7.7433, -7.7783, -3.2123, -6.0662, -6.024, -3.9037, -1.3994, -5.8133, -7.118, -4.7462, -5.0777, -6.0686, -3.8825, -6.6634, -4.5091, -5.7982, -4.7011, -4.2082, -4.8702, -5.9994, -5.3335, -5.1385, -4.8775, -4.6456, -5.182, -5.2069, -4.9889, -5.0979, -5.4355, -5.3738, -5.2254, -5.3469, -5.31, -5.4149, -5.4662, -3.9312, -4.72, -4.7908, -4.4297, -5.1291, -5.3659, -5.4907, -5.6539, -5.7617, -6.0353, -6.0713, -3.3454, -5.8954, -6.2482, -6.1684, -6.5705, -4.2054, -6.8183, -6.1463, -6.0959, -6.8735, -6.8942, -6.8673, -6.8673, -6.8673, -6.9609, -6.9659, -6.9245, -6.9925, -6.9598, -6.4244, -4.827, -6.6827, -4.7341, -6.3498, -4.6663, -3.4608, -5.3272, -5.77, -6.7533, -5.0143, -5.8213, -5.6568, -5.7538, -3.517, -4.4128, -5.3083, -5.1318, -5.6043, -4.4408, -4.0969, -5.3032, -5.0857, -4.8021, -4.8671, -4.9094, -5.2422, -5.3619, -5.302, -5.2745, -5.1046, -5.2048, -5.3294, -4.7033, -5.5415, -5.6444, -5.7188, -5.7872, -5.4555, -5.9422, -5.3263, -5.8424, -6.6196, -6.8052, -6.8179, -6.8431, -6.9301, -5.5634, -6.9779, -6.9969, -7.0372, -7.0034, -5.9984, -7.0982, -7.2249, -6.9827, -7.2657, -7.4479, -7.4738, -7.4549, -7.4642, -6.6114, -7.5298, -4.367, -4.6773, -2.8279, -5.4541, -5.7106, -4.9047, -5.4649, -4.2667, -6.3836, -3.4039, -6.1219, -5.0397, -5.3105, -6.4106, -4.8408, -5.0793, -3.8156, -4.28, -5.5083, -5.2722, -5.9476, -5.5378, -4.7529, -3.9683, -4.0824, -5.3706, -4.8176, -4.8707, -4.8147, -4.7562, -5.3101, -5.0354, -5.4547, -5.4242, -5.4642, -4.1251, -4.9922, -5.3696, -5.7213, -6.434, -6.7484, -6.7339, -4.5082, -6.8456, -7.0629, -5.4249, -7.0938, -7.1649, -1.8604, -7.3131, -7.3428, -7.1941, -7.1839, -7.4122, -7.4487, -7.4885, -7.5092, -7.5282, -7.5284, -7.5362, -7.5221, -7.562, -7.4895, -7.6054, -7.6226, -7.2763, -7.3456, -3.8894, -5.1378, -6.5938, -3.0248, -5.9884, -5.41, -6.5333, -6.5897, -6.7227, -6.5387, -4.3309, -3.6056, -5.5711, -6.2142, -5.7679, -4.1337, -5.8175, -4.4272, -3.6597, -5.6481, -3.7837, -5.0991, -5.6203, -4.3317, -5.4821, -5.7761, -4.25, -5.0574, -5.0895, -4.3577, -4.1999, -4.7889, -5.0572, -5.0978, -5.3675, -5.3785, -5.4531, -5.4684, -1.5121, -4.129, -4.3912, -4.4001, -5.0365, -5.0382, -5.4075, -5.3614, -5.6789, -5.7773, -5.8925, -6.5582, -6.198, -6.8247, -6.3572, -6.1737, -7.0881, -7.0997, -7.1563, -7.1827, -6.8008, -7.2272, -7.2375, -7.2386, -6.7496, -7.2958, -7.0623, -7.3704, -7.4085, -7.3995, -3.6657, -4.9877, -5.2213, -6.0704, -4.4771, -3.4916, -5.1862, -4.8422, -2.7986, -5.3811, -6.2988, -5.6468, -2.9492, -5.4335, -4.9239, -3.5786, -5.5596, -4.3002, -5.623, -5.0715, -4.366, -4.292, -4.5049, -4.3552, -5.0562, -5.0669, -5.16, -5.0393, -3.8314, -4.0037, -4.6422, -3.7773, -5.2181, -5.3249, -5.3321, -5.6342, -4.8114, -5.4429, -6.2461, -6.3662, -6.4397, -6.4637, -6.6089, -6.6308, -6.6424, -6.6787, -6.4978, -6.8556, -6.8774, -6.877, -6.9325, -6.962, -6.7784, -7.039, -7.0544, -7.0819, -7.1232, -7.1295, -6.4264, -3.41, -4.2942, -4.8982, -6.5218, -5.1359, -6.5931, -4.1302, -4.8198, -3.2842, -5.3516, -5.2891, -2.9908, -5.5142, -4.891, -4.3176, -4.6018, -3.8451, -4.9433, -5.2995, -5.9065, -4.3406, -4.9197, -3.9848, -4.9672, -4.6851, -5.1735, -5.0031, -4.9263, -5.1171, -5.053, -5.4657, -5.5621, -5.6281, -5.7521, -5.8525, -5.9614, -2.3731, -6.0443, -6.0885, -5.9153, -6.361, -5.2554, -5.5424, -6.4901, -6.5064, -6.5143, -4.7962, -6.5427, -6.6156, -6.6329, -6.6808, -6.6994, -6.7363, -6.7788, -6.8017, -6.843, -6.9203, -7.03, -4.4161, -6.0898, -4.2164, -4.0052, -5.6267, -3.2985, -3.7607, -5.9385, -5.334, -5.4579, -4.207, -5.3401, -6.0938, -5.342, -5.6593, -5.6531, -3.669, -4.203, -4.9507, -4.7116, -3.8853, -4.8051, -4.6619, -5.1855, -5.3231, -5.5488, -5.1642, -5.1511, -5.3828, -5.4063, -5.4943, -3.0615, -3.7154, -4.2414, -4.9066, -5.4508, -5.6336, -5.8299, -5.9553, -5.9725, -6.1514, -6.2519, -3.8039, -6.3301, -6.4265, -6.5432, -6.5985, -6.6711, -6.5619, -6.6758, -6.7911, -6.516, -6.8335, -6.8963, -6.9029, -6.9378, -6.9313, -7.0011, -6.9461, -7.0192, -5.903, -4.9275, -3.0867, -6.0602, -3.9537, -5.8961, -3.3839, -5.2596, -5.8205, -4.7824, -4.602, -5.7635, -3.9618, -5.0848, -5.1841, -4.4642, -5.7941, -4.6721, -4.2557, -5.4485, -5.2178, -4.5931, -5.1845, -5.3995, -5.2499, -5.163, -5.5712, -4.8523, -4.9477, -4.8847, -5.1419, -5.282, -5.4417, -3.3675, -4.5773, -4.1842, -5.3633, -6.0058, -2.4679, -3.9434, -6.3527, -6.3665, -6.4503, -6.4631, -6.5632, -6.6068, -6.6622, -6.6945, -6.7611, -6.7765, -6.7813, -6.8686, -6.8803, -6.9049, -6.6557, -6.764, -7.0454, -7.066, -6.3627, -7.1532, -7.209, -7.2259, -6.8096, -5.2332, -5.8154, -5.3472, -6.5177, -4.5443, -4.8176, -5.4556, -5.9129, -4.4289, -3.8726, -4.5357, -6.5246, -4.8028, -3.6181, -4.257, -5.7219, -5.6374, -4.359, -4.5521, -6.2036, -5.297, -5.777, -5.2221, -5.3949, -5.2073, -4.6854, -4.6996, -4.8349, -5.5469, -5.0914, -5.3926, -5.5285], \"loglift\": [30.0, 29.0, 28.0, 27.0, 26.0, 25.0, 24.0, 23.0, 22.0, 21.0, 20.0, 19.0, 18.0, 17.0, 16.0, 15.0, 14.0, 13.0, 12.0, 11.0, 10.0, 9.0, 8.0, 7.0, 6.0, 5.0, 4.0, 3.0, 2.0, 1.0, 1.8993, 1.8972, 1.8966, 1.8965, 1.8961, 1.896, 1.8959, 1.8954, 1.8947, 1.8947, 1.8944, 1.8944, 1.8942, 1.8933, 1.8929, 1.8922, 1.8915, 1.8905, 1.8904, 1.8902, 1.8899, 1.8898, 1.8894, 1.8891, 1.889, 1.8888, 1.8885, 1.8883, 1.8876, 1.8875, 1.8825, 1.8752, 1.8867, 1.8736, 1.8846, 1.8792, 1.8519, 1.8622, 1.8297, 1.6997, 1.8411, 1.6611, 1.8383, 1.7798, 1.5411, 1.4994, 1.6089, 1.1547, 1.4154, 1.7113, 1.2009, 1.281, 1.5478, 1.0791, 1.6398, 0.9015, 1.2051, 0.9745, 0.8287, 0.3114, 0.7645, 1.5182, 1.1579, 0.6406, 0.3071, 1.0023, 0.6056, -0.0273, 0.2281, -0.088, -0.0381, -1.8424, -0.5504, 1.9138, 1.9137, 1.913, 1.9126, 1.9118, 1.9112, 1.9111, 1.9089, 1.9087, 1.9081, 1.9081, 1.9079, 1.9074, 1.9064, 1.9063, 1.9061, 1.9055, 1.9052, 1.9038, 1.9034, 1.9028, 1.9014, 1.9009, 1.9005, 1.9, 1.8985, 1.8984, 1.8982, 1.8978, 1.8974, 1.8927, 1.8974, 1.8962, 1.8688, 1.8001, 1.8791, 1.8783, 1.7467, 1.7338, 1.8052, 1.5271, 1.8442, 1.3997, 1.6042, 1.0338, 0.6502, 0.9433, 1.3882, 0.8771, 0.7185, 0.4798, -0.0087, 0.4921, 0.2716, -0.1165, -0.0173, 0.5765, 0.3604, -0.0012, 0.263, -0.2162, -0.2285, -0.4026, 2.2904, 2.2902, 2.2901, 2.2899, 2.2897, 2.2892, 2.2889, 2.2885, 2.2881, 2.2872, 2.2871, 2.287, 2.2866, 2.2863, 2.2856, 2.2843, 2.2826, 2.2824, 2.2819, 2.2819, 2.2819, 2.2816, 2.2815, 2.2815, 2.2815, 2.281, 2.281, 2.281, 2.2807, 2.279, 2.2687, 2.2267, 2.2729, 2.1852, 2.2324, 2.0276, 1.8668, 2.0699, 2.1096, 2.2627, 1.9191, 2.0815, 2.025, 2.0473, 1.3555, 1.474, 1.7618, 1.6212, 1.8575, 0.6398, 0.2598, 1.5011, 1.1913, 0.5138, 0.6114, 0.3149, 0.8594, 1.1353, 0.9356, 0.6657, -0.3821, -0.3464, 0.8164, 2.3147, 2.3135, 2.3132, 2.313, 2.3128, 2.3126, 2.3122, 2.3113, 2.3105, 2.3085, 2.307, 2.3069, 2.3066, 2.3058, 2.3057, 2.3053, 2.3051, 2.3046, 2.3039, 2.3038, 2.3027, 2.3023, 2.3014, 2.3003, 2.2989, 2.2984, 2.298, 2.298, 2.2975, 2.2974, 2.2882, 2.291, 2.2232, 2.2767, 2.2685, 2.1749, 2.203, 2.1061, 2.2506, 1.9534, 2.217, 2.074, 2.0753, 2.2265, 1.9496, 1.9769, 1.7184, 1.8111, 2.0413, 1.9606, 2.1363, 2.0048, 1.6673, 0.9042, 0.9813, 1.7516, 0.8879, 0.9534, 0.6638, 0.4303, 1.5508, 0.2433, 1.7606, 1.2061, -0.3836, 2.3543, 2.3534, 2.3526, 2.3479, 2.3468, 2.3457, 2.3454, 2.3451, 2.3448, 2.3423, 2.3419, 2.3419, 2.3409, 2.339, 2.3387, 2.3382, 2.3382, 2.3372, 2.3367, 2.3364, 2.3356, 2.3352, 2.3348, 2.3348, 2.3347, 2.3346, 2.3342, 2.3334, 2.3332, 2.3328, 2.3325, 2.3309, 2.2938, 2.2905, 2.3158, 2.2391, 2.2606, 2.2021, 2.2716, 2.2746, 2.2816, 2.2553, 1.9776, 1.8423, 2.1042, 2.1696, 2.0959, 1.7049, 2.0163, 1.6514, 1.434, 1.9629, 1.28, 1.6242, 1.775, 0.9841, 1.6458, 1.7481, 0.568, 1.1386, 1.1196, 0.2793, -1.0003, 0.0696, 0.5245, -0.7412, 0.4895, 0.3557, 0.2817, 0.2372, 2.4163, 2.4159, 2.4157, 2.4157, 2.4147, 2.4147, 2.414, 2.414, 2.4131, 2.4127, 2.4124, 2.4084, 2.4064, 2.4059, 2.4053, 2.405, 2.4027, 2.4025, 2.4017, 2.4013, 2.401, 2.4006, 2.4005, 2.4005, 2.4001, 2.3995, 2.3991, 2.3982, 2.3975, 2.3974, 2.3815, 2.3929, 2.3943, 2.3828, 2.3302, 2.173, 2.281, 2.2007, 2.0195, 2.2035, 2.3102, 2.2245, 1.6878, 2.1254, 1.9831, 1.5151, 2.0532, 1.5384, 2.0706, 1.7444, 1.2157, 1.1176, 1.105, 0.0014, 1.0454, -0.1944, -0.3015, -1.8397, 2.479, 2.4789, 2.4783, 2.4775, 2.4773, 2.4771, 2.4771, 2.4762, 2.4741, 2.474, 2.4734, 2.4727, 2.4721, 2.472, 2.4708, 2.4706, 2.4705, 2.4702, 2.4699, 2.4684, 2.468, 2.4675, 2.4675, 2.4671, 2.4669, 2.4661, 2.4659, 2.4656, 2.465, 2.4649, 2.4526, 2.3687, 2.3858, 2.4041, 2.4501, 2.3439, 2.4392, 2.1534, 2.2078, 1.9946, 2.2625, 2.2382, 1.7317, 2.2215, 2.0644, 1.9076, 1.9776, 1.7366, 2.0308, 2.0433, 2.2597, 1.5681, 1.6007, 0.6522, 1.2989, 0.6307, 1.2245, 0.2212, -1.7268, 2.4802, 2.4801, 2.4793, 2.4791, 2.4789, 2.4784, 2.478, 2.4775, 2.4772, 2.4771, 2.4768, 2.4767, 2.4752, 2.475, 2.4745, 2.4743, 2.4742, 2.4741, 2.474, 2.4739, 2.4732, 2.4731, 2.4726, 2.4724, 2.4721, 2.4716, 2.4713, 2.4709, 2.47, 2.4686, 2.4512, 2.4668, 2.4341, 2.3598, 2.4164, 2.2119, 2.2301, 2.4028, 2.3353, 2.3268, 2.0591, 2.2542, 2.3814, 2.2008, 2.2008, 2.1783, 1.1894, 1.245, 1.6861, 1.4251, 0.4713, 0.6751, 0.0607, 1.0915, 1.2349, 1.8412, 0.0601, -0.0705, 0.8548, -0.0905, 0.0397, 2.5373, 2.5371, 2.5362, 2.5359, 2.5347, 2.5341, 2.5333, 2.5327, 2.5327, 2.5317, 2.5311, 2.5306, 2.5305, 2.5298, 2.5289, 2.5284, 2.5277, 2.5273, 2.5271, 2.5264, 2.5263, 2.5259, 2.5252, 2.525, 2.5247, 2.5246, 2.5238, 2.5237, 2.5236, 2.5226, 2.5057, 2.4797, 2.5042, 2.4328, 2.4836, 2.3155, 2.4046, 2.3758, 2.2084, 2.1717, 2.2832, 1.7438, 2.0173, 2.0369, 1.7464, 2.2184, 1.2681, 0.8249, 1.844, 1.6083, 0.8854, 1.3949, 1.7011, 1.424, 1.2083, 1.8003, 0.0202, 0.116, -0.528, -0.2835, 0.1982, -2.2422, 2.6203, 2.6194, 2.619, 2.6178, 2.6152, 2.615, 2.6134, 2.6129, 2.6128, 2.6121, 2.612, 2.6111, 2.6107, 2.6099, 2.6098, 2.609, 2.6089, 2.6088, 2.6077, 2.6076, 2.6072, 2.6067, 2.6062, 2.605, 2.6048, 2.6044, 2.6035, 2.6025, 2.6022, 2.602, 2.589, 2.5911, 2.5773, 2.5929, 2.5096, 2.4944, 2.4993, 2.5138, 2.348, 2.2632, 2.3385, 2.5623, 2.1699, 1.8357, 1.9918, 2.3343, 2.2983, 1.8668, 1.8512, 2.4382, 1.8406, 2.1169, 1.6722, 1.6979, 1.5039, 0.8486, 0.5247, 0.6755, 1.6118, -0.0108, 0.6194, 1.1803]}, \"token.table\": {\"Topic\": [1, 2, 3, 4, 5, 10, 5, 4, 7, 8, 10, 1, 2, 4, 5, 7, 8, 1, 2, 3, 4, 5, 6, 7, 9, 1, 2, 1, 2, 4, 5, 6, 10, 8, 9, 10, 3, 1, 1, 3, 4, 5, 6, 7, 9, 10, 1, 2, 4, 5, 10, 10, 3, 6, 1, 2, 3, 4, 5, 6, 7, 8, 10, 1, 2, 4, 7, 10, 1, 8, 8, 1, 4, 8, 9, 10, 1, 2, 3, 4, 5, 6, 7, 8, 9, 10, 8, 2, 5, 6, 7, 9, 1, 1, 3, 7, 1, 2, 3, 4, 5, 6, 7, 8, 9, 10, 1, 1, 2, 3, 4, 5, 6, 7, 8, 9, 10, 8, 4, 9, 1, 3, 5, 6, 9, 1, 2, 3, 5, 7, 7, 3, 4, 9, 1, 2, 4, 5, 8, 9, 10, 1, 5, 3, 8, 9, 10, 1, 8, 1, 2, 3, 5, 6, 7, 8, 9, 10, 9, 1, 4, 6, 10, 2, 9, 2, 4, 6, 8, 3, 6, 1, 2, 3, 4, 5, 6, 7, 8, 9, 10, 1, 2, 3, 4, 5, 6, 7, 8, 9, 10, 1, 2, 5, 10, 8, 1, 2, 3, 5, 6, 7, 8, 10, 1, 2, 6, 7, 8, 9, 10, 5, 3, 5, 5, 2, 3, 2, 3, 4, 5, 6, 8, 9, 10, 2, 10, 1, 2, 3, 4, 5, 6, 7, 8, 9, 10, 7, 1, 2, 3, 4, 5, 6, 7, 8, 9, 10, 3, 1, 2, 1, 2, 4, 6, 7, 8, 9, 10, 4, 3, 5, 5, 6, 10, 2, 4, 6, 9, 1, 8, 9, 10, 4, 4, 7, 1, 2, 6, 9, 7, 9, 3, 5, 1, 2, 3, 4, 5, 6, 7, 8, 1, 2, 6, 8, 1, 2, 3, 4, 5, 6, 7, 8, 9, 10, 1, 5, 1, 10, 8, 10, 9, 1, 3, 7, 1, 2, 3, 4, 6, 7, 8, 9, 10, 1, 2, 3, 5, 2, 6, 5, 2, 3, 5, 6, 7, 8, 10, 6, 2, 1, 2, 5, 10, 6, 8, 1, 2, 3, 4, 7, 9, 6, 3, 4, 1, 2, 3, 5, 6, 9, 8, 8, 1, 4, 10, 1, 2, 3, 4, 5, 6, 7, 8, 9, 10, 4, 2, 6, 1, 5, 6, 7, 9, 6, 1, 2, 3, 4, 7, 8, 9, 10, 1, 2, 3, 4, 5, 6, 7, 8, 9, 10, 2, 3, 4, 5, 10, 1, 2, 6, 2, 10, 3, 2, 3, 4, 6, 7, 8, 2, 10, 1, 2, 4, 5, 6, 3, 6, 3, 7, 10, 6, 7, 1, 2, 3, 4, 5, 6, 7, 8, 9, 10, 7, 2, 3, 6, 7, 5, 1, 2, 3, 4, 5, 6, 7, 8, 10, 5, 1, 2, 3, 4, 6, 7, 9, 10, 2, 3, 4, 6, 8, 3, 6, 7, 8, 6, 2, 1, 2, 3, 4, 5, 6, 7, 8, 9, 10, 2, 2, 3, 4, 6, 1, 2, 3, 4, 5, 6, 7, 8, 9, 5, 10, 4, 10, 9, 10, 4, 7, 2, 3, 4, 10, 2, 9, 2, 7, 10, 3, 7, 8, 10, 2, 8, 5, 10, 7, 1, 2, 3, 4, 5, 6, 7, 8, 9, 10, 1, 2, 5, 6, 7, 8, 9, 10, 3, 8, 9, 7, 7, 1, 2, 3, 4, 5, 7, 8, 9, 10, 4, 8, 8, 1, 2, 3, 4, 6, 7, 9, 10, 1, 2, 3, 5, 1, 2, 3, 4, 6, 7, 8, 9, 10, 2, 6, 7, 8, 9, 10, 2, 8, 1, 2, 3, 4, 5, 6, 7, 8, 9, 10, 2, 3, 5, 10, 1, 2, 3, 4, 6, 9, 10, 2, 1, 2, 3, 4, 5, 6, 7, 8, 9, 10, 6, 2, 7, 4, 1, 2, 3, 4, 5, 7, 8, 9, 10, 9, 7, 1, 10, 2, 9, 1, 2, 3, 4, 5, 6, 7, 8, 9, 10, 1, 2, 3, 4, 5, 6, 7, 8, 9, 10, 1, 2, 3, 4, 5, 6, 7, 8, 9, 10, 6, 7, 10, 1, 5, 6, 8, 1, 2, 3, 4, 5, 6, 7, 8, 9, 10, 8, 7, 10, 6, 4, 7, 9, 1, 2, 3, 4, 5, 6, 7, 8, 9, 10, 3, 6, 8, 2, 1, 2, 3, 4, 5, 6, 7, 8, 9, 10, 2, 6, 8, 1, 2, 3, 4, 5, 6, 7, 8, 9, 10, 3, 1, 2, 3, 4, 5, 6, 7, 8, 9, 10, 2, 4, 10, 1, 2, 6, 9, 4, 6, 1, 2, 3, 4, 5, 6, 8, 9, 10, 2, 4, 1, 2, 3, 4, 5, 6, 8, 9, 10, 9, 1, 2, 3, 4, 5, 6, 7, 8, 9, 10, 4, 1, 3, 5, 7, 9, 10, 7, 1, 1, 3, 4, 7, 8, 9, 1, 3, 4, 5, 6, 8, 9, 10, 8, 3, 2, 5, 6, 7, 8, 9, 10, 8, 3, 2, 2, 7, 2, 10, 2, 6, 9, 5, 2, 6, 4, 5, 1, 2, 5, 8, 3, 5, 10, 1, 10, 1, 2, 3, 4, 5, 6, 7, 8, 10, 1, 3, 4, 6, 9, 10, 7, 1, 2, 3, 4, 5, 6, 7, 8, 9, 10, 6, 7, 8, 1, 4, 8, 9, 10, 1, 2, 3, 4, 5, 6, 7, 8, 9, 10, 2, 1, 2, 7, 9, 10, 6, 1, 2, 3, 4, 5, 6, 7, 8, 9, 10, 1, 2, 3, 4, 5, 6, 7, 8, 9, 10, 1, 5, 1, 2, 3, 4, 5, 6, 7, 8, 9, 10, 2, 1, 2, 3, 4, 5, 6, 7, 8, 9, 10, 9, 2, 3, 4, 5, 6, 7, 8, 9, 1, 2, 3, 4, 5, 6, 7, 8, 9, 10, 1, 2, 3, 4, 5, 6, 7, 9, 10, 1, 2, 3, 4, 5, 6, 7, 8, 9, 10, 5, 8, 1, 2, 3, 4, 5, 6, 7, 8, 9, 10, 10, 1, 2, 6, 7, 9, 10, 1, 2, 3, 4, 5, 6, 7, 8, 9, 10, 3, 10, 10, 4, 10, 9, 8, 1, 2, 3, 4, 5, 6, 7, 8, 9, 10, 7, 2, 7, 8, 9, 8, 1, 5, 2, 4, 1, 2, 3, 4, 5, 6, 7, 8, 9, 10, 5, 1, 1, 2, 3, 4, 5, 6, 7, 8, 9, 10, 5, 10, 2, 7, 1, 2, 3, 5, 7, 9, 2, 5, 2, 6, 2, 1, 2, 7, 8, 1, 2, 3, 4, 5, 7, 8, 9, 10, 1, 5, 2, 3, 10, 8, 10, 1, 2, 3, 5, 7, 8, 9, 10, 6, 1, 2, 3, 4, 6, 7, 8, 9, 10, 1, 3, 4, 5, 6, 8, 9, 1, 6, 10, 1, 4, 5, 7, 8, 9, 10, 1, 3, 5, 6, 7, 8, 9, 10, 5, 7, 1, 3, 7, 8, 9, 2, 5, 9, 5, 1, 2, 4, 5, 8, 10, 1, 2, 3, 4, 5, 6, 7, 8, 9, 10, 3, 5, 9, 7, 10, 6, 2, 3, 4, 6, 7, 9, 10, 9, 1, 2, 4, 5, 6, 7, 8, 9, 10, 1, 2, 6, 9, 8, 10, 2, 2, 5, 4, 5, 9, 1, 7, 1, 2, 5, 9, 10, 4, 3, 10, 10, 2, 3, 4, 5, 6, 7, 8, 9, 10, 9, 4, 6, 7, 1, 2, 3, 4, 5, 7, 8, 9, 10, 6, 2, 3, 1, 3, 4, 6, 9, 10, 1, 2, 3, 4, 5, 6, 7, 8, 9, 10, 4, 8, 5, 1, 2, 3, 4, 5, 6, 7, 8, 9, 10, 1, 5, 7, 4, 7, 1, 2, 3, 4, 5, 6, 7, 8, 10, 3, 7, 1, 6, 9, 1, 2, 3, 4, 5, 6, 7, 8, 9, 10, 1, 3, 4, 3, 7, 8, 9, 3, 7, 1, 2, 3, 5, 6, 9, 6, 1, 2, 1, 2, 4, 5, 7, 8, 9, 10, 1, 2, 1, 2, 9, 1, 2, 3, 4, 5, 6, 7, 8, 9, 10, 9, 1, 1, 5, 7, 3, 6, 10, 1, 2, 3, 4, 5, 6, 7, 8, 9, 10, 1, 2, 3, 4, 5, 6, 7, 8, 9, 10, 1, 2, 4, 5, 6, 8, 9, 10, 4, 6, 8, 6, 8, 1, 3, 4, 5, 7, 9, 10, 1, 4, 7, 8, 10, 1, 2, 3, 4, 5, 7, 8, 9, 10, 9, 2, 4, 5, 6, 7, 8, 9, 1, 2, 3, 4, 5, 6, 7, 8, 9, 10, 7, 4, 6, 7, 6, 7, 10, 1, 2, 3, 4, 5, 6, 7, 8, 9, 10, 3, 5, 3, 3, 3, 6, 2, 3, 6, 7, 8, 9, 1, 2, 4, 5, 6, 7, 8, 9, 6, 7, 4, 3, 6, 10, 1, 10, 5, 10, 1, 2, 3, 4, 5, 6, 7, 8, 9, 10, 6, 10, 4, 4, 10, 2, 3, 6, 9, 5, 1, 2, 3, 4, 5, 6, 7, 8, 9, 10, 5, 1, 2, 10, 8, 5, 7, 8, 10, 1, 2, 5, 6, 7, 8, 9, 10, 1, 2, 3, 4, 6, 7, 8, 9, 10, 6, 9, 1, 1, 4, 5, 6, 7, 9, 10, 1, 3, 4, 5, 8, 10, 10, 9, 8, 1, 2, 3, 4, 1, 2, 3, 4, 6, 7, 8, 9, 10, 2, 3, 8, 10, 2, 7, 10, 1, 8, 10, 1, 3, 7, 8, 9, 10, 7, 3, 9, 6, 8, 2, 4, 6, 9, 4, 1, 2, 3, 4, 5, 6, 7, 8, 9, 10, 1, 2, 4, 5, 6, 7, 8, 9, 10, 1, 2, 3, 4, 5, 6, 7, 8, 9, 10, 6, 1, 2, 3, 4, 5, 6, 7, 8, 9, 7, 5, 4, 5, 7, 7, 1, 8, 2, 1, 4, 8, 1, 2, 3, 4, 5, 6, 7, 8, 9, 10, 1, 2, 3, 4, 5, 6, 7, 8, 9, 10, 1, 1, 2, 3, 4, 5, 6, 7, 8, 9, 10, 2, 4, 5, 7, 1, 2, 4, 5, 9, 1, 2, 3, 4, 6, 8, 10, 5, 1, 2, 3, 4, 5, 6, 7, 8, 9, 10, 1, 2, 3, 4, 5, 6, 7, 8, 9, 10, 2, 6, 8, 10, 1, 2, 3, 4, 5, 6, 7, 8, 9, 10, 9, 9, 5, 1, 2, 3, 10, 7, 1, 3, 4, 5, 6, 7, 8, 4, 1, 4, 8, 9, 8, 1, 9, 3, 5, 10, 1, 2, 3, 4, 5, 6, 7, 8, 9, 10, 3, 5, 1, 3, 5, 6, 10, 1, 5, 6, 3, 1, 5, 7, 9, 1, 2, 4, 6, 7, 8, 8, 7, 9, 3, 1, 3, 5, 6, 7, 8, 6, 7, 1, 2, 2, 4, 1, 1, 9, 6, 1, 2, 3, 4, 5, 6, 7, 8, 9, 10, 1, 5, 1, 2, 8, 10, 4, 1, 2, 3, 4, 5, 6, 7, 8, 9, 10, 1, 3, 4, 7, 8, 9, 1, 2, 3, 4, 6, 8, 9, 3, 1, 2, 5, 5, 1, 2, 3, 4, 5, 6, 7, 8, 9, 10, 4, 7, 8, 9, 2, 1, 2, 3, 4, 5, 6, 7, 8, 9, 10, 3, 1, 2, 3, 5, 6, 7, 8, 10, 1, 2, 3, 4, 5, 6, 7, 8, 9, 10, 7, 9, 10, 1, 2, 3, 4, 5, 6, 7, 8, 9, 10, 1, 2, 3, 4, 5, 6, 7, 8, 9, 10, 1, 2, 3, 4, 5, 6, 7, 8, 9, 10, 1, 3, 4, 5, 6, 7, 8, 9, 7, 1, 2, 3, 5, 6, 7, 8, 9, 10, 1, 2, 3, 4, 5, 6, 7, 8, 2, 1], \"Freq\": [0.2352322069901077, 0.28027667215842617, 0.010009881148515221, 0.013346508198020295, 0.0033366270495050736, 0.45878621930694763, 0.9738192717121044, 0.023434340851106475, 0.023434340851106475, 0.011717170425553237, 0.9490908044698122, 0.9315427616196196, 0.017435292329778977, 0.012453780235556412, 0.00996302418844513, 0.007472268141333847, 0.01992604837689026, 0.746787882729316, 0.0041778343089751944, 0.17233566524522675, 0.005222292886218992, 0.029244840162826358, 0.012533502926925582, 0.027155923008338762, 0.0010444585772437986, 0.044304409150995004, 0.9555268242854018, 0.1320236446203185, 0.024280210504886157, 0.007587565782776924, 0.027315236817996927, 0.8057994861309093, 0.9982988197369785, 0.9861362138814591, 0.8755926562435734, 0.12145317489830212, 0.9955914795785001, 0.9975087764338809, 0.1850252140807711, 0.21404877707383324, 0.0024186302494218445, 0.02539561761892937, 0.5103309826280092, 0.0108838361223983, 0.03748876886603859, 0.013302466371820145, 0.0015740939386886337, 0.0031481878773772674, 0.8688998541561258, 0.0015740939386886337, 0.12435342115640206, 0.984412083579317, 0.9967735028006935, 0.9730038128657609, 0.043058333644681805, 0.015377976301672074, 0.11225922700220614, 0.712000302767417, 0.05382291705585226, 0.0015377976301672073, 0.0015377976301672073, 0.03844494075418019, 0.02306696445250811, 0.022680513627767167, 0.06520647667983061, 0.8930452240933322, 0.01984544942429627, 0.9837354540407787, 0.9925358801841666, 0.005586505892218574, 0.9964828022239007, 0.002816760294485302, 0.9745990618919146, 0.015492181619669162, 0.001408380147242651, 0.004225140441727953, 0.14381651509586973, 0.09497826137663441, 0.16918002807713006, 0.04020386632135946, 0.2539049544187869, 0.015110177946282749, 0.15730774540505074, 0.0763603635499646, 0.01726877479575171, 0.03183930352966722, 0.994992820039818, 0.002908619034811956, 0.03781204745255543, 0.7067944254593054, 0.005817238069623912, 0.2472326179590163, 0.9938424240240905, 0.0006899696754183696, 0.0006899696754183696, 0.9976961506549624, 0.0067497932315431835, 0.23821145279654485, 0.010968414001257674, 0.6957911856182432, 0.014624552001676897, 0.0019686896925334286, 0.007593517385486082, 0.0008437241539428979, 0.014343310617029264, 0.008718482924076612, 0.9990611722691662, 0.14265620683981345, 0.03256282982213133, 0.10156501682617153, 0.04496771737341946, 0.18142148043758885, 0.07365401983577324, 0.03178752435017582, 0.01473080396715465, 0.2643791659368282, 0.11164398796159314, 0.9935126783641139, 0.9879605442709206, 0.9944543671526226, 0.0008711759719155811, 0.9913982560399313, 0.0052270558314934865, 0.0008711759719155811, 0.0008711759719155811, 0.384710978203015, 0.10361842965926478, 0.02866041671426473, 0.4817154655436033, 0.0022046474395588252, 0.9848603249352638, 0.9993436814176433, 0.046216476259864976, 0.9474377633272321, 0.029299474601859624, 0.13818265724390552, 0.018213186914669496, 0.001583755383884304, 0.007126899227479368, 0.8009842853994867, 0.005543143843595064, 0.08742252181369932, 0.909194226862473, 0.9820965248505866, 0.1556379219743618, 0.11487560907631465, 0.7226046377381083, 0.9939000588472233, 0.9851553969930172, 0.499218581878394, 0.16640619395946465, 0.16030753763634292, 0.02700833514525343, 0.021780915439720504, 0.009583602793477022, 0.026137098527664607, 0.018295968969365226, 0.07144140264228326, 0.997934450188081, 0.015015865918188973, 0.09009519550913384, 0.06006346367275589, 0.833380558459488, 0.012096609602510439, 0.9858736826046007, 0.006355742188452706, 0.019067226565358118, 0.06991316407297976, 0.9025153907602843, 0.0070484623643537045, 0.9867847310095187, 0.01312125611897452, 0.06544226489338542, 0.0011481099104102706, 0.014761413133846336, 0.16746003121841233, 0.6723003603959571, 0.0077087379698975314, 0.03411526590933375, 0.019025821372513057, 0.005084486746102627, 0.003923753560133841, 0.009155424973645628, 0.17264515664588898, 0.04054545345471635, 0.037929617747960456, 0.0640879748155194, 0.026158357067558934, 0.12686803177766084, 0.13340762104455056, 0.38714368459987225, 0.9718052847687045, 0.004649786051524902, 0.013949358154574707, 0.004649786051524902, 0.9986246593463752, 0.024298856060299547, 0.6788863321237348, 0.005630222745679163, 0.005037567719818199, 0.2729176394089742, 0.0017779650775828937, 0.010964117978427845, 0.0008889825387914469, 0.0012731406220112755, 0.0012731406220112755, 0.0012731406220112755, 0.0063657031100563775, 0.9688600133505807, 0.0012731406220112755, 0.019097109330169133, 0.987560634398938, 0.9983380861139123, 0.0010982817228975933, 0.9773976865303782, 0.9965587105395713, 0.001938830176147026, 0.003338394322320086, 0.08345985805800216, 0.003338394322320086, 0.11016701263656284, 0.01001518296696026, 0.7377851452327391, 0.04006073186784104, 0.01001518296696026, 0.9947862799425531, 0.003565542222016319, 0.24533710081444984, 0.06419214465754422, 0.3148053121561758, 0.05012263349972631, 0.14245380047290637, 0.058916077973362506, 0.08089968915745299, 0.006155411131545337, 0.021104266736726867, 0.016707544499908772, 0.986710221951712, 0.10993538085777041, 0.08312187333148495, 0.023461819085499783, 0.005362701505257093, 0.17227678585638412, 0.0328465467196997, 0.045582962794685294, 0.024802494461814057, 0.0328465467196997, 0.4705770570863099, 0.999257783190582, 0.9831480560121375, 0.008778107642965513, 0.07083377612616223, 0.26298057113506207, 0.5227044169309902, 0.00814181334783474, 0.0032567253391338957, 0.024425440043504217, 0.011398538686968634, 0.09525921616966644, 0.9990941935792386, 0.008787338943660013, 0.9904586323639644, 0.91242861840634, 0.06082857456042267, 0.030414287280211335, 0.17737195270746903, 0.010433644276909942, 0.8086074314605205, 0.0026084110692274854, 0.11338034879589483, 0.7558689919726321, 0.12025188508655511, 0.01030730443599044, 0.9826301550645375, 0.19343087359210281, 0.8059619733004283, 0.015241901348832328, 0.9831026369996851, 0.2721003314186152, 0.7282685340909996, 0.21944913434357158, 0.774282794759394, 0.9861338152377308, 0.9981500625269422, 0.004618872132372923, 0.09145366822098387, 0.002463398470598892, 0.0018475488529491693, 0.5989137531643557, 0.005542646558847507, 0.005542646558847507, 0.29006516991301956, 0.5384125015627016, 0.1919022366027114, 0.2693872906272024, 0.9984619170051443, 0.28359279648526725, 0.37856753584027064, 0.08743001706979288, 0.034173153880071326, 0.06124539266817978, 0.013758022990678066, 0.05148163441673083, 0.028847467561099172, 0.013314215797430386, 0.04748736967750171, 0.9961583023243992, 0.9675810468221937, 0.9899666626237107, 0.996343913743007, 0.010394320418309547, 0.9874604397394069, 0.9954417978740059, 0.31543481686230357, 0.03686900456832119, 0.6472558579771943, 0.03251765515931178, 0.10005432356711315, 0.050027161783556574, 0.7328979201291038, 0.012506790445889144, 0.04752580369437875, 0.007504074267533487, 0.007504074267533487, 0.007504074267533487, 0.9818762460701193, 0.00790264787949804, 0.9799283370577572, 0.00790264787949804, 0.7326582195333292, 0.26523531983105686, 0.9884192890888404, 0.07367057626937415, 0.0491137175129161, 0.5451622643933687, 0.012278429378229025, 0.16698663954391474, 0.027012544632103855, 0.12769566553358186, 0.9983190091156159, 0.9971189792124951, 0.17945278293385392, 0.03214079694337682, 0.6749567358109133, 0.11249278930181889, 0.9883380218569193, 0.9893548699657297, 0.027090432514132942, 0.007740123575466555, 0.0038700617877332776, 0.9520351997823863, 0.0038700617877332776, 0.9958837379942492, 0.9824077844187613, 0.004604240342224607, 0.9945159139205152, 0.002403999593469669, 0.9786463799597432, 0.0006556362527644551, 0.001529817923117062, 0.01660945173669953, 0.0002185454175881517, 0.9945267683000013, 0.9878846139498175, 0.9945505022041056, 0.9944257119617821, 0.9981507511058775, 0.06782435004829444, 0.042920096514936334, 0.018545720716330514, 0.0063585328170276045, 0.05934630629225764, 0.0015896332042569011, 0.009007921490789106, 0.7773306368816246, 0.008478043756036805, 0.008478043756036805, 0.985727689969189, 0.008470324257814197, 0.991027938164261, 0.06300714302583776, 0.16015782165785578, 0.3009559066317949, 0.4755455319994794, 0.9823654968655394, 0.9758933505241252, 0.008589080552448069, 0.2168742839493137, 0.16104526035840128, 0.038650862486016305, 0.012883620828672103, 0.5260811838374442, 0.004294540276224034, 0.03006178193356824, 0.0076850084214901745, 0.02331119221185353, 0.06045539958238937, 0.0020493355790640465, 0.8906924760507112, 0.002561669473830058, 0.0017931686316810407, 0.0038425042107450872, 0.007428841474107169, 0.0002561669473830058, 0.9900632228688112, 0.9956834286835952, 0.00037028018917203243, 0.0007405603783440649, 0.0029622415133762595, 0.10100570842005126, 0.8951195539294198, 0.9860696505205029, 0.011998299685651794, 0.9718622745377954, 0.9988287707768113, 0.006149591299586851, 0.03177288838119873, 0.005124659416322376, 0.0010249318832644752, 0.0020498637665289504, 0.9531866514359619, 0.9865044238456381, 0.9881231989375175, 0.09692773308535355, 0.1478558640285054, 0.5684236550429208, 0.1281417488247047, 0.05585665974410204, 0.9881472340197154, 0.9870053209316901, 0.010445043744353686, 0.9713890682248928, 0.02089008748870737, 0.0190346396035094, 0.9707666197789795, 0.05669610220551529, 0.219263497305003, 0.009256506482533108, 0.013884759723799663, 0.494644565160363, 0.004628253241266554, 0.024298329516649408, 0.017355949654749576, 0.042232810826557304, 0.11744192599713882, 0.9898723847883166, 0.11693491656937839, 0.025420634036821387, 0.7473666406825488, 0.11185078976201411, 0.9763638989420571, 0.003089354949858239, 0.0020595699665721594, 0.012357419799432955, 0.9721170242220591, 0.0010297849832860797, 0.0020595699665721594, 0.003089354949858239, 0.0010297849832860797, 0.0020595699665721594, 0.9719611812382513, 0.033377338298687734, 0.061783583659273035, 0.009942185876204856, 0.004971092938102428, 0.0937406096899315, 0.7215186321588668, 0.021304684020438978, 0.05397186618511208, 0.12879892973489207, 0.13684886284332282, 0.0348830434698666, 0.6949775583611885, 0.005366622072287169, 0.9864914231903196, 0.010275952324899163, 0.9984771852101235, 0.9840443291311196, 0.9975907533469809, 0.9973171019487034, 0.1455199564337575, 0.09855097914101733, 0.018242415287805337, 0.26315208259995054, 0.3413638171097366, 0.009435732045416553, 0.0016774634747407206, 0.012161610191870224, 0.0886958812269156, 0.0211779763686016, 0.9900361803199902, 0.0223548178559712, 0.0298064238079616, 0.9389023499507904, 0.9939394156048613, 0.06414119880950629, 0.014966279722218135, 0.014966279722218135, 0.7867987053966105, 0.032070599404753146, 0.04062275924602065, 0.014966279722218135, 0.025656479523802515, 0.006414119880950629, 0.9191248058028383, 0.07503059639206844, 0.9957854848203712, 0.988950175278926, 0.9848302417897994, 0.9858939120188781, 0.9928042462244525, 0.9933467211389133, 0.02122130057052409, 0.9408109919599013, 0.014147533713682726, 0.02122130057052409, 0.9946234956272322, 0.9928791015828736, 0.9987294408951972, 0.0003768316340945279, 0.0007536632681890558, 0.7676091493372752, 0.10062292219777015, 0.022999525073776034, 0.10924774410043617, 0.0060359356120512405, 0.9929114081824291, 0.9891942703210453, 0.9948661056018883, 0.9935620211120287, 0.47562156424271795, 0.09198341572618601, 0.1155401441438678, 0.005608744861352806, 0.01906973252859954, 0.09422691367072714, 0.006730493833623367, 0.07067018525304536, 0.07179193422531592, 0.04711345683536357, 0.010662145294220889, 0.0035540484314069633, 0.0035540484314069633, 0.0035540484314069633, 0.14927003411909245, 0.014216193725627853, 0.20968885745301083, 0.6041882333391837, 0.9954924043068792, 0.020846199042318533, 0.9658738889607587, 0.9994007906498892, 0.9861349317289961, 0.004171117682181738, 0.004171117682181738, 0.006951862803636231, 0.002780745121454492, 0.006951862803636231, 0.660426966345442, 0.04310154938254463, 0.2321922176414501, 0.04032080426109014, 0.0040191848426057095, 0.9927386561236102, 0.9922717959147911, 0.025388422844088203, 0.0018134587745777288, 0.0036269175491554576, 0.0018134587745777288, 0.0036269175491554576, 0.2502573108917266, 0.6056952307089614, 0.10880752647466373, 0.04284274823060693, 0.16565862649168012, 0.01142473286149518, 0.7768818345816723, 0.002791431902505889, 0.003489289878132361, 0.01884216534191475, 0.004885005829385306, 0.003489289878132361, 0.3070575092756478, 0.6552886391132574, 0.0020935739268794166, 0.002791431902505889, 0.025567510702668148, 0.02950097388769402, 0.9263305800735921, 0.011800389555077607, 0.0019667315925129348, 0.0039334631850258695, 0.993607986162683, 0.004993004955591372, 0.02369724522906596, 0.8920111197953348, 0.0015928189522966146, 0.0019503905538325894, 0.03491199091360335, 0.014172838024516816, 0.014887981227588765, 0.006826366938414062, 0.008386679381480133, 0.0015603124430660714, 0.9933782698046154, 0.01816386998943307, 0.07871010328754331, 0.8960842528120315, 0.9900478792679199, 0.005297706624977853, 0.0003116298014692855, 0.000623259602938571, 0.002493038411754284, 0.0009348894044078563, 0.0003116298014692855, 0.9848810497403947, 0.0119936218336383, 0.17002722717099, 0.33299938267513396, 0.0007055071666846059, 0.1799043275045745, 0.01693217200043054, 0.023281736500591992, 0.24904402983966586, 0.0007055071666846059, 0.014815650500376722, 0.9875394571611045, 0.9912218357806031, 0.9884674791782184, 0.9847786672328368, 0.18283039180728086, 0.0056779624784869835, 0.512152215559526, 0.10674569459555529, 0.019305072426855745, 0.018169479931158347, 0.03747455235801409, 0.0022711849913947934, 0.11696602705683186, 0.9804922213834815, 0.9854115340969549, 0.9901377064409818, 0.9927298394020418, 0.9962289574935363, 0.979427735344439, 0.18770806965012152, 0.09757102630328099, 0.07991531678173491, 0.02880668395620677, 0.024470193898283168, 0.039338159811164085, 0.056064621463155107, 0.02230194886932137, 0.007124233666588771, 0.456260703951533, 0.0019092992738541687, 0.01527439419083335, 0.023866240923177108, 0.0028639489107812528, 0.017183693464687518, 0.0047732481846354214, 0.6052478698117715, 0.0009546496369270843, 0.31885297873364615, 0.008591846732343759, 0.111748202445292, 0.1499527161018021, 0.4417396891533979, 0.0639925603746544, 0.008118459152008393, 0.0009551128414127522, 0.06447011679536077, 0.03677184439439096, 0.056829214064058754, 0.06494767321606715, 0.98570654992151, 0.012477298100272278, 0.9958634026057894, 0.9598875961017225, 0.0051885816005498514, 0.025942908002749256, 0.0051885816005498514, 0.002912138764370648, 0.0043682081465559715, 0.04076994270118907, 0.008008381602019282, 0.6858086790092875, 0.001456069382185324, 0.09610057922423137, 0.13832659130760577, 0.012376589748575254, 0.01092052036638993, 0.9942372479604682, 0.9928214744118405, 0.0036367086974792694, 0.9903954865761813, 0.9938937272806176, 0.09918032719814149, 0.9004943993228084, 0.11757914434648603, 0.008499697181673689, 0.019832626757238608, 0.004249848590836844, 0.004249848590836844, 0.004249848590836844, 0.6388939048224723, 0.0028332323938912297, 0.15582778166401764, 0.04391510210531406, 0.8023142865279022, 0.15138005406186833, 0.0454140162185605, 0.9767315220387068, 0.00016939989401553815, 0.00016939989401553815, 0.0010163993640932287, 0.0003387997880310763, 0.0008469994700776907, 0.0008469994700776907, 0.0005081996820466144, 0.995054977447271, 0.0006775995760621526, 0.0003387997880310763, 0.057761921822987235, 0.004125851558784803, 0.9365683038441502, 0.21927042048855466, 0.009442266910990392, 0.06609586837693275, 0.09547180987779175, 0.10701235832455779, 0.03147422303663464, 0.08393126143102571, 0.017835393054092964, 0.3283810603488881, 0.041965630715512854, 0.998620283336413, 0.028145407668004687, 0.26251005228812063, 0.044383142861084315, 0.16941370384779744, 0.11312288851178808, 0.04167685366223771, 0.03247547038615926, 0.12827810802532905, 0.043841885021314995, 0.13531445994233024, 0.9922909317003584, 0.985692654737706, 0.9947793825451501, 0.008072222029872591, 0.013453703383120984, 0.9767388656145835, 0.989374684377946, 0.996170520788778, 0.9987707938086925, 0.16588264182452225, 0.059015939879878104, 0.017545279423747544, 0.2552040643454188, 0.012760203217270942, 0.059015939879878104, 0.009570152412953207, 0.02073533022806528, 0.3971613251375581, 0.08841967751628725, 0.91132318676623, 0.03425913662833043, 0.13343032160507642, 0.06491204834841555, 0.5733897604110041, 0.09195873516025536, 0.021637349449471852, 0.018031124541226542, 0.03245602417420777, 0.028849799265962466, 0.997855999344095, 0.10529754196298184, 0.061618561593152335, 0.02807934452346182, 0.12583706249403262, 0.03197925348505374, 0.009879769369366197, 0.6156656280699777, 0.004679890753910304, 0.003119927169273536, 0.013259690469412527, 0.9898422935034882, 0.04186821763699151, 0.170961888684382, 0.020934108818495754, 0.002326012090943973, 0.0011630060454719865, 0.761768959784151, 0.9971504120243745, 0.9879551337411224, 0.01580315845348343, 0.021070877937977905, 0.07374807278292267, 0.08691737149415886, 0.795425642158666, 0.005267719484494476, 0.787375849060917, 0.09890365477600425, 0.018624714211065735, 0.03532273384857295, 0.005137852196156065, 0.0019266945735585243, 0.01027570439231213, 0.04238728061828754, 0.9938088301553474, 0.9860439348642871, 0.5911752196321236, 0.008567756806262662, 0.12637441289237425, 0.09852920327202061, 0.09852920327202061, 0.04069684482974764, 0.03855490562818198, 0.9953796234095719, 0.9953167089333632, 0.9817183185366979, 0.988550366862657, 0.006864933103212896, 0.02976990975723308, 0.9691759509854769, 0.3477482493945101, 0.056348095966703024, 0.5940699260489547, 0.992168864984505, 0.08152913780242857, 0.9172028002773214, 0.9837958942366807, 0.9993792807937617, 0.03346552060570394, 0.0022310347070469295, 0.9370345769597103, 0.024541381777516223, 0.02157540036050478, 0.9277422155017055, 0.04315080072100956, 0.9885837631679585, 0.9890837006369565, 0.05336289736906565, 0.06712314134473667, 0.005369851307578934, 0.5500741433201171, 0.00302054136051315, 0.05571220731613144, 0.008390392668092083, 0.08692446804143399, 0.16982154760218376, 0.8267780816769481, 0.0030284911416738024, 0.006056982283347605, 0.009085473425021407, 0.14536757480034251, 0.009085473425021407, 0.9966441374095424, 0.20408306346895605, 0.06782892175191746, 0.0690215181783248, 0.02146673567533212, 0.04039920394454864, 0.016696349969702762, 0.473460781283714, 0.08884843376734683, 0.015056529883392667, 0.0031305656193192674, 0.05599325685872408, 0.8025700149750452, 0.1399831421468102, 0.010075040258769239, 0.7606655395370776, 0.16875692433438477, 0.060450241552615434, 0.9954353978336712, 0.07222746444962627, 0.03848184581332547, 0.23858744404261792, 0.12787813377966617, 0.06334703849270501, 0.2539801823679481, 0.010656511148305516, 0.07163543605249818, 0.06689920887547351, 0.05565066933003991, 0.9901545514523151, 0.0014944942608667887, 0.002241741391300183, 0.002241741391300183, 0.9930914363459812, 0.0007472471304333944, 0.9994958331910738, 0.21382576078396, 0.06591621197099519, 0.10289359917423639, 0.04340823715163098, 0.016077124870974437, 0.040192812177436095, 0.011253987409682106, 0.022507974819364212, 0.43247465902921234, 0.051446799587118196, 0.12922990723311217, 0.41435621049347077, 0.009435834496385968, 0.005743551432582763, 0.12594787784306488, 0.07466616862357592, 0.08656352516249737, 0.07015337821226089, 0.05251247024075669, 0.0315895328792052, 0.13941405232374895, 0.8579326296846089, 0.474388050686915, 0.0266765730333967, 0.131108118629252, 0.0014475659785564102, 0.045184738044939374, 0.08933550039090989, 0.03174305395834413, 0.13389985301646795, 0.04663230402349578, 0.01943874314061465, 0.9935575333443335, 0.3794699920913356, 0.010119199789102282, 0.03921189918277135, 0.465483190298705, 0.026562899446393493, 0.0012648999736377853, 0.0037946999209133563, 0.0037946999209133563, 0.0341522992882202, 0.03668209923549578, 0.9871431857155243, 0.0018348968617113014, 0.011009381170267809, 0.7009306011737172, 0.06972608074502945, 0.0018348968617113014, 0.1284427803197911, 0.0055046905851339045, 0.07890056505358596, 0.02921706285203913, 0.04869510475339855, 0.15971994359114725, 0.04869510475339855, 0.01947804190135942, 0.04674730056326261, 0.007791216760543768, 0.001947804190135942, 0.500585676864937, 0.13829409749965188, 0.3425640899360089, 0.30223516459848143, 0.014833627710354918, 0.004635508659485912, 0.15482598922682947, 0.08992886799402669, 0.022713992431480968, 0.06211581603711122, 0.0064897121232802765, 0.03818371701416438, 0.12058015899209804, 0.05359118177426579, 0.0509116226855525, 0.0006698897721783224, 0.016077354532279736, 0.5647170779463258, 0.05895029995169237, 0.09311467833278682, 0.0026795590887132895, 0.9909839172451109, 0.0042349740053209866, 0.22214764168102136, 0.04986987874471908, 0.19696083423419355, 0.015112084468096691, 0.02518680744682782, 0.04483251725535352, 0.033750321978749276, 0.0392914196170514, 0.28108477110659846, 0.09167997910645326, 0.988032057000456, 0.1748983580368292, 0.20096164276388612, 0.021948029243837392, 0.03086441612414633, 0.038409051176715434, 0.5329255850769267, 0.000983272027497985, 0.0032775734249932834, 0.0013110293699973134, 0.014749080412469775, 0.006882904192485896, 0.0013110293699973134, 0.05997959367737709, 0.7630190933384364, 0.005244117479989254, 0.14290220132970716, 0.023735747719058183, 0.9731656564813854, 0.9871118841539469, 0.9807002301954318, 0.009807002301954318, 0.9886584693685743, 0.9902819499656346, 0.2821457884221798, 0.11694200441182452, 0.22893408271097923, 0.1478790426160109, 0.10394844836606625, 0.012374815281674553, 0.04826177959853076, 0.03341200126052129, 0.014849778338009463, 0.011137333753507098, 0.9926347887750658, 0.04808731376277798, 0.09617462752555596, 0.004808731376277798, 0.8511454536011702, 0.9874791473983158, 0.9840006581942762, 0.9913584746661203, 0.002750188799860168, 0.9955683455493808, 0.6154495108905883, 0.05827444644181416, 0.030326497638086963, 0.07849211153387214, 0.0035678232515396428, 0.061247632484763864, 0.04162460460129583, 0.09276340454003071, 0.007730283711669225, 0.011298106963208869, 0.9677293097490086, 0.9959261047344763, 0.04422703511950513, 0.03825040875200444, 0.45422360393005273, 0.04661768566650541, 0.06454756476900748, 0.3334957513065387, 0.005976626367500694, 0.00956260218800111, 0.0023906505470002773, 0.0011953252735001387, 0.8294868209565783, 0.16241699990758177, 0.5975134864225382, 0.40175947657332434, 0.19114973953108128, 0.012136491398798811, 0.0060682456993994055, 0.012136491398798811, 0.7737013266734242, 0.0060682456993994055, 0.9632138314673124, 0.03210712771557708, 0.9936633235817949, 0.9969315754511269, 0.9912376097688084, 0.9414476466277145, 0.011917058818072335, 0.04766823527228934, 0.9983101869514278, 0.06229218402117348, 0.02076406134039116, 0.6483001374055462, 0.0645993019478836, 0.004614235853420258, 0.06921353780130386, 0.0968989529218254, 0.013842707560260773, 0.01845694341368103, 0.9985901192143144, 0.9768388254463248, 0.007006504775299906, 0.8337740682606888, 0.15764635744424788, 0.9917692537925485, 0.9915114482176566, 0.0006412752710021297, 0.003420134778678025, 0.00021375842366737655, 0.00021375842366737655, 0.0006412752710021297, 0.00021375842366737655, 0.0004275168473347531, 0.9944041869006357, 0.9769032524977622, 0.8180901076675248, 0.0852527165587821, 0.0012598923629376666, 0.012598923629376665, 0.014698744234272776, 0.04577608918673522, 0.013018887750355888, 0.007979318298605221, 0.0012598923629376666, 0.02251936930175489, 0.00264933756491234, 0.00264933756491234, 0.11789552163859912, 0.6477630346210671, 0.1987003173684255, 0.00794801269473702, 0.9941646197411771, 0.005776973490307949, 0.9874950298672608, 0.03989311645297155, 0.010740454429646187, 0.009206103796839588, 0.01687785696087258, 0.00767175316403299, 0.018412207593679175, 0.8945264189262466, 0.7026671367405518, 0.015057152930154683, 0.011711118945675864, 0.0016730169922394092, 0.058555594728379325, 0.09870800254212514, 0.06022861172061873, 0.051863526759421685, 0.9826317714782472, 0.9842585892140994, 0.006726118764716081, 0.002242039588238694, 0.020178356294148242, 0.002242039588238694, 0.9685611021191157, 0.029439184047724984, 0.9616800122256828, 0.9905142362638742, 0.9795436282500452, 0.017187703507713585, 0.26590388367815726, 0.15165620742100222, 0.10818142796031492, 0.45092445673178, 0.005055206914033408, 0.3960363016604977, 0.11583100570410186, 0.04758203138882193, 0.1009315817338647, 0.06440396167779938, 0.03268260741858476, 0.04998516428724728, 0.06824897431527993, 0.08362902486520218, 0.04085325927323095, 0.9912429318495759, 0.9859069538032154, 0.009389590036221099, 0.11718045538792628, 0.8818325795294791, 0.9964613762686234, 0.18743803905662615, 0.09312959173253753, 0.6931670878320514, 0.007073133549306648, 0.002357711183102216, 0.010609700323959971, 0.00589427795775554, 0.9797172066776199, 0.005892997005250757, 0.0024265281786326645, 0.00034664688266180924, 0.002773175061294474, 0.042290919684740726, 0.0010399406479854277, 0.0006932937653236185, 0.9435728146054447, 0.0006932937653236185, 0.9950831905819758, 0.00020215172074949012, 0.9997076430131451, 6.73839069164967e-05, 0.9911916889832407, 0.9996432716275504, 0.9901311343638384, 0.9849450884533828, 0.00838251139109262, 0.9982071007345252, 0.9885697051055149, 0.9970189581221544, 0.99509307939633, 0.9888102303180741, 0.9965214139813456, 0.28452687076603866, 0.09711396187822877, 0.25215555013996244, 0.36460329547264836, 0.9746443882685555, 0.989380400545478, 0.9965733432647548, 0.9798215852594394, 0.13128018181923823, 0.3922818097896762, 0.24368234277001077, 0.023727420724585273, 0.07343376924981135, 0.039314777404969754, 0.012123499640299044, 0.08070786903399078, 0.003463857040085441, 0.994316380296132, 0.9932001324445409, 0.963691448788816, 0.031086820928671485, 0.18629076218985205, 0.09449531415427279, 0.016199196712161048, 0.07649620669631606, 0.09449531415427279, 0.4148794269059024, 0.001799910745795672, 0.09629522490006845, 0.01979901820375239, 0.9826626709997904, 0.006064057435387117, 0.9884413619681001, 0.003924650904071848, 0.008409966223011102, 0.0005606644148674068, 0.9654641224016746, 0.0005606644148674068, 0.02074458335009405, 0.13691427480724744, 0.14480497288803898, 0.19172263715220475, 0.06717756474187375, 0.054381838124373985, 0.031562792323166076, 0.04307894627891586, 0.07784067025645688, 0.18041974530674665, 0.07186933116829032, 0.006894245116559499, 0.9858770516680083, 0.975220592702712, 0.07171074969803272, 0.02589554850206737, 0.015138936047362463, 0.23983261843453166, 0.12031470227114378, 0.04143287760330779, 0.020318045747775938, 0.0023903583232677576, 0.4521761161514841, 0.010756612454704908, 0.9840855412662121, 0.011057140913103506, 0.9940326539147074, 0.9880302984547202, 0.006933545954068212, 0.005916195315940616, 0.02730551684280284, 0.0004550919473800473, 0.014562942316161514, 0.5219904636449143, 0.4154989479579832, 0.0054611033685605685, 0.0054611033685605685, 0.0031856436316603314, 0.998103653323748, 0.9900004890584636, 0.9937881282225812, 0.0011638704852333177, 0.9986008763301866, 0.030367811844545164, 0.35451119479392945, 0.06931783138428788, 0.007922037872490044, 0.05875511422096782, 0.010562717163320058, 0.0013203396454150073, 0.00924237751790505, 0.45353666820005495, 0.004621188758952525, 0.005766171054867896, 0.9917814214372782, 0.9806529739585577, 0.8103645722859778, 0.014342735792672173, 0.09681346660053718, 0.07888504685969695, 0.9960777790725166, 0.9966245678900861, 0.6830907097087748, 0.100783875202934, 0.09182530851822876, 0.006718925013528933, 0.05823068345058409, 0.0604703251217604, 0.9770704227189645, 0.9809358370643263, 0.014080418713842004, 0.6979634359779581, 0.15014925605105853, 0.0005124547988090735, 0.139387705276068, 0.003074728792854441, 0.0005124547988090735, 0.005124547988090735, 0.003074728792854441, 0.9780547103662554, 0.008579427283914521, 0.06564867032311539, 0.9322111185882385, 0.9878044378417925, 0.0009344650812757672, 0.09811883353395555, 0.09531543829012826, 0.2784705942201786, 0.01682037146296381, 0.04765771914506413, 0.011213580975309206, 0.2868807799516605, 0.07756060174588868, 0.08690525255864635, 0.9861738194491586, 0.9930750296704526, 0.025839023652136507, 0.09865809030815757, 0.8738287998722527, 0.0018666504479961958, 0.005599951343988587, 0.9930580383339761, 0.0850379329722082, 0.05603274653207517, 0.11602074576053212, 0.2030363050809312, 0.2907110731840606, 0.013843384437336218, 0.04548540600839043, 0.017798637133717994, 0.07976426271036582, 0.09294843836497174, 0.183150988051217, 0.12183522248624434, 0.059723148277570755, 0.08201979030119717, 0.03025972846063585, 0.036630197610243394, 0.2850784944449377, 0.015926172874018867, 0.18474360533861886, 0.0007963086437009434, 0.8858675319117538, 0.006711117665998135, 0.05033338249498601, 0.0033555588329990675, 0.01342223533199627, 0.01677779416499534, 0.020133352997994406, 0.0033555588329990675, 0.9854127763944796, 0.9939835203951654, 0.9950982000866844, 0.07226784063100118, 0.9228047342112459, 0.08553321056928655, 0.12537059631388578, 0.6034192252490763, 0.06912958114503981, 0.00585843908008812, 0.01991869287229961, 0.09080580574136586, 0.02948661559971966, 0.17563766683311277, 0.017948374712872837, 0.021794455008488447, 0.7538317379406592, 0.05301774313405967, 0.09356072317775237, 0.5894325560198399, 0.05769577929294729, 0.08420465085997712, 0.02962756233962158, 0.02806821695332571, 0.020271490021846344, 0.04522101620258031, 0.9867952148561789, 0.010460507198906994, 0.13150351907197363, 0.03735895428181069, 0.002988716342544855, 0.7621226673489381, 0.01942665622654156, 0.03735895428181069, 0.004900922907476605, 0.16234307131016257, 0.0030630768171728785, 0.005513538270911182, 0.03859476789637827, 0.006126153634345757, 0.06677507461436875, 0.0012252307268691514, 0.012252307268691514, 0.6996067450422855, 0.9862258870522531, 0.9765840471784106, 0.9759969384346642, 0.9990492003023645, 0.22154944688038183, 0.025081069458156434, 0.7524320837446931, 0.439731315264715, 0.24129242496966363, 0.08802347662893328, 0.040923195274854954, 0.052119163793447346, 0.0424674667946608, 0.05327736743330173, 0.0131263079183497, 0.024708344316893557, 0.003860678799514618, 0.9847910407411562, 0.9798228346753446, 0.9847910407411562, 0.998665686415446, 0.9847910407411562, 0.9974493500142722, 0.978910715684668, 0.4468711776086851, 0.02740247787223069, 0.035834009525224746, 0.012647297479491088, 0.47848942130741284, 0.14723671085471726, 0.03362098121879371, 0.039417702118585723, 0.04405507883841934, 0.026664916139043284, 0.01275278597954244, 0.002318688359916807, 0.6932878196151253, 0.03328253017188863, 0.9651933749847703, 0.9965858635575073, 0.007232601518024998, 0.9908664079694247, 0.9799484858306639, 0.04030971379556758, 0.9564395727857399, 0.9797960346238497, 0.9860112924433964, 0.3210045174542914, 0.2115432069047438, 0.04550638753183442, 0.08404332832455906, 0.135289260229778, 0.027877786956439103, 0.04509642007659267, 0.011069121291527291, 0.06436489047295499, 0.05370573663666945, 0.9764221742089979, 0.021272814252919346, 0.9953430282465291, 0.9827003753098427, 0.9834810951657846, 0.027796975383321133, 0.11466252345619968, 0.8234853957308885, 0.027796975383321133, 0.9873163703034846, 0.05036119882201833, 0.14615695745085755, 0.0106743845329278, 0.002873872758865177, 0.12549244380377939, 0.48253692132183873, 0.16080002341269442, 0.006979405271529715, 0.01217974645423813, 0.002052766256332269, 0.9968244647422052, 0.02033600543372435, 0.964507686285212, 0.014525718166945964, 0.9986930501667936, 0.9877121123202486, 0.07554854486906096, 0.03777427243453048, 0.8839179749680132, 0.04114573183875345, 0.8456761054518264, 0.012256175441330817, 0.0008754411029522011, 0.0035017644118088046, 0.0035017644118088046, 0.09192131580998113, 0.0008754411029522011, 0.0050031874079054794, 0.07254621741462945, 0.020012749631621918, 0.13258446630949522, 0.00750478111185822, 0.0025015937039527397, 0.7554812985937275, 0.0025015937039527397, 0.0025015937039527397, 0.9857143904754015, 0.9953696297875874, 0.9968867406170412, 0.26356796656769643, 0.13287310711264036, 0.1818836794082864, 0.006534742972752804, 0.01851510508946628, 0.06861480121390444, 0.32782627246643237, 0.006693252728444306, 0.013386505456888612, 0.2576902300451058, 0.7128314155793186, 0.006693252728444306, 0.003346626364222153, 0.9915746414292089, 0.9829228836268973, 0.9929988473597059, 0.7695143906540549, 0.12738582818259694, 0.09618929883175686, 0.002599710779236672, 0.025691806919611395, 0.0032114758649514244, 0.7686132236783743, 0.0021409839099676164, 0.1969705197170207, 0.0010704919549838082, 0.0010704919549838082, 0.0010704919549838082, 0.0010704919549838082, 0.0028388753585807574, 0.13058826649471483, 0.8630181090085502, 0.0028388753585807574, 0.9926210160214245, 0.9950767346384377, 0.9846584236907793, 0.9759640910895543, 0.024130980274192276, 0.9902498420131416, 0.12166431248155102, 0.24653031739682707, 0.09925246544547583, 0.00240126932529377, 0.06803596421665682, 0.46344497978169763, 0.9865159901323008, 0.9992456140513063, 0.9887161942081872, 0.8721643736281023, 0.12525764940403597, 0.029892857735165902, 0.91173216092256, 0.037366072168957376, 0.014946428867582951, 0.9897462049873846, 0.06127371253792461, 0.19334554888909888, 0.18636098062052717, 0.19175814700987806, 0.09492663237740652, 0.020318744054026814, 0.006984568268571717, 0.014286616912987602, 0.19175814700987806, 0.039050086228832784, 0.017268820671196797, 0.12088174469837759, 0.008634410335598398, 0.5590780692299964, 0.015110218087297199, 0.18995702738316478, 0.0021586025838995996, 0.07770969302038559, 0.008634410335598398, 0.005185797733458043, 0.11884119805841349, 0.008859071127990824, 0.005185797733458043, 0.3982260509484656, 0.4060047475486527, 0.003673273394532781, 0.012964494333645108, 0.0015125243389252628, 0.03954170771761758, 0.9970615235469173, 0.00026505920291632344, 0.006273067802352988, 0.0045943595172162725, 0.0005301184058326469, 0.9841648204283089, 0.0011485898793040681, 0.0003534122705550979, 0.0009718837440265192, 0.0017670613527754895, 0.9959277029967483, 0.9867459408487673, 0.0019341740433923638, 0.0019341740433923638, 0.994165458303675, 0.9986532535155491, 0.9983097264454338, 0.9904417080959314, 0.9923207629750904, 0.005546004250478927, 0.9039986928280651, 0.08873606800766283, 0.025621742426535556, 0.034938739672548486, 0.01319907943185165, 0.8105787604031249, 0.023292493115032325, 0.00931699724601293, 0.04891423554156788, 0.015528328743354882, 0.013975495869019394, 0.004658498623006465, 0.02921296743380603, 0.05078142002512076, 0.6541520558074696, 0.07344194616536283, 0.05160047518681626, 0.02266052614024206, 0.03440031679121084, 0.011193753876505114, 0.06880063358242168, 0.003549239034013817, 0.9965314198537517, 0.6697754166346721, 0.05682680024555832, 0.06723781708443924, 0.011278601575454322, 0.0642012705064323, 0.029497881043495922, 0.006073093156013866, 0.013447563416887846, 0.07851641865989356, 0.0026027542097202283, 0.0030191845614047893, 0.960100690526723, 0.03321103017545268, 0.0030191845614047893, 0.0689708360429241, 0.010345625406438616, 0.003448541802146205, 0.7724733636807499, 0.14139021388799441, 0.019433001838621646, 0.03886600367724329, 0.7837977408244063, 0.11012034375218932, 0.012955334559081096, 0.03238833639770274, 0.003238833639770274, 0.9894433181480297, 0.2740513158963782, 0.09688229825469344, 0.05113232407886598, 0.25611014955291644, 0.03408821605257732, 0.030948511942471515, 0.06683084462939501, 0.04126468258996202, 0.0892573025587222, 0.059205848933423774, 0.20336679047053996, 0.14723164733823596, 0.13861441045389103, 0.07460065074161454, 0.0359461881461245, 0.04677928594358667, 0.10463787645275967, 0.08863443652469054, 0.037177221986745196, 0.12285717729394605, 0.982773111599848, 0.0057143147091241004, 0.9923859878178855, 0.0019047715697080336, 0.36826216056989114, 0.05787885425191726, 0.09031645388760716, 0.0928605793492299, 0.04261410148218084, 0.04515822694380358, 0.011130548894599473, 0.1640960922746665, 0.09635875185896116, 0.030847521222175683, 0.9865246289563058, 0.9995741646405588, 0.9747332513938979, 0.010915641546697158, 0.010915641546697158, 0.9714920976560472, 0.010915641546697158, 0.9790977274746943, 0.050494344864890885, 0.10587523923283573, 0.7851056201573358, 0.019546198012215826, 0.011401948840459232, 0.008144249171756594, 0.017917348177864507, 0.983771590846686, 0.26216074005824014, 0.008642661760161763, 0.008642661760161763, 0.7187813697201199, 0.9952846290675259, 0.9930588836875202, 0.9936677697251826, 0.0006423497290873654, 0.9404000033839031, 0.057811475617862894, 0.002720269742962464, 0.1020101153610924, 0.6895883798409846, 0.004080404614443697, 0.02040202307221848, 0.002720269742962464, 0.006800674357406161, 0.152335105605898, 0.005440539485924928, 0.012241213843331088, 0.8999053536922973, 0.09924440562329359, 0.003068147808239786, 0.9373191554172546, 0.007670369520599465, 0.05062443883595647, 0.001534073904119893, 0.9932278009832392, 0.9783405960788518, 0.9861182741386345, 0.9984237995699657, 0.009500741595320458, 0.07706157071759928, 0.9110155551957284, 0.002111275910071213, 0.06806601553163422, 0.01988445397553359, 0.11204125028521812, 0.7839063586508436, 0.012618980407550164, 0.0034415401111500448, 0.9939813292734134, 0.9974072993843945, 0.9997475255901279, 0.9941298591438458, 0.9538847309542456, 0.023140060858728332, 0.005142235746384074, 0.002571117873192037, 0.010284471492768147, 0.002571117873192037, 0.9008987106985902, 0.0944490583796909, 0.014594763162914075, 0.9814978227059715, 0.010691696090331874, 0.9889818883556983, 0.9955495956734609, 0.994089572082052, 0.004248246034538683, 0.9996662680773606, 0.49689069799847346, 0.1173477554910517, 0.041960712569527575, 0.15172235053388503, 0.05002096244164022, 0.01943942616215402, 0.03105566862490459, 0.03105566862490459, 0.02394368344362873, 0.03674525676992528, 0.0707006260890539, 0.9191081391577007, 0.039732851333355156, 0.8343898780004582, 0.11679050240410455, 0.0072241547878827556, 0.9827965072842259, 0.3604060851138358, 0.013438870970346422, 0.045203475082074326, 0.09285038124966619, 0.025656026397934076, 0.0024434310855175312, 0.05619891496690321, 0.007330293256552593, 0.3946141203110813, 0.0012217155427587656, 0.02548975358915719, 0.009558657595933946, 0.05097950717831438, 0.006372438397289297, 0.8570929644354105, 0.054165726376959024, 0.08595630733434527, 0.021489076833586317, 0.02578689220030358, 0.8337761811431492, 0.004297815366717264, 0.01289344610015179, 0.01289344610015179, 0.9899863885141195, 0.9443686240564307, 0.05104695265169896, 0.005104695265169896, 0.9767928413693221, 0.17384142264116653, 0.057584971249886416, 0.16840887818363007, 0.045633373443306216, 0.05867148014139371, 0.029335740070696854, 0.0239031956131604, 0.179273967098703, 0.02607621339617498, 0.2368589383485894, 0.001540850052984987, 0.07473122756977187, 0.8844479304133824, 0.03775082629813218, 0.999238807235115, 0.08624049224273145, 0.2824589587514412, 0.07155399257367223, 0.028006813322391994, 0.10178085817161968, 0.06591847525880067, 0.01946815072410175, 0.2744326159090484, 0.05959986493606589, 0.010417168369914095, 0.9851383413886093, 0.03960906487252621, 0.13297328921490942, 0.04102367433225929, 0.001414609459733079, 0.009902266218131553, 0.10892492839944708, 0.02970679865439466, 0.6365742568798856, 0.012429993181043689, 0.0025717227271124872, 0.0021431022725937393, 0.0008572409090374958, 0.0012858613635562436, 0.0008572409090374958, 0.8949595090351455, 0.018859299998824908, 0.03857584090668731, 0.027431709089199865, 0.7857746118149717, 0.1354783813474089, 0.0738972989167685, 0.12556339988706203, 0.1366129790771235, 0.0833740975250092, 0.32947836130365077, 0.048216345556631825, 0.03013521597289489, 0.055247895950307296, 0.09442367671507065, 0.07634254713133372, 0.021094651181026422, 0.12816972713860825, 0.06310895194134518, 0.0826271845005241, 0.09889237829983988, 0.296026527147547, 0.043590719382166264, 0.053349835661755725, 0.10084420155575777, 0.10344663256364829, 0.030578564342713645, 0.06307715618438486, 0.0651119031580747, 0.257734616667379, 0.13225855328983924, 0.026451710657967847, 0.016277975789518676, 0.13090205530737936, 0.196692207456684, 0.01695622478074862, 0.09427660978096233, 0.04353200834729241, 0.07112271786318196, 0.1483767045076727, 0.11281534557608174, 0.07480147913196723, 0.0465976427379468, 0.3476429399002084, 0.15389484641085063, 0.9881317131378652, 0.20320104919681367, 0.023128574705328385, 0.001652041050380599, 0.49230823301341853, 0.12555511982892553, 0.13711940718158971, 0.001652041050380599, 0.003304082100761198, 0.011564287352664192, 0.4072230556606709, 0.09963968383186628, 0.05978381029911977, 0.10917043619839262, 0.05285235403255516, 0.02599296099961729, 0.06411597046572265, 0.18108429496400047, 0.9991236925828494, 0.9897151516219282], \"Term\": [\"abus\", \"abus\", \"abus\", \"abus\", \"abus\", \"abus\", \"academ\", \"achiev\", \"achiev\", \"achiev\", \"achiev\", \"act\", \"act\", \"act\", \"act\", \"act\", \"act\", \"add\", \"add\", \"add\", \"add\", \"add\", \"add\", \"add\", \"add\", \"admin\", \"admin\", \"administr\", \"administr\", \"administr\", \"administr\", \"administr\", \"aid\", \"albino\", \"aliv\", \"aliv\", \"allemand\", \"alot\", \"american\", \"american\", \"american\", \"american\", \"american\", \"american\", \"american\", \"american\", \"anal\", \"anal\", \"anal\", \"anal\", \"anal\", \"ancestor\", \"angela\", \"anon\", \"anti\", \"anti\", \"anti\", \"anti\", \"anti\", \"anti\", \"anti\", \"anti\", \"anti\", \"arab\", \"arab\", \"arab\", \"arab\", \"archiv\", \"arrest\", \"arrest\", \"arrog\", \"ars\", \"ars\", \"ars\", \"ars\", \"ars\", \"articl\", \"articl\", \"articl\", \"articl\", \"articl\", \"articl\", \"articl\", \"articl\", \"articl\", \"articl\", \"asham\", \"asian\", \"asian\", \"asian\", \"asian\", \"asian\", \"asperg\", \"assad\", \"assad\", \"assad\", \"asshol\", \"asshol\", \"asshol\", \"asshol\", \"asshol\", \"asshol\", \"asshol\", \"asshol\", \"asshol\", \"asshol\", \"atheist\", \"attack\", \"attack\", \"attack\", \"attack\", \"attack\", \"attack\", \"attack\", \"attack\", \"attack\", \"attack\", \"australian\", \"awww\", \"bail\", \"ball\", \"ball\", \"ball\", \"ball\", \"ball\", \"ban\", \"ban\", \"ban\", \"ban\", \"ban\", \"bare\", \"bark\", \"basement\", \"basement\", \"bastard\", \"bastard\", \"bastard\", \"bastard\", \"bastard\", \"bastard\", \"bastard\", \"beavi\", \"beavi\", \"behav\", \"belong\", \"belong\", \"belong\", \"bend\", \"beth\", \"better\", \"better\", \"better\", \"better\", \"better\", \"better\", \"better\", \"better\", \"better\", \"bias\", \"bigger\", \"bigger\", \"bigger\", \"bigger\", \"bigot\", \"bigot\", \"billcj\", \"billcj\", \"billcj\", \"billcj\", \"billj\", \"billj\", \"bitch\", \"bitch\", \"bitch\", \"bitch\", \"bitch\", \"bitch\", \"bitch\", \"bitch\", \"bitch\", \"bitch\", \"black\", \"black\", \"black\", \"black\", \"black\", \"black\", \"black\", \"black\", \"black\", \"black\", \"blah\", \"blah\", \"blah\", \"blah\", \"blank\", \"block\", \"block\", \"block\", \"block\", \"block\", \"block\", \"block\", \"block\", \"bloodi\", \"bloodi\", \"bloodi\", \"bloodi\", \"bloodi\", \"bloodi\", \"bloodi\", \"bold\", \"boob\", \"boob\", \"bradburi\", \"bush\", \"bush\", \"butt\", \"butt\", \"butt\", \"butt\", \"butt\", \"butt\", \"butt\", \"butt\", \"california\", \"california\", \"call\", \"call\", \"call\", \"call\", \"call\", \"call\", \"call\", \"call\", \"call\", \"call\", \"calm\", \"care\", \"care\", \"care\", \"care\", \"care\", \"care\", \"care\", \"care\", \"care\", \"care\", \"censor\", \"central\", \"central\", \"chang\", \"chang\", \"chang\", \"chang\", \"chang\", \"chang\", \"chang\", \"chang\", \"chees\", \"chicken\", \"chicken\", \"chines\", \"chines\", \"chines\", \"chink\", \"chink\", \"chink\", \"chink\", \"christian\", \"christian\", \"christian\", \"christian\", \"christma\", \"chuck\", \"chuck\", \"chula\", \"chula\", \"cite\", \"cite\", \"classi\", \"classi\", \"clever\", \"cline\", \"cock\", \"cock\", \"cock\", \"cock\", \"cock\", \"cock\", \"cock\", \"cock\", \"cocksuck\", \"cocksuck\", \"cocksuck\", \"codi\", \"come\", \"come\", \"come\", \"come\", \"come\", \"come\", \"come\", \"come\", \"come\", \"come\", \"complaint\", \"comput\", \"conduct\", \"conflict\", \"congratul\", \"congratul\", \"consensus\", \"construct\", \"construct\", \"construct\", \"content\", \"content\", \"content\", \"content\", \"content\", \"content\", \"content\", \"content\", \"content\", \"context\", \"contrib\", \"contrib\", \"contrib\", \"contribut\", \"contribut\", \"contributor\", \"correct\", \"correct\", \"correct\", \"correct\", \"correct\", \"correct\", \"correct\", \"cougar\", \"couriano\", \"coward\", \"coward\", \"coward\", \"coward\", \"cracker\", \"credibl\", \"credit\", \"credit\", \"credit\", \"credit\", \"credit\", \"cretin\", \"criteria\", \"cult\", \"cult\", \"cunt\", \"cunt\", \"cunt\", \"cunt\", \"cunt\", \"cunt\", \"cuntfuck\", \"curios\", \"curp\", \"cynic\", \"daedalus\", \"damn\", \"damn\", \"damn\", \"damn\", \"damn\", \"damn\", \"damn\", \"damn\", \"damn\", \"damn\", \"dedic\", \"delanoy\", \"delanoy\", \"delet\", \"delet\", \"delet\", \"delet\", \"deliber\", \"describ\", \"deserv\", \"deserv\", \"deserv\", \"deserv\", \"deserv\", \"deserv\", \"deserv\", \"deserv\", \"dick\", \"dick\", \"dick\", \"dick\", \"dick\", \"dick\", \"dick\", \"dick\", \"dick\", \"dick\", \"dickfac\", \"dickhead\", \"dickhead\", \"dickhead\", \"dickhead\", \"diego\", \"diego\", \"difficult\", \"dildo\", \"dildo\", \"dipshit\", \"dirti\", \"dirti\", \"dirti\", \"dirti\", \"dirti\", \"dirti\", \"disagre\", \"discredit\", \"discuss\", \"discuss\", \"discuss\", \"discuss\", \"discuss\", \"dislik\", \"disput\", \"disturb\", \"disturb\", \"disturb\", \"donkey\", \"donkey\", \"dont\", \"dont\", \"dont\", \"dont\", \"dont\", \"dont\", \"dont\", \"dont\", \"dont\", \"dont\", \"doosh\", \"douch\", \"douch\", \"douch\", \"douch\", \"dozen\", \"drink\", \"drink\", \"drink\", \"drink\", \"drink\", \"drink\", \"drink\", \"drink\", \"drink\", \"duck\", \"dumb\", \"dumb\", \"dumb\", \"dumb\", \"dumb\", \"dumb\", \"dumb\", \"dumb\", \"dumbass\", \"dumbass\", \"dumbass\", \"dumbass\", \"dumbass\", \"dummi\", \"dummi\", \"dust\", \"eastern\", \"edgar\", \"edi\", \"edit\", \"edit\", \"edit\", \"edit\", \"edit\", \"edit\", \"edit\", \"edit\", \"edit\", \"edit\", \"enemi\", \"england\", \"england\", \"england\", \"enigmaman\", \"enjoy\", \"enjoy\", \"enjoy\", \"enjoy\", \"enjoy\", \"enjoy\", \"enjoy\", \"enjoy\", \"enjoy\", \"eras\", \"eras\", \"ethnic\", \"eventu\", \"except\", \"expir\", \"extern\", \"fack\", \"factual\", \"factual\", \"factual\", \"factual\", \"fag\", \"fagget\", \"faggot\", \"faggot\", \"faggot\", \"fals\", \"fals\", \"fals\", \"fals\", \"fart\", \"fart\", \"februari\", \"fece\", \"feebl\", \"feel\", \"feel\", \"feel\", \"feel\", \"feel\", \"feel\", \"feel\", \"feel\", \"feel\", \"feel\", \"femal\", \"femal\", \"femal\", \"femal\", \"femal\", \"femal\", \"femal\", \"femal\", \"feminazi\", \"feminist\", \"feminist\", \"fggt\", \"fiction\", \"fight\", \"fight\", \"fight\", \"fight\", \"fight\", \"fight\", \"fight\", \"fight\", \"fight\", \"filter\", \"filter\", \"filth\", \"fine\", \"fine\", \"fine\", \"fine\", \"fine\", \"fine\", \"fine\", \"fine\", \"fire\", \"fire\", \"fire\", \"fire\", \"fool\", \"fool\", \"fool\", \"fool\", \"fool\", \"fool\", \"fool\", \"fool\", \"fool\", \"forev\", \"forev\", \"forev\", \"forev\", \"forev\", \"forev\", \"freedom\", \"freedom\", \"fuck\", \"fuck\", \"fuck\", \"fuck\", \"fuck\", \"fuck\", \"fuck\", \"fuck\", \"fuck\", \"fuck\", \"fuckbag\", \"fucken\", \"fucken\", \"fucken\", \"fucker\", \"fucker\", \"fucker\", \"fucker\", \"fucker\", \"fucker\", \"fucker\", \"fucki\", \"fuckin\", \"fuckin\", \"fuckin\", \"fuckin\", \"fuckin\", \"fuckin\", \"fuckin\", \"fuckin\", \"fuckin\", \"fuckin\", \"fuckwit\", \"fuckyou\", \"fukin\", \"gamaliel\", \"game\", \"game\", \"game\", \"game\", \"game\", \"game\", \"game\", \"game\", \"game\", \"gather\", \"gawd\", \"geek\", \"genr\", \"georg\", \"gger\", \"go\", \"go\", \"go\", \"go\", \"go\", \"go\", \"go\", \"go\", \"go\", \"go\", \"gonna\", \"gonna\", \"gonna\", \"gonna\", \"gonna\", \"gonna\", \"gonna\", \"gonna\", \"gonna\", \"gonna\", \"good\", \"good\", \"good\", \"good\", \"good\", \"good\", \"good\", \"good\", \"good\", \"good\", \"goodby\", \"goodby\", \"grammar\", \"greek\", \"greek\", \"greek\", \"greek\", \"guy\", \"guy\", \"guy\", \"guy\", \"guy\", \"guy\", \"guy\", \"guy\", \"guy\", \"guy\", \"gwernol\", \"haha\", \"haha\", \"hahahaha\", \"hairi\", \"hanib\", \"hanib\", \"happi\", \"happi\", \"happi\", \"happi\", \"happi\", \"happi\", \"happi\", \"happi\", \"happi\", \"happi\", \"harass\", \"harass\", \"harass\", \"harrass\", \"hate\", \"hate\", \"hate\", \"hate\", \"hate\", \"hate\", \"hate\", \"hate\", \"hate\", \"hate\", \"havent\", \"havent\", \"havent\", \"head\", \"head\", \"head\", \"head\", \"head\", \"head\", \"head\", \"head\", \"head\", \"head\", \"heil\", \"hell\", \"hell\", \"hell\", \"hell\", \"hell\", \"hell\", \"hell\", \"hell\", \"hell\", \"hell\", \"hindu\", \"hippi\", \"hist\", \"hitler\", \"hitler\", \"hitler\", \"hobbi\", \"homeland\", \"homo\", \"hous\", \"hous\", \"hous\", \"hous\", \"hous\", \"hous\", \"hous\", \"hous\", \"hous\", \"huge\", \"huge\", \"idea\", \"idea\", \"idea\", \"idea\", \"idea\", \"idea\", \"idea\", \"idea\", \"idea\", \"ident\", \"idiot\", \"idiot\", \"idiot\", \"idiot\", \"idiot\", \"idiot\", \"idiot\", \"idiot\", \"idiot\", \"idiot\", \"ilche\", \"imag\", \"imag\", \"imag\", \"imag\", \"imag\", \"imag\", \"imbecil\", \"inappropri\", \"indian\", \"indian\", \"indian\", \"indian\", \"indian\", \"indian\", \"inform\", \"inform\", \"inform\", \"inform\", \"inform\", \"inform\", \"inform\", \"inform\", \"intellectu\", \"intend\", \"internet\", \"internet\", \"internet\", \"internet\", \"internet\", \"internet\", \"internet\", \"iranian\", \"irish\", \"isra\", \"israel\", \"israel\", \"jackass\", \"jackass\", \"jerk\", \"jerk\", \"jerk\", \"jessica\", \"jew\", \"jew\", \"jewfat\", \"jewish\", \"john\", \"john\", \"john\", \"john\", \"jone\", \"jone\", \"jone\", \"joseph\", \"juici\", \"kill\", \"kill\", \"kill\", \"kill\", \"kill\", \"kill\", \"kill\", \"kill\", \"kill\", \"kiss\", \"kiss\", \"kiss\", \"kiss\", \"kiss\", \"kiss\", \"knob\", \"know\", \"know\", \"know\", \"know\", \"know\", \"know\", \"know\", \"know\", \"know\", \"know\", \"lame\", \"lame\", \"lame\", \"languag\", \"languag\", \"languag\", \"languag\", \"latinus\", \"leav\", \"leav\", \"leav\", \"leav\", \"leav\", \"leav\", \"leav\", \"leav\", \"leav\", \"leav\", \"libtard\", \"lick\", \"lick\", \"lick\", \"lick\", \"lick\", \"licker\", \"lie\", \"lie\", \"lie\", \"lie\", \"lie\", \"lie\", \"lie\", \"lie\", \"lie\", \"lie\", \"life\", \"life\", \"life\", \"life\", \"life\", \"life\", \"life\", \"life\", \"life\", \"life\", \"lifetim\", \"lifetim\", \"like\", \"like\", \"like\", \"like\", \"like\", \"like\", \"like\", \"like\", \"like\", \"like\", \"limp\", \"link\", \"link\", \"link\", \"link\", \"link\", \"link\", \"link\", \"link\", \"link\", \"link\", \"lion\", \"list\", \"list\", \"list\", \"list\", \"list\", \"list\", \"list\", \"list\", \"listen\", \"listen\", \"listen\", \"listen\", \"listen\", \"listen\", \"listen\", \"listen\", \"listen\", \"listen\", \"littl\", \"littl\", \"littl\", \"littl\", \"littl\", \"littl\", \"littl\", \"littl\", \"littl\", \"live\", \"live\", \"live\", \"live\", \"live\", \"live\", \"live\", \"live\", \"live\", \"live\", \"lmao\", \"lmao\", \"look\", \"look\", \"look\", \"look\", \"look\", \"look\", \"look\", \"look\", \"look\", \"look\", \"looser\", \"loser\", \"loser\", \"loser\", \"loser\", \"loser\", \"loser\", \"love\", \"love\", \"love\", \"love\", \"love\", \"love\", \"love\", \"love\", \"love\", \"love\", \"lucki\", \"lucki\", \"luckier\", \"macedonian\", \"macedonian\", \"macro\", \"maggot\", \"make\", \"make\", \"make\", \"make\", \"make\", \"make\", \"make\", \"make\", \"make\", \"make\", \"makin\", \"male\", \"male\", \"male\", \"male\", \"manipul\", \"mann\", \"manner\", \"mccain\", \"mccain\", \"mean\", \"mean\", \"mean\", \"mean\", \"mean\", \"mean\", \"mean\", \"mean\", \"mean\", \"mean\", \"meaningless\", \"mefuck\", \"messag\", \"messag\", \"messag\", \"messag\", \"messag\", \"messag\", \"messag\", \"messag\", \"messag\", \"messag\", \"metal\", \"metal\", \"mexican\", \"mexican\", \"million\", \"million\", \"million\", \"million\", \"million\", \"million\", \"minor\", \"minor\", \"misterwiki\", \"mitt\", \"mod\", \"moder\", \"moder\", \"moder\", \"molest\", \"money\", \"money\", \"money\", \"money\", \"money\", \"money\", \"money\", \"money\", \"money\", \"mongo\", \"monitor\", \"monkey\", \"monkey\", \"monkey\", \"moonshin\", \"mormon\", \"moron\", \"moron\", \"moron\", \"moron\", \"moron\", \"moron\", \"moron\", \"moron\", \"motha\", \"mother\", \"mother\", \"mother\", \"mother\", \"mother\", \"mother\", \"mother\", \"mother\", \"mother\", \"motherfuck\", \"motherfuck\", \"motherfuck\", \"motherfuck\", \"motherfuck\", \"motherfuck\", \"motherfuck\", \"mothjer\", \"mothjer\", \"muhajir\", \"murder\", \"murder\", \"murder\", \"murder\", \"murder\", \"murder\", \"murder\", \"muslim\", \"muslim\", \"muslim\", \"muslim\", \"muslim\", \"muslim\", \"muslim\", \"muslim\", \"mutha\", \"myspac\", \"nasti\", \"nasti\", \"nasti\", \"nasti\", \"nasti\", \"nate\", \"nate\", \"nativ\", \"naughti\", \"nazi\", \"nazi\", \"nazi\", \"nazi\", \"nazi\", \"nazi\", \"need\", \"need\", \"need\", \"need\", \"need\", \"need\", \"need\", \"need\", \"need\", \"need\", \"negro\", \"neiln\", \"neiln\", \"nerd\", \"nerd\", \"nhrhs\", \"nice\", \"nice\", \"nice\", \"nice\", \"nice\", \"nice\", \"nice\", \"nicknam\", \"nigga\", \"nigga\", \"nigga\", \"nigga\", \"nigga\", \"nigga\", \"nigga\", \"nigga\", \"nigga\", \"niggaz\", \"nigger\", \"nigger\", \"nigger\", \"niggertardgo\", \"nippl\", \"njgw\", \"noob\", \"noob\", \"norri\", \"northern\", \"notabl\", \"novemb\", \"numer\", \"object\", \"obvious\", \"obvious\", \"obvious\", \"obvious\", \"octob\", \"offpiss\", \"oxymoron\", \"paedophil\", \"page\", \"page\", \"page\", \"page\", \"page\", \"page\", \"page\", \"page\", \"page\", \"pakistani\", \"paranoid\", \"password\", \"password\", \"pathet\", \"pathet\", \"pathet\", \"pathet\", \"pathet\", \"pathet\", \"pathet\", \"pathet\", \"pathet\", \"pedo\", \"pedophil\", \"pedophil\", \"peni\", \"peni\", \"peni\", \"peni\", \"peni\", \"peni\", \"peopl\", \"peopl\", \"peopl\", \"peopl\", \"peopl\", \"peopl\", \"peopl\", \"peopl\", \"peopl\", \"peopl\", \"persian\", \"persian\", \"persist\", \"person\", \"person\", \"person\", \"person\", \"person\", \"person\", \"person\", \"person\", \"person\", \"person\", \"peter\", \"peter\", \"philosoph\", \"phuq\", \"phuq\", \"piec\", \"piec\", \"piec\", \"piec\", \"piec\", \"piec\", \"piec\", \"piec\", \"piec\", \"pig\", \"plot\", \"pointless\", \"poop\", \"poop\", \"post\", \"post\", \"post\", \"post\", \"post\", \"post\", \"post\", \"post\", \"post\", \"post\", \"preced\", \"preced\", \"priest\", \"proof\", \"proof\", \"proof\", \"proof\", \"propaganda\", \"prostitut\", \"prove\", \"prove\", \"prove\", \"prove\", \"prove\", \"prove\", \"pumpkin\", \"puppet\", \"puppet\", \"pussi\", \"pussi\", \"pussi\", \"pussi\", \"pussi\", \"pussi\", \"pussi\", \"pussi\", \"putin\", \"putin\", \"queer\", \"queer\", \"racial\", \"racist\", \"racist\", \"racist\", \"racist\", \"racist\", \"racist\", \"racist\", \"racist\", \"racist\", \"racist\", \"raid\", \"rajput\", \"rap\", \"rap\", \"rap\", \"rape\", \"rape\", \"rape\", \"read\", \"read\", \"read\", \"read\", \"read\", \"read\", \"read\", \"read\", \"read\", \"read\", \"real\", \"real\", \"real\", \"real\", \"real\", \"real\", \"real\", \"real\", \"real\", \"real\", \"realiz\", \"realiz\", \"realiz\", \"realiz\", \"realiz\", \"realiz\", \"realiz\", \"realiz\", \"redneck\", \"refrain\", \"religi\", \"religion\", \"religion\", \"remov\", \"remov\", \"remov\", \"remov\", \"remov\", \"remov\", \"remov\", \"repeat\", \"repeat\", \"repeat\", \"repeat\", \"repeat\", \"report\", \"report\", \"report\", \"report\", \"report\", \"report\", \"report\", \"report\", \"report\", \"resid\", \"respect\", \"respect\", \"respect\", \"respect\", \"respect\", \"respect\", \"respect\", \"retard\", \"retard\", \"retard\", \"retard\", \"retard\", \"retard\", \"retard\", \"retard\", \"retard\", \"retard\", \"retart\", \"rever\", \"revis\", \"rice\", \"ridicul\", \"ridicul\", \"ridicul\", \"right\", \"right\", \"right\", \"right\", \"right\", \"right\", \"right\", \"right\", \"right\", \"right\", \"rightcom\", \"righteous\", \"rightget\", \"robert\", \"rodeoand\", \"romney\", \"rot\", \"ruin\", \"ruin\", \"ruin\", \"ruin\", \"ruin\", \"rule\", \"rule\", \"rule\", \"rule\", \"rule\", \"rule\", \"rule\", \"rule\", \"sack\", \"sack\", \"salt\", \"sanns\", \"sanns\", \"santa\", \"sassi\", \"sassi\", \"satan\", \"satisfi\", \"say\", \"say\", \"say\", \"say\", \"say\", \"say\", \"say\", \"say\", \"say\", \"say\", \"scum\", \"scum\", \"semit\", \"septemb\", \"serbia\", \"sexual\", \"sexual\", \"sexual\", \"sexual\", \"shes\", \"shit\", \"shit\", \"shit\", \"shit\", \"shit\", \"shit\", \"shit\", \"shit\", \"shit\", \"shit\", \"shitfuck\", \"shithead\", \"shithead\", \"shithead\", \"shithol\", \"shitstop\", \"shove\", \"shove\", \"shove\", \"shut\", \"shut\", \"shut\", \"shut\", \"shut\", \"shut\", \"shut\", \"shut\", \"sign\", \"sign\", \"sign\", \"sign\", \"sign\", \"sign\", \"sign\", \"sign\", \"sign\", \"sikh\", \"silli\", \"simpson\", \"site\", \"site\", \"site\", \"site\", \"site\", \"site\", \"site\", \"slap\", \"slap\", \"slap\", \"slap\", \"slap\", \"slap\", \"slight\", \"slit\", \"sloppi\", \"slut\", \"slut\", \"slut\", \"slut\", \"small\", \"small\", \"small\", \"small\", \"small\", \"small\", \"small\", \"small\", \"small\", \"smell\", \"smell\", \"smell\", \"smell\", \"smelli\", \"snitch\", \"socialist\", \"sock\", \"sock\", \"son\", \"sourc\", \"sourc\", \"sourc\", \"sourc\", \"sourc\", \"sourc\", \"soviet\", \"spanish\", \"spew\", \"spic\", \"spic\", \"stalk\", \"stalk\", \"stalk\", \"stalk\", \"stalker\", \"stop\", \"stop\", \"stop\", \"stop\", \"stop\", \"stop\", \"stop\", \"stop\", \"stop\", \"stop\", \"stuff\", \"stuff\", \"stuff\", \"stuff\", \"stuff\", \"stuff\", \"stuff\", \"stuff\", \"stuff\", \"stupid\", \"stupid\", \"stupid\", \"stupid\", \"stupid\", \"stupid\", \"stupid\", \"stupid\", \"stupid\", \"stupid\", \"subject\", \"suck\", \"suck\", \"suck\", \"suck\", \"suck\", \"suck\", \"suck\", \"suck\", \"suck\", \"sucker\", \"sunflow\", \"super\", \"super\", \"super\", \"supertr\", \"suppress\", \"supremacist\", \"supress\", \"sweet\", \"sweet\", \"sweet\", \"take\", \"take\", \"take\", \"take\", \"take\", \"take\", \"take\", \"take\", \"take\", \"take\", \"talk\", \"talk\", \"talk\", \"talk\", \"talk\", \"talk\", \"talk\", \"talk\", \"talk\", \"talk\", \"tang\", \"tell\", \"tell\", \"tell\", \"tell\", \"tell\", \"tell\", \"tell\", \"tell\", \"tell\", \"tell\", \"term\", \"term\", \"term\", \"term\", \"terrorist\", \"terrorist\", \"terrorist\", \"terrorist\", \"terrorist\", \"text\", \"text\", \"text\", \"text\", \"text\", \"text\", \"text\", \"theyr\", \"thing\", \"thing\", \"thing\", \"thing\", \"thing\", \"thing\", \"thing\", \"thing\", \"thing\", \"thing\", \"think\", \"think\", \"think\", \"think\", \"think\", \"think\", \"think\", \"think\", \"think\", \"think\", \"thoma\", \"threat\", \"threat\", \"threat\", \"time\", \"time\", \"time\", \"time\", \"time\", \"time\", \"time\", \"time\", \"time\", \"time\", \"tit\", \"tommi\", \"tongu\", \"toni\", \"toni\", \"toni\", \"toni\", \"trace\", \"troll\", \"troll\", \"troll\", \"troll\", \"troll\", \"troll\", \"troll\", \"trout\", \"truth\", \"truth\", \"truth\", \"truth\", \"turk\", \"turkey\", \"turkish\", \"twat\", \"twat\", \"twat\", \"ugli\", \"ugli\", \"ugli\", \"ugli\", \"ugli\", \"ugli\", \"ugli\", \"ugli\", \"ugli\", \"ugli\", \"ullmann\", \"ullmann\", \"unblock\", \"unblock\", \"unblock\", \"unblock\", \"unblock\", \"uncl\", \"unconstruct\", \"unemploy\", \"unsign\", \"useless\", \"useless\", \"useless\", \"useless\", \"user\", \"user\", \"user\", \"user\", \"user\", \"user\", \"usual\", \"valid\", \"vandal\", \"verifi\", \"video\", \"video\", \"video\", \"video\", \"video\", \"video\", \"virgin\", \"virgin\", \"vista\", \"vista\", \"viva\", \"viva\", \"vomit\", \"wale\", \"wale\", \"wanker\", \"want\", \"want\", \"want\", \"want\", \"want\", \"want\", \"want\", \"want\", \"want\", \"want\", \"wanta\", \"wanta\", \"warn\", \"warn\", \"warn\", \"warn\", \"wasnt\", \"watch\", \"watch\", \"watch\", \"watch\", \"watch\", \"watch\", \"watch\", \"watch\", \"watch\", \"watch\", \"weak\", \"weak\", \"weak\", \"weak\", \"weak\", \"weak\", \"welcom\", \"welcom\", \"welcom\", \"welcom\", \"welcom\", \"welcom\", \"welcom\", \"whatsoev\", \"whine\", \"whine\", \"whine\", \"whini\", \"white\", \"white\", \"white\", \"white\", \"white\", \"white\", \"white\", \"white\", \"white\", \"white\", \"whore\", \"whore\", \"whore\", \"whore\", \"wiki\", \"wikipedia\", \"wikipedia\", \"wikipedia\", \"wikipedia\", \"wikipedia\", \"wikipedia\", \"wikipedia\", \"wikipedia\", \"wikipedia\", \"wikipedia\", \"will\", \"woman\", \"woman\", \"woman\", \"woman\", \"woman\", \"woman\", \"woman\", \"woman\", \"women\", \"women\", \"women\", \"women\", \"women\", \"women\", \"women\", \"women\", \"women\", \"women\", \"womensday\", \"womensday\", \"womensday\", \"word\", \"word\", \"word\", \"word\", \"word\", \"word\", \"word\", \"word\", \"word\", \"word\", \"work\", \"work\", \"work\", \"work\", \"work\", \"work\", \"work\", \"work\", \"work\", \"work\", \"world\", \"world\", \"world\", \"world\", \"world\", \"world\", \"world\", \"world\", \"world\", \"world\", \"write\", \"write\", \"write\", \"write\", \"write\", \"write\", \"write\", \"write\", \"yank\", \"yeah\", \"yeah\", \"yeah\", \"yeah\", \"yeah\", \"yeah\", \"yeah\", \"yeah\", \"yeah\", \"year\", \"year\", \"year\", \"year\", \"year\", \"year\", \"year\", \"year\", \"yourselfgo\", \"\\u0177our\"]}, \"R\": 30, \"lambda.step\": 0.01, \"plot.opts\": {\"xlab\": \"PC1\", \"ylab\": \"PC2\"}, \"topic.order\": [4, 6, 3, 7, 10, 9, 5, 8, 2, 1]};\n",
       "\n",
       "function LDAvis_load_lib(url, callback){\n",
       "  var s = document.createElement('script');\n",
       "  s.src = url;\n",
       "  s.async = true;\n",
       "  s.onreadystatechange = s.onload = callback;\n",
       "  s.onerror = function(){console.warn(\"failed to load library \" + url);};\n",
       "  document.getElementsByTagName(\"head\")[0].appendChild(s);\n",
       "}\n",
       "\n",
       "if(typeof(LDAvis) !== \"undefined\"){\n",
       "   // already loaded: just create the visualization\n",
       "   !function(LDAvis){\n",
       "       new LDAvis(\"#\" + \"ldavis_el2136419156923363288030647793\", ldavis_el2136419156923363288030647793_data);\n",
       "   }(LDAvis);\n",
       "}else if(typeof define === \"function\" && define.amd){\n",
       "   // require.js is available: use it to load d3/LDAvis\n",
       "   require.config({paths: {d3: \"https://d3js.org/d3.v5\"}});\n",
       "   require([\"d3\"], function(d3){\n",
       "      window.d3 = d3;\n",
       "      LDAvis_load_lib(\"https://cdn.jsdelivr.net/gh/bmabey/pyLDAvis@3.3.1/pyLDAvis/js/ldavis.v3.0.0.js\", function(){\n",
       "        new LDAvis(\"#\" + \"ldavis_el2136419156923363288030647793\", ldavis_el2136419156923363288030647793_data);\n",
       "      });\n",
       "    });\n",
       "}else{\n",
       "    // require.js not available: dynamically load d3 & LDAvis\n",
       "    LDAvis_load_lib(\"https://d3js.org/d3.v5.js\", function(){\n",
       "         LDAvis_load_lib(\"https://cdn.jsdelivr.net/gh/bmabey/pyLDAvis@3.3.1/pyLDAvis/js/ldavis.v3.0.0.js\", function(){\n",
       "                 new LDAvis(\"#\" + \"ldavis_el2136419156923363288030647793\", ldavis_el2136419156923363288030647793_data);\n",
       "            })\n",
       "         });\n",
       "}\n",
       "</script>"
      ],
      "text/plain": [
       "PreparedData(topic_coordinates=              x         y  topics  cluster       Freq\n",
       "topic                                                \n",
       "3     -0.025490  0.020494       1        1  14.950929\n",
       "5      0.102436  0.028289       2        1  14.743563\n",
       "2     -0.084616  0.038124       3        1  10.113338\n",
       "6     -0.101312 -0.002013       4        1   9.865878\n",
       "9      0.092472 -0.031380       5        1   9.489429\n",
       "8      0.315447 -0.078499       6        1   8.922234\n",
       "4     -0.010752  0.088693       7        1   8.378266\n",
       "7     -0.070279  0.055964       8        1   8.355800\n",
       "1     -0.063032  0.159656       9        1   7.905550\n",
       "0     -0.154874 -0.279328      10        1   7.275011, topic_info=         Term          Freq         Total Category  logprob  loglift\n",
       "2        fuck  30763.000000  30763.000000  Default  30.0000  30.0000\n",
       "5894   nigger  14840.000000  14840.000000  Default  29.0000  29.0000\n",
       "920      suck  11318.000000  11318.000000  Default  28.0000  28.0000\n",
       "1825   faggot   7961.000000   7961.000000  Default  27.0000  27.0000\n",
       "25       hate   5903.000000   5903.000000  Default  26.0000  26.0000\n",
       "...       ...           ...           ...      ...      ...      ...\n",
       "2491     love    436.144876   3051.037674  Topic10  -4.8349   0.6755\n",
       "1234  obvious    214.007105    586.939292  Topic10  -5.5469   1.6118\n",
       "26      peopl    337.474004   4689.065482  Topic10  -5.0914  -0.0108\n",
       "108      hell    249.708886   1847.548297  Topic10  -5.3926   0.6194\n",
       "1754    white    217.976863    920.379030  Topic10  -5.5285   1.1803\n",
       "\n",
       "[666 rows x 6 columns], token_table=      Topic      Freq        Term\n",
       "term                             \n",
       "698       1  0.235232        abus\n",
       "698       2  0.280277        abus\n",
       "698       3  0.010010        abus\n",
       "698       4  0.013347        abus\n",
       "698       5  0.003337        abus\n",
       "...     ...       ...         ...\n",
       "305       6  0.025993        year\n",
       "305       7  0.064116        year\n",
       "305       8  0.181084        year\n",
       "8945      2  0.999124  yourselfgo\n",
       "7950      1  0.989715        ŷour\n",
       "\n",
       "[1929 rows x 3 columns], R=30, lambda_step=0.01, plot_opts={'xlab': 'PC1', 'ylab': 'PC2'}, topic_order=[4, 6, 3, 7, 10, 9, 5, 8, 2, 1])"
      ]
     },
     "execution_count": 25,
     "metadata": {},
     "output_type": "execute_result"
    }
   ],
   "source": [
    "import pyLDAvis\n",
    "import pyLDAvis.gensim_models as gensimvis\n",
    "# Visualize the topics\n",
    "pyLDAvis.enable_notebook()\n",
    "vis = gensimvis.prepare(lda_model, bow_corpus, dictionary)\n",
    "vis"
   ]
  },
  {
   "cell_type": "code",
   "execution_count": 26,
   "id": "75a60579",
   "metadata": {},
   "outputs": [
    {
     "name": "stderr",
     "output_type": "stream",
     "text": [
      "C:\\Users\\matij\\anaconda3\\envs\\nlp\\lib\\site-packages\\ipykernel\\ipkernel.py:287: DeprecationWarning: `should_run_async` will not call `transform_cell` automatically in the future. Please pass the result to `transformed_cell` argument and any exception that happen during thetransform in `preprocessing_exc_tuple` in IPython 7.17 and above.\n",
      "  and should_run_async(code)\n"
     ]
    },
    {
     "data": {
      "text/plain": [
       "[(0, 0.033336367),\n",
       " (1, 0.03333651),\n",
       " (2, 0.033355065),\n",
       " (3, 0.03334587),\n",
       " (4, 0.6999301),\n",
       " (5, 0.033337913),\n",
       " (6, 0.033339065),\n",
       " (7, 0.03333527),\n",
       " (8, 0.03333912),\n",
       " (9, 0.033344686)]"
      ]
     },
     "execution_count": 26,
     "metadata": {},
     "output_type": "execute_result"
    }
   ],
   "source": [
    "test = lda_model[bow_corpus[3]]\n",
    "test"
   ]
  },
  {
   "cell_type": "code",
   "execution_count": 27,
   "id": "22dc2858",
   "metadata": {},
   "outputs": [
    {
     "name": "stderr",
     "output_type": "stream",
     "text": [
      "C:\\Users\\matij\\anaconda3\\envs\\nlp\\lib\\site-packages\\ipykernel\\ipkernel.py:287: DeprecationWarning: `should_run_async` will not call `transform_cell` automatically in the future. Please pass the result to `transformed_cell` argument and any exception that happen during thetransform in `preprocessing_exc_tuple` in IPython 7.17 and above.\n",
      "  and should_run_async(code)\n"
     ]
    }
   ],
   "source": [
    "def argmax(pairs):\n",
    "    return max(pairs, key=lambda x: x[1])[0]"
   ]
  },
  {
   "cell_type": "code",
   "execution_count": 28,
   "id": "64aae15c",
   "metadata": {},
   "outputs": [
    {
     "name": "stderr",
     "output_type": "stream",
     "text": [
      "C:\\Users\\matij\\anaconda3\\envs\\nlp\\lib\\site-packages\\ipykernel\\ipkernel.py:287: DeprecationWarning: `should_run_async` will not call `transform_cell` automatically in the future. Please pass the result to `transformed_cell` argument and any exception that happen during thetransform in `preprocessing_exc_tuple` in IPython 7.17 and above.\n",
      "  and should_run_async(code)\n"
     ]
    }
   ],
   "source": [
    "old_labels = dict()\n",
    "for i in range(len(bow_corpus)):\n",
    "    key = max(lda_model[bow_corpus[i]], key=lambda x: x[1])[0]\n",
    "    x = old_labels.get(key)\n",
    "    if x is None:\n",
    "        x = []\n",
    "        old_labels[key] = x\n",
    "    x.append(labels[i])"
   ]
  },
  {
   "cell_type": "code",
   "execution_count": 30,
   "id": "8fe3e811",
   "metadata": {},
   "outputs": [
    {
     "name": "stdout",
     "output_type": "stream",
     "text": [
      "0\n",
      "('abus', 0.08939526730937773)\n",
      "('bene', 0.10429447852760736)\n",
      "('cybe', 0.007011393514460999)\n",
      "('hate', 0.07077125328659072)\n",
      "('iden', 0.014899211218229623)\n",
      "('insu', 0.09421560035056968)\n",
      "('obsc', 0.08873794916739702)\n",
      "('offe', 0.013803680981595092)\n",
      "('prof', 0.016652059596844872)\n",
      "('raci', 0.004163014899211218)\n",
      "('sexi', 0.11108676599474146)\n",
      "('spam', 0.19171779141104295)\n",
      "('thre', 0.008764241893076249)\n",
      "('toxi', 0.18448729184925505)\n",
      "1\n",
      "('abus', 0.10694822888283378)\n",
      "('bene', 0.029064486830154404)\n",
      "('cybe', 0.004541326067211626)\n",
      "('hate', 0.06584922797456857)\n",
      "('iden', 0.017711171662125342)\n",
      "('insu', 0.11762034514078111)\n",
      "('obsc', 0.1201180744777475)\n",
      "('offe', 0.007266121707538601)\n",
      "('prof', 0.009763851044504996)\n",
      "('raci', 0.004541326067211626)\n",
      "('sexi', 0.0958219800181653)\n",
      "('spam', 0.1771117166212534)\n",
      "('thre', 0.005676657584014532)\n",
      "('toxi', 0.23796548592188918)\n",
      "2\n",
      "('abus', 0.07234517388878557)\n",
      "('bene', 0.017295889901432025)\n",
      "('cybe', 0.006881160498419193)\n",
      "('hate', 0.05783894364887484)\n",
      "('iden', 0.019341640319880976)\n",
      "('insu', 0.11921145620234332)\n",
      "('obsc', 0.12665054863306677)\n",
      "('offe', 0.010786684024549005)\n",
      "('prof', 0.021945322670634183)\n",
      "('raci', 0.006881160498419193)\n",
      "('sexi', 0.0963362469778687)\n",
      "('spam', 0.15715082759903293)\n",
      "('thre', 0.005765296633810675)\n",
      "('toxi', 0.28156964850288263)\n",
      "3\n",
      "('abus', 0.07261709120788824)\n",
      "('bene', 0.03368940016433854)\n",
      "('cybe', 0.008216926869350863)\n",
      "('hate', 0.08134757600657354)\n",
      "('iden', 0.016228430566967954)\n",
      "('insu', 0.1097986852917009)\n",
      "('obsc', 0.11924815119145439)\n",
      "('offe', 0.0238290879211175)\n",
      "('prof', 0.027732128184059162)\n",
      "('raci', 0.0022596548890714873)\n",
      "('sexi', 0.05803204601479047)\n",
      "('spam', 0.18601068200493015)\n",
      "('thre', 0.006676253081347576)\n",
      "('toxi', 0.2543138866064092)\n",
      "4\n",
      "('abus', 0.10458536585365853)\n",
      "('bene', 0.1475121951219512)\n",
      "('cybe', 0.0033170731707317072)\n",
      "('hate', 0.04975609756097561)\n",
      "('iden', 0.012878048780487804)\n",
      "('insu', 0.10321951219512195)\n",
      "('obsc', 0.09521951219512195)\n",
      "('offe', 0.00526829268292683)\n",
      "('prof', 0.010341463414634147)\n",
      "('raci', 0.003902439024390244)\n",
      "('sexi', 0.15024390243902438)\n",
      "('spam', 0.13717073170731708)\n",
      "('thre', 0.007414634146341463)\n",
      "('toxi', 0.16917073170731708)\n",
      "5\n",
      "('abus', 0.05544455544455545)\n",
      "('bene', 0.010614385614385614)\n",
      "('cybe', 0.000999000999000999)\n",
      "('hate', 0.017732267732267732)\n",
      "('iden', 0.037337662337662336)\n",
      "('insu', 0.2445054945054945)\n",
      "('obsc', 0.28234265734265734)\n",
      "('offe', 0.001998001998001998)\n",
      "('prof', 0.006118881118881119)\n",
      "('raci', 0.0004995004995004995)\n",
      "('sexi', 0.01848151848151848)\n",
      "('spam', 0.0250999000999001)\n",
      "('thre', 0.013986013986013986)\n",
      "('toxi', 0.28484015984015987)\n",
      "6\n",
      "('abus', 0.07447008066028887)\n",
      "('bene', 0.010504595760645283)\n",
      "('cybe', 0.007503282686175202)\n",
      "('hate', 0.07503282686175201)\n",
      "('iden', 0.017445132245357344)\n",
      "('insu', 0.1221159257175014)\n",
      "('obsc', 0.1305571187394485)\n",
      "('offe', 0.005627462014631401)\n",
      "('prof', 0.012567998499343463)\n",
      "('raci', 0.0013130744700806604)\n",
      "('sexi', 0.03564059275933221)\n",
      "('spam', 0.2303507784655787)\n",
      "('thre', 0.009566685424873381)\n",
      "('toxi', 0.26730444569499157)\n",
      "7\n",
      "('abus', 0.10358274433341458)\n",
      "('bene', 0.07896660979770899)\n",
      "('cybe', 0.003168413356080916)\n",
      "('hate', 0.0675115768949549)\n",
      "('iden', 0.034365098708262244)\n",
      "('insu', 0.11820619059224957)\n",
      "('obsc', 0.12186205215695832)\n",
      "('offe', 0.00804289544235925)\n",
      "('prof', 0.007555447233731416)\n",
      "('raci', 0.003168413356080916)\n",
      "('sexi', 0.049475993175725076)\n",
      "('spam', 0.1596392883256154)\n",
      "('thre', 0.010480136485498415)\n",
      "('toxi', 0.23397514014135998)\n",
      "8\n",
      "('abus', 0.06476683937823834)\n",
      "('bene', 0.01133419689119171)\n",
      "('cybe', 0.0003238341968911917)\n",
      "('hate', 0.03400259067357513)\n",
      "('iden', 0.053432642487046635)\n",
      "('insu', 0.20725388601036268)\n",
      "('obsc', 0.22247409326424872)\n",
      "('offe', 0.0042098445595854924)\n",
      "('prof', 0.0051813471502590676)\n",
      "('raci', 0.0003238341968911917)\n",
      "('sexi', 0.023639896373056996)\n",
      "('spam', 0.08257772020725389)\n",
      "('thre', 0.010362694300518135)\n",
      "('toxi', 0.2801165803108808)\n",
      "9\n",
      "('abus', 0.05365958360163125)\n",
      "('bene', 0.01244902339557845)\n",
      "('cybe', 0.002361021678471775)\n",
      "('hate', 0.0266151534664091)\n",
      "('iden', 0.023824855119124275)\n",
      "('insu', 0.20519424769263792)\n",
      "('obsc', 0.22343850611719254)\n",
      "('offe', 0.0038634900193174502)\n",
      "('prof', 0.007941618373041425)\n",
      "('raci', 0.0010731916720326251)\n",
      "('sexi', 0.033698218501824424)\n",
      "('spam', 0.09207984546039923)\n",
      "('thre', 0.008800171710667526)\n",
      "('toxi', 0.305001073191672)\n"
     ]
    },
    {
     "name": "stderr",
     "output_type": "stream",
     "text": [
      "C:\\Users\\matij\\anaconda3\\envs\\nlp\\lib\\site-packages\\ipykernel\\ipkernel.py:287: DeprecationWarning: `should_run_async` will not call `transform_cell` automatically in the future. Please pass the result to `transformed_cell` argument and any exception that happen during thetransform in `preprocessing_exc_tuple` in IPython 7.17 and above.\n",
      "  and should_run_async(code)\n"
     ]
    }
   ],
   "source": [
    "for i in range(10):\n",
    "    labs, occ = np.unique(old_labels[i], return_counts = True)\n",
    "    print(f\"{i}\")\n",
    "    for tup in list(zip(labs, occ/sum(occ))):\n",
    "        print(tup)"
   ]
  },
  {
   "cell_type": "code",
   "execution_count": 31,
   "id": "09be3be4",
   "metadata": {},
   "outputs": [
    {
     "name": "stderr",
     "output_type": "stream",
     "text": [
      "C:\\Users\\matij\\anaconda3\\envs\\nlp\\lib\\site-packages\\ipykernel\\ipkernel.py:287: DeprecationWarning: `should_run_async` will not call `transform_cell` automatically in the future. Please pass the result to `transformed_cell` argument and any exception that happen during thetransform in `preprocessing_exc_tuple` in IPython 7.17 and above.\n",
      "  and should_run_async(code)\n"
     ]
    }
   ],
   "source": [
    "old_labels = dict()\n",
    "for i in range(len(bow_corpus)):\n",
    "    key = labels[i]\n",
    "    new_topic = max(lda_model[bow_corpus[i]], key=lambda x: x[1])[0]\n",
    "    x = old_labels.get(key)\n",
    "    if x is None:\n",
    "        x = []\n",
    "        old_labels[key] = x\n",
    "    x.append(new_topic)"
   ]
  },
  {
   "cell_type": "code",
   "execution_count": 32,
   "id": "e9ca319c",
   "metadata": {},
   "outputs": [
    {
     "name": "stdout",
     "output_type": "stream",
     "text": [
      "abus\n",
      "(0, 0.09675893068370002)\n",
      "(1, 0.11166311805062692)\n",
      "(2, 0.09250059143600663)\n",
      "(3, 0.16631180506269222)\n",
      "(4, 0.127750177430802)\n",
      "(5, 0.1050390347764372)\n",
      "(6, 0.09226401703335699)\n",
      "(7, 0.10149041873669269)\n",
      "(8, 0.047551454932576294)\n",
      "(9, 0.05867045185710906)\n",
      "hate\n",
      "(0, 0.10632659821132825)\n",
      "(1, 0.09572706194104008)\n",
      "(2, 0.1036767141437562)\n",
      "(3, 0.26399470023186483)\n",
      "(4, 0.08413381914541239)\n",
      "(5, 0.047035442199403775)\n",
      "(6, 0.13183173236170917)\n",
      "(7, 0.09274594236502152)\n",
      "(8, 0.03477972838688308)\n",
      "(9, 0.03974826101358066)\n",
      "spam\n",
      "(0, 0.11192495502441532)\n",
      "(1, 0.10100231303006939)\n",
      "(2, 0.10832690824980724)\n",
      "(3, 0.23297352865587254)\n",
      "(4, 0.0903366743767669)\n",
      "(5, 0.025828835774865073)\n",
      "(6, 0.15741454638910307)\n",
      "(7, 0.08378308918015934)\n",
      "(8, 0.033024929324081215)\n",
      "(9, 0.055384219994859936)\n",
      "offe\n",
      "(0, 0.1206896551724138)\n",
      "(1, 0.05938697318007663)\n",
      "(2, 0.1111111111111111)\n",
      "(3, 0.4501915708812261)\n",
      "(4, 0.05172413793103448)\n",
      "(5, 0.03065134099616858)\n",
      "(6, 0.05555555555555555)\n",
      "(7, 0.06130268199233716)\n",
      "(8, 0.02490421455938697)\n",
      "(9, 0.034482758620689655)\n",
      "prof\n",
      "(0, 0.1013157894736842)\n",
      "(1, 0.056578947368421055)\n",
      "(2, 0.15263157894736842)\n",
      "(3, 0.35657894736842105)\n",
      "(4, 0.06973684210526315)\n",
      "(5, 0.060526315789473685)\n",
      "(6, 0.09078947368421053)\n",
      "(7, 0.04078947368421053)\n",
      "(8, 0.021052631578947368)\n",
      "(9, 0.05)\n",
      "cybe\n",
      "(0, 0.11969111969111969)\n",
      "(1, 0.07722007722007722)\n",
      "(2, 0.14671814671814673)\n",
      "(3, 0.3088803088803089)\n",
      "(4, 0.06563706563706563)\n",
      "(5, 0.02702702702702703)\n",
      "(6, 0.15444015444015444)\n",
      "(7, 0.05405405405405406)\n",
      "(8, 0.003861003861003861)\n",
      "(9, 0.04247104247104247)\n",
      "raci\n",
      "(0, 0.12837837837837837)\n",
      "(1, 0.13513513513513514)\n",
      "(2, 0.25)\n",
      "(3, 0.14189189189189189)\n",
      "(4, 0.14189189189189189)\n",
      "(5, 0.02702702702702703)\n",
      "(6, 0.0472972972972973)\n",
      "(7, 0.08783783783783784)\n",
      "(8, 0.006756756756756757)\n",
      "(9, 0.033783783783783786)\n",
      "sexi\n",
      "(0, 0.14354066985645933)\n",
      "(1, 0.118491415705038)\n",
      "(2, 0.1457922882071489)\n",
      "(3, 0.15902054601745005)\n",
      "(4, 0.2155924570785252)\n",
      "(5, 0.04109203490008444)\n",
      "(6, 0.0537573881227132)\n",
      "(7, 0.05826062482409232)\n",
      "(8, 0.01998311286236983)\n",
      "(9, 0.044469462426118773)\n",
      "bene\n",
      "(0, 0.2039333048311244)\n",
      "(1, 0.0542967079948696)\n",
      "(2, 0.03976058144506199)\n",
      "(3, 0.14065840102607952)\n",
      "(4, 0.32364258230012827)\n",
      "(5, 0.037195382642154766)\n",
      "(6, 0.023086789226165028)\n",
      "(7, 0.13766566908935443)\n",
      "(8, 0.014963659683625482)\n",
      "(9, 0.02479692176143651)\n",
      "toxi\n",
      "(0, 0.061318344404701075)\n",
      "(1, 0.07599094824439741)\n",
      "(2, 0.11103000218994087)\n",
      "(3, 0.18118110811008104)\n",
      "(4, 0.06321629316008467)\n",
      "(5, 0.16687349441565077)\n",
      "(6, 0.10446017957515147)\n",
      "(7, 0.06978611577487408)\n",
      "(8, 0.06234031681144609)\n",
      "(9, 0.10380319731367253)\n",
      "obsc\n",
      "(0, 0.04793466682447627)\n",
      "(1, 0.06225588827080128)\n",
      "(2, 0.07977275417209137)\n",
      "(3, 0.1381228547757131)\n",
      "(4, 0.05775831459344301)\n",
      "(5, 0.2673689193987454)\n",
      "(6, 0.08249496981891348)\n",
      "(7, 0.05894188661380045)\n",
      "(8, 0.08178482660669902)\n",
      "(9, 0.12356491892531661)\n",
      "thre\n",
      "(0, 0.08368200836820083)\n",
      "(1, 0.0502092050209205)\n",
      "(2, 0.06903765690376569)\n",
      "(3, 0.1401673640167364)\n",
      "(4, 0.07740585774058577)\n",
      "(5, 0.2384937238493724)\n",
      "(6, 0.10460251046025104)\n",
      "(7, 0.08786610878661087)\n",
      "(8, 0.06485355648535565)\n",
      "(9, 0.08368200836820083)\n",
      "insu\n",
      "(0, 0.05458931065126317)\n",
      "(1, 0.06588802843722229)\n",
      "(2, 0.08150311032118827)\n",
      "(3, 0.13533070966103847)\n",
      "(4, 0.06766535483051923)\n",
      "(5, 0.24857179129110069)\n",
      "(6, 0.08239177351783673)\n",
      "(7, 0.06157166433921544)\n",
      "(8, 0.08175701409165927)\n",
      "(9, 0.12073124285895645)\n",
      "iden\n",
      "(0, 0.05378020265003897)\n",
      "(1, 0.060795011691348405)\n",
      "(2, 0.08028059236165237)\n",
      "(3, 0.12314886983632112)\n",
      "(4, 0.05144193296960249)\n",
      "(5, 0.23070927513639908)\n",
      "(6, 0.07170693686671863)\n",
      "(7, 0.11145752143413874)\n",
      "(8, 0.1293842556508184)\n",
      "(9, 0.08729540140296181)\n"
     ]
    },
    {
     "name": "stderr",
     "output_type": "stream",
     "text": [
      "C:\\Users\\matij\\anaconda3\\envs\\nlp\\lib\\site-packages\\ipykernel\\ipkernel.py:287: DeprecationWarning: `should_run_async` will not call `transform_cell` automatically in the future. Please pass the result to `transformed_cell` argument and any exception that happen during thetransform in `preprocessing_exc_tuple` in IPython 7.17 and above.\n",
      "  and should_run_async(code)\n"
     ]
    }
   ],
   "source": [
    "for key in old_labels.keys():\n",
    "    labs, occ = np.unique(old_labels[key], return_counts = True)\n",
    "    print(f\"{key}\")\n",
    "    for tup in list(zip(labs, occ/sum(occ))):\n",
    "        print(tup)"
   ]
  },
  {
   "cell_type": "code",
   "execution_count": null,
   "id": "d89b9271",
   "metadata": {},
   "outputs": [],
   "source": []
  }
 ],
 "metadata": {
  "kernelspec": {
   "display_name": "Python [conda env:nlp] *",
   "language": "python",
   "name": "conda-env-nlp-py"
  },
  "language_info": {
   "codemirror_mode": {
    "name": "ipython",
    "version": 3
   },
   "file_extension": ".py",
   "mimetype": "text/x-python",
   "name": "python",
   "nbconvert_exporter": "python",
   "pygments_lexer": "ipython3",
   "version": "3.7.10"
  }
 },
 "nbformat": 4,
 "nbformat_minor": 5
}
