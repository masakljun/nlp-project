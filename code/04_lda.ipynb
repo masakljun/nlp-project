{
 "cells": [
  {
   "cell_type": "markdown",
   "id": "e81a8d6c",
   "metadata": {},
   "source": [
    "# LDA"
   ]
  },
  {
   "cell_type": "code",
   "execution_count": 1,
   "id": "preceding-trunk",
   "metadata": {},
   "outputs": [
    {
     "name": "stderr",
     "output_type": "stream",
     "text": [
      "[nltk_data] Downloading package wordnet to\n",
      "[nltk_data]     C:\\Users\\matij\\AppData\\Roaming\\nltk_data...\n",
      "[nltk_data]   Package wordnet is already up-to-date!\n"
     ]
    },
    {
     "data": {
      "text/plain": [
       "True"
      ]
     },
     "execution_count": 1,
     "metadata": {},
     "output_type": "execute_result"
    }
   ],
   "source": [
    "import json \n",
    "import nltk\n",
    "import gensim\n",
    "import pandas as pd\n",
    "from gensim.utils import simple_preprocess\n",
    "from gensim.parsing.preprocessing import STOPWORDS\n",
    "from nltk.stem import WordNetLemmatizer, SnowballStemmer\n",
    "from nltk.stem.porter import *\n",
    "import numpy as np\n",
    "np.random.seed(1)\n",
    "nltk.download('wordnet')"
   ]
  },
  {
   "cell_type": "markdown",
   "id": "7791b8ae",
   "metadata": {},
   "source": [
    "Read and preprocess data"
   ]
  },
  {
   "cell_type": "code",
   "execution_count": 2,
   "id": "fuzzy-waters",
   "metadata": {},
   "outputs": [
    {
     "data": {
      "text/html": [
       "<div>\n",
       "<style scoped>\n",
       "    .dataframe tbody tr th:only-of-type {\n",
       "        vertical-align: middle;\n",
       "    }\n",
       "\n",
       "    .dataframe tbody tr th {\n",
       "        vertical-align: top;\n",
       "    }\n",
       "\n",
       "    .dataframe thead th {\n",
       "        text-align: right;\n",
       "    }\n",
       "</style>\n",
       "<table border=\"1\" class=\"dataframe\">\n",
       "  <thead>\n",
       "    <tr style=\"text-align: right;\">\n",
       "      <th></th>\n",
       "      <th>text</th>\n",
       "      <th>label</th>\n",
       "    </tr>\n",
       "  </thead>\n",
       "  <tbody>\n",
       "    <tr>\n",
       "      <th>0</th>\n",
       "      <td>fucks sake go away stupid anon — ^  https://t....</td>\n",
       "      <td>abusive</td>\n",
       "    </tr>\n",
       "    <tr>\n",
       "      <th>1</th>\n",
       "      <td>Damn dean just put Corbin to sleep. That Match...</td>\n",
       "      <td>abusive</td>\n",
       "    </tr>\n",
       "    <tr>\n",
       "      <th>2</th>\n",
       "      <td>@TheRealCamerota THAT BEER BUYING FREAKING IDI...</td>\n",
       "      <td>abusive</td>\n",
       "    </tr>\n",
       "    <tr>\n",
       "      <th>3</th>\n",
       "      <td>what idiot called them antacids and not afterb...</td>\n",
       "      <td>abusive</td>\n",
       "    </tr>\n",
       "    <tr>\n",
       "      <th>4</th>\n",
       "      <td>RT @gogglepossum: Don't you hate people that p...</td>\n",
       "      <td>abusive</td>\n",
       "    </tr>\n",
       "  </tbody>\n",
       "</table>\n",
       "</div>"
      ],
      "text/plain": [
       "                                                text    label\n",
       "0  fucks sake go away stupid anon — ^  https://t....  abusive\n",
       "1  Damn dean just put Corbin to sleep. That Match...  abusive\n",
       "2  @TheRealCamerota THAT BEER BUYING FREAKING IDI...  abusive\n",
       "3  what idiot called them antacids and not afterb...  abusive\n",
       "4  RT @gogglepossum: Don't you hate people that p...  abusive"
      ]
     },
     "execution_count": 2,
     "metadata": {},
     "output_type": "execute_result"
    }
   ],
   "source": [
    "df = pd.read_csv(\"dataset/data.csv\", sep = \";\")\n",
    "df.head()"
   ]
  },
  {
   "cell_type": "code",
   "execution_count": 3,
   "id": "bb1ce4b9",
   "metadata": {},
   "outputs": [
    {
     "data": {
      "text/plain": [
       "54517"
      ]
     },
     "execution_count": 3,
     "metadata": {},
     "output_type": "execute_result"
    }
   ],
   "source": [
    "len(df)"
   ]
  },
  {
   "cell_type": "code",
   "execution_count": 4,
   "id": "improving-skirt",
   "metadata": {},
   "outputs": [],
   "source": [
    "labels = df[\"label\"].tolist()\n",
    "texts = df[\"text\"].tolist()\n",
    "labels = [x[:4] for x in labels]\n",
    "#labels"
   ]
  },
  {
   "cell_type": "code",
   "execution_count": 5,
   "id": "ambient-falls",
   "metadata": {},
   "outputs": [],
   "source": [
    "def preprocess(A):\n",
    "    B = []\n",
    "  \n",
    "    for i in range(len(A)):\n",
    "\n",
    "        text = A[i]\n",
    "        # remove old style retweet text \"RT\"\n",
    "        text = re.sub(r'^RT[\\s]+', '', text)\n",
    "\n",
    "        # remove hyperlinks\n",
    "        text= re.sub(r'https?:\\/\\/.*[\\r\\n]*', '', text)\n",
    "\n",
    "        # remove hashtags\n",
    "        # only removing the hash # sign from the word\n",
    "        text = re.sub(r'#', '', text)\n",
    "\n",
    "        # remove tagging @\n",
    "        text = re.sub(r\"(?:\\@|https?\\://)\\S+\", \"\", text)\n",
    "\n",
    "        # remove new line \\n\n",
    "        text = re.sub(\"\\n\", \"\", text)\n",
    "\n",
    "        # remove zero length tweets\n",
    "        if(len(text) == 0 ):\n",
    "            continue\n",
    "\n",
    "        B.append(text)\n",
    "        \n",
    "    return B"
   ]
  },
  {
   "cell_type": "code",
   "execution_count": 6,
   "id": "written-glass",
   "metadata": {},
   "outputs": [],
   "source": [
    "texts = preprocess(texts)"
   ]
  },
  {
   "cell_type": "code",
   "execution_count": 7,
   "id": "directed-telescope",
   "metadata": {},
   "outputs": [
    {
     "name": "stdout",
     "output_type": "stream",
     "text": [
      "337\n"
     ]
    }
   ],
   "source": [
    "stopwords = list(gensim.parsing.preprocessing.STOPWORDS)\n",
    "#print(len(stopwords))\n",
    "#stopwords.extend([\"like\", \"damn\"])\n",
    "print(len(stopwords))\n",
    "stemmer = SnowballStemmer(\"english\")\n",
    "def lemmatize_stemming(text):\n",
    "    return stemmer.stem(WordNetLemmatizer().lemmatize(text, pos='v'))\n",
    "def preprocess(text):\n",
    "    result = []\n",
    "    \n",
    "    for token in gensim.utils.simple_preprocess(text):\n",
    "        if token not in stopwords and len(token) > 3:\n",
    "            result.append(lemmatize_stemming(token))\n",
    "    return result\n"
   ]
  },
  {
   "cell_type": "code",
   "execution_count": 8,
   "id": "infectious-ancient",
   "metadata": {},
   "outputs": [],
   "source": [
    "res = []\n",
    "for text in texts:\n",
    "    res.append(preprocess(text))\n"
   ]
  },
  {
   "cell_type": "code",
   "execution_count": 9,
   "id": "interim-inquiry",
   "metadata": {},
   "outputs": [
    {
     "name": "stdout",
     "output_type": "stream",
     "text": [
      "Dictionary(37001 unique tokens: ['anon', 'away', 'fuck', 'sake', 'stupid']...)\n",
      "0 anon\n",
      "1 away\n",
      "2 fuck\n",
      "3 sake\n",
      "4 stupid\n",
      "5 bore\n",
      "6 corbin\n",
      "7 damn\n",
      "8 dean\n",
      "9 match\n",
      "10 show\n"
     ]
    }
   ],
   "source": [
    "dictionary = gensim.corpora.Dictionary(res)\n",
    "print(dictionary)\n",
    "count = 0\n",
    "for k, v in dictionary.iteritems():\n",
    "    print(k, v)\n",
    "    count += 1\n",
    "    if count > 10:\n",
    "        break"
   ]
  },
  {
   "cell_type": "code",
   "execution_count": 10,
   "id": "applied-daniel",
   "metadata": {},
   "outputs": [],
   "source": [
    "dictionary.filter_extremes(no_below=5, no_above=0.6, keep_n=100000)"
   ]
  },
  {
   "cell_type": "code",
   "execution_count": 11,
   "id": "palestinian-bulletin",
   "metadata": {},
   "outputs": [],
   "source": [
    "bow_corpus = [dictionary.doc2bow(doc) for doc in res]\n"
   ]
  },
  {
   "cell_type": "code",
   "execution_count": 12,
   "id": "tender-earthquake",
   "metadata": {},
   "outputs": [
    {
     "name": "stdout",
     "output_type": "stream",
     "text": [
      "[(0, 0.6467740881470198),\n",
      " (1, 0.4155375954767548),\n",
      " (2, 0.14658472445759876),\n",
      " (3, 0.554131852891468),\n",
      " (4, 0.28365929178108407)]\n"
     ]
    }
   ],
   "source": [
    "from gensim import corpora, models\n",
    "tfidf = models.TfidfModel(bow_corpus)\n",
    "corpus_tfidf = tfidf[bow_corpus]\n",
    "from pprint import pprint\n",
    "for doc in corpus_tfidf:\n",
    "    pprint(doc)\n",
    "    break"
   ]
  },
  {
   "cell_type": "code",
   "execution_count": 13,
   "id": "faced-election",
   "metadata": {},
   "outputs": [],
   "source": [
    "lda_model = gensim.models.LdaMulticore(bow_corpus, num_topics=10, id2word=dictionary, passes=2, workers=2)"
   ]
  },
  {
   "cell_type": "code",
   "execution_count": 14,
   "id": "falling-stable",
   "metadata": {},
   "outputs": [
    {
     "name": "stdout",
     "output_type": "stream",
     "text": [
      "Topic: 0 \n",
      "Words: 0.086*\"moron\" + 0.035*\"nippl\" + 0.027*\"go\" + 0.021*\"retard\" + 0.020*\"rape\" + 0.015*\"aid\" + 0.014*\"loser\" + 0.012*\"imag\" + 0.011*\"repeat\" + 0.011*\"care\"\n",
      "\n",
      "\n",
      "Topic: 1 \n",
      "Words: 0.048*\"nigga\" + 0.048*\"vandal\" + 0.035*\"bastard\" + 0.025*\"tommi\" + 0.023*\"lick\" + 0.020*\"hanib\" + 0.018*\"person\" + 0.015*\"poop\" + 0.013*\"peopl\" + 0.011*\"post\"\n",
      "\n",
      "\n",
      "Topic: 2 \n",
      "Words: 0.035*\"dickhead\" + 0.031*\"talk\" + 0.029*\"page\" + 0.020*\"spanish\" + 0.017*\"like\" + 0.015*\"ball\" + 0.012*\"good\" + 0.012*\"boob\" + 0.011*\"peopl\" + 0.009*\"robert\"\n",
      "\n",
      "\n",
      "Topic: 3 \n",
      "Words: 0.041*\"like\" + 0.029*\"fucker\" + 0.019*\"want\" + 0.018*\"mother\" + 0.017*\"mothjer\" + 0.014*\"tell\" + 0.013*\"pussi\" + 0.012*\"know\" + 0.012*\"cocksuck\" + 0.011*\"inform\"\n",
      "\n",
      "\n",
      "Topic: 4 \n",
      "Words: 0.052*\"know\" + 0.047*\"shit\" + 0.038*\"idiot\" + 0.033*\"women\" + 0.024*\"assad\" + 0.023*\"delet\" + 0.022*\"fggt\" + 0.019*\"rice\" + 0.017*\"dumb\" + 0.014*\"live\"\n",
      "\n",
      "\n",
      "Topic: 5 \n",
      "Words: 0.245*\"fuck\" + 0.068*\"faggot\" + 0.039*\"cunt\" + 0.020*\"block\" + 0.020*\"admin\" + 0.015*\"mexican\" + 0.015*\"wikipedia\" + 0.012*\"wiki\" + 0.011*\"yourselfgo\" + 0.010*\"shit\"\n",
      "\n",
      "\n",
      "Topic: 6 \n",
      "Words: 0.050*\"huge\" + 0.032*\"asshol\" + 0.022*\"kill\" + 0.019*\"page\" + 0.017*\"edit\" + 0.014*\"remov\" + 0.013*\"take\" + 0.012*\"drink\" + 0.009*\"chang\" + 0.009*\"person\"\n",
      "\n",
      "\n",
      "Topic: 7 \n",
      "Words: 0.093*\"hate\" + 0.039*\"love\" + 0.026*\"wikipedia\" + 0.023*\"damn\" + 0.021*\"like\" + 0.017*\"whore\" + 0.015*\"cock\" + 0.015*\"fool\" + 0.015*\"dirti\" + 0.012*\"bloodi\"\n",
      "\n",
      "\n",
      "Topic: 8 \n",
      "Words: 0.226*\"nigger\" + 0.062*\"bitch\" + 0.039*\"shit\" + 0.032*\"user\" + 0.026*\"peni\" + 0.018*\"stupid\" + 0.017*\"wanker\" + 0.014*\"block\" + 0.014*\"piec\" + 0.014*\"like\"\n",
      "\n",
      "\n",
      "Topic: 9 \n",
      "Words: 0.156*\"suck\" + 0.048*\"dick\" + 0.027*\"cock\" + 0.027*\"stupid\" + 0.023*\"edit\" + 0.020*\"twat\" + 0.016*\"jewish\" + 0.016*\"piec\" + 0.015*\"bitch\" + 0.013*\"articl\"\n",
      "\n",
      "\n"
     ]
    }
   ],
   "source": [
    "for idx, topic in lda_model.print_topics(-1):\n",
    "    print('Topic: {} \\nWords: {}'.format(idx, topic))\n",
    "    print(\"\\n\")"
   ]
  },
  {
   "cell_type": "code",
   "execution_count": 15,
   "id": "pretty-studio",
   "metadata": {},
   "outputs": [
    {
     "name": "stdout",
     "output_type": "stream",
     "text": [
      "Topic: 0 Word: 0.017*\"like\" + 0.015*\"idiot\" + 0.013*\"video\" + 0.012*\"peni\" + 0.012*\"nerd\" + 0.010*\"fuck\" + 0.005*\"know\" + 0.005*\"huge\" + 0.004*\"want\" + 0.004*\"think\"\n",
      "\n",
      "\n",
      "Topic: 1 Word: 0.029*\"nigger\" + 0.018*\"vandal\" + 0.015*\"fuck\" + 0.009*\"page\" + 0.007*\"homosexu\" + 0.007*\"edit\" + 0.007*\"like\" + 0.006*\"stop\" + 0.006*\"shut\" + 0.006*\"wikipedia\"\n",
      "\n",
      "\n",
      "Topic: 2 Word: 0.007*\"mar\" + 0.007*\"wouldn\" + 0.007*\"fuck\" + 0.006*\"know\" + 0.006*\"nigga\" + 0.006*\"women\" + 0.006*\"hello\" + 0.006*\"like\" + 0.005*\"curios\" + 0.005*\"stuff\"\n",
      "\n",
      "\n",
      "Topic: 3 Word: 0.011*\"jew\" + 0.009*\"fuck\" + 0.008*\"warn\" + 0.007*\"dumb\" + 0.006*\"prick\" + 0.006*\"ars\" + 0.006*\"editor\" + 0.006*\"feminazi\" + 0.006*\"stupid\" + 0.005*\"articl\"\n",
      "\n",
      "\n",
      "Topic: 4 Word: 0.053*\"fuck\" + 0.023*\"suck\" + 0.019*\"dick\" + 0.015*\"shit\" + 0.015*\"cunt\" + 0.010*\"mother\" + 0.010*\"stupid\" + 0.010*\"fucker\" + 0.010*\"wiki\" + 0.009*\"bitch\"\n",
      "\n",
      "\n",
      "Topic: 5 Word: 0.029*\"women\" + 0.011*\"fuck\" + 0.010*\"gonna\" + 0.008*\"fine\" + 0.008*\"fight\" + 0.008*\"womensday\" + 0.008*\"happi\" + 0.007*\"nasti\" + 0.007*\"retard\" + 0.006*\"sassi\"\n",
      "\n",
      "\n",
      "Topic: 6 Word: 0.016*\"asshol\" + 0.014*\"fuck\" + 0.011*\"cock\" + 0.010*\"suck\" + 0.010*\"hate\" + 0.008*\"life\" + 0.007*\"admin\" + 0.007*\"edit\" + 0.006*\"like\" + 0.006*\"shit\"\n",
      "\n",
      "\n",
      "Topic: 7 Word: 0.054*\"faggot\" + 0.012*\"fuck\" + 0.011*\"love\" + 0.009*\"woman\" + 0.006*\"like\" + 0.005*\"user\" + 0.005*\"sexist\" + 0.005*\"lucki\" + 0.005*\"sock\" + 0.004*\"feminist\"\n",
      "\n",
      "\n",
      "Topic: 8 Word: 0.021*\"delet\" + 0.014*\"fuck\" + 0.009*\"wikipedia\" + 0.008*\"page\" + 0.007*\"motherfuck\" + 0.007*\"twat\" + 0.006*\"shit\" + 0.006*\"like\" + 0.005*\"block\" + 0.005*\"articl\"\n",
      "\n",
      "\n",
      "Topic: 9 Word: 0.016*\"bitch\" + 0.013*\"fuck\" + 0.009*\"homo\" + 0.006*\"page\" + 0.006*\"stop\" + 0.006*\"block\" + 0.005*\"like\" + 0.005*\"talk\" + 0.005*\"stupid\" + 0.005*\"shit\"\n",
      "\n",
      "\n"
     ]
    }
   ],
   "source": [
    "lda_model_tfidf = gensim.models.LdaMulticore(corpus_tfidf, num_topics=10, id2word=dictionary, passes=2, workers=4)\n",
    "for idx, topic in lda_model_tfidf.print_topics(-1):\n",
    "    print('Topic: {} Word: {}'.format(idx, topic))\n",
    "    print(\"\\n\")"
   ]
  },
  {
   "cell_type": "code",
   "execution_count": 16,
   "id": "a99935db",
   "metadata": {},
   "outputs": [],
   "source": [
    "#lda_model = lda_model_tfidf\n",
    "#bow_corpus = corpus_tfidf"
   ]
  },
  {
   "cell_type": "code",
   "execution_count": 17,
   "id": "caroline-stranger",
   "metadata": {},
   "outputs": [
    {
     "data": {
      "image/png": "[encoded data removed]",
      "text/plain": [
       "<Figure size 720x720 with 10 Axes>"
      ]
     },
     "metadata": {
      "needs_background": "light"
     },
     "output_type": "display_data"
    }
   ],
   "source": [
    "# 1. Wordcloud of Top N words in each topic\n",
    "from matplotlib import pyplot as plt\n",
    "from wordcloud import WordCloud, STOPWORDS\n",
    "import matplotlib.colors as mcolors\n",
    "\n",
    "cols = [color for name, color in mcolors.TABLEAU_COLORS.items()] \n",
    "\n",
    "cloud = WordCloud(stopwords=stopwords,\n",
    "                  background_color='white',\n",
    "                  width=2500,\n",
    "                  height=1800,\n",
    "                  max_words=10,\n",
    "                  colormap='tab10',\n",
    "                  color_func=lambda *args, **kwargs: cols[i],\n",
    "                  prefer_horizontal=1.0)\n",
    "\n",
    "topics = lda_model.show_topics(formatted=False)\n",
    "\n",
    "fig, axes = plt.subplots(5, 2, figsize=(10,10), sharex=True, sharey=True)\n",
    "\n",
    "for i, ax in enumerate(axes.flatten()):\n",
    "    fig.add_subplot(ax)\n",
    "    topic_words = dict(topics[i][1])\n",
    "    cloud.generate_from_frequencies(topic_words, max_font_size=300)\n",
    "    plt.gca().imshow(cloud)\n",
    "    plt.gca().set_title('Topic ' + str(i), fontdict=dict(size=16))\n",
    "    plt.gca().axis('off')\n",
    "\n",
    "\n",
    "plt.subplots_adjust(wspace=0, hspace=0)\n",
    "plt.axis('off')\n",
    "plt.margins(x=0, y=0)\n",
    "plt.tight_layout()\n",
    "plt.show()"
   ]
  },
  {
   "cell_type": "code",
   "execution_count": 18,
   "id": "0476bb43",
   "metadata": {},
   "outputs": [
    {
     "data": {
      "text/plain": [
       "[(0,\n",
       "  [('moron', 0.08640717),\n",
       "   ('nippl', 0.035348736),\n",
       "   ('go', 0.027326241),\n",
       "   ('retard', 0.020931996),\n",
       "   ('rape', 0.019658199),\n",
       "   ('aid', 0.015462994),\n",
       "   ('loser', 0.014008374),\n",
       "   ('imag', 0.012325241),\n",
       "   ('repeat', 0.0113676675),\n",
       "   ('care', 0.011141561)]),\n",
       " (1,\n",
       "  [('nigga', 0.047970682),\n",
       "   ('vandal', 0.047715355),\n",
       "   ('bastard', 0.035198424),\n",
       "   ('tommi', 0.025314676),\n",
       "   ('lick', 0.022951333),\n",
       "   ('hanib', 0.01969538),\n",
       "   ('person', 0.017776586),\n",
       "   ('poop', 0.014604012),\n",
       "   ('peopl', 0.013327224),\n",
       "   ('post', 0.0113036735)]),\n",
       " (2,\n",
       "  [('dickhead', 0.035462398),\n",
       "   ('talk', 0.030503633),\n",
       "   ('page', 0.028684061),\n",
       "   ('spanish', 0.019982424),\n",
       "   ('like', 0.017192503),\n",
       "   ('ball', 0.015002719),\n",
       "   ('good', 0.012407992),\n",
       "   ('boob', 0.012069245),\n",
       "   ('peopl', 0.011480481),\n",
       "   ('robert', 0.009040808)]),\n",
       " (3,\n",
       "  [('like', 0.040722236),\n",
       "   ('fucker', 0.02889944),\n",
       "   ('want', 0.019280355),\n",
       "   ('mother', 0.01793841),\n",
       "   ('mothjer', 0.017088477),\n",
       "   ('tell', 0.014080334),\n",
       "   ('pussi', 0.012706687),\n",
       "   ('know', 0.012182914),\n",
       "   ('cocksuck', 0.011893266),\n",
       "   ('inform', 0.011115703)]),\n",
       " (4,\n",
       "  [('know', 0.052132837),\n",
       "   ('shit', 0.047242783),\n",
       "   ('idiot', 0.037665684),\n",
       "   ('women', 0.03325293),\n",
       "   ('assad', 0.023640603),\n",
       "   ('delet', 0.022564389),\n",
       "   ('fggt', 0.022193456),\n",
       "   ('rice', 0.018963076),\n",
       "   ('dumb', 0.016623203),\n",
       "   ('live', 0.013888264)]),\n",
       " (5,\n",
       "  [('fuck', 0.24528147),\n",
       "   ('faggot', 0.067813635),\n",
       "   ('cunt', 0.039381858),\n",
       "   ('block', 0.020382456),\n",
       "   ('admin', 0.0201326),\n",
       "   ('mexican', 0.014645433),\n",
       "   ('wikipedia', 0.014577971),\n",
       "   ('wiki', 0.0117046805),\n",
       "   ('yourselfgo', 0.010648702),\n",
       "   ('shit', 0.009513923)]),\n",
       " (6,\n",
       "  [('huge', 0.05021676),\n",
       "   ('asshol', 0.03152462),\n",
       "   ('kill', 0.021771649),\n",
       "   ('page', 0.018970706),\n",
       "   ('edit', 0.016740575),\n",
       "   ('remov', 0.013671263),\n",
       "   ('take', 0.013287321),\n",
       "   ('drink', 0.01221083),\n",
       "   ('chang', 0.008859903),\n",
       "   ('person', 0.008805588)]),\n",
       " (7,\n",
       "  [('hate', 0.09348284),\n",
       "   ('love', 0.03880254),\n",
       "   ('wikipedia', 0.026114661),\n",
       "   ('damn', 0.0230225),\n",
       "   ('like', 0.021370867),\n",
       "   ('whore', 0.017464632),\n",
       "   ('cock', 0.015275961),\n",
       "   ('fool', 0.015217612),\n",
       "   ('dirti', 0.015113471),\n",
       "   ('bloodi', 0.012383819)]),\n",
       " (8,\n",
       "  [('nigger', 0.22589505),\n",
       "   ('bitch', 0.062420975),\n",
       "   ('shit', 0.039118186),\n",
       "   ('user', 0.031534966),\n",
       "   ('peni', 0.026336655),\n",
       "   ('stupid', 0.017527195),\n",
       "   ('wanker', 0.01657643),\n",
       "   ('block', 0.013962851),\n",
       "   ('piec', 0.01381301),\n",
       "   ('like', 0.013715615)]),\n",
       " (9,\n",
       "  [('suck', 0.15587686),\n",
       "   ('dick', 0.048014548),\n",
       "   ('cock', 0.027206203),\n",
       "   ('stupid', 0.026732946),\n",
       "   ('edit', 0.022686912),\n",
       "   ('twat', 0.019884452),\n",
       "   ('jewish', 0.016309528),\n",
       "   ('piec', 0.016219795),\n",
       "   ('bitch', 0.01469743),\n",
       "   ('articl', 0.013266427)])]"
      ]
     },
     "execution_count": 18,
     "metadata": {},
     "output_type": "execute_result"
    }
   ],
   "source": [
    "topics = lda_model.show_topics(15, formatted=False)\n",
    "topics"
   ]
  },
  {
   "cell_type": "code",
   "execution_count": 19,
   "id": "2ea122ca",
   "metadata": {},
   "outputs": [
    {
     "name": "stdout",
     "output_type": "stream",
     "text": [
      "0 moron, nippl, go, retard, rape\n",
      "1 nigga, vandal, bastard, tommi, lick\n",
      "2 dickhead, talk, page, spanish, like\n",
      "3 like, fucker, want, mother, mothjer\n",
      "4 know, shit, idiot, women, assad\n",
      "5 fuck, faggot, cunt, block, admin\n",
      "6 huge, asshol, kill, page, edit\n",
      "7 hate, love, wikipedia, damn, like\n",
      "8 nigger, bitch, shit, user, peni\n",
      "9 suck, dick, cock, stupid, edit\n"
     ]
    },
    {
     "data": {
      "text/html": [
       "<div>\n",
       "<style scoped>\n",
       "    .dataframe tbody tr th:only-of-type {\n",
       "        vertical-align: middle;\n",
       "    }\n",
       "\n",
       "    .dataframe tbody tr th {\n",
       "        vertical-align: top;\n",
       "    }\n",
       "\n",
       "    .dataframe thead th {\n",
       "        text-align: right;\n",
       "    }\n",
       "</style>\n",
       "<table border=\"1\" class=\"dataframe\">\n",
       "  <thead>\n",
       "    <tr style=\"text-align: right;\">\n",
       "      <th></th>\n",
       "      <th>text</th>\n",
       "    </tr>\n",
       "  </thead>\n",
       "  <tbody>\n",
       "    <tr>\n",
       "      <th>0</th>\n",
       "      <td>moron, nippl, go, retard, rape</td>\n",
       "    </tr>\n",
       "    <tr>\n",
       "      <th>1</th>\n",
       "      <td>nigga, vandal, bastard, tommi, lick</td>\n",
       "    </tr>\n",
       "    <tr>\n",
       "      <th>2</th>\n",
       "      <td>dickhead, talk, page, spanish, like</td>\n",
       "    </tr>\n",
       "    <tr>\n",
       "      <th>3</th>\n",
       "      <td>like, fucker, want, mother, mothjer</td>\n",
       "    </tr>\n",
       "    <tr>\n",
       "      <th>4</th>\n",
       "      <td>know, shit, idiot, women, assad</td>\n",
       "    </tr>\n",
       "    <tr>\n",
       "      <th>5</th>\n",
       "      <td>fuck, faggot, cunt, block, admin</td>\n",
       "    </tr>\n",
       "    <tr>\n",
       "      <th>6</th>\n",
       "      <td>huge, asshol, kill, page, edit</td>\n",
       "    </tr>\n",
       "    <tr>\n",
       "      <th>7</th>\n",
       "      <td>hate, love, wikipedia, damn, like</td>\n",
       "    </tr>\n",
       "    <tr>\n",
       "      <th>8</th>\n",
       "      <td>nigger, bitch, shit, user, peni</td>\n",
       "    </tr>\n",
       "    <tr>\n",
       "      <th>9</th>\n",
       "      <td>suck, dick, cock, stupid, edit</td>\n",
       "    </tr>\n",
       "  </tbody>\n",
       "</table>\n",
       "</div>"
      ],
      "text/plain": [
       "                                  text\n",
       "0       moron, nippl, go, retard, rape\n",
       "1  nigga, vandal, bastard, tommi, lick\n",
       "2  dickhead, talk, page, spanish, like\n",
       "3  like, fucker, want, mother, mothjer\n",
       "4      know, shit, idiot, women, assad\n",
       "5     fuck, faggot, cunt, block, admin\n",
       "6       huge, asshol, kill, page, edit\n",
       "7    hate, love, wikipedia, damn, like\n",
       "8      nigger, bitch, shit, user, peni\n",
       "9       suck, dick, cock, stupid, edit"
      ]
     },
     "execution_count": 19,
     "metadata": {},
     "output_type": "execute_result"
    }
   ],
   "source": [
    "df1 = pd.DataFrame(columns = [\"text\"])\n",
    "\n",
    "for i in range(len(topics)):\n",
    "    \n",
    "    words = [x[0] for x in topics[i][1]]\n",
    "    words = \", \".join(words[:5])\n",
    "    print(f\"{i} {words}\")\n",
    "    df1 = df1.append({\"text\": words}, ignore_index = True)\n",
    "    \n",
    "df1"
   ]
  },
  {
   "cell_type": "code",
   "execution_count": 20,
   "id": "49a39da5",
   "metadata": {},
   "outputs": [
    {
     "name": "stdout",
     "output_type": "stream",
     "text": [
      "10\n"
     ]
    }
   ],
   "source": [
    "print(len(topics))"
   ]
  },
  {
   "cell_type": "code",
   "execution_count": 21,
   "id": "74e93e32",
   "metadata": {},
   "outputs": [
    {
     "data": {
      "text/plain": [
       "[(0, 0.012523974),\n",
       " (1, 0.012524386),\n",
       " (2, 0.012523425),\n",
       " (3, 0.012526194),\n",
       " (4, 0.012524774),\n",
       " (5, 0.5154484),\n",
       " (6, 0.268662),\n",
       " (7, 0.12822062),\n",
       " (8, 0.012521521),\n",
       " (9, 0.012524684)]"
      ]
     },
     "execution_count": 21,
     "metadata": {},
     "output_type": "execute_result"
    }
   ],
   "source": [
    "lda_model[bow_corpus[1]]"
   ]
  },
  {
   "cell_type": "code",
   "execution_count": 22,
   "id": "ad4c325b",
   "metadata": {},
   "outputs": [
    {
     "name": "stdout",
     "output_type": "stream",
     "text": [
      "\n",
      "Perplexity:  -7.370645489505973\n",
      "\n",
      "Coherence Score:  0.4880908413207835\n"
     ]
    }
   ],
   "source": [
    "# Compute Perplexity\n",
    "print('\\nPerplexity: ', lda_model.log_perplexity(bow_corpus))  # a measure of how good the model is. lower the better.\n",
    "\n",
    "# Compute Coherence Score\n",
    "coherence_model_lda = gensim.models.CoherenceModel(model=lda_model, texts=res, dictionary=dictionary, coherence='c_v')\n",
    "coherence_lda = coherence_model_lda.get_coherence()\n",
    "print('\\nCoherence Score: ', coherence_lda)"
   ]
  },
  {
   "cell_type": "markdown",
   "id": "43be0ed9",
   "metadata": {},
   "source": [
    "## This are some internal tests and results are not used in the report - not further explained"
   ]
  },
  {
   "cell_type": "code",
   "execution_count": 23,
   "id": "a0f17fb1",
   "metadata": {},
   "outputs": [
    {
     "data": {
      "text/html": [
       "\n",
       "<link rel=\"stylesheet\" type=\"text/css\" href=\"https://cdn.jsdelivr.net/gh/bmabey/pyLDAvis@3.3.1/pyLDAvis/js/ldavis.v1.0.0.css\">\n",
       "\n",
       "\n",
       "<div id=\"ldavis_el1264016214031848408508339185\"></div>\n",
       "<script type=\"text/javascript\">\n",
       "\n",
       "var ldavis_el1264016214031848408508339185_data = {\"mdsDat\": {\"x\": [-0.0984639925896339, 0.024816942101845773, 0.10269929593537093, 0.08412908365755908, -0.07896129094556127, -0.31387232303639384, 0.06784909401575397, -0.016467789629144504, 0.06995165996258176, 0.15831932052762127], \"y\": [0.03286239048331357, 0.02074590128730199, 0.02774460835807346, 0.04838012655898054, -0.01372902787417765, -0.07973522358533983, 0.037199630390650544, 0.031021598720763845, 0.17856842881420373, -0.28305843315376994], \"topics\": [1, 2, 3, 4, 5, 6, 7, 8, 9, 10], \"cluster\": [1, 1, 1, 1, 1, 1, 1, 1, 1, 1], \"Freq\": [15.156078763384064, 14.697429223273605, 10.72848134801738, 10.040987049040115, 9.54616279631524, 8.578075557214303, 8.283276862786689, 8.14342305663339, 7.673869147486681, 7.152216195848526]}, \"tinfo\": {\"Term\": [\"fuck\", \"nigger\", \"suck\", \"faggot\", \"hate\", \"moron\", \"huge\", \"bitch\", \"cunt\", \"shit\", \"dick\", \"vandal\", \"nigga\", \"dickhead\", \"fucker\", \"know\", \"love\", \"bastard\", \"nippl\", \"asshol\", \"idiot\", \"cock\", \"women\", \"user\", \"admin\", \"block\", \"peni\", \"stupid\", \"delet\", \"like\", \"wiki\", \"yourselfgo\", \"faggot\", \"edi\", \"georg\", \"bush\", \"couriano\", \"california\", \"mod\", \"misterwiki\", \"libtard\", \"fuckbag\", \"njgw\", \"freedom\", \"dickfac\", \"fag\", \"fuckyou\", \"noob\", \"enemi\", \"thoma\", \"disagre\", \"smelli\", \"isra\", \"israel\", \"harrass\", \"fucki\", \"rot\", \"hindu\", \"supress\", \"limp\", \"cunt\", \"admin\", \"chula\", \"vista\", \"shithead\", \"fuck\", \"mexican\", \"shut\", \"warn\", \"queer\", \"block\", \"diego\", \"contribut\", \"life\", \"come\", \"wikipedia\", \"post\", \"internet\", \"asshol\", \"stupid\", \"littl\", \"right\", \"shit\", \"stop\", \"page\", \"peopl\", \"hell\", \"think\", \"say\", \"cocksuck\", \"want\", \"edit\", \"atheist\", \"niggaz\", \"simpson\", \"mongo\", \"mefuck\", \"vomit\", \"object\", \"suppress\", \"wale\", \"curp\", \"alot\", \"geek\", \"arrest\", \"pointless\", \"complaint\", \"stinki\", \"uncl\", \"rajput\", \"mothjer\", \"\\u0177our\", \"novemb\", \"conduct\", \"fucker\", \"bend\", \"tang\", \"mann\", \"turkey\", \"asperg\", \"inappropri\", \"context\", \"puppet\", \"sock\", \"central\", \"peter\", \"blah\", \"video\", \"whine\", \"greek\", \"putin\", \"mother\", \"act\", \"inform\", \"pussi\", \"moder\", \"realiz\", \"tell\", \"slut\", \"add\", \"mean\", \"like\", \"want\", \"kiss\", \"muslim\", \"cocksuck\", \"right\", \"time\", \"need\", \"better\", \"littl\", \"know\", \"say\", \"feel\", \"think\", \"come\", \"year\", \"thing\", \"peopl\", \"go\", \"edit\", \"fuck\", \"articl\", \"wikipedia\", \"chees\", \"norri\", \"homeland\", \"semit\", \"ethnic\", \"salt\", \"hairi\", \"mccain\", \"cult\", \"stalker\", \"redneck\", \"hippi\", \"dedic\", \"extern\", \"awww\", \"jewfat\", \"wasnt\", \"paranoid\", \"phuq\", \"viva\", \"septemb\", \"cynic\", \"gamaliel\", \"trout\", \"octob\", \"rever\", \"ilche\", \"hehe\", \"christma\", \"motherf\", \"drink\", \"ars\", \"macedonian\", \"credit\", \"term\", \"huge\", \"sweet\", \"take\", \"anal\", \"stalk\", \"asshol\", \"arab\", \"troll\", \"enjoy\", \"welcom\", \"nice\", \"remov\", \"kill\", \"anti\", \"languag\", \"list\", \"chang\", \"content\", \"page\", \"edit\", \"link\", \"person\", \"thing\", \"idea\", \"discuss\", \"want\", \"stop\", \"idiot\", \"word\", \"hell\", \"peopl\", \"read\", \"think\", \"time\", \"spanish\", \"robert\", \"bark\", \"boob\", \"dipshit\", \"censor\", \"heil\", \"propaganda\", \"angela\", \"unsign\", \"irish\", \"feminazi\", \"dickhead\", \"pig\", \"allemand\", \"verifi\", \"pedophil\", \"intend\", \"ball\", \"preced\", \"negro\", \"clever\", \"rightcom\", \"rightget\", \"rodeoand\", \"will\", \"whatsoev\", \"offpiss\", \"dislik\", \"behav\", \"plain\", \"contrib\", \"unblock\", \"dummi\", \"ullmann\", \"harass\", \"talk\", \"factual\", \"monkey\", \"cathol\", \"small\", \"ugli\", \"proof\", \"page\", \"fals\", \"good\", \"game\", \"money\", \"report\", \"messag\", \"like\", \"peopl\", \"fuckin\", \"bunch\", \"articl\", \"stop\", \"think\", \"leav\", \"look\", \"world\", \"make\", \"know\", \"wikipedia\", \"jewish\", \"cline\", \"shitfuck\", \"chicken\", \"lmao\", \"jessica\", \"manner\", \"contributor\", \"bold\", \"mutha\", \"righteous\", \"satan\", \"theyr\", \"dozen\", \"shitstop\", \"suck\", \"whini\", \"februari\", \"monitor\", \"naughti\", \"tongu\", \"sunflow\", \"meaningless\", \"persist\", \"academ\", \"comput\", \"willi\", \"unconstruct\", \"bradburi\", \"northern\", \"neiln\", \"shes\", \"twat\", \"duck\", \"dick\", \"john\", \"eras\", \"useless\", \"nate\", \"lifetim\", \"jone\", \"wanta\", \"beavi\", \"guy\", \"metal\", \"cock\", \"chines\", \"slap\", \"piec\", \"fire\", \"dont\", \"stupid\", \"terrorist\", \"coward\", \"edit\", \"section\", \"ban\", \"yeah\", \"articl\", \"stuff\", \"bitch\", \"work\", \"read\", \"shit\", \"delet\", \"wikipedia\", \"fuck\", \"pussi\", \"littl\", \"like\", \"say\", \"nigger\", \"wanker\", \"licker\", \"homo\", \"romney\", \"mitt\", \"cougar\", \"edgar\", \"nhrhs\", \"enigmaman\", \"subject\", \"disput\", \"delanoy\", \"sanns\", \"fuckwit\", \"billj\", \"scum\", \"pedo\", \"refrain\", \"revis\", \"criteria\", \"goodby\", \"unemploy\", \"motha\", \"describ\", \"hahahaha\", \"anon\", \"cracker\", \"difficult\", \"pumpkin\", \"peni\", \"hitler\", \"sikh\", \"password\", \"jew\", \"user\", \"virgin\", \"spic\", \"bitch\", \"administr\", \"sexual\", \"chink\", \"vagina\", \"douch\", \"asian\", \"motherfuck\", \"shit\", \"piec\", \"dumbass\", \"american\", \"cocksuck\", \"stupid\", \"block\", \"delet\", \"like\", \"leav\", \"page\", \"fuck\", \"wikipedia\", \"blank\", \"codi\", \"shithol\", \"arrog\", \"molest\", \"turk\", \"iranian\", \"sloppi\", \"moonshin\", \"hate\", \"cuntfuck\", \"gwernol\", \"usual\", \"fart\", \"threat\", \"filter\", \"religi\", \"maggot\", \"manipul\", \"intellectu\", \"albino\", \"credibl\", \"niggertardgo\", \"asham\", \"filth\", \"australian\", \"curios\", \"beth\", \"eastern\", \"republ\", \"bloodi\", \"dirti\", \"religion\", \"havent\", \"whore\", \"love\", \"persian\", \"damn\", \"smell\", \"weak\", \"fool\", \"sign\", \"christian\", \"indian\", \"butt\", \"wikipedia\", \"cock\", \"write\", \"nazi\", \"like\", \"time\", \"know\", \"racist\", \"fuckin\", \"think\", \"peopl\", \"deserv\", \"world\", \"articl\", \"fggt\", \"rice\", \"supertr\", \"assad\", \"knob\", \"dust\", \"sucker\", \"fack\", \"valid\", \"haha\", \"super\", \"plot\", \"prostitut\", \"imbecil\", \"numer\", \"calm\", \"fiction\", \"bare\", \"snitch\", \"retart\", \"gawd\", \"yank\", \"doosh\", \"fukin\", \"feebl\", \"philosoph\", \"trace\", \"soviet\", \"makin\", \"myspac\", \"donkey\", \"women\", \"forev\", \"sack\", \"chuck\", \"dumb\", \"respect\", \"rap\", \"idiot\", \"womensday\", \"know\", \"gonna\", \"fight\", \"live\", \"construct\", \"delet\", \"shit\", \"happi\", \"million\", \"pathet\", \"lame\", \"fool\", \"articl\", \"think\", \"real\", \"fuck\", \"vandal\", \"tommi\", \"poop\", \"bias\", \"notabl\", \"silli\", \"bail\", \"consensus\", \"ident\", \"turkish\", \"pakistani\", \"nativ\", \"lick\", \"lion\", \"fagget\", \"racial\", \"cretin\", \"tit\", \"resid\", \"spew\", \"raid\", \"except\", \"deliber\", \"macro\", \"hobbi\", \"slit\", \"nicknam\", \"gger\", \"gather\", \"aspect\", \"nigga\", \"bigot\", \"nasti\", \"feminist\", \"hanib\", \"fuke\", \"bastard\", \"aliv\", \"basement\", \"rule\", \"truth\", \"cite\", \"male\", \"classi\", \"douchebag\", \"jerk\", \"person\", \"post\", \"fine\", \"look\", \"peopl\", \"stop\", \"lie\", \"watch\", \"head\", \"gonna\", \"page\", \"edit\", \"attack\", \"like\", \"wikipedia\", \"time\", \"nippl\", \"daedalus\", \"aid\", \"oxymoron\", \"genr\", \"moron\", \"rape\", \"conflict\", \"juici\", \"hist\", \"grammar\", \"socialist\", \"looser\", \"luckier\", \"son\", \"latinus\", \"fece\", \"archiv\", \"expir\", \"paedophil\", \"slight\", \"satisfi\", \"santa\", \"muhajir\", \"discredit\", \"ancestor\", \"congratul\", \"comrad\", \"serbia\", \"mormon\", \"lucki\", \"eventu\", \"sassi\", \"murder\", \"dildo\", \"jackass\", \"nerd\", \"fucken\", \"imag\", \"shove\", \"repeat\", \"retard\", \"semen\", \"ridicul\", \"woman\", \"go\", \"loser\", \"belong\", \"sourc\", \"care\", \"hous\", \"black\", \"abus\", \"femal\", \"site\", \"kill\", \"think\", \"love\", \"famili\", \"white\", \"peopl\", \"hell\", \"stupid\"], \"Freq\": [31036.0, 14621.0, 11426.0, 7763.0, 5872.0, 4691.0, 4503.0, 6064.0, 4616.0, 7973.0, 3923.0, 2762.0, 2892.0, 2698.0, 3238.0, 6690.0, 3070.0, 2530.0, 1907.0, 3632.0, 3836.0, 3279.0, 2294.0, 2604.0, 2377.0, 3375.0, 1766.0, 4554.0, 2827.0, 9633.0, 1338.1769768399988, 1217.4487121321934, 7753.021949265753, 465.96177329911103, 314.200694487811, 526.5358242433991, 258.56103475576776, 283.03811204445714, 149.3052096520719, 126.39987318618346, 133.0596908643425, 125.91125213050042, 117.46284075145579, 202.4987428325565, 119.35695274961351, 99.76442897587647, 89.58625221001576, 238.41310914222015, 86.80794532756427, 72.69925857182251, 74.11142426531661, 57.87831665470706, 56.65338338387643, 142.9652343303391, 50.10588852234883, 49.85162243366477, 49.25885396676141, 47.16316182590244, 47.0825424129166, 137.1155570705275, 4502.4634021178235, 2301.727157464911, 262.0419673232967, 273.5734881233687, 338.2411911524942, 28042.62956794175, 1674.388404823069, 985.8952506019422, 700.6024169798253, 145.64896338478655, 2330.2929090580164, 256.5660095727062, 342.9219018972811, 1059.3056396761929, 889.9129964213076, 1666.675560323066, 553.0379531125575, 278.7113560925128, 856.021765113555, 941.6857459595742, 603.9489343975727, 641.7717071871384, 1087.7112504831255, 627.6466829301478, 775.9110706391092, 714.5948246482666, 509.4375477835552, 651.0851077361776, 547.5095822622372, 531.7511539292592, 527.1526963475831, 489.1589753983094, 666.4290542013566, 233.13275579018932, 214.52073389358236, 183.37554874212245, 176.21084082506692, 169.7893969305573, 163.92748872822492, 148.2483698599275, 476.2768534593451, 152.52075373502254, 128.2804754776472, 120.12191797189844, 537.9435928899957, 98.13378636369916, 89.91942629831927, 91.73144453655489, 82.54467953445977, 98.06415416543159, 1894.5752566730584, 74.15687786012349, 73.27156157175128, 70.39826860974364, 3204.0401473448287, 66.19751748726863, 64.55980561374174, 62.10118884859044, 61.44992451265276, 61.32041765863665, 59.9631576917189, 57.81868604051268, 209.33330936447837, 362.9856669888633, 112.2232518367365, 90.21696035773788, 210.34667403820973, 373.1469084694386, 190.32147345383342, 180.9219914434625, 105.56392912291814, 1988.8062712583796, 360.4476217625185, 1232.382266605198, 1408.7724087274537, 153.94347054967227, 256.9983624843562, 1561.0667900573949, 312.18968177338775, 697.8534005791983, 1065.0984413864644, 4514.816782145298, 2137.5857689386794, 274.9145012295647, 425.14735647311255, 1318.5895868617304, 1123.8326520860714, 1088.5293469800472, 776.3289267471675, 540.4428660823097, 751.6358391456176, 1350.7024337000698, 772.3690681823322, 426.71824337786643, 799.7078953684, 605.5701257114237, 451.8346224667904, 545.3809053778778, 641.0000723613592, 582.7808430724801, 640.0219948850447, 737.7256104357577, 535.6857285274123, 485.67569012960234, 702.1813789985133, 304.6406720901389, 266.4808288458238, 252.45795774478478, 228.28961233321604, 328.61382489735684, 200.5830594419709, 375.73063260381616, 223.60779740656045, 100.83431552665478, 85.46407089856615, 83.27745773398595, 81.71136636206698, 74.98622837217164, 70.64218954606554, 67.13144545289762, 66.44931240257871, 69.95541645531594, 294.58264723194935, 191.7319161658518, 55.729330426217054, 63.650421171990764, 70.60931827487238, 53.55933190386934, 44.48396868417729, 43.2490254565784, 44.071226488791474, 42.98174970636954, 41.456109123463996, 44.98365157620125, 988.2130299757456, 712.6030322840376, 100.16642292529214, 255.1168657860956, 316.5254502463297, 4064.003558261195, 173.19253805571384, 1075.33258250736, 548.3790658575961, 128.33982512297564, 2551.263173364713, 295.97313309404626, 494.88981034098236, 375.70967940601344, 203.11745423590745, 623.1484418224726, 1106.4047427956623, 1761.9626940618762, 472.3576232671862, 314.8887266244436, 406.9478447956122, 717.0250614749866, 303.5912409764491, 1535.2845183078741, 1354.801812526734, 430.98014516389367, 712.6294122093287, 657.8172788105786, 352.6727313045749, 361.1118578332537, 700.3624454640805, 598.5273415216924, 544.5284635340611, 386.1151278802875, 379.2027583706382, 419.11204288904764, 361.62449515287597, 372.9015363587698, 364.75311660679955, 1513.5323403809132, 684.7795845040415, 630.4181745700752, 914.163004872602, 422.3827841696853, 356.22030270990246, 313.13488987603, 267.9366935230042, 240.12062275330942, 183.44018407251366, 175.32923558306297, 209.7214341145579, 2686.0348549037744, 142.60251796663638, 159.78508211376553, 106.23839814395404, 157.1680514979947, 83.94411789285937, 1136.3536780363786, 172.6461606425682, 78.62017818309191, 77.90388383400962, 79.2842895797421, 79.2842895797421, 79.2842895797421, 72.54388427564956, 72.20966824894565, 74.86664730439095, 69.14565246509645, 72.77697048122408, 122.15895135817696, 124.34654396290556, 620.5582594957983, 95.60057968229765, 680.0231233798896, 380.97787755519755, 2310.4421733899676, 130.4363333094654, 239.99154974592497, 132.9708129281647, 653.0244855980734, 492.8802070074113, 223.04605738978762, 2172.622040488029, 253.1254468871388, 939.8207929621852, 499.3679641120174, 293.8971392096269, 340.230874699896, 384.0783103031469, 1302.2149085660833, 869.5681838269475, 470.20744604201394, 304.8702670886769, 637.530363570496, 585.4754789317625, 513.7196692222067, 397.278110686415, 406.5259385984705, 380.5972012418487, 387.2995450869732, 483.50808526340535, 427.9016207698898, 1174.4576386398605, 448.5991717726924, 333.6791908304374, 809.1168809707904, 235.3311121529656, 116.80607584175337, 83.73460094364503, 85.91335923719014, 76.19710389403204, 61.33377540267423, 60.04207783615079, 56.230307096619775, 46.93881229258277, 46.77135930366572, 54.0691743304438, 11224.774409748914, 43.76515690040478, 41.30002675064438, 54.12376526230001, 39.760553250858024, 39.665065227315615, 39.5337267553575, 38.862137576477764, 38.457404330999886, 37.496760694830826, 37.31847251251326, 45.43705867883558, 40.41535102364009, 35.39898761277175, 35.12105756681123, 318.45713989358524, 50.23283264170047, 1431.8898291962892, 46.67065278272151, 3457.5527500975954, 397.51111333390327, 101.13218266962511, 571.9943948856242, 95.7932616289915, 323.4381600353034, 86.24887718339424, 104.65095049841099, 104.35527756128437, 952.9383675716506, 147.21848110714254, 1959.1329388351362, 161.30557382834894, 227.8564801828965, 1167.9959233028262, 253.51264212718488, 912.5992233763334, 1925.0534430509533, 210.78514466315846, 249.9432737356404, 1633.6964086622586, 225.91535004573902, 440.088083345164, 302.5003245225603, 955.322395146128, 253.4965800532542, 1058.3696196574658, 468.08457999893676, 431.0662612056566, 905.3426533410683, 507.3204039050249, 612.6056218948734, 853.0670074068126, 343.84249325945177, 345.38183682074856, 424.14793363331137, 312.3512045239921, 14617.183957706577, 1072.625217723715, 840.2796127332875, 817.6369038597563, 440.2312134896563, 439.46544028882386, 297.87206508972, 311.7339340413901, 231.372584285254, 209.8648854427669, 184.80637816664114, 95.13211110517028, 115.77297420981417, 135.67654633279957, 73.02535156979545, 139.02205077242428, 463.368327284855, 55.622516030387374, 54.610930204594666, 51.456273959302706, 51.38316256596951, 78.55791529928868, 48.93786122462996, 48.82656889295158, 46.665807256385406, 44.6730989992299, 42.167142056518045, 55.33936239499458, 40.61506450215323, 41.44159499966577, 1704.188454155769, 358.78204032530215, 73.71147851214434, 155.09424840698819, 766.6743869853454, 2040.5600124926748, 124.68963386500144, 376.937801558322, 4039.1274259754778, 519.3806866280117, 238.5898324840099, 312.65732743635, 292.4041419110683, 288.68827069336726, 251.2020845592213, 469.10798032598836, 2531.253884053381, 893.8102751143856, 258.9863405964388, 418.1084312935613, 858.4762328810917, 1134.1471727227704, 903.5061317510368, 794.9822024728887, 887.5079984325052, 419.74278788493416, 403.0906106104229, 459.2703528972572, 376.07322571620807, 383.2056329868338, 412.8834211285452, 267.99812495756703, 242.9355516085449, 223.5241562788717, 193.52077927883278, 177.23334939716594, 163.1746319887557, 151.8358181449207, 5841.188185499339, 143.61510682192917, 167.14262617691972, 109.69609462841437, 328.3105658696725, 525.1656922086776, 248.79842057863215, 95.63903571552913, 94.18746660369202, 91.96376598752629, 90.54778178844472, 80.45252680191751, 79.9945419916146, 79.00986846647564, 77.3236804306775, 74.72673830625345, 72.74881508832655, 70.27631104699921, 67.9994367365892, 63.29697635036152, 54.39821677356883, 773.7913964814087, 944.3511926573059, 171.93956261524656, 228.0298812704987, 1091.261308189411, 2424.5407580943315, 133.24918973018507, 1438.5395636429957, 301.88456371704274, 273.4418019096092, 950.858314397821, 300.5570689831433, 226.35034903911006, 271.65147053858595, 219.6841426620529, 1631.7503351925122, 954.5042112971838, 554.39920722458, 412.41491069094116, 1335.3387776115326, 490.18231868968917, 564.0054460766393, 307.8198245619753, 327.1876189171888, 361.0326243849524, 358.43917383005464, 239.23057444315577, 253.31706437750648, 252.3859209776676, 1363.3239729556199, 1164.8846520072966, 610.5765233136001, 1452.2208920321689, 342.383480682784, 306.49036458719956, 303.32717821401974, 276.078253164919, 223.67046714230682, 265.91501409787713, 504.36456214191514, 115.13312160765064, 107.45536994235424, 97.8260388962094, 84.90735845160094, 83.16894466749098, 81.82231420387608, 79.22806286088016, 65.41190290657362, 65.07338953139877, 65.46149708979226, 94.60777330181114, 59.26497028210614, 71.95280714570556, 57.95537633974421, 54.58968694043573, 54.00312756064226, 50.930751819849164, 50.89964729210447, 50.61854088243613, 102.5329595365906, 2042.697375599203, 466.47042981060264, 85.87287531661872, 314.12153276158233, 1021.1483373112017, 518.4715935898389, 328.0162567673438, 2313.76895473026, 313.98010888741766, 3202.4731473626066, 661.6961621069682, 481.1755663930143, 853.1435256195988, 346.84399653917365, 1386.1100365258226, 2902.0815157178426, 444.2316972291269, 232.64471874138934, 479.70005541462416, 163.39993993291307, 432.5117371556299, 527.9137539716172, 419.5832379924116, 315.42750100085965, 345.2210259994326, 2762.101810146604, 1465.3922588115158, 845.383356859325, 437.94368151279167, 254.71313640020054, 208.71972772917564, 175.2699820947405, 150.95801164367694, 147.07279637867796, 125.13116763784075, 111.53072405444469, 105.88615992474469, 1328.5852824665192, 95.15554163657366, 83.32297841747534, 79.72373012355555, 75.17774819310925, 83.93254934640119, 73.40968587739832, 65.56229663855802, 86.83167555809263, 62.57615721770966, 60.057963136905315, 59.41872064974541, 57.40575847080862, 55.681634051914855, 51.870702136090046, 52.58435601230749, 51.661043566024524, 46.03801372302379, 2776.881979520599, 156.60469180092304, 424.0236436415806, 135.43781217749105, 1140.1077707567758, 70.17116636855921, 2037.5334368906033, 305.29829789050336, 150.26429155561672, 614.7836347457983, 500.94690565304643, 207.89164663087917, 172.27677352454225, 189.9970890454941, 291.12360890810714, 377.94176615009314, 1029.0343849488797, 654.3364755490796, 320.6983959460949, 557.6987644395207, 771.4738841445726, 605.675012222186, 275.1956361081166, 305.1509846352237, 295.65837724034736, 295.6903467775407, 466.0666849637985, 401.89662662751635, 284.8407322651369, 418.1451843396827, 323.170509146771, 270.50587212759496, 1907.135963835917, 576.6144675536507, 834.2598585752878, 256.63686355619893, 134.69417795701594, 4661.841997243419, 1060.599670717209, 95.59156729674334, 93.81363032626288, 86.50961957008819, 86.46396412489058, 77.11974725184439, 74.78951694492683, 69.65641036025524, 66.10657858992028, 63.507050873690204, 63.208220942253725, 62.3990474224163, 57.71159802772906, 57.07443794545208, 68.65693358907068, 55.49130130965367, 62.55485628594871, 47.32693130649369, 46.86577299685771, 43.301583220232786, 94.90448079626911, 39.20539350976169, 39.09556041440187, 38.57874755807501, 163.60151756563786, 61.00387756450052, 260.43009054077214, 596.2917948510683, 81.09256237020973, 262.3202975735593, 433.17268368573957, 152.5350622347006, 664.9717540092811, 226.6192091462092, 613.3087079436402, 1129.3236460206886, 282.1155790958786, 188.3660259262956, 441.0328819007922, 1474.3061136651954, 755.7801769927747, 198.5394333646937, 561.3431764961427, 601.1098041218488, 308.5846327806921, 320.38774302227, 269.20304593258874, 170.80148616337283, 290.1361397853824, 496.3751953420276, 440.98374058792575, 384.05506215777166, 205.69546118727357, 232.42954130839993, 310.06191209452595, 251.11055109848414, 254.6075735438471], \"Total\": [31036.0, 14621.0, 11426.0, 7763.0, 5872.0, 4691.0, 4503.0, 6064.0, 4616.0, 7973.0, 3923.0, 2762.0, 2892.0, 2698.0, 3238.0, 6690.0, 3070.0, 2530.0, 1907.0, 3632.0, 3836.0, 3279.0, 2294.0, 2604.0, 2377.0, 3375.0, 1766.0, 4554.0, 2827.0, 9633.0, 1338.9641277098767, 1218.2357164081711, 7763.792939090485, 466.749687752523, 314.98759395744025, 528.0745024714554, 259.3507939458119, 284.40570743257217, 150.10454466383865, 127.18655991258491, 133.89158271617325, 126.72852750182176, 118.28122546058292, 203.92989238685016, 120.2234186656744, 100.55152669627772, 90.37750278357396, 240.54594991504771, 87.59498721019165, 73.48730677934192, 74.95784933953085, 58.68111514971193, 57.46685530633035, 145.04590382946995, 50.89279226766083, 50.63906486881092, 50.06199255324711, 47.950299563338255, 47.87684596567045, 139.54767631442286, 4616.723604400635, 2377.622911331849, 266.9126496518179, 278.98521005953864, 350.2022434596609, 31036.002713573394, 1796.3250851895434, 1149.3280382092607, 839.5275406615563, 155.0087715398766, 3375.6298514895625, 296.06458110717284, 462.06307485123347, 2433.383887033719, 2249.41097149432, 5871.894715104561, 1506.3811808475846, 470.29247565955836, 3632.8573859917356, 4554.239832922659, 2167.4564313441265, 2598.4826821037323, 7973.602287394352, 3150.7294119738017, 5814.896441509479, 4663.239243941612, 1867.1087637989222, 4030.839818215171, 2439.549245045568, 2710.4956590511083, 4247.396329092117, 4801.2150759787255, 667.1712116870375, 233.8749729106354, 215.3174630408536, 184.12134247609478, 176.97001516623283, 170.54429994146244, 164.6698299295234, 148.99034346973409, 478.71423976406624, 153.38152972047166, 129.02254440781607, 120.86403396819874, 541.7023096726554, 98.87603973466814, 90.66164952825733, 92.51477443078282, 83.28677948242154, 98.95199491398806, 1912.2032037008398, 74.89949555642312, 74.01357301564698, 71.14087011383867, 3238.261136741518, 66.93963359233786, 65.30196620598734, 62.84324640642819, 62.19200084126994, 62.06250754261976, 60.705185440250254, 58.56125316148451, 213.04546536718152, 372.3276931735048, 113.78346958740298, 91.56996161690195, 216.14992046066695, 390.5076455007817, 198.33723998282306, 189.84031787416237, 108.46188744965967, 2409.316455710431, 398.1464600531638, 1562.4771255760293, 1977.4088912522673, 165.22528310732358, 295.6357767705468, 2307.623996293116, 371.56479836817095, 959.2682440415111, 1685.1181294266175, 9633.640127864135, 4247.396329092117, 331.5790790317576, 588.860902253092, 2710.4956590511083, 2598.4826821037323, 3123.0244091153327, 2070.128020383378, 1137.6633208956296, 2167.4564313441265, 6690.966877881249, 2439.549245045568, 891.8229761313257, 4030.839818215171, 2249.41097149432, 1156.6177313749158, 2228.0011242655783, 4663.239243941612, 3220.75731333439, 4801.2150759787255, 31036.002713573394, 3697.483254673545, 5871.894715104561, 703.10494593621, 305.3907512511456, 267.23812631063726, 253.20776919305032, 229.0397996192351, 329.71128207923726, 201.3329020671886, 377.5252019809638, 224.81011034383138, 101.58409831261808, 86.21390449484954, 84.0274836145496, 82.46149792644822, 75.73617142064477, 71.39203849343436, 67.8811171779954, 67.19935291293086, 70.7843653125042, 298.14186340957366, 194.18127834592818, 56.47925508972625, 64.508940103246, 71.62385215887092, 54.37451466285414, 45.233857488919405, 43.99874750665543, 44.85739648022262, 43.74906770210991, 42.20641650882989, 45.802710412725, 1006.6439196586983, 729.4040421084119, 102.75372948617677, 266.33695490357275, 332.9117470744735, 4503.792372762068, 181.58009366632166, 1312.5015906487351, 646.1361283462188, 137.2846885961964, 3632.8573859917356, 344.90249984961207, 622.998591069488, 476.3662428855085, 237.3889885049275, 871.4053543131157, 1733.4578583349676, 3043.262407623003, 660.0642117138218, 405.5578992061215, 555.6651836452628, 1242.953474043619, 406.2998065936247, 5814.896441509479, 4801.2150759787255, 801.4098417872516, 2511.7396290459174, 2228.0011242655783, 569.2031134334026, 617.7949821710018, 4247.396329092117, 3150.7294119738017, 3836.6891550194678, 1009.5115488041898, 1867.1087637989222, 4663.239243941612, 1528.490692866388, 4030.839818215171, 3123.0244091153327, 1514.839374436657, 685.526000285318, 631.1721458619974, 915.5318873793369, 423.129278184701, 356.966875126429, 313.8811895273307, 268.6829442336822, 240.9011946413933, 184.18636783228743, 176.07594997700883, 210.65713095473464, 2698.4698029750853, 143.34896057185907, 160.73211443430188, 106.98461818758169, 158.54729859582844, 84.69037164358421, 1146.7382519368944, 174.23152447994696, 79.36644041544322, 78.65669553672353, 80.07580109213748, 80.07580109213748, 80.07580109213748, 73.29027395583347, 72.95597761135528, 75.65321971714697, 69.89185697081952, 73.65507678796583, 124.52809867471834, 127.18312799951907, 655.9844344746206, 97.41742721801195, 753.0937331116091, 461.9688811386546, 3656.871578004265, 140.65132021619849, 282.8421780066964, 144.88011462103697, 908.8675152856223, 727.6225078460304, 276.70188347397817, 5814.896441509479, 345.53078217032885, 2099.461409605056, 891.4929518117953, 436.6795752556404, 626.019601235857, 837.6694374042011, 9633.640127864135, 4663.239243941612, 1417.3256397036532, 553.9381454893505, 3697.483254673545, 3150.7294119738017, 4030.839818215171, 1691.1661263242072, 1974.2732482214894, 1464.6361585380307, 1609.0034114032314, 6690.966877881249, 5871.894715104561, 1175.239062062229, 449.3805834100443, 334.46138698616676, 814.9517084226685, 237.15483388533949, 117.74723381409406, 84.5161879587774, 86.73679399260284, 76.9785455626579, 62.11529719557392, 60.82357799660909, 57.011985601129126, 47.7202474777944, 47.5532697713086, 54.998372141381104, 11426.177819752036, 44.55974820271085, 42.08141851550977, 55.151083761559605, 40.54289672000825, 40.44665824397643, 40.3276828443345, 39.64385456857077, 39.23890219041929, 38.27848261776198, 38.10020313917964, 46.39233727908088, 41.29076044144361, 36.18530901081205, 35.905860423244306, 328.2310271114711, 51.42724270961581, 1570.089423061278, 47.775736266022506, 3923.281349244144, 433.47513519007015, 106.71824394306208, 666.1621045485207, 101.80397936945597, 379.98025123163677, 92.8816727566495, 114.94509335073398, 116.0288098012168, 1391.3520497497937, 171.8710022812023, 3279.7329585310204, 198.73545996233432, 297.6342134103209, 2195.410309519843, 355.5628107822808, 1709.169923326318, 4554.239832922659, 292.60876126390303, 375.0511198580702, 4801.2150759787255, 346.1638894585288, 908.9172452167775, 603.9374832080874, 3697.483254673545, 461.17311981201095, 6064.405564868191, 1539.273653861265, 1528.490692866388, 7973.602287394352, 2827.6622231734473, 5871.894715104561, 31036.002713573394, 1977.4088912522673, 2167.4564313441265, 9633.640127864135, 2439.549245045568, 14621.510065528131, 1073.411757598087, 841.068007714001, 818.4236271719566, 441.0972314407716, 440.33148489326635, 298.65979469848645, 312.56808333870924, 232.1929317436406, 210.68356953601895, 185.59369099920704, 95.91910123464902, 116.99750464876267, 137.1334699829879, 73.81259138828925, 140.77223621799473, 469.66568525910594, 56.40913328207474, 55.39831517921503, 52.24332470951346, 52.169990685977645, 79.80582858362567, 49.724871428362036, 49.613221943131244, 47.45279183092352, 45.45981395385989, 42.95388036907807, 56.39409757201917, 41.40191842385273, 42.24603729254789, 1766.2157468370851, 366.79479539533156, 75.25057820958644, 160.72706804497483, 829.2796128219155, 2604.4954275196455, 133.2466985153188, 435.4472173690884, 6064.405564868191, 653.7718584956388, 281.7785319414474, 380.5282051954673, 371.7630741129204, 390.40944828163543, 335.69986232645863, 753.4098907918952, 7973.602287394352, 2195.410309519843, 373.85993345738876, 821.957511179951, 2710.4956590511083, 4554.239832922659, 3375.6298514895625, 2827.6622231734473, 9633.640127864135, 1691.1661263242072, 5814.896441509479, 31036.002713573394, 5871.894715104561, 383.965825939317, 413.71401513359694, 268.761922824724, 243.6956912700899, 224.28515031282814, 194.28083175104248, 177.99336090540368, 163.93460828300354, 152.59627093134256, 5872.642287325519, 144.39658938119305, 168.21835781206474, 110.45854797185726, 330.69857794317164, 528.9966961464812, 250.7581733019667, 96.39917920470953, 94.9478609930753, 92.72400902274745, 91.30797623208494, 81.21494855450005, 80.75468979012673, 79.77129424865738, 78.08407884855045, 75.48682089690476, 73.50890164434264, 71.04663763855491, 68.75948902812728, 64.0571020608213, 55.158604386991755, 794.0034848212299, 987.2473623394102, 181.04460333433198, 244.21899748181517, 1294.3017445645874, 3070.729540489867, 140.2457933462569, 1889.531411470959, 348.7532417049062, 315.3040984786401, 1434.6803570054578, 402.38260630876823, 290.91207354389945, 368.7600627375073, 297.4489956127232, 5871.894715104561, 3279.7329585310204, 1635.7833616669582, 973.7639548847958, 9633.640127864135, 3123.0244091153327, 6690.966877881249, 1070.7286006214028, 1417.3256397036532, 4030.839818215171, 4663.239243941612, 470.0162573596736, 1464.6361585380307, 3697.483254673545, 1364.0705521112745, 1165.6626082697408, 611.3503428437458, 1455.1035813463923, 343.1301474209529, 307.2377628789235, 304.0739875202846, 276.8261234919163, 224.41724958569216, 267.5155356811981, 507.42359987318764, 115.87981938724604, 108.20206141654818, 98.57278638838736, 85.65489612966819, 83.91616009506885, 82.56906908092017, 79.97501104902602, 66.15850696138388, 65.84347450747227, 66.24453801176963, 95.78429573447535, 60.01554350875618, 72.8705433933228, 58.7022833996136, 55.33651808785815, 54.75023495846528, 51.6776420353536, 51.646426170802755, 51.36524494068354, 104.94769516382257, 2294.885193442986, 505.36790443634607, 89.70357249942224, 376.7407912626006, 1403.7544587228772, 670.7966158104466, 411.54543084731, 3836.6891550194678, 399.7898299486984, 6690.966877881249, 1037.0461636555617, 707.5232157645613, 1480.613276245887, 491.3546113683455, 2827.6622231734473, 7973.602287394352, 699.5909989250814, 324.45753526342713, 1108.382803440535, 211.79146428033985, 1434.6803570054578, 3697.483254673545, 4030.839818215171, 1236.1891430663752, 31036.002713573394, 2762.8546624301334, 1466.163321312533, 846.5986398530471, 438.69634109572286, 255.46579566876005, 209.47239624642384, 176.02288838812214, 151.71076235796696, 147.82567759309785, 125.88388392755311, 112.2835730298497, 106.6388431187379, 1338.177627716467, 95.90793835342242, 84.07546821393397, 80.4767842457338, 75.93027878371232, 84.82434639171278, 74.20974240987654, 66.31489965599543, 87.85892606848769, 63.3287974740107, 60.810612136904446, 60.18013468508812, 58.15822390264759, 56.4423321353488, 52.62320855899354, 53.35036517858377, 52.41375165309936, 46.791215100286465, 2892.42206970817, 159.43329466562867, 438.7609777735553, 140.71105910439567, 1265.771641261095, 71.64217675749951, 2530.719704972343, 350.2346670354143, 167.88513492561538, 855.2669350241175, 688.3471919531596, 257.1526967155012, 205.23700422053636, 237.88124838177808, 419.9893656336305, 622.9350584114982, 2511.7396290459174, 1506.3811808475846, 544.0670396821059, 1974.2732482214894, 4663.239243941612, 3150.7294119738017, 617.7908384293819, 811.1177481356976, 952.4857848193774, 1037.0461636555617, 5814.896441509479, 4801.2150759787255, 1269.1542801862922, 9633.640127864135, 5871.894715104561, 3123.0244091153327, 1907.8816800981333, 577.3600417028632, 835.824841513267, 257.38267968576724, 135.4398627241444, 4691.029215068972, 1068.321501503017, 96.33744350320518, 94.5592724736236, 87.25539418523832, 87.20983307912324, 77.86549985484298, 75.53512578979925, 70.41872013288267, 66.85245239513206, 64.25387653099682, 63.95394433983949, 63.14482581598992, 58.45755572665309, 57.82009633597374, 69.57283452940808, 56.237283847717485, 63.4995311076785, 48.076719522190444, 47.62129187795192, 44.0473588211166, 96.6117839708758, 39.95113775059174, 39.84129731413335, 39.324292587200716, 168.56666495023865, 62.2499011914045, 272.12745281938214, 651.7784567608321, 83.76264239627956, 282.7594238402935, 506.3946439531401, 167.45414667252302, 856.0550936455858, 263.12603785125896, 798.2883096989377, 1624.6506624544022, 385.6259480342942, 242.00077764376982, 706.8788028546466, 3220.75731333439, 1455.60987549332, 269.5436418450972, 1251.8791566437862, 1458.3321766756123, 642.2059785674146, 764.324158775638, 596.9297785378978, 278.7661840068285, 919.9784710440182, 3043.262407623003, 4030.839818215171, 3070.729540489867, 473.93977659292705, 918.838032903021, 4663.239243941612, 1867.1087637989222, 4554.239832922659], \"Category\": [\"Default\", \"Default\", \"Default\", \"Default\", \"Default\", \"Default\", \"Default\", \"Default\", \"Default\", \"Default\", \"Default\", \"Default\", \"Default\", \"Default\", \"Default\", \"Default\", \"Default\", \"Default\", \"Default\", \"Default\", \"Default\", \"Default\", \"Default\", \"Default\", \"Default\", \"Default\", \"Default\", \"Default\", \"Default\", \"Default\", \"Topic1\", \"Topic1\", \"Topic1\", \"Topic1\", \"Topic1\", \"Topic1\", \"Topic1\", \"Topic1\", \"Topic1\", \"Topic1\", \"Topic1\", \"Topic1\", \"Topic1\", \"Topic1\", \"Topic1\", \"Topic1\", \"Topic1\", \"Topic1\", \"Topic1\", \"Topic1\", \"Topic1\", \"Topic1\", \"Topic1\", \"Topic1\", \"Topic1\", \"Topic1\", \"Topic1\", \"Topic1\", \"Topic1\", \"Topic1\", \"Topic1\", \"Topic1\", \"Topic1\", \"Topic1\", \"Topic1\", \"Topic1\", \"Topic1\", \"Topic1\", \"Topic1\", \"Topic1\", \"Topic1\", \"Topic1\", \"Topic1\", \"Topic1\", \"Topic1\", \"Topic1\", \"Topic1\", \"Topic1\", \"Topic1\", \"Topic1\", \"Topic1\", \"Topic1\", \"Topic1\", \"Topic1\", \"Topic1\", \"Topic1\", \"Topic1\", \"Topic1\", \"Topic1\", \"Topic1\", \"Topic1\", \"Topic1\", \"Topic2\", \"Topic2\", \"Topic2\", \"Topic2\", \"Topic2\", \"Topic2\", \"Topic2\", \"Topic2\", \"Topic2\", \"Topic2\", \"Topic2\", \"Topic2\", \"Topic2\", \"Topic2\", \"Topic2\", \"Topic2\", \"Topic2\", \"Topic2\", \"Topic2\", \"Topic2\", \"Topic2\", \"Topic2\", \"Topic2\", \"Topic2\", \"Topic2\", \"Topic2\", \"Topic2\", \"Topic2\", \"Topic2\", \"Topic2\", \"Topic2\", \"Topic2\", \"Topic2\", \"Topic2\", \"Topic2\", \"Topic2\", \"Topic2\", \"Topic2\", \"Topic2\", \"Topic2\", \"Topic2\", \"Topic2\", \"Topic2\", \"Topic2\", \"Topic2\", \"Topic2\", \"Topic2\", \"Topic2\", \"Topic2\", \"Topic2\", \"Topic2\", \"Topic2\", \"Topic2\", \"Topic2\", \"Topic2\", \"Topic2\", \"Topic2\", \"Topic2\", \"Topic2\", \"Topic2\", \"Topic2\", \"Topic2\", \"Topic2\", \"Topic2\", \"Topic2\", \"Topic2\", \"Topic2\", \"Topic2\", \"Topic2\", \"Topic2\", \"Topic2\", \"Topic2\", \"Topic3\", \"Topic3\", \"Topic3\", \"Topic3\", \"Topic3\", \"Topic3\", \"Topic3\", \"Topic3\", \"Topic3\", \"Topic3\", \"Topic3\", \"Topic3\", \"Topic3\", \"Topic3\", \"Topic3\", \"Topic3\", \"Topic3\", \"Topic3\", \"Topic3\", \"Topic3\", \"Topic3\", \"Topic3\", \"Topic3\", \"Topic3\", \"Topic3\", \"Topic3\", \"Topic3\", \"Topic3\", \"Topic3\", \"Topic3\", \"Topic3\", \"Topic3\", \"Topic3\", \"Topic3\", \"Topic3\", \"Topic3\", \"Topic3\", \"Topic3\", \"Topic3\", \"Topic3\", \"Topic3\", \"Topic3\", \"Topic3\", \"Topic3\", \"Topic3\", \"Topic3\", \"Topic3\", \"Topic3\", \"Topic3\", \"Topic3\", \"Topic3\", \"Topic3\", \"Topic3\", \"Topic3\", \"Topic3\", \"Topic3\", \"Topic3\", \"Topic3\", \"Topic3\", \"Topic3\", \"Topic3\", \"Topic3\", \"Topic3\", \"Topic3\", \"Topic3\", \"Topic3\", \"Topic3\", \"Topic3\", \"Topic3\", \"Topic4\", \"Topic4\", \"Topic4\", \"Topic4\", \"Topic4\", \"Topic4\", \"Topic4\", \"Topic4\", \"Topic4\", \"Topic4\", \"Topic4\", \"Topic4\", \"Topic4\", \"Topic4\", \"Topic4\", \"Topic4\", \"Topic4\", \"Topic4\", \"Topic4\", \"Topic4\", \"Topic4\", \"Topic4\", \"Topic4\", \"Topic4\", \"Topic4\", \"Topic4\", \"Topic4\", \"Topic4\", \"Topic4\", \"Topic4\", \"Topic4\", \"Topic4\", \"Topic4\", \"Topic4\", \"Topic4\", \"Topic4\", \"Topic4\", \"Topic4\", \"Topic4\", \"Topic4\", \"Topic4\", \"Topic4\", \"Topic4\", \"Topic4\", \"Topic4\", \"Topic4\", \"Topic4\", \"Topic4\", \"Topic4\", \"Topic4\", \"Topic4\", \"Topic4\", \"Topic4\", \"Topic4\", \"Topic4\", \"Topic4\", \"Topic4\", \"Topic4\", \"Topic4\", \"Topic4\", \"Topic4\", \"Topic4\", \"Topic4\", \"Topic5\", \"Topic5\", \"Topic5\", \"Topic5\", \"Topic5\", \"Topic5\", \"Topic5\", \"Topic5\", \"Topic5\", \"Topic5\", \"Topic5\", \"Topic5\", \"Topic5\", \"Topic5\", \"Topic5\", \"Topic5\", \"Topic5\", \"Topic5\", \"Topic5\", \"Topic5\", \"Topic5\", \"Topic5\", \"Topic5\", \"Topic5\", \"Topic5\", \"Topic5\", \"Topic5\", \"Topic5\", \"Topic5\", \"Topic5\", \"Topic5\", \"Topic5\", \"Topic5\", \"Topic5\", \"Topic5\", \"Topic5\", \"Topic5\", \"Topic5\", \"Topic5\", \"Topic5\", \"Topic5\", \"Topic5\", \"Topic5\", \"Topic5\", \"Topic5\", \"Topic5\", \"Topic5\", \"Topic5\", \"Topic5\", \"Topic5\", \"Topic5\", \"Topic5\", \"Topic5\", \"Topic5\", \"Topic5\", \"Topic5\", \"Topic5\", \"Topic5\", \"Topic5\", \"Topic5\", \"Topic5\", \"Topic5\", \"Topic5\", \"Topic5\", \"Topic5\", \"Topic5\", \"Topic5\", \"Topic5\", \"Topic5\", \"Topic5\", \"Topic5\", \"Topic6\", \"Topic6\", \"Topic6\", \"Topic6\", \"Topic6\", \"Topic6\", \"Topic6\", \"Topic6\", \"Topic6\", \"Topic6\", \"Topic6\", \"Topic6\", \"Topic6\", \"Topic6\", \"Topic6\", \"Topic6\", \"Topic6\", \"Topic6\", \"Topic6\", \"Topic6\", \"Topic6\", \"Topic6\", \"Topic6\", \"Topic6\", \"Topic6\", \"Topic6\", \"Topic6\", \"Topic6\", \"Topic6\", \"Topic6\", \"Topic6\", \"Topic6\", \"Topic6\", \"Topic6\", \"Topic6\", \"Topic6\", \"Topic6\", \"Topic6\", \"Topic6\", \"Topic6\", \"Topic6\", \"Topic6\", \"Topic6\", \"Topic6\", \"Topic6\", \"Topic6\", \"Topic6\", \"Topic6\", \"Topic6\", \"Topic6\", \"Topic6\", \"Topic6\", \"Topic6\", \"Topic6\", \"Topic6\", \"Topic6\", \"Topic6\", \"Topic6\", \"Topic6\", \"Topic7\", \"Topic7\", \"Topic7\", \"Topic7\", \"Topic7\", \"Topic7\", \"Topic7\", \"Topic7\", \"Topic7\", \"Topic7\", \"Topic7\", \"Topic7\", \"Topic7\", \"Topic7\", \"Topic7\", \"Topic7\", \"Topic7\", \"Topic7\", \"Topic7\", \"Topic7\", \"Topic7\", \"Topic7\", \"Topic7\", \"Topic7\", \"Topic7\", \"Topic7\", \"Topic7\", \"Topic7\", \"Topic7\", \"Topic7\", \"Topic7\", \"Topic7\", \"Topic7\", \"Topic7\", \"Topic7\", \"Topic7\", \"Topic7\", \"Topic7\", \"Topic7\", \"Topic7\", \"Topic7\", \"Topic7\", \"Topic7\", \"Topic7\", \"Topic7\", \"Topic7\", \"Topic7\", \"Topic7\", \"Topic7\", \"Topic7\", \"Topic7\", \"Topic7\", \"Topic7\", \"Topic7\", \"Topic7\", \"Topic7\", \"Topic7\", \"Topic7\", \"Topic7\", \"Topic8\", \"Topic8\", \"Topic8\", \"Topic8\", \"Topic8\", \"Topic8\", \"Topic8\", \"Topic8\", \"Topic8\", \"Topic8\", \"Topic8\", \"Topic8\", \"Topic8\", \"Topic8\", \"Topic8\", \"Topic8\", \"Topic8\", \"Topic8\", \"Topic8\", \"Topic8\", \"Topic8\", \"Topic8\", \"Topic8\", \"Topic8\", \"Topic8\", \"Topic8\", \"Topic8\", \"Topic8\", \"Topic8\", \"Topic8\", \"Topic8\", \"Topic8\", \"Topic8\", \"Topic8\", \"Topic8\", \"Topic8\", \"Topic8\", \"Topic8\", \"Topic8\", \"Topic8\", \"Topic8\", \"Topic8\", \"Topic8\", \"Topic8\", \"Topic8\", \"Topic8\", \"Topic8\", \"Topic8\", \"Topic8\", \"Topic8\", \"Topic8\", \"Topic8\", \"Topic8\", \"Topic8\", \"Topic8\", \"Topic8\", \"Topic9\", \"Topic9\", \"Topic9\", \"Topic9\", \"Topic9\", \"Topic9\", \"Topic9\", \"Topic9\", \"Topic9\", \"Topic9\", \"Topic9\", \"Topic9\", \"Topic9\", \"Topic9\", \"Topic9\", \"Topic9\", \"Topic9\", \"Topic9\", \"Topic9\", \"Topic9\", \"Topic9\", \"Topic9\", \"Topic9\", \"Topic9\", \"Topic9\", \"Topic9\", \"Topic9\", \"Topic9\", \"Topic9\", \"Topic9\", \"Topic9\", \"Topic9\", \"Topic9\", \"Topic9\", \"Topic9\", \"Topic9\", \"Topic9\", \"Topic9\", \"Topic9\", \"Topic9\", \"Topic9\", \"Topic9\", \"Topic9\", \"Topic9\", \"Topic9\", \"Topic9\", \"Topic9\", \"Topic9\", \"Topic9\", \"Topic9\", \"Topic9\", \"Topic9\", \"Topic9\", \"Topic9\", \"Topic9\", \"Topic9\", \"Topic9\", \"Topic9\", \"Topic9\", \"Topic9\", \"Topic9\", \"Topic9\", \"Topic10\", \"Topic10\", \"Topic10\", \"Topic10\", \"Topic10\", \"Topic10\", \"Topic10\", \"Topic10\", \"Topic10\", \"Topic10\", \"Topic10\", \"Topic10\", \"Topic10\", \"Topic10\", \"Topic10\", \"Topic10\", \"Topic10\", \"Topic10\", \"Topic10\", \"Topic10\", \"Topic10\", \"Topic10\", \"Topic10\", \"Topic10\", \"Topic10\", \"Topic10\", \"Topic10\", \"Topic10\", \"Topic10\", \"Topic10\", \"Topic10\", \"Topic10\", \"Topic10\", \"Topic10\", \"Topic10\", \"Topic10\", \"Topic10\", \"Topic10\", \"Topic10\", \"Topic10\", \"Topic10\", \"Topic10\", \"Topic10\", \"Topic10\", \"Topic10\", \"Topic10\", \"Topic10\", \"Topic10\", \"Topic10\", \"Topic10\", \"Topic10\", \"Topic10\", \"Topic10\", \"Topic10\", \"Topic10\", \"Topic10\", \"Topic10\", \"Topic10\", \"Topic10\", \"Topic10\", \"Topic10\", \"Topic10\", \"Topic10\"], \"logprob\": [30.0, 29.0, 28.0, 27.0, 26.0, 25.0, 24.0, 23.0, 22.0, 21.0, 20.0, 19.0, 18.0, 17.0, 16.0, 15.0, 14.0, 13.0, 12.0, 11.0, 10.0, 9.0, 8.0, 7.0, 6.0, 5.0, 4.0, 3.0, 2.0, 1.0, -4.4478, -4.5423, -2.691, -5.5027, -5.8968, -5.3805, -6.0917, -6.0012, -6.6408, -6.8074, -6.756, -6.8113, -6.8807, -6.3361, -6.8647, -7.044, -7.1516, -6.1728, -7.1831, -7.3605, -7.3413, -7.5885, -7.6099, -6.6842, -7.7327, -7.7378, -7.7497, -7.7932, -7.7949, -6.726, -3.2345, -3.9054, -6.0783, -6.0353, -5.8231, -1.4053, -4.2236, -4.7533, -5.0949, -6.6656, -3.8931, -6.0994, -5.8093, -4.6815, -4.8557, -4.2282, -5.3314, -6.0167, -4.8945, -4.7992, -5.2433, -5.1826, -4.655, -5.2049, -4.9928, -5.0751, -5.4135, -5.1682, -5.3415, -5.3707, -5.3793, -5.4541, -5.1142, -6.1645, -6.2477, -6.4046, -6.4444, -6.4815, -6.5167, -6.6172, -5.4501, -6.5888, -6.7619, -6.8276, -5.3283, -7.0298, -7.1172, -7.0972, -7.2028, -7.0305, -4.0694, -7.3099, -7.3219, -7.3619, -3.5439, -7.4235, -7.4485, -7.4873, -7.4979, -7.5, -7.5224, -7.5588, -6.2722, -5.7217, -6.8956, -7.1139, -6.2673, -5.6941, -6.3674, -6.418, -6.9568, -4.0208, -5.7288, -4.4994, -4.3656, -6.5795, -6.067, -4.263, -5.8725, -5.0681, -4.6453, -3.201, -3.9487, -5.9996, -5.5637, -4.4318, -4.5916, -4.6235, -4.9615, -5.3237, -4.9938, -4.4077, -4.9666, -5.56, -4.9319, -5.2099, -5.5028, -5.3146, -5.1531, -5.2483, -5.1546, -5.0125, -5.3326, -5.4306, -4.7471, -5.5822, -5.716, -5.7701, -5.8707, -5.5064, -6.0001, -5.3725, -5.8914, -6.6879, -6.8532, -6.8792, -6.8981, -6.984, -7.0437, -7.0947, -7.1049, -7.0535, -5.6158, -6.0452, -7.2808, -7.1479, -7.0442, -7.3205, -7.5062, -7.5344, -7.5155, -7.5406, -7.5767, -7.495, -4.4054, -4.7324, -6.6945, -5.7596, -5.5439, -2.9914, -6.1469, -4.3209, -4.9944, -6.4466, -3.457, -5.6111, -5.097, -5.3725, -5.9875, -4.8665, -4.2925, -3.8271, -5.1436, -5.5491, -5.2926, -4.7262, -5.5856, -3.9649, -4.0899, -5.2353, -4.7324, -4.8124, -5.4358, -5.4121, -4.7497, -4.9069, -5.0014, -5.3452, -5.3633, -5.2632, -5.4107, -5.38, -5.4021, -3.9129, -4.706, -4.7887, -4.4171, -5.1892, -5.3596, -5.4885, -5.6444, -5.754, -6.0232, -6.0684, -5.8893, -3.3393, -6.275, -6.1613, -6.5694, -6.1778, -6.805, -4.1995, -6.0839, -6.8705, -6.8796, -6.8621, -6.8621, -6.8621, -6.9509, -6.9555, -6.9194, -6.9989, -6.9477, -6.4298, -6.412, -4.8045, -6.6749, -4.713, -5.2924, -3.4899, -6.3642, -5.7545, -6.345, -4.7535, -5.0348, -5.8277, -3.5514, -5.7012, -4.3894, -5.0218, -5.5519, -5.4055, -5.2843, -4.0633, -4.4671, -5.0819, -5.5152, -4.7775, -4.8627, -4.9934, -5.2505, -5.2275, -5.2934, -5.2759, -5.054, -5.1762, -4.116, -5.0784, -5.3744, -4.4886, -5.7236, -6.4241, -6.7569, -6.7312, -6.8512, -7.0682, -7.0895, -7.1551, -7.3357, -7.3393, -7.1943, -1.8587, -7.4057, -7.4637, -7.1933, -7.5017, -7.5041, -7.5074, -7.5245, -7.535, -7.5603, -7.5651, -7.3682, -7.4854, -7.6179, -7.6258, -5.4211, -7.2679, -3.9178, -7.3415, -3.0363, -5.1993, -6.5681, -4.8354, -6.6224, -5.4056, -6.7273, -6.5339, -6.5368, -4.325, -6.1926, -3.6043, -6.1013, -5.7559, -4.1215, -5.6492, -4.3683, -3.6219, -5.8337, -5.6633, -3.786, -5.7644, -5.0976, -5.4725, -4.3225, -5.6492, -4.2201, -5.0359, -5.1183, -4.3763, -4.9554, -4.7668, -4.4357, -5.3444, -5.3399, -5.1345, -5.4404, -1.4877, -4.0998, -4.3439, -4.3712, -4.9903, -4.9921, -5.381, -5.3355, -5.6336, -5.7312, -5.8583, -6.5224, -6.326, -6.1674, -6.7868, -6.143, -4.9391, -7.059, -7.0774, -7.1369, -7.1383, -6.7138, -7.1871, -7.1894, -7.2346, -7.2783, -7.336, -7.0642, -7.3735, -7.3534, -3.6368, -5.1949, -6.7775, -6.0336, -4.4356, -3.4567, -6.2518, -5.1456, -2.7739, -4.825, -5.6029, -5.3325, -5.3995, -5.4123, -5.5514, -4.9268, -3.2412, -4.2821, -5.5209, -5.0419, -4.3225, -4.044, -4.2714, -4.3993, -4.2892, -5.038, -5.0785, -4.948, -5.1479, -5.0941, -5.0195, -5.4517, -5.5499, -5.6331, -5.7773, -5.8652, -5.9478, -6.0199, -2.37, -6.0755, -5.9238, -6.345, -5.2487, -4.779, -5.526, -6.4821, -6.4974, -6.5213, -6.5368, -6.655, -6.6607, -6.6731, -6.6947, -6.7288, -6.7557, -6.7902, -6.8232, -6.8948, -7.0463, -4.3914, -4.1922, -5.8955, -5.6132, -4.0476, -3.2493, -6.1504, -3.7713, -5.3326, -5.4316, -4.1853, -5.337, -5.6206, -5.4381, -5.6505, -3.6453, -4.1815, -4.7248, -5.0206, -3.8457, -4.8479, -4.7076, -5.3132, -5.2521, -5.1537, -5.1609, -5.5652, -5.508, -5.5117, -3.808, -3.9653, -4.6112, -3.7448, -5.1897, -5.3005, -5.3108, -5.405, -5.6155, -5.4425, -4.8023, -6.2795, -6.3486, -6.4424, -6.5841, -6.6048, -6.6211, -6.6533, -6.8449, -6.8501, -6.8442, -6.4759, -6.9436, -6.7496, -6.966, -7.0258, -7.0366, -7.0952, -7.0958, -7.1013, -6.3955, -3.4036, -4.8804, -6.5728, -5.2759, -4.097, -4.7748, -5.2326, -3.279, -5.2763, -2.954, -4.5308, -4.8494, -4.2767, -5.1768, -3.7914, -3.0525, -4.9293, -5.5761, -4.8525, -5.9294, -4.956, -4.7567, -4.9864, -5.2717, -5.1815, -3.0425, -3.6764, -4.2265, -4.8842, -5.4261, -5.6253, -5.7999, -5.9492, -5.9753, -6.1369, -6.2519, -6.3039, -3.7744, -6.4107, -6.5435, -6.5877, -6.6464, -6.5362, -6.6702, -6.7832, -6.5023, -6.8299, -6.8709, -6.8816, -6.9161, -6.9466, -7.0175, -7.0038, -7.0215, -7.1368, -3.0372, -5.9125, -4.9165, -6.0577, -3.9274, -6.7153, -3.3468, -5.245, -5.9539, -4.545, -4.7497, -5.6292, -5.8171, -5.7192, -5.2925, -5.0315, -4.0299, -4.4826, -5.1957, -4.6424, -4.3179, -4.5599, -5.3488, -5.2454, -5.277, -5.2769, -4.8219, -4.9701, -5.3143, -4.9304, -5.1881, -5.366, -3.3425, -4.5387, -4.1693, -5.3482, -5.9928, -2.4487, -3.9293, -6.3358, -6.3545, -6.4356, -6.4361, -6.5505, -6.5812, -6.6523, -6.7046, -6.7447, -6.7494, -6.7623, -6.8404, -6.8515, -6.6667, -6.8796, -6.7598, -7.0388, -7.0486, -7.1277, -6.343, -7.227, -7.2298, -7.2431, -5.7984, -6.7849, -5.3335, -4.5051, -6.5003, -5.3263, -4.8247, -5.8685, -4.3961, -5.4726, -4.477, -3.8665, -5.2535, -5.6575, -4.8067, -3.5999, -4.2681, -5.6049, -4.5655, -4.4971, -5.1639, -5.1263, -5.3004, -5.7553, -5.2255, -4.6885, -4.8068, -4.9451, -5.5695, -5.4473, -5.1591, -5.37, -5.3561], \"loglift\": [30.0, 29.0, 28.0, 27.0, 26.0, 25.0, 24.0, 23.0, 22.0, 21.0, 20.0, 19.0, 18.0, 17.0, 16.0, 15.0, 14.0, 13.0, 12.0, 11.0, 10.0, 9.0, 8.0, 7.0, 6.0, 5.0, 4.0, 3.0, 2.0, 1.0, 1.8862, 1.8861, 1.8854, 1.8851, 1.8843, 1.8839, 1.8837, 1.8819, 1.8814, 1.8806, 1.8805, 1.8803, 1.8798, 1.8797, 1.8795, 1.8789, 1.878, 1.8779, 1.8777, 1.876, 1.8754, 1.873, 1.8725, 1.8723, 1.8712, 1.8711, 1.8706, 1.8702, 1.87, 1.8692, 1.8617, 1.8543, 1.8684, 1.8672, 1.852, 1.7853, 1.8165, 1.7334, 1.7059, 1.8245, 1.5162, 1.7436, 1.5886, 1.0551, 0.9595, 0.6274, 0.8847, 1.3636, 0.4413, 0.3106, 0.6089, 0.4883, -0.1053, 0.2734, -0.1274, 0.011, 0.5879, 0.0637, 0.3926, 0.2581, -0.1998, -0.3972, 1.9164, 1.9143, 1.9138, 1.9134, 1.9132, 1.9131, 1.913, 1.9125, 1.9124, 1.9119, 1.9117, 1.9113, 1.9105, 1.91, 1.9093, 1.909, 1.9085, 1.9085, 1.9082, 1.9075, 1.9074, 1.907, 1.9069, 1.9063, 1.9061, 1.9056, 1.9055, 1.9055, 1.9052, 1.9047, 1.8999, 1.8921, 1.9037, 1.9026, 1.8903, 1.872, 1.8762, 1.8694, 1.8904, 1.7257, 1.818, 1.6802, 1.5784, 1.8468, 1.7774, 1.5266, 1.7434, 1.5993, 1.4587, 1.1596, 1.2309, 1.7301, 1.5917, 1.1969, 1.0793, 0.8635, 0.9367, 1.1732, 0.8584, 0.3174, 0.7674, 1.1804, 0.3, 0.6052, 0.9776, 0.5101, -0.0669, 0.2079, -0.0976, -1.8218, -0.0144, -0.5749, 2.231, 2.2298, 2.2294, 2.2293, 2.229, 2.2289, 2.2285, 2.2275, 2.2269, 2.2249, 2.2235, 2.2233, 2.2231, 2.2223, 2.2217, 2.2212, 2.221, 2.2205, 2.2203, 2.2196, 2.2189, 2.2189, 2.218, 2.2172, 2.2156, 2.2151, 2.2146, 2.2146, 2.2143, 2.2142, 2.2138, 2.209, 2.2068, 2.1892, 2.1818, 2.1295, 2.185, 2.033, 2.0682, 2.1649, 1.8788, 2.0793, 2.0021, 1.9949, 2.0764, 1.8969, 1.7833, 1.6858, 1.8977, 1.9792, 1.9208, 1.6821, 1.9409, 0.9006, 0.9671, 1.612, 0.9725, 1.0123, 1.7536, 1.6953, 0.4298, 0.5714, 0.2798, 1.2712, 0.6382, -0.1771, 0.7908, -0.1481, 0.0849, 2.2976, 2.2974, 2.2973, 2.297, 2.2967, 2.2964, 2.2961, 2.2957, 2.2952, 2.2944, 2.2942, 2.294, 2.2939, 2.2933, 2.2926, 2.2915, 2.2898, 2.2896, 2.2894, 2.2894, 2.289, 2.2889, 2.2886, 2.2886, 2.2886, 2.2883, 2.2882, 2.288, 2.2878, 2.2865, 2.2793, 2.2759, 2.243, 2.2797, 2.1964, 2.1057, 1.8393, 2.2231, 2.1342, 2.2127, 1.9679, 1.909, 2.0829, 1.314, 1.9873, 1.4947, 1.7189, 1.9025, 1.6887, 1.5187, 0.2973, 0.619, 1.1951, 1.7013, 0.5407, 0.6155, 0.2384, 0.85, 0.7182, 0.9509, 0.8743, -0.329, -0.3205, 2.3484, 2.3473, 2.3467, 2.3418, 2.3413, 2.341, 2.3397, 2.3395, 2.3388, 2.3364, 2.3361, 2.3352, 2.3325, 2.3325, 2.332, 2.3312, 2.331, 2.3303, 2.3302, 2.3295, 2.3295, 2.3291, 2.3291, 2.3289, 2.3284, 2.3283, 2.3282, 2.3276, 2.3271, 2.3269, 2.3188, 2.3255, 2.2569, 2.3256, 2.2227, 2.2624, 2.2953, 2.1966, 2.2882, 2.1879, 2.2749, 2.2552, 2.243, 1.9705, 2.1942, 1.8338, 2.1404, 2.0819, 1.718, 2.0107, 1.7216, 1.4879, 2.021, 1.9432, 1.271, 1.9223, 1.6238, 1.6576, 0.9957, 1.7506, 0.6033, 1.1586, 1.0833, 0.1735, 0.631, 0.0888, -1.245, 0.5997, 0.5124, -0.7739, 0.2936, 2.4557, 2.4552, 2.455, 2.455, 2.454, 2.454, 2.4533, 2.4533, 2.4524, 2.4521, 2.4517, 2.4477, 2.4454, 2.4453, 2.4452, 2.4434, 2.4425, 2.4419, 2.4416, 2.4408, 2.4408, 2.4402, 2.44, 2.44, 2.4392, 2.4385, 2.4375, 2.4371, 2.4368, 2.4367, 2.4202, 2.4339, 2.4353, 2.4203, 2.3775, 2.2119, 2.3896, 2.3117, 2.0496, 2.2258, 2.2896, 2.2595, 2.2158, 2.1541, 2.166, 1.9822, 1.3085, 1.5573, 2.0889, 1.78, 1.3062, 1.0658, 1.1379, 1.1871, 0.0714, 1.0624, -0.2131, -1.7573, -0.2922, 2.4889, 2.4889, 2.4881, 2.4878, 2.4875, 2.487, 2.4867, 2.4863, 2.4859, 2.4856, 2.4855, 2.4845, 2.484, 2.4837, 2.4837, 2.4831, 2.483, 2.4829, 2.4827, 2.4826, 2.4815, 2.4815, 2.4813, 2.4811, 2.4808, 2.4805, 2.48, 2.4798, 2.479, 2.4771, 2.4651, 2.4465, 2.4393, 2.4223, 2.3203, 2.2547, 2.4398, 2.2182, 2.3466, 2.3485, 2.0796, 2.1992, 2.24, 2.1853, 2.1879, 1.2104, 1.2566, 1.4089, 1.6318, 0.5149, 0.6392, 0.0175, 1.2444, 1.0249, 0.0782, -0.0748, 1.8156, 0.7362, -0.1935, 2.5074, 2.5073, 2.5067, 2.506, 2.5058, 2.5055, 2.5055, 2.5053, 2.5046, 2.502, 2.5019, 2.5015, 2.501, 2.5004, 2.4992, 2.499, 2.4989, 2.4986, 2.4966, 2.4962, 2.4961, 2.4956, 2.4954, 2.4953, 2.4952, 2.4944, 2.4942, 2.4934, 2.4934, 2.4933, 2.4847, 2.3915, 2.4279, 2.4643, 2.3262, 2.1897, 2.2504, 2.2811, 2.0022, 2.2664, 1.7711, 2.0586, 2.1224, 1.9567, 2.1597, 1.795, 1.4973, 2.0538, 2.1753, 1.6705, 2.2486, 1.3089, 0.5615, 0.2455, 1.1421, -1.9908, 2.5671, 2.5668, 2.5659, 2.5656, 2.5644, 2.5637, 2.5631, 2.5624, 2.5622, 2.5614, 2.5606, 2.5603, 2.5602, 2.5595, 2.5584, 2.5579, 2.5574, 2.5568, 2.5565, 2.5559, 2.5556, 2.5554, 2.5549, 2.5546, 2.5543, 2.5538, 2.5529, 2.5529, 2.5529, 2.5511, 2.5266, 2.5494, 2.5332, 2.5292, 2.4628, 2.5466, 2.3506, 2.43, 2.4565, 2.2372, 2.2496, 2.3547, 2.3923, 2.3426, 2.2009, 2.0676, 1.675, 1.7335, 2.0388, 1.3032, 0.7682, 0.9183, 1.7587, 1.5897, 1.3975, 1.3125, 0.0435, 0.0869, 1.0732, -0.5698, -0.3324, 0.1211, 2.6374, 2.6365, 2.6359, 2.6348, 2.6322, 2.6315, 2.6305, 2.63, 2.6298, 2.6292, 2.6292, 2.6281, 2.6278, 2.6269, 2.6265, 2.6261, 2.626, 2.6259, 2.6249, 2.6248, 2.6245, 2.6244, 2.6228, 2.622, 2.6218, 2.6207, 2.6199, 2.6189, 2.6189, 2.6186, 2.6079, 2.6175, 2.5938, 2.5488, 2.6054, 2.5627, 2.4816, 2.5444, 2.3852, 2.4884, 2.3741, 2.2741, 2.3252, 2.3872, 2.166, 1.8563, 1.9823, 2.332, 1.8357, 1.7515, 1.9048, 1.7683, 1.8414, 2.1479, 1.4837, 0.8244, 0.425, 0.5589, 1.8031, 1.2632, -0.0729, 0.6315, -0.2463]}, \"token.table\": {\"Topic\": [1, 2, 3, 4, 5, 10, 5, 1, 2, 3, 5, 7, 8, 1, 2, 3, 4, 5, 6, 8, 9, 1, 2, 1, 2, 3, 5, 6, 10, 7, 9, 10, 4, 2, 2, 3, 4, 5, 6, 8, 9, 10, 1, 2, 3, 5, 10, 10, 4, 6, 1, 2, 3, 4, 5, 6, 7, 8, 10, 1, 2, 3, 8, 10, 2, 7, 7, 2, 3, 7, 9, 10, 1, 2, 3, 4, 5, 6, 7, 8, 9, 10, 7, 1, 5, 6, 8, 9, 9, 2, 2, 4, 8, 1, 2, 3, 4, 5, 6, 7, 8, 9, 10, 2, 1, 2, 3, 4, 5, 6, 7, 8, 9, 10, 7, 3, 9, 2, 4, 5, 6, 9, 1, 2, 4, 5, 8, 8, 4, 3, 9, 1, 2, 3, 5, 7, 9, 10, 2, 5, 4, 7, 9, 10, 2, 7, 1, 2, 4, 5, 6, 7, 8, 9, 10, 9, 1, 9, 4, 6, 1, 2, 3, 4, 5, 6, 7, 8, 9, 10, 1, 2, 3, 4, 5, 6, 7, 8, 9, 10, 1, 2, 5, 10, 7, 1, 2, 4, 5, 6, 7, 8, 10, 1, 2, 6, 7, 8, 9, 10, 5, 4, 5, 5, 1, 3, 4, 5, 6, 7, 8, 9, 10, 1, 1, 3, 4, 5, 6, 7, 9, 10, 1, 8, 1, 2, 3, 4, 5, 6, 7, 8, 9, 10, 4, 6, 9, 4, 1, 2, 1, 2, 3, 6, 7, 8, 9, 10, 3, 4, 5, 5, 6, 10, 1, 6, 2, 7, 9, 10, 3, 3, 8, 1, 2, 6, 9, 8, 9, 4, 5, 1, 2, 3, 4, 5, 6, 7, 8, 1, 2, 4, 5, 6, 7, 1, 2, 3, 4, 5, 6, 7, 8, 9, 10, 2, 5, 10, 2, 10, 7, 10, 9, 2, 4, 8, 1, 2, 3, 4, 6, 7, 8, 9, 10, 2, 1, 4, 5, 1, 6, 5, 6, 1, 1, 2, 5, 10, 6, 7, 1, 2, 3, 4, 8, 9, 6, 3, 4, 1, 2, 4, 5, 6, 9, 7, 7, 2, 3, 10, 1, 2, 3, 4, 5, 6, 7, 8, 9, 10, 3, 6, 2, 5, 6, 8, 9, 6, 1, 2, 3, 4, 7, 8, 9, 10, 1, 2, 3, 4, 5, 6, 7, 8, 9, 10, 1, 3, 4, 5, 10, 1, 2, 6, 1, 10, 4, 1, 3, 4, 6, 7, 8, 1, 10, 1, 2, 3, 5, 6, 4, 6, 6, 8, 1, 2, 3, 4, 5, 6, 7, 8, 9, 10, 8, 1, 4, 6, 8, 1, 2, 3, 4, 5, 6, 8, 9, 10, 5, 1, 2, 3, 4, 5, 6, 7, 8, 10, 5, 1, 2, 3, 4, 6, 8, 9, 10, 1, 3, 4, 6, 7, 4, 6, 8, 7, 6, 1, 1, 2, 3, 4, 5, 6, 7, 8, 9, 10, 1, 6, 1, 2, 3, 4, 5, 6, 7, 8, 9, 5, 10, 3, 3, 10, 9, 10, 3, 8, 1, 3, 4, 10, 1, 9, 1, 8, 10, 4, 7, 8, 10, 1, 2, 3, 4, 5, 6, 7, 8, 9, 10, 1, 7, 5, 10, 8, 1, 2, 3, 4, 5, 6, 7, 8, 9, 10, 1, 2, 5, 6, 7, 8, 9, 10, 4, 7, 9, 8, 8, 1, 2, 3, 4, 5, 7, 8, 9, 10, 3, 7, 7, 1, 2, 3, 4, 6, 8, 9, 10, 1, 2, 4, 5, 1, 2, 3, 4, 6, 7, 8, 9, 10, 1, 6, 7, 8, 9, 10, 1, 1, 2, 3, 4, 5, 6, 7, 8, 9, 10, 1, 4, 5, 10, 1, 2, 3, 4, 6, 9, 10, 1, 1, 2, 3, 4, 5, 6, 7, 8, 9, 10, 6, 1, 6, 9, 8, 3, 1, 2, 3, 4, 5, 7, 8, 9, 10, 9, 8, 2, 10, 1, 9, 1, 2, 3, 4, 5, 6, 7, 8, 9, 10, 1, 2, 3, 4, 5, 6, 7, 8, 9, 10, 1, 2, 3, 4, 5, 6, 7, 8, 9, 10, 6, 8, 10, 2, 5, 6, 1, 2, 3, 4, 5, 6, 7, 8, 9, 10, 7, 8, 10, 6, 3, 8, 9, 1, 2, 3, 4, 5, 6, 7, 8, 9, 10, 4, 6, 7, 1, 1, 2, 3, 4, 5, 6, 7, 8, 9, 10, 1, 6, 7, 1, 2, 3, 4, 5, 6, 7, 8, 9, 10, 3, 4, 1, 2, 3, 4, 5, 6, 7, 8, 9, 10, 1, 3, 10, 1, 2, 6, 9, 3, 6, 1, 2, 3, 4, 5, 6, 7, 9, 10, 1, 3, 1, 2, 3, 4, 5, 6, 7, 9, 10, 9, 1, 2, 3, 4, 5, 6, 7, 8, 9, 10, 3, 2, 4, 5, 8, 9, 10, 8, 2, 2, 3, 4, 7, 8, 9, 2, 3, 4, 5, 6, 7, 9, 10, 7, 4, 1, 5, 6, 7, 8, 9, 10, 7, 4, 1, 1, 8, 1, 10, 1, 6, 9, 5, 1, 6, 3, 5, 1, 2, 5, 7, 8, 4, 5, 10, 10, 1, 2, 3, 4, 5, 6, 7, 8, 10, 2, 3, 4, 6, 9, 10, 8, 1, 2, 3, 4, 5, 6, 7, 8, 9, 10, 6, 7, 8, 2, 3, 7, 9, 10, 1, 2, 3, 4, 5, 6, 7, 8, 9, 10, 1, 1, 2, 8, 9, 10, 6, 1, 2, 3, 4, 5, 6, 7, 8, 9, 10, 1, 2, 3, 4, 5, 6, 7, 8, 9, 10, 2, 5, 1, 2, 3, 4, 5, 6, 7, 8, 9, 10, 1, 5, 1, 2, 3, 4, 5, 6, 7, 8, 9, 10, 9, 1, 3, 4, 5, 6, 7, 8, 9, 1, 2, 3, 4, 5, 6, 8, 9, 10, 1, 2, 3, 4, 5, 6, 7, 8, 9, 10, 5, 7, 1, 2, 3, 4, 5, 6, 7, 8, 9, 10, 10, 1, 2, 6, 8, 9, 10, 1, 2, 3, 4, 5, 6, 7, 8, 9, 10, 4, 10, 10, 3, 10, 9, 7, 1, 2, 3, 4, 5, 6, 7, 8, 9, 10, 8, 1, 7, 8, 9, 7, 2, 5, 1, 3, 1, 2, 3, 4, 5, 6, 7, 8, 9, 10, 5, 2, 1, 2, 3, 4, 5, 6, 7, 8, 9, 10, 5, 10, 1, 8, 1, 2, 4, 5, 8, 9, 1, 6, 1, 1, 2, 8, 7, 1, 2, 3, 4, 5, 7, 8, 9, 10, 2, 5, 1, 4, 10, 7, 10, 1, 2, 4, 5, 7, 8, 9, 10, 6, 1, 2, 3, 4, 6, 7, 8, 9, 10, 3, 2, 3, 4, 5, 6, 7, 9, 2, 6, 10, 2, 3, 5, 7, 8, 9, 10, 2, 4, 5, 6, 7, 8, 9, 10, 5, 8, 2, 4, 7, 8, 9, 1, 5, 9, 5, 1, 2, 3, 5, 7, 10, 1, 2, 3, 4, 5, 6, 7, 8, 9, 10, 4, 5, 9, 8, 10, 6, 1, 3, 4, 6, 8, 9, 10, 9, 1, 2, 3, 5, 6, 7, 8, 9, 10, 2, 1, 6, 9, 7, 10, 1, 1, 5, 3, 5, 9, 2, 8, 2, 3, 4, 10, 10, 1, 3, 4, 5, 6, 7, 8, 9, 10, 9, 3, 6, 8, 1, 2, 3, 4, 5, 7, 8, 9, 10, 6, 1, 4, 2, 3, 4, 6, 9, 10, 1, 2, 3, 4, 5, 6, 7, 8, 9, 10, 3, 7, 5, 1, 2, 3, 4, 5, 6, 7, 8, 9, 10, 2, 5, 8, 3, 8, 1, 2, 3, 4, 5, 6, 7, 8, 10, 4, 4, 8, 8, 2, 6, 9, 1, 2, 3, 4, 5, 6, 7, 8, 9, 10, 2, 4, 4, 7, 8, 9, 4, 8, 6, 1, 2, 1, 2, 3, 5, 7, 8, 9, 10, 1, 2, 8, 1, 2, 9, 1, 2, 3, 4, 5, 6, 7, 8, 9, 10, 9, 2, 2, 5, 8, 4, 6, 10, 1, 2, 3, 4, 5, 6, 7, 8, 9, 10, 1, 2, 3, 4, 5, 6, 7, 8, 9, 10, 1, 2, 3, 5, 6, 7, 9, 10, 3, 6, 7, 6, 7, 2, 3, 4, 5, 8, 9, 10, 2, 3, 7, 8, 10, 1, 2, 3, 4, 5, 7, 8, 9, 10, 7, 9, 1, 3, 5, 6, 7, 8, 9, 1, 2, 3, 4, 5, 6, 7, 8, 9, 10, 8, 3, 6, 8, 6, 8, 10, 1, 2, 3, 4, 5, 6, 7, 8, 9, 10, 4, 5, 4, 4, 4, 6, 1, 1, 2, 3, 5, 6, 7, 8, 9, 3, 6, 8, 3, 4, 6, 10, 2, 10, 5, 10, 1, 2, 3, 4, 5, 6, 7, 8, 9, 10, 6, 10, 5, 8, 10, 1, 2, 3, 10, 3, 3, 10, 1, 4, 6, 9, 5, 1, 2, 3, 4, 5, 6, 7, 8, 9, 10, 5, 1, 2, 10, 7, 5, 7, 8, 10, 1, 2, 5, 6, 7, 8, 9, 10, 1, 2, 3, 4, 6, 7, 8, 9, 10, 6, 10, 9, 2, 2, 3, 5, 6, 8, 9, 10, 2, 3, 4, 5, 7, 10, 10, 9, 7, 1, 2, 3, 4, 10, 1, 2, 3, 4, 5, 6, 7, 8, 9, 10, 1, 4, 7, 10, 1, 8, 10, 2, 7, 10, 2, 4, 7, 8, 9, 10, 8, 4, 9, 6, 7, 1, 3, 6, 9, 3, 2, 1, 2, 3, 4, 5, 6, 7, 8, 9, 10, 1, 2, 3, 5, 6, 7, 8, 9, 10, 1, 2, 3, 4, 5, 6, 7, 8, 9, 10, 6, 1, 2, 3, 4, 5, 6, 7, 8, 9, 8, 5, 2, 3, 5, 8, 8, 2, 1, 2, 3, 7, 1, 2, 3, 4, 5, 6, 7, 8, 9, 10, 1, 2, 3, 4, 5, 6, 7, 8, 9, 10, 2, 1, 2, 3, 4, 5, 6, 7, 8, 9, 10, 1, 3, 5, 8, 1, 2, 3, 5, 9, 5, 1, 2, 3, 4, 5, 6, 7, 8, 9, 10, 1, 2, 3, 4, 5, 6, 7, 8, 9, 10, 1, 6, 7, 10, 1, 2, 3, 4, 5, 6, 7, 8, 9, 10, 9, 9, 5, 8, 2, 3, 4, 5, 6, 7, 8, 3, 2, 3, 7, 9, 7, 2, 9, 4, 5, 6, 10, 1, 2, 3, 4, 5, 6, 7, 8, 9, 10, 4, 5, 2, 4, 5, 6, 10, 2, 5, 6, 4, 2, 5, 8, 9, 1, 2, 3, 6, 7, 8, 7, 1, 2, 6, 7, 8, 9, 8, 9, 4, 2, 4, 5, 6, 7, 8, 6, 8, 1, 2, 1, 3, 2, 2, 9, 6, 1, 2, 3, 4, 5, 6, 7, 8, 9, 10, 2, 5, 1, 2, 7, 10, 3, 1, 2, 3, 4, 5, 6, 7, 8, 9, 10, 2, 3, 4, 7, 8, 9, 1, 2, 3, 4, 6, 7, 9, 4, 1, 2, 5, 5, 1, 2, 3, 4, 5, 6, 7, 8, 9, 10, 3, 7, 8, 9, 1, 1, 2, 3, 4, 5, 6, 7, 8, 9, 10, 4, 5, 1, 2, 4, 5, 6, 7, 8, 10, 1, 2, 3, 4, 5, 6, 7, 8, 9, 10, 8, 9, 10, 1, 2, 3, 4, 5, 6, 7, 8, 9, 10, 1, 2, 3, 4, 5, 6, 7, 8, 9, 10, 1, 2, 3, 4, 5, 6, 7, 8, 9, 10, 2, 3, 4, 5, 6, 7, 8, 9, 8, 1, 2, 4, 5, 6, 7, 8, 9, 10, 1, 2, 3, 4, 5, 6, 7, 8, 1, 2], \"Freq\": [0.2981925285014059, 0.2228067769139718, 0.015077150317486814, 0.010051433544991209, 0.003350477848330403, 0.45063927060043923, 0.9666004885687726, 0.02762802411587733, 0.9041898801559853, 0.01506983133593309, 0.01255819277994424, 0.02762802411587733, 0.010046554223955393, 0.00521230639193726, 0.7276379723144415, 0.007297228948712164, 0.18764303010974137, 0.03335876090839846, 0.013551996619036876, 0.023976609402911395, 0.001042461278387452, 0.9681939003147105, 0.03154411056629161, 0.03059171137470032, 0.1330739444799464, 0.009177513412410096, 0.03059171137470032, 0.7938549101734733, 0.9978167177826839, 0.985040333385365, 0.8708446898809125, 0.12563005362216442, 0.9954451265891787, 0.9920746842150004, 0.19222404789900277, 0.0024332157961899086, 0.20682334267614222, 0.03163180535046881, 0.5085421014036908, 0.009732863184759634, 0.035281629044753675, 0.012166078980949542, 0.004642984455425021, 0.0015476614851416735, 0.8481184938576372, 0.0015476614851416735, 0.14393251811817565, 0.9762219835843031, 0.9962590694382616, 0.9777929174062524, 0.015150041196803458, 0.03787510299200864, 0.7150819444891232, 0.0893852430611404, 0.060600164787213834, 0.0015150041196803458, 0.05757015654785314, 0.0015150041196803458, 0.022725061795205188, 0.07828299305390021, 0.02899370113107415, 0.8582135534797949, 0.031893071244181566, 0.981869839671012, 0.9931654164906688, 0.005538097117977707, 0.9971452459152474, 0.0027419645142338525, 0.9775103493243684, 0.013709822571169261, 0.0013709822571169262, 0.0041129467713507785, 0.10250215454551459, 0.14496346922531878, 0.050304487455054656, 0.17254980105551004, 0.2582837931160064, 0.014874982849612936, 0.06815446687459017, 0.14279983535628418, 0.016227254017759565, 0.029479511465596544, 0.9861165186996302, 0.002978851385490079, 0.03574621662588095, 0.7476916977580098, 0.002978851385490079, 0.20851959698430553, 0.9830905203339843, 0.9828800416758844, 0.000687236299064504, 0.000687236299064504, 0.9978671062416598, 0.23562719618466943, 0.006055839154278887, 0.7022020764802474, 0.009634289563625503, 0.013488005389075703, 0.0019268579127251005, 0.0008257962483107573, 0.007432166234796816, 0.014589067053490046, 0.007982697067003988, 0.9982445110542526, 0.04176009239177795, 0.16152488566631093, 0.05909447036572351, 0.08824774241281377, 0.19146608398494416, 0.07721677461121206, 0.017334377973945565, 0.024425714417832384, 0.22455898738974933, 0.11424930937373212, 0.9930770065535075, 0.994508652481321, 0.9941888898796688, 0.0008720385827462835, 0.9906358299997781, 0.005232231496477701, 0.0008720385827462835, 0.0008720385827462835, 0.10672038682340704, 0.38287314035614073, 0.024204623815618092, 0.4840924763123618, 0.002200420346874372, 0.9878085537440148, 0.9981429062266419, 0.10125970954803215, 0.893468025423813, 0.13592971174330798, 0.02647468222907452, 0.018571792011440335, 0.0015805780435268369, 0.0063223121741073475, 0.8053045131769234, 0.005532023152343929, 0.09480404064167727, 0.8963291115213124, 0.9911061556577883, 0.16323887181611263, 0.09645933334588475, 0.7382848975319639, 0.9859629707855854, 0.9889544114003437, 0.18458888156355147, 0.47465712402056087, 0.1608560253625234, 0.028127829571588794, 0.020216877504579445, 0.029006824245700943, 0.009668941415233648, 0.016700898808130846, 0.07647253664775704, 0.9984127036619826, 0.012544431225576178, 0.9847378512077299, 0.007103673471887145, 0.9874106125923132, 0.06678313243860409, 0.013191729864415622, 0.016489662330519527, 0.0009893797398311717, 0.1744606274568966, 0.6660174615296838, 0.03330911790764945, 0.008244831165259764, 0.015830075837298747, 0.004617105452545468, 0.010466763228857121, 0.003925036210821421, 0.04317539831903563, 0.18709339271582104, 0.03532532589739278, 0.0680339609875713, 0.09158417825249981, 0.018316835650499963, 0.12167612253546403, 0.4186705291542849, 0.004626418542596555, 0.9715478939452765, 0.013879255627789664, 0.004626418542596555, 0.997484604425526, 0.6902415556527449, 0.021329352792702847, 0.00503609718716595, 0.004443615165146427, 0.2678018739528246, 0.008590989319283092, 0.0014812050550488088, 0.0005924820220195235, 0.0012594403162161816, 0.0012594403162161816, 0.0012594403162161816, 0.9748068047513246, 0.0050377612648647265, 0.0012594403162161816, 0.01511328379459418, 0.9872880741574755, 0.998326778782417, 0.0010922612459326225, 0.9672433635855402, 0.0974838083271847, 0.023468324226914836, 0.5506029914776173, 0.05415767129288039, 0.11012059829552347, 0.09387329690765935, 0.028884091356202877, 0.021663068517152155, 0.019857812807389477, 0.9979652445508606, 0.0033619209166938792, 0.0033619209166938792, 0.07060033925057146, 0.0974957065841225, 0.010085762750081637, 0.7396226016726534, 0.060514576500489824, 0.016809604583469397, 0.9950573866985232, 0.9890824354447233, 0.0905143575045466, 0.11931438034690235, 0.006171433466219086, 0.02331430420571655, 0.20777159336270926, 0.030857167331095434, 0.020571444887396956, 0.056914330855131576, 0.03222859699025523, 0.412114612577519, 0.9180003780911425, 0.06212032633699461, 0.02070677544566487, 0.9972914149916948, 0.008788622843249196, 0.98432575844391, 0.26469212796009645, 0.053903868004031796, 0.5768518411774746, 0.0072408180900938235, 0.020113383583593953, 0.0024136060300312743, 0.0072408180900938235, 0.06758096884087568, 0.9984284765132199, 0.006135332864909816, 0.9926968575424083, 0.8101221595306334, 0.09560447845392568, 0.08554084914298613, 0.17607104830924128, 0.8225408674745152, 0.12374873122812312, 0.7768670349321063, 0.08593661890841883, 0.013749859025347014, 0.9714162772246372, 0.16456938414397493, 0.8334643003420666, 0.9815945416666225, 0.014986176208650726, 0.19054826422532428, 0.8088579379360704, 0.19757757418764346, 0.7987178530989842, 0.9916511171459405, 0.9991530933375974, 0.09451989046658475, 0.0036588344696742484, 0.0012196114898914163, 0.0021343201073099785, 0.597304727174321, 0.004878445959565665, 0.2911822432115756, 0.004878445959565665, 0.19627406456951968, 0.48662686309623393, 0.0003689362115968415, 0.0003689362115968415, 0.31654726955009, 0.9982741335621266, 0.39565913533744285, 0.2694038606904386, 0.04312240014351905, 0.08535567863459441, 0.062238515671058425, 0.01289226396043353, 0.02578452792086706, 0.04578976510085012, 0.011114020655546147, 0.04934625171062489, 0.9927019910656809, 0.9711234311491566, 0.9761924740033805, 0.9839632251894999, 0.9964972757119722, 0.010350704219492064, 0.9833169008517462, 0.9953150168984723, 0.2605043222114881, 0.032563040276436014, 0.7062109359952061, 0.10337194189710212, 0.03199607725386494, 0.7482159603980725, 0.04430226081304377, 0.014767420271014589, 0.0073837101355072945, 0.039379787389372235, 0.004922473423671529, 0.0073837101355072945, 0.9904159639491178, 0.007862678137651886, 0.9749720890688338, 0.007862678137651886, 0.7423228963068144, 0.2553763899831023, 0.9915054043539392, 0.9977908151341477, 0.9986474151843729, 0.029329335169463584, 0.19997273979179717, 0.6665757993059905, 0.10131952149451057, 0.975279370855455, 0.9906545391718042, 0.007509284623022365, 0.022527853869067097, 0.9574337894353516, 0.0037546423115111826, 0.0037546423115111826, 0.987748250123482, 0.977573492527149, 0.9963964683679378, 0.004448198519499722, 0.9751504282623111, 0.0023826420948212844, 0.0006498114804058049, 0.0017328306144154797, 0.019927552065778016, 0.00021660382680193497, 0.9972534712703907, 0.9852683015925453, 0.9975125445601764, 0.99211054929082, 0.9993764000331555, 0.04233853934067269, 0.07620937081321084, 0.006880012642859312, 0.022756964895611572, 0.06244934552749222, 0.001587695225275226, 0.7615644763903501, 0.008467707868134538, 0.008996939609892948, 0.008467707868134538, 0.9944034738871728, 0.9914741374035517, 0.04915721505237007, 0.17930005778094696, 0.2811509781772245, 0.49015755440708575, 0.9866698901981205, 0.9904580570825666, 0.21701377006188508, 0.010637929904994365, 0.04680689158197521, 0.1659517065179121, 0.5084930494587306, 0.012765515885993239, 0.0042551719619977465, 0.036168961676980846, 0.02421442449400235, 0.008156437724295529, 0.002039109431073882, 0.06703572254655388, 0.8814050515816856, 0.0022939981099581175, 0.004078218862147764, 0.002039109431073882, 0.008411326403179764, 0.0002548886788842353, 0.9898237907451578, 0.0003705803929684489, 0.9953789355132537, 0.0007411607859368979, 0.00333522353671604, 0.8680538517607015, 0.13172801641504808, 0.9902922753545359, 0.023876992687719138, 0.967018203852625, 0.9973311272868052, 0.006077504209058837, 0.005064586840882364, 0.028361686308941238, 0.0010129173681764727, 0.9561939955585903, 0.0020258347363529454, 0.9872214938399292, 0.9869534854378957, 0.15539135598454537, 0.08255165786678972, 0.5843362449002174, 0.1262554767374431, 0.050178458703342775, 0.9872394723867206, 0.9904179540590086, 0.01905711218219719, 0.9814412773831551, 0.2106285601488835, 0.06728412338089335, 0.014626983343672467, 0.010531428007444176, 0.5341774317109185, 0.005850793337468987, 0.01345682467617867, 0.028083808019851136, 0.037445077359801515, 0.07898571005583133, 0.9830786584710673, 0.13063208440388302, 0.028175547616523786, 0.7402484782886704, 0.09989512336767524, 0.02619113934802729, 0.08333544338008683, 0.004762025336004962, 0.02142911401202233, 0.08571645604808932, 0.05476329136405706, 0.011905063340012404, 0.692874686388722, 0.01904810134401985, 0.9883652633358471, 0.001986799861343322, 0.001986799861343322, 0.9814791315036011, 0.006953799514701627, 0.000993399930671661, 0.001986799861343322, 0.000993399930671661, 0.001986799861343322, 0.000993399930671661, 0.983762965751002, 0.059127149683650966, 0.03063213778791556, 0.005699002379147081, 0.009260878866114007, 0.0904716627689599, 0.7273351786386462, 0.022796009516588323, 0.05414052260189727, 0.11234153821082572, 0.045471574990096124, 0.14176432202794673, 0.6927728189667586, 0.005349597057658368, 0.9854499625119449, 0.010265103776166093, 0.9959713191916084, 0.9834975041515679, 0.9981825292824487, 0.998393811989178, 0.10184921780458202, 0.13329958976468811, 0.2822202252049256, 0.01770385176562264, 0.34033051511796936, 0.008747785578307658, 0.011038872277388236, 0.0014579642630512763, 0.08372880482094472, 0.019578377246688566, 0.9932075198691003, 0.9967554682241033, 0.014694576084146257, 0.060877529491463064, 0.7893086582341418, 0.016793801239024294, 0.035686827632926625, 0.044083728252438774, 0.023091476703658406, 0.01259535092926822, 0.00629767546463411, 0.9464173722150735, 0.046852345159162055, 0.9954601793183381, 0.016064282526734044, 0.9799212341307767, 0.9948080890980816, 0.9921728556562882, 0.9902797909263724, 0.9970157314580883, 0.028439121608325502, 0.021329341206244128, 0.9242714522705788, 0.021329341206244128, 0.9945149843627572, 0.9872082994388162, 0.998609836818787, 0.0005152120917419255, 0.0007728181376128882, 0.7322068338191764, 0.04051737420343268, 0.08682294472164147, 0.1418108097120144, 0.16879781767866475, 0.010549863604916547, 0.2025573812143977, 0.006329918162949928, 0.0021099727209833094, 0.027429645372783022, 0.09283879972326561, 0.03797950897769957, 0.016879781767866475, 0.4346543805225617, 0.006047803448201361, 0.9918397655050232, 0.9743017570780986, 0.9850838857605029, 0.9880365233012687, 0.08634000475522773, 0.4787945718244446, 0.008970390104439244, 0.11437247383160036, 0.02242597526109811, 0.09194649857050224, 0.08073351093995319, 0.006727792578329433, 0.05942883444190999, 0.050458444337470744, 0.0035872356740927537, 0.010761707022278261, 0.0035872356740927537, 0.0035872356740927537, 0.017936178370463768, 0.12914048426733912, 0.21523414044556521, 0.6134173002698609, 0.9968805662938804, 0.02842704777761881, 0.9594128624946349, 0.9992151783427788, 0.9931079629786976, 0.0042401435502835766, 0.005653524733711435, 0.0028267623668557177, 0.008480287100567153, 0.008480287100567153, 0.02261409893484574, 0.6798363492288001, 0.22190084579817385, 0.04522819786969148, 0.003987905904848753, 0.9929885703073396, 0.9935509153634959, 0.001838008787638178, 0.025732123026934492, 0.001838008787638178, 0.003676017575276356, 0.003676017575276356, 0.27018729178281214, 0.5900008208318551, 0.10476650089537615, 0.2193705236731329, 0.05624885222388023, 0.011249770444776045, 0.7143604232432789, 0.0034850968549093885, 0.002091058112945633, 0.004879135596873144, 0.017425484274546942, 0.004182116225891266, 0.6628654218037657, 0.3018093876351531, 0.002091058112945633, 0.0013940387419637554, 0.027702590285417262, 0.029681346734375638, 0.013851295142708631, 0.9221005052146032, 0.001978756448958376, 0.003957512897916752, 0.9905364909270428, 0.9035635245558081, 0.023778835399999514, 0.002158783159620552, 0.0015465909203251716, 0.02748420947994524, 0.014789275675609453, 0.00628302561382101, 0.011116122239837172, 0.007829616534146181, 0.0014177083436314073, 0.9942512746247186, 0.01791535211049067, 0.06568962440513247, 0.9136829576350243, 0.005867346454683591, 0.9894198968845381, 0.0006176154162824833, 0.00030880770814124164, 0.002470461665129933, 0.0009264231244237249, 0.00030880770814124164, 0.9873800025638996, 0.17286076899817232, 0.017638853979405338, 0.0007055541591762135, 0.33161045481282037, 0.18556074386334415, 0.019049962297757767, 0.23071621005062182, 0.02822216636704854, 0.0007055541591762135, 0.013405529024348058, 0.9889911548557531, 0.9958230447628326, 0.013958258183372686, 0.977078072836088, 0.988053562485132, 0.9912898826289441, 0.005608569299217028, 0.16713536511666743, 0.11441481370402737, 0.5597352160618594, 0.007851997018903838, 0.03028627421577195, 0.01233885245827746, 0.0011217138598434056, 0.1009542473859065, 0.9921060477441536, 0.9812129716785327, 0.9928511903845102, 0.996752339264842, 0.9968646576043446, 0.9934327501337439, 0.10587572015693696, 0.18101332801024705, 0.03477443008087079, 0.07110129007606616, 0.02483887862919342, 0.038500261875249804, 0.025770336577788176, 0.053714075035630776, 0.006830691623028191, 0.4576563387428888, 0.013499881192029438, 0.0019285544560042054, 0.0038571089120084108, 0.02217837624404836, 0.019285544560042053, 0.004821386140010513, 0.0009642772280021027, 0.638351524937392, 0.2854260594886224, 0.009642772280021026, 0.14718060479050582, 0.11145715702581994, 0.07335214607682167, 0.44773387865072967, 0.009049940100387089, 0.0009526252737249568, 0.036676073038410834, 0.05715751642349741, 0.05620489114977245, 0.060968017518397234, 0.9899026349587828, 0.012530413100744087, 0.9861273317880841, 0.9534328746751137, 0.00526758494295643, 0.031605509657738576, 0.0043123521477393, 0.00215617607386965, 0.0100621550113917, 0.0359362678978275, 0.6849452661325921, 0.0014374507159131, 0.14733869838109276, 0.09559047260822115, 0.00934342965343515, 0.00934342965343515, 0.9927572838784582, 0.9943347750726366, 0.0037381006581678066, 0.989885265383475, 0.9983465093694547, 0.09875398999732829, 0.900636388775634, 0.010005846288410614, 0.12007015546092738, 0.005717626450520351, 0.020011692576821227, 0.0042882198378902635, 0.0042882198378902635, 0.0028588132252601755, 0.634656536007759, 0.15437591416404947, 0.04145279176627255, 0.8247308759432376, 0.12987887810129725, 0.04545760733545404, 0.9824573927293012, 0.0001702811019425148, 0.0001702811019425148, 0.0005108433058275445, 0.001021686611655089, 0.001021686611655089, 0.001021686611655089, 0.994611916446229, 0.0005108433058275445, 0.0006811244077700592, 0.0003405622038850296, 0.061420283248509025, 0.0040946855499006014, 0.9335883053773372, 0.010498844349573499, 0.22572515351583022, 0.10393855906077765, 0.05354410618282485, 0.11128775010547909, 0.03254641748367785, 0.020997688699146998, 0.08609052366650269, 0.3107657927473756, 0.04409514626820869, 0.9828780876609677, 0.997192601669894, 0.2726140061408959, 0.02999289654988246, 0.20298763915009738, 0.04124023275608839, 0.097476913787118, 0.03374200861861777, 0.11515129925401302, 0.033206421180227014, 0.03802670812574384, 0.13443244703608032, 0.9801815719194207, 0.9877720530194279, 0.9970730269730244, 0.01363160018290608, 0.008178960109743649, 0.9787488931326566, 0.9800849505895096, 0.9953669548289003, 0.9994823864342475, 0.049828249919727036, 0.13547055446925788, 0.2273413902587546, 0.015571328099914699, 0.00934279685994882, 0.05605678115969292, 0.00934279685994882, 0.01401419528992323, 0.4811540382873642, 0.09747340988784788, 0.902350655544906, 0.1317631584050973, 0.029866315905155393, 0.6201652655599914, 0.06324631603444672, 0.07203052659478654, 0.019325263232747608, 0.017568421120679644, 0.021082105344815572, 0.0245957895689515, 0.9944145184615991, 0.06646355482470825, 0.10321399102189989, 0.14204955835084707, 0.02762798749576108, 0.031016325584863853, 0.009643731484369434, 0.004170262263511106, 0.6031241798602938, 0.0031276966976333297, 0.00938309009289999, 0.9808861737974329, 0.021026684069299115, 0.1717179198992761, 0.0245311314141823, 0.002336298229922124, 0.002336298229922124, 0.7768191614491061, 0.9941892036395267, 0.9883834398143081, 0.018982532837301246, 0.11118340661847873, 0.04067685607993124, 0.7376069902494198, 0.08677729297051998, 0.0054235808106574985, 0.7884915432255085, 0.024960365410547754, 0.08768128362166774, 0.03584052469206857, 0.005120074956009795, 0.0025600374780048976, 0.010880159281520816, 0.04416064649558449, 0.9966270610214585, 0.9918482865267186, 0.593247849880478, 0.006379009138499763, 0.12758018276999525, 0.09781147345699637, 0.09355880069799652, 0.034021382071998736, 0.04252672758999842, 0.9944191125986345, 0.993889284839018, 0.9918760944227459, 0.9858947838204702, 0.006894369117625666, 0.07073150641053888, 0.9265827339780593, 0.3515615264269379, 0.04173789811461363, 0.6068048264355366, 0.9936539161907291, 0.07476368530153925, 0.924899139133558, 0.9870197012862212, 0.9989456936020703, 0.0023069373969086373, 0.04152487314435547, 0.9181610839696376, 0.036910998350538196, 0.0023069373969086373, 0.02153277326561518, 0.9259092504214528, 0.04306554653123036, 0.9940854824810587, 0.06079002570944834, 0.045674667965477395, 0.5789839205407998, 0.004928921003468784, 0.003285947335645856, 0.05520391523885038, 0.07886273605550054, 0.00887205780624381, 0.16298298784803444, 0.8293647500410042, 0.006031743636661848, 0.003015871818330924, 0.006031743636661848, 0.14777771909821527, 0.009047615454992773, 0.9967063592941415, 0.0693472271599302, 0.2019140170109175, 0.024510657875492572, 0.07233633177889272, 0.03631762112039449, 0.014796067863864419, 0.08429275025474275, 0.4785556494958977, 0.01509497832576067, 0.002989104618962509, 0.061381132824089746, 0.16525689606485702, 0.7696249731020484, 0.007397217526455512, 0.7767078402778288, 0.1627387855820213, 0.05178052268518859, 0.9960488526964697, 0.03843501770064373, 0.07095695575503458, 0.13954867965156803, 0.2347492619562394, 0.06208733628565526, 0.24834934514262105, 0.07154826371965987, 0.008869619469379322, 0.06740910796728286, 0.05853948849790353, 0.9933410099568153, 0.002241854846369947, 0.0014945698975799646, 0.002241854846369947, 0.9931416969418865, 0.0007472849487899823, 0.9987301767464632, 0.0712215158642718, 0.1893844853663591, 0.0598908201585922, 0.10359493216621353, 0.014568037335873777, 0.038848099562330075, 0.024280062226456296, 0.009712024890582519, 0.44513447415169877, 0.04208544119252425, 0.4351964380313683, 0.1356136209162904, 0.007397106595434022, 0.009862808793912029, 0.12410701065672637, 0.07150536375586221, 0.0678068104581452, 0.07602581778640523, 0.04767024250390814, 0.024657021984780075, 0.14737608025281893, 0.8500441771725092, 0.028442000776787192, 0.46867019528173054, 0.0018684526057743411, 0.13515140515101068, 0.04401243915824003, 0.09217699521820083, 0.1385769015949303, 0.02979143876984644, 0.04338962162298192, 0.01795790559994228, 0.9817433268563889, 0.014332019370166262, 0.008734606982600887, 0.32442825935374725, 0.5378022299287117, 0.032442825935374724, 0.027451621945317074, 0.0012478009975144125, 0.0037434029925432375, 0.002495601995028825, 0.028699422942831485, 0.032442825935374724, 0.990533230418564, 0.0017996448750663512, 0.7324554641520049, 0.008998224375331756, 0.07378543987772039, 0.0017996448750663512, 0.005398934625199053, 0.10257975787878201, 0.07198579500265405, 0.2786676545214039, 0.3469504572849267, 0.0059978137562553815, 0.017532070979823424, 0.15917274968523898, 0.09642639038902882, 0.023068514447136083, 0.06551458102986647, 0.006920554334140825, 0.1256236202822693, 0.03174360297455192, 0.06889037241285736, 0.03849756105424382, 0.0006753958079691898, 0.017560291007198935, 0.05808403948535032, 0.5761126241977189, 0.08104749695630277, 0.002701583231876759, 0.9909138099779096, 0.004216654510544296, 0.0536906429216368, 0.2233733351739795, 0.017728042474125356, 0.20615180819911488, 0.027351836960079125, 0.04507987943420448, 0.04356033293642231, 0.03039092995564347, 0.2826356485874843, 0.06989913889797998, 0.9929155371861244, 0.209534165118681, 0.18136727734862879, 0.022670909668578598, 0.0267928932446838, 0.0398458412356836, 0.5193699305892552, 0.002605244094119659, 0.0009769665352948721, 0.01367753149412821, 0.0016282775588247868, 0.006838765747064105, 0.0013026220470598296, 0.7897146160300217, 0.0550357814882778, 0.0039078661411794885, 0.12505171651774363, 0.02372948412535071, 0.9729088491393791, 0.9940538519857712, 0.9732006857566448, 0.019464013715132896, 0.9803899627133845, 0.9900170368962349, 0.12492204713519249, 0.25978813782343513, 0.1578616914046711, 0.2405215534394005, 0.10130494369669839, 0.011808551719247051, 0.036668660601872426, 0.042883687822528764, 0.014916065329575224, 0.009322540830984515, 0.9874836224162942, 0.048724156922766965, 0.004872415692276697, 0.10232072953781063, 0.8380554990715918, 0.9921917847343094, 0.9865817497559779, 0.9938924368071456, 0.002648829786071934, 0.9959599995630471, 0.059343020678334434, 0.6320031702242617, 0.08486051957001824, 0.02907808013238387, 0.0041540114474834106, 0.06052988109190112, 0.08782767060393495, 0.02492406868490046, 0.007714592688183476, 0.009494883308533509, 0.9837590321229458, 0.9945187597722605, 0.04417016826429394, 0.03700743827548952, 0.054914263247500573, 0.45841471928348304, 0.07282108821951162, 0.31635390783886197, 0.008356518320271827, 0.005968941657337019, 0.0023875766629348075, 0.0011937883314674038, 0.8552926209128039, 0.13382129442853394, 0.9319025903506569, 0.06735974518066278, 0.015410337121437167, 0.23423712424584495, 0.006164134848574867, 0.015410337121437167, 0.7181217098589721, 0.0092462022728623, 0.990670713058043, 0.9969761760424897, 0.992641497522195, 0.006052342481691745, 0.9320607421805288, 0.05447108233522571, 0.9987286259815668, 0.01832006911547592, 0.06412024190416572, 0.0916003455773796, 0.6732625399937401, 0.00458001727886898, 0.06183023326473123, 0.06183023326473123, 0.01145004319717245, 0.01374005183660694, 0.9939097637405051, 0.9791285377720553, 0.010606621760383185, 0.8485297408306548, 0.1414216234717758, 0.9960924934292081, 0.9917533777249367, 0.004050283877782382, 0.0006395185070182708, 0.00021317283567275696, 0.00021317283567275696, 0.00021317283567275696, 0.0004263456713455139, 0.0004263456713455139, 0.9938117599063929, 0.9876399492088189, 0.0838412071279514, 0.8255453513737393, 0.014111886348269048, 0.0012451664424943279, 0.01286671990577472, 0.012036608944111835, 0.04233565904480714, 0.0066408876933030814, 0.0012451664424943279, 0.9824746089152404, 0.025218676091482487, 0.002654597483313946, 0.002654597483313946, 0.1181295880074706, 0.6225031098371203, 0.2203315911150575, 0.007963792449941838, 0.991003464659224, 0.008890268548394094, 0.9776041391157425, 0.029151009523120806, 0.013808372932004593, 0.006137054636446486, 0.007671318295558107, 0.01073984561378135, 0.016876900250227835, 0.9144211408305264, 0.7217324131622094, 0.01528374521990561, 0.013585551306582764, 0.0016981939133228455, 0.09509885914607935, 0.028869296526488373, 0.06792775653291382, 0.054342205226331056, 0.9820447257611544, 0.9928892592431843, 0.006837435761090634, 0.0022791452536968784, 0.0022791452536968784, 0.022791452536968782, 0.9663575875674764, 0.049113993686381766, 0.9429886787785299, 0.9940092831087208, 0.9866093258269746, 0.2752207027746335, 0.014377200891212197, 0.16533781024894026, 0.11604455005049845, 0.4231004833699589, 0.005134714604004356, 0.1193162923103938, 0.37485604385775545, 0.11835016848601815, 0.04492475783346811, 0.06907785344285958, 0.031882086204396726, 0.07487459638911352, 0.050238438867534235, 0.076323782125677, 0.04009413871158982, 0.9953829299446328, 0.9688297989330651, 0.027419711290558445, 0.14415634302553001, 0.8550643360281438, 0.9948623253314287, 0.1778735914724538, 0.7149370805634756, 0.0860678668415099, 0.006885429347320792, 0.0011475715578867986, 0.006885429347320792, 0.0045902862315471945, 0.9881571539239214, 0.002420117061513869, 0.0038030410966646516, 0.00034573100878769556, 0.001728655043938478, 0.029387135746954125, 0.0006914620175753911, 0.0010371930263630867, 0.9600950114034307, 0.0006914620175753911, 0.9962588005901353, 0.00020517716614461322, 0.9996915458452705, 6.839238871487107e-05, 0.9903311804588106, 0.9995378748549606, 0.9891679727226881, 0.9894159518547418, 0.004157209881742613, 0.9987204876063052, 0.9747712375482337, 0.9981766808838706, 0.9863055791748805, 0.9923542475764984, 0.9959322850469327, 0.9727227002644722, 0.9913656058580291, 0.9985131878872563, 0.9858164135319245, 0.13345035596172364, 0.2639771860840796, 0.3736953911144658, 0.023388206714941254, 0.06930475960383328, 0.012897908114857309, 0.03989752910195861, 0.08013900242031342, 0.003439442163961949, 0.9974744922859347, 0.9889189468741956, 0.9643677439361223, 0.031108636901165238, 0.09834147522106325, 0.16330098178910502, 0.06947058341304468, 0.018946522749012186, 0.09383039837606034, 0.0018044307380011605, 0.43306337712027854, 0.10465698280406731, 0.017142092011011027, 0.9927470383203928, 0.006307266089403501, 0.9902407760363496, 0.003963275728084467, 0.0005661822468692097, 0.007360369209299725, 0.9647745486651332, 0.0005661822468692097, 0.021514925381029965, 0.15332689630473365, 0.13745809864522274, 0.08985170566669007, 0.18656559410506052, 0.05361080290375302, 0.03152315210740678, 0.07677066975817433, 0.0390286645139322, 0.1653357161551743, 0.06647739560065374, 0.04278203186591434, 0.9483350396944346, 0.9684266857312388, 0.03065604376726277, 0.07206160937499431, 0.28386700267608256, 0.012740174033148165, 0.11904100112222817, 0.03981304385358801, 0.0019906521926794005, 0.018314000172650488, 0.4096762212534207, 0.011545782717540524, 0.9828550586985049, 0.01092061176331672, 0.9939186978240325, 0.9894618508999606, 0.010062323907457227, 0.026874247489939072, 0.005010452921853047, 0.017308837366401437, 0.0004554957201684588, 0.5320190011567599, 0.4072131738306022, 0.005465948642021506, 0.002732974321010753, 0.003188470041179212, 0.99756565676886, 0.9796985684225211, 0.016060632269221657, 0.9924074839614146, 0.9911400199985864, 0.0011811972674248335, 0.9981116909739843, 0.3671049579156635, 0.03319213001045782, 0.009293796402928189, 0.06638426002091564, 0.062401204419660704, 0.009293796402928189, 0.011949166803764816, 0.001991527800627469, 0.43415306053678826, 0.003983055601254938, 0.005739489469456454, 0.9929316782159666, 0.8059215109064176, 0.10841993420265708, 0.010841993420265709, 0.07227995613510473, 0.9974581779441564, 0.9888905867336429, 0.9705052267051876, 0.009387667541071676, 0.9810112580419902, 0.10164817245901495, 0.7125486318146869, 0.0005057123007911192, 0.17396503147214498, 0.0005057123007911192, 0.002528561503955596, 0.004551410707120072, 0.003539986105537834, 0.018439656980229653, 0.9773018199521717, 0.009219828490114827, 0.9418821822121269, 0.05806123041033659, 0.9940755057473725, 0.08405491358666242, 0.0009339434842962492, 0.3044655758805772, 0.08872463100814366, 0.019612813170221233, 0.04202745679333121, 0.28765459316324477, 0.011207321811554991, 0.08965857449243993, 0.07191364829081119, 0.9902238041491864, 0.9903792246450861, 0.08261542335678257, 0.11906340424948077, 0.7969958488536671, 0.0018720956165220004, 0.004680239041305001, 0.9931467245649213, 0.06149857531923942, 0.07523761874162269, 0.2368349389953688, 0.11449202851986062, 0.28197751024034245, 0.014393283585353906, 0.018318724563177697, 0.03729168928932603, 0.07392913841568143, 0.0857054613491528, 0.13347472021208376, 0.16583222814228588, 0.11567809085047258, 0.06633289125691434, 0.029930694835436963, 0.0396379472144976, 0.017796629361611166, 0.2548153749503417, 0.17553948052134652, 0.000808937698255053, 0.006765081079994826, 0.8693129187793351, 0.06426827025995085, 0.003382540539997413, 0.016912702699987067, 0.016912702699987067, 0.016912702699987067, 0.003382540539997413, 0.9859198524650735, 0.9928099766585595, 0.9958591016230351, 0.044188005898339516, 0.9500421268142997, 0.07672525718493672, 0.6380310860642107, 0.11768385312576761, 0.068072032690395, 0.005768816329694491, 0.01961397552096127, 0.07441773065305893, 0.021295564263506865, 0.17662791536202754, 0.01628484326032878, 0.01628484326032878, 0.7678929937370417, 0.09744103839492696, 0.0559087925216794, 0.0830644917464951, 0.5431139844963142, 0.11022019097131082, 0.030350487368911674, 0.031947881440959655, 0.020766122936623777, 0.02715569922481571, 0.9789950380386166, 0.9836983343346636, 0.010435353779390647, 0.13565959913207842, 0.02832453168691747, 0.004472294476881706, 0.01639841308189959, 0.7722161796749079, 0.029815296512544706, 0.15326371739745528, 0.004308618561374245, 0.007386203248070134, 0.003693101624035067, 0.046779287237777516, 0.0055396524360526, 0.0012310338746783557, 0.07016893085666627, 0.012310338746783556, 0.6949186222559317, 0.9871897023390444, 0.9773005468734228, 0.9762012713312817, 0.9994315608435581, 0.1983464700706747, 0.02066109063236195, 0.7768570077768093, 0.2470672613758721, 0.43256012739327143, 0.04464143663489278, 0.09082223315374738, 0.05272307602569233, 0.039638517012016865, 0.01385423895565638, 0.05233823605470188, 0.0230903982594273, 0.0030787197679236398, 0.9865652159895393, 0.9864595601946501, 0.9865652159895393, 0.9992327055646335, 0.9865652159895393, 0.997512495290012, 0.9787864505769013, 0.03390754256059511, 0.12978404221469164, 0.04209212179935945, 0.03624599377167064, 0.028061414532906302, 0.002338451211075525, 0.008184579238764337, 0.7190737474057239, 0.011147828031112594, 0.033443484093337784, 0.958713210675683, 0.9978427123428967, 0.00729216580112831, 0.9917345489534503, 0.992133310294348, 0.0404222355592362, 0.9554346586728556, 0.9822495990894048, 0.9779988690231223, 0.22463166140750068, 0.316451902566771, 0.10001847697706236, 0.04263082625251838, 0.12789247875755513, 0.027874001780492787, 0.011067618354019195, 0.04017135550718078, 0.05656782714276477, 0.05287862102475838, 0.9858075957679799, 0.012775044437598013, 0.6528699465259369, 0.29465811745860865, 0.04910968624310144, 0.0025931864935371746, 0.24894590337956873, 0.012965932467685872, 0.7312785911774832, 0.9952301258492211, 0.9915144934371942, 0.9788837871543177, 0.014195545602569845, 0.1100154784199163, 0.8481838497535482, 0.02484220480449723, 0.9722473414008458, 0.1364502467999995, 0.03937994255073515, 0.003009931914705872, 0.009782278722794083, 0.11349951595036724, 0.31742240317169007, 0.0053927946805146865, 0.3639509340198516, 0.00940603723345585, 0.001630379787132347, 0.998620507466275, 0.965156581125482, 0.017132957061399088, 0.014277464217832573, 0.9971650640957018, 0.9818472419726415, 0.02660322048385417, 0.11021334200453871, 0.8627044356906995, 0.8578925835101543, 0.03915331263484477, 0.009570809755184278, 0.0008700736141076615, 0.0026102208423229847, 0.003480294456430646, 0.0861372877966585, 0.0008700736141076615, 0.07455590656664593, 0.004970393771109729, 0.1416562224766273, 0.019881575084438916, 0.004970393771109729, 0.7480442625520143, 0.0024851968855548645, 0.0024851968855548645, 0.0024851968855548645, 0.983381148167349, 0.013288934434693905, 0.997744828173598, 0.9985256047680937, 0.2543537782296688, 0.16413427569521363, 0.17935202311066392, 0.005434909791232239, 0.017391711331943168, 0.06304495357829398, 0.3152247678914699, 0.003359828793007046, 0.21166921395944388, 0.013439315172028184, 0.7660409648056065, 0.003359828793007046, 0.003359828793007046, 0.9917664051884224, 0.9921631137726895, 0.9942988958049047, 0.078048297705707, 0.8396920304889857, 0.005382641221083241, 0.07266565648462375, 0.0026913206105416204, 0.004401081491776007, 0.034108381561264056, 0.0033008111188320057, 0.7184765535324332, 0.0011002703729440018, 0.2343575894370724, 0.0011002703729440018, 0.0011002703729440018, 0.0011002703729440018, 0.0011002703729440018, 0.002867356859857203, 0.12903105869357415, 0.8659417716768754, 0.002867356859857203, 0.9883929412729425, 0.9824889191943209, 0.9888846811944129, 0.9749476245132319, 0.024172255153220627, 0.9872487490796353, 0.13739345294406993, 0.246030136667288, 0.0023963974350709872, 0.09665469654786316, 0.06949552561705863, 0.4481263203582746, 0.9868871332231062, 0.9994458987198104, 0.995251449408369, 0.8657765739732628, 0.1308999064097506, 0.02185240051659423, 0.9323690887080205, 0.02913653402212564, 0.00728413350553141, 0.994250100927996, 0.9944357597589133, 0.1993189252029688, 0.058716562360747175, 0.1901147073193922, 0.1856712917893897, 0.09616820754219672, 0.0199953698850112, 0.014917180707865497, 0.0066651232950037335, 0.19233641508439345, 0.036182097887163124, 0.13443975231096122, 0.02385221411968667, 0.013010298610738184, 0.5486009247527934, 0.015178681712527882, 0.002168383101789697, 0.17347064814317578, 0.0780617916644291, 0.008673532407158789, 0.20684022681244624, 0.009002600105424943, 0.011198356228699318, 0.014272414801283445, 0.4226830537303174, 0.24899874437931424, 0.022616288069726074, 0.006148117145168253, 0.0026349073479292515, 0.055991781143496594, 0.9968011251028486, 0.007614094701870132, 0.00026255498971965976, 0.0005251099794393195, 0.005076063134580088, 0.9823932532010602, 0.0012252566186917455, 0.0009627016289720857, 0.00026255498971965976, 0.0015753299383179584, 0.9964680059315729, 0.9918744936177127, 0.001970740029139193, 0.001970740029139193, 0.001970740029139193, 0.9932529746861533, 0.9994269360476414, 0.9933529687450162, 0.9816853857436811, 0.005507211610087818, 0.9527476085451924, 0.03855048127061472, 0.037333288088268586, 0.024380922833154996, 0.8190466264263007, 0.011428557578041405, 0.021333307479010622, 0.00838094222389703, 0.015999980609257967, 0.047238037989237806, 0.010666653739505311, 0.0038095191926804683, 0.05496501468878369, 0.029806898512822994, 0.09598368236698047, 0.6316874822442304, 0.05359772576617713, 0.022423538330747575, 0.012852515872501658, 0.03336184971160005, 0.0620749170863378, 0.0032814934142557425, 0.9953758481783714, 0.05676834710092878, 0.6764533574393117, 0.011700346349046391, 0.06500192416136884, 0.06803534728889939, 0.02513407734239595, 0.01343373099334956, 0.005200153932909507, 0.07583557818826364, 0.0026000769664547537, 0.0030037990812510937, 0.9522043087565967, 0.04205318713751531, 0.0030037990812510937, 0.013670130664311896, 0.06493312065548151, 0.003417532666077974, 0.7210993925424526, 0.19138182930036657, 0.9849068788226726, 0.10323154575418605, 0.24461388015665825, 0.2953319874184975, 0.05206460568471992, 0.03545779180252477, 0.031867129341509606, 0.04174145110930132, 0.05879709779912336, 0.08034107256521436, 0.057001766568615775, 0.16150480529098735, 0.19846980680920104, 0.09253654742478998, 0.12751685087491166, 0.03572456522565619, 0.047136579117185246, 0.08955950032265197, 0.10419664857483055, 0.03423604167458718, 0.10940648100357207, 0.9933688306090038, 0.003780741948993557, 0.9924447616108087, 0.0018903709744967786, 0.06436068812441265, 0.34870044461435507, 0.11687388639507769, 0.0912576921167045, 0.04995157884282772, 0.046109149701071744, 0.1568991899550358, 0.010566680139828942, 0.08677485811798918, 0.029138420991649504, 0.9902817242126923, 0.9992065540751002, 0.9889568566757193, 0.9862971371897413, 0.05457476226652928, 0.7945443329979998, 0.09791354406642018, 0.020866820866614136, 0.009630840399975756, 0.012841120533301007, 0.009630840399975756, 0.9931123125387639, 0.2484211485119796, 0.01162204203564817, 0.01162204203564817, 0.7278303824824666, 0.9985545061316067, 0.9808335344554643, 0.9929785775591274, 0.0012738127972994715, 0.9120499628664216, 0.0006369063986497357, 0.08598236381771433, 0.0769629847842062, 0.0027486780280073643, 0.0054973560560147286, 0.6775491339038153, 0.03985583140610678, 0.0027486780280073643, 0.17179237675046027, 0.006871695070018411, 0.008246034084022094, 0.008246034084022094, 0.9029420510384508, 0.09560562893348303, 0.0030488528307867618, 0.9466688039592895, 0.007622132076966904, 0.039635086800227905, 0.0015244264153933809, 0.9965567226370895, 0.9687397270565143, 0.9854223569103372, 0.9935588727534511, 0.010507952872438043, 0.8586498632906515, 0.12609543446925653, 0.0030022722492680123, 0.02034943100302303, 0.06488780829265835, 0.11672126462111324, 0.7836450693805662, 0.0034555637552303262, 0.010750642794049903, 0.9958486873105187, 0.1022156385237383, 0.005379770448617805, 0.7854464854981995, 0.008069655672926708, 0.09414598285081159, 0.0026898852243089025, 0.9981407419150602, 0.9996906596493275, 0.9907966378320358, 0.9551669584385982, 0.020486154604581197, 0.005121538651145299, 0.0025607693255726496, 0.0025607693255726496, 0.010243077302290599, 0.938109547124196, 0.060039011015948544, 0.9821309163361214, 0.01792209701343287, 0.010299654101756707, 0.9887667937686438, 0.9968084542160056, 0.9943301461736256, 0.0041778577570320405, 0.9996164029365503, 0.12407601249508224, 0.5033672005967473, 0.16480684771642803, 0.03343224625104683, 0.048029424191644736, 0.01765787654104586, 0.026369095634628484, 0.02731084905015093, 0.018128753248807083, 0.036963821559256, 0.07829825299752588, 0.9134796183044687, 0.8349934529218718, 0.03930782303341194, 0.11911461525276346, 0.007146876915165808, 0.982152314554504, 0.016027266115036527, 0.34643552140963574, 0.11958806255065717, 0.04684893172087601, 0.030821665605839477, 0.002465733248467158, 0.01232866624233579, 0.05054753159357674, 0.3760243203912416, 0.001232866624233579, 0.022200789757492498, 0.05074466230284, 0.0095146241817825, 0.8658308005422075, 0.006343082787855, 0.0475731209089125, 0.016849981227823344, 0.08003741083216089, 0.8551365473120347, 0.016849981227823344, 0.004212495306955836, 0.012637485920867508, 0.012637485920867508, 0.9868965142726497, 0.030251504964572604, 0.9579643238781325, 0.005041917494095434, 0.9874382548087021, 0.058769878984427544, 0.16760298821484892, 0.05768154789212333, 0.1512780218302857, 0.04679823696908119, 0.030473270584517986, 0.18066296132249948, 0.018501628569171633, 0.034826594953734843, 0.2524928134145776, 0.0023178520871183885, 0.8429255423487205, 0.11048428281930985, 0.04403918965524938, 0.9992799450784946, 0.28389473600606197, 0.08276715158904986, 0.03218722561796384, 0.07288959028829906, 0.10439560478207319, 0.06403384567383281, 0.27793413866940203, 0.01771148922893248, 0.05500779827831915, 0.009366652957608523, 0.9960393932214199, 0.9699877746899226, 0.12590560028194933, 0.04951343831312614, 0.04668409898094751, 0.0014146696660893184, 0.00990268766262523, 0.0381960809844116, 0.10610022495669888, 0.6238693227453894, 0.0021787582290766216, 0.011329542791198433, 0.0008715032916306486, 0.0021787582290766216, 0.001307254937445973, 0.0008715032916306486, 0.020916078999135567, 0.8902406124007076, 0.04096065470664049, 0.02919536026962673, 0.7854126755557862, 0.13507096968156831, 0.07754074185423367, 0.13372803922839055, 0.11787879013465538, 0.38236313438636116, 0.07033104285344985, 0.04160427887105484, 0.024764451708961212, 0.09113318228897727, 0.04754774728120553, 0.07231219899016675, 0.01981156136716897, 0.06886364860081845, 0.11693827120893698, 0.1260334700807432, 0.07990781865944027, 0.30403950514323613, 0.039629080798584196, 0.1000471875898683, 0.04612565142130292, 0.09225130284260584, 0.025986282490874885, 0.07237292305128326, 0.07169015962627115, 0.15293900720271178, 0.26013286492961246, 0.029358827275520565, 0.02116566617537529, 0.17273914652806285, 0.11129043827697331, 0.015020795350266337, 0.09353858922665854, 0.04157029689475754, 0.16750384337005245, 0.07274801956582569, 0.1137069885650721, 0.07213669167031456, 0.33867565411317174, 0.03667967373066842, 0.15649994125085193, 0.9918118546630076, 0.029804409397450955, 0.20035186317175366, 0.0016558005220806086, 0.5017075581904245, 0.11259443550148139, 0.0016558005220806086, 0.14074304437685173, 0.003311601044161217, 0.009934803132483652, 0.10461537698904431, 0.39079463139709114, 0.13746979290295905, 0.06225047225794372, 0.053604573333229315, 0.025073106881671775, 0.16254289978463082, 0.06397965204288661, 0.9989856508132806, 0.9879906326505828], \"Term\": [\"abus\", \"abus\", \"abus\", \"abus\", \"abus\", \"abus\", \"academ\", \"act\", \"act\", \"act\", \"act\", \"act\", \"act\", \"add\", \"add\", \"add\", \"add\", \"add\", \"add\", \"add\", \"add\", \"admin\", \"admin\", \"administr\", \"administr\", \"administr\", \"administr\", \"administr\", \"aid\", \"albino\", \"aliv\", \"aliv\", \"allemand\", \"alot\", \"american\", \"american\", \"american\", \"american\", \"american\", \"american\", \"american\", \"american\", \"anal\", \"anal\", \"anal\", \"anal\", \"anal\", \"ancestor\", \"angela\", \"anon\", \"anti\", \"anti\", \"anti\", \"anti\", \"anti\", \"anti\", \"anti\", \"anti\", \"anti\", \"arab\", \"arab\", \"arab\", \"arab\", \"archiv\", \"arrest\", \"arrest\", \"arrog\", \"ars\", \"ars\", \"ars\", \"ars\", \"ars\", \"articl\", \"articl\", \"articl\", \"articl\", \"articl\", \"articl\", \"articl\", \"articl\", \"articl\", \"articl\", \"asham\", \"asian\", \"asian\", \"asian\", \"asian\", \"asian\", \"aspect\", \"asperg\", \"assad\", \"assad\", \"assad\", \"asshol\", \"asshol\", \"asshol\", \"asshol\", \"asshol\", \"asshol\", \"asshol\", \"asshol\", \"asshol\", \"asshol\", \"atheist\", \"attack\", \"attack\", \"attack\", \"attack\", \"attack\", \"attack\", \"attack\", \"attack\", \"attack\", \"attack\", \"australian\", \"awww\", \"bail\", \"ball\", \"ball\", \"ball\", \"ball\", \"ball\", \"ban\", \"ban\", \"ban\", \"ban\", \"ban\", \"bare\", \"bark\", \"basement\", \"basement\", \"bastard\", \"bastard\", \"bastard\", \"bastard\", \"bastard\", \"bastard\", \"bastard\", \"beavi\", \"beavi\", \"behav\", \"belong\", \"belong\", \"belong\", \"bend\", \"beth\", \"better\", \"better\", \"better\", \"better\", \"better\", \"better\", \"better\", \"better\", \"better\", \"bias\", \"bigot\", \"bigot\", \"billj\", \"billj\", \"bitch\", \"bitch\", \"bitch\", \"bitch\", \"bitch\", \"bitch\", \"bitch\", \"bitch\", \"bitch\", \"bitch\", \"black\", \"black\", \"black\", \"black\", \"black\", \"black\", \"black\", \"black\", \"black\", \"black\", \"blah\", \"blah\", \"blah\", \"blah\", \"blank\", \"block\", \"block\", \"block\", \"block\", \"block\", \"block\", \"block\", \"block\", \"bloodi\", \"bloodi\", \"bloodi\", \"bloodi\", \"bloodi\", \"bloodi\", \"bloodi\", \"bold\", \"boob\", \"boob\", \"bradburi\", \"bunch\", \"bunch\", \"bunch\", \"bunch\", \"bunch\", \"bunch\", \"bunch\", \"bunch\", \"bunch\", \"bush\", \"butt\", \"butt\", \"butt\", \"butt\", \"butt\", \"butt\", \"butt\", \"butt\", \"california\", \"calm\", \"care\", \"care\", \"care\", \"care\", \"care\", \"care\", \"care\", \"care\", \"care\", \"care\", \"cathol\", \"cathol\", \"cathol\", \"censor\", \"central\", \"central\", \"chang\", \"chang\", \"chang\", \"chang\", \"chang\", \"chang\", \"chang\", \"chang\", \"chees\", \"chicken\", \"chicken\", \"chines\", \"chines\", \"chines\", \"chink\", \"chink\", \"christian\", \"christian\", \"christian\", \"christian\", \"christma\", \"chuck\", \"chuck\", \"chula\", \"chula\", \"cite\", \"cite\", \"classi\", \"classi\", \"clever\", \"cline\", \"cock\", \"cock\", \"cock\", \"cock\", \"cock\", \"cock\", \"cock\", \"cock\", \"cocksuck\", \"cocksuck\", \"cocksuck\", \"cocksuck\", \"cocksuck\", \"codi\", \"come\", \"come\", \"come\", \"come\", \"come\", \"come\", \"come\", \"come\", \"come\", \"come\", \"complaint\", \"comput\", \"comrad\", \"conduct\", \"conflict\", \"congratul\", \"congratul\", \"consensus\", \"construct\", \"construct\", \"construct\", \"content\", \"content\", \"content\", \"content\", \"content\", \"content\", \"content\", \"content\", \"content\", \"context\", \"contrib\", \"contrib\", \"contrib\", \"contribut\", \"contribut\", \"contributor\", \"cougar\", \"couriano\", \"coward\", \"coward\", \"coward\", \"coward\", \"cracker\", \"credibl\", \"credit\", \"credit\", \"credit\", \"credit\", \"credit\", \"cretin\", \"criteria\", \"cult\", \"cult\", \"cunt\", \"cunt\", \"cunt\", \"cunt\", \"cunt\", \"cunt\", \"cuntfuck\", \"curios\", \"curp\", \"cynic\", \"daedalus\", \"damn\", \"damn\", \"damn\", \"damn\", \"damn\", \"damn\", \"damn\", \"damn\", \"damn\", \"damn\", \"dedic\", \"delanoy\", \"delet\", \"delet\", \"delet\", \"delet\", \"deliber\", \"describ\", \"deserv\", \"deserv\", \"deserv\", \"deserv\", \"deserv\", \"deserv\", \"deserv\", \"deserv\", \"dick\", \"dick\", \"dick\", \"dick\", \"dick\", \"dick\", \"dick\", \"dick\", \"dick\", \"dick\", \"dickfac\", \"dickhead\", \"dickhead\", \"dickhead\", \"dickhead\", \"diego\", \"diego\", \"difficult\", \"dildo\", \"dildo\", \"dipshit\", \"dirti\", \"dirti\", \"dirti\", \"dirti\", \"dirti\", \"dirti\", \"disagre\", \"discredit\", \"discuss\", \"discuss\", \"discuss\", \"discuss\", \"discuss\", \"dislik\", \"disput\", \"donkey\", \"donkey\", \"dont\", \"dont\", \"dont\", \"dont\", \"dont\", \"dont\", \"dont\", \"dont\", \"dont\", \"dont\", \"doosh\", \"douch\", \"douch\", \"douch\", \"douch\", \"douchebag\", \"douchebag\", \"douchebag\", \"douchebag\", \"douchebag\", \"douchebag\", \"douchebag\", \"douchebag\", \"douchebag\", \"dozen\", \"drink\", \"drink\", \"drink\", \"drink\", \"drink\", \"drink\", \"drink\", \"drink\", \"drink\", \"duck\", \"dumb\", \"dumb\", \"dumb\", \"dumb\", \"dumb\", \"dumb\", \"dumb\", \"dumb\", \"dumbass\", \"dumbass\", \"dumbass\", \"dumbass\", \"dumbass\", \"dummi\", \"dummi\", \"dust\", \"eastern\", \"edgar\", \"edi\", \"edit\", \"edit\", \"edit\", \"edit\", \"edit\", \"edit\", \"edit\", \"edit\", \"edit\", \"edit\", \"enemi\", \"enigmaman\", \"enjoy\", \"enjoy\", \"enjoy\", \"enjoy\", \"enjoy\", \"enjoy\", \"enjoy\", \"enjoy\", \"enjoy\", \"eras\", \"eras\", \"ethnic\", \"eventu\", \"eventu\", \"except\", \"expir\", \"extern\", \"fack\", \"factual\", \"factual\", \"factual\", \"factual\", \"fag\", \"fagget\", \"faggot\", \"faggot\", \"faggot\", \"fals\", \"fals\", \"fals\", \"fals\", \"famili\", \"famili\", \"famili\", \"famili\", \"famili\", \"famili\", \"famili\", \"famili\", \"famili\", \"famili\", \"fart\", \"fart\", \"februari\", \"fece\", \"feebl\", \"feel\", \"feel\", \"feel\", \"feel\", \"feel\", \"feel\", \"feel\", \"feel\", \"feel\", \"feel\", \"femal\", \"femal\", \"femal\", \"femal\", \"femal\", \"femal\", \"femal\", \"femal\", \"feminazi\", \"feminist\", \"feminist\", \"fggt\", \"fiction\", \"fight\", \"fight\", \"fight\", \"fight\", \"fight\", \"fight\", \"fight\", \"fight\", \"fight\", \"filter\", \"filter\", \"filth\", \"fine\", \"fine\", \"fine\", \"fine\", \"fine\", \"fine\", \"fine\", \"fine\", \"fire\", \"fire\", \"fire\", \"fire\", \"fool\", \"fool\", \"fool\", \"fool\", \"fool\", \"fool\", \"fool\", \"fool\", \"fool\", \"forev\", \"forev\", \"forev\", \"forev\", \"forev\", \"forev\", \"freedom\", \"fuck\", \"fuck\", \"fuck\", \"fuck\", \"fuck\", \"fuck\", \"fuck\", \"fuck\", \"fuck\", \"fuck\", \"fuckbag\", \"fucken\", \"fucken\", \"fucken\", \"fucker\", \"fucker\", \"fucker\", \"fucker\", \"fucker\", \"fucker\", \"fucker\", \"fucki\", \"fuckin\", \"fuckin\", \"fuckin\", \"fuckin\", \"fuckin\", \"fuckin\", \"fuckin\", \"fuckin\", \"fuckin\", \"fuckin\", \"fuckwit\", \"fuckyou\", \"fuke\", \"fuke\", \"fukin\", \"gamaliel\", \"game\", \"game\", \"game\", \"game\", \"game\", \"game\", \"game\", \"game\", \"game\", \"gather\", \"gawd\", \"geek\", \"genr\", \"georg\", \"gger\", \"go\", \"go\", \"go\", \"go\", \"go\", \"go\", \"go\", \"go\", \"go\", \"go\", \"gonna\", \"gonna\", \"gonna\", \"gonna\", \"gonna\", \"gonna\", \"gonna\", \"gonna\", \"gonna\", \"gonna\", \"good\", \"good\", \"good\", \"good\", \"good\", \"good\", \"good\", \"good\", \"good\", \"good\", \"goodby\", \"goodby\", \"grammar\", \"greek\", \"greek\", \"greek\", \"guy\", \"guy\", \"guy\", \"guy\", \"guy\", \"guy\", \"guy\", \"guy\", \"guy\", \"guy\", \"gwernol\", \"haha\", \"haha\", \"hahahaha\", \"hairi\", \"hanib\", \"hanib\", \"happi\", \"happi\", \"happi\", \"happi\", \"happi\", \"happi\", \"happi\", \"happi\", \"happi\", \"happi\", \"harass\", \"harass\", \"harass\", \"harrass\", \"hate\", \"hate\", \"hate\", \"hate\", \"hate\", \"hate\", \"hate\", \"hate\", \"hate\", \"hate\", \"havent\", \"havent\", \"havent\", \"head\", \"head\", \"head\", \"head\", \"head\", \"head\", \"head\", \"head\", \"head\", \"head\", \"hehe\", \"heil\", \"hell\", \"hell\", \"hell\", \"hell\", \"hell\", \"hell\", \"hell\", \"hell\", \"hell\", \"hell\", \"hindu\", \"hippi\", \"hist\", \"hitler\", \"hitler\", \"hitler\", \"hobbi\", \"homeland\", \"homo\", \"hous\", \"hous\", \"hous\", \"hous\", \"hous\", \"hous\", \"hous\", \"hous\", \"hous\", \"huge\", \"huge\", \"idea\", \"idea\", \"idea\", \"idea\", \"idea\", \"idea\", \"idea\", \"idea\", \"idea\", \"ident\", \"idiot\", \"idiot\", \"idiot\", \"idiot\", \"idiot\", \"idiot\", \"idiot\", \"idiot\", \"idiot\", \"idiot\", \"ilche\", \"imag\", \"imag\", \"imag\", \"imag\", \"imag\", \"imag\", \"imbecil\", \"inappropri\", \"indian\", \"indian\", \"indian\", \"indian\", \"indian\", \"indian\", \"inform\", \"inform\", \"inform\", \"inform\", \"inform\", \"inform\", \"inform\", \"inform\", \"intellectu\", \"intend\", \"internet\", \"internet\", \"internet\", \"internet\", \"internet\", \"internet\", \"internet\", \"iranian\", \"irish\", \"isra\", \"israel\", \"israel\", \"jackass\", \"jackass\", \"jerk\", \"jerk\", \"jerk\", \"jessica\", \"jew\", \"jew\", \"jewfat\", \"jewish\", \"john\", \"john\", \"john\", \"john\", \"john\", \"jone\", \"jone\", \"jone\", \"juici\", \"kill\", \"kill\", \"kill\", \"kill\", \"kill\", \"kill\", \"kill\", \"kill\", \"kill\", \"kiss\", \"kiss\", \"kiss\", \"kiss\", \"kiss\", \"kiss\", \"knob\", \"know\", \"know\", \"know\", \"know\", \"know\", \"know\", \"know\", \"know\", \"know\", \"know\", \"lame\", \"lame\", \"lame\", \"languag\", \"languag\", \"languag\", \"languag\", \"latinus\", \"leav\", \"leav\", \"leav\", \"leav\", \"leav\", \"leav\", \"leav\", \"leav\", \"leav\", \"leav\", \"libtard\", \"lick\", \"lick\", \"lick\", \"lick\", \"lick\", \"licker\", \"lie\", \"lie\", \"lie\", \"lie\", \"lie\", \"lie\", \"lie\", \"lie\", \"lie\", \"lie\", \"life\", \"life\", \"life\", \"life\", \"life\", \"life\", \"life\", \"life\", \"life\", \"life\", \"lifetim\", \"lifetim\", \"like\", \"like\", \"like\", \"like\", \"like\", \"like\", \"like\", \"like\", \"like\", \"like\", \"limp\", \"limp\", \"link\", \"link\", \"link\", \"link\", \"link\", \"link\", \"link\", \"link\", \"link\", \"link\", \"lion\", \"list\", \"list\", \"list\", \"list\", \"list\", \"list\", \"list\", \"list\", \"littl\", \"littl\", \"littl\", \"littl\", \"littl\", \"littl\", \"littl\", \"littl\", \"littl\", \"live\", \"live\", \"live\", \"live\", \"live\", \"live\", \"live\", \"live\", \"live\", \"live\", \"lmao\", \"lmao\", \"look\", \"look\", \"look\", \"look\", \"look\", \"look\", \"look\", \"look\", \"look\", \"look\", \"looser\", \"loser\", \"loser\", \"loser\", \"loser\", \"loser\", \"loser\", \"love\", \"love\", \"love\", \"love\", \"love\", \"love\", \"love\", \"love\", \"love\", \"love\", \"lucki\", \"lucki\", \"luckier\", \"macedonian\", \"macedonian\", \"macro\", \"maggot\", \"make\", \"make\", \"make\", \"make\", \"make\", \"make\", \"make\", \"make\", \"make\", \"make\", \"makin\", \"male\", \"male\", \"male\", \"male\", \"manipul\", \"mann\", \"manner\", \"mccain\", \"mccain\", \"mean\", \"mean\", \"mean\", \"mean\", \"mean\", \"mean\", \"mean\", \"mean\", \"mean\", \"mean\", \"meaningless\", \"mefuck\", \"messag\", \"messag\", \"messag\", \"messag\", \"messag\", \"messag\", \"messag\", \"messag\", \"messag\", \"messag\", \"metal\", \"metal\", \"mexican\", \"mexican\", \"million\", \"million\", \"million\", \"million\", \"million\", \"million\", \"misterwiki\", \"mitt\", \"mod\", \"moder\", \"moder\", \"moder\", \"molest\", \"money\", \"money\", \"money\", \"money\", \"money\", \"money\", \"money\", \"money\", \"money\", \"mongo\", \"monitor\", \"monkey\", \"monkey\", \"monkey\", \"moonshin\", \"mormon\", \"moron\", \"moron\", \"moron\", \"moron\", \"moron\", \"moron\", \"moron\", \"moron\", \"motha\", \"mother\", \"mother\", \"mother\", \"mother\", \"mother\", \"mother\", \"mother\", \"mother\", \"mother\", \"motherf\", \"motherfuck\", \"motherfuck\", \"motherfuck\", \"motherfuck\", \"motherfuck\", \"motherfuck\", \"motherfuck\", \"mothjer\", \"mothjer\", \"muhajir\", \"murder\", \"murder\", \"murder\", \"murder\", \"murder\", \"murder\", \"murder\", \"muslim\", \"muslim\", \"muslim\", \"muslim\", \"muslim\", \"muslim\", \"muslim\", \"muslim\", \"mutha\", \"myspac\", \"nasti\", \"nasti\", \"nasti\", \"nasti\", \"nasti\", \"nate\", \"nate\", \"nativ\", \"naughti\", \"nazi\", \"nazi\", \"nazi\", \"nazi\", \"nazi\", \"nazi\", \"need\", \"need\", \"need\", \"need\", \"need\", \"need\", \"need\", \"need\", \"need\", \"need\", \"negro\", \"neiln\", \"neiln\", \"nerd\", \"nerd\", \"nhrhs\", \"nice\", \"nice\", \"nice\", \"nice\", \"nice\", \"nice\", \"nice\", \"nicknam\", \"nigga\", \"nigga\", \"nigga\", \"nigga\", \"nigga\", \"nigga\", \"nigga\", \"nigga\", \"nigga\", \"niggaz\", \"nigger\", \"nigger\", \"nigger\", \"niggertardgo\", \"nippl\", \"njgw\", \"noob\", \"noob\", \"norri\", \"northern\", \"notabl\", \"novemb\", \"numer\", \"object\", \"octob\", \"offpiss\", \"oxymoron\", \"paedophil\", \"page\", \"page\", \"page\", \"page\", \"page\", \"page\", \"page\", \"page\", \"page\", \"pakistani\", \"paranoid\", \"password\", \"password\", \"pathet\", \"pathet\", \"pathet\", \"pathet\", \"pathet\", \"pathet\", \"pathet\", \"pathet\", \"pathet\", \"pedo\", \"pedophil\", \"pedophil\", \"peni\", \"peni\", \"peni\", \"peni\", \"peni\", \"peni\", \"peopl\", \"peopl\", \"peopl\", \"peopl\", \"peopl\", \"peopl\", \"peopl\", \"peopl\", \"peopl\", \"peopl\", \"persian\", \"persian\", \"persist\", \"person\", \"person\", \"person\", \"person\", \"person\", \"person\", \"person\", \"person\", \"person\", \"person\", \"peter\", \"peter\", \"philosoph\", \"phuq\", \"phuq\", \"piec\", \"piec\", \"piec\", \"piec\", \"piec\", \"piec\", \"piec\", \"piec\", \"piec\", \"pig\", \"plain\", \"plain\", \"plot\", \"pointless\", \"poop\", \"poop\", \"post\", \"post\", \"post\", \"post\", \"post\", \"post\", \"post\", \"post\", \"post\", \"post\", \"preced\", \"preced\", \"proof\", \"proof\", \"proof\", \"proof\", \"propaganda\", \"prostitut\", \"pumpkin\", \"puppet\", \"puppet\", \"pussi\", \"pussi\", \"pussi\", \"pussi\", \"pussi\", \"pussi\", \"pussi\", \"pussi\", \"putin\", \"putin\", \"putin\", \"queer\", \"queer\", \"racial\", \"racist\", \"racist\", \"racist\", \"racist\", \"racist\", \"racist\", \"racist\", \"racist\", \"racist\", \"racist\", \"raid\", \"rajput\", \"rap\", \"rap\", \"rap\", \"rape\", \"rape\", \"rape\", \"read\", \"read\", \"read\", \"read\", \"read\", \"read\", \"read\", \"read\", \"read\", \"read\", \"real\", \"real\", \"real\", \"real\", \"real\", \"real\", \"real\", \"real\", \"real\", \"real\", \"realiz\", \"realiz\", \"realiz\", \"realiz\", \"realiz\", \"realiz\", \"realiz\", \"realiz\", \"redneck\", \"refrain\", \"religi\", \"religion\", \"religion\", \"remov\", \"remov\", \"remov\", \"remov\", \"remov\", \"remov\", \"remov\", \"repeat\", \"repeat\", \"repeat\", \"repeat\", \"repeat\", \"report\", \"report\", \"report\", \"report\", \"report\", \"report\", \"report\", \"report\", \"report\", \"republ\", \"resid\", \"respect\", \"respect\", \"respect\", \"respect\", \"respect\", \"respect\", \"respect\", \"retard\", \"retard\", \"retard\", \"retard\", \"retard\", \"retard\", \"retard\", \"retard\", \"retard\", \"retard\", \"retart\", \"rever\", \"revis\", \"rice\", \"ridicul\", \"ridicul\", \"ridicul\", \"right\", \"right\", \"right\", \"right\", \"right\", \"right\", \"right\", \"right\", \"right\", \"right\", \"rightcom\", \"righteous\", \"rightget\", \"robert\", \"rodeoand\", \"romney\", \"rot\", \"rule\", \"rule\", \"rule\", \"rule\", \"rule\", \"rule\", \"rule\", \"rule\", \"sack\", \"sack\", \"sack\", \"salt\", \"sanns\", \"sanns\", \"santa\", \"sassi\", \"sassi\", \"satan\", \"satisfi\", \"say\", \"say\", \"say\", \"say\", \"say\", \"say\", \"say\", \"say\", \"say\", \"say\", \"scum\", \"scum\", \"section\", \"section\", \"section\", \"semen\", \"semen\", \"semen\", \"semen\", \"semit\", \"septemb\", \"serbia\", \"sexual\", \"sexual\", \"sexual\", \"sexual\", \"shes\", \"shit\", \"shit\", \"shit\", \"shit\", \"shit\", \"shit\", \"shit\", \"shit\", \"shit\", \"shit\", \"shitfuck\", \"shithead\", \"shithead\", \"shithead\", \"shithol\", \"shitstop\", \"shove\", \"shove\", \"shove\", \"shut\", \"shut\", \"shut\", \"shut\", \"shut\", \"shut\", \"shut\", \"shut\", \"sign\", \"sign\", \"sign\", \"sign\", \"sign\", \"sign\", \"sign\", \"sign\", \"sign\", \"sikh\", \"sikh\", \"silli\", \"simpson\", \"site\", \"site\", \"site\", \"site\", \"site\", \"site\", \"site\", \"slap\", \"slap\", \"slap\", \"slap\", \"slap\", \"slap\", \"slight\", \"slit\", \"sloppi\", \"slut\", \"slut\", \"slut\", \"slut\", \"slut\", \"small\", \"small\", \"small\", \"small\", \"small\", \"small\", \"small\", \"small\", \"small\", \"small\", \"smell\", \"smell\", \"smell\", \"smell\", \"smelli\", \"snitch\", \"socialist\", \"sock\", \"sock\", \"son\", \"sourc\", \"sourc\", \"sourc\", \"sourc\", \"sourc\", \"sourc\", \"soviet\", \"spanish\", \"spew\", \"spic\", \"spic\", \"stalk\", \"stalk\", \"stalk\", \"stalk\", \"stalker\", \"stinki\", \"stop\", \"stop\", \"stop\", \"stop\", \"stop\", \"stop\", \"stop\", \"stop\", \"stop\", \"stop\", \"stuff\", \"stuff\", \"stuff\", \"stuff\", \"stuff\", \"stuff\", \"stuff\", \"stuff\", \"stuff\", \"stupid\", \"stupid\", \"stupid\", \"stupid\", \"stupid\", \"stupid\", \"stupid\", \"stupid\", \"stupid\", \"stupid\", \"subject\", \"suck\", \"suck\", \"suck\", \"suck\", \"suck\", \"suck\", \"suck\", \"suck\", \"suck\", \"sucker\", \"sunflow\", \"super\", \"super\", \"super\", \"super\", \"supertr\", \"suppress\", \"supress\", \"sweet\", \"sweet\", \"sweet\", \"take\", \"take\", \"take\", \"take\", \"take\", \"take\", \"take\", \"take\", \"take\", \"take\", \"talk\", \"talk\", \"talk\", \"talk\", \"talk\", \"talk\", \"talk\", \"talk\", \"talk\", \"talk\", \"tang\", \"tell\", \"tell\", \"tell\", \"tell\", \"tell\", \"tell\", \"tell\", \"tell\", \"tell\", \"tell\", \"term\", \"term\", \"term\", \"term\", \"terrorist\", \"terrorist\", \"terrorist\", \"terrorist\", \"terrorist\", \"theyr\", \"thing\", \"thing\", \"thing\", \"thing\", \"thing\", \"thing\", \"thing\", \"thing\", \"thing\", \"thing\", \"think\", \"think\", \"think\", \"think\", \"think\", \"think\", \"think\", \"think\", \"think\", \"think\", \"thoma\", \"threat\", \"threat\", \"threat\", \"time\", \"time\", \"time\", \"time\", \"time\", \"time\", \"time\", \"time\", \"time\", \"time\", \"tit\", \"tommi\", \"tongu\", \"trace\", \"troll\", \"troll\", \"troll\", \"troll\", \"troll\", \"troll\", \"troll\", \"trout\", \"truth\", \"truth\", \"truth\", \"truth\", \"turk\", \"turkey\", \"turkish\", \"twat\", \"twat\", \"twat\", \"twat\", \"ugli\", \"ugli\", \"ugli\", \"ugli\", \"ugli\", \"ugli\", \"ugli\", \"ugli\", \"ugli\", \"ugli\", \"ullmann\", \"ullmann\", \"unblock\", \"unblock\", \"unblock\", \"unblock\", \"unblock\", \"uncl\", \"unconstruct\", \"unemploy\", \"unsign\", \"useless\", \"useless\", \"useless\", \"useless\", \"user\", \"user\", \"user\", \"user\", \"user\", \"user\", \"usual\", \"vagina\", \"vagina\", \"vagina\", \"vagina\", \"vagina\", \"vagina\", \"valid\", \"vandal\", \"verifi\", \"video\", \"video\", \"video\", \"video\", \"video\", \"video\", \"virgin\", \"virgin\", \"vista\", \"vista\", \"viva\", \"viva\", \"vomit\", \"wale\", \"wale\", \"wanker\", \"want\", \"want\", \"want\", \"want\", \"want\", \"want\", \"want\", \"want\", \"want\", \"want\", \"wanta\", \"wanta\", \"warn\", \"warn\", \"warn\", \"warn\", \"wasnt\", \"watch\", \"watch\", \"watch\", \"watch\", \"watch\", \"watch\", \"watch\", \"watch\", \"watch\", \"watch\", \"weak\", \"weak\", \"weak\", \"weak\", \"weak\", \"weak\", \"welcom\", \"welcom\", \"welcom\", \"welcom\", \"welcom\", \"welcom\", \"welcom\", \"whatsoev\", \"whine\", \"whine\", \"whine\", \"whini\", \"white\", \"white\", \"white\", \"white\", \"white\", \"white\", \"white\", \"white\", \"white\", \"white\", \"whore\", \"whore\", \"whore\", \"whore\", \"wiki\", \"wikipedia\", \"wikipedia\", \"wikipedia\", \"wikipedia\", \"wikipedia\", \"wikipedia\", \"wikipedia\", \"wikipedia\", \"wikipedia\", \"wikipedia\", \"will\", \"willi\", \"woman\", \"woman\", \"woman\", \"woman\", \"woman\", \"woman\", \"woman\", \"woman\", \"women\", \"women\", \"women\", \"women\", \"women\", \"women\", \"women\", \"women\", \"women\", \"women\", \"womensday\", \"womensday\", \"womensday\", \"word\", \"word\", \"word\", \"word\", \"word\", \"word\", \"word\", \"word\", \"word\", \"word\", \"work\", \"work\", \"work\", \"work\", \"work\", \"work\", \"work\", \"work\", \"work\", \"work\", \"world\", \"world\", \"world\", \"world\", \"world\", \"world\", \"world\", \"world\", \"world\", \"world\", \"write\", \"write\", \"write\", \"write\", \"write\", \"write\", \"write\", \"write\", \"yank\", \"yeah\", \"yeah\", \"yeah\", \"yeah\", \"yeah\", \"yeah\", \"yeah\", \"yeah\", \"yeah\", \"year\", \"year\", \"year\", \"year\", \"year\", \"year\", \"year\", \"year\", \"yourselfgo\", \"\\u0177our\"]}, \"R\": 30, \"lambda.step\": 0.01, \"plot.opts\": {\"xlab\": \"PC1\", \"ylab\": \"PC2\"}, \"topic.order\": [6, 4, 7, 3, 10, 9, 8, 5, 2, 1]};\n",
       "\n",
       "function LDAvis_load_lib(url, callback){\n",
       "  var s = document.createElement('script');\n",
       "  s.src = url;\n",
       "  s.async = true;\n",
       "  s.onreadystatechange = s.onload = callback;\n",
       "  s.onerror = function(){console.warn(\"failed to load library \" + url);};\n",
       "  document.getElementsByTagName(\"head\")[0].appendChild(s);\n",
       "}\n",
       "\n",
       "if(typeof(LDAvis) !== \"undefined\"){\n",
       "   // already loaded: just create the visualization\n",
       "   !function(LDAvis){\n",
       "       new LDAvis(\"#\" + \"ldavis_el1264016214031848408508339185\", ldavis_el1264016214031848408508339185_data);\n",
       "   }(LDAvis);\n",
       "}else if(typeof define === \"function\" && define.amd){\n",
       "   // require.js is available: use it to load d3/LDAvis\n",
       "   require.config({paths: {d3: \"https://d3js.org/d3.v5\"}});\n",
       "   require([\"d3\"], function(d3){\n",
       "      window.d3 = d3;\n",
       "      LDAvis_load_lib(\"https://cdn.jsdelivr.net/gh/bmabey/pyLDAvis@3.3.1/pyLDAvis/js/ldavis.v3.0.0.js\", function(){\n",
       "        new LDAvis(\"#\" + \"ldavis_el1264016214031848408508339185\", ldavis_el1264016214031848408508339185_data);\n",
       "      });\n",
       "    });\n",
       "}else{\n",
       "    // require.js not available: dynamically load d3 & LDAvis\n",
       "    LDAvis_load_lib(\"https://d3js.org/d3.v5.js\", function(){\n",
       "         LDAvis_load_lib(\"https://cdn.jsdelivr.net/gh/bmabey/pyLDAvis@3.3.1/pyLDAvis/js/ldavis.v3.0.0.js\", function(){\n",
       "                 new LDAvis(\"#\" + \"ldavis_el1264016214031848408508339185\", ldavis_el1264016214031848408508339185_data);\n",
       "            })\n",
       "         });\n",
       "}\n",
       "</script>"
      ],
      "text/plain": [
       "PreparedData(topic_coordinates=              x         y  topics  cluster       Freq\n",
       "topic                                                \n",
       "5     -0.098464  0.032862       1        1  15.156079\n",
       "3      0.024817  0.020746       2        1  14.697429\n",
       "6      0.102699  0.027745       3        1  10.728481\n",
       "2      0.084129  0.048380       4        1  10.040987\n",
       "9     -0.078961 -0.013729       5        1   9.546163\n",
       "8     -0.313872 -0.079735       6        1   8.578076\n",
       "7      0.067849  0.037200       7        1   8.283277\n",
       "4     -0.016468  0.031022       8        1   8.143423\n",
       "1      0.069952  0.178568       9        1   7.673869\n",
       "0      0.158319 -0.283058      10        1   7.152216, topic_info=        Term          Freq         Total Category  logprob  loglift\n",
       "2       fuck  31036.000000  31036.000000  Default  30.0000  30.0000\n",
       "5894  nigger  14621.000000  14621.000000  Default  29.0000  29.0000\n",
       "920     suck  11426.000000  11426.000000  Default  28.0000  28.0000\n",
       "1825  faggot   7763.000000   7763.000000  Default  27.0000  27.0000\n",
       "25      hate   5872.000000   5872.000000  Default  26.0000  26.0000\n",
       "...      ...           ...           ...      ...      ...      ...\n",
       "680   famili    205.695461    473.939777  Topic10  -5.5695   1.8031\n",
       "1754   white    232.429541    918.838033  Topic10  -5.4473   1.2632\n",
       "26     peopl    310.061912   4663.239244  Topic10  -5.1591  -0.0729\n",
       "108     hell    251.110551   1867.108764  Topic10  -5.3700   0.6315\n",
       "4     stupid    254.607574   4554.239833  Topic10  -5.3561  -0.2463\n",
       "\n",
       "[666 rows x 6 columns], token_table=      Topic      Freq        Term\n",
       "term                             \n",
       "698       1  0.298193        abus\n",
       "698       2  0.222807        abus\n",
       "698       3  0.015077        abus\n",
       "698       4  0.010051        abus\n",
       "698       5  0.003350        abus\n",
       "...     ...       ...         ...\n",
       "305       6  0.025073        year\n",
       "305       7  0.162543        year\n",
       "305       8  0.063980        year\n",
       "8945      1  0.998986  yourselfgo\n",
       "7950      2  0.987991        ŷour\n",
       "\n",
       "[1913 rows x 3 columns], R=30, lambda_step=0.01, plot_opts={'xlab': 'PC1', 'ylab': 'PC2'}, topic_order=[6, 4, 7, 3, 10, 9, 8, 5, 2, 1])"
      ]
     },
     "execution_count": 23,
     "metadata": {},
     "output_type": "execute_result"
    }
   ],
   "source": [
    "import pyLDAvis\n",
    "import pyLDAvis.gensim_models as gensimvis\n",
    "# Visualize the topics\n",
    "pyLDAvis.enable_notebook()\n",
    "vis = gensimvis.prepare(lda_model, bow_corpus, dictionary)\n",
    "vis"
   ]
  },
  {
   "cell_type": "code",
   "execution_count": 24,
   "id": "75a60579",
   "metadata": {},
   "outputs": [
    {
     "name": "stderr",
     "output_type": "stream",
     "text": [
      "C:\\Users\\matij\\anaconda3\\envs\\nlp-test\\lib\\site-packages\\ipykernel\\ipkernel.py:287: DeprecationWarning: `should_run_async` will not call `transform_cell` automatically in the future. Please pass the result to `transformed_cell` argument and any exception that happen during thetransform in `preprocessing_exc_tuple` in IPython 7.17 and above.\n",
      "  and should_run_async(code)\n"
     ]
    },
    {
     "data": {
      "text/plain": [
       "[(0, 0.03333686),\n",
       " (1, 0.033336572),\n",
       " (2, 0.0333575),\n",
       " (3, 0.033346493),\n",
       " (4, 0.6999239),\n",
       " (5, 0.033338275),\n",
       " (6, 0.033339873),\n",
       " (7, 0.0333354),\n",
       " (8, 0.033339642),\n",
       " (9, 0.033345446)]"
      ]
     },
     "execution_count": 24,
     "metadata": {},
     "output_type": "execute_result"
    }
   ],
   "source": [
    "test = lda_model[bow_corpus[3]]\n",
    "test"
   ]
  },
  {
   "cell_type": "code",
   "execution_count": 25,
   "id": "22dc2858",
   "metadata": {},
   "outputs": [
    {
     "name": "stderr",
     "output_type": "stream",
     "text": [
      "C:\\Users\\matij\\anaconda3\\envs\\nlp-test\\lib\\site-packages\\ipykernel\\ipkernel.py:287: DeprecationWarning: `should_run_async` will not call `transform_cell` automatically in the future. Please pass the result to `transformed_cell` argument and any exception that happen during thetransform in `preprocessing_exc_tuple` in IPython 7.17 and above.\n",
      "  and should_run_async(code)\n"
     ]
    }
   ],
   "source": [
    "def argmax(pairs):\n",
    "    return max(pairs, key=lambda x: x[1])[0]"
   ]
  },
  {
   "cell_type": "code",
   "execution_count": 26,
   "id": "64aae15c",
   "metadata": {},
   "outputs": [
    {
     "name": "stderr",
     "output_type": "stream",
     "text": [
      "C:\\Users\\matij\\anaconda3\\envs\\nlp-test\\lib\\site-packages\\ipykernel\\ipkernel.py:287: DeprecationWarning: `should_run_async` will not call `transform_cell` automatically in the future. Please pass the result to `transformed_cell` argument and any exception that happen during thetransform in `preprocessing_exc_tuple` in IPython 7.17 and above.\n",
      "  and should_run_async(code)\n"
     ]
    }
   ],
   "source": [
    "old_labels = dict()\n",
    "for i in range(len(bow_corpus)):\n",
    "    key = max(lda_model[bow_corpus[i]], key=lambda x: x[1])[0]\n",
    "    x = old_labels.get(key)\n",
    "    if x is None:\n",
    "        x = []\n",
    "        old_labels[key] = x\n",
    "    x.append(labels[i])"
   ]
  },
  {
   "cell_type": "code",
   "execution_count": 27,
   "id": "8fe3e811",
   "metadata": {},
   "outputs": [
    {
     "name": "stdout",
     "output_type": "stream",
     "text": [
      "0\n",
      "('abus', 0.0852068345323741)\n",
      "('bene', 0.10701438848920863)\n",
      "('cybe', 0.007194244604316547)\n",
      "('hate', 0.07149280575539568)\n",
      "('iden', 0.014613309352517985)\n",
      "('insu', 0.09599820143884892)\n",
      "('obsc', 0.08633093525179857)\n",
      "('offe', 0.01393884892086331)\n",
      "('prof', 0.01821043165467626)\n",
      "('raci', 0.0035971223021582736)\n",
      "('sexi', 0.11488309352517985)\n",
      "('spam', 0.19019784172661872)\n",
      "('thre', 0.00966726618705036)\n",
      "('toxi', 0.18165467625899281)\n",
      "1\n",
      "('abus', 0.10810179780527668)\n",
      "('bene', 0.02941863180014009)\n",
      "('cybe', 0.004202661685734298)\n",
      "('hate', 0.06397385010506654)\n",
      "('iden', 0.018678496381041326)\n",
      "('insu', 0.11884193322437543)\n",
      "('obsc', 0.12047630165771656)\n",
      "('offe', 0.007704879757179547)\n",
      "('prof', 0.009339248190520663)\n",
      "('raci', 0.0046696240952603316)\n",
      "('sexi', 0.09385944431473267)\n",
      "('spam', 0.17417697875321037)\n",
      "('thre', 0.0058370301190754145)\n",
      "('toxi', 0.2407191221106701)\n",
      "2\n",
      "('abus', 0.07525462089777442)\n",
      "('bene', 0.016597510373443983)\n",
      "('cybe', 0.006412674462466994)\n",
      "('hate', 0.057714070162202945)\n",
      "('iden', 0.021124104111655977)\n",
      "('insu', 0.12127499056959638)\n",
      "('obsc', 0.12580158430780838)\n",
      "('offe', 0.00999622783855149)\n",
      "('prof', 0.02187853640135798)\n",
      "('raci', 0.007167106752168993)\n",
      "('sexi', 0.1007167106752169)\n",
      "('spam', 0.15145228215767634)\n",
      "('thre', 0.005281026027913994)\n",
      "('toxi', 0.2793285552621652)\n",
      "3\n",
      "('abus', 0.07151000103637682)\n",
      "('bene', 0.03461498600891284)\n",
      "('cybe', 0.008083739247590423)\n",
      "('hate', 0.08218468235050265)\n",
      "('iden', 0.017203855321795004)\n",
      "('insu', 0.11006321898642346)\n",
      "('obsc', 0.11939061042595088)\n",
      "('offe', 0.023629391646802778)\n",
      "('prof', 0.027982174318582236)\n",
      "('raci', 0.002694579749196808)\n",
      "('sexi', 0.05845165302103845)\n",
      "('spam', 0.1868587418385325)\n",
      "('thre', 0.0062182609596849415)\n",
      "('toxi', 0.2511141050886102)\n",
      "4\n",
      "('abus', 0.10597609561752988)\n",
      "('bene', 0.150398406374502)\n",
      "('cybe', 0.0027888446215139444)\n",
      "('hate', 0.04701195219123506)\n",
      "('iden', 0.012749003984063745)\n",
      "('insu', 0.10697211155378486)\n",
      "('obsc', 0.10219123505976095)\n",
      "('offe', 0.0051792828685258965)\n",
      "('prof', 0.010159362549800797)\n",
      "('raci', 0.0035856573705179283)\n",
      "('sexi', 0.14302788844621514)\n",
      "('spam', 0.1298804780876494)\n",
      "('thre', 0.007768924302788844)\n",
      "('toxi', 0.17231075697211157)\n",
      "5\n",
      "('abus', 0.05666585425298562)\n",
      "('bene', 0.010358274433341457)\n",
      "('cybe', 0.0010967584694126249)\n",
      "('hate', 0.018523031927857665)\n",
      "('iden', 0.03704606385571533)\n",
      "('insu', 0.24213989763587618)\n",
      "('obsc', 0.28064830611747504)\n",
      "('offe', 0.0019497928345113332)\n",
      "('prof', 0.0062149646600048744)\n",
      "('raci', 0.00073117231294175)\n",
      "('sexi', 0.01888861808432854)\n",
      "('spam', 0.02680965147453083)\n",
      "('thre', 0.014379722154521083)\n",
      "('toxi', 0.2845478917864977)\n",
      "6\n",
      "('abus', 0.07364536151652408)\n",
      "('bene', 0.01023318235195437)\n",
      "('cybe', 0.009058882737795673)\n",
      "('hate', 0.07481966113068277)\n",
      "('iden', 0.016440194598221776)\n",
      "('insu', 0.11759771850360677)\n",
      "('obsc', 0.1291729575574568)\n",
      "('offe', 0.0062070122462674045)\n",
      "('prof', 0.011239724878376111)\n",
      "('raci', 0.001677570877369569)\n",
      "('sexi', 0.03808085891628921)\n",
      "('spam', 0.2315047810770005)\n",
      "('thre', 0.007716826035900017)\n",
      "('toxi', 0.27260526757255493)\n",
      "7\n",
      "('abus', 0.1061085422243855)\n",
      "('bene', 0.0778778291555123)\n",
      "('cybe', 0.002677050377220735)\n",
      "('hate', 0.07009004623996107)\n",
      "('iden', 0.0333414456072037)\n",
      "('insu', 0.11608663908493551)\n",
      "('obsc', 0.11925042589437819)\n",
      "('offe', 0.008761255779995133)\n",
      "('prof', 0.008274519347773181)\n",
      "('raci', 0.002677050377220735)\n",
      "('sexi', 0.053297639328303725)\n",
      "('spam', 0.16208323192990995)\n",
      "('thre', 0.011194937941104892)\n",
      "('toxi', 0.2282793867120954)\n",
      "8\n",
      "('abus', 0.06484762579730688)\n",
      "('bene', 0.012048192771084338)\n",
      "('hate', 0.030829199149539334)\n",
      "('iden', 0.05386250885896527)\n",
      "('insu', 0.20552799433026223)\n",
      "('obsc', 0.221119773210489)\n",
      "('offe', 0.0031892274982282067)\n",
      "('prof', 0.004961020552799433)\n",
      "('raci', 0.00035435861091424523)\n",
      "('sexi', 0.023387668320340185)\n",
      "('spam', 0.08646350106307583)\n",
      "('thre', 0.011693834160170093)\n",
      "('toxi', 0.28171509567682496)\n",
      "9\n",
      "('abus', 0.05244831338411317)\n",
      "('bene', 0.013057671381936888)\n",
      "('cybe', 0.001958650707290533)\n",
      "('hate', 0.02589771490750816)\n",
      "('iden', 0.022850924918389554)\n",
      "('insu', 0.20761697497279652)\n",
      "('obsc', 0.22415669205658323)\n",
      "('offe', 0.004787812840043526)\n",
      "('prof', 0.007834602829162133)\n",
      "('raci', 0.0004352557127312296)\n",
      "('sexi', 0.03416757344940152)\n",
      "('spam', 0.09183895538628944)\n",
      "('thre', 0.008705114254624592)\n",
      "('toxi', 0.3042437431991295)\n"
     ]
    },
    {
     "name": "stderr",
     "output_type": "stream",
     "text": [
      "C:\\Users\\matij\\anaconda3\\envs\\nlp-test\\lib\\site-packages\\ipykernel\\ipkernel.py:287: DeprecationWarning: `should_run_async` will not call `transform_cell` automatically in the future. Please pass the result to `transformed_cell` argument and any exception that happen during thetransform in `preprocessing_exc_tuple` in IPython 7.17 and above.\n",
      "  and should_run_async(code)\n"
     ]
    }
   ],
   "source": [
    "for i in range(10):\n",
    "    labs, occ = np.unique(old_labels[i], return_counts = True)\n",
    "    print(f\"{i}\")\n",
    "    for tup in list(zip(labs, occ/sum(occ))):\n",
    "        print(tup)"
   ]
  },
  {
   "cell_type": "code",
   "execution_count": 28,
   "id": "09be3be4",
   "metadata": {},
   "outputs": [
    {
     "name": "stderr",
     "output_type": "stream",
     "text": [
      "C:\\Users\\matij\\anaconda3\\envs\\nlp-test\\lib\\site-packages\\ipykernel\\ipkernel.py:287: DeprecationWarning: `should_run_async` will not call `transform_cell` automatically in the future. Please pass the result to `transformed_cell` argument and any exception that happen during thetransform in `preprocessing_exc_tuple` in IPython 7.17 and above.\n",
      "  and should_run_async(code)\n"
     ]
    }
   ],
   "source": [
    "old_labels = dict()\n",
    "for i in range(len(bow_corpus)):\n",
    "    key = labels[i]\n",
    "    new_topic = max(lda_model[bow_corpus[i]], key=lambda x: x[1])[0]\n",
    "    x = old_labels.get(key)\n",
    "    if x is None:\n",
    "        x = []\n",
    "        old_labels[key] = x\n",
    "    x.append(new_topic)"
   ]
  },
  {
   "cell_type": "code",
   "execution_count": 29,
   "id": "e9ca319c",
   "metadata": {},
   "outputs": [
    {
     "name": "stdout",
     "output_type": "stream",
     "text": [
      "abus\n",
      "(0, 0.09060799621480956)\n",
      "(1, 0.10835107641353206)\n",
      "(2, 0.09581263307310149)\n",
      "(3, 0.1641826354388455)\n",
      "(4, 0.125147859001656)\n",
      "(5, 0.10953394842678023)\n",
      "(6, 0.10267329074994086)\n",
      "(7, 0.10314643955524012)\n",
      "(8, 0.043293115684882894)\n",
      "(9, 0.05725100544121126)\n",
      "hate\n",
      "(0, 0.10467042066909572)\n",
      "(1, 0.0907585293143425)\n",
      "(2, 0.10036435905929116)\n",
      "(3, 0.26333222921497185)\n",
      "(4, 0.0785028155018218)\n",
      "(5, 0.05067903279231534)\n",
      "(6, 0.14706856575024843)\n",
      "(7, 0.0967207684663796)\n",
      "(8, 0.02914872474329248)\n",
      "(9, 0.03875455448824114)\n",
      "spam\n",
      "(0, 0.1087124132613724)\n",
      "(1, 0.0965047545618093)\n",
      "(2, 0.10280133641737342)\n",
      "(3, 0.23078900025700333)\n",
      "(4, 0.08391159085068106)\n",
      "(5, 0.028141865844255976)\n",
      "(6, 0.1783603186841429)\n",
      "(7, 0.08493960421485479)\n",
      "(8, 0.031739912618864045)\n",
      "(9, 0.05409920328964277)\n",
      "offe\n",
      "(0, 0.11685823754789272)\n",
      "(1, 0.06130268199233716)\n",
      "(2, 0.10727969348659004)\n",
      "(3, 0.4367816091954023)\n",
      "(4, 0.04789272030651341)\n",
      "(5, 0.03065134099616858)\n",
      "(6, 0.07088122605363985)\n",
      "(7, 0.06896551724137931)\n",
      "(8, 0.017241379310344827)\n",
      "(9, 0.0421455938697318)\n",
      "prof\n",
      "(0, 0.10657894736842105)\n",
      "(1, 0.05263157894736842)\n",
      "(2, 0.15263157894736842)\n",
      "(3, 0.3605263157894737)\n",
      "(4, 0.06710526315789474)\n",
      "(5, 0.06710526315789474)\n",
      "(6, 0.0868421052631579)\n",
      "(7, 0.04473684210526316)\n",
      "(8, 0.018421052631578946)\n",
      "(9, 0.04342105263157895)\n",
      "cybe\n",
      "(0, 0.12355212355212356)\n",
      "(1, 0.0694980694980695)\n",
      "(2, 0.13127413127413126)\n",
      "(3, 0.2972972972972973)\n",
      "(4, 0.05019305019305019)\n",
      "(5, 0.03474903474903475)\n",
      "(6, 0.20463320463320464)\n",
      "(7, 0.04247104247104247)\n",
      "(9, 0.04633204633204633)\n",
      "raci\n",
      "(0, 0.10810810810810811)\n",
      "(1, 0.12837837837837837)\n",
      "(2, 0.25675675675675674)\n",
      "(3, 0.16891891891891891)\n",
      "(4, 0.12162162162162163)\n",
      "(5, 0.04054054054054054)\n",
      "(6, 0.06756756756756757)\n",
      "(7, 0.07432432432432433)\n",
      "(8, 0.006756756756756757)\n",
      "(9, 0.02702702702702703)\n",
      "sexi\n",
      "(0, 0.1446664790318041)\n",
      "(1, 0.1131438221221503)\n",
      "(2, 0.15001407261469182)\n",
      "(3, 0.1562060230790881)\n",
      "(4, 0.20264565156206024)\n",
      "(5, 0.04362510554461019)\n",
      "(6, 0.06529693216999718)\n",
      "(7, 0.06079369546861807)\n",
      "(8, 0.01829439909935266)\n",
      "(9, 0.04531381930762736)\n",
      "bene\n",
      "(0, 0.2039333048311244)\n",
      "(1, 0.05344164172723386)\n",
      "(2, 0.03762291577597264)\n",
      "(3, 0.14279606669516887)\n",
      "(4, 0.3232150491663104)\n",
      "(5, 0.03591278324070116)\n",
      "(6, 0.026507054296707994)\n",
      "(7, 0.13638306968790082)\n",
      "(8, 0.014963659683625482)\n",
      "(9, 0.02522445489525438)\n",
      "toxi\n",
      "(0, 0.05890940944594496)\n",
      "(1, 0.07526096795386525)\n",
      "(2, 0.10876706328929119)\n",
      "(3, 0.17702022045404775)\n",
      "(4, 0.0632892911891379)\n",
      "(5, 0.17008540769399227)\n",
      "(6, 0.1177458208628367)\n",
      "(7, 0.06883714139718228)\n",
      "(8, 0.05832542521351924)\n",
      "(9, 0.1017592525001825)\n",
      "obsc\n",
      "(0, 0.04615930879394011)\n",
      "(1, 0.061545745058586815)\n",
      "(2, 0.07941768256598414)\n",
      "(3, 0.13682092555331993)\n",
      "(4, 0.06071724464433661)\n",
      "(5, 0.27127470706592494)\n",
      "(6, 0.09077997396141556)\n",
      "(7, 0.05740324298733578)\n",
      "(8, 0.07361817966623269)\n",
      "(9, 0.12226298970292342)\n",
      "thre\n",
      "(0, 0.0899581589958159)\n",
      "(1, 0.05230125523012552)\n",
      "(2, 0.058577405857740586)\n",
      "(3, 0.12761506276150628)\n",
      "(4, 0.08158995815899582)\n",
      "(5, 0.24686192468619247)\n",
      "(6, 0.09623430962343096)\n",
      "(7, 0.09623430962343096)\n",
      "(8, 0.06903765690376569)\n",
      "(9, 0.08158995815899582)\n",
      "insu\n",
      "(0, 0.05420845499555668)\n",
      "(1, 0.06487241335533833)\n",
      "(2, 0.08150311032118827)\n",
      "(3, 0.134949854005332)\n",
      "(4, 0.06817316237146122)\n",
      "(5, 0.2517455884219881)\n",
      "(6, 0.08912022343531802)\n",
      "(7, 0.06042909737209597)\n",
      "(8, 0.0743938047480005)\n",
      "(9, 0.12060429097372095)\n",
      "iden\n",
      "(0, 0.05066250974279034)\n",
      "(1, 0.06235385814497272)\n",
      "(2, 0.08417770849571317)\n",
      "(3, 0.1293842556508184)\n",
      "(4, 0.04988308651597818)\n",
      "(5, 0.24084177708495713)\n",
      "(6, 0.07482462977396727)\n",
      "(7, 0.10756040530007795)\n",
      "(8, 0.11847233047544817)\n",
      "(9, 0.0818394388152767)\n"
     ]
    },
    {
     "name": "stderr",
     "output_type": "stream",
     "text": [
      "C:\\Users\\matij\\anaconda3\\envs\\nlp-test\\lib\\site-packages\\ipykernel\\ipkernel.py:287: DeprecationWarning: `should_run_async` will not call `transform_cell` automatically in the future. Please pass the result to `transformed_cell` argument and any exception that happen during thetransform in `preprocessing_exc_tuple` in IPython 7.17 and above.\n",
      "  and should_run_async(code)\n"
     ]
    }
   ],
   "source": [
    "for key in old_labels.keys():\n",
    "    labs, occ = np.unique(old_labels[key], return_counts = True)\n",
    "    print(f\"{key}\")\n",
    "    for tup in list(zip(labs, occ/sum(occ))):\n",
    "        print(tup)"
   ]
  },
  {
   "cell_type": "code",
   "execution_count": null,
   "id": "d89b9271",
   "metadata": {},
   "outputs": [],
   "source": []
  },
  {
   "cell_type": "code",
   "execution_count": null,
   "id": "94fb3c21",
   "metadata": {},
   "outputs": [],
   "source": []
  },
  {
   "cell_type": "code",
   "execution_count": null,
   "id": "71e04a1e",
   "metadata": {},
   "outputs": [],
   "source": []
  }
 ],
 "metadata": {
  "kernelspec": {
   "display_name": "Python [conda env:nlp-test]",
   "language": "python",
   "name": "conda-env-nlp-test-py"
  },
  "language_info": {
   "codemirror_mode": {
    "name": "ipython",
    "version": 3
   },
   "file_extension": ".py",
   "mimetype": "text/x-python",
   "name": "python",
   "nbconvert_exporter": "python",
   "pygments_lexer": "ipython3",
   "version": "3.7.10"
  }
 },
 "nbformat": 4,
 "nbformat_minor": 5
}
