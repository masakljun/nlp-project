{
 "cells": [
  {
   "cell_type": "markdown",
   "id": "e81a8d6c",
   "metadata": {},
   "source": [
    "# LDA"
   ]
  },
  {
   "cell_type": "code",
   "execution_count": 1,
   "id": "preceding-trunk",
   "metadata": {},
   "outputs": [
    {
     "name": "stderr",
     "output_type": "stream",
     "text": [
      "[nltk_data] Downloading package wordnet to\n",
      "[nltk_data]     C:\\Users\\matij\\AppData\\Roaming\\nltk_data...\n",
      "[nltk_data]   Package wordnet is already up-to-date!\n"
     ]
    },
    {
     "data": {
      "text/plain": [
       "True"
      ]
     },
     "execution_count": 1,
     "metadata": {},
     "output_type": "execute_result"
    }
   ],
   "source": [
    "import json \n",
    "import nltk\n",
    "import gensim\n",
    "import pandas as pd\n",
    "from gensim.utils import simple_preprocess\n",
    "from gensim.parsing.preprocessing import STOPWORDS\n",
    "from nltk.stem import WordNetLemmatizer, SnowballStemmer\n",
    "from nltk.stem.porter import *\n",
    "import numpy as np\n",
    "np.random.seed(1)\n",
    "nltk.download('wordnet')"
   ]
  },
  {
   "cell_type": "markdown",
   "id": "7791b8ae",
   "metadata": {},
   "source": [
    "Read and preprocess data"
   ]
  },
  {
   "cell_type": "code",
   "execution_count": 2,
   "id": "fuzzy-waters",
   "metadata": {},
   "outputs": [
    {
     "data": {
      "text/html": [
       "<div>\n",
       "<style scoped>\n",
       "    .dataframe tbody tr th:only-of-type {\n",
       "        vertical-align: middle;\n",
       "    }\n",
       "\n",
       "    .dataframe tbody tr th {\n",
       "        vertical-align: top;\n",
       "    }\n",
       "\n",
       "    .dataframe thead th {\n",
       "        text-align: right;\n",
       "    }\n",
       "</style>\n",
       "<table border=\"1\" class=\"dataframe\">\n",
       "  <thead>\n",
       "    <tr style=\"text-align: right;\">\n",
       "      <th></th>\n",
       "      <th>text</th>\n",
       "      <th>label</th>\n",
       "    </tr>\n",
       "  </thead>\n",
       "  <tbody>\n",
       "    <tr>\n",
       "      <th>0</th>\n",
       "      <td>fucks sake go away stupid anon — ^  https://t....</td>\n",
       "      <td>abusive</td>\n",
       "    </tr>\n",
       "    <tr>\n",
       "      <th>1</th>\n",
       "      <td>Damn dean just put Corbin to sleep. That Match...</td>\n",
       "      <td>abusive</td>\n",
       "    </tr>\n",
       "    <tr>\n",
       "      <th>2</th>\n",
       "      <td>@TheRealCamerota THAT BEER BUYING FREAKING IDI...</td>\n",
       "      <td>abusive</td>\n",
       "    </tr>\n",
       "    <tr>\n",
       "      <th>3</th>\n",
       "      <td>what idiot called them antacids and not afterb...</td>\n",
       "      <td>abusive</td>\n",
       "    </tr>\n",
       "    <tr>\n",
       "      <th>4</th>\n",
       "      <td>RT @gogglepossum: Don't you hate people that p...</td>\n",
       "      <td>abusive</td>\n",
       "    </tr>\n",
       "  </tbody>\n",
       "</table>\n",
       "</div>"
      ],
      "text/plain": [
       "                                                text    label\n",
       "0  fucks sake go away stupid anon — ^  https://t....  abusive\n",
       "1  Damn dean just put Corbin to sleep. That Match...  abusive\n",
       "2  @TheRealCamerota THAT BEER BUYING FREAKING IDI...  abusive\n",
       "3  what idiot called them antacids and not afterb...  abusive\n",
       "4  RT @gogglepossum: Don't you hate people that p...  abusive"
      ]
     },
     "execution_count": 2,
     "metadata": {},
     "output_type": "execute_result"
    }
   ],
   "source": [
    "df = pd.read_csv(\"dataset/data.csv\", sep = \";\")\n",
    "df.head()"
   ]
  },
  {
   "cell_type": "code",
   "execution_count": 3,
   "id": "bb1ce4b9",
   "metadata": {},
   "outputs": [
    {
     "data": {
      "text/plain": [
       "54517"
      ]
     },
     "execution_count": 3,
     "metadata": {},
     "output_type": "execute_result"
    }
   ],
   "source": [
    "len(df)"
   ]
  },
  {
   "cell_type": "code",
   "execution_count": 4,
   "id": "improving-skirt",
   "metadata": {},
   "outputs": [],
   "source": [
    "labels = df[\"label\"].tolist()\n",
    "texts = df[\"text\"].tolist()\n",
    "labels = [x[:4] for x in labels]\n",
    "#labels"
   ]
  },
  {
   "cell_type": "code",
   "execution_count": 5,
   "id": "ambient-falls",
   "metadata": {},
   "outputs": [],
   "source": [
    "def preprocess(A):\n",
    "    B = []\n",
    "  \n",
    "    for i in range(len(A)):\n",
    "\n",
    "        text = A[i]\n",
    "        # remove old style retweet text \"RT\"\n",
    "        text = re.sub(r'^RT[\\s]+', '', text)\n",
    "\n",
    "        # remove hyperlinks\n",
    "        text= re.sub(r'https?:\\/\\/.*[\\r\\n]*', '', text)\n",
    "\n",
    "        # remove hashtags\n",
    "        # only removing the hash # sign from the word\n",
    "        text = re.sub(r'#', '', text)\n",
    "\n",
    "        # remove tagging @\n",
    "        text = re.sub(r\"(?:\\@|https?\\://)\\S+\", \"\", text)\n",
    "\n",
    "        # remove new line \\n\n",
    "        text = re.sub(\"\\n\", \"\", text)\n",
    "\n",
    "        # remove zero length tweets\n",
    "        if(len(text) == 0 ):\n",
    "            continue\n",
    "\n",
    "        B.append(text)\n",
    "        \n",
    "    return B"
   ]
  },
  {
   "cell_type": "code",
   "execution_count": 6,
   "id": "written-glass",
   "metadata": {},
   "outputs": [],
   "source": [
    "texts = preprocess(texts)"
   ]
  },
  {
   "cell_type": "code",
   "execution_count": 7,
   "id": "directed-telescope",
   "metadata": {},
   "outputs": [
    {
     "name": "stdout",
     "output_type": "stream",
     "text": [
      "337\n"
     ]
    }
   ],
   "source": [
    "stopwords = list(gensim.parsing.preprocessing.STOPWORDS)\n",
    "#print(len(stopwords))\n",
    "#stopwords.extend([\"like\", \"damn\"])\n",
    "print(len(stopwords))\n",
    "stemmer = SnowballStemmer(\"english\")\n",
    "def lemmatize_stemming(text):\n",
    "    return stemmer.stem(WordNetLemmatizer().lemmatize(text, pos='v'))\n",
    "def preprocess(text):\n",
    "    result = []\n",
    "    \n",
    "    for token in gensim.utils.simple_preprocess(text):\n",
    "        if token not in stopwords and len(token) > 3:\n",
    "            result.append(lemmatize_stemming(token))\n",
    "    return result\n"
   ]
  },
  {
   "cell_type": "code",
   "execution_count": 8,
   "id": "infectious-ancient",
   "metadata": {},
   "outputs": [],
   "source": [
    "res = []\n",
    "for text in texts:\n",
    "    res.append(preprocess(text))\n"
   ]
  },
  {
   "cell_type": "code",
   "execution_count": 9,
   "id": "interim-inquiry",
   "metadata": {},
   "outputs": [
    {
     "name": "stdout",
     "output_type": "stream",
     "text": [
      "Dictionary(37001 unique tokens: ['anon', 'away', 'fuck', 'sake', 'stupid']...)\n",
      "0 anon\n",
      "1 away\n",
      "2 fuck\n",
      "3 sake\n",
      "4 stupid\n",
      "5 bore\n",
      "6 corbin\n",
      "7 damn\n",
      "8 dean\n",
      "9 match\n",
      "10 show\n"
     ]
    }
   ],
   "source": [
    "dictionary = gensim.corpora.Dictionary(res)\n",
    "print(dictionary)\n",
    "count = 0\n",
    "for k, v in dictionary.iteritems():\n",
    "    print(k, v)\n",
    "    count += 1\n",
    "    if count > 10:\n",
    "        break"
   ]
  },
  {
   "cell_type": "code",
   "execution_count": 10,
   "id": "applied-daniel",
   "metadata": {},
   "outputs": [],
   "source": [
    "dictionary.filter_extremes(no_below=5, no_above=0.6, keep_n=100000)"
   ]
  },
  {
   "cell_type": "code",
   "execution_count": 11,
   "id": "palestinian-bulletin",
   "metadata": {},
   "outputs": [],
   "source": [
    "bow_corpus = [dictionary.doc2bow(doc) for doc in res]\n"
   ]
  },
  {
   "cell_type": "code",
   "execution_count": 12,
   "id": "tender-earthquake",
   "metadata": {},
   "outputs": [
    {
     "name": "stdout",
     "output_type": "stream",
     "text": [
      "[(0, 0.6467740881470198),\n",
      " (1, 0.4155375954767548),\n",
      " (2, 0.14658472445759876),\n",
      " (3, 0.554131852891468),\n",
      " (4, 0.28365929178108407)]\n"
     ]
    }
   ],
   "source": [
    "from gensim import corpora, models\n",
    "tfidf = models.TfidfModel(bow_corpus)\n",
    "corpus_tfidf = tfidf[bow_corpus]\n",
    "from pprint import pprint\n",
    "for doc in corpus_tfidf:\n",
    "    pprint(doc)\n",
    "    break"
   ]
  },
  {
   "cell_type": "code",
   "execution_count": 13,
   "id": "faced-election",
   "metadata": {},
   "outputs": [],
   "source": [
    "lda_model = gensim.models.LdaMulticore(bow_corpus, num_topics=10, id2word=dictionary, passes=2, workers=2)"
   ]
  },
  {
   "cell_type": "code",
   "execution_count": 14,
   "id": "falling-stable",
   "metadata": {},
   "outputs": [
    {
     "name": "stdout",
     "output_type": "stream",
     "text": [
      "Topic: 0 \n",
      "Words: 0.085*\"moron\" + 0.035*\"nippl\" + 0.027*\"go\" + 0.021*\"retard\" + 0.020*\"rape\" + 0.015*\"aid\" + 0.014*\"loser\" + 0.013*\"care\" + 0.012*\"imag\" + 0.011*\"sourc\"\n",
      "\n",
      "\n",
      "Topic: 1 \n",
      "Words: 0.047*\"vandal\" + 0.046*\"nigga\" + 0.034*\"bastard\" + 0.024*\"tommi\" + 0.022*\"lick\" + 0.019*\"hanib\" + 0.019*\"person\" + 0.015*\"peopl\" + 0.015*\"poop\" + 0.011*\"post\"\n",
      "\n",
      "\n",
      "Topic: 2 \n",
      "Words: 0.035*\"dickhead\" + 0.031*\"talk\" + 0.029*\"page\" + 0.020*\"spanish\" + 0.017*\"like\" + 0.015*\"ball\" + 0.012*\"good\" + 0.012*\"boob\" + 0.012*\"peopl\" + 0.009*\"small\"\n",
      "\n",
      "\n",
      "Topic: 3 \n",
      "Words: 0.041*\"like\" + 0.028*\"fucker\" + 0.018*\"want\" + 0.018*\"mother\" + 0.017*\"mothjer\" + 0.014*\"cocksuck\" + 0.013*\"tell\" + 0.012*\"know\" + 0.011*\"pussi\" + 0.011*\"inform\"\n",
      "\n",
      "\n",
      "Topic: 4 \n",
      "Words: 0.047*\"know\" + 0.044*\"mexican\" + 0.035*\"idiot\" + 0.033*\"women\" + 0.022*\"assad\" + 0.021*\"fggt\" + 0.021*\"delet\" + 0.018*\"rice\" + 0.016*\"shit\" + 0.016*\"dumb\"\n",
      "\n",
      "\n",
      "Topic: 5 \n",
      "Words: 0.244*\"fuck\" + 0.071*\"faggot\" + 0.040*\"cunt\" + 0.021*\"block\" + 0.020*\"admin\" + 0.015*\"wikipedia\" + 0.012*\"wiki\" + 0.011*\"yourselfgo\" + 0.010*\"shit\" + 0.009*\"life\"\n",
      "\n",
      "\n",
      "Topic: 6 \n",
      "Words: 0.061*\"huge\" + 0.034*\"asshol\" + 0.023*\"kill\" + 0.019*\"page\" + 0.016*\"edit\" + 0.014*\"take\" + 0.013*\"remov\" + 0.013*\"drink\" + 0.009*\"ars\" + 0.009*\"chees\"\n",
      "\n",
      "\n",
      "Topic: 7 \n",
      "Words: 0.094*\"hate\" + 0.036*\"love\" + 0.026*\"wikipedia\" + 0.022*\"damn\" + 0.021*\"like\" + 0.015*\"cock\" + 0.015*\"fool\" + 0.015*\"dirti\" + 0.012*\"bloodi\" + 0.010*\"know\"\n",
      "\n",
      "\n",
      "Topic: 8 \n",
      "Words: 0.220*\"nigger\" + 0.061*\"bitch\" + 0.053*\"shit\" + 0.030*\"user\" + 0.026*\"peni\" + 0.025*\"stupid\" + 0.016*\"wanker\" + 0.014*\"piec\" + 0.013*\"block\" + 0.013*\"like\"\n",
      "\n",
      "\n",
      "Topic: 9 \n",
      "Words: 0.153*\"suck\" + 0.048*\"dick\" + 0.029*\"stupid\" + 0.027*\"cock\" + 0.022*\"edit\" + 0.020*\"twat\" + 0.016*\"jewish\" + 0.016*\"piec\" + 0.015*\"fuck\" + 0.014*\"bitch\"\n",
      "\n",
      "\n"
     ]
    }
   ],
   "source": [
    "for idx, topic in lda_model.print_topics(-1):\n",
    "    print('Topic: {} \\nWords: {}'.format(idx, topic))\n",
    "    print(\"\\n\")"
   ]
  },
  {
   "cell_type": "code",
   "execution_count": 15,
   "id": "pretty-studio",
   "metadata": {},
   "outputs": [
    {
     "name": "stdout",
     "output_type": "stream",
     "text": [
      "Topic: 0 Word: 0.029*\"women\" + 0.016*\"cock\" + 0.012*\"fuck\" + 0.011*\"homo\" + 0.011*\"admin\" + 0.010*\"gonna\" + 0.010*\"suck\" + 0.008*\"happi\" + 0.008*\"fine\" + 0.008*\"retard\"\n",
      "\n",
      "\n",
      "Topic: 1 Word: 0.033*\"vandal\" + 0.022*\"cunt\" + 0.013*\"fuck\" + 0.012*\"love\" + 0.010*\"peni\" + 0.009*\"woman\" + 0.008*\"aliv\" + 0.008*\"fucker\" + 0.007*\"queer\" + 0.006*\"mother\"\n",
      "\n",
      "\n",
      "Topic: 2 Word: 0.050*\"fuck\" + 0.021*\"bitch\" + 0.021*\"nigger\" + 0.015*\"dick\" + 0.015*\"suck\" + 0.012*\"idiot\" + 0.009*\"hate\" + 0.007*\"like\" + 0.007*\"page\" + 0.007*\"user\"\n",
      "\n",
      "\n",
      "Topic: 3 Word: 0.015*\"wiki\" + 0.009*\"feminazi\" + 0.008*\"loser\" + 0.008*\"fuck\" + 0.007*\"jerk\" + 0.005*\"know\" + 0.005*\"like\" + 0.005*\"imag\" + 0.005*\"unblock\" + 0.005*\"articl\"\n",
      "\n",
      "\n",
      "Topic: 4 Word: 0.014*\"like\" + 0.013*\"fuck\" + 0.007*\"shut\" + 0.007*\"video\" + 0.006*\"shit\" + 0.006*\"twat\" + 0.006*\"block\" + 0.005*\"peopl\" + 0.005*\"know\" + 0.004*\"stupid\"\n",
      "\n",
      "\n",
      "Topic: 5 Word: 0.049*\"faggot\" + 0.014*\"fuck\" + 0.007*\"mother\" + 0.007*\"huge\" + 0.007*\"fuckin\" + 0.005*\"motherfuck\" + 0.005*\"bitch\" + 0.005*\"want\" + 0.005*\"jewish\" + 0.005*\"stupid\"\n",
      "\n",
      "\n",
      "Topic: 6 Word: 0.011*\"fuck\" + 0.010*\"piec\" + 0.010*\"shit\" + 0.008*\"feminist\" + 0.005*\"like\" + 0.004*\"dipshit\" + 0.004*\"know\" + 0.004*\"think\" + 0.004*\"jesus\" + 0.004*\"women\"\n",
      "\n",
      "\n",
      "Topic: 7 Word: 0.008*\"fuck\" + 0.006*\"scum\" + 0.005*\"jew\" + 0.005*\"idiot\" + 0.005*\"wikipedia\" + 0.005*\"hole\" + 0.005*\"like\" + 0.004*\"remov\" + 0.004*\"muslim\" + 0.004*\"articl\"\n",
      "\n",
      "\n",
      "Topic: 8 Word: 0.017*\"fuck\" + 0.013*\"asshol\" + 0.012*\"page\" + 0.011*\"delet\" + 0.011*\"shit\" + 0.010*\"edit\" + 0.010*\"block\" + 0.009*\"wikipedia\" + 0.008*\"stop\" + 0.007*\"suck\"\n",
      "\n",
      "\n",
      "Topic: 9 Word: 0.011*\"prick\" + 0.010*\"fuck\" + 0.009*\"nerd\" + 0.006*\"homosexu\" + 0.005*\"woman\" + 0.005*\"arab\" + 0.005*\"notabl\" + 0.005*\"ugli\" + 0.004*\"add\" + 0.004*\"tell\"\n",
      "\n",
      "\n"
     ]
    }
   ],
   "source": [
    "lda_model_tfidf = gensim.models.LdaMulticore(corpus_tfidf, num_topics=10, id2word=dictionary, passes=2, workers=4)\n",
    "for idx, topic in lda_model_tfidf.print_topics(-1):\n",
    "    print('Topic: {} Word: {}'.format(idx, topic))\n",
    "    print(\"\\n\")"
   ]
  },
  {
   "cell_type": "code",
   "execution_count": 16,
   "id": "a99935db",
   "metadata": {},
   "outputs": [],
   "source": [
    "#lda_model = lda_model_tfidf\n",
    "#bow_corpus = corpus_tfidf"
   ]
  },
  {
   "cell_type": "code",
   "execution_count": 19,
   "id": "caroline-stranger",
   "metadata": {},
   "outputs": [
    {
     "data": {
      "image/png": "[encoded data removed]",
      "text/plain": [
       "<Figure size 720x720 with 10 Axes>"
      ]
     },
     "metadata": {
      "needs_background": "light"
     },
     "output_type": "display_data"
    }
   ],
   "source": [
    "# 1. Wordcloud of Top N words in each topic\n",
    "from matplotlib import pyplot as plt\n",
    "from wordcloud import WordCloud, STOPWORDS\n",
    "import matplotlib.colors as mcolors\n",
    "\n",
    "cols = [color for name, color in mcolors.TABLEAU_COLORS.items()] \n",
    "\n",
    "cloud = WordCloud(stopwords=stopwords,\n",
    "                  background_color='white',\n",
    "                  width=2500,\n",
    "                  height=1800,\n",
    "                  max_words=10,\n",
    "                  colormap='tab10',\n",
    "                  color_func=lambda *args, **kwargs: cols[i],\n",
    "                  prefer_horizontal=1.0)\n",
    "\n",
    "topics = lda_model.show_topics(formatted=False)\n",
    "\n",
    "fig, axes = plt.subplots(5, 2, figsize=(10,10), sharex=True, sharey=True)\n",
    "\n",
    "for i, ax in enumerate(axes.flatten()):\n",
    "    fig.add_subplot(ax)\n",
    "    topic_words = dict(topics[i][1])\n",
    "    cloud.generate_from_frequencies(topic_words, max_font_size=300)\n",
    "    plt.gca().imshow(cloud)\n",
    "    plt.gca().set_title('Topic ' + str(i), fontdict=dict(size=16))\n",
    "    plt.gca().axis('off')\n",
    "\n",
    "\n",
    "plt.subplots_adjust(wspace=0, hspace=0)\n",
    "plt.axis('off')\n",
    "plt.margins(x=0, y=0)\n",
    "plt.tight_layout()\n",
    "plt.show()"
   ]
  },
  {
   "cell_type": "code",
   "execution_count": 20,
   "id": "0476bb43",
   "metadata": {},
   "outputs": [
    {
     "data": {
      "text/plain": [
       "[(0,\n",
       "  [('moron', 0.08527298),\n",
       "   ('nippl', 0.03481825),\n",
       "   ('go', 0.02655508),\n",
       "   ('retard', 0.021187682),\n",
       "   ('rape', 0.019637657),\n",
       "   ('aid', 0.015467508),\n",
       "   ('loser', 0.014203355),\n",
       "   ('care', 0.012666163),\n",
       "   ('imag', 0.0119659575),\n",
       "   ('sourc', 0.01098988)]),\n",
       " (1,\n",
       "  [('vandal', 0.046858136),\n",
       "   ('nigga', 0.0461656),\n",
       "   ('bastard', 0.033532485),\n",
       "   ('tommi', 0.024342038),\n",
       "   ('lick', 0.0221215),\n",
       "   ('hanib', 0.019225027),\n",
       "   ('person', 0.019101117),\n",
       "   ('peopl', 0.01480735),\n",
       "   ('poop', 0.014590486),\n",
       "   ('post', 0.011446317)]),\n",
       " (2,\n",
       "  [('dickhead', 0.03516638),\n",
       "   ('talk', 0.030973384),\n",
       "   ('page', 0.029181842),\n",
       "   ('spanish', 0.019623846),\n",
       "   ('like', 0.016567124),\n",
       "   ('ball', 0.015012696),\n",
       "   ('good', 0.012208122),\n",
       "   ('boob', 0.011966049),\n",
       "   ('peopl', 0.011774176),\n",
       "   ('small', 0.009253344)]),\n",
       " (3,\n",
       "  [('like', 0.04102574),\n",
       "   ('fucker', 0.028451087),\n",
       "   ('want', 0.01835499),\n",
       "   ('mother', 0.01754495),\n",
       "   ('mothjer', 0.017003935),\n",
       "   ('cocksuck', 0.014057439),\n",
       "   ('tell', 0.013493484),\n",
       "   ('know', 0.012138661),\n",
       "   ('pussi', 0.011431426),\n",
       "   ('inform', 0.010778587)]),\n",
       " (4,\n",
       "  [('know', 0.04743994),\n",
       "   ('mexican', 0.044333205),\n",
       "   ('idiot', 0.035464093),\n",
       "   ('women', 0.03256202),\n",
       "   ('assad', 0.02233523),\n",
       "   ('fggt', 0.021071626),\n",
       "   ('delet', 0.020648293),\n",
       "   ('rice', 0.01786873),\n",
       "   ('shit', 0.016057918),\n",
       "   ('dumb', 0.015676115)]),\n",
       " (5,\n",
       "  [('fuck', 0.24435104),\n",
       "   ('faggot', 0.07097823),\n",
       "   ('cunt', 0.039905734),\n",
       "   ('block', 0.020808745),\n",
       "   ('admin', 0.020043485),\n",
       "   ('wikipedia', 0.015176069),\n",
       "   ('wiki', 0.011910034),\n",
       "   ('yourselfgo', 0.010570423),\n",
       "   ('shit', 0.009621829),\n",
       "   ('life', 0.009205978)]),\n",
       " (6,\n",
       "  [('huge', 0.060983192),\n",
       "   ('asshol', 0.033516742),\n",
       "   ('kill', 0.022836613),\n",
       "   ('page', 0.01858271),\n",
       "   ('edit', 0.015725235),\n",
       "   ('take', 0.014143941),\n",
       "   ('remov', 0.013471329),\n",
       "   ('drink', 0.01304714),\n",
       "   ('ars', 0.009442603),\n",
       "   ('chees', 0.009262588)]),\n",
       " (7,\n",
       "  [('hate', 0.09396321),\n",
       "   ('love', 0.03638782),\n",
       "   ('wikipedia', 0.025507102),\n",
       "   ('damn', 0.022479627),\n",
       "   ('like', 0.020644313),\n",
       "   ('cock', 0.015493235),\n",
       "   ('fool', 0.014918967),\n",
       "   ('dirti', 0.014865102),\n",
       "   ('bloodi', 0.011972434),\n",
       "   ('know', 0.009895792)]),\n",
       " (8,\n",
       "  [('nigger', 0.21973345),\n",
       "   ('bitch', 0.060581185),\n",
       "   ('shit', 0.052969012),\n",
       "   ('user', 0.030433036),\n",
       "   ('peni', 0.025659574),\n",
       "   ('stupid', 0.024575237),\n",
       "   ('wanker', 0.016152957),\n",
       "   ('piec', 0.013780493),\n",
       "   ('block', 0.013088068),\n",
       "   ('like', 0.012823852)]),\n",
       " (9,\n",
       "  [('suck', 0.15334995),\n",
       "   ('dick', 0.04770051),\n",
       "   ('stupid', 0.029141642),\n",
       "   ('cock', 0.026835721),\n",
       "   ('edit', 0.022487383),\n",
       "   ('twat', 0.020048643),\n",
       "   ('jewish', 0.015936032),\n",
       "   ('piec', 0.01551193),\n",
       "   ('fuck', 0.014651929),\n",
       "   ('bitch', 0.013924401)])]"
      ]
     },
     "execution_count": 20,
     "metadata": {},
     "output_type": "execute_result"
    }
   ],
   "source": [
    "topics = lda_model.show_topics(15, formatted=False)\n",
    "topics"
   ]
  },
  {
   "cell_type": "code",
   "execution_count": 21,
   "id": "2ea122ca",
   "metadata": {},
   "outputs": [
    {
     "name": "stdout",
     "output_type": "stream",
     "text": [
      "0 moron, nippl, go, retard, rape\n",
      "1 vandal, nigga, bastard, tommi, lick\n",
      "2 dickhead, talk, page, spanish, like\n",
      "3 like, fucker, want, mother, mothjer\n",
      "4 know, mexican, idiot, women, assad\n",
      "5 fuck, faggot, cunt, block, admin\n",
      "6 huge, asshol, kill, page, edit\n",
      "7 hate, love, wikipedia, damn, like\n",
      "8 nigger, bitch, shit, user, peni\n",
      "9 suck, dick, stupid, cock, edit\n"
     ]
    },
    {
     "data": {
      "text/html": [
       "<div>\n",
       "<style scoped>\n",
       "    .dataframe tbody tr th:only-of-type {\n",
       "        vertical-align: middle;\n",
       "    }\n",
       "\n",
       "    .dataframe tbody tr th {\n",
       "        vertical-align: top;\n",
       "    }\n",
       "\n",
       "    .dataframe thead th {\n",
       "        text-align: right;\n",
       "    }\n",
       "</style>\n",
       "<table border=\"1\" class=\"dataframe\">\n",
       "  <thead>\n",
       "    <tr style=\"text-align: right;\">\n",
       "      <th></th>\n",
       "      <th>text</th>\n",
       "    </tr>\n",
       "  </thead>\n",
       "  <tbody>\n",
       "    <tr>\n",
       "      <th>0</th>\n",
       "      <td>moron, nippl, go, retard, rape</td>\n",
       "    </tr>\n",
       "    <tr>\n",
       "      <th>1</th>\n",
       "      <td>vandal, nigga, bastard, tommi, lick</td>\n",
       "    </tr>\n",
       "    <tr>\n",
       "      <th>2</th>\n",
       "      <td>dickhead, talk, page, spanish, like</td>\n",
       "    </tr>\n",
       "    <tr>\n",
       "      <th>3</th>\n",
       "      <td>like, fucker, want, mother, mothjer</td>\n",
       "    </tr>\n",
       "    <tr>\n",
       "      <th>4</th>\n",
       "      <td>know, mexican, idiot, women, assad</td>\n",
       "    </tr>\n",
       "    <tr>\n",
       "      <th>5</th>\n",
       "      <td>fuck, faggot, cunt, block, admin</td>\n",
       "    </tr>\n",
       "    <tr>\n",
       "      <th>6</th>\n",
       "      <td>huge, asshol, kill, page, edit</td>\n",
       "    </tr>\n",
       "    <tr>\n",
       "      <th>7</th>\n",
       "      <td>hate, love, wikipedia, damn, like</td>\n",
       "    </tr>\n",
       "    <tr>\n",
       "      <th>8</th>\n",
       "      <td>nigger, bitch, shit, user, peni</td>\n",
       "    </tr>\n",
       "    <tr>\n",
       "      <th>9</th>\n",
       "      <td>suck, dick, stupid, cock, edit</td>\n",
       "    </tr>\n",
       "  </tbody>\n",
       "</table>\n",
       "</div>"
      ],
      "text/plain": [
       "                                  text\n",
       "0       moron, nippl, go, retard, rape\n",
       "1  vandal, nigga, bastard, tommi, lick\n",
       "2  dickhead, talk, page, spanish, like\n",
       "3  like, fucker, want, mother, mothjer\n",
       "4   know, mexican, idiot, women, assad\n",
       "5     fuck, faggot, cunt, block, admin\n",
       "6       huge, asshol, kill, page, edit\n",
       "7    hate, love, wikipedia, damn, like\n",
       "8      nigger, bitch, shit, user, peni\n",
       "9       suck, dick, stupid, cock, edit"
      ]
     },
     "execution_count": 21,
     "metadata": {},
     "output_type": "execute_result"
    }
   ],
   "source": [
    "df1 = pd.DataFrame(columns = [\"text\"])\n",
    "\n",
    "for i in range(len(topics)):\n",
    "    \n",
    "    words = [x[0] for x in topics[i][1]]\n",
    "    words = \", \".join(words[:5])\n",
    "    print(f\"{i} {words}\")\n",
    "    df1 = df1.append({\"text\": words}, ignore_index = True)\n",
    "    \n",
    "df1"
   ]
  },
  {
   "cell_type": "code",
   "execution_count": 22,
   "id": "49a39da5",
   "metadata": {},
   "outputs": [
    {
     "name": "stdout",
     "output_type": "stream",
     "text": [
      "10\n"
     ]
    }
   ],
   "source": [
    "print(len(topics))"
   ]
  },
  {
   "cell_type": "code",
   "execution_count": 23,
   "id": "74e93e32",
   "metadata": {},
   "outputs": [
    {
     "data": {
      "text/plain": [
       "[(0, 0.012523435),\n",
       " (1, 0.0125246905),\n",
       " (2, 0.012522633),\n",
       " (3, 0.012525685),\n",
       " (4, 0.012524711),\n",
       " (5, 0.53902656),\n",
       " (6, 0.24412969),\n",
       " (7, 0.1291775),\n",
       " (8, 0.012521016),\n",
       " (9, 0.012524048)]"
      ]
     },
     "execution_count": 23,
     "metadata": {},
     "output_type": "execute_result"
    }
   ],
   "source": [
    "lda_model[bow_corpus[1]]"
   ]
  },
  {
   "cell_type": "code",
   "execution_count": 24,
   "id": "ad4c325b",
   "metadata": {},
   "outputs": [
    {
     "name": "stdout",
     "output_type": "stream",
     "text": [
      "\n",
      "Perplexity:  -7.380152472826772\n",
      "\n",
      "Coherence Score:  0.506628157281386\n"
     ]
    }
   ],
   "source": [
    "# Compute Perplexity\n",
    "print('\\nPerplexity: ', lda_model.log_perplexity(bow_corpus))  # a measure of how good the model is. lower the better.\n",
    "\n",
    "# Compute Coherence Score\n",
    "coherence_model_lda = gensim.models.CoherenceModel(model=lda_model, texts=res, dictionary=dictionary, coherence='c_v')\n",
    "coherence_lda = coherence_model_lda.get_coherence()\n",
    "print('\\nCoherence Score: ', coherence_lda)"
   ]
  },
  {
   "cell_type": "markdown",
   "id": "43be0ed9",
   "metadata": {},
   "source": [
    "## This are some internal tests and results are not used in the report - not further explained"
   ]
  },
  {
   "cell_type": "code",
   "execution_count": 25,
   "id": "a0f17fb1",
   "metadata": {},
   "outputs": [
    {
     "data": {
      "text/html": [
       "\n",
       "<link rel=\"stylesheet\" type=\"text/css\" href=\"https://cdn.jsdelivr.net/gh/bmabey/pyLDAvis@3.3.1/pyLDAvis/js/ldavis.v1.0.0.css\">\n",
       "\n",
       "\n",
       "<div id=\"ldavis_el93082333704332616569234669\"></div>\n",
       "<script type=\"text/javascript\">\n",
       "\n",
       "var ldavis_el93082333704332616569234669_data = {\"mdsDat\": {\"x\": [0.09799008014074849, -0.01992930138667632, -0.07980972885064604, 0.09310878249253371, -0.09882752730920458, 0.3148060241630471, -0.07204192783993396, -0.01745899250543511, -0.0635675494029278, -0.15426985950150554], \"y\": [0.028944054926116167, -0.01725220681327677, -0.023696147266324363, 0.05493228830714641, 0.06813858321060814, 0.04923738509112126, -0.09680285553555455, -0.18647922107829737, -0.11256560600896001, 0.2355437251674215], \"topics\": [1, 2, 3, 4, 5, 6, 7, 8, 9, 10], \"cluster\": [1, 1, 1, 1, 1, 1, 1, 1, 1, 1], \"Freq\": [15.198526856870698, 14.68172526671157, 10.1213640441429, 9.679407382500695, 9.676005412980729, 8.923086382061022, 8.413310614597716, 8.108105846935104, 7.9555009803891625, 7.242967212810409]}, \"tinfo\": {\"Term\": [\"fuck\", \"nigger\", \"suck\", \"faggot\", \"hate\", \"moron\", \"huge\", \"cunt\", \"bitch\", \"dick\", \"vandal\", \"mexican\", \"nigga\", \"shit\", \"dickhead\", \"fucker\", \"stupid\", \"know\", \"love\", \"asshol\", \"nippl\", \"bastard\", \"cock\", \"women\", \"user\", \"idiot\", \"admin\", \"block\", \"peni\", \"tommi\", \"wiki\", \"yourselfgo\", \"faggot\", \"edi\", \"georg\", \"couriano\", \"bush\", \"mod\", \"limp\", \"california\", \"misterwiki\", \"fuckbag\", \"libtard\", \"dickfac\", \"njgw\", \"fag\", \"noob\", \"freedom\", \"fuckyou\", \"enemi\", \"thoma\", \"disagre\", \"israel\", \"smelli\", \"isra\", \"harrass\", \"hindu\", \"fucki\", \"rot\", \"supress\", \"cunt\", \"chula\", \"vista\", \"admin\", \"shithead\", \"fuck\", \"queer\", \"shut\", \"warn\", \"diego\", \"block\", \"vagina\", \"contribut\", \"life\", \"wikipedia\", \"come\", \"internet\", \"littl\", \"post\", \"asshol\", \"shit\", \"right\", \"page\", \"stop\", \"hell\", \"peopl\", \"think\", \"say\", \"cocksuck\", \"stupid\", \"want\", \"edit\", \"know\", \"atheist\", \"niggaz\", \"mothjer\", \"simpson\", \"mongo\", \"mefuck\", \"vomit\", \"object\", \"suppress\", \"alot\", \"curp\", \"geek\", \"wale\", \"pointless\", \"complaint\", \"stinki\", \"uncl\", \"arrest\", \"\\u0177our\", \"novemb\", \"fucker\", \"tang\", \"conduct\", \"bend\", \"turkey\", \"asperg\", \"mann\", \"inappropri\", \"rajput\", \"joseph\", \"puppet\", \"central\", \"sock\", \"blah\", \"peter\", \"greek\", \"putin\", \"video\", \"act\", \"mother\", \"semen\", \"whine\", \"inform\", \"moder\", \"realiz\", \"add\", \"kike\", \"tell\", \"pussi\", \"like\", \"cocksuck\", \"mean\", \"want\", \"muslim\", \"kiss\", \"right\", \"time\", \"need\", \"better\", \"know\", \"littl\", \"say\", \"thing\", \"year\", \"think\", \"come\", \"edit\", \"go\", \"peopl\", \"fuck\", \"articl\", \"wikipedia\", \"spanish\", \"robert\", \"bark\", \"boob\", \"dipshit\", \"censor\", \"heil\", \"propaganda\", \"angela\", \"unsign\", \"irish\", \"pig\", \"dickhead\", \"feminazi\", \"allemand\", \"verifi\", \"intend\", \"negro\", \"ball\", \"clever\", \"rightcom\", \"rightget\", \"rodeoand\", \"pedophil\", \"will\", \"whatsoev\", \"offpiss\", \"dislik\", \"preced\", \"fuckfac\", \"behav\", \"unblock\", \"contrib\", \"ullmann\", \"dummi\", \"factual\", \"small\", \"talk\", \"cathol\", \"harass\", \"monkey\", \"star\", \"award\", \"ugli\", \"fals\", \"proof\", \"page\", \"good\", \"text\", \"report\", \"game\", \"money\", \"messag\", \"peopl\", \"like\", \"fuckin\", \"stop\", \"articl\", \"think\", \"leav\", \"world\", \"call\", \"know\", \"look\", \"wikipedia\", \"make\", \"jewish\", \"cline\", \"shitfuck\", \"neiln\", \"lmao\", \"jessica\", \"manner\", \"contributor\", \"bold\", \"mutha\", \"righteous\", \"satan\", \"suck\", \"theyr\", \"chicken\", \"shitstop\", \"dozen\", \"monitor\", \"whini\", \"februari\", \"willi\", \"naughti\", \"tongu\", \"comput\", \"persist\", \"meaningless\", \"sunflow\", \"academ\", \"unconstruct\", \"northern\", \"twat\", \"john\", \"dick\", \"nate\", \"duck\", \"shes\", \"beavi\", \"chines\", \"wanta\", \"lifetim\", \"eras\", \"jone\", \"fire\", \"metal\", \"guy\", \"cock\", \"terrorist\", \"butthead\", \"stupid\", \"piec\", \"dont\", \"slap\", \"coward\", \"edit\", \"ban\", \"stuff\", \"yeah\", \"articl\", \"section\", \"correct\", \"bitch\", \"work\", \"read\", \"shit\", \"delet\", \"fuck\", \"wikipedia\", \"like\", \"say\", \"littl\", \"person\", \"stop\", \"chees\", \"norri\", \"homeland\", \"semit\", \"ethnic\", \"hairi\", \"salt\", \"mccain\", \"cult\", \"billcj\", \"stalker\", \"redneck\", \"hippi\", \"dedic\", \"phuq\", \"extern\", \"jewfat\", \"awww\", \"wasnt\", \"viva\", \"paranoid\", \"cynic\", \"septemb\", \"trout\", \"gamaliel\", \"hehe\", \"octob\", \"rever\", \"ilche\", \"priest\", \"drink\", \"ars\", \"macedonian\", \"dahn\", \"huge\", \"term\", \"credit\", \"anal\", \"take\", \"arab\", \"sweet\", \"asshol\", \"england\", \"troll\", \"enjoy\", \"outsid\", \"kill\", \"anti\", \"remov\", \"languag\", \"nice\", \"content\", \"list\", \"chang\", \"page\", \"edit\", \"link\", \"person\", \"want\", \"stop\", \"thing\", \"idiot\", \"discuss\", \"word\", \"peopl\", \"nigger\", \"wanker\", \"licker\", \"homo\", \"romney\", \"mitt\", \"edgar\", \"cougar\", \"nhrhs\", \"enigmaman\", \"subject\", \"disput\", \"delanoy\", \"fuckwit\", \"sanns\", \"billj\", \"pedo\", \"refrain\", \"sikh\", \"revis\", \"criteria\", \"unemploy\", \"describ\", \"motha\", \"goodby\", \"hahahaha\", \"cracker\", \"anon\", \"difficult\", \"pumpkin\", \"peni\", \"scum\", \"hitler\", \"password\", \"jew\", \"spic\", \"user\", \"chink\", \"bitch\", \"administr\", \"virgin\", \"sexual\", \"shit\", \"douch\", \"motherfuck\", \"stupid\", \"piec\", \"dumbass\", \"american\", \"asian\", \"delet\", \"block\", \"cocksuck\", \"like\", \"leav\", \"page\", \"wikipedia\", \"fuck\", \"blank\", \"codi\", \"shithol\", \"arrog\", \"molest\", \"turk\", \"iranian\", \"sloppi\", \"moonshin\", \"gwernol\", \"cuntfuck\", \"hate\", \"usual\", \"religi\", \"maggot\", \"fart\", \"manipul\", \"filter\", \"intellectu\", \"threat\", \"albino\", \"niggertardgo\", \"credibl\", \"asham\", \"filth\", \"australian\", \"curios\", \"beth\", \"eastern\", \"supremacist\", \"persian\", \"bloodi\", \"dirti\", \"havent\", \"religion\", \"love\", \"damn\", \"smell\", \"weak\", \"indian\", \"fool\", \"sign\", \"india\", \"butt\", \"christian\", \"whore\", \"wikipedia\", \"cock\", \"nazi\", \"write\", \"like\", \"fascist\", \"time\", \"know\", \"racist\", \"fuckin\", \"think\", \"peopl\", \"world\", \"articl\", \"fggt\", \"rice\", \"supertr\", \"knob\", \"dust\", \"sucker\", \"assad\", \"valid\", \"haha\", \"plot\", \"super\", \"prostitut\", \"imbecil\", \"numer\", \"calm\", \"fiction\", \"yank\", \"bare\", \"snitch\", \"retart\", \"mexican\", \"feebl\", \"gawd\", \"doosh\", \"fukin\", \"trace\", \"philosoph\", \"myspac\", \"soviet\", \"makin\", \"disturb\", \"women\", \"donkey\", \"useless\", \"forev\", \"rap\", \"sack\", \"dumb\", \"idiot\", \"respect\", \"womensday\", \"fight\", \"know\", \"million\", \"gonna\", \"happi\", \"delet\", \"whore\", \"live\", \"chuck\", \"pathet\", \"shit\", \"fool\", \"articl\", \"real\", \"think\", \"fuck\", \"vandal\", \"tommi\", \"poop\", \"bias\", \"notabl\", \"silli\", \"bail\", \"ident\", \"consensus\", \"turkish\", \"pakistani\", \"nativ\", \"lion\", \"lick\", \"fagget\", \"racial\", \"cretin\", \"tit\", \"resid\", \"fuke\", \"spew\", \"except\", \"raid\", \"deliber\", \"macro\", \"hobbi\", \"slit\", \"gather\", \"nicknam\", \"gger\", \"bigot\", \"nigga\", \"nasti\", \"basement\", \"hanib\", \"feminist\", \"bastard\", \"aliv\", \"rule\", \"truth\", \"male\", \"person\", \"jerk\", \"post\", \"fine\", \"cite\", \"listen\", \"watch\", \"look\", \"peopl\", \"stop\", \"lie\", \"gonna\", \"ruin\", \"head\", \"attack\", \"page\", \"edit\", \"like\", \"time\", \"wikipedia\", \"nippl\", \"daedalus\", \"aid\", \"oxymoron\", \"genr\", \"moron\", \"rape\", \"conflict\", \"juici\", \"hist\", \"grammar\", \"socialist\", \"looser\", \"luckier\", \"son\", \"latinus\", \"fece\", \"archiv\", \"expir\", \"paedophil\", \"satisfi\", \"slight\", \"santa\", \"discredit\", \"muhajir\", \"ancestor\", \"mormon\", \"serbia\", \"congratul\", \"eventu\", \"jackass\", \"lucki\", \"sassi\", \"dildo\", \"murder\", \"nerd\", \"fucken\", \"shove\", \"imag\", \"retard\", \"repeat\", \"ridicul\", \"woman\", \"go\", \"loser\", \"belong\", \"care\", \"sourc\", \"femal\", \"abus\", \"black\", \"site\", \"kill\", \"love\", \"think\", \"obvious\", \"peopl\", \"hell\", \"white\"], \"Freq\": [31321.0, 14794.0, 11370.0, 8149.0, 5997.0, 4690.0, 4868.0, 4672.0, 6088.0, 3923.0, 2812.0, 2746.0, 2905.0, 7222.0, 2699.0, 3183.0, 4668.0, 6533.0, 3096.0, 3566.0, 1903.0, 2536.0, 3292.0, 2250.0, 2612.0, 3701.0, 2405.0, 3425.0, 1785.0, 1461.0, 1365.468373583647, 1211.8838232533844, 8137.552574704248, 466.48953979719266, 313.93453877106657, 258.0975919960139, 526.7102060198121, 147.48956452850126, 139.338162835288, 284.2547750360881, 126.98967069603432, 128.18366653723766, 131.12150839313225, 136.3714650900063, 116.46080798495016, 101.02093182906677, 242.12883356776524, 203.58600075844024, 89.60046618052537, 88.40417468114693, 73.22870629432151, 75.04797535754494, 147.35253242103713, 58.811572549148394, 57.4405841320142, 50.78243467403439, 49.982134199724655, 49.85050089302697, 49.522128346037555, 47.64992901300056, 4575.135270100007, 262.64339558822314, 273.9403027742293, 2297.956822977352, 338.793366950919, 28014.497138647926, 146.45212723610035, 984.3847387489869, 717.8017001015819, 261.19456834273296, 2385.692820987619, 296.94226381481604, 347.6952620114946, 1055.4522296867929, 1739.9145665978779, 885.6464519164192, 288.12309252964343, 675.7222857518544, 547.6717006545238, 880.5427233065595, 1103.1288857666286, 644.4705300409214, 824.693417348541, 633.5437843888016, 512.477605820738, 711.0457382544377, 650.2777978003525, 539.7775728391209, 539.0190980555451, 546.8835424768699, 528.3925497503702, 516.3696006259365, 494.0185921464915, 660.9946887306803, 229.65375178841902, 1883.1879276618308, 209.01102170232835, 188.8989550798228, 172.48506832662656, 170.12398400915333, 165.9959898128308, 146.9883385621929, 129.1931847994905, 150.10178167735427, 118.48632515673515, 464.4508353280281, 98.62489223282196, 90.41082546732638, 92.25225050659725, 82.69609859378444, 527.5754841678312, 73.3675341213663, 72.41951742645918, 3150.961469424331, 70.35826653976426, 69.80110793738403, 65.49097416648321, 64.7903485777563, 63.547326884907264, 63.04944390326206, 60.86703094025233, 102.97896538718443, 57.80212356718058, 207.67029032122693, 112.13544683405601, 361.24529460185795, 206.9285424720684, 88.62798627267104, 185.79239683284467, 113.29501850945917, 365.9183666487111, 364.3853875719534, 1943.1053625132577, 345.1907360813719, 181.84280323774246, 1193.7299045604302, 156.97015969879624, 262.0325906316264, 719.0862152822717, 237.9436745875404, 1494.4050427066568, 1266.0318506142994, 4543.6057880683975, 1556.863122847819, 1015.2598873657632, 2032.8174125390187, 420.22808925789093, 268.7205309560186, 1105.5144753187737, 1129.0268932431109, 806.1967134315973, 559.6311725688195, 1344.3582368306759, 726.0326604888253, 759.6016790169247, 661.0659097266434, 472.2983473278234, 789.9116536500997, 607.5941555120371, 724.64315484492, 586.2610175488959, 596.7227681485206, 720.8799941972519, 493.79935230172475, 475.8621820164783, 1498.2707646893743, 674.2702104185406, 646.2458384658582, 913.6018069129176, 453.47243110633013, 358.23666708854574, 319.62937427949294, 268.2752980564337, 240.19517899154238, 183.28326144857243, 176.8346218059887, 147.77235985972357, 2684.9353662377007, 210.55149208591047, 159.7840937787415, 107.51969174488373, 84.00294311396395, 79.22637908409894, 1146.2118233435194, 77.35826420051278, 79.51806482730063, 79.51806482730063, 79.51806482730063, 164.07987451880956, 72.70965099236396, 72.3423617835294, 75.098826276553, 70.61616560859125, 171.593024467646, 59.978697553938545, 72.68686596013379, 605.5331677927815, 123.18604350755635, 672.0778699037111, 95.70389932596883, 133.50197907111232, 706.488130444737, 2364.802312533039, 133.17372706202613, 363.3801914619469, 235.31181373395052, 146.8597853213439, 175.2031655017513, 474.7869199339598, 263.3940304261507, 221.63727464832897, 2228.018951067232, 932.0839655784772, 231.64565894009698, 380.1769954673324, 447.08117401419616, 278.75488410308776, 392.2220336640045, 898.9524044237442, 1264.8915945435122, 472.6289236221876, 597.8054376808474, 631.1168970420711, 551.5221088294726, 403.92146109678424, 379.8063909407596, 347.31140634476463, 480.231293837662, 383.61785086700985, 409.52308594264224, 358.2567545365037, 1163.5795949712149, 489.87371004077215, 329.94317914352416, 320.00355813146854, 236.73564851872564, 114.74579585726946, 84.78503999402778, 85.87383135045481, 76.89464958982235, 61.65028707879409, 59.98502901818142, 55.9590144906233, 11196.945040456969, 48.09762231199537, 793.7164971319032, 54.19406254500812, 46.74291684451618, 54.71042476346649, 43.54002181630592, 41.932726206290674, 45.23014703474566, 40.58759614585034, 39.58193190272698, 38.94861626620584, 38.823111707902406, 38.7822897884136, 38.864481886382784, 37.70871368152015, 40.212931251260464, 36.120815389625356, 1463.864495712197, 423.53831612515546, 3482.883296081833, 98.80888448828169, 46.61063767510758, 49.603808763797325, 106.75711834113291, 181.85539947010207, 105.20703291937782, 320.09777367662497, 99.70441667521418, 88.37093430351378, 284.8154970392268, 147.9995822269638, 949.3386813712816, 1959.4273830567768, 227.28437751572173, 106.61791155810987, 2127.7956963355837, 1132.6135191204958, 889.7701124331406, 215.99372734647923, 253.33745779219095, 1641.9307200389608, 436.2647248411662, 263.4506856514385, 303.40897397649684, 949.5760052634477, 213.68236943968145, 226.14138077031396, 1016.6990900973755, 454.78588259238506, 437.3816431588818, 900.9020990002639, 464.3246030295797, 1069.8199972923906, 596.3180997530841, 448.27657783829983, 344.447851023457, 332.24688692485813, 321.05213532837416, 304.830979297709, 676.0760953098332, 293.76023878942806, 265.28616379325155, 245.34943223130372, 229.82051324892632, 197.68142969847312, 317.4532553114238, 363.82826323306557, 216.06848468446432, 178.89030115075755, 99.59499852675495, 82.8017118379591, 81.69237466806042, 79.92715083971154, 284.3012262822903, 73.10165212556002, 69.61141724025606, 68.02189751901355, 65.70882407011966, 185.71465274940178, 67.59500910442235, 61.460821675015964, 54.34626259875989, 52.02309878197798, 69.3959507108069, 44.641257543951696, 43.753814998918855, 43.037360641684714, 42.73112753557871, 43.15269248450098, 952.3104824532181, 689.215411244678, 100.68213263872398, 74.45299667888536, 4451.161921641482, 319.3136217496609, 235.10028656275736, 557.1456746728903, 1032.3659572810097, 307.5377927982148, 164.63400060929902, 2446.3863187894763, 125.26315251777828, 477.9819589432996, 365.32366000264847, 181.82426573797795, 1666.843871561733, 455.9388174125327, 983.2719967039698, 302.9326763513937, 547.398047904123, 296.5290867208166, 372.4585825034466, 617.5718448946828, 1356.351551068686, 1147.7845390239286, 365.63360211556136, 560.490935400955, 636.8366556725344, 558.5207177828808, 482.0511430251235, 474.94765998637655, 311.44848800269335, 317.19803485678375, 313.0279046103199, 14790.348327342608, 1087.262183822166, 834.3408058968058, 828.5380558843415, 437.6834809355003, 436.90533846521186, 312.8276912278826, 294.59365606512836, 230.1815229871656, 208.6897332206935, 185.85437356538915, 95.3103617194165, 116.65667683269332, 72.81742581148522, 135.95134093208077, 139.2743534357076, 55.669208288445, 55.51875388075978, 74.55994808481148, 52.458367595240496, 51.126265638266666, 48.91901982496052, 48.54065643326319, 48.216658952897326, 78.9905896311779, 45.63459160317229, 57.59399897925842, 42.361317874722246, 40.92003744519415, 41.1072425193747, 1727.1564513743072, 458.75977659957397, 365.4600994794546, 154.39368733537066, 742.8774396912244, 377.05431571765547, 2048.460147065873, 334.8286305265937, 4077.7443762157427, 525.2583602031331, 124.00456121037784, 241.33194162459256, 3565.3659257168847, 291.10144944828886, 487.9672943550932, 1654.169282932199, 927.570648914621, 258.44258178704035, 429.1993584141435, 242.4574993506885, 860.9824532381322, 880.9632185863466, 691.0927572614288, 863.1787169492862, 433.57978710957127, 431.8649963093211, 379.5462459849294, 428.62661220615263, 382.3360285892848, 410.89314657657076, 269.75869271226554, 246.21763567936836, 230.0204695733151, 203.84189481246258, 184.1569069321471, 164.89145597110635, 150.2414430792974, 172.46363042379826, 144.93762282771377, 5963.372244580599, 110.81921729941608, 97.48740914949148, 95.36711637171135, 337.7384206707508, 95.04250426116515, 249.36156189423775, 92.26672198849111, 529.3368474542857, 85.69147967628629, 84.22363241603423, 80.4530015019439, 79.2557948603512, 75.95640415098723, 72.94248236749917, 71.35938510013654, 68.18553629222926, 63.01642681567269, 56.75861888583226, 145.1626998337152, 759.8301235507776, 943.4132259728768, 227.97086799805012, 170.58472800644614, 2309.3517886111085, 1426.6688072979812, 310.91066601857335, 271.84092099638366, 309.90349370180223, 946.8317603205936, 303.8783099208739, 160.76120720676278, 229.68038637392414, 221.946659472006, 612.6782879446175, 1618.8073775214698, 983.2776264066176, 452.6424782760387, 577.932320674928, 1310.190629203242, 206.38868428300924, 527.8415157382062, 628.0361290101057, 312.9043234272994, 332.95420440019626, 376.0656125347483, 342.559992158688, 285.3450093992606, 299.73326979078666, 1288.7972268019873, 1092.8994714150274, 569.4568780734181, 322.1336862579006, 289.46794955407194, 288.2260314119666, 1366.0826144647897, 213.92910807240304, 258.6569587108139, 116.22895578048266, 491.9861354451572, 102.7517159253015, 92.84151959523506, 81.07030444345133, 79.051963173908, 78.02215086562434, 89.76441498446574, 75.27168881172396, 62.94508518956781, 61.67727061194569, 2711.5378529272057, 58.36836549024735, 61.188129168256836, 55.9859824261249, 67.65746034378674, 52.2823756112125, 51.53909735793745, 50.339701490483264, 48.28167181522903, 47.77281789374853, 88.28158950134451, 1991.5806606457936, 96.56793620700697, 822.2666395249184, 403.88089376301645, 350.3729481581579, 81.15694393406673, 958.7932741534804, 2169.079173044786, 461.40430349127837, 306.84124654238525, 467.3753935133062, 2901.554148297715, 241.42566846155657, 616.1940129932015, 438.6880670284462, 1262.905063449437, 728.0298168511188, 758.2438724268527, 257.22589761763135, 410.8632905019318, 982.1453795405332, 402.90758082669475, 535.4864508943755, 317.8855031082584, 378.2989749769596, 454.30069121256713, 2812.028222449628, 1460.802830012998, 875.5973267754205, 444.4092592652615, 258.0042436032437, 214.6730070079096, 174.36782749478618, 155.71692757754835, 152.9333356734198, 128.25794526818936, 115.37165391191488, 106.91027869989752, 98.46231012295014, 1327.5449853386797, 86.16987191980523, 81.93718973624965, 75.84444347721279, 84.40809755187992, 75.85997393566022, 73.18105019548103, 67.28653909543917, 64.77680164055977, 89.98216282733033, 61.04646656211556, 59.271215696509145, 58.345668838401096, 58.29190606602943, 54.64418701834101, 53.51908809101874, 55.91089745836208, 163.55259228577475, 2770.4681287983676, 436.01127040029473, 168.75931296580256, 1153.7232319572922, 140.5708811614309, 2012.3356166122771, 312.08665139321096, 599.2213961664594, 499.6654986469235, 172.56464555726217, 1146.2871674120329, 360.7303666892554, 686.9109335754245, 322.61433209493663, 172.5829216163258, 269.01702233140026, 341.5643697403805, 557.6672827547092, 888.6116693115794, 614.9494819681695, 276.0092916259106, 325.6287360936159, 239.71885089475654, 302.78961455852624, 324.3422859728286, 484.17371614099653, 438.76749013339446, 481.04560375649163, 320.8289232056763, 345.38797839090375, 1902.3507924401636, 566.3534293981193, 845.0920156404094, 258.33932566356316, 135.27408666852938, 4659.025742213302, 1072.934804200968, 96.2029411300619, 94.81668112265602, 88.33181447264188, 85.8354371816186, 77.71782062497078, 74.19979476264552, 72.89138137038297, 68.07699533384374, 63.664092767723766, 62.51544971011151, 62.49977734637974, 57.065130800899354, 56.517310450457025, 55.18944653534879, 70.82851285472597, 63.36287044564213, 47.92389072614001, 46.76011913072904, 42.94413708218913, 40.8208848063505, 40.13599805889609, 94.57594114908308, 60.60190752697512, 296.7474551618375, 164.94889324587052, 264.65226063174555, 80.65320855606325, 581.6763706566877, 445.1462687015866, 153.0130016670118, 233.68626499695748, 653.7792171452043, 1157.6228640718828, 593.9557185248273, 193.63253730684733, 449.55498603421006, 1450.8792493281708, 776.0229927571382, 201.3327308867805, 692.0360676260287, 600.4496743825414, 172.47221300654513, 268.95671603811445, 287.02028557782944, 303.7989502708795, 506.00251503072985, 492.8710078268242, 499.93023734913646, 212.15351852083444, 341.17715613891716, 258.26841839453647, 217.01114984999228], \"Total\": [31321.0, 14794.0, 11370.0, 8149.0, 5997.0, 4690.0, 4868.0, 4672.0, 6088.0, 3923.0, 2812.0, 2746.0, 2905.0, 7222.0, 2699.0, 3183.0, 4668.0, 6533.0, 3096.0, 3566.0, 1903.0, 2536.0, 3292.0, 2250.0, 2612.0, 3701.0, 2405.0, 3425.0, 1785.0, 1461.0, 1366.2566537929772, 1212.6719126888224, 8149.176588764599, 467.2779737178548, 314.7225243525043, 258.88811313377244, 528.5885995708823, 148.29051816454168, 140.13494407161596, 285.917031900062, 127.77741837232871, 128.98047926598153, 131.9385532149675, 137.22436198990047, 117.28202641461985, 101.80911157674569, 244.09978995097242, 205.35110968909134, 90.39160417403488, 89.19224617310164, 74.01788434681406, 75.90358599285028, 149.21377005099802, 59.61340435334669, 58.25304794170025, 51.57041018017575, 50.770294456784754, 50.63920236781344, 50.329132224825436, 48.44250251784289, 4672.292175590783, 267.06192957998803, 278.90990828038775, 2405.6832623699884, 350.6267463151722, 31321.59224443574, 154.77746897391305, 1163.6452356970385, 843.9396131312022, 292.6842683598787, 3425.7544636412476, 374.0385671772072, 468.6895651827338, 2443.788132552821, 5897.748618809544, 2256.2598556588177, 469.2998860684025, 2165.2302573204324, 1530.6796793235173, 3566.029611434149, 7222.682073761654, 2584.413737864118, 5764.392744750378, 3171.3100623338655, 1858.8109858606076, 4700.246288691206, 4037.926570043685, 2437.099674203026, 2788.481661332166, 4668.355633031845, 4208.04835776816, 4778.034190773833, 6533.005837739388, 661.7390748184415, 230.39820808289554, 1889.9710767451331, 209.82808850917215, 189.64785823168847, 173.23986461971296, 170.88421850416364, 166.74056682142228, 147.73249313241385, 129.9374206188412, 150.99849272091546, 119.23063605684386, 467.59229072099123, 99.36936684632292, 91.15527382599933, 93.03796484433477, 83.44040090716086, 532.6853038520217, 74.11253915774651, 73.16371027961114, 3183.357291375384, 71.10257851790035, 70.54599150876962, 66.23527265530473, 65.53458392865134, 64.29156369411254, 63.793687909774974, 61.61122381989978, 104.24786154716375, 58.54662401835109, 212.0361841986951, 113.81601570203067, 372.0915986014586, 213.21091705127571, 90.20390439209294, 192.39231110667012, 116.07807502419429, 388.86439623936997, 397.69736250288884, 2372.9921382375746, 388.35191256321866, 195.03602228963624, 1546.2551450867986, 166.7306358115546, 297.7391663225948, 955.2127724823455, 270.05980930932856, 2296.9435295989024, 1917.7297564239823, 9676.365539232323, 2788.481661332166, 1674.2119832219314, 4208.04835776816, 596.8866320351214, 328.7256407271394, 2584.413737864118, 3151.453563416978, 2075.780048192303, 1149.5345566144454, 6533.005837739388, 2165.2302573204324, 2437.099674203026, 2221.146381678627, 1152.0631102252019, 4037.926570043685, 2256.2598556588177, 4778.034190773833, 3219.40992797171, 4700.246288691206, 31321.59224443574, 3679.075463478633, 5897.748618809544, 1499.7161195054375, 675.0180272111131, 647.0034797267713, 914.9765140935846, 454.2201788279711, 358.9845820447701, 320.37701346001256, 269.0228664241131, 240.98865079810426, 184.03076366621306, 177.58268951450006, 148.52009914255646, 2699.316778446726, 211.72683095033372, 160.684304784937, 108.26721960943256, 84.75050256605309, 79.97394853927926, 1157.3007288461358, 78.11366269285014, 80.29951109702448, 80.29951109702448, 80.29951109702448, 165.7266860407385, 73.4573828727777, 73.0900137627625, 75.87694475861298, 71.36366975380805, 173.44112608493165, 60.726814134783694, 73.62284504410619, 648.7365059817637, 126.23168059308759, 740.4610082594174, 97.61140049514296, 141.98751005811775, 928.4773461722783, 3659.760968186377, 144.90843179356068, 461.2671416689639, 286.7056648545135, 166.639299133849, 206.85703895179716, 725.4367779050807, 347.39645205560663, 280.2773843570291, 5764.392744750378, 2095.143099321767, 307.78493540977166, 643.5191030173836, 880.5462860164666, 432.95965178753204, 841.1702404083048, 4700.246288691206, 9676.365539232323, 1419.044933074585, 3171.3100623338655, 3679.075463478633, 4037.926570043685, 1687.4433338347835, 1470.2152667054165, 1130.2185733657193, 6533.005837739388, 1984.8005702234411, 5897.748618809544, 1612.7055508446003, 1164.3626190234377, 490.6567326655367, 330.72695893538844, 322.1082784170797, 238.40302033056594, 115.76032027941694, 85.5681948066266, 86.70582801164541, 77.6776577480141, 62.43337176215553, 60.76813247233404, 56.74234132368701, 11370.093388802758, 48.880627097522684, 806.8715826934264, 55.096054923238405, 47.52652733388773, 55.71289461505806, 44.3389645814389, 42.71567352998148, 46.08721882795787, 41.3713178026646, 40.365080892910946, 39.73187615547912, 39.60615486914548, 39.56564871916295, 39.663601055728, 38.49204751067741, 41.0809217305112, 36.90721077863222, 1545.3512687354473, 451.62429140008066, 3923.631454463997, 103.06122071932819, 47.77748800722847, 50.96882800940245, 112.53219311021732, 199.18018378919265, 112.62173700215862, 371.6594207692488, 107.41687862464757, 94.67039445892893, 354.4597515158762, 171.42021511374062, 1379.5764933072835, 3292.1288128701294, 293.80182965356227, 121.8242132619484, 4668.355633031845, 2193.675751942252, 1732.1700427177852, 300.06598564845166, 373.1982471827751, 4778.034190773833, 914.5090946551051, 461.3282666320256, 603.1450997405564, 3679.075463478633, 353.68734378490586, 404.5260092237137, 6088.321239455129, 1536.4003316628334, 1517.2234110681993, 7222.682073761654, 2764.0465358446745, 31321.59224443574, 5897.748618809544, 9676.365539232323, 2437.099674203026, 2165.2302573204324, 2507.5838717443266, 3171.3100623338655, 677.0558046740757, 294.51386754267935, 266.04439236926146, 246.1028102801666, 230.5743345917964, 198.43482439253307, 318.67510700594715, 365.7499051872537, 217.40780976002776, 180.05064057528244, 100.3483394132977, 83.55512563603962, 82.44599795138294, 80.68093048372172, 287.1435123228361, 73.8552132815055, 70.36463900036392, 68.77530863896084, 66.46244277327807, 187.94391900143862, 68.41355713679349, 62.24854345883696, 55.09978013942081, 52.81571171431836, 70.4545100140297, 45.402685758962356, 44.50726778799176, 43.79063841857417, 43.496046848899724, 43.934644868762646, 979.1058826930687, 713.5758001142169, 102.52116252413441, 76.10814357290285, 4868.92784552043, 333.4751824459395, 256.35377461714324, 644.2760213808045, 1287.457538483194, 351.3495465625984, 181.9362854799534, 3566.029611434149, 134.87221970064803, 616.435650755714, 468.5155558744668, 213.76439895854807, 2994.41312669378, 651.9805294739266, 1709.7897582806845, 400.2038385534842, 836.6519833924161, 403.0377484089144, 543.0930040595864, 1226.8089237025322, 5764.392744750378, 4778.034190773833, 791.4558631728332, 2507.5838717443266, 4208.04835776816, 3171.3100623338655, 2221.146381678627, 3701.750550795878, 601.2124436531818, 997.3006478313391, 4700.246288691206, 14794.843863957252, 1088.0500850203184, 835.1310244539393, 829.3261804557148, 438.55688461771666, 437.7813991254608, 313.6630079769543, 295.3830170925019, 231.00472588804328, 209.50903548685613, 186.64313223252807, 96.09875569768876, 117.85755683549897, 73.60614961836302, 137.45421472575237, 141.02080763048417, 56.457189351855476, 56.30765810592667, 75.66708384821497, 53.24677233449173, 51.914522922874156, 49.707433187328725, 49.32892874600478, 49.00472158204226, 80.33320991931696, 46.42268450967001, 58.60840972526001, 43.14942434563781, 41.708228040868796, 41.904587134637076, 1785.1507438054534, 468.2287735431248, 374.0434114435339, 159.5048601269244, 833.0047536208252, 427.3336529451002, 2612.6846279824917, 380.98874560823464, 6088.321239455129, 657.013959925799, 136.37870292349328, 289.0389550361638, 7222.682073761654, 391.4008665623791, 757.0957233679621, 4668.355633031845, 2193.675751942252, 374.2666984408487, 820.2081871899346, 344.47683807144585, 2764.0465358446745, 3425.7544636412476, 2788.481661332166, 9676.365539232323, 1687.4433338347835, 5764.392744750378, 5897.748618809544, 31321.59224443574, 383.09703807426285, 411.7460679745885, 270.5242074313613, 246.9785191275424, 230.7824826971292, 204.60269494476327, 184.917643756199, 165.65218693226407, 151.0027811938162, 173.34894002347835, 145.71922113809288, 5997.551457650122, 111.58306036627428, 98.24829373261606, 96.1283323936217, 340.437459025043, 95.8034891169789, 251.39087526758388, 93.02766980192594, 533.8072707127818, 86.45453953520256, 84.98568817234002, 81.21389798940561, 80.01698431864342, 76.71721720470701, 73.70331990472366, 72.13298461221073, 68.94635336598297, 63.77728876415623, 57.51930865673252, 147.20880194221084, 792.0000683675433, 989.3877974736248, 245.26346524793874, 183.08039751326632, 3096.737997253403, 1891.7178479497693, 359.9430399107376, 318.0398824101394, 382.8235412413109, 1414.214139900697, 405.1543112460512, 186.27714924896088, 304.5769347692747, 294.443571972444, 1357.3411031509768, 5897.748618809544, 3292.1288128701294, 1004.5235034898665, 1635.7873719692693, 9676.365539232323, 269.0798903662559, 3151.453563416978, 6533.005837739388, 1080.7921682371807, 1419.044933074585, 4037.926570043685, 4700.246288691206, 1470.2152667054165, 3679.075463478633, 1289.5499494599003, 1093.6928479833412, 570.2451211813117, 322.8865137760693, 290.2216383134181, 288.9790136284739, 1369.7123665648312, 214.68201907129804, 260.2975938135118, 116.9817467980928, 495.55967147403726, 103.5045361819794, 93.59440314988507, 81.82419119424378, 79.80544709404785, 78.7750033627488, 90.63350313046917, 76.0248117342056, 63.69781609230326, 62.4396517530259, 2746.5092518948386, 59.12133370709647, 61.99176165531252, 56.742731369267766, 68.59904273204826, 53.03572199996444, 52.29210383162945, 51.09250375898788, 49.0347458715468, 48.52577242777407, 90.49319363447518, 2250.4394844240996, 99.50728405932897, 905.9173395287283, 466.10676580742665, 404.50438336767934, 85.00137307362105, 1352.529483671724, 3701.750550795878, 633.984879176242, 396.26843365958075, 700.8519856784089, 6533.005837739388, 316.81322133032387, 1019.4854133182055, 688.2732554041356, 2764.0465358446745, 1357.3411031509768, 1441.1181209253202, 356.80321320461036, 1079.9417888336693, 7222.682073761654, 1414.214139900697, 3679.075463478633, 1235.3310492448193, 4037.926570043685, 31321.59224443574, 2812.781281278005, 1461.5786859655657, 876.9162797582967, 445.16205155716483, 258.7570284325671, 215.4257887290083, 175.1209767559875, 156.46996916198952, 153.68623552350752, 129.01076589545403, 116.12464787645318, 107.66308215208751, 99.21480030084597, 1337.7504566782843, 86.9224446379155, 82.69046152122093, 76.59708960854188, 85.27858809651099, 76.67379903615792, 73.96675622726532, 68.039232678367, 65.52952685618938, 91.03496598409754, 61.799247391182654, 60.028272139617805, 59.098233000888946, 59.052566563249734, 55.3969420481356, 54.271677272556445, 56.763499891502235, 166.2974882291585, 2905.4442950073935, 452.2979578258084, 173.77931165298693, 1267.8124492376742, 146.52836353146614, 2536.3998839821056, 360.07774736969145, 861.8179216210892, 697.689680432334, 208.22563764070335, 2507.5838717443266, 624.0493568356778, 1530.6796793235173, 550.4167166416912, 247.60388642632637, 516.9918522599746, 819.2319644894683, 1984.8005702234411, 4700.246288691206, 3171.3100623338655, 625.5129468454461, 1019.4854133182055, 475.7702435023518, 950.0155116665215, 1286.5926321084553, 5764.392744750378, 4778.034190773833, 9676.365539232323, 3151.453563416978, 5897.748618809544, 1903.0981946747047, 567.1007226745332, 846.5177795384511, 259.08685312461597, 136.02141548338446, 4690.427475341441, 1081.0107724189031, 96.95046107312552, 95.56396434961634, 89.07922934955707, 86.58299345691495, 78.46517891103304, 74.94705003311898, 73.65389474220466, 68.82446605594896, 64.41286687706747, 63.262856812552975, 63.24719234320062, 57.81275453605469, 57.26463088588803, 55.937090598861225, 71.86267996798149, 64.32153107231613, 48.6833547321798, 47.51022043893483, 43.69156935387321, 41.568046057303896, 40.88332781601006, 96.36144549069813, 61.75313550315957, 304.7725724524741, 170.3612327011342, 277.8572656006362, 83.03855288902264, 653.5165695974621, 500.69993822087355, 166.94742734156338, 263.9712394916569, 858.1457982314148, 1638.9010342582294, 782.9236186942334, 245.14794921585994, 712.0500398543886, 3219.40992797171, 1459.8171873949177, 271.3656400446361, 1488.9913250397672, 1247.343397823303, 281.3452925890854, 598.5477239738984, 767.477746046223, 918.2035762345254, 2994.41312669378, 3096.737997253403, 4037.926570043685, 590.3794243624263, 4700.246288691206, 1858.8109858606076, 925.7982252289547], \"Category\": [\"Default\", \"Default\", \"Default\", \"Default\", \"Default\", \"Default\", \"Default\", \"Default\", \"Default\", \"Default\", \"Default\", \"Default\", \"Default\", \"Default\", \"Default\", \"Default\", \"Default\", \"Default\", \"Default\", \"Default\", \"Default\", \"Default\", \"Default\", \"Default\", \"Default\", \"Default\", \"Default\", \"Default\", \"Default\", \"Default\", \"Topic1\", \"Topic1\", \"Topic1\", \"Topic1\", \"Topic1\", \"Topic1\", \"Topic1\", \"Topic1\", \"Topic1\", \"Topic1\", \"Topic1\", \"Topic1\", \"Topic1\", \"Topic1\", \"Topic1\", \"Topic1\", \"Topic1\", \"Topic1\", \"Topic1\", \"Topic1\", \"Topic1\", \"Topic1\", \"Topic1\", \"Topic1\", \"Topic1\", \"Topic1\", \"Topic1\", \"Topic1\", \"Topic1\", \"Topic1\", \"Topic1\", \"Topic1\", \"Topic1\", \"Topic1\", \"Topic1\", \"Topic1\", \"Topic1\", \"Topic1\", \"Topic1\", \"Topic1\", \"Topic1\", \"Topic1\", \"Topic1\", \"Topic1\", \"Topic1\", \"Topic1\", \"Topic1\", \"Topic1\", \"Topic1\", \"Topic1\", \"Topic1\", \"Topic1\", \"Topic1\", \"Topic1\", \"Topic1\", \"Topic1\", \"Topic1\", \"Topic1\", \"Topic1\", \"Topic1\", \"Topic1\", \"Topic1\", \"Topic1\", \"Topic2\", \"Topic2\", \"Topic2\", \"Topic2\", \"Topic2\", \"Topic2\", \"Topic2\", \"Topic2\", \"Topic2\", \"Topic2\", \"Topic2\", \"Topic2\", \"Topic2\", \"Topic2\", \"Topic2\", \"Topic2\", \"Topic2\", \"Topic2\", \"Topic2\", \"Topic2\", \"Topic2\", \"Topic2\", \"Topic2\", \"Topic2\", \"Topic2\", \"Topic2\", \"Topic2\", \"Topic2\", \"Topic2\", \"Topic2\", \"Topic2\", \"Topic2\", \"Topic2\", \"Topic2\", \"Topic2\", \"Topic2\", \"Topic2\", \"Topic2\", \"Topic2\", \"Topic2\", \"Topic2\", \"Topic2\", \"Topic2\", \"Topic2\", \"Topic2\", \"Topic2\", \"Topic2\", \"Topic2\", \"Topic2\", \"Topic2\", \"Topic2\", \"Topic2\", \"Topic2\", \"Topic2\", \"Topic2\", \"Topic2\", \"Topic2\", \"Topic2\", \"Topic2\", \"Topic2\", \"Topic2\", \"Topic2\", \"Topic2\", \"Topic2\", \"Topic2\", \"Topic2\", \"Topic2\", \"Topic2\", \"Topic2\", \"Topic2\", \"Topic2\", \"Topic2\", \"Topic3\", \"Topic3\", \"Topic3\", \"Topic3\", \"Topic3\", \"Topic3\", \"Topic3\", \"Topic3\", \"Topic3\", \"Topic3\", \"Topic3\", \"Topic3\", \"Topic3\", \"Topic3\", \"Topic3\", \"Topic3\", \"Topic3\", \"Topic3\", \"Topic3\", \"Topic3\", \"Topic3\", \"Topic3\", \"Topic3\", \"Topic3\", \"Topic3\", \"Topic3\", \"Topic3\", \"Topic3\", \"Topic3\", \"Topic3\", \"Topic3\", \"Topic3\", \"Topic3\", \"Topic3\", \"Topic3\", \"Topic3\", \"Topic3\", \"Topic3\", \"Topic3\", \"Topic3\", \"Topic3\", \"Topic3\", \"Topic3\", \"Topic3\", \"Topic3\", \"Topic3\", \"Topic3\", \"Topic3\", \"Topic3\", \"Topic3\", \"Topic3\", \"Topic3\", \"Topic3\", \"Topic3\", \"Topic3\", \"Topic3\", \"Topic3\", \"Topic3\", \"Topic3\", \"Topic3\", \"Topic3\", \"Topic3\", \"Topic3\", \"Topic3\", \"Topic3\", \"Topic3\", \"Topic4\", \"Topic4\", \"Topic4\", \"Topic4\", \"Topic4\", \"Topic4\", \"Topic4\", \"Topic4\", \"Topic4\", \"Topic4\", \"Topic4\", \"Topic4\", \"Topic4\", \"Topic4\", \"Topic4\", \"Topic4\", \"Topic4\", \"Topic4\", \"Topic4\", \"Topic4\", \"Topic4\", \"Topic4\", \"Topic4\", \"Topic4\", \"Topic4\", \"Topic4\", \"Topic4\", \"Topic4\", \"Topic4\", \"Topic4\", \"Topic4\", \"Topic4\", \"Topic4\", \"Topic4\", \"Topic4\", \"Topic4\", \"Topic4\", \"Topic4\", \"Topic4\", \"Topic4\", \"Topic4\", \"Topic4\", \"Topic4\", \"Topic4\", \"Topic4\", \"Topic4\", \"Topic4\", \"Topic4\", \"Topic4\", \"Topic4\", \"Topic4\", \"Topic4\", \"Topic4\", \"Topic4\", \"Topic4\", \"Topic4\", \"Topic4\", \"Topic4\", \"Topic4\", \"Topic4\", \"Topic4\", \"Topic4\", \"Topic4\", \"Topic4\", \"Topic4\", \"Topic4\", \"Topic4\", \"Topic4\", \"Topic4\", \"Topic4\", \"Topic4\", \"Topic4\", \"Topic5\", \"Topic5\", \"Topic5\", \"Topic5\", \"Topic5\", \"Topic5\", \"Topic5\", \"Topic5\", \"Topic5\", \"Topic5\", \"Topic5\", \"Topic5\", \"Topic5\", \"Topic5\", \"Topic5\", \"Topic5\", \"Topic5\", \"Topic5\", \"Topic5\", \"Topic5\", \"Topic5\", \"Topic5\", \"Topic5\", \"Topic5\", \"Topic5\", \"Topic5\", \"Topic5\", \"Topic5\", \"Topic5\", \"Topic5\", \"Topic5\", \"Topic5\", \"Topic5\", \"Topic5\", \"Topic5\", \"Topic5\", \"Topic5\", \"Topic5\", \"Topic5\", \"Topic5\", \"Topic5\", \"Topic5\", \"Topic5\", \"Topic5\", \"Topic5\", \"Topic5\", \"Topic5\", \"Topic5\", \"Topic5\", \"Topic5\", \"Topic5\", \"Topic5\", \"Topic5\", \"Topic5\", \"Topic5\", \"Topic5\", \"Topic5\", \"Topic5\", \"Topic5\", \"Topic5\", \"Topic5\", \"Topic5\", \"Topic5\", \"Topic5\", \"Topic5\", \"Topic6\", \"Topic6\", \"Topic6\", \"Topic6\", \"Topic6\", \"Topic6\", \"Topic6\", \"Topic6\", \"Topic6\", \"Topic6\", \"Topic6\", \"Topic6\", \"Topic6\", \"Topic6\", \"Topic6\", \"Topic6\", \"Topic6\", \"Topic6\", \"Topic6\", \"Topic6\", \"Topic6\", \"Topic6\", \"Topic6\", \"Topic6\", \"Topic6\", \"Topic6\", \"Topic6\", \"Topic6\", \"Topic6\", \"Topic6\", \"Topic6\", \"Topic6\", \"Topic6\", \"Topic6\", \"Topic6\", \"Topic6\", \"Topic6\", \"Topic6\", \"Topic6\", \"Topic6\", \"Topic6\", \"Topic6\", \"Topic6\", \"Topic6\", \"Topic6\", \"Topic6\", \"Topic6\", \"Topic6\", \"Topic6\", \"Topic6\", \"Topic6\", \"Topic6\", \"Topic6\", \"Topic6\", \"Topic6\", \"Topic6\", \"Topic6\", \"Topic6\", \"Topic7\", \"Topic7\", \"Topic7\", \"Topic7\", \"Topic7\", \"Topic7\", \"Topic7\", \"Topic7\", \"Topic7\", \"Topic7\", \"Topic7\", \"Topic7\", \"Topic7\", \"Topic7\", \"Topic7\", \"Topic7\", \"Topic7\", \"Topic7\", \"Topic7\", \"Topic7\", \"Topic7\", \"Topic7\", \"Topic7\", \"Topic7\", \"Topic7\", \"Topic7\", \"Topic7\", \"Topic7\", \"Topic7\", \"Topic7\", \"Topic7\", \"Topic7\", \"Topic7\", \"Topic7\", \"Topic7\", \"Topic7\", \"Topic7\", \"Topic7\", \"Topic7\", \"Topic7\", \"Topic7\", \"Topic7\", \"Topic7\", \"Topic7\", \"Topic7\", \"Topic7\", \"Topic7\", \"Topic7\", \"Topic7\", \"Topic7\", \"Topic7\", \"Topic7\", \"Topic7\", \"Topic7\", \"Topic7\", \"Topic7\", \"Topic7\", \"Topic7\", \"Topic7\", \"Topic7\", \"Topic8\", \"Topic8\", \"Topic8\", \"Topic8\", \"Topic8\", \"Topic8\", \"Topic8\", \"Topic8\", \"Topic8\", \"Topic8\", \"Topic8\", \"Topic8\", \"Topic8\", \"Topic8\", \"Topic8\", \"Topic8\", \"Topic8\", \"Topic8\", \"Topic8\", \"Topic8\", \"Topic8\", \"Topic8\", \"Topic8\", \"Topic8\", \"Topic8\", \"Topic8\", \"Topic8\", \"Topic8\", \"Topic8\", \"Topic8\", \"Topic8\", \"Topic8\", \"Topic8\", \"Topic8\", \"Topic8\", \"Topic8\", \"Topic8\", \"Topic8\", \"Topic8\", \"Topic8\", \"Topic8\", \"Topic8\", \"Topic8\", \"Topic8\", \"Topic8\", \"Topic8\", \"Topic8\", \"Topic8\", \"Topic8\", \"Topic8\", \"Topic8\", \"Topic8\", \"Topic8\", \"Topic8\", \"Topic8\", \"Topic8\", \"Topic8\", \"Topic9\", \"Topic9\", \"Topic9\", \"Topic9\", \"Topic9\", \"Topic9\", \"Topic9\", \"Topic9\", \"Topic9\", \"Topic9\", \"Topic9\", \"Topic9\", \"Topic9\", \"Topic9\", \"Topic9\", \"Topic9\", \"Topic9\", \"Topic9\", \"Topic9\", \"Topic9\", \"Topic9\", \"Topic9\", \"Topic9\", \"Topic9\", \"Topic9\", \"Topic9\", \"Topic9\", \"Topic9\", \"Topic9\", \"Topic9\", \"Topic9\", \"Topic9\", \"Topic9\", \"Topic9\", \"Topic9\", \"Topic9\", \"Topic9\", \"Topic9\", \"Topic9\", \"Topic9\", \"Topic9\", \"Topic9\", \"Topic9\", \"Topic9\", \"Topic9\", \"Topic9\", \"Topic9\", \"Topic9\", \"Topic9\", \"Topic9\", \"Topic9\", \"Topic9\", \"Topic9\", \"Topic9\", \"Topic9\", \"Topic9\", \"Topic9\", \"Topic9\", \"Topic9\", \"Topic9\", \"Topic9\", \"Topic10\", \"Topic10\", \"Topic10\", \"Topic10\", \"Topic10\", \"Topic10\", \"Topic10\", \"Topic10\", \"Topic10\", \"Topic10\", \"Topic10\", \"Topic10\", \"Topic10\", \"Topic10\", \"Topic10\", \"Topic10\", \"Topic10\", \"Topic10\", \"Topic10\", \"Topic10\", \"Topic10\", \"Topic10\", \"Topic10\", \"Topic10\", \"Topic10\", \"Topic10\", \"Topic10\", \"Topic10\", \"Topic10\", \"Topic10\", \"Topic10\", \"Topic10\", \"Topic10\", \"Topic10\", \"Topic10\", \"Topic10\", \"Topic10\", \"Topic10\", \"Topic10\", \"Topic10\", \"Topic10\", \"Topic10\", \"Topic10\", \"Topic10\", \"Topic10\", \"Topic10\", \"Topic10\", \"Topic10\", \"Topic10\", \"Topic10\", \"Topic10\", \"Topic10\", \"Topic10\", \"Topic10\", \"Topic10\", \"Topic10\", \"Topic10\", \"Topic10\", \"Topic10\"], \"logprob\": [30.0, 29.0, 28.0, 27.0, 26.0, 25.0, 24.0, 23.0, 22.0, 21.0, 20.0, 19.0, 18.0, 17.0, 16.0, 15.0, 14.0, 13.0, 12.0, 11.0, 10.0, 9.0, 8.0, 7.0, 6.0, 5.0, 4.0, 3.0, 2.0, 1.0, -4.4304, -4.5497, -2.6454, -5.5044, -5.9004, -6.0963, -5.383, -6.6559, -6.7127, -5.9998, -6.8055, -6.7962, -6.7735, -6.7342, -6.8921, -7.0343, -6.1602, -6.3335, -7.1543, -7.1677, -7.356, -7.3315, -6.6568, -7.5753, -7.5989, -7.7221, -7.738, -7.7406, -7.7472, -7.7857, -3.2212, -6.0788, -6.0367, -3.9099, -5.8242, -1.4091, -6.6629, -4.7576, -5.0734, -6.0844, -3.8724, -5.9561, -5.7983, -4.6879, -4.188, -4.8633, -5.9862, -5.1338, -5.344, -4.8691, -4.6437, -5.1812, -4.9346, -5.1983, -5.4104, -5.0829, -5.1722, -5.3585, -5.3599, -5.3454, -5.3798, -5.4028, -5.4471, -5.1213, -6.1785, -4.0743, -6.2726, -6.3738, -6.4647, -6.4785, -6.5031, -6.6247, -6.7537, -6.6037, -6.8402, -5.4742, -7.0237, -7.1107, -7.0905, -7.1999, -5.3467, -7.3196, -7.3326, -3.5596, -7.3614, -7.3694, -7.4331, -7.4439, -7.4632, -7.4711, -7.5063, -6.9805, -7.558, -6.2791, -6.8953, -5.7255, -6.2827, -7.1306, -6.3904, -6.885, -5.7126, -5.7168, -4.043, -5.7709, -6.4119, -4.5302, -6.559, -6.0466, -5.0371, -6.143, -4.3055, -4.4714, -3.1936, -4.2646, -4.6921, -3.9979, -5.5742, -6.0214, -4.607, -4.5859, -4.9227, -5.2878, -4.4114, -5.0274, -4.9822, -5.1212, -5.4574, -4.9431, -5.2055, -5.0294, -5.2413, -5.2236, -5.0346, -5.4129, -5.4499, -3.931, -4.7294, -4.7719, -4.4257, -5.1261, -5.3619, -5.4759, -5.6511, -5.7616, -6.032, -6.0679, -6.2474, -3.3477, -5.8933, -6.1693, -6.5654, -6.8122, -6.8708, -4.1989, -6.8946, -6.8671, -6.8671, -6.8671, -6.1427, -6.9566, -6.9617, -6.9243, -6.9858, -6.098, -7.1491, -6.9569, -4.837, -6.4294, -4.7327, -6.6818, -6.349, -4.6828, -3.4746, -6.3514, -5.3476, -5.7822, -6.2536, -6.0771, -5.0802, -5.6694, -5.842, -3.5342, -4.4057, -5.7979, -5.3024, -5.1403, -5.6127, -5.2712, -4.4418, -4.1003, -5.0848, -4.8498, -4.7956, -4.9304, -5.2419, -5.3034, -5.3929, -5.0688, -5.2934, -5.2281, -5.3618, -4.1392, -5.0043, -5.3995, -5.4301, -5.7315, -6.4557, -6.7583, -6.7455, -6.856, -7.077, -7.1043, -7.1738, -1.875, -7.3252, -4.5217, -7.2059, -7.3538, -7.1964, -7.4247, -7.4624, -7.3867, -7.495, -7.5201, -7.5362, -7.5394, -7.5405, -7.5383, -7.5685, -7.5042, -7.6116, -3.9096, -5.1498, -3.0428, -6.6052, -7.3566, -7.2944, -6.5279, -5.9952, -6.5425, -5.4298, -6.5962, -6.7169, -5.5466, -6.2012, -4.3427, -3.618, -5.7722, -6.5292, -3.5356, -4.1661, -4.4075, -5.8232, -5.6637, -3.7948, -5.1202, -5.6246, -5.4833, -4.3424, -5.8339, -5.7773, -4.2741, -5.0786, -5.1176, -4.395, -5.0578, -4.2232, -4.8077, -5.093, -5.3565, -5.3926, -5.4268, -5.4787, -4.6818, -5.5153, -5.6173, -5.6954, -5.7608, -5.9114, -5.4377, -5.3014, -5.8225, -6.0113, -6.597, -6.7816, -6.7951, -6.817, -5.548, -6.9062, -6.9551, -6.9782, -7.0128, -5.9739, -6.9845, -7.0797, -7.2027, -7.2464, -6.9582, -7.3994, -7.4195, -7.436, -7.4431, -7.4333, -4.3392, -4.6625, -6.5861, -6.8879, -2.7972, -5.4319, -5.7381, -4.8753, -4.2585, -5.4695, -6.0944, -3.3957, -6.3677, -5.0285, -5.2973, -5.995, -3.7794, -5.0757, -4.3072, -5.4846, -4.8929, -5.5059, -5.278, -4.7723, -3.9855, -4.1525, -5.2964, -4.8693, -4.7416, -4.8728, -5.02, -5.0349, -5.4568, -5.4386, -5.4518, -1.5153, -4.1257, -4.3904, -4.3974, -5.0356, -5.0374, -5.3714, -5.4315, -5.6782, -5.7762, -5.8921, -6.5599, -6.3578, -6.8291, -6.2048, -6.1806, -7.0976, -7.1003, -6.8055, -7.1571, -7.1828, -7.2269, -7.2347, -7.2414, -6.7477, -7.2964, -7.0637, -7.3708, -7.4055, -7.4009, -3.6628, -4.9885, -5.2159, -6.0776, -4.5065, -5.1847, -3.4922, -5.3035, -2.8038, -4.8532, -6.2968, -5.6309, -2.938, -5.4434, -4.9268, -3.706, -4.2845, -5.5624, -5.0551, -5.6262, -4.359, -4.3361, -4.5788, -4.3564, -5.045, -5.049, -5.1781, -5.0565, -5.1119, -5.0399, -5.4607, -5.552, -5.6201, -5.7409, -5.8425, -5.953, -6.046, -5.9081, -6.0819, -2.3649, -6.3503, -6.4785, -6.5005, -5.236, -6.5039, -5.5393, -6.5336, -4.7866, -6.6075, -6.6248, -6.6706, -6.6856, -6.7281, -6.7686, -6.7905, -6.836, -6.9148, -7.0194, -6.0804, -4.4251, -4.2087, -5.629, -5.919, -3.3135, -3.7951, -5.3187, -5.453, -5.322, -4.2051, -5.3416, -5.9783, -5.6216, -5.6558, -4.6404, -3.6688, -4.1674, -4.9431, -4.6988, -3.8803, -5.7285, -4.7894, -4.6156, -5.3123, -5.2502, -5.1285, -5.2218, -5.4045, -5.3554, -3.8598, -4.0247, -4.6766, -5.2463, -5.3532, -5.3575, -3.8016, -5.6556, -5.4658, -6.2657, -4.8228, -6.389, -6.4904, -6.626, -6.6512, -6.6643, -6.5241, -6.7002, -6.879, -6.8994, -3.116, -6.9545, -6.9073, -6.9962, -6.8068, -7.0646, -7.079, -7.1025, -7.1442, -7.1548, -6.5408, -3.4246, -6.451, -4.3092, -5.0202, -5.1623, -6.6249, -4.1556, -3.3392, -4.887, -5.295, -4.8742, -3.0483, -5.5347, -4.5977, -4.9375, -3.8801, -4.431, -4.3903, -5.4713, -5.003, -4.1316, -5.0226, -4.7381, -5.2596, -5.0856, -4.9025, -3.0606, -3.7156, -4.2274, -4.9055, -5.4493, -5.6332, -5.8411, -5.9543, -5.9723, -6.1482, -6.2541, -6.3303, -6.4126, -3.8112, -6.546, -6.5963, -6.6736, -6.5666, -6.6734, -6.7094, -6.7933, -6.8313, -6.5027, -6.8907, -6.9202, -6.9359, -6.9368, -7.0014, -7.0223, -6.9785, -5.9052, -3.0755, -4.9246, -5.8738, -3.9515, -6.0566, -3.3952, -5.259, -4.6067, -4.7884, -5.8515, -3.958, -5.1142, -4.4701, -5.2258, -5.8514, -5.4075, -5.1688, -4.6785, -4.2126, -4.5808, -5.3819, -5.2165, -5.5228, -5.2893, -5.2205, -4.8198, -4.9183, -4.8263, -5.2314, -5.1576, -3.3576, -4.5692, -4.169, -5.3542, -6.0012, -2.4619, -3.9303, -6.342, -6.3565, -6.4274, -6.456, -6.5554, -6.6017, -6.6195, -6.6878, -6.7548, -6.773, -6.7733, -6.8643, -6.8739, -6.8977, -6.6482, -6.7596, -7.0388, -7.0634, -7.1486, -7.1993, -7.2162, -6.3591, -6.8041, -5.2156, -5.8028, -5.33, -6.5183, -4.5425, -4.8101, -5.8779, -5.4545, -4.4257, -3.8543, -4.5217, -5.6425, -4.8002, -3.6285, -4.2543, -5.6035, -4.3688, -4.5108, -5.7582, -5.3139, -5.2489, -5.1921, -4.6819, -4.7082, -4.694, -5.5511, -5.0761, -5.3545, -5.5285], \"loglift\": [30.0, 29.0, 28.0, 27.0, 26.0, 25.0, 24.0, 23.0, 22.0, 21.0, 20.0, 19.0, 18.0, 17.0, 16.0, 15.0, 14.0, 13.0, 12.0, 11.0, 10.0, 9.0, 8.0, 7.0, 6.0, 5.0, 4.0, 3.0, 2.0, 1.0, 1.8834, 1.8833, 1.8825, 1.8823, 1.8815, 1.8809, 1.8804, 1.8786, 1.8783, 1.8781, 1.8778, 1.8778, 1.8778, 1.8777, 1.8769, 1.8762, 1.8759, 1.8753, 1.8752, 1.8751, 1.8733, 1.8726, 1.8714, 1.8704, 1.8699, 1.8686, 1.8683, 1.8683, 1.8678, 1.8675, 1.863, 1.8673, 1.866, 1.8382, 1.8496, 1.7724, 1.8287, 1.7167, 1.7221, 1.7701, 1.5221, 1.6532, 1.5854, 1.0444, 0.6632, 0.9488, 1.3961, 0.7195, 0.8562, 0.4853, 0.0049, 0.4951, -0.0605, 0.2734, 0.5955, -0.0047, 0.0579, 0.3766, 0.2405, -0.2604, -0.1909, -0.341, -0.6981, 1.9174, 1.9153, 1.915, 1.9147, 1.9146, 1.9142, 1.9141, 1.9141, 1.9135, 1.9128, 1.9126, 1.9123, 1.9118, 1.911, 1.9104, 1.9101, 1.9096, 1.9089, 1.9085, 1.9083, 1.9083, 1.908, 1.908, 1.9073, 1.9071, 1.9069, 1.9068, 1.9064, 1.9063, 1.9058, 1.8978, 1.9037, 1.889, 1.8887, 1.9009, 1.8837, 1.8943, 1.8577, 1.8311, 1.7187, 1.8008, 1.8485, 1.6598, 1.8582, 1.7908, 1.6346, 1.792, 1.4887, 1.5033, 1.1626, 1.3357, 1.4184, 1.191, 1.5676, 1.717, 1.0694, 0.8921, 0.9728, 1.1987, 0.3376, 0.8259, 0.7528, 0.7066, 1.0269, 0.287, 0.6066, 0.0325, 0.2154, -0.1454, -1.853, -0.0897, -0.5986, 2.2896, 2.2894, 2.2894, 2.289, 2.2889, 2.2884, 2.2882, 2.2877, 2.2872, 2.2865, 2.2863, 2.2855, 2.2852, 2.285, 2.2849, 2.2836, 2.2817, 2.2811, 2.2809, 2.2808, 2.2807, 2.2807, 2.2807, 2.2805, 2.2803, 2.2802, 2.2802, 2.28, 2.2798, 2.2781, 2.2777, 2.2216, 2.2661, 2.1936, 2.2708, 2.2289, 2.0173, 1.8538, 2.2061, 2.052, 2.093, 2.1642, 2.1244, 1.8666, 2.0137, 2.0558, 1.3399, 1.4806, 2.0063, 1.7642, 1.6127, 1.8502, 1.5276, 0.6364, 0.2558, 1.1911, 0.6219, 0.5276, 0.2997, 0.8608, 0.937, 1.1106, -0.3198, 0.6469, -0.3768, 0.7861, 2.3345, 2.3336, 2.3328, 2.3286, 2.3282, 2.3264, 2.326, 2.3255, 2.325, 2.3225, 2.3222, 2.3213, 2.3198, 2.319, 2.3187, 2.3187, 2.3185, 2.317, 2.317, 2.3167, 2.3164, 2.316, 2.3156, 2.3153, 2.3152, 2.3152, 2.3148, 2.3146, 2.3138, 2.3136, 2.281, 2.271, 2.216, 2.293, 2.3104, 2.308, 2.2825, 2.2442, 2.2671, 2.1858, 2.2607, 2.2663, 2.1164, 2.1883, 1.9614, 1.8163, 2.0785, 2.2018, 1.5494, 1.6741, 1.669, 2.0064, 1.9478, 1.267, 1.595, 1.7749, 1.6481, 0.9808, 1.8312, 1.7536, 0.5454, 1.1178, 1.0913, 0.2536, 0.5513, -1.0416, 0.0436, -0.7369, 0.3785, 0.4608, 0.2797, -0.007, 2.3341, 2.333, 2.3327, 2.3325, 2.3322, 2.3317, 2.3317, 2.3303, 2.3293, 2.3291, 2.328, 2.3265, 2.3263, 2.3261, 2.3256, 2.3253, 2.3248, 2.3245, 2.3241, 2.3236, 2.3235, 2.3228, 2.3218, 2.3204, 2.3204, 2.3186, 2.3184, 2.3182, 2.3178, 2.3176, 2.3078, 2.3008, 2.3174, 2.3135, 2.2458, 2.2921, 2.249, 2.1902, 2.1147, 2.2023, 2.2356, 1.9587, 2.2616, 2.0811, 2.0867, 2.1737, 1.7497, 1.9779, 1.7823, 2.0571, 1.9113, 2.0286, 1.9584, 1.6491, 0.8886, 0.9093, 1.5633, 0.8373, 0.4473, 0.5989, 0.8078, 0.2822, 1.6778, 1.19, -0.3736, 2.4162, 2.4158, 2.4156, 2.4156, 2.4145, 2.4145, 2.4139, 2.4139, 2.413, 2.4126, 2.4123, 2.4083, 2.4063, 2.4058, 2.4055, 2.4041, 2.4025, 2.4024, 2.4018, 2.4016, 2.4012, 2.4005, 2.4004, 2.4003, 2.3997, 2.3994, 2.3991, 2.3981, 2.3974, 2.3973, 2.3835, 2.3961, 2.3933, 2.384, 2.302, 2.2914, 2.1732, 2.2874, 2.0157, 2.1927, 2.3214, 2.2361, 1.7106, 2.1205, 1.9773, 1.379, 1.5558, 2.0462, 1.7689, 2.0653, 1.2502, 1.0585, 1.0215, -0.0003, 1.0576, -0.1748, -0.3268, -1.8749, 2.4734, 2.4733, 2.4725, 2.4723, 2.472, 2.4716, 2.4712, 2.4708, 2.4703, 2.4702, 2.47, 2.4696, 2.4685, 2.4676, 2.4674, 2.4674, 2.4674, 2.4673, 2.4671, 2.4669, 2.4665, 2.4663, 2.4659, 2.4658, 2.4654, 2.465, 2.4646, 2.4643, 2.4634, 2.462, 2.4614, 2.4339, 2.4278, 2.4022, 2.4047, 2.182, 2.1932, 2.3289, 2.3184, 2.264, 2.0741, 2.1877, 2.328, 2.1931, 2.1927, 1.6799, 1.1825, 1.267, 1.6782, 1.4349, 0.4758, 2.2101, 0.6885, 0.1333, 1.2358, 1.0256, 0.1016, -0.1436, 0.8359, -0.0322, 2.5117, 2.5116, 2.5109, 2.51, 2.5097, 2.5097, 2.5097, 2.5088, 2.506, 2.5058, 2.5051, 2.505, 2.5042, 2.503, 2.5028, 2.5027, 2.5027, 2.5024, 2.5004, 2.5, 2.4995, 2.4995, 2.4993, 2.4989, 2.4985, 2.498, 2.4978, 2.4975, 2.4968, 2.4967, 2.4876, 2.3901, 2.4823, 2.4154, 2.369, 2.3686, 2.466, 2.1682, 1.9778, 2.1946, 2.2565, 2.1071, 1.7007, 2.2406, 2.0088, 2.0619, 1.729, 1.8894, 1.8701, 2.1851, 1.5459, 0.5171, 1.2567, 0.5851, 1.1549, 0.1445, -1.721, 2.531, 2.5308, 2.5298, 2.5296, 2.5284, 2.5278, 2.527, 2.5265, 2.5264, 2.5255, 2.5248, 2.5243, 2.5237, 2.5236, 2.5226, 2.5222, 2.5214, 2.521, 2.5206, 2.5206, 2.5202, 2.5198, 2.5197, 2.5191, 2.5186, 2.5185, 2.5183, 2.5176, 2.5173, 2.5162, 2.5147, 2.4837, 2.4946, 2.502, 2.437, 2.4898, 2.2999, 2.3883, 2.1679, 2.1975, 2.3435, 1.7485, 1.9832, 1.73, 1.9971, 2.1704, 1.8781, 1.6565, 1.2618, 0.8656, 0.8909, 1.7132, 1.39, 1.8458, 1.3879, 1.1534, 0.0543, 0.1435, -0.4702, 0.2466, -0.3064, 2.6247, 2.6238, 2.6235, 2.6222, 2.6196, 2.6184, 2.6176, 2.6174, 2.6173, 2.6167, 2.6165, 2.6156, 2.6151, 2.6147, 2.6142, 2.6134, 2.6133, 2.6133, 2.6121, 2.612, 2.6117, 2.6106, 2.6101, 2.6094, 2.6092, 2.6079, 2.607, 2.6067, 2.6064, 2.6063, 2.5985, 2.5929, 2.5764, 2.596, 2.5087, 2.5075, 2.538, 2.5033, 2.3531, 2.2775, 2.3489, 2.3892, 2.1652, 1.8281, 1.9933, 2.3266, 1.8589, 1.894, 2.1358, 1.8252, 1.6416, 1.5191, 0.8472, 0.7873, 0.5361, 1.6017, 0.0022, 0.6514, 1.1744]}, \"token.table\": {\"Topic\": [1, 2, 3, 4, 5, 10, 4, 1, 2, 4, 5, 7, 8, 1, 2, 3, 4, 5, 6, 8, 9, 1, 2, 1, 2, 4, 5, 6, 10, 7, 9, 10, 3, 2, 2, 3, 4, 5, 6, 8, 9, 10, 1, 2, 4, 5, 10, 10, 3, 6, 1, 2, 3, 4, 5, 6, 7, 8, 10, 1, 2, 5, 8, 10, 2, 7, 7, 2, 5, 7, 9, 10, 1, 2, 3, 4, 5, 6, 7, 8, 9, 10, 7, 1, 4, 6, 8, 9, 2, 2, 3, 8, 1, 2, 3, 4, 5, 6, 7, 8, 9, 10, 2, 1, 2, 3, 4, 5, 6, 7, 8, 9, 10, 7, 1, 2, 3, 4, 8, 5, 9, 2, 3, 4, 6, 9, 1, 2, 3, 4, 8, 8, 3, 5, 9, 1, 2, 4, 5, 7, 9, 10, 2, 4, 3, 7, 9, 10, 2, 7, 1, 2, 3, 4, 6, 7, 8, 9, 10, 9, 1, 9, 5, 3, 6, 1, 2, 3, 4, 5, 6, 7, 8, 9, 10, 1, 2, 3, 4, 5, 6, 7, 8, 9, 10, 1, 2, 4, 10, 7, 1, 2, 3, 4, 6, 7, 8, 10, 1, 2, 3, 6, 7, 8, 9, 10, 4, 3, 4, 1, 3, 1, 3, 4, 5, 6, 7, 9, 10, 2, 4, 1, 10, 1, 2, 3, 4, 5, 6, 7, 8, 9, 10, 8, 1, 2, 3, 4, 5, 6, 7, 8, 9, 10, 3, 6, 9, 3, 1, 2, 1, 2, 5, 6, 7, 8, 9, 10, 5, 3, 4, 4, 6, 10, 1, 6, 2, 7, 9, 10, 5, 8, 1, 2, 6, 9, 3, 4, 1, 2, 3, 4, 5, 6, 7, 8, 1, 2, 6, 7, 1, 2, 3, 4, 5, 6, 7, 8, 9, 10, 2, 4, 2, 10, 7, 10, 9, 1, 2, 3, 5, 6, 7, 8, 9, 10, 1, 3, 4, 1, 6, 4, 1, 3, 4, 6, 7, 8, 10, 6, 1, 1, 2, 4, 10, 6, 7, 1, 2, 3, 5, 8, 9, 6, 3, 5, 1, 2, 3, 4, 6, 9, 7, 7, 2, 5, 10, 5, 8, 1, 2, 3, 4, 5, 6, 7, 8, 9, 10, 5, 6, 2, 4, 6, 8, 9, 6, 1, 2, 3, 4, 5, 6, 7, 8, 9, 10, 1, 3, 4, 5, 10, 1, 2, 6, 1, 10, 3, 1, 3, 5, 6, 7, 8, 1, 10, 1, 2, 4, 5, 6, 3, 6, 3, 8, 10, 6, 8, 1, 2, 3, 4, 5, 6, 7, 8, 9, 10, 8, 1, 3, 6, 8, 4, 1, 2, 3, 4, 5, 6, 7, 8, 10, 4, 1, 2, 3, 5, 6, 8, 9, 10, 1, 3, 5, 6, 7, 3, 6, 8, 7, 6, 1, 1, 2, 3, 4, 5, 6, 7, 8, 9, 10, 1, 1, 3, 5, 6, 1, 2, 3, 4, 5, 6, 7, 8, 9, 4, 10, 5, 10, 9, 10, 5, 1, 3, 5, 10, 1, 9, 1, 8, 10, 3, 7, 8, 10, 1, 7, 1, 4, 5, 6, 7, 8, 9, 4, 10, 8, 1, 2, 4, 6, 7, 8, 9, 10, 3, 6, 7, 9, 8, 8, 1, 2, 3, 4, 5, 7, 8, 9, 10, 5, 7, 7, 1, 2, 3, 5, 6, 8, 9, 10, 1, 2, 3, 4, 1, 2, 3, 5, 6, 7, 8, 9, 10, 1, 6, 7, 8, 9, 10, 1, 7, 1, 2, 3, 4, 5, 6, 7, 8, 9, 10, 1, 3, 4, 10, 1, 2, 3, 5, 6, 9, 10, 3, 1, 1, 2, 3, 4, 5, 6, 7, 8, 9, 10, 6, 1, 9, 8, 5, 1, 2, 3, 4, 5, 7, 8, 9, 10, 9, 8, 2, 10, 1, 9, 1, 2, 3, 4, 5, 6, 7, 8, 9, 10, 1, 2, 3, 4, 5, 6, 7, 8, 9, 10, 1, 2, 3, 4, 5, 6, 7, 8, 9, 10, 6, 8, 10, 2, 4, 6, 7, 1, 2, 3, 4, 5, 6, 7, 8, 9, 10, 7, 8, 10, 6, 5, 8, 9, 1, 2, 3, 4, 5, 6, 7, 8, 9, 10, 3, 6, 7, 1, 1, 2, 3, 4, 5, 6, 7, 8, 9, 10, 1, 6, 7, 1, 2, 3, 4, 5, 6, 7, 8, 9, 10, 5, 3, 1, 2, 3, 4, 5, 6, 7, 8, 9, 10, 1, 5, 10, 1, 2, 6, 9, 5, 6, 1, 5, 9, 1, 2, 3, 4, 5, 6, 7, 8, 9, 10, 5, 2, 3, 4, 8, 9, 10, 8, 2, 5, 7, 8, 9, 10, 2, 3, 5, 7, 8, 9, 2, 3, 4, 5, 6, 7, 9, 10, 7, 3, 1, 4, 6, 7, 8, 9, 10, 7, 3, 1, 1, 8, 1, 10, 1, 6, 9, 4, 1, 6, 5, 4, 1, 2, 4, 7, 3, 4, 10, 2, 10, 1, 2, 5, 1, 2, 3, 4, 5, 6, 7, 8, 10, 2, 3, 5, 6, 9, 10, 8, 1, 2, 3, 4, 5, 6, 7, 8, 9, 10, 2, 5, 7, 9, 10, 1, 2, 3, 4, 5, 6, 7, 8, 9, 10, 1, 1, 2, 8, 9, 10, 6, 1, 2, 3, 4, 5, 6, 7, 8, 9, 10, 1, 2, 3, 4, 5, 6, 7, 8, 9, 10, 2, 4, 1, 2, 3, 4, 5, 6, 7, 8, 9, 10, 1, 1, 2, 3, 4, 5, 6, 7, 8, 9, 10, 9, 1, 3, 4, 5, 6, 7, 8, 9, 1, 2, 3, 4, 5, 6, 7, 8, 9, 10, 1, 2, 3, 4, 5, 6, 8, 9, 10, 1, 2, 3, 4, 5, 6, 7, 8, 9, 10, 4, 7, 1, 2, 3, 4, 5, 6, 7, 8, 9, 10, 10, 1, 2, 6, 8, 9, 10, 1, 2, 3, 4, 5, 6, 7, 8, 9, 10, 3, 5, 10, 10, 5, 10, 9, 7, 1, 2, 3, 4, 5, 6, 7, 8, 9, 10, 8, 1, 7, 8, 9, 7, 2, 4, 1, 5, 1, 2, 3, 4, 5, 6, 7, 8, 9, 10, 4, 2, 1, 2, 3, 4, 5, 6, 7, 8, 9, 10, 4, 10, 1, 8, 1, 2, 3, 4, 8, 9, 1, 6, 1, 1, 2, 8, 7, 1, 2, 3, 4, 5, 7, 8, 9, 10, 2, 4, 1, 3, 10, 7, 10, 1, 2, 3, 4, 7, 8, 9, 10, 6, 1, 2, 3, 5, 6, 7, 8, 9, 10, 2, 3, 4, 5, 6, 7, 9, 2, 6, 10, 2, 4, 5, 7, 8, 9, 10, 2, 3, 4, 6, 7, 8, 9, 10, 4, 8, 2, 3, 7, 8, 9, 1, 4, 9, 4, 1, 2, 4, 5, 7, 10, 1, 2, 3, 4, 5, 6, 7, 8, 9, 10, 3, 4, 9, 8, 10, 6, 1, 3, 5, 6, 8, 9, 10, 9, 1, 2, 3, 4, 5, 6, 7, 8, 9, 10, 2, 1, 6, 9, 7, 10, 1, 1, 4, 5, 4, 9, 2, 8, 2, 1, 4, 9, 10, 5, 3, 2, 3, 5, 7, 10, 10, 10, 1, 3, 4, 5, 6, 7, 8, 9, 10, 9, 5, 6, 8, 1, 2, 3, 4, 5, 7, 8, 9, 10, 6, 1, 3, 2, 3, 5, 6, 9, 10, 1, 2, 3, 4, 5, 6, 7, 8, 9, 10, 5, 7, 4, 1, 2, 3, 4, 5, 6, 7, 8, 9, 10, 2, 4, 8, 5, 8, 1, 2, 3, 4, 5, 6, 7, 8, 10, 3, 8, 2, 6, 9, 1, 2, 3, 4, 5, 6, 7, 8, 9, 10, 2, 3, 5, 3, 7, 8, 9, 3, 8, 6, 1, 2, 1, 2, 4, 5, 7, 8, 9, 10, 1, 2, 1, 2, 9, 1, 2, 3, 4, 5, 6, 7, 8, 9, 10, 9, 2, 2, 4, 8, 3, 6, 10, 1, 2, 3, 4, 5, 6, 7, 8, 9, 10, 1, 2, 3, 4, 5, 6, 7, 8, 9, 10, 1, 2, 4, 5, 6, 7, 9, 10, 5, 6, 7, 6, 7, 2, 3, 4, 5, 8, 9, 10, 2, 5, 7, 8, 10, 1, 2, 3, 4, 5, 7, 8, 9, 10, 9, 1, 4, 5, 6, 7, 8, 9, 1, 2, 3, 4, 5, 6, 7, 8, 9, 10, 8, 5, 6, 8, 6, 8, 10, 1, 2, 3, 4, 5, 6, 7, 8, 9, 10, 3, 4, 3, 3, 3, 6, 1, 3, 6, 7, 8, 9, 1, 2, 4, 5, 6, 7, 8, 9, 6, 8, 3, 5, 3, 6, 10, 2, 10, 4, 10, 1, 2, 3, 4, 5, 6, 7, 8, 9, 10, 6, 10, 4, 8, 10, 2, 4, 5, 6, 8, 10, 5, 5, 10, 1, 3, 6, 9, 1, 4, 1, 2, 3, 4, 5, 6, 7, 8, 9, 10, 4, 1, 2, 10, 7, 4, 7, 8, 10, 1, 2, 4, 6, 7, 8, 9, 10, 1, 2, 3, 5, 6, 7, 8, 9, 10, 6, 9, 2, 2, 4, 5, 6, 8, 9, 10, 2, 3, 4, 5, 7, 10, 10, 9, 7, 1, 2, 3, 4, 5, 6, 7, 8, 9, 10, 1, 3, 7, 10, 1, 8, 10, 2, 7, 10, 2, 3, 7, 8, 9, 10, 8, 3, 9, 6, 7, 5, 2, 3, 4, 5, 6, 9, 2, 1, 2, 3, 4, 5, 6, 7, 8, 9, 10, 1, 2, 4, 5, 6, 7, 8, 9, 10, 1, 2, 3, 4, 5, 6, 7, 8, 9, 10, 6, 1, 2, 3, 4, 5, 6, 7, 8, 9, 8, 4, 2, 4, 5, 8, 8, 2, 7, 1, 2, 5, 7, 1, 2, 3, 4, 5, 6, 7, 8, 9, 10, 1, 2, 3, 4, 5, 6, 7, 8, 9, 10, 2, 1, 2, 3, 4, 5, 6, 7, 8, 9, 10, 1, 4, 5, 8, 1, 2, 4, 5, 9, 1, 2, 3, 5, 6, 7, 10, 4, 1, 2, 3, 4, 5, 6, 7, 8, 9, 10, 1, 2, 3, 4, 5, 6, 7, 8, 9, 10, 1, 6, 7, 10, 1, 2, 3, 4, 5, 6, 7, 8, 9, 10, 9, 9, 4, 8, 2, 3, 4, 5, 6, 7, 8, 5, 2, 5, 7, 9, 7, 2, 9, 3, 4, 6, 9, 10, 1, 2, 3, 4, 5, 6, 7, 8, 9, 10, 3, 4, 2, 3, 4, 6, 10, 2, 4, 6, 3, 2, 4, 8, 9, 10, 1, 2, 5, 6, 7, 8, 7, 1, 2, 6, 7, 8, 9, 8, 9, 3, 1, 2, 3, 4, 6, 7, 8, 6, 8, 1, 2, 1, 5, 2, 2, 9, 6, 1, 2, 3, 4, 5, 6, 7, 8, 9, 10, 2, 4, 1, 2, 7, 10, 5, 1, 2, 3, 4, 5, 6, 7, 8, 9, 10, 2, 3, 5, 7, 8, 9, 3, 1, 2, 4, 4, 1, 2, 3, 4, 5, 6, 7, 8, 9, 10, 5, 7, 8, 9, 1, 1, 2, 3, 4, 5, 6, 7, 8, 9, 10, 3, 4, 1, 2, 3, 4, 6, 7, 8, 10, 1, 2, 3, 4, 5, 6, 7, 8, 9, 10, 8, 9, 10, 1, 2, 3, 4, 5, 6, 7, 8, 9, 10, 1, 2, 3, 4, 5, 6, 7, 8, 9, 10, 1, 2, 3, 4, 5, 6, 7, 8, 9, 10, 2, 3, 4, 5, 6, 7, 8, 9, 8, 1, 2, 3, 4, 6, 7, 8, 9, 10, 1, 2, 3, 4, 5, 6, 7, 8, 1, 2], \"Freq\": [0.3074107420848265, 0.2155216615703403, 0.011694973883661877, 0.0033414211096176793, 0.011694973883661877, 0.44942113924357785, 0.987216904724517, 0.027659222909531107, 0.9152688308244838, 0.010057899239829493, 0.01508684885974424, 0.020115798479658987, 0.010057899239829493, 0.004187548696197871, 0.7527118781415674, 0.17064260937006326, 0.028265953699335634, 0.005234435870247339, 0.012562646088593615, 0.02512529217718723, 0.0010468871740494678, 0.9552379716588696, 0.04447800825391603, 0.02891871582476847, 0.130895240048952, 0.0319627911747441, 0.007610188374939071, 0.7990697793686025, 0.9982070317066717, 0.9947424445535624, 0.8664795374863027, 0.13052736622389816, 0.9957413091101032, 0.9927855992955945, 0.1621539532001786, 0.21457966739271755, 0.028041661079730138, 0.0024384053112808815, 0.5230379392697491, 0.012192026556404407, 0.040233687636134545, 0.01706883717896617, 0.0031042595620951784, 0.0015521297810475892, 0.0015521297810475892, 0.8645362880435071, 0.1288267718269499, 0.9841715606900738, 0.9958975213362535, 0.9733617687125874, 0.0153378813445071, 0.04141227963016917, 0.1227030507560568, 0.05981773724357769, 0.6994073893095237, 0.00153378813445071, 0.03527712709236633, 0.00153378813445071, 0.023006822016760648, 0.08538505398257297, 0.01992317926260036, 0.8766198875544159, 0.01992317926260036, 0.9802806686432352, 0.9912043680984989, 0.007509124000746203, 0.996038039538827, 0.0028027856321358913, 0.9655596502708146, 0.023823677873155077, 0.0014013928160679456, 0.005605571264271783, 0.1054612779356091, 0.13427286417574974, 0.1715104803540447, 0.2582170464918264, 0.03723761617829496, 0.01603663762422922, 0.08154222520794518, 0.14541696828750225, 0.01766748212838812, 0.03261689008317807, 0.9872903943168666, 0.002902952795312746, 0.037738386339065705, 0.7025145764656846, 0.005805905590625492, 0.24675098760158343, 0.9954649774035712, 0.0014601605773742834, 0.0007300802886871417, 0.9972896743466355, 0.2470534729086808, 0.0072910219019587975, 0.012058228530162626, 0.014582043803917595, 0.6859169066227392, 0.001962967435142753, 0.0011216956772244304, 0.007571445821264905, 0.014301619884611486, 0.008412717579183228, 0.9988831325720877, 0.03575335257797618, 0.13679543595051757, 0.10337382375806156, 0.18887097122713503, 0.045080314120056926, 0.07772467951733952, 0.0163221826986413, 0.02953537821658902, 0.25182796163618004, 0.1134780320953157, 0.9904574189380771, 0.024171282859584607, 0.009668513143833843, 0.8459949000854612, 0.0676795920068369, 0.05317682229108613, 0.988726933338375, 0.9935988436293988, 0.0008640796424599426, 0.9902352702590942, 0.005184477854759655, 0.0008640796424599426, 0.0008640796424599426, 0.10716131810253827, 0.384905958898913, 0.028430553782306075, 0.4767585172725172, 0.0021869656755620056, 0.9865200358826471, 0.9984490350388918, 0.023017699644175382, 0.9724978099664099, 0.14469327266480397, 0.029175210292085817, 0.001577038394166801, 0.018530201131459912, 0.0070966727737506044, 0.7932503122659008, 0.005913893978125503, 0.04443172981710979, 0.9508390180861496, 0.9915400573866298, 0.16214285637917378, 0.09212662294271237, 0.7406980484594075, 0.9813502291787457, 0.9862740620818695, 0.1731135430900706, 0.48715368909768614, 0.158324948956748, 0.027837353662724922, 0.021747932549003847, 0.031317022870565536, 0.009569090321561693, 0.019138180643123386, 0.07220313606269277, 0.9973895987919456, 0.012026639856664542, 0.9861844682464924, 0.9941647495841974, 0.007091152127140649, 0.9856701456725501, 0.0676705423048393, 0.013796906683510926, 0.0013139911127153263, 0.16704112020393586, 0.01757463113256749, 0.6698069697066376, 0.030550293370631337, 0.008376693343560206, 0.01905287113437223, 0.0050917155617718896, 0.009120785633279338, 0.003908908128548288, 0.1824157126655868, 0.03778611190930012, 0.041695020037848404, 0.06514846880913813, 0.12508506011354523, 0.027362356899838017, 0.13420584574682456, 0.3739522109644529, 0.004690191355255543, 0.9708696105378974, 0.014070574065766629, 0.004690191355255543, 0.9971363963559274, 0.6964889122450157, 0.02335252010880187, 0.005254317024480421, 0.005254317024480421, 0.2571696276981806, 0.010216727547600819, 0.0014595325068001168, 0.0008757195040800702, 0.00126262615363302, 0.00126262615363302, 0.00126262615363302, 0.00126262615363302, 0.959595876761095, 0.01010100922906416, 0.00126262615363302, 0.023989896919027375, 0.9912760275263137, 0.9989327440884622, 0.0010929242276679018, 0.9969946389835651, 0.0018918304345039187, 0.0032832427076512774, 0.08208106769128193, 0.10506376664484088, 0.0032832427076512774, 0.009849728122953831, 0.7551458227597938, 0.03611566978416405, 0.009849728122953831, 0.11491968324800073, 0.8783147219668627, 0.9932951461921581, 0.0034975181203949226, 0.0698979842144542, 0.23623749095264904, 0.30702025977741276, 0.15218295297324208, 0.04866315356702508, 0.06105013811135874, 0.006193492272166828, 0.07520669187631149, 0.023889184478357767, 0.018580476816500484, 0.9899073669357599, 0.08529263929499935, 0.10208252891999922, 0.025520632229999805, 0.19073314613999856, 0.004701169094999964, 0.03425137483499974, 0.024849036644999812, 0.037609352759999715, 0.03022180132499977, 0.4647441448199965, 0.9178209877357195, 0.062108187140011095, 0.01380181936444691, 0.9972573138401601, 0.008786109703734413, 0.9840442868182543, 0.287738369993788, 0.07010056606080953, 0.503745928204422, 0.008966351472894242, 0.02363856297399391, 0.0032604914446888156, 0.010596597195238651, 0.09210888331245903, 0.9984405943102667, 0.014872255086667788, 0.9840475449011854, 0.9137455169366862, 0.05522637739727224, 0.030123478580330314, 0.11811372519195847, 0.879291065317913, 0.09849085787722348, 0.7539644982325383, 0.13245322266247295, 0.010188709435574842, 0.2774638689793077, 0.7202849932089099, 0.9847903084263029, 0.014977799367700424, 0.2988644526870883, 0.6986966258765713, 0.9857430485979237, 0.998661523175339, 0.08535510484932082, 0.005163831965973146, 0.0027337933937504892, 0.5950556953730232, 0.0018225289291669928, 0.00577134160902881, 0.298590989561859, 0.0054675867875009785, 0.1932951568139411, 0.5583683843400858, 0.24780510827167587, 0.9981880386174458, 0.3926852652977296, 0.2694725071117603, 0.09307438568004878, 0.06426564725527179, 0.03146800658706411, 0.014625974892579094, 0.028808738424777006, 0.045207558758880835, 0.01418276353219791, 0.04653719284002439, 0.9873263084239694, 0.9815796225525536, 0.9922604885537437, 0.990196425446511, 0.010377594430093217, 0.9858714708588555, 0.9955348276885697, 0.09428397253114347, 0.03225504323433856, 0.054585457781188326, 0.7369036800460425, 0.01488694303123318, 0.00744347151561659, 0.042179671921827346, 0.00744347151561659, 0.009924628687488786, 0.007921941586308563, 0.9743988151159532, 0.007921941586308563, 0.7424957281997966, 0.2560330097240678, 0.9918595090107367, 0.07663289700330782, 0.0395524629694492, 0.5586785394434699, 0.012360144677952874, 0.0296643472270869, 0.14584970719984391, 0.13348956252189104, 0.9987033205352427, 0.996569509804749, 0.02679540988064305, 0.16613154125998691, 0.6779238699802692, 0.12593842643902234, 0.9896190712542438, 0.9850530756501312, 0.0078017185547080035, 0.05461202988295602, 0.0078017185547080035, 0.9167019301781903, 0.0078017185547080035, 0.9922048003182187, 0.9823840638151909, 0.004599650771992913, 0.9935245667504692, 0.9791767783489523, 0.002354304822259776, 0.0006420831333435752, 0.0014981939778016757, 0.016052078333589383, 0.00021402771111452508, 0.9950643358338341, 0.9842931133613603, 0.9933873994175496, 0.9799426076585618, 0.9980590349641205, 0.9723006832917493, 0.013139198422861478, 0.0496902855263942, 0.0687206076428856, 0.019558942175282822, 0.07294956811321701, 0.005814820646705704, 0.0021144802351657104, 0.7543408238953673, 0.00898654099945427, 0.008457920940662842, 0.010043781117037125, 0.9915602053714649, 0.9927237857416651, 0.06331297166330854, 0.16786982201014378, 0.311499820583478, 0.4569387612043353, 0.9870670368180456, 0.9933319300790326, 0.02497686164904794, 0.008155709926219735, 0.05989349477067618, 0.8876980522819793, 0.002038927481554934, 0.0025486593519436673, 0.004332720898304235, 0.0017840615463605672, 0.008410575861414102, 0.0002548659351943667, 0.991077663090242, 0.9946961473506772, 0.0007409282289390519, 0.0007409282289390519, 0.00370464114469526, 0.8917459126265019, 0.10591618119318605, 0.9830194646443665, 0.012042599072462834, 0.9754505248694896, 0.9973136842332291, 0.006064356175931054, 0.03133250690897711, 0.0050536301466092125, 0.0010107260293218425, 0.9531146456504974, 0.002021452058643685, 0.9880956086457444, 0.9859632776759302, 0.17464708375292842, 0.09647172245399856, 0.14969750035965293, 0.5172880290205785, 0.058215694584309474, 0.9949039930953292, 0.9885663899629953, 0.011050554852105807, 0.972448826985311, 0.011050554852105807, 0.020099031130299417, 0.9748030098195218, 0.228037658115968, 0.05484450005320749, 0.009814278956889763, 0.5138063689195228, 0.012123521064393235, 0.004618484215006947, 0.015587384225648445, 0.02136048949440713, 0.040411736881310785, 0.09929741062264935, 0.9869105460497795, 0.12008149193126383, 0.02554925360239656, 0.7434832798297399, 0.10986179049030521, 0.9889214010906221, 0.003064019993168036, 0.003064019993168036, 0.012256079972672144, 0.0010213399977226786, 0.97231567783199, 0.002042679995445357, 0.0010213399977226786, 0.003064019993168036, 0.002042679995445357, 0.9837268965017407, 0.05766972250264941, 0.036228415418331036, 0.012569042083910768, 0.0059148433336050675, 0.10203104750468742, 0.7090418446159075, 0.024398728751120903, 0.052494234585744974, 0.1255788992068931, 0.14695403098678983, 0.029390806197357962, 0.6893479999016686, 0.008015674417461262, 0.9834916773351373, 0.010244704972241014, 0.9957906711556124, 0.9878124520621974, 0.9978862410928514, 0.9972650674978606, 0.10799420418471943, 0.15173604270139843, 0.019045489497692768, 0.34365597533199477, 0.2402661752016626, 0.009418099202155765, 0.012557465602874353, 0.0016743287470499138, 0.09187878999436401, 0.021766273711648878, 0.9866328495552431, 0.029657701258851463, 0.037072126573564325, 0.9268031643391081, 0.9975703411278982, 0.014940805939590972, 0.06616642630390288, 0.014940805939590972, 0.03628481442472093, 0.7790563097072436, 0.040553616121746926, 0.025612810182155953, 0.014940805939590972, 0.008537603394051985, 0.9309523910989375, 0.06516666737692563, 0.9975091130900879, 0.9878040929092412, 0.9919192632452318, 0.9859416050562368, 0.9884204073956732, 0.02112861898044449, 0.9437449811265207, 0.014085745986962996, 0.02112861898044449, 0.9920526604719876, 0.989387727856044, 0.9986285008500112, 0.000490847137306469, 0.0008589824902863208, 0.7570601209188585, 0.02878555592847371, 0.0892352233782685, 0.12089933489958958, 0.005874794171380764, 0.9928402149633491, 0.06689463109078664, 0.007432736787865182, 0.011149105181797772, 0.0780437362725844, 0.7655718891501138, 0.05946189430292145, 0.007432736787865182, 0.9832456456649534, 0.9958450056510756, 0.9810333489320138, 0.0035543512770285974, 0.010663053831085793, 0.0035543512770285974, 0.0035543512770285974, 0.017771756385142987, 0.1350653485270867, 0.20970672534468726, 0.6113484196489187, 0.9965671287523109, 0.006824617267941136, 0.027298469071764545, 0.9622710347797001, 0.9995735338052391, 0.9901618111118319, 0.004280504387950143, 0.004280504387950143, 0.007134173979916904, 0.007134173979916904, 0.0028536695919667617, 0.03567086989958452, 0.6663318497242389, 0.22543989776537418, 0.04423187867548481, 0.003977869120888283, 0.9904894111011826, 0.9906511571868771, 0.0018168052854597024, 0.023618468710976132, 0.003633610570919405, 0.003633610570919405, 0.003633610570919405, 0.25798635053527774, 0.5868281072034839, 0.11990914884034037, 0.14670212845779454, 0.033854337336414124, 0.011284779112138042, 0.8040405117398355, 0.004242638954537186, 0.0028284259696914576, 0.02262740775753166, 0.004949745446960051, 0.004242638954537186, 0.6696298483244526, 0.2849639164464144, 0.002121319477268593, 0.0028284259696914576, 0.07079922974907865, 0.03861776168131563, 0.01716344963614028, 0.8667542066250842, 0.002145431204517535, 0.00429086240903507, 0.9934204899543179, 0.004869708284089794, 0.8943989750385908, 0.023019263975256086, 0.0016921234267525279, 0.03416173710613594, 0.0019156114265122955, 0.013696621699562914, 0.0067046399927930345, 0.01449479312727637, 0.008300982848219948, 0.0016282697125354513, 0.9923982352092242, 0.017969728840817645, 0.05989909613605882, 0.9164561708817, 0.005340273944761969, 0.9898354823497038, 0.0003141337614565864, 0.0006282675229131728, 0.002513070091652691, 0.0012565350458263456, 0.0003141337614565864, 0.9880314133856829, 0.9873773215626374, 0.18251712399186373, 0.011979888447342407, 0.33332277856429166, 0.18110772535099992, 0.0007046993204319063, 0.017617483010797658, 0.2346648737038248, 0.023255077574252908, 0.0007046993204319063, 0.015503385049501937, 0.9917649595651203, 0.9956676930605092, 0.9869298550243987, 0.9912674768015619, 0.9793553313515337, 0.005678293213431937, 0.17375577233101727, 0.5076394132808152, 0.02157751421104136, 0.11243020562595235, 0.04201936977939633, 0.017034879640295812, 0.002271317285372775, 0.1169728401966979, 0.9928345855662811, 0.9840017184730621, 0.9896785247689431, 0.9924907744875716, 0.9977042496275385, 0.9865494570813711, 0.10529879934040474, 0.18202093337308903, 0.08262383665058308, 0.026091737889657813, 0.02826604938046263, 0.040069454616260214, 0.024538658253368657, 0.05249409170657346, 0.007454782254187947, 0.4507037104511129, 0.014713305167533717, 0.0029426610335067434, 0.02256040125688503, 0.018636853212209373, 0.0029426610335067434, 0.004904435055844572, 0.0009808870111689145, 0.6042263988800514, 0.3197691656410661, 0.009808870111689145, 0.15893902431189436, 0.10405017207205096, 0.444838350326383, 0.008114004244150763, 0.06300285648399416, 0.0009545887346059721, 0.03818354938423889, 0.05632073534175236, 0.057752618443661315, 0.06729850578972103, 0.9834040004046151, 0.012448151903855887, 0.9932666516409477, 0.9667746020103373, 0.005197712914034072, 0.020790851656136287, 0.005197712914034072, 0.005074020928856778, 0.0021745803980814764, 0.039142447165466575, 0.6878922659264404, 0.00797346145963208, 0.001449720265387651, 0.14642174680415276, 0.08480863552517759, 0.012322622255795035, 0.012322622255795035, 0.9922183543591576, 0.9950149603978228, 0.0038417566038525973, 0.9908948714591901, 0.9978087294210368, 0.08912990250880248, 0.9102292698686555, 0.010170379199014187, 0.12059163907402537, 0.020340758398028375, 0.004358733942434652, 0.004358733942434652, 0.004358733942434652, 0.0029058226282897676, 0.637828066909604, 0.1525556879852128, 0.045040250738491404, 0.7869626236254067, 0.16259558339367908, 0.04769470446214586, 0.9889391963689476, 0.0001667347094995674, 0.0001667347094995674, 0.0011671429664969718, 0.0010004082569974044, 0.0005002041284987022, 0.0008336735474978369, 0.9942390727459204, 0.0006669388379982696, 0.0006669388379982696, 0.0005002041284987022, 0.05708147353233916, 0.008154496218905594, 0.9296125689552377, 0.009473529526072852, 0.22315425105860495, 0.07368300742501108, 0.11262973992108835, 0.09473529526072852, 0.030525817361790303, 0.015789215876788085, 0.08315653695108392, 0.31894216071111936, 0.037894118104291406, 0.9911307943080687, 0.9988232193816251, 0.27544489670796196, 0.027436894008019647, 0.04250028679673632, 0.11458938085702323, 0.15547573271211135, 0.03819646028567441, 0.1296527736457399, 0.029050828949667862, 0.04841804824944644, 0.13879840498174645, 0.9848278513050496, 0.9945904232774776, 0.9878846128616352, 0.013367432354184928, 0.008020459412510957, 0.9758225618554998, 0.9814168217030714, 0.9960743680407597, 0.999606692199762, 0.08543975454118372, 0.9141642967855979, 0.9969964258029412, 0.07104746697301223, 0.11183897842900024, 0.02998581305705079, 0.036469232096413125, 0.12831766848737952, 0.011075840858910653, 0.005943134119415472, 0.5859389956823708, 0.0035118519796545973, 0.015668262678458972, 0.9885955877640344, 0.025636669252871287, 0.18411789736153017, 0.023306062957155715, 0.0023306062957155716, 0.0023306062957155716, 0.7621082586989919, 0.9936491592458454, 0.9900793429832446, 0.01610503495514888, 0.8643035425929899, 0.005368344985049627, 0.005368344985049627, 0.11273524468604217, 0.015673017339907867, 0.018285186896559176, 0.0731407475862367, 0.8097725625619064, 0.07836508669953933, 0.005224339113302622, 0.7721882147289315, 0.10347580766886855, 0.03945015167375613, 0.02004843773584328, 0.006467237979304284, 0.0025868951917217137, 0.010347580766886855, 0.04527066585512999, 0.988953073810039, 0.9911445650075271, 0.6136800978426463, 0.008523334692258976, 0.12145751936469042, 0.09801834896097823, 0.07671001223033079, 0.038355006115165395, 0.04048583978823014, 0.9950375543536081, 0.9967187707535397, 0.9784895728897429, 0.9851637683958967, 0.006701794342829229, 0.02296794604472347, 0.9744971393261245, 0.362150841955774, 0.05768774473631799, 0.5784798847169665, 0.993431943885593, 0.10684212738660054, 0.8919516926769011, 0.9948178658265832, 0.9996885686490504, 0.002214229878777998, 0.030999218302891977, 0.9388334686018713, 0.02657075854533598, 0.021125928664717505, 0.9295408612475703, 0.04225185732943501, 0.9906634408470802, 0.994098566824278, 0.0740576691183687, 0.8812862625085874, 0.04073171801510278, 0.07013060359906556, 0.051429109305981414, 0.005009328828504684, 0.00300559729710281, 0.5567034104744871, 0.05443470660308423, 0.08315485855317774, 0.007347015615140202, 0.16898135914822465, 0.8183115847153675, 0.0030420505008006225, 0.006084101001601245, 0.009126151502401867, 0.15210252504003113, 0.009126151502401867, 0.9972544106419876, 0.07561603529363116, 0.20572459804583054, 0.07347307073065376, 0.04240008456748144, 0.023266472398040357, 0.01852133658001897, 0.096127267539272, 0.4442059401257442, 0.01729678540117474, 0.0035205846391771593, 0.009994906631724948, 0.7571141773531649, 0.1674146860813929, 0.06496689310621216, 0.9935903042810463, 0.04148287447432214, 0.06874304912887669, 0.2394154469660878, 0.06696521165140575, 0.12148556096051485, 0.2571938217407973, 0.07466917405377986, 0.010667024864825694, 0.06400214918895417, 0.05570557429408973, 0.9928864369655599, 0.002990094288535878, 0.001495047144267939, 0.0022425707164019084, 0.9927113037939114, 0.0007475235721339695, 0.998645692207784, 0.06874358111507577, 0.2062307433452273, 0.0991186518403418, 0.015986879329087388, 0.03996719832271847, 0.03996719832271847, 0.02717769485944856, 0.009592127597452432, 0.4412378694828119, 0.05115801385307964, 0.4317068185849359, 0.11948662656568843, 0.009820818621837405, 0.12439703587660712, 0.005728810862738486, 0.07283773811196075, 0.07447454121560032, 0.07733894664696955, 0.05319610086828594, 0.03109925896915178, 0.1372224061869381, 0.8610033329376509, 0.028626450590040015, 0.4695978031810174, 0.13073090251408165, 0.04629837496150876, 0.0015501688045148022, 0.08918637855308495, 0.13538140892762607, 0.028936484350942974, 0.049708746331441324, 0.020048849871724776, 0.9919010630850508, 0.012634943356046958, 0.36135937998294304, 0.04548579608176905, 0.029060369718908005, 0.4624389268313187, 0.001263494335604696, 0.005053977342418784, 0.003790483006814088, 0.03537784139693148, 0.04295880741055966, 0.987755856009765, 0.0018413052507122395, 0.012889136754985675, 0.07549351527920181, 0.684965553264953, 0.0018413052507122395, 0.007365221002848958, 0.13441528330199348, 0.0791761257806263, 0.05029092796403614, 0.029013996902328545, 0.1547413168124189, 0.017408398141397125, 0.04448812858357044, 0.04448812858357044, 0.0019342664601552362, 0.007737065840620945, 0.5203176777817585, 0.1334643857507113, 0.31220698016504705, 0.3352992124257754, 0.0152408732920807, 0.15333242221123614, 0.004618446452145666, 0.0900597058168405, 0.019859319744226365, 0.06281087174918107, 0.0064658250330039335, 0.14086284604460927, 0.04024652744131694, 0.05759416857981561, 0.0006939056455399472, 0.05343073470657593, 0.018735452429578574, 0.06383931938967514, 0.5259804793192799, 0.09437116779343281, 0.0034695282276997357, 0.9941149221657488, 0.004194577730657168, 0.05340586938065366, 0.21614262230472095, 0.19347031926576422, 0.02720676364674809, 0.015618697649059089, 0.04735992190359853, 0.040306316513700875, 0.03274888216738196, 0.2811365576830636, 0.09320835693793328, 0.9873637450346546, 0.21098532244961038, 0.16851425104741607, 0.022605570262458255, 0.024660622104499912, 0.04110103684083319, 0.5315734098081093, 0.0035521248519429977, 0.0009687613232571812, 0.0016146022054286354, 0.007427170144971722, 0.015500181172114899, 0.0012916817643429082, 0.7456232984669438, 0.058771520277602324, 0.005812567939543087, 0.15919977745526345, 0.023479520173566866, 0.0058698800433917165, 0.9685302071596332, 0.99112206157606, 0.9851624534224696, 0.009754083697252175, 0.9828702026067621, 0.9882622285696014, 0.12277504712270888, 0.2734535140460334, 0.22198720641378678, 0.10851329922461644, 0.1481981629410476, 0.013021595906953972, 0.035964407743015736, 0.04774585165883123, 0.016121975884800157, 0.012401519911384737, 0.9891650889523369, 0.052827308513184505, 0.004802482592107683, 0.11045709961847669, 0.830829488434629, 0.991613153921797, 0.9875585197253762, 0.993359742975639, 0.0027341087060242107, 0.9952155689928127, 0.062118776500367394, 0.6062553668064702, 0.031059388250183697, 0.004181071495217036, 0.07884306248123554, 0.06450796021191998, 0.09437275660632738, 0.04001882716850592, 0.007764847062545924, 0.010751326701986664, 0.9857035398767773, 0.9928430755678859, 0.042797519777358704, 0.042797519777358704, 0.46601743757568365, 0.06657391965366909, 0.040419879789727664, 0.3221702183240058, 0.010699379944339676, 0.005944099969077597, 0.002377639987631039, 0.0011888199938155195, 0.8633754187147598, 0.12833958926841024, 0.012379350252158491, 0.9874352318780538, 0.0157821696298046, 0.1925424694836161, 0.006312867851921839, 0.012625735703843679, 0.7607005761565817, 0.006312867851921839, 0.9939158391034055, 0.9982150929047654, 0.9912973656002083, 0.011995395988656081, 0.9416385851095024, 0.041983885960296285, 0.9966094363489619, 0.023096840453177697, 0.06236146922357978, 0.6444018486436578, 0.006929052135953309, 0.06236146922357978, 0.09700672990334633, 0.07160020540485086, 0.013858104271906618, 0.018477472362542158, 0.9965838884882264, 0.9872041361343056, 0.0069757951975412975, 0.8196559357111025, 0.16741908474099115, 0.993359187255438, 0.9863345499444258, 0.004050803492834497, 0.0006396005515001837, 0.0004264003676667891, 0.00021320018383339456, 0.00021320018383339456, 0.0006396005515001837, 0.0004264003676667891, 0.9932996564797852, 0.9794974535186333, 0.08807445951136807, 0.8187974872276945, 0.0016856355887343172, 0.01137804022395664, 0.014327902504241695, 0.013063675812690956, 0.042562298615541505, 0.009270995738038744, 0.0008428177943671586, 0.023775064954701476, 0.0026416738838557197, 0.11227114006386808, 0.0026416738838557197, 0.6445684276607956, 0.2060505629407461, 0.007925021651567159, 0.9963115431601532, 0.003174651757281423, 0.9892608277919775, 0.03825457710337615, 0.010711281588945323, 0.013771647757215415, 0.009181098504810276, 0.019892380093755598, 0.01836219700962055, 0.8905665549665968, 0.7036512085519229, 0.015078240183255489, 0.013402880162893769, 0.001675360020361721, 0.09717088118097982, 0.053611520651575074, 0.058637600712660234, 0.055286880671936794, 0.9930586519689103, 0.9786171418777712, 0.0066327958110201715, 0.0022109319370067237, 0.0022109319370067237, 0.02432025130707396, 0.9639663245349316, 0.038811882608041304, 0.9605940945490223, 0.9938411371954704, 0.9910247528387727, 0.27177064454097566, 0.015927949863207364, 0.10552266784374878, 0.14932452996756904, 0.4509600805020585, 0.004977484332252301, 0.12043665234074918, 0.38828776714657537, 0.047692914326936675, 0.07129849818572352, 0.09634932187259934, 0.03372226265540977, 0.07274373801381251, 0.04576592788948469, 0.08334216341979843, 0.03998496857712873, 0.9878216774703714, 0.9934547524595135, 0.00310454610143598, 0.10984622885201531, 0.8887558516208511, 0.9956506262623812, 0.2187289382354422, 0.09442396787213078, 0.6537963345070321, 0.010757160896825026, 0.0023904801992944502, 0.013147641096119477, 0.007171440597883351, 0.9949941242613147, 0.002065088637324823, 0.004818540153757921, 0.0003441814395541372, 0.002065088637324823, 0.0003441814395541372, 0.03476232539496786, 0.0006883628791082744, 0.0010325443186624116, 0.9533825875649601, 0.0006883628791082744, 0.9982716528647989, 0.00020277334641621386, 0.9996725978319344, 6.759111547207129e-05, 0.9884017157060472, 0.9994229437672856, 0.9890688585982682, 0.9913978215573468, 0.0040966852130468875, 0.9982552008604318, 0.9754191454869449, 0.9970743657200238, 0.9840944332215553, 0.9899272918899104, 0.9955585684063589, 0.2930318924763163, 0.10501721002041392, 0.24221711343418048, 0.3590911052310928, 0.9886025853034137, 0.9884425399388075, 0.042102426989001226, 0.004678047443222358, 0.8514046346664692, 0.004678047443222358, 0.09823899630766952, 0.9958050626208609, 0.9953788074454655, 0.14312001914708639, 0.38651079110267694, 0.024287033552232842, 0.23523726783448382, 0.07494284638974705, 0.012490474398291176, 0.035736635083999754, 0.08396374456629067, 0.0038165338439223036, 0.9903151665299368, 0.993955041162871, 0.9654878219852112, 0.025077605765849643, 0.1046352693898801, 0.17963931204988265, 0.017593540870864795, 0.10185734188395408, 0.07500404266000255, 0.0027779275059260206, 0.3805760683118648, 0.11482100357827552, 0.02129744421209949, 0.9919020171371593, 0.006034031234741413, 0.9895811224975918, 0.005041591042790291, 0.008402651737983819, 0.0005601767825322546, 0.9674253034332037, 0.0005601767825322546, 0.01736548025849989, 0.15126866898670102, 0.12701462079474052, 0.1912665730225657, 0.05638002430587309, 0.06659225512354067, 0.032338730922614, 0.0729748993845829, 0.04063616846196891, 0.18913902493555163, 0.07254938976718009, 0.006793072063670255, 0.984995449232187, 0.9846954375867046, 0.02990926877665251, 0.06938950356183382, 0.015552819763859305, 0.12801167036407274, 0.2233225401990054, 0.04346813728873498, 0.0023927415021322007, 0.019141932017057606, 0.45701362690725034, 0.011564917260305637, 0.9866535223701639, 0.011085994633372629, 0.9944139973298843, 0.9890524696260529, 0.00696515823680319, 0.027807208948720605, 0.005926126497268326, 0.00045585588440525586, 0.5164847170311548, 0.012763964763347164, 0.4230342607280774, 0.0068378382660788375, 0.003190991190836791, 0.003646847075242047, 0.9964981228429073, 0.9916076924395114, 0.996282890210077, 0.0011403597162954128, 0.9989551114747816, 0.3580108937241449, 0.027438791124843223, 0.06859697781210806, 0.062063932306193004, 0.007186350056506558, 0.011106177360055591, 0.010452872809464085, 0.0013066091011830106, 0.44882022625636414, 0.004573131854140537, 0.005765645222519567, 0.9916909782733655, 0.9787264726605955, 0.7920724695975008, 0.12130839624466229, 0.010703682021587849, 0.07492577415111494, 0.996197845790177, 0.9951254679206297, 0.9784131715286757, 0.014148528522795696, 0.9809646442471683, 0.17103556895921884, 0.6601555801901557, 0.15487062189295123, 0.0005214499053634721, 0.0005214499053634721, 0.0067788487697251374, 0.0031286994321808328, 0.0031286994321808328, 0.01722978262331743, 0.9734827182174349, 0.9432897499093201, 0.05168710958407234, 0.9916500463473199, 0.10085195211747673, 0.000925247267132814, 0.08882373764475014, 0.017579698075523467, 0.28034992194124264, 0.046262363356640704, 0.2896023946125708, 0.00925247267132814, 0.07587027590489075, 0.09159947944614859, 0.9886311158255573, 0.9880298595228335, 0.02472161096684674, 0.10877508825412566, 0.865256383839636, 0.0018501203235234541, 0.005550360970570362, 0.9925895535703331, 0.06195527917264301, 0.0804100431815154, 0.11929686734306794, 0.2880261382813298, 0.19311592337855749, 0.01515927043585946, 0.019113862723474973, 0.04086412030536029, 0.08568283289833609, 0.09622841233197744, 0.13275793569687755, 0.17404241570017484, 0.06152197020099204, 0.03318948392421939, 0.08175946039868678, 0.038855981179573916, 0.02023749019769475, 0.2574208753146772, 0.19994640315322412, 0.00080949960790779, 0.006717288909961672, 0.879964847204979, 0.003358644454980836, 0.05037966682471254, 0.01679322227490418, 0.020151866729885018, 0.020151866729885018, 0.003358644454980836, 0.9933561749585811, 0.9945361232152845, 0.987294499627512, 0.06554497457397349, 0.9340158876791222, 0.08948468620718164, 0.13101025954515483, 0.0707689348435881, 0.5749244872003892, 0.006433539531235282, 0.025149290894828827, 0.10176689803953991, 0.026822539898622523, 0.1698760860246093, 0.02554527609392621, 0.017881693265748348, 0.7586946999896085, 0.10411501334745941, 0.048172618115988684, 0.5905030607766355, 0.08235963742410968, 0.05283448438527791, 0.03107910846192818, 0.024863286769542546, 0.018647465077156908, 0.04661866269289227, 0.9912121344627757, 0.014195922167251062, 0.0520517146132539, 0.14195922167251063, 0.006309298741000472, 0.02365987027875177, 0.7271466799003045, 0.03312381839025248, 0.16291404692464842, 0.0048813197580419, 0.0030508248487761875, 0.03966072303409044, 0.006101649697552375, 0.005491484727797137, 0.001220329939510475, 0.059186002066258035, 0.010982969455594275, 0.706571034976565, 0.9929587731404252, 0.9819450355800519, 0.976585015770353, 0.9993665058845189, 0.18356262062945583, 0.024475016083927444, 0.7913588533803206, 0.24918610769041652, 0.4279500545118023, 0.08744729866154369, 0.05571863277549686, 0.040241234782303285, 0.0452713891300912, 0.014316593143704055, 0.05068847842770895, 0.025150771738939554, 0.0038693494982983932, 0.996270075708648, 0.9873596169392939, 0.996270075708648, 0.9984918518171741, 0.996270075708648, 0.9987301884037185, 0.993460403343432, 0.42877839206224255, 0.025222258356602502, 0.012611129178301251, 0.027324113219652713, 0.5044451671320501, 0.041772164510438116, 0.13111818304665296, 0.04641351612270902, 0.038291150801234936, 0.03248946128589631, 0.002320675806135451, 0.01276371693374498, 0.6950424039375676, 0.03529354752189299, 0.9529257830911108, 0.00313799219962712, 0.994743527281797, 0.0072751497798390005, 0.989420370058104, 0.9794542970248897, 0.043187641590224174, 0.9537270851174505, 0.9869173300507232, 0.9832474197562162, 0.22157485215560146, 0.3118460882189947, 0.04513561803169659, 0.14115138729912388, 0.08124411245705387, 0.02790201841959426, 0.012720037808932676, 0.041442703829103235, 0.06524148424581598, 0.05211112263659516, 0.9802900332816159, 0.01922137320160031, 0.6050541636857202, 0.3449374204189619, 0.05089240629132225, 0.8883695144512478, 0.0025749840998586892, 0.05922463429674985, 0.0051499681997173785, 0.0025749840998586892, 0.04119974559773903, 0.9955189041567174, 0.9800402082070383, 0.9783939355429833, 0.027677930121907134, 0.10725197922239013, 0.8337976449224523, 0.027677930121907134, 0.019619835084603583, 0.9809917542301791, 0.1527133533963714, 0.052888940160846665, 0.012460745064073821, 0.12474590336367238, 0.0027690544586830715, 0.4935839572602575, 0.008307163376049214, 0.1359605739213388, 0.014399083185151972, 0.002215243566946457, 0.9978019362626848, 0.9668401043635126, 0.019964249942609407, 0.011408142824348232, 0.9980622531479211, 0.9801064717834069, 0.037882914893522183, 0.07576582978704437, 0.8864602085084191, 0.845618552642955, 0.039530948599162535, 0.011171789821502454, 0.0008593684478078812, 0.0034374737912315247, 0.0034374737912315247, 0.09453052925886693, 0.0008593684478078812, 0.07651405684086039, 0.0049363907639264765, 0.022213758437669144, 0.1283461598620884, 0.009872781527852953, 0.7503313961168244, 0.0024681953819632382, 0.0024681953819632382, 0.0024681953819632382, 0.9911839625066943, 0.9980235015894782, 0.9960534906691677, 0.26137994472230175, 0.18950045992366876, 0.13068997236115087, 0.006534498618057543, 0.015247163442134268, 0.06534498618057544, 0.3310812633149155, 0.0066652006413787275, 0.016663001603446817, 0.7198416692689026, 0.24994502405170227, 0.0066652006413787275, 0.0033326003206893638, 0.9879954384060564, 0.9821757694117773, 0.9960629138416944, 0.004308128805177981, 0.031233933837540362, 0.7603847341139136, 0.0010770322012944953, 0.003231096603883486, 0.19494282843430363, 0.0010770322012944953, 0.0010770322012944953, 0.0010770322012944953, 0.0010770322012944953, 0.0027782173541902365, 0.1305762156469411, 0.8640255971531635, 0.0027782173541902365, 0.9897102948573302, 0.9890448976886104, 0.9940715242418491, 0.9701912146279372, 0.026875102898280812, 0.9880207417042839, 0.11304024236313301, 0.24532137704339504, 0.002405111539641128, 0.08738571927362765, 0.07054993849613975, 0.4810223079282256, 0.9788977009433789, 0.9988557037674547, 0.984725978858703, 0.8822146287842989, 0.11466450082342347, 0.9965286977808072, 0.09001478089482129, 0.8821448527692486, 0.006000985392988086, 0.006000985392988086, 0.006000985392988086, 0.006000985392988086, 0.988843641989897, 0.19991738036911463, 0.06338074677317357, 0.1885656048276507, 0.09617476500406934, 0.1762678479910648, 0.020811588492683858, 0.013874392328455904, 0.006621869065853954, 0.19392616550000866, 0.04067719569024572, 0.1257239241450236, 0.017341230916554977, 0.5700929663817449, 0.010838269322846861, 0.015173577051985606, 0.002167653864569372, 0.16907700143641102, 0.0780355391244974, 0.008670615458277488, 0.11717187870812512, 0.004926788318623177, 0.008568327510649003, 0.45583502356652694, 0.004926788318623177, 0.35430034256533627, 0.01263828307820728, 0.003213122816493376, 0.0014994573143635756, 0.03684380829579071, 0.9965542143188701, 0.004925201410847573, 0.00026385007558111997, 0.004573401310072746, 0.9847764320939334, 0.0006156501763559466, 0.0012313003527118932, 0.0010554003023244799, 0.0006156501763559466, 0.0018469505290678396, 0.9966121635748518, 0.9832692685972806, 0.002017920459559411, 0.002017920459559411, 0.002017920459559411, 0.9928168661032302, 0.9978165158542132, 0.9950417601647235, 0.9909715768694007, 0.9908654075482599, 0.005496429683402461, 0.9069108977614061, 0.08794287493443938, 0.04194313084967415, 0.02485518865165876, 0.013981043616558051, 0.02407846400629442, 0.8015798340159949, 0.009320695744372033, 0.017087942198015394, 0.04660347872186017, 0.015534492907286724, 0.0046603478721860166, 0.056287829120732144, 0.029510124005044037, 0.6462170673326773, 0.054648377787118584, 0.07213585867899654, 0.024045286226332178, 0.011476159335294903, 0.030603091560786406, 0.07131613301218975, 0.004098628334033893, 0.9844931289288928, 0.061821284750869065, 0.6504295733647774, 0.07183459143586898, 0.06922242447456466, 0.011754751325869471, 0.029604558894782373, 0.015237640607608573, 0.005659695082826041, 0.08141253696065152, 0.003047528121521715, 0.0029987239010270655, 0.035984686812324786, 0.9565929244276339, 0.0029987239010270655, 0.013614619094498553, 0.06466944069886812, 0.7726296336127929, 0.003403654773624638, 0.14635715526585943, 0.04873532871265984, 0.01949413148506394, 0.7537730840891389, 0.1137157669962063, 0.012996087656709291, 0.04873532871265984, 0.0032490219141773228, 0.9819841284817045, 0.1067016572860397, 0.2975940736965073, 0.05312571966140373, 0.03556721909534657, 0.21700505827793726, 0.03376634724241762, 0.04412136039675903, 0.06258029688928067, 0.0886929387567503, 0.060779425036351725, 0.1609737048767006, 0.19564496438860532, 0.13670382321836727, 0.03764308175578229, 0.07206668941403058, 0.047053852194727866, 0.09311709697482988, 0.0936124006821428, 0.039128992877721064, 0.12382592682823122, 0.9862481296811361, 0.0056200058796392225, 0.9909943701097162, 0.001873335293213074, 0.061558895314851036, 0.358247385620963, 0.08979983182527239, 0.04283737560569531, 0.0901171457186479, 0.04664514232620156, 0.16754173570227499, 0.010471358481392187, 0.10185775977354218, 0.031096761550801037, 0.9850069270018402, 0.9996040678677636, 0.990955526786147, 0.9804712378580397, 0.05028910959642878, 0.10868936590195898, 0.022711210785483965, 0.7754256253900954, 0.012977834734562266, 0.021088981443663682, 0.008111146709101416, 0.9845555103236975, 0.26372756421734894, 0.008599811876652682, 0.010033113856094796, 0.7166509897210569, 0.9970543157072004, 0.9918427203378088, 0.9921652593220545, 0.0012942041336896752, 0.9473574258608423, 0.0006471020668448376, 0.0006471020668448376, 0.05047396121389733, 0.12957710838903644, 0.002756959752958222, 0.6547779413275777, 0.022055678023665776, 0.005513919505916444, 0.001378479876479111, 0.15990366567157688, 0.006892399382395556, 0.006892399382395556, 0.011027839011832888, 0.9075427233901932, 0.09183468034305525, 0.0015414578812497266, 0.9341234760373343, 0.006165831524998906, 0.05549248372499015, 0.0015414578812497266, 0.9947219703839766, 0.97368798739225, 0.9857680603892244, 0.9943989600125628, 0.01324624165626698, 0.07616588952353515, 0.9073675534542882, 0.0022077069427111637, 0.0011038534713555819, 0.0229648842257444, 0.06966014881809135, 0.10678671164971146, 0.7838680482387422, 0.0038274807042907332, 0.011865190183301273, 0.9947746515971119, 0.7940357654596916, 0.0026735210958238774, 0.08822619616218795, 0.008020563287471633, 0.10159380164130734, 0.0026735210958238774, 0.9968231197272672, 0.9997222388803548, 0.997531851188231, 0.0025715905330259098, 0.941202135087483, 0.03343067692933683, 0.00771477159907773, 0.0025715905330259098, 0.0025715905330259098, 0.010286362132103639, 0.9092328739155293, 0.08799027812085768, 0.9823960779641725, 0.014341548583418576, 0.01064147225739552, 0.9896569199377835, 0.9948256280661628, 0.9923174723102209, 0.00427723048409578, 0.9990348927546853, 0.12547384324262795, 0.4831218244550428, 0.04253753397808788, 0.05014200932612593, 0.15137658739688256, 0.020674667352478467, 0.033982499211545066, 0.02899206226439509, 0.02566510429962844, 0.038260016594816475, 0.06215496392020513, 0.9323244588030769, 0.8507717718523267, 0.033177729264436136, 0.10782762010941745, 0.007109513413807744, 0.9930420436869046, 0.012206554960574365, 0.33812157240790985, 0.04882621984229746, 0.0268544209132636, 0.09521112869248004, 0.002441310992114873, 0.009765243968459491, 0.05004687533835489, 0.41746417965164323, 0.0012206554960574364, 0.025154077970898383, 0.009432779239086895, 0.05659667543452136, 0.8552386510105451, 0.006288519492724596, 0.04716389619543447, 0.9850866936993542, 0.06152709565712699, 0.9331609507997594, 0.005127257971427249, 0.9923551534268169, 0.06048834235575566, 0.16958338839024353, 0.17174368633152054, 0.05832804441447867, 0.04536625676681674, 0.028083873236600842, 0.18146502706726697, 0.02268312838340837, 0.02700372426596235, 0.2343923266285532, 0.0022102034580959054, 0.4516182399375967, 0.5363427058312731, 0.00957754831841559, 0.9990802212823714, 0.2950278339179566, 0.08070876376146399, 0.06951805281974839, 0.10105551092821961, 0.026620327543171948, 0.06443136602805949, 0.27451153052481136, 0.019159853582028215, 0.05849689810442243, 0.010512486036157075, 0.9937734934884646, 0.9764095370558935, 0.14043956801189084, 0.04072747472344835, 0.04213187040356726, 0.0014043956801189086, 0.011235165440951269, 0.02949230928249708, 0.10392528032879923, 0.6319780560535089, 0.0031105035476176515, 0.013775087139449598, 0.0026661458979579866, 0.001777430598638658, 0.000888715299319329, 0.000888715299319329, 0.022217882482983224, 0.8851604381220516, 0.040436546119029464, 0.02977196252719752, 0.7747273664087312, 0.1387948050569388, 0.0832768830341633, 0.14438975880857235, 0.12233021232392935, 0.0852300659633934, 0.048129919602857445, 0.3178580107105377, 0.03409202638535736, 0.09625983920571489, 0.053143452894821766, 0.07520299937946476, 0.022059546484642995, 0.06703981890483189, 0.1282217895558435, 0.08526423569449493, 0.29614677283202434, 0.07810464338427016, 0.04491016994595534, 0.10999737276618048, 0.050117146171573354, 0.10999737276618048, 0.03059098532550581, 0.0714181129647041, 0.05985518038946629, 0.25846555168178625, 0.027206900177030133, 0.14215605342498244, 0.01700431261064383, 0.1938491637613397, 0.12039053328335833, 0.017684485115069586, 0.09114311559305094, 0.040347542187310584, 0.0684685564390725, 0.11431803619737999, 0.1461070088298065, 0.07886110518428886, 0.3533466573373563, 0.04157019498086545, 0.15772221036857773, 0.9930102764586157, 0.02486963751583536, 0.20724697929862798, 0.001657975834389024, 0.5023666778198742, 0.12269021174478777, 0.001657975834389024, 0.12269021174478777, 0.003315951668778048, 0.011605830840723167, 0.11023701642106605, 0.4096997775649069, 0.05728852821882172, 0.053816496205559804, 0.1032929523945422, 0.02430422409283346, 0.18141367269293546, 0.05902454422545269, 0.9994459237640521, 0.9849885165129951], \"Term\": [\"abus\", \"abus\", \"abus\", \"abus\", \"abus\", \"abus\", \"academ\", \"act\", \"act\", \"act\", \"act\", \"act\", \"act\", \"add\", \"add\", \"add\", \"add\", \"add\", \"add\", \"add\", \"add\", \"admin\", \"admin\", \"administr\", \"administr\", \"administr\", \"administr\", \"administr\", \"aid\", \"albino\", \"aliv\", \"aliv\", \"allemand\", \"alot\", \"american\", \"american\", \"american\", \"american\", \"american\", \"american\", \"american\", \"american\", \"anal\", \"anal\", \"anal\", \"anal\", \"anal\", \"ancestor\", \"angela\", \"anon\", \"anti\", \"anti\", \"anti\", \"anti\", \"anti\", \"anti\", \"anti\", \"anti\", \"anti\", \"arab\", \"arab\", \"arab\", \"arab\", \"archiv\", \"arrest\", \"arrest\", \"arrog\", \"ars\", \"ars\", \"ars\", \"ars\", \"ars\", \"articl\", \"articl\", \"articl\", \"articl\", \"articl\", \"articl\", \"articl\", \"articl\", \"articl\", \"articl\", \"asham\", \"asian\", \"asian\", \"asian\", \"asian\", \"asian\", \"asperg\", \"assad\", \"assad\", \"assad\", \"asshol\", \"asshol\", \"asshol\", \"asshol\", \"asshol\", \"asshol\", \"asshol\", \"asshol\", \"asshol\", \"asshol\", \"atheist\", \"attack\", \"attack\", \"attack\", \"attack\", \"attack\", \"attack\", \"attack\", \"attack\", \"attack\", \"attack\", \"australian\", \"award\", \"award\", \"award\", \"award\", \"award\", \"awww\", \"bail\", \"ball\", \"ball\", \"ball\", \"ball\", \"ball\", \"ban\", \"ban\", \"ban\", \"ban\", \"ban\", \"bare\", \"bark\", \"basement\", \"basement\", \"bastard\", \"bastard\", \"bastard\", \"bastard\", \"bastard\", \"bastard\", \"bastard\", \"beavi\", \"beavi\", \"behav\", \"belong\", \"belong\", \"belong\", \"bend\", \"beth\", \"better\", \"better\", \"better\", \"better\", \"better\", \"better\", \"better\", \"better\", \"better\", \"bias\", \"bigot\", \"bigot\", \"billcj\", \"billj\", \"billj\", \"bitch\", \"bitch\", \"bitch\", \"bitch\", \"bitch\", \"bitch\", \"bitch\", \"bitch\", \"bitch\", \"bitch\", \"black\", \"black\", \"black\", \"black\", \"black\", \"black\", \"black\", \"black\", \"black\", \"black\", \"blah\", \"blah\", \"blah\", \"blah\", \"blank\", \"block\", \"block\", \"block\", \"block\", \"block\", \"block\", \"block\", \"block\", \"bloodi\", \"bloodi\", \"bloodi\", \"bloodi\", \"bloodi\", \"bloodi\", \"bloodi\", \"bloodi\", \"bold\", \"boob\", \"boob\", \"bush\", \"bush\", \"butt\", \"butt\", \"butt\", \"butt\", \"butt\", \"butt\", \"butt\", \"butt\", \"butthead\", \"butthead\", \"california\", \"california\", \"call\", \"call\", \"call\", \"call\", \"call\", \"call\", \"call\", \"call\", \"call\", \"call\", \"calm\", \"care\", \"care\", \"care\", \"care\", \"care\", \"care\", \"care\", \"care\", \"care\", \"care\", \"cathol\", \"cathol\", \"cathol\", \"censor\", \"central\", \"central\", \"chang\", \"chang\", \"chang\", \"chang\", \"chang\", \"chang\", \"chang\", \"chang\", \"chees\", \"chicken\", \"chicken\", \"chines\", \"chines\", \"chines\", \"chink\", \"chink\", \"christian\", \"christian\", \"christian\", \"christian\", \"chuck\", \"chuck\", \"chula\", \"chula\", \"cite\", \"cite\", \"clever\", \"cline\", \"cock\", \"cock\", \"cock\", \"cock\", \"cock\", \"cock\", \"cock\", \"cock\", \"cocksuck\", \"cocksuck\", \"cocksuck\", \"codi\", \"come\", \"come\", \"come\", \"come\", \"come\", \"come\", \"come\", \"come\", \"come\", \"come\", \"complaint\", \"comput\", \"conduct\", \"conflict\", \"congratul\", \"congratul\", \"consensus\", \"content\", \"content\", \"content\", \"content\", \"content\", \"content\", \"content\", \"content\", \"content\", \"contrib\", \"contrib\", \"contrib\", \"contribut\", \"contribut\", \"contributor\", \"correct\", \"correct\", \"correct\", \"correct\", \"correct\", \"correct\", \"correct\", \"cougar\", \"couriano\", \"coward\", \"coward\", \"coward\", \"coward\", \"cracker\", \"credibl\", \"credit\", \"credit\", \"credit\", \"credit\", \"credit\", \"cretin\", \"criteria\", \"cult\", \"cult\", \"cunt\", \"cunt\", \"cunt\", \"cunt\", \"cunt\", \"cunt\", \"cuntfuck\", \"curios\", \"curp\", \"cynic\", \"daedalus\", \"dahn\", \"dahn\", \"damn\", \"damn\", \"damn\", \"damn\", \"damn\", \"damn\", \"damn\", \"damn\", \"damn\", \"damn\", \"dedic\", \"delanoy\", \"delet\", \"delet\", \"delet\", \"delet\", \"deliber\", \"describ\", \"dick\", \"dick\", \"dick\", \"dick\", \"dick\", \"dick\", \"dick\", \"dick\", \"dick\", \"dick\", \"dickfac\", \"dickhead\", \"dickhead\", \"dickhead\", \"dickhead\", \"diego\", \"diego\", \"difficult\", \"dildo\", \"dildo\", \"dipshit\", \"dirti\", \"dirti\", \"dirti\", \"dirti\", \"dirti\", \"dirti\", \"disagre\", \"discredit\", \"discuss\", \"discuss\", \"discuss\", \"discuss\", \"discuss\", \"dislik\", \"disput\", \"disturb\", \"disturb\", \"disturb\", \"donkey\", \"donkey\", \"dont\", \"dont\", \"dont\", \"dont\", \"dont\", \"dont\", \"dont\", \"dont\", \"dont\", \"dont\", \"doosh\", \"douch\", \"douch\", \"douch\", \"douch\", \"dozen\", \"drink\", \"drink\", \"drink\", \"drink\", \"drink\", \"drink\", \"drink\", \"drink\", \"drink\", \"duck\", \"dumb\", \"dumb\", \"dumb\", \"dumb\", \"dumb\", \"dumb\", \"dumb\", \"dumb\", \"dumbass\", \"dumbass\", \"dumbass\", \"dumbass\", \"dumbass\", \"dummi\", \"dummi\", \"dust\", \"eastern\", \"edgar\", \"edi\", \"edit\", \"edit\", \"edit\", \"edit\", \"edit\", \"edit\", \"edit\", \"edit\", \"edit\", \"edit\", \"enemi\", \"england\", \"england\", \"england\", \"enigmaman\", \"enjoy\", \"enjoy\", \"enjoy\", \"enjoy\", \"enjoy\", \"enjoy\", \"enjoy\", \"enjoy\", \"enjoy\", \"eras\", \"eras\", \"ethnic\", \"eventu\", \"except\", \"expir\", \"extern\", \"factual\", \"factual\", \"factual\", \"factual\", \"fag\", \"fagget\", \"faggot\", \"faggot\", \"faggot\", \"fals\", \"fals\", \"fals\", \"fals\", \"fart\", \"fart\", \"fascist\", \"fascist\", \"fascist\", \"fascist\", \"fascist\", \"fascist\", \"fascist\", \"februari\", \"fece\", \"feebl\", \"femal\", \"femal\", \"femal\", \"femal\", \"femal\", \"femal\", \"femal\", \"femal\", \"feminazi\", \"feminist\", \"feminist\", \"feminist\", \"fggt\", \"fiction\", \"fight\", \"fight\", \"fight\", \"fight\", \"fight\", \"fight\", \"fight\", \"fight\", \"fight\", \"filter\", \"filter\", \"filth\", \"fine\", \"fine\", \"fine\", \"fine\", \"fine\", \"fine\", \"fine\", \"fine\", \"fire\", \"fire\", \"fire\", \"fire\", \"fool\", \"fool\", \"fool\", \"fool\", \"fool\", \"fool\", \"fool\", \"fool\", \"fool\", \"forev\", \"forev\", \"forev\", \"forev\", \"forev\", \"forev\", \"freedom\", \"freedom\", \"fuck\", \"fuck\", \"fuck\", \"fuck\", \"fuck\", \"fuck\", \"fuck\", \"fuck\", \"fuck\", \"fuck\", \"fuckbag\", \"fucken\", \"fucken\", \"fucken\", \"fucker\", \"fucker\", \"fucker\", \"fucker\", \"fucker\", \"fucker\", \"fucker\", \"fuckfac\", \"fucki\", \"fuckin\", \"fuckin\", \"fuckin\", \"fuckin\", \"fuckin\", \"fuckin\", \"fuckin\", \"fuckin\", \"fuckin\", \"fuckin\", \"fuckwit\", \"fuckyou\", \"fuke\", \"fukin\", \"gamaliel\", \"game\", \"game\", \"game\", \"game\", \"game\", \"game\", \"game\", \"game\", \"game\", \"gather\", \"gawd\", \"geek\", \"genr\", \"georg\", \"gger\", \"go\", \"go\", \"go\", \"go\", \"go\", \"go\", \"go\", \"go\", \"go\", \"go\", \"gonna\", \"gonna\", \"gonna\", \"gonna\", \"gonna\", \"gonna\", \"gonna\", \"gonna\", \"gonna\", \"gonna\", \"good\", \"good\", \"good\", \"good\", \"good\", \"good\", \"good\", \"good\", \"good\", \"good\", \"goodby\", \"goodby\", \"grammar\", \"greek\", \"greek\", \"greek\", \"greek\", \"guy\", \"guy\", \"guy\", \"guy\", \"guy\", \"guy\", \"guy\", \"guy\", \"guy\", \"guy\", \"gwernol\", \"haha\", \"haha\", \"hahahaha\", \"hairi\", \"hanib\", \"hanib\", \"happi\", \"happi\", \"happi\", \"happi\", \"happi\", \"happi\", \"happi\", \"happi\", \"happi\", \"happi\", \"harass\", \"harass\", \"harass\", \"harrass\", \"hate\", \"hate\", \"hate\", \"hate\", \"hate\", \"hate\", \"hate\", \"hate\", \"hate\", \"hate\", \"havent\", \"havent\", \"havent\", \"head\", \"head\", \"head\", \"head\", \"head\", \"head\", \"head\", \"head\", \"head\", \"head\", \"hehe\", \"heil\", \"hell\", \"hell\", \"hell\", \"hell\", \"hell\", \"hell\", \"hell\", \"hell\", \"hell\", \"hell\", \"hindu\", \"hippi\", \"hist\", \"hitler\", \"hitler\", \"hitler\", \"hobbi\", \"homeland\", \"homo\", \"huge\", \"huge\", \"ident\", \"idiot\", \"idiot\", \"idiot\", \"idiot\", \"idiot\", \"idiot\", \"idiot\", \"idiot\", \"idiot\", \"idiot\", \"ilche\", \"imag\", \"imag\", \"imag\", \"imag\", \"imag\", \"imag\", \"imbecil\", \"inappropri\", \"india\", \"india\", \"india\", \"india\", \"india\", \"indian\", \"indian\", \"indian\", \"indian\", \"indian\", \"indian\", \"inform\", \"inform\", \"inform\", \"inform\", \"inform\", \"inform\", \"inform\", \"inform\", \"intellectu\", \"intend\", \"internet\", \"internet\", \"internet\", \"internet\", \"internet\", \"internet\", \"internet\", \"iranian\", \"irish\", \"isra\", \"israel\", \"israel\", \"jackass\", \"jackass\", \"jerk\", \"jerk\", \"jerk\", \"jessica\", \"jew\", \"jew\", \"jewfat\", \"jewish\", \"john\", \"john\", \"john\", \"john\", \"jone\", \"jone\", \"jone\", \"joseph\", \"juici\", \"kike\", \"kike\", \"kike\", \"kill\", \"kill\", \"kill\", \"kill\", \"kill\", \"kill\", \"kill\", \"kill\", \"kill\", \"kiss\", \"kiss\", \"kiss\", \"kiss\", \"kiss\", \"kiss\", \"knob\", \"know\", \"know\", \"know\", \"know\", \"know\", \"know\", \"know\", \"know\", \"know\", \"know\", \"languag\", \"languag\", \"languag\", \"languag\", \"latinus\", \"leav\", \"leav\", \"leav\", \"leav\", \"leav\", \"leav\", \"leav\", \"leav\", \"leav\", \"leav\", \"libtard\", \"lick\", \"lick\", \"lick\", \"lick\", \"lick\", \"licker\", \"lie\", \"lie\", \"lie\", \"lie\", \"lie\", \"lie\", \"lie\", \"lie\", \"lie\", \"lie\", \"life\", \"life\", \"life\", \"life\", \"life\", \"life\", \"life\", \"life\", \"life\", \"life\", \"lifetim\", \"lifetim\", \"like\", \"like\", \"like\", \"like\", \"like\", \"like\", \"like\", \"like\", \"like\", \"like\", \"limp\", \"link\", \"link\", \"link\", \"link\", \"link\", \"link\", \"link\", \"link\", \"link\", \"link\", \"lion\", \"list\", \"list\", \"list\", \"list\", \"list\", \"list\", \"list\", \"list\", \"listen\", \"listen\", \"listen\", \"listen\", \"listen\", \"listen\", \"listen\", \"listen\", \"listen\", \"listen\", \"littl\", \"littl\", \"littl\", \"littl\", \"littl\", \"littl\", \"littl\", \"littl\", \"littl\", \"live\", \"live\", \"live\", \"live\", \"live\", \"live\", \"live\", \"live\", \"live\", \"live\", \"lmao\", \"lmao\", \"look\", \"look\", \"look\", \"look\", \"look\", \"look\", \"look\", \"look\", \"look\", \"look\", \"looser\", \"loser\", \"loser\", \"loser\", \"loser\", \"loser\", \"loser\", \"love\", \"love\", \"love\", \"love\", \"love\", \"love\", \"love\", \"love\", \"love\", \"love\", \"lucki\", \"lucki\", \"lucki\", \"luckier\", \"macedonian\", \"macedonian\", \"macro\", \"maggot\", \"make\", \"make\", \"make\", \"make\", \"make\", \"make\", \"make\", \"make\", \"make\", \"make\", \"makin\", \"male\", \"male\", \"male\", \"male\", \"manipul\", \"mann\", \"manner\", \"mccain\", \"mccain\", \"mean\", \"mean\", \"mean\", \"mean\", \"mean\", \"mean\", \"mean\", \"mean\", \"mean\", \"mean\", \"meaningless\", \"mefuck\", \"messag\", \"messag\", \"messag\", \"messag\", \"messag\", \"messag\", \"messag\", \"messag\", \"messag\", \"messag\", \"metal\", \"metal\", \"mexican\", \"mexican\", \"million\", \"million\", \"million\", \"million\", \"million\", \"million\", \"misterwiki\", \"mitt\", \"mod\", \"moder\", \"moder\", \"moder\", \"molest\", \"money\", \"money\", \"money\", \"money\", \"money\", \"money\", \"money\", \"money\", \"money\", \"mongo\", \"monitor\", \"monkey\", \"monkey\", \"monkey\", \"moonshin\", \"mormon\", \"moron\", \"moron\", \"moron\", \"moron\", \"moron\", \"moron\", \"moron\", \"moron\", \"motha\", \"mother\", \"mother\", \"mother\", \"mother\", \"mother\", \"mother\", \"mother\", \"mother\", \"mother\", \"motherfuck\", \"motherfuck\", \"motherfuck\", \"motherfuck\", \"motherfuck\", \"motherfuck\", \"motherfuck\", \"mothjer\", \"mothjer\", \"muhajir\", \"murder\", \"murder\", \"murder\", \"murder\", \"murder\", \"murder\", \"murder\", \"muslim\", \"muslim\", \"muslim\", \"muslim\", \"muslim\", \"muslim\", \"muslim\", \"muslim\", \"mutha\", \"myspac\", \"nasti\", \"nasti\", \"nasti\", \"nasti\", \"nasti\", \"nate\", \"nate\", \"nativ\", \"naughti\", \"nazi\", \"nazi\", \"nazi\", \"nazi\", \"nazi\", \"nazi\", \"need\", \"need\", \"need\", \"need\", \"need\", \"need\", \"need\", \"need\", \"need\", \"need\", \"negro\", \"neiln\", \"neiln\", \"nerd\", \"nerd\", \"nhrhs\", \"nice\", \"nice\", \"nice\", \"nice\", \"nice\", \"nice\", \"nice\", \"nicknam\", \"nigga\", \"nigga\", \"nigga\", \"nigga\", \"nigga\", \"nigga\", \"nigga\", \"nigga\", \"nigga\", \"nigga\", \"niggaz\", \"nigger\", \"nigger\", \"nigger\", \"niggertardgo\", \"nippl\", \"njgw\", \"noob\", \"noob\", \"norri\", \"northern\", \"notabl\", \"novemb\", \"numer\", \"object\", \"obvious\", \"obvious\", \"obvious\", \"obvious\", \"octob\", \"offpiss\", \"outsid\", \"outsid\", \"outsid\", \"outsid\", \"outsid\", \"oxymoron\", \"paedophil\", \"page\", \"page\", \"page\", \"page\", \"page\", \"page\", \"page\", \"page\", \"page\", \"pakistani\", \"paranoid\", \"password\", \"password\", \"pathet\", \"pathet\", \"pathet\", \"pathet\", \"pathet\", \"pathet\", \"pathet\", \"pathet\", \"pathet\", \"pedo\", \"pedophil\", \"pedophil\", \"peni\", \"peni\", \"peni\", \"peni\", \"peni\", \"peni\", \"peopl\", \"peopl\", \"peopl\", \"peopl\", \"peopl\", \"peopl\", \"peopl\", \"peopl\", \"peopl\", \"peopl\", \"persian\", \"persian\", \"persist\", \"person\", \"person\", \"person\", \"person\", \"person\", \"person\", \"person\", \"person\", \"person\", \"person\", \"peter\", \"peter\", \"philosoph\", \"phuq\", \"phuq\", \"piec\", \"piec\", \"piec\", \"piec\", \"piec\", \"piec\", \"piec\", \"piec\", \"piec\", \"pig\", \"plot\", \"pointless\", \"poop\", \"poop\", \"post\", \"post\", \"post\", \"post\", \"post\", \"post\", \"post\", \"post\", \"post\", \"post\", \"preced\", \"preced\", \"priest\", \"proof\", \"proof\", \"proof\", \"proof\", \"propaganda\", \"prostitut\", \"pumpkin\", \"puppet\", \"puppet\", \"pussi\", \"pussi\", \"pussi\", \"pussi\", \"pussi\", \"pussi\", \"pussi\", \"pussi\", \"putin\", \"putin\", \"queer\", \"queer\", \"racial\", \"racist\", \"racist\", \"racist\", \"racist\", \"racist\", \"racist\", \"racist\", \"racist\", \"racist\", \"racist\", \"raid\", \"rajput\", \"rap\", \"rap\", \"rap\", \"rape\", \"rape\", \"rape\", \"read\", \"read\", \"read\", \"read\", \"read\", \"read\", \"read\", \"read\", \"read\", \"read\", \"real\", \"real\", \"real\", \"real\", \"real\", \"real\", \"real\", \"real\", \"real\", \"real\", \"realiz\", \"realiz\", \"realiz\", \"realiz\", \"realiz\", \"realiz\", \"realiz\", \"realiz\", \"redneck\", \"refrain\", \"religi\", \"religion\", \"religion\", \"remov\", \"remov\", \"remov\", \"remov\", \"remov\", \"remov\", \"remov\", \"repeat\", \"repeat\", \"repeat\", \"repeat\", \"repeat\", \"report\", \"report\", \"report\", \"report\", \"report\", \"report\", \"report\", \"report\", \"report\", \"resid\", \"respect\", \"respect\", \"respect\", \"respect\", \"respect\", \"respect\", \"respect\", \"retard\", \"retard\", \"retard\", \"retard\", \"retard\", \"retard\", \"retard\", \"retard\", \"retard\", \"retard\", \"retart\", \"rever\", \"revis\", \"rice\", \"ridicul\", \"ridicul\", \"ridicul\", \"right\", \"right\", \"right\", \"right\", \"right\", \"right\", \"right\", \"right\", \"right\", \"right\", \"rightcom\", \"righteous\", \"rightget\", \"robert\", \"rodeoand\", \"romney\", \"rot\", \"ruin\", \"ruin\", \"ruin\", \"ruin\", \"ruin\", \"rule\", \"rule\", \"rule\", \"rule\", \"rule\", \"rule\", \"rule\", \"rule\", \"sack\", \"sack\", \"salt\", \"salt\", \"sanns\", \"sanns\", \"santa\", \"sassi\", \"sassi\", \"satan\", \"satisfi\", \"say\", \"say\", \"say\", \"say\", \"say\", \"say\", \"say\", \"say\", \"say\", \"say\", \"scum\", \"scum\", \"section\", \"section\", \"section\", \"semen\", \"semen\", \"semen\", \"semen\", \"semen\", \"semen\", \"semit\", \"septemb\", \"serbia\", \"sexual\", \"sexual\", \"sexual\", \"sexual\", \"shes\", \"shes\", \"shit\", \"shit\", \"shit\", \"shit\", \"shit\", \"shit\", \"shit\", \"shit\", \"shit\", \"shit\", \"shitfuck\", \"shithead\", \"shithead\", \"shithead\", \"shithol\", \"shitstop\", \"shove\", \"shove\", \"shove\", \"shut\", \"shut\", \"shut\", \"shut\", \"shut\", \"shut\", \"shut\", \"shut\", \"sign\", \"sign\", \"sign\", \"sign\", \"sign\", \"sign\", \"sign\", \"sign\", \"sign\", \"sikh\", \"silli\", \"simpson\", \"site\", \"site\", \"site\", \"site\", \"site\", \"site\", \"site\", \"slap\", \"slap\", \"slap\", \"slap\", \"slap\", \"slap\", \"slight\", \"slit\", \"sloppi\", \"small\", \"small\", \"small\", \"small\", \"small\", \"small\", \"small\", \"small\", \"small\", \"small\", \"smell\", \"smell\", \"smell\", \"smell\", \"smelli\", \"snitch\", \"socialist\", \"sock\", \"sock\", \"son\", \"sourc\", \"sourc\", \"sourc\", \"sourc\", \"sourc\", \"sourc\", \"soviet\", \"spanish\", \"spew\", \"spic\", \"spic\", \"stalker\", \"star\", \"star\", \"star\", \"star\", \"star\", \"star\", \"stinki\", \"stop\", \"stop\", \"stop\", \"stop\", \"stop\", \"stop\", \"stop\", \"stop\", \"stop\", \"stop\", \"stuff\", \"stuff\", \"stuff\", \"stuff\", \"stuff\", \"stuff\", \"stuff\", \"stuff\", \"stuff\", \"stupid\", \"stupid\", \"stupid\", \"stupid\", \"stupid\", \"stupid\", \"stupid\", \"stupid\", \"stupid\", \"stupid\", \"subject\", \"suck\", \"suck\", \"suck\", \"suck\", \"suck\", \"suck\", \"suck\", \"suck\", \"suck\", \"sucker\", \"sunflow\", \"super\", \"super\", \"super\", \"super\", \"supertr\", \"suppress\", \"supremacist\", \"supress\", \"sweet\", \"sweet\", \"sweet\", \"take\", \"take\", \"take\", \"take\", \"take\", \"take\", \"take\", \"take\", \"take\", \"take\", \"talk\", \"talk\", \"talk\", \"talk\", \"talk\", \"talk\", \"talk\", \"talk\", \"talk\", \"talk\", \"tang\", \"tell\", \"tell\", \"tell\", \"tell\", \"tell\", \"tell\", \"tell\", \"tell\", \"tell\", \"tell\", \"term\", \"term\", \"term\", \"term\", \"terrorist\", \"terrorist\", \"terrorist\", \"terrorist\", \"terrorist\", \"text\", \"text\", \"text\", \"text\", \"text\", \"text\", \"text\", \"theyr\", \"thing\", \"thing\", \"thing\", \"thing\", \"thing\", \"thing\", \"thing\", \"thing\", \"thing\", \"thing\", \"think\", \"think\", \"think\", \"think\", \"think\", \"think\", \"think\", \"think\", \"think\", \"think\", \"thoma\", \"threat\", \"threat\", \"threat\", \"time\", \"time\", \"time\", \"time\", \"time\", \"time\", \"time\", \"time\", \"time\", \"time\", \"tit\", \"tommi\", \"tongu\", \"trace\", \"troll\", \"troll\", \"troll\", \"troll\", \"troll\", \"troll\", \"troll\", \"trout\", \"truth\", \"truth\", \"truth\", \"truth\", \"turk\", \"turkey\", \"turkish\", \"twat\", \"twat\", \"twat\", \"twat\", \"twat\", \"ugli\", \"ugli\", \"ugli\", \"ugli\", \"ugli\", \"ugli\", \"ugli\", \"ugli\", \"ugli\", \"ugli\", \"ullmann\", \"ullmann\", \"unblock\", \"unblock\", \"unblock\", \"unblock\", \"unblock\", \"uncl\", \"unconstruct\", \"unemploy\", \"unsign\", \"useless\", \"useless\", \"useless\", \"useless\", \"useless\", \"user\", \"user\", \"user\", \"user\", \"user\", \"user\", \"usual\", \"vagina\", \"vagina\", \"vagina\", \"vagina\", \"vagina\", \"vagina\", \"valid\", \"vandal\", \"verifi\", \"video\", \"video\", \"video\", \"video\", \"video\", \"video\", \"video\", \"virgin\", \"virgin\", \"vista\", \"vista\", \"viva\", \"viva\", \"vomit\", \"wale\", \"wale\", \"wanker\", \"want\", \"want\", \"want\", \"want\", \"want\", \"want\", \"want\", \"want\", \"want\", \"want\", \"wanta\", \"wanta\", \"warn\", \"warn\", \"warn\", \"warn\", \"wasnt\", \"watch\", \"watch\", \"watch\", \"watch\", \"watch\", \"watch\", \"watch\", \"watch\", \"watch\", \"watch\", \"weak\", \"weak\", \"weak\", \"weak\", \"weak\", \"weak\", \"whatsoev\", \"whine\", \"whine\", \"whine\", \"whini\", \"white\", \"white\", \"white\", \"white\", \"white\", \"white\", \"white\", \"white\", \"white\", \"white\", \"whore\", \"whore\", \"whore\", \"whore\", \"wiki\", \"wikipedia\", \"wikipedia\", \"wikipedia\", \"wikipedia\", \"wikipedia\", \"wikipedia\", \"wikipedia\", \"wikipedia\", \"wikipedia\", \"wikipedia\", \"will\", \"willi\", \"woman\", \"woman\", \"woman\", \"woman\", \"woman\", \"woman\", \"woman\", \"woman\", \"women\", \"women\", \"women\", \"women\", \"women\", \"women\", \"women\", \"women\", \"women\", \"women\", \"womensday\", \"womensday\", \"womensday\", \"word\", \"word\", \"word\", \"word\", \"word\", \"word\", \"word\", \"word\", \"word\", \"word\", \"work\", \"work\", \"work\", \"work\", \"work\", \"work\", \"work\", \"work\", \"work\", \"work\", \"world\", \"world\", \"world\", \"world\", \"world\", \"world\", \"world\", \"world\", \"world\", \"world\", \"write\", \"write\", \"write\", \"write\", \"write\", \"write\", \"write\", \"write\", \"yank\", \"yeah\", \"yeah\", \"yeah\", \"yeah\", \"yeah\", \"yeah\", \"yeah\", \"yeah\", \"yeah\", \"year\", \"year\", \"year\", \"year\", \"year\", \"year\", \"year\", \"year\", \"yourselfgo\", \"\\u0177our\"]}, \"R\": 30, \"lambda.step\": 0.01, \"plot.opts\": {\"xlab\": \"PC1\", \"ylab\": \"PC2\"}, \"topic.order\": [6, 4, 3, 10, 7, 9, 8, 5, 2, 1]};\n",
       "\n",
       "function LDAvis_load_lib(url, callback){\n",
       "  var s = document.createElement('script');\n",
       "  s.src = url;\n",
       "  s.async = true;\n",
       "  s.onreadystatechange = s.onload = callback;\n",
       "  s.onerror = function(){console.warn(\"failed to load library \" + url);};\n",
       "  document.getElementsByTagName(\"head\")[0].appendChild(s);\n",
       "}\n",
       "\n",
       "if(typeof(LDAvis) !== \"undefined\"){\n",
       "   // already loaded: just create the visualization\n",
       "   !function(LDAvis){\n",
       "       new LDAvis(\"#\" + \"ldavis_el93082333704332616569234669\", ldavis_el93082333704332616569234669_data);\n",
       "   }(LDAvis);\n",
       "}else if(typeof define === \"function\" && define.amd){\n",
       "   // require.js is available: use it to load d3/LDAvis\n",
       "   require.config({paths: {d3: \"https://d3js.org/d3.v5\"}});\n",
       "   require([\"d3\"], function(d3){\n",
       "      window.d3 = d3;\n",
       "      LDAvis_load_lib(\"https://cdn.jsdelivr.net/gh/bmabey/pyLDAvis@3.3.1/pyLDAvis/js/ldavis.v3.0.0.js\", function(){\n",
       "        new LDAvis(\"#\" + \"ldavis_el93082333704332616569234669\", ldavis_el93082333704332616569234669_data);\n",
       "      });\n",
       "    });\n",
       "}else{\n",
       "    // require.js not available: dynamically load d3 & LDAvis\n",
       "    LDAvis_load_lib(\"https://d3js.org/d3.v5.js\", function(){\n",
       "         LDAvis_load_lib(\"https://cdn.jsdelivr.net/gh/bmabey/pyLDAvis@3.3.1/pyLDAvis/js/ldavis.v3.0.0.js\", function(){\n",
       "                 new LDAvis(\"#\" + \"ldavis_el93082333704332616569234669\", ldavis_el93082333704332616569234669_data);\n",
       "            })\n",
       "         });\n",
       "}\n",
       "</script>"
      ],
      "text/plain": [
       "PreparedData(topic_coordinates=              x         y  topics  cluster       Freq\n",
       "topic                                                \n",
       "5      0.097990  0.028944       1        1  15.198527\n",
       "3     -0.019929 -0.017252       2        1  14.681725\n",
       "2     -0.079810 -0.023696       3        1  10.121364\n",
       "9      0.093109  0.054932       4        1   9.679407\n",
       "6     -0.098828  0.068139       5        1   9.676005\n",
       "8      0.314806  0.049237       6        1   8.923086\n",
       "7     -0.072042 -0.096803       7        1   8.413311\n",
       "4     -0.017459 -0.186479       8        1   8.108106\n",
       "1     -0.063568 -0.112566       9        1   7.955501\n",
       "0     -0.154270  0.235544      10        1   7.242967, topic_info=         Term          Freq         Total Category  logprob  loglift\n",
       "2        fuck  31321.000000  31321.000000  Default  30.0000  30.0000\n",
       "5894   nigger  14794.000000  14794.000000  Default  29.0000  29.0000\n",
       "920      suck  11370.000000  11370.000000  Default  28.0000  28.0000\n",
       "1825   faggot   8149.000000   8149.000000  Default  27.0000  27.0000\n",
       "25       hate   5997.000000   5997.000000  Default  26.0000  26.0000\n",
       "...       ...           ...           ...      ...      ...      ...\n",
       "21      think    499.930237   4037.926570  Topic10  -4.6940   0.5361\n",
       "1234  obvious    212.153519    590.379424  Topic10  -5.5511   1.6017\n",
       "26      peopl    341.177156   4700.246289  Topic10  -5.0761   0.0022\n",
       "108      hell    258.268418   1858.810986  Topic10  -5.3545   0.6514\n",
       "1754    white    217.011150    925.798225  Topic10  -5.5285   1.1744\n",
       "\n",
       "[663 rows x 6 columns], token_table=      Topic      Freq        Term\n",
       "term                             \n",
       "698       1  0.307411        abus\n",
       "698       2  0.215522        abus\n",
       "698       3  0.011695        abus\n",
       "698       4  0.003341        abus\n",
       "698       5  0.011695        abus\n",
       "...     ...       ...         ...\n",
       "305       6  0.024304        year\n",
       "305       7  0.181414        year\n",
       "305       8  0.059025        year\n",
       "8945      1  0.999446  yourselfgo\n",
       "7950      2  0.984989        ŷour\n",
       "\n",
       "[1910 rows x 3 columns], R=30, lambda_step=0.01, plot_opts={'xlab': 'PC1', 'ylab': 'PC2'}, topic_order=[6, 4, 3, 10, 7, 9, 8, 5, 2, 1])"
      ]
     },
     "execution_count": 25,
     "metadata": {},
     "output_type": "execute_result"
    }
   ],
   "source": [
    "import pyLDAvis\n",
    "import pyLDAvis.gensim_models as gensimvis\n",
    "# Visualize the topics\n",
    "pyLDAvis.enable_notebook()\n",
    "vis = gensimvis.prepare(lda_model, bow_corpus, dictionary)\n",
    "vis"
   ]
  },
  {
   "cell_type": "code",
   "execution_count": 26,
   "id": "75a60579",
   "metadata": {},
   "outputs": [
    {
     "name": "stderr",
     "output_type": "stream",
     "text": [
      "C:\\Users\\matij\\anaconda3\\envs\\nlp-test\\lib\\site-packages\\ipykernel\\ipkernel.py:287: DeprecationWarning: `should_run_async` will not call `transform_cell` automatically in the future. Please pass the result to `transformed_cell` argument and any exception that happen during thetransform in `preprocessing_exc_tuple` in IPython 7.17 and above.\n",
      "  and should_run_async(code)\n"
     ]
    },
    {
     "data": {
      "text/plain": [
       "[(0, 0.033336744),\n",
       " (1, 0.033336833),\n",
       " (2, 0.03335548),\n",
       " (3, 0.03334616),\n",
       " (4, 0.69992673),\n",
       " (5, 0.033338282),\n",
       " (6, 0.033339318),\n",
       " (7, 0.033335418),\n",
       " (8, 0.03333949),\n",
       " (9, 0.03334557)]"
      ]
     },
     "execution_count": 26,
     "metadata": {},
     "output_type": "execute_result"
    }
   ],
   "source": [
    "test = lda_model[bow_corpus[3]]\n",
    "test"
   ]
  },
  {
   "cell_type": "code",
   "execution_count": 27,
   "id": "22dc2858",
   "metadata": {},
   "outputs": [
    {
     "name": "stderr",
     "output_type": "stream",
     "text": [
      "C:\\Users\\matij\\anaconda3\\envs\\nlp-test\\lib\\site-packages\\ipykernel\\ipkernel.py:287: DeprecationWarning: `should_run_async` will not call `transform_cell` automatically in the future. Please pass the result to `transformed_cell` argument and any exception that happen during thetransform in `preprocessing_exc_tuple` in IPython 7.17 and above.\n",
      "  and should_run_async(code)\n"
     ]
    }
   ],
   "source": [
    "def argmax(pairs):\n",
    "    return max(pairs, key=lambda x: x[1])[0]"
   ]
  },
  {
   "cell_type": "code",
   "execution_count": 28,
   "id": "64aae15c",
   "metadata": {},
   "outputs": [
    {
     "name": "stderr",
     "output_type": "stream",
     "text": [
      "C:\\Users\\matij\\anaconda3\\envs\\nlp-test\\lib\\site-packages\\ipykernel\\ipkernel.py:287: DeprecationWarning: `should_run_async` will not call `transform_cell` automatically in the future. Please pass the result to `transformed_cell` argument and any exception that happen during thetransform in `preprocessing_exc_tuple` in IPython 7.17 and above.\n",
      "  and should_run_async(code)\n"
     ]
    }
   ],
   "source": [
    "old_labels = dict()\n",
    "for i in range(len(bow_corpus)):\n",
    "    key = max(lda_model[bow_corpus[i]], key=lambda x: x[1])[0]\n",
    "    x = old_labels.get(key)\n",
    "    if x is None:\n",
    "        x = []\n",
    "        old_labels[key] = x\n",
    "    x.append(labels[i])"
   ]
  },
  {
   "cell_type": "code",
   "execution_count": 29,
   "id": "8fe3e811",
   "metadata": {},
   "outputs": [
    {
     "name": "stdout",
     "output_type": "stream",
     "text": [
      "0\n",
      "('abus', 0.08900638907248293)\n",
      "('bene', 0.10619079092311082)\n",
      "('cybe', 0.007270323859881031)\n",
      "('hate', 0.06961885877946684)\n",
      "('iden', 0.015421899096717338)\n",
      "('insu', 0.09627671293236395)\n",
      "('obsc', 0.08746419916281119)\n",
      "('offe', 0.014540647719762063)\n",
      "('prof', 0.016743776162150253)\n",
      "('raci', 0.0039656311962987445)\n",
      "('sexi', 0.1130204890945142)\n",
      "('spam', 0.1868252919145186)\n",
      "('thre', 0.008592200925313946)\n",
      "('toxi', 0.18506278916060806)\n",
      "1\n",
      "('abus', 0.10708696624189581)\n",
      "('bene', 0.029510395707578806)\n",
      "('cybe', 0.004694835680751174)\n",
      "('hate', 0.0628213726805276)\n",
      "('iden', 0.017214397496087636)\n",
      "('insu', 0.11781801922646994)\n",
      "('obsc', 0.11871227364185111)\n",
      "('offe', 0.005812653699977644)\n",
      "('prof', 0.008048289738430584)\n",
      "('raci', 0.004694835680751174)\n",
      "('sexi', 0.09903867650346523)\n",
      "('spam', 0.17929801028392578)\n",
      "('thre', 0.0053655264922870555)\n",
      "('toxi', 0.23988374692600045)\n",
      "2\n",
      "('abus', 0.07168059424326834)\n",
      "('bene', 0.01615598885793872)\n",
      "('cybe', 0.007056638811513464)\n",
      "('hate', 0.05589600742804086)\n",
      "('iden', 0.020055710306406686)\n",
      "('insu', 0.11680594243268339)\n",
      "('obsc', 0.12646239554317548)\n",
      "('offe', 0.01095636025998143)\n",
      "('prof', 0.022284122562674095)\n",
      "('raci', 0.006870937790157846)\n",
      "('sexi', 0.09972144846796657)\n",
      "('spam', 0.15970287836583102)\n",
      "('thre', 0.005756731662024141)\n",
      "('toxi', 0.280594243268338)\n",
      "3\n",
      "('abus', 0.07192817621881198)\n",
      "('bene', 0.03351080488568744)\n",
      "('cybe', 0.008142812402129659)\n",
      "('hate', 0.08226328426766887)\n",
      "('iden', 0.016494414865852385)\n",
      "('insu', 0.11097191773671573)\n",
      "('obsc', 0.12047186553920033)\n",
      "('offe', 0.023802067021609773)\n",
      "('prof', 0.027455893099488465)\n",
      "('raci', 0.00229669067752375)\n",
      "('sexi', 0.05741726693809375)\n",
      "('spam', 0.1846748094790688)\n",
      "('thre', 0.006159306816995511)\n",
      "('toxi', 0.2544106900511536)\n",
      "4\n",
      "('abus', 0.10664763458401305)\n",
      "('bene', 0.15579119086460033)\n",
      "('cybe', 0.0032626427406199023)\n",
      "('hate', 0.050367047308319736)\n",
      "('iden', 0.01366231647634584)\n",
      "('insu', 0.10134584013050571)\n",
      "('obsc', 0.09420880913539967)\n",
      "('offe', 0.004893964110929853)\n",
      "('prof', 0.01101141924959217)\n",
      "('raci', 0.003874388254486134)\n",
      "('sexi', 0.1478384991843393)\n",
      "('spam', 0.13601141924959217)\n",
      "('thre', 0.006933115823817292)\n",
      "('toxi', 0.16415171288743882)\n",
      "5\n",
      "('abus', 0.056209464328609175)\n",
      "('bene', 0.010088878212827288)\n",
      "('cybe', 0.0009608455440787893)\n",
      "('hate', 0.017775642565457602)\n",
      "('iden', 0.03639202498198415)\n",
      "('insu', 0.24177276002882536)\n",
      "('obsc', 0.2797261590199375)\n",
      "('offe', 0.0019216910881575786)\n",
      "('prof', 0.0063656017295219795)\n",
      "('raci', 0.0006005284650492434)\n",
      "('sexi', 0.018616382416526543)\n",
      "('spam', 0.027624309392265192)\n",
      "('thre', 0.014052366082152294)\n",
      "('toxi', 0.28789334614460727)\n",
      "6\n",
      "('abus', 0.07496165644171779)\n",
      "('bene', 0.010736196319018405)\n",
      "('cybe', 0.00786042944785276)\n",
      "('hate', 0.07745398773006135)\n",
      "('iden', 0.01706288343558282)\n",
      "('insu', 0.12269938650306748)\n",
      "('obsc', 0.12883435582822086)\n",
      "('offe', 0.005559815950920245)\n",
      "('prof', 0.012653374233128834)\n",
      "('raci', 0.0013420245398773007)\n",
      "('sexi', 0.0366180981595092)\n",
      "('spam', 0.23427914110429449)\n",
      "('thre', 0.009585889570552147)\n",
      "('toxi', 0.26035276073619634)\n",
      "7\n",
      "('abus', 0.10305068460245016)\n",
      "('bene', 0.07542637521018496)\n",
      "('cybe', 0.0031227480182560653)\n",
      "('hate', 0.07014172471775162)\n",
      "('iden', 0.03338938265673793)\n",
      "('insu', 0.11554167667547442)\n",
      "('obsc', 0.11914484746576988)\n",
      "('offe', 0.00816718712466971)\n",
      "('prof', 0.007686764352630314)\n",
      "('raci', 0.0031227480182560653)\n",
      "('sexi', 0.050924813836175836)\n",
      "('spam', 0.1628633197213548)\n",
      "('thre', 0.011049723756906077)\n",
      "('toxi', 0.23636800384338216)\n",
      "8\n",
      "('abus', 0.06368607269218399)\n",
      "('bene', 0.011257639112254744)\n",
      "('hate', 0.03248633000964941)\n",
      "('iden', 0.05403666773882277)\n",
      "('insu', 0.207462206497266)\n",
      "('obsc', 0.22322290125442265)\n",
      "('offe', 0.005146349308459312)\n",
      "('prof', 0.005146349308459312)\n",
      "('raci', 0.000643293663557414)\n",
      "('sexi', 0.021871984560952074)\n",
      "('spam', 0.08523641042135735)\n",
      "('thre', 0.010935992280476037)\n",
      "('toxi', 0.27886780315213894)\n",
      "9\n",
      "('abus', 0.055307381408211016)\n",
      "('bene', 0.013614124654328865)\n",
      "('cybe', 0.002339927674962774)\n",
      "('hate', 0.029993618379068283)\n",
      "('iden', 0.022122952563284407)\n",
      "('insu', 0.20102105934907466)\n",
      "('obsc', 0.21974048074877686)\n",
      "('offe', 0.005105296745373325)\n",
      "('prof', 0.009359710699851096)\n",
      "('raci', 0.0008508827908955541)\n",
      "('sexi', 0.03382259093809828)\n",
      "('spam', 0.09380982769623485)\n",
      "('thre', 0.009359710699851096)\n",
      "('toxi', 0.3035524356519889)\n"
     ]
    },
    {
     "name": "stderr",
     "output_type": "stream",
     "text": [
      "C:\\Users\\matij\\anaconda3\\envs\\nlp-test\\lib\\site-packages\\ipykernel\\ipkernel.py:287: DeprecationWarning: `should_run_async` will not call `transform_cell` automatically in the future. Please pass the result to `transformed_cell` argument and any exception that happen during thetransform in `preprocessing_exc_tuple` in IPython 7.17 and above.\n",
      "  and should_run_async(code)\n"
     ]
    }
   ],
   "source": [
    "for i in range(10):\n",
    "    labs, occ = np.unique(old_labels[i], return_counts = True)\n",
    "    print(f\"{i}\")\n",
    "    for tup in list(zip(labs, occ/sum(occ))):\n",
    "        print(tup)"
   ]
  },
  {
   "cell_type": "code",
   "execution_count": 30,
   "id": "09be3be4",
   "metadata": {},
   "outputs": [
    {
     "name": "stderr",
     "output_type": "stream",
     "text": [
      "C:\\Users\\matij\\anaconda3\\envs\\nlp-test\\lib\\site-packages\\ipykernel\\ipkernel.py:287: DeprecationWarning: `should_run_async` will not call `transform_cell` automatically in the future. Please pass the result to `transformed_cell` argument and any exception that happen during thetransform in `preprocessing_exc_tuple` in IPython 7.17 and above.\n",
      "  and should_run_async(code)\n"
     ]
    }
   ],
   "source": [
    "old_labels = dict()\n",
    "for i in range(len(bow_corpus)):\n",
    "    key = labels[i]\n",
    "    new_topic = max(lda_model[bow_corpus[i]], key=lambda x: x[1])[0]\n",
    "    x = old_labels.get(key)\n",
    "    if x is None:\n",
    "        x = []\n",
    "        old_labels[key] = x\n",
    "    x.append(new_topic)"
   ]
  },
  {
   "cell_type": "code",
   "execution_count": 31,
   "id": "e9ca319c",
   "metadata": {},
   "outputs": [
    {
     "name": "stdout",
     "output_type": "stream",
     "text": [
      "abus\n",
      "(0, 0.09581263307310149)\n",
      "(1, 0.11237284125857583)\n",
      "(2, 0.09202744263070736)\n",
      "(3, 0.16441920984149516)\n",
      "(4, 0.12301868937780933)\n",
      "(5, 0.11071682044002838)\n",
      "(6, 0.09179086822805772)\n",
      "(7, 0.10172699313934232)\n",
      "(8, 0.047551454932576294)\n",
      "(9, 0.06056304707830613)\n",
      "hate\n",
      "(0, 0.10500165617754223)\n",
      "(1, 0.09373964889036104)\n",
      "(2, 0.10168930109307718)\n",
      "(3, 0.26300099370652535)\n",
      "(4, 0.08049022855250083)\n",
      "(5, 0.048029148724743294)\n",
      "(6, 0.13150049685326268)\n",
      "(7, 0.09506459092414707)\n",
      "(8, 0.036104670420669095)\n",
      "(9, 0.04537926465717125)\n",
      "spam\n",
      "(0, 0.10896941660241583)\n",
      "(1, 0.10267283474685171)\n",
      "(2, 0.110254433307633)\n",
      "(3, 0.22719095348239526)\n",
      "(4, 0.0864816242611154)\n",
      "(5, 0.029683885890516577)\n",
      "(6, 0.15612952968388588)\n",
      "(7, 0.08673862760215882)\n",
      "(8, 0.033795939347211514)\n",
      "(9, 0.058082755075815985)\n",
      "offe\n",
      "(0, 0.12643678160919541)\n",
      "(1, 0.04980842911877394)\n",
      "(2, 0.10919540229885058)\n",
      "(3, 0.43486590038314177)\n",
      "(4, 0.04597701149425287)\n",
      "(5, 0.03065134099616858)\n",
      "(6, 0.05747126436781609)\n",
      "(7, 0.06704980842911877)\n",
      "(8, 0.034482758620689655)\n",
      "(9, 0.044061302681992334)\n",
      "prof\n",
      "(0, 0.1013157894736842)\n",
      "(1, 0.04473684210526316)\n",
      "(2, 0.15657894736842104)\n",
      "(3, 0.34868421052631576)\n",
      "(4, 0.07105263157894737)\n",
      "(5, 0.06973684210526315)\n",
      "(6, 0.0868421052631579)\n",
      "(7, 0.042105263157894736)\n",
      "(8, 0.021052631578947368)\n",
      "(9, 0.05789473684210526)\n",
      "cybe\n",
      "(0, 0.1274131274131274)\n",
      "(1, 0.08108108108108109)\n",
      "(2, 0.14671814671814673)\n",
      "(3, 0.30115830115830117)\n",
      "(4, 0.06177606177606178)\n",
      "(5, 0.03474903474903475)\n",
      "(6, 0.15444015444015444)\n",
      "(7, 0.05019305019305019)\n",
      "(9, 0.04247104247104247)\n",
      "raci\n",
      "(0, 0.12162162162162163)\n",
      "(1, 0.14189189189189189)\n",
      "(2, 0.25)\n",
      "(3, 0.14864864864864866)\n",
      "(4, 0.13513513513513514)\n",
      "(5, 0.033783783783783786)\n",
      "(6, 0.0472972972972973)\n",
      "(7, 0.08783783783783784)\n",
      "(8, 0.006756756756756757)\n",
      "(9, 0.02702702702702703)\n",
      "sexi\n",
      "(0, 0.14551083591331268)\n",
      "(1, 0.12440191387559808)\n",
      "(2, 0.1508584294962004)\n",
      "(3, 0.15423585702223472)\n",
      "(4, 0.203771460737405)\n",
      "(5, 0.04418801013228258)\n",
      "(6, 0.05263157894736842)\n",
      "(7, 0.059949338587109484)\n",
      "(8, 0.019701660568533633)\n",
      "(9, 0.044750914719954966)\n",
      "bene\n",
      "(0, 0.20607097050021378)\n",
      "(1, 0.05686190679777683)\n",
      "(2, 0.03762291577597264)\n",
      "(3, 0.13723813595553655)\n",
      "(4, 0.3257802479692176)\n",
      "(5, 0.03591278324070116)\n",
      "(6, 0.02394185549380077)\n",
      "(7, 0.13467293715262932)\n",
      "(8, 0.014963659683625482)\n",
      "(9, 0.026934587430525864)\n",
      "toxi\n",
      "(0, 0.06102635228848821)\n",
      "(1, 0.07803489305788744)\n",
      "(2, 0.11015402584130228)\n",
      "(3, 0.17789619680268634)\n",
      "(4, 0.058179429155412805)\n",
      "(5, 0.1744652894371852)\n",
      "(6, 0.10008029783195854)\n",
      "(7, 0.07204905467552376)\n",
      "(8, 0.06314329513103147)\n",
      "(9, 0.10497116577852399)\n",
      "obsc\n",
      "(0, 0.046751094804118834)\n",
      "(1, 0.06296603148301574)\n",
      "(2, 0.08095632619244882)\n",
      "(3, 0.13670256835128416)\n",
      "(4, 0.05420759853237069)\n",
      "(5, 0.2755355663392117)\n",
      "(6, 0.07918096816191265)\n",
      "(7, 0.05870517220972896)\n",
      "(8, 0.082258255414842)\n",
      "(9, 0.1227364185110664)\n",
      "thre\n",
      "(0, 0.08158995815899582)\n",
      "(1, 0.0502092050209205)\n",
      "(2, 0.06485355648535565)\n",
      "(3, 0.12552301255230125)\n",
      "(4, 0.07112970711297072)\n",
      "(5, 0.24476987447698745)\n",
      "(6, 0.10460251046025104)\n",
      "(7, 0.09414225941422594)\n",
      "(8, 0.07112970711297072)\n",
      "(9, 0.09205020920502092)\n",
      "insu\n",
      "(0, 0.05560492573314714)\n",
      "(1, 0.06791925860099023)\n",
      "(2, 0.07959883204265583)\n",
      "(3, 0.13368033515297703)\n",
      "(4, 0.06309508696204139)\n",
      "(5, 0.2565697600609369)\n",
      "(6, 0.08112225466548179)\n",
      "(7, 0.061063856798273454)\n",
      "(8, 0.08124920655071728)\n",
      "(9, 0.12009648343277898)\n",
      "iden\n",
      "(0, 0.05378020265003897)\n",
      "(1, 0.060795011691348405)\n",
      "(2, 0.0818394388152767)\n",
      "(3, 0.12314886983632112)\n",
      "(4, 0.05222135619641465)\n",
      "(5, 0.23616523772408418)\n",
      "(6, 0.06936866718628215)\n",
      "(7, 0.1083398285268901)\n",
      "(8, 0.13172252533125486)\n",
      "(9, 0.08261886204208885)\n"
     ]
    },
    {
     "name": "stderr",
     "output_type": "stream",
     "text": [
      "C:\\Users\\matij\\anaconda3\\envs\\nlp-test\\lib\\site-packages\\ipykernel\\ipkernel.py:287: DeprecationWarning: `should_run_async` will not call `transform_cell` automatically in the future. Please pass the result to `transformed_cell` argument and any exception that happen during thetransform in `preprocessing_exc_tuple` in IPython 7.17 and above.\n",
      "  and should_run_async(code)\n"
     ]
    }
   ],
   "source": [
    "for key in old_labels.keys():\n",
    "    labs, occ = np.unique(old_labels[key], return_counts = True)\n",
    "    print(f\"{key}\")\n",
    "    for tup in list(zip(labs, occ/sum(occ))):\n",
    "        print(tup)"
   ]
  },
  {
   "cell_type": "code",
   "execution_count": null,
   "id": "d89b9271",
   "metadata": {},
   "outputs": [],
   "source": []
  },
  {
   "cell_type": "code",
   "execution_count": null,
   "id": "94fb3c21",
   "metadata": {},
   "outputs": [],
   "source": []
  },
  {
   "cell_type": "code",
   "execution_count": null,
   "id": "71e04a1e",
   "metadata": {},
   "outputs": [],
   "source": []
  }
 ],
 "metadata": {
  "kernelspec": {
   "display_name": "Python [conda env:nlp-test] *",
   "language": "python",
   "name": "conda-env-nlp-test-py"
  },
  "language_info": {
   "codemirror_mode": {
    "name": "ipython",
    "version": 3
   },
   "file_extension": ".py",
   "mimetype": "text/x-python",
   "name": "python",
   "nbconvert_exporter": "python",
   "pygments_lexer": "ipython3",
   "version": "3.7.10"
  }
 },
 "nbformat": 4,
 "nbformat_minor": 5
}
