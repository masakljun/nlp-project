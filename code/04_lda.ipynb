{
 "cells": [
  {
   "cell_type": "code",
   "execution_count": 6,
   "id": "preceding-trunk",
   "metadata": {},
   "outputs": [
    {
     "name": "stderr",
     "output_type": "stream",
     "text": [
      "[nltk_data] Downloading package wordnet to\n",
      "[nltk_data]     C:\\Users\\Masa\\AppData\\Roaming\\nltk_data...\n",
      "[nltk_data]   Package wordnet is already up-to-date!\n"
     ]
    },
    {
     "data": {
      "text/plain": [
       "True"
      ]
     },
     "execution_count": 6,
     "metadata": {},
     "output_type": "execute_result"
    }
   ],
   "source": [
    "import json \n",
    "import nltk\n",
    "import gensim\n",
    "from gensim.utils import simple_preprocess\n",
    "from gensim.parsing.preprocessing import STOPWORDS\n",
    "from nltk.stem import WordNetLemmatizer, SnowballStemmer\n",
    "from nltk.stem.porter import *\n",
    "import numpy as np\n",
    "np.random.seed(1)\n",
    "nltk.download('wordnet')"
   ]
  },
  {
   "cell_type": "code",
   "execution_count": 3,
   "id": "fuzzy-waters",
   "metadata": {},
   "outputs": [
    {
     "name": "stderr",
     "output_type": "stream",
     "text": [
      "IOPub data rate exceeded.\n",
      "The notebook server will temporarily stop sending output\n",
      "to the client in order to avoid crashing it.\n",
      "To change this limit, set the config variable\n",
      "`--NotebookApp.iopub_data_rate_limit`.\n",
      "\n",
      "Current values:\n",
      "NotebookApp.iopub_data_rate_limit=1000000.0 (bytes/sec)\n",
      "NotebookApp.rate_limit_window=3.0 (secs)\n",
      "\n"
     ]
    }
   ],
   "source": [
    "with open(\"data/filtered/abusive_hateful_spam_normal.json\") as f:\n",
    "    data = json.load(f)\n",
    "\n",
    "data_tag = 'ahs'  # can also be 'ahs' for the other dataset\n",
    "print(data)"
   ]
  },
  {
   "cell_type": "code",
   "execution_count": 86,
   "id": "improving-skirt",
   "metadata": {},
   "outputs": [
    {
     "name": "stdout",
     "output_type": "stream",
     "text": [
      "4227\n",
      "1752\n",
      "7782\n",
      "1752\n",
      "1752\n"
     ]
    }
   ],
   "source": [
    "if data_tag == 'srb':\n",
    "    racism = []\n",
    "    benevolent = []\n",
    "    sexism = []\n",
    "    for id, tweet in data.items():\n",
    "        text = tweet[\"text\"]\n",
    "        if(len(text) == 0):\n",
    "            continue\n",
    "        if tweet[\"label\"] == \"sexism\":\n",
    "            sexism.append(text)\n",
    "        if tweet[\"label\"] == \"benevolent\":\n",
    "            benevolent.append(text)\n",
    "        if tweet[\"label\"] == \"racism\":\n",
    "            racism.append(text)\n",
    "        if tweet[\"label\"] == \"both\":\n",
    "            sexism.append(text)\n",
    "            racism.append(text)\n",
    "    print(len(racism))\n",
    "    print(len(sexism))\n",
    "    print(len(benevolent))\n",
    "\n",
    "    labels = []\n",
    "    labels.extend([\"R\"] * len(racism))\n",
    "    labels.extend([\"S\"] * len(sexism))\n",
    "    labels.extend([\"B\"] * len(benevolent))\n",
    "    print(len(labels))\n",
    "\n",
    "    texts = []\n",
    "    texts.extend(racism)\n",
    "    texts.extend(benevolent)\n",
    "    texts.extend(sexism)\n",
    "    print(len(texts))\n",
    "    \n",
    "if data_tag == 'ahs':\n",
    "    abusive = []\n",
    "    hateful = []\n",
    "    spam = []\n",
    "    for id, tweet in data.items():\n",
    "        text = tweet[\"text\"]\n",
    "        if(len(text) == 0):\n",
    "            continue\n",
    "        if tweet[\"label\"] == \"abusive\":\n",
    "            abusive.append(text)\n",
    "        if tweet[\"label\"] == \"hateful\":\n",
    "            hateful.append(text)\n",
    "        if tweet[\"label\"] == \"spam\":\n",
    "            spam.append(text)\n",
    "    \n",
    "    print(len(abusive))\n",
    "    print(len(hateful))\n",
    "    print(len(spam))\n",
    "\n",
    "    labels = []\n",
    "    #labels.extend([\"A\"] * len(abusive))\n",
    "    labels.extend([\"H\"] * len(hateful))\n",
    "    #labels.extend([\"S\"] * len(spam))\n",
    "    print(len(labels))\n",
    "\n",
    "    texts = []\n",
    "    #texts.extend(abusive)\n",
    "    texts.extend(hateful)\n",
    "    #texts.extend(spam)\n",
    "    print(len(texts))"
   ]
  },
  {
   "cell_type": "code",
   "execution_count": 87,
   "id": "ambient-falls",
   "metadata": {},
   "outputs": [],
   "source": [
    "def preprocess(A):\n",
    "    B = []\n",
    "  \n",
    "    for i in range(len(A)):\n",
    "\n",
    "        text = A[i]\n",
    "        # remove old style retweet text \"RT\"\n",
    "        text = re.sub(r'^RT[\\s]+', '', text)\n",
    "\n",
    "        # remove hyperlinks\n",
    "        text= re.sub(r'https?:\\/\\/.*[\\r\\n]*', '', text)\n",
    "\n",
    "        # remove hashtags\n",
    "        # only removing the hash # sign from the word\n",
    "        text = re.sub(r'#', '', text)\n",
    "\n",
    "        # remove tagging @\n",
    "        text = re.sub(r\"(?:\\@|https?\\://)\\S+\", \"\", text)\n",
    "\n",
    "        # remove new line \\n\n",
    "        text = re.sub(\"\\n\", \"\", text)\n",
    "\n",
    "        # remove zero length tweets\n",
    "        if(len(text) == 0 ):\n",
    "            continue\n",
    "\n",
    "        B.append(text)\n",
    "        \n",
    "    return B"
   ]
  },
  {
   "cell_type": "code",
   "execution_count": 88,
   "id": "written-glass",
   "metadata": {},
   "outputs": [],
   "source": [
    "texts = preprocess(texts)"
   ]
  },
  {
   "cell_type": "code",
   "execution_count": 90,
   "id": "directed-telescope",
   "metadata": {},
   "outputs": [
    {
     "name": "stdout",
     "output_type": "stream",
     "text": [
      "337\n",
      "339\n"
     ]
    }
   ],
   "source": [
    "stopwords = list(gensim.parsing.preprocessing.STOPWORDS)\n",
    "print(len(stopwords))\n",
    "stopwords.extend([\"like\", \"damn\"])\n",
    "print(len(stopwords))\n",
    "stemmer = SnowballStemmer(\"english\")\n",
    "def lemmatize_stemming(text):\n",
    "    return stemmer.stem(WordNetLemmatizer().lemmatize(text, pos='v'))\n",
    "def preprocess(text):\n",
    "    result = []\n",
    "    \n",
    "    for token in gensim.utils.simple_preprocess(text):\n",
    "        if token not in stopwords and len(token) > 3:\n",
    "            result.append(lemmatize_stemming(token))\n",
    "    return result\n"
   ]
  },
  {
   "cell_type": "code",
   "execution_count": 91,
   "id": "infectious-ancient",
   "metadata": {},
   "outputs": [],
   "source": [
    "res = []\n",
    "for text in texts:\n",
    "    res.append(preprocess(text))\n"
   ]
  },
  {
   "cell_type": "code",
   "execution_count": 92,
   "id": "interim-inquiry",
   "metadata": {},
   "outputs": [
    {
     "name": "stdout",
     "output_type": "stream",
     "text": [
      "Dictionary(4099 unique tokens: ['bruh', 'fuck', 'hate', 'peopl', 'bronco']...)\n",
      "0 bruh\n",
      "1 fuck\n",
      "2 hate\n",
      "3 peopl\n",
      "4 bronco\n",
      "5 dawg\n",
      "6 dumbass\n",
      "7 fanbas\n",
      "8 swear\n",
      "9 bitch\n",
      "10 chase\n"
     ]
    }
   ],
   "source": [
    "dictionary = gensim.corpora.Dictionary(res)\n",
    "print(dictionary)\n",
    "count = 0\n",
    "for k, v in dictionary.iteritems():\n",
    "    print(k, v)\n",
    "    count += 1\n",
    "    if count > 10:\n",
    "        break"
   ]
  },
  {
   "cell_type": "code",
   "execution_count": 93,
   "id": "applied-daniel",
   "metadata": {},
   "outputs": [],
   "source": [
    "dictionary.filter_extremes(no_below=15, no_above=0.5, keep_n=100000)"
   ]
  },
  {
   "cell_type": "code",
   "execution_count": 94,
   "id": "palestinian-bulletin",
   "metadata": {},
   "outputs": [],
   "source": [
    "bow_corpus = [dictionary.doc2bow(doc) for doc in res]\n"
   ]
  },
  {
   "cell_type": "code",
   "execution_count": 95,
   "id": "tender-earthquake",
   "metadata": {},
   "outputs": [
    {
     "name": "stdout",
     "output_type": "stream",
     "text": [
      "[(0, 0.6465738233197383), (1, 0.46775878648002933), (2, 0.6026143117022912)]\n"
     ]
    }
   ],
   "source": [
    "from gensim import corpora, models\n",
    "tfidf = models.TfidfModel(bow_corpus)\n",
    "corpus_tfidf = tfidf[bow_corpus]\n",
    "from pprint import pprint\n",
    "for doc in corpus_tfidf:\n",
    "    pprint(doc)\n",
    "    break"
   ]
  },
  {
   "cell_type": "code",
   "execution_count": 96,
   "id": "faced-election",
   "metadata": {},
   "outputs": [],
   "source": [
    "lda_model = gensim.models.LdaMulticore(bow_corpus, num_topics=2, id2word=dictionary, passes=2, workers=2)"
   ]
  },
  {
   "cell_type": "code",
   "execution_count": 97,
   "id": "falling-stable",
   "metadata": {},
   "outputs": [
    {
     "name": "stdout",
     "output_type": "stream",
     "text": [
      "Topic: 0 \n",
      "Words: 0.061*\"hate\" + 0.057*\"peopl\" + 0.039*\"trump\" + 0.034*\"idiot\" + 0.029*\"know\" + 0.027*\"need\" + 0.024*\"hell\" + 0.023*\"syria\" + 0.022*\"bitch\" + 0.022*\"say\"\n",
      "\n",
      "\n",
      "Topic: 1 \n",
      "Words: 0.097*\"nigga\" + 0.057*\"hate\" + 0.054*\"idiot\" + 0.043*\"fuck\" + 0.023*\"trump\" + 0.021*\"look\" + 0.020*\"bitch\" + 0.020*\"stupid\" + 0.018*\"kill\" + 0.018*\"think\"\n",
      "\n",
      "\n"
     ]
    }
   ],
   "source": [
    "for idx, topic in lda_model.print_topics(-1):\n",
    "    print('Topic: {} \\nWords: {}'.format(idx, topic))\n",
    "    print(\"\\n\")"
   ]
  },
  {
   "cell_type": "code",
   "execution_count": 98,
   "id": "pretty-studio",
   "metadata": {},
   "outputs": [
    {
     "name": "stdout",
     "output_type": "stream",
     "text": [
      "Topic: 0 Word: 0.036*\"nigga\" + 0.030*\"bitch\" + 0.026*\"look\" + 0.023*\"hell\" + 0.023*\"want\" + 0.021*\"peopl\" + 0.021*\"trump\" + 0.020*\"hate\" + 0.019*\"kill\" + 0.016*\"stupid\"\n",
      "\n",
      "\n",
      "Topic: 1 Word: 0.069*\"hate\" + 0.063*\"idiot\" + 0.048*\"nigga\" + 0.037*\"fuck\" + 0.031*\"peopl\" + 0.026*\"know\" + 0.026*\"trump\" + 0.023*\"think\" + 0.022*\"need\" + 0.020*\"say\"\n",
      "\n",
      "\n"
     ]
    }
   ],
   "source": [
    "lda_model_tfidf = gensim.models.LdaMulticore(corpus_tfidf, num_topics=2, id2word=dictionary, passes=2, workers=4)\n",
    "for idx, topic in lda_model_tfidf.print_topics(-1):\n",
    "    print('Topic: {} Word: {}'.format(idx, topic))\n",
    "    print(\"\\n\")"
   ]
  },
  {
   "cell_type": "code",
   "execution_count": 99,
   "id": "caroline-stranger",
   "metadata": {},
   "outputs": [
    {
     "data": {
      "image/png": "[encoded data removed]",
      "text/plain": [
       "<Figure size 720x720 with 2 Axes>"
      ]
     },
     "metadata": {
      "needs_background": "light"
     },
     "output_type": "display_data"
    }
   ],
   "source": [
    "# 1. Wordcloud of Top N words in each topic\n",
    "from matplotlib import pyplot as plt\n",
    "from wordcloud import WordCloud, STOPWORDS\n",
    "import matplotlib.colors as mcolors\n",
    "\n",
    "cols = [color for name, color in mcolors.TABLEAU_COLORS.items()] \n",
    "\n",
    "cloud = WordCloud(stopwords=stopwords,\n",
    "                  background_color='white',\n",
    "                  width=2500,\n",
    "                  height=1800,\n",
    "                  max_words=10,\n",
    "                  colormap='tab10',\n",
    "                  color_func=lambda *args, **kwargs: cols[i],\n",
    "                  prefer_horizontal=1.0)\n",
    "\n",
    "topics = lda_model.show_topics(formatted=False)\n",
    "\n",
    "fig, axes = plt.subplots(1, 2, figsize=(10,10), sharex=True, sharey=True)\n",
    "\n",
    "for i, ax in enumerate(axes.flatten()):\n",
    "    fig.add_subplot(ax)\n",
    "    topic_words = dict(topics[i][1])\n",
    "    cloud.generate_from_frequencies(topic_words, max_font_size=300)\n",
    "    plt.gca().imshow(cloud)\n",
    "    plt.gca().set_title('Topic ' + str(i), fontdict=dict(size=16))\n",
    "    plt.gca().axis('off')\n",
    "\n",
    "\n",
    "plt.subplots_adjust(wspace=0, hspace=0)\n",
    "plt.axis('off')\n",
    "plt.margins(x=0, y=0)\n",
    "plt.tight_layout()\n",
    "plt.show()"
   ]
  }
 ],
 "metadata": {
  "kernelspec": {
   "display_name": "Python [conda env:nlp] *",
   "language": "python",
   "name": "conda-env-nlp-py"
  },
  "language_info": {
   "codemirror_mode": {
    "name": "ipython",
    "version": 3
   },
   "file_extension": ".py",
   "mimetype": "text/x-python",
   "name": "python",
   "nbconvert_exporter": "python",
   "pygments_lexer": "ipython3",
   "version": "3.8.8"
  }
 },
 "nbformat": 4,
 "nbformat_minor": 5
}
