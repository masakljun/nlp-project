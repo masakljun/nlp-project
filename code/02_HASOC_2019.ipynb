{
 "cells": [
  {
   "cell_type": "markdown",
   "id": "ab843b3c",
   "metadata": {},
   "source": [
    "# Preprocessing of tweets\n",
    "\n",
    "Preprocessing and analysis of tweets in HASOC 2019 data set. Files *hasoc2019_en_train_2919.tsv* and *hasoc2019_en_test-2919.tsv* must be located in the *code/data* folder.\n",
    "\n",
    "Data sets are extracted from [here](https://hasocfire.github.io/hasoc/2019/dataset.html), are placed in the *data* folder, and should be named as shown in the next cell."
   ]
  },
  {
   "cell_type": "code",
   "execution_count": 1,
   "id": "vocal-round",
   "metadata": {},
   "outputs": [],
   "source": [
    "import pandas as pd"
   ]
  },
  {
   "cell_type": "code",
   "execution_count": 2,
   "id": "australian-mercury",
   "metadata": {},
   "outputs": [
    {
     "data": {
      "text/html": [
       "<div>\n",
       "<style scoped>\n",
       "    .dataframe tbody tr th:only-of-type {\n",
       "        vertical-align: middle;\n",
       "    }\n",
       "\n",
       "    .dataframe tbody tr th {\n",
       "        vertical-align: top;\n",
       "    }\n",
       "\n",
       "    .dataframe thead th {\n",
       "        text-align: right;\n",
       "    }\n",
       "</style>\n",
       "<table border=\"1\" class=\"dataframe\">\n",
       "  <thead>\n",
       "    <tr style=\"text-align: right;\">\n",
       "      <th></th>\n",
       "      <th>text_id</th>\n",
       "      <th>text</th>\n",
       "      <th>task_1</th>\n",
       "      <th>task_2</th>\n",
       "      <th>task_3</th>\n",
       "    </tr>\n",
       "  </thead>\n",
       "  <tbody>\n",
       "    <tr>\n",
       "      <th>0</th>\n",
       "      <td>hasoc_en_902</td>\n",
       "      <td>West Bengal Doctor Crisis: Protesting doctors ...</td>\n",
       "      <td>NOT</td>\n",
       "      <td>NONE</td>\n",
       "      <td>NONE</td>\n",
       "    </tr>\n",
       "    <tr>\n",
       "      <th>1</th>\n",
       "      <td>hasoc_en_416</td>\n",
       "      <td>68.5 million people have been forced to leave ...</td>\n",
       "      <td>NOT</td>\n",
       "      <td>NONE</td>\n",
       "      <td>NONE</td>\n",
       "    </tr>\n",
       "    <tr>\n",
       "      <th>2</th>\n",
       "      <td>hasoc_en_207</td>\n",
       "      <td>You came, you saw .... we will look after the ...</td>\n",
       "      <td>NOT</td>\n",
       "      <td>NONE</td>\n",
       "      <td>NONE</td>\n",
       "    </tr>\n",
       "    <tr>\n",
       "      <th>3</th>\n",
       "      <td>hasoc_en_595</td>\n",
       "      <td>We'll get Brexit delivered by October 31st.   ...</td>\n",
       "      <td>NOT</td>\n",
       "      <td>NONE</td>\n",
       "      <td>NONE</td>\n",
       "    </tr>\n",
       "    <tr>\n",
       "      <th>4</th>\n",
       "      <td>hasoc_en_568</td>\n",
       "      <td>Fuck you. Go back to the dark ages you cow @IB...</td>\n",
       "      <td>HOF</td>\n",
       "      <td>PRFN</td>\n",
       "      <td>UNT</td>\n",
       "    </tr>\n",
       "  </tbody>\n",
       "</table>\n",
       "</div>"
      ],
      "text/plain": [
       "        text_id                                               text task_1  \\\n",
       "0  hasoc_en_902  West Bengal Doctor Crisis: Protesting doctors ...    NOT   \n",
       "1  hasoc_en_416  68.5 million people have been forced to leave ...    NOT   \n",
       "2  hasoc_en_207  You came, you saw .... we will look after the ...    NOT   \n",
       "3  hasoc_en_595  We'll get Brexit delivered by October 31st.   ...    NOT   \n",
       "4  hasoc_en_568  Fuck you. Go back to the dark ages you cow @IB...    HOF   \n",
       "\n",
       "  task_2 task_3  \n",
       "0   NONE   NONE  \n",
       "1   NONE   NONE  \n",
       "2   NONE   NONE  \n",
       "3   NONE   NONE  \n",
       "4   PRFN    UNT  "
      ]
     },
     "execution_count": 2,
     "metadata": {},
     "output_type": "execute_result"
    }
   ],
   "source": [
    "df1 = pd.read_csv(\"data/hasoc2019_en_train_2919.tsv\", sep='\\t')\n",
    "df1.head()\n",
    "\n",
    "df2 = pd.read_csv(\"data/hasoc2019_en_test-2919.tsv\", sep='\\t')\n",
    "df2.head()"
   ]
  },
  {
   "cell_type": "code",
   "execution_count": 3,
   "id": "above-valuation",
   "metadata": {},
   "outputs": [],
   "source": [
    "hatespeech = list(df1.loc[df1[\"task_2\"] == \"HATE\"][\"text\"].values)\n",
    "hatespeech1 = list(df2.loc[df2[\"task_2\"] == \"HATE\"][\"text\"].values)\n",
    "hatespeech.extend(hatespeech1)"
   ]
  },
  {
   "cell_type": "code",
   "execution_count": 4,
   "id": "structural-pastor",
   "metadata": {},
   "outputs": [],
   "source": [
    "profane = list(df1.loc[df1[\"task_2\"] == \"PRFN\"][\"text\"].values)\n",
    "profane1 = list(df2.loc[df2[\"task_2\"] == \"PRFN\"][\"text\"].values)\n",
    "profane.extend(profane1)"
   ]
  },
  {
   "cell_type": "code",
   "execution_count": 5,
   "id": "removable-survivor",
   "metadata": {},
   "outputs": [],
   "source": [
    "offensive = list(df1.loc[df1[\"task_2\"] == \"OFFN\"][\"text\"].values)\n",
    "offensive1 = list(df2.loc[df2[\"task_2\"] == \"OFFN\"][\"text\"].values)\n",
    "offensive.extend(offensive1)"
   ]
  },
  {
   "cell_type": "code",
   "execution_count": 6,
   "id": "comparable-clearing",
   "metadata": {},
   "outputs": [
    {
     "name": "stdout",
     "output_type": "stream",
     "text": [
      "Lengths - HATE: 1267, OFFN: 522, PRFN: 760\n"
     ]
    }
   ],
   "source": [
    "print(f\"Lengths - HATE: {len(hatespeech)}, OFFN: {len(offensive)}, PRFN: {len(profane)}\")"
   ]
  },
  {
   "cell_type": "code",
   "execution_count": 7,
   "id": "portable-serum",
   "metadata": {},
   "outputs": [
    {
     "name": "stdout",
     "output_type": "stream",
     "text": [
      "2549\n",
      "2549\n"
     ]
    }
   ],
   "source": [
    "labels = [\"hate\"] * len(hatespeech)\n",
    "labels.extend([\"offensive\"] * len(offensive))\n",
    "labels.extend([\"profane\"] * len(profane))\n",
    "\n",
    "\n",
    "texts = hatespeech\n",
    "texts.extend(offensive)\n",
    "texts.extend(profane)\n",
    "print(len(labels))\n",
    "print(len(texts))"
   ]
  },
  {
   "cell_type": "code",
   "execution_count": 8,
   "id": "convinced-bishop",
   "metadata": {},
   "outputs": [],
   "source": [
    "new_df = pd.DataFrame({\"text\": texts, \"label\": labels})\n",
    "new_df.to_csv(\"data/filtered/hatespeech_profane_offensive.csv\", sep = \",\", index = False)"
   ]
  },
  {
   "cell_type": "code",
   "execution_count": 9,
   "id": "basic-heavy",
   "metadata": {},
   "outputs": [
    {
     "data": {
      "text/html": [
       "<div>\n",
       "<style scoped>\n",
       "    .dataframe tbody tr th:only-of-type {\n",
       "        vertical-align: middle;\n",
       "    }\n",
       "\n",
       "    .dataframe tbody tr th {\n",
       "        vertical-align: top;\n",
       "    }\n",
       "\n",
       "    .dataframe thead th {\n",
       "        text-align: right;\n",
       "    }\n",
       "</style>\n",
       "<table border=\"1\" class=\"dataframe\">\n",
       "  <thead>\n",
       "    <tr style=\"text-align: right;\">\n",
       "      <th></th>\n",
       "      <th>text</th>\n",
       "      <th>label</th>\n",
       "    </tr>\n",
       "  </thead>\n",
       "  <tbody>\n",
       "    <tr>\n",
       "      <th>0</th>\n",
       "      <td>@politico No. We should remember very clearly ...</td>\n",
       "      <td>hate</td>\n",
       "    </tr>\n",
       "    <tr>\n",
       "      <th>1</th>\n",
       "      <td>I don’t know how much more I can take! 45 is a...</td>\n",
       "      <td>hate</td>\n",
       "    </tr>\n",
       "    <tr>\n",
       "      <th>2</th>\n",
       "      <td>#ShameOnICC  1. ICC on Dhoni's gloves         ...</td>\n",
       "      <td>hate</td>\n",
       "    </tr>\n",
       "    <tr>\n",
       "      <th>3</th>\n",
       "      <td>Disgusting! And they don’t change their cultur...</td>\n",
       "      <td>hate</td>\n",
       "    </tr>\n",
       "    <tr>\n",
       "      <th>4</th>\n",
       "      <td>@TheRealOJ32 Of all the retired NFL players, w...</td>\n",
       "      <td>hate</td>\n",
       "    </tr>\n",
       "  </tbody>\n",
       "</table>\n",
       "</div>"
      ],
      "text/plain": [
       "                                                text label\n",
       "0  @politico No. We should remember very clearly ...  hate\n",
       "1  I don’t know how much more I can take! 45 is a...  hate\n",
       "2  #ShameOnICC  1. ICC on Dhoni's gloves         ...  hate\n",
       "3  Disgusting! And they don’t change their cultur...  hate\n",
       "4  @TheRealOJ32 Of all the retired NFL players, w...  hate"
      ]
     },
     "execution_count": 9,
     "metadata": {},
     "output_type": "execute_result"
    }
   ],
   "source": [
    "test = pd.read_csv(\"data/filtered/hatespeech_profane_offensive.csv\")\n",
    "test.head()"
   ]
  },
  {
   "cell_type": "markdown",
   "id": "sound-thesis",
   "metadata": {},
   "source": [
    "# Plot distribution"
   ]
  },
  {
   "cell_type": "code",
   "execution_count": 10,
   "id": "marine-enclosure",
   "metadata": {},
   "outputs": [],
   "source": [
    "import pandas as pd\n",
    "import numpy as np\n",
    "import matplotlib.pyplot as plt"
   ]
  },
  {
   "cell_type": "code",
   "execution_count": 11,
   "id": "smooth-tomato",
   "metadata": {},
   "outputs": [
    {
     "data": {
      "text/html": [
       "<div>\n",
       "<style scoped>\n",
       "    .dataframe tbody tr th:only-of-type {\n",
       "        vertical-align: middle;\n",
       "    }\n",
       "\n",
       "    .dataframe tbody tr th {\n",
       "        vertical-align: top;\n",
       "    }\n",
       "\n",
       "    .dataframe thead th {\n",
       "        text-align: right;\n",
       "    }\n",
       "</style>\n",
       "<table border=\"1\" class=\"dataframe\">\n",
       "  <thead>\n",
       "    <tr style=\"text-align: right;\">\n",
       "      <th></th>\n",
       "      <th>text</th>\n",
       "      <th>label</th>\n",
       "    </tr>\n",
       "  </thead>\n",
       "  <tbody>\n",
       "    <tr>\n",
       "      <th>0</th>\n",
       "      <td>@politico No. We should remember very clearly ...</td>\n",
       "      <td>hate</td>\n",
       "    </tr>\n",
       "    <tr>\n",
       "      <th>1</th>\n",
       "      <td>I don’t know how much more I can take! 45 is a...</td>\n",
       "      <td>hate</td>\n",
       "    </tr>\n",
       "    <tr>\n",
       "      <th>2</th>\n",
       "      <td>#ShameOnICC  1. ICC on Dhoni's gloves         ...</td>\n",
       "      <td>hate</td>\n",
       "    </tr>\n",
       "    <tr>\n",
       "      <th>3</th>\n",
       "      <td>Disgusting! And they don’t change their cultur...</td>\n",
       "      <td>hate</td>\n",
       "    </tr>\n",
       "    <tr>\n",
       "      <th>4</th>\n",
       "      <td>@TheRealOJ32 Of all the retired NFL players, w...</td>\n",
       "      <td>hate</td>\n",
       "    </tr>\n",
       "  </tbody>\n",
       "</table>\n",
       "</div>"
      ],
      "text/plain": [
       "                                                text label\n",
       "0  @politico No. We should remember very clearly ...  hate\n",
       "1  I don’t know how much more I can take! 45 is a...  hate\n",
       "2  #ShameOnICC  1. ICC on Dhoni's gloves         ...  hate\n",
       "3  Disgusting! And they don’t change their cultur...  hate\n",
       "4  @TheRealOJ32 Of all the retired NFL players, w...  hate"
      ]
     },
     "execution_count": 11,
     "metadata": {},
     "output_type": "execute_result"
    }
   ],
   "source": [
    "df = pd.read_csv(\"data/filtered/hatespeech_profane_offensive.csv\")\n",
    "df.head()"
   ]
  },
  {
   "cell_type": "code",
   "execution_count": 12,
   "id": "solar-southwest",
   "metadata": {},
   "outputs": [],
   "source": [
    "labels, counts = np.unique(df[\"label\"], return_counts = True)"
   ]
  },
  {
   "cell_type": "code",
   "execution_count": 13,
   "id": "configured-surprise",
   "metadata": {},
   "outputs": [
    {
     "data": {
      "image/png": "[encoded data removed]",
      "text/plain": [
       "<Figure size 432x129.6 with 1 Axes>"
      ]
     },
     "metadata": {
      "needs_background": "light"
     },
     "output_type": "display_data"
    }
   ],
   "source": [
    "idx = np.argsort(counts)\n",
    "labels = labels[idx]\n",
    "counts = counts[idx]\n",
    "\n",
    "fig, ax = plt.subplots(figsize = (6,1.8))\n",
    "ax.barh(labels,counts)\n",
    "ax.set_xlim([0, 1750])\n",
    "for i, v in enumerate(counts):\n",
    "    ax.text(v + 50, i - 0.15, str(v), color=\"gray\", fontweight='bold')\n",
    "plt.title(\"Distribution of tweets in dataset HPO\")\n",
    "plt.show()"
   ]
  },
  {
   "cell_type": "markdown",
   "id": "numerous-liberty",
   "metadata": {},
   "source": [
    "# Tweet examples"
   ]
  },
  {
   "cell_type": "code",
   "execution_count": 14,
   "id": "tight-composite",
   "metadata": {},
   "outputs": [
    {
     "name": "stdout",
     "output_type": "stream",
     "text": [
      "['@politico No. We should remember very clearly that #Individual1 just admitted to treason . #TrumpIsATraitor  #McCainsAHero #JohnMcCainDay'\n",
      " 'I don’t know how much more I can take! 45 is a compulsive liar! #Trump30Hours #TrumpIsATraitor'\n",
      " \"#ShameOnICC  1. ICC on Dhoni's gloves                    Vs  2.ICC planning the World Cup https://t.co/4kO3zKt7ln\"\n",
      " 'Disgusting! And they don’t change their culture or come up with vetting system or preventative ways to stop this from occurring. This will continue to happen. The Catholic Church needs to go! #rapist #ChildTrafficking #CatholicChurch #CatholicTwitter https://t.co/tb4tSoD2Lz'\n",
      " '@TheRealOJ32 Of all the retired NFL players, why is it that you DON’T suffer from CTE?     You should be at the bottom of a pool you mistook for an elevator. #murderer'\n",
      " '@kojikabu @Maggie_Klaus @JoeBiden What it is that we will do anything to get trump the hell out there EXCEPT CHEAT LIKE TRUMP DID!!!!  #FuckTrump #Bluewave2020'\n",
      " '#ShameOnICC  ICC is earning billions from this event, but at the management level they performance is zero. Even a small company manager can handle such events more efficiently then ICC. https://t.co/GA1Quubpm2'\n",
      " 'Its a shame when #antimuslim #Islamophobe @realDonaldTrump is attacking @SadiqKhan, @georgegalloway has to behave like this.... #istandwithsadiqkhan #WeAllStandTogether https://t.co/iYbNeeSXaO'\n",
      " '@funder Am I the only one who feels like it’s no longer a question of if #TrumpIsATraitor, but rather if Republicans are still Americans?'\n",
      " \"'Well, even his “friendly” Fox &amp; Friends were on him about what he said originally... he had to backtrack...   He is a very dangerous man.' #TrumpIsATraitor #TrumpResignNow #Trump #TrumpFail #TrumpDerangementSyndrome  #TRUMP2020Landside #MAGA #Trump2020 #TrumpTrain #TrumpTrain2020 https://t.co/e3OpRi7jmH\"\n",
      " '#Rangzen people, we have to stop this fake activist troll from ruining our #FreeTibet movement.     #Tibetans #humanrights #BoycottChina #Dharamsala #March10 #Tibetan #DalaiLama #BhoRangzen https://t.co/Hs54Goqis7'\n",
      " 'Proven that @MamataOfficial is in support of terror mob and in favor of changing demography of Bengal. CM is zaddi and same working like Hitler. #DoctorsFightBack #BengalDoctorsStrike #hitlerdidi  #MamataLosingControl #MamataBanarjee #mamtafrustrated https://t.co/hKZGxr3lUo'\n",
      " '#DhoniKeepsTheGlove   #DhoniKeSaathDesh   #IndiaWithDhoni    We need to understand ICC rules correctly    It can only allow terror sponsering countries to play,   but not the Army insignia.'\n",
      " '@CNN Disgusting! And they don’t change their culture or come up with vetting system or preventative ways to stop this from occurring. This will continue to happen. The Catholic Church needs to go! #rapist #ChildTrafficking #CatholicChurch #CatholicTwitter'\n",
      " 'If that Bengali Jihadi $lu7 catches any illness, no doctor must treat her. She should suffer from non-treatment and face consequences! #DoctorsFightBack #DoctorsUnderOppression #DoctorsProtest'\n",
      " '@realDonaldTrump You literally admitted you’d commit a felony to get elected.  Barr, if he actually followed the law, would have arrested you.  Stop harassing America.  PS: We all know Iran is innocent and you are just trying to distract from your latest felony.  #TrumpIsATraitor #TrumpColluded'\n",
      " '@BorisJohnson is not a harmless buffoon. he is a cold, calculating, vile man who uses his persona to get away with  his racism, homophobia and elitism. Oh and he’s soon to be our new prime minster, help us all  #BorisJohnsonShouldNotBePM #borisjohnson     https://t.co/ZfozJi2t8d'\n",
      " \"@realDonaldTrump I'm 'OK' with it!    Christopher Steele was so concerned about what he was finding that he contacted FBI, right?!    That's what the TRUMP CAMPAIGN &amp; TRUMP FAMILY SHOULD HAVE DONE!    #TrumpIsATraitor  #TrumpMustGo\"\n",
      " '@Comey I am crushed that no one is calling attention to the lie that @hogangidley45 told about #JamesComey being a convict!!!  See the short clip to confirm that #Trump Administration is lying.  #TrumpIsATraitor #TrumpResign #TrumpTantrum #WhiteHouse https://t.co/BNpZLCBQpE'\n",
      " '@TheRealOJ32 You belong in jail and then in hell #murderer #JusticeForNicoleAndRon']\n"
     ]
    }
   ],
   "source": [
    "target = \"hate\"\n",
    "dft = df.loc[df[\"label\"] == target]\n",
    "print(dft[\"text\"].values[:20])"
   ]
  },
  {
   "cell_type": "code",
   "execution_count": 15,
   "id": "hawaiian-williams",
   "metadata": {},
   "outputs": [
    {
     "name": "stdout",
     "output_type": "stream",
     "text": [
      "['@SenSchumer Shut it up Chuckles! How about those dads who now have one less child thanks to them being murdered by illegals. Leave it to a Democrat to turn Father’s Day into politics. #DickHead'\n",
      " '.@GReschenthaler #PA14 You defend a traitor to the USA. #TrumpIsATraitor #TreasonInPlainSight https://t.co/2K20AqKivX'\n",
      " 'Abu Taher Khan, MP, AITC threatened Junior Doctors of MURSHIDABAD MEDICAL COLLEGE &amp; HOSPTITAL Publicly and provoked others to attack.   Shame Legislator shame...    We r not afraid of such threatening..   #juniordoctorsunity #DoctorsFightBack'\n",
      " '@realDonaldTrump YOU, are the ENEMY OF HUMANITY! #TrumpIsTheEnemyOfHumanity #TrumpIsANationalSecurityThreat #TrumpIsATraitor #TrumpIsACriminal #TrumpIsADisgrace #TrumpIsAFraud https://t.co/vposy9EXAI'\n",
      " '#ShameOnICC worst planning, no ground cover #ICCWorldCup2019 going in the lines of 2007 world cup in the west indies as a super flop rain show . #ICC &amp; @ECB_cricket run by jokers with no organising skills #CricketWorldCup19 @rahulvg'\n",
      " 'https://t.co/4GbLUidanC put him in jail! #fucktrump'\n",
      " '@ikseshwarappa Sir We met you at your homefor helping us? #TGSFraud its more than2 year. Till date no support from CID and no judgement from honurable court and no support from @BJP4Karnataka #DreamzGKFraud #IMAFraud How long you want to watch such scams?'\n",
      " \"#TimothyLoehman is anything but a 'man'. What he IS is a #Liar and a #Murderer.  @Cleveland #ClevelandPD #ClevelandPoliceDepartment #NoToRehiring this #DisgraceToHumanity.  Continued #JusticeForTamir 💪🏾 https://t.co/6FImFaoMXk\"\n",
      " '@DonaldJTrumpJr This is rich coming from a douchbag that steals $ from the #TrumpCrimeFamily cancer charity   #TrumpIsATraitor  #TrumpCesspool'\n",
      " 'Yes #BorisJohnsonShouldNotBePM #borisjohnson you are a spineless coward!!! https://t.co/1dOro5pjvX'\n",
      " '@realDonaldTrump You’re no brains. Free speech.   Here’s more:  #TrumpIsACriminal   #TrumpObstructedJustice   #TrumpIsATraitor   #TrumpIsAMoron   Many people are saying........'\n",
      " \"If we had a basic intelligence test for POTUS, \\u2066@realDonaldTrump\\u2069 would not be infesting our \\u2066@WhiteHouse\\u2069 since he’s dumber then a 3rd grader. #IdiotTrump attacks Nasa and claims the moon is 'a part' of Mars. \\u2066@guardian\\u2069 #25thAmendment  https://t.co/2B5KwgCUkO\"\n",
      " \"@thehill @PressSec will go down in history as the LIAR who tried to gaslight America, shared a doctored #FakeNews video, and so much more, all in service of a #corruptAF @POTUS. @michelleisawolf hit the nail on the head, 'maybe she's born with it, maybe it's lies.' #ByeFelicia #FUCKTRUMP https://t.co/HCZrhkWhLQ\"\n",
      " \"#FuckTrump we don't give a damn if this offends him and nobody else should, either! Grow a pair @StevenMnuchin1! You're too cowardly to release his taxes and should be held in contempt and in jail for every day you refuse to release them. You're a coward, we want the $20Tubman! https://t.co/DNID6p1GL8\"\n",
      " \"@realDonaldTrump What about our fake president?  He lies so much and is so stupid he doesn't even know how stupid he is.  #idiottrump #lyingtrump #trumpiscompromised #delusionaldon\"\n",
      " 'When you lets the news outlets tell your story😒...stop letting the news paint false narratives of our black ppl..But for dumpster rapist #BrockTurner gets a nice portrait      #BlackTwitterMovement #BlackLivesMatter #blackpodcast #news #rapist #cnn #narratives #Blacktwitter #rbg https://t.co/v539fGSLDU'\n",
      " '@briantylercohen @mattgaetz is such a #douchebag. He would have really gone places in the Third Reich. #smdh'\n",
      " \"@ImranKhanPTI if u and ur govt have little shame and believe in humanity, then act against inhuman act.    It is not about religion, but it is about humanity. One religion can't teach us to tortured and rape citizen.     Time will teach u lesson if u don't take action. #rapist https://t.co/ofeZtpEcR9\"\n",
      " '@TheRealOJ32 You’re really stabbin...er, grabbin straws here.  Go away     #MURDERER'\n",
      " \"#DoctorsFightBack  Will 'The Mad n Irrational Dictator' Mamata Banerjee listen to Dr. Harsh Vardhan when she has not picked up telephone calls of Prime Minister and Governor of West Bengal? https://t.co/JOKE9gQeiS\"\n",
      " '#ShiningIndia #educatedindia or more like RUNDIA, place of #rapists and #hatred #antimuslim #cowworshipers #cow #hindu #modi #terrorism https://t.co/lBj1fhQeJM'\n",
      " 'By shitting yourself and taking the backdoor out, instead of fronting up to the public.'\n",
      " 'Halala was never part of islam lekin halala ke naam par mulle khoob maje le rabe tumahri maa behan beti ke aur tum bhi maje se dekh rahe unki izzat lutate huye. Aise to baat baat par bomd fod dete ho lekin ek bhi muslim londa inn mullon ke against kuch nahi bolta. Dhikkar hai'\n",
      " 'So Many Hindus Arrested.... HINDUS ARE...WHAT THE FUCK MAN..I m angry now #SaveBengal Sali mamata'\n",
      " 'Watch “Dr. Qanta Ahmed: Rep. Omar is a disgrace to Islam” on YouTube http://youtube.com/watch?v=4o-RL7yqV6Y&feature=youtu.be\\xa0…'\n",
      " 'I would never vote Trump but he is going to win big because of shit like this. The Dems r burying themselves and they deserve to lose. Their only message is Trump is Hitler or #FuckTrump.'\n",
      " 'Dr. Qanta Ahmed: Rep. Omar is a disgrace to Islam '\n",
      " \"I'd always get really confused when a Muslim substitute teacher would mispronounce my name in class. You really telling me your ass doesn't know how to say 'SaiF'??\"\n",
      " 'May Allaha tala allows ur daughter to do 11 time halala through different maulvis.  At that time when your own daughter is crying for insaf & wants aazadi from multiple sex...then you will going to understand the pain of talaq peedit Muslim women  Being an ex-muslim, may it happens'\n",
      " \"Johnson you liar. You don't give a flying one for the Irish\"]\n"
     ]
    }
   ],
   "source": [
    "target = \"offensive\"\n",
    "dft = df.loc[df[\"label\"] == target]\n",
    "print(dft[\"text\"].values[430:460])"
   ]
  },
  {
   "cell_type": "code",
   "execution_count": 16,
   "id": "regular-basis",
   "metadata": {},
   "outputs": [
    {
     "name": "stdout",
     "output_type": "stream",
     "text": [
      "['This is the day that reminds the world that @realDonaldTrump should have been aborted. #FuckTrump and while I’m at it #Fuck @FLOTUS for being a whore that fucks this piece of after birth abortion'\n",
      " 'Sit his ass down!  Tape his fingers and duct-tape his mouth.  Then throw him in a cage with the immigrants.  Problem solved!  Such a vision.  America, Free of Trump.  Darn, I just woke up.  Dems will do nothing.  #FuckTrump #FuckGOP #FuckCivility #ImpeachmentInquiryNow https://t.co/gU8oBArfo8'\n",
      " 'I love you #London!!!! Thank you for your support!!! #FuckTrump #TrumpVaginaNeck #ImpeachTheMotherFucker https://t.co/tZt7n5Nngu'\n",
      " '#HappyBirthdayMrPresident?  Nope. GO FUCK YOURSELF is more like it.     #fucktrump'\n",
      " 'This is why i love this motherfucker...    Shuts people down easily    #ArabForPresident  #FuckTrump https://t.co/nnufeKXPPn'\n",
      " 'Either rain or  one sided games. This World Cup sucks big fucking time. @ICC @cricketworldcup #ShameOnICC #RainStopsMatch #ENGvsWI #CWC #INDvNZ #WorldCup'\n",
      " \"Wow this fucktard really just said that he wouldn't have allowed Kim Jung Un's haha brother cooperate with the #CIA under his presidency #WTF #FuckTrump #BeScared https://t.co/EVJ2T4Q1Od\"\n",
      " 'If I haven’t said it today FUCK TRUMP 😂🤷\\u200d♀️ #fucktrump'\n",
      " 'Aw, come on, man! @realDonaldTrump getting trolled on his birthday? 🎂 Son of a bitch! On #JohnMCainDay?! Aw, damn it! Looks like #WreckItRalph is going to crash the party tonight.     #TrumpCriminalInvestigations #TrumpBirthday #TrumpIsATraitor #FactsFirst #FlagDay #FathersDay https://t.co/PljQIjnQQJ https://t.co/sbDmJCMJT6'\n",
      " 'Happy Birthday President Trump? How about #FuckTrump and fuck #TrumpBirthday? https://t.co/kMWgMk1051'\n",
      " \"#ShameOnICC    bcci for icc.. after worst management from icc..  'Important ye nhi voh chutiya hai  Important ye h ki voh hmara ladka..Hai..' 😂😂  #ICC #RainStopsMatch #ICCWorldCup2019 #CWC2019\"\n",
      " 'WHoa 😮... WtF this shit is crazy 🤔🧐🤦🏾\\u200d♂️ #rapist #pedophile   https://t.co/COvneyszzY'\n",
      " 'So Marco Rubio thinks I’m a #traitor because I don’t necessarily believe the habitually #lying @POTUS or the #murderer Mohamed Bin Salaam. I don’t believe the lying #murdering Iranian Clerics either. Fuck Marco Rubio’s dumb ass.'\n",
      " \"#FuckTrump  'Happy Birthday Mr. President' I hope all them candles blow in the direction of that sprayed hair . Sticky looking Mother Fucker with no soul. Aint it time for him to see a Dr. ?? He is long past due.\"\n",
      " \"This must be watched, brilliant. We need more calling out, but from the UK press please now. 'Not just looks like a fucking moron, but actually IS a fucking moron'. #BorisJohnsonShouldNotBePM #StopBoris https://t.co/xDbtQYdpVJ\"\n",
      " 'oval office moron. &lt;heavy sigh&gt; #fucktrump https://t.co/modDhxOL5X'\n",
      " 'Episode 10: Fuck off Tommy! Molly-Mae has every right to be fuming!! You’re literally going round to all the boys saying your head has turned but yet you was like to Lucie and Molly-Mae no girl who walks in the Villa will turn my head! 🙄 pathetic #LoveIsIand #dickhead'\n",
      " '@realDonaldTrump Well HAPPY FU€KING BDAY TO YOU A$$HOLE....MAY IT BE YOUR LAST🙏🙏🙏🙏🙏 #TrumpIsATraitor #TrumpMustResign #TrumpsAnInternationalDisgrace #TrumpResignNow #DumpTrump #TrumpsBirthday is his last🙏'\n",
      " '@KimKardashian @IvankaTrump You’re a Kardashian politician!  Nothing to be proud of!  Daily photos of people who need help are better than photos of wealthy assholes laughing at the rest of us!  #Trump #TrumpIsATraitor #TrumpsAnInternationalDisgrace #IvankaTrump'\n",
      " 'Fuck Trump and anybody who voted for that Lyin POS!  #FuckTrump https://t.co/sudpYAU1Eu']\n"
     ]
    }
   ],
   "source": [
    "target = \"profane\"\n",
    "dft = df.loc[df[\"label\"] == target]\n",
    "print(dft[\"text\"].values[70:90])"
   ]
  },
  {
   "cell_type": "code",
   "execution_count": 17,
   "id": "unusual-genetics",
   "metadata": {},
   "outputs": [
    {
     "data": {
      "text/plain": [
       "2549"
      ]
     },
     "execution_count": 17,
     "metadata": {},
     "output_type": "execute_result"
    }
   ],
   "source": [
    "len(df)"
   ]
  },
  {
   "cell_type": "code",
   "execution_count": null,
   "id": "historic-cleveland",
   "metadata": {},
   "outputs": [],
   "source": []
  },
  {
   "cell_type": "code",
   "execution_count": null,
   "id": "540bd166",
   "metadata": {},
   "outputs": [],
   "source": []
  }
 ],
 "metadata": {
  "kernelspec": {
   "display_name": "Python [conda env:test1] *",
   "language": "python",
   "name": "conda-env-test1-py"
  },
  "language_info": {
   "codemirror_mode": {
    "name": "ipython",
    "version": 3
   },
   "file_extension": ".py",
   "mimetype": "text/x-python",
   "name": "python",
   "nbconvert_exporter": "python",
   "pygments_lexer": "ipython3",
   "version": "3.7.10"
  }
 },
 "nbformat": 4,
 "nbformat_minor": 5
}
