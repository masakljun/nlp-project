{
 "cells": [
  {
   "cell_type": "markdown",
   "id": "0c9f0430",
   "metadata": {},
   "source": [
    "# Preprocessing of tweets\n",
    "\n",
    "Preprocessing and analysis of Wikipedia comments [15]. Download file [train.csv.zip](https://www.kaggle.com/c/jigsaw-toxic-comment-classification-challenge/data?select=train.csv.zip) and place it in a folder outside of repository in the same directory as repository. Rename it to *wiki_train.csv*. So the file tree should look like:\n",
    "\n",
    "```\n",
    "*\n",
    "|- nlp-project (Repository folder)\n",
    "|- wiki_train.csv\n",
    "-\n",
    "```"
   ]
  },
  {
   "cell_type": "code",
   "execution_count": 1,
   "id": "0493efbd",
   "metadata": {},
   "outputs": [],
   "source": [
    "import pandas as pd\n",
    "import numpy as np"
   ]
  },
  {
   "cell_type": "code",
   "execution_count": 2,
   "id": "72441b73",
   "metadata": {},
   "outputs": [
    {
     "data": {
      "text/html": [
       "<div>\n",
       "<style scoped>\n",
       "    .dataframe tbody tr th:only-of-type {\n",
       "        vertical-align: middle;\n",
       "    }\n",
       "\n",
       "    .dataframe tbody tr th {\n",
       "        vertical-align: top;\n",
       "    }\n",
       "\n",
       "    .dataframe thead th {\n",
       "        text-align: right;\n",
       "    }\n",
       "</style>\n",
       "<table border=\"1\" class=\"dataframe\">\n",
       "  <thead>\n",
       "    <tr style=\"text-align: right;\">\n",
       "      <th></th>\n",
       "      <th>id</th>\n",
       "      <th>comment_text</th>\n",
       "      <th>toxic</th>\n",
       "      <th>severe_toxic</th>\n",
       "      <th>obscene</th>\n",
       "      <th>threat</th>\n",
       "      <th>insult</th>\n",
       "      <th>identity_hate</th>\n",
       "    </tr>\n",
       "  </thead>\n",
       "  <tbody>\n",
       "    <tr>\n",
       "      <th>0</th>\n",
       "      <td>0000997932d777bf</td>\n",
       "      <td>Explanation\\nWhy the edits made under my usern...</td>\n",
       "      <td>0</td>\n",
       "      <td>0</td>\n",
       "      <td>0</td>\n",
       "      <td>0</td>\n",
       "      <td>0</td>\n",
       "      <td>0</td>\n",
       "    </tr>\n",
       "    <tr>\n",
       "      <th>1</th>\n",
       "      <td>000103f0d9cfb60f</td>\n",
       "      <td>D'aww! He matches this background colour I'm s...</td>\n",
       "      <td>0</td>\n",
       "      <td>0</td>\n",
       "      <td>0</td>\n",
       "      <td>0</td>\n",
       "      <td>0</td>\n",
       "      <td>0</td>\n",
       "    </tr>\n",
       "    <tr>\n",
       "      <th>2</th>\n",
       "      <td>000113f07ec002fd</td>\n",
       "      <td>Hey man, I'm really not trying to edit war. It...</td>\n",
       "      <td>0</td>\n",
       "      <td>0</td>\n",
       "      <td>0</td>\n",
       "      <td>0</td>\n",
       "      <td>0</td>\n",
       "      <td>0</td>\n",
       "    </tr>\n",
       "    <tr>\n",
       "      <th>3</th>\n",
       "      <td>0001b41b1c6bb37e</td>\n",
       "      <td>\"\\nMore\\nI can't make any real suggestions on ...</td>\n",
       "      <td>0</td>\n",
       "      <td>0</td>\n",
       "      <td>0</td>\n",
       "      <td>0</td>\n",
       "      <td>0</td>\n",
       "      <td>0</td>\n",
       "    </tr>\n",
       "    <tr>\n",
       "      <th>4</th>\n",
       "      <td>0001d958c54c6e35</td>\n",
       "      <td>You, sir, are my hero. Any chance you remember...</td>\n",
       "      <td>0</td>\n",
       "      <td>0</td>\n",
       "      <td>0</td>\n",
       "      <td>0</td>\n",
       "      <td>0</td>\n",
       "      <td>0</td>\n",
       "    </tr>\n",
       "  </tbody>\n",
       "</table>\n",
       "</div>"
      ],
      "text/plain": [
       "                 id                                       comment_text  toxic  \\\n",
       "0  0000997932d777bf  Explanation\\nWhy the edits made under my usern...      0   \n",
       "1  000103f0d9cfb60f  D'aww! He matches this background colour I'm s...      0   \n",
       "2  000113f07ec002fd  Hey man, I'm really not trying to edit war. It...      0   \n",
       "3  0001b41b1c6bb37e  \"\\nMore\\nI can't make any real suggestions on ...      0   \n",
       "4  0001d958c54c6e35  You, sir, are my hero. Any chance you remember...      0   \n",
       "\n",
       "   severe_toxic  obscene  threat  insult  identity_hate  \n",
       "0             0        0       0       0              0  \n",
       "1             0        0       0       0              0  \n",
       "2             0        0       0       0              0  \n",
       "3             0        0       0       0              0  \n",
       "4             0        0       0       0              0  "
      ]
     },
     "execution_count": 2,
     "metadata": {},
     "output_type": "execute_result"
    }
   ],
   "source": [
    "df1 = pd.read_csv(\"../../wiki_train.csv\")\n",
    "df1.head()"
   ]
  },
  {
   "cell_type": "code",
   "execution_count": 3,
   "id": "99122e0e",
   "metadata": {},
   "outputs": [
    {
     "data": {
      "text/html": [
       "<div>\n",
       "<style scoped>\n",
       "    .dataframe tbody tr th:only-of-type {\n",
       "        vertical-align: middle;\n",
       "    }\n",
       "\n",
       "    .dataframe tbody tr th {\n",
       "        vertical-align: top;\n",
       "    }\n",
       "\n",
       "    .dataframe thead th {\n",
       "        text-align: right;\n",
       "    }\n",
       "</style>\n",
       "<table border=\"1\" class=\"dataframe\">\n",
       "  <thead>\n",
       "    <tr style=\"text-align: right;\">\n",
       "      <th></th>\n",
       "      <th>id</th>\n",
       "      <th>comment_text</th>\n",
       "      <th>toxic</th>\n",
       "      <th>obscene</th>\n",
       "      <th>threat</th>\n",
       "      <th>insult</th>\n",
       "      <th>identity_hate</th>\n",
       "    </tr>\n",
       "  </thead>\n",
       "  <tbody>\n",
       "    <tr>\n",
       "      <th>0</th>\n",
       "      <td>0000997932d777bf</td>\n",
       "      <td>Explanation\\nWhy the edits made under my usern...</td>\n",
       "      <td>0</td>\n",
       "      <td>0</td>\n",
       "      <td>0</td>\n",
       "      <td>0</td>\n",
       "      <td>0</td>\n",
       "    </tr>\n",
       "    <tr>\n",
       "      <th>1</th>\n",
       "      <td>000103f0d9cfb60f</td>\n",
       "      <td>D'aww! He matches this background colour I'm s...</td>\n",
       "      <td>0</td>\n",
       "      <td>0</td>\n",
       "      <td>0</td>\n",
       "      <td>0</td>\n",
       "      <td>0</td>\n",
       "    </tr>\n",
       "    <tr>\n",
       "      <th>2</th>\n",
       "      <td>000113f07ec002fd</td>\n",
       "      <td>Hey man, I'm really not trying to edit war. It...</td>\n",
       "      <td>0</td>\n",
       "      <td>0</td>\n",
       "      <td>0</td>\n",
       "      <td>0</td>\n",
       "      <td>0</td>\n",
       "    </tr>\n",
       "    <tr>\n",
       "      <th>3</th>\n",
       "      <td>0001b41b1c6bb37e</td>\n",
       "      <td>\"\\nMore\\nI can't make any real suggestions on ...</td>\n",
       "      <td>0</td>\n",
       "      <td>0</td>\n",
       "      <td>0</td>\n",
       "      <td>0</td>\n",
       "      <td>0</td>\n",
       "    </tr>\n",
       "    <tr>\n",
       "      <th>4</th>\n",
       "      <td>0001d958c54c6e35</td>\n",
       "      <td>You, sir, are my hero. Any chance you remember...</td>\n",
       "      <td>0</td>\n",
       "      <td>0</td>\n",
       "      <td>0</td>\n",
       "      <td>0</td>\n",
       "      <td>0</td>\n",
       "    </tr>\n",
       "  </tbody>\n",
       "</table>\n",
       "</div>"
      ],
      "text/plain": [
       "                 id                                       comment_text  toxic  \\\n",
       "0  0000997932d777bf  Explanation\\nWhy the edits made under my usern...      0   \n",
       "1  000103f0d9cfb60f  D'aww! He matches this background colour I'm s...      0   \n",
       "2  000113f07ec002fd  Hey man, I'm really not trying to edit war. It...      0   \n",
       "3  0001b41b1c6bb37e  \"\\nMore\\nI can't make any real suggestions on ...      0   \n",
       "4  0001d958c54c6e35  You, sir, are my hero. Any chance you remember...      0   \n",
       "\n",
       "   obscene  threat  insult  identity_hate  \n",
       "0        0       0       0              0  \n",
       "1        0       0       0              0  \n",
       "2        0       0       0              0  \n",
       "3        0       0       0              0  \n",
       "4        0       0       0              0  "
      ]
     },
     "execution_count": 3,
     "metadata": {},
     "output_type": "execute_result"
    }
   ],
   "source": [
    "df1[\"toxic\"] = df1[[\"toxic\", \"severe_toxic\"]].sum(axis = 1)\n",
    "df1 = df1.drop([\"severe_toxic\"], axis = 1)\n",
    "df1.head()"
   ]
  },
  {
   "cell_type": "code",
   "execution_count": 4,
   "id": "8b53c643",
   "metadata": {},
   "outputs": [],
   "source": [
    "#sum(df1[[\"toxic\", \"severe_toxic\"]].sum(axis = 1) > 0)"
   ]
  },
  {
   "cell_type": "code",
   "execution_count": 5,
   "id": "92a827b5",
   "metadata": {},
   "outputs": [],
   "source": [
    "toxic = df1[df1[\"toxic\"] == 1]\n",
    "obscene = df1[df1[\"obscene\"] == 1]\n",
    "threat = df1[df1[\"threat\"] == 1]\n",
    "insult = df1[df1[\"insult\"] == 1]\n",
    "identity = df1[df1[\"identity_hate\"] == 1]\n",
    "\n",
    "toxic = toxic[\"comment_text\"].tolist()\n",
    "\n",
    "obscene = obscene[\"comment_text\"].tolist()\n",
    "threat = threat[\"comment_text\"].tolist()\n",
    "insult = insult[\"comment_text\"].tolist()\n",
    "identity = identity[\"comment_text\"].tolist()\n",
    "\n",
    "\n",
    "labels = []\n",
    "labels.extend([\"toxic\"] * len(toxic))\n",
    "labels.extend([\"obscene\"] * len(obscene))\n",
    "labels.extend([\"threat\"] * len(threat))\n",
    "labels.extend([\"insult\"] * len(insult))\n",
    "labels.extend([\"identity\"] * len(identity))\n",
    "\n",
    "texts = []\n",
    "texts.extend(toxic)\n",
    "texts.extend(obscene)\n",
    "texts.extend(threat)\n",
    "texts.extend(insult)\n",
    "texts.extend(identity)\n"
   ]
  },
  {
   "cell_type": "code",
   "execution_count": 6,
   "id": "df95c188",
   "metadata": {},
   "outputs": [],
   "source": [
    "import re\n",
    "def process_text(text):\n",
    "    # remove html tags\n",
    "    cleanr = re.compile('<.*?>')\n",
    "    cleantext = re.sub(cleanr, '', text)\n",
    "    cleantext.strip()\n",
    "    \n",
    "    # remove &sometihngttags\n",
    "    cleanr = re.compile('&.*?;')\n",
    "    cleantext = re.sub(cleanr, '', cleantext)\n",
    "    \n",
    "    # remove empty lines\n",
    "    cleanr = re.compile('\\n')\n",
    "    cleantext = re.sub(cleanr, '', cleantext)\n",
    "    \n",
    "    # remove \\r\n",
    "    cleanr = re.compile('\\r')\n",
    "    cleantext = re.sub(cleanr, '', cleantext)\n",
    "    \n",
    "    # remove extra space\n",
    "    cleantext = re.sub(' +', ' ', cleantext)\n",
    "    \n",
    "    #cleantext = \"\".join([s for s in cleantext.strip().splitlines(True) if s.strip()])\n",
    "    #cleantext.strip()\n",
    "    return cleantext"
   ]
  },
  {
   "cell_type": "code",
   "execution_count": 7,
   "id": "fc420c2e",
   "metadata": {},
   "outputs": [],
   "source": [
    "for i in range(len(texts)):\n",
    "    texts[i] = process_text(texts[i])"
   ]
  },
  {
   "cell_type": "code",
   "execution_count": 8,
   "id": "b10346d1",
   "metadata": {},
   "outputs": [
    {
     "data": {
      "text/html": [
       "<div>\n",
       "<style scoped>\n",
       "    .dataframe tbody tr th:only-of-type {\n",
       "        vertical-align: middle;\n",
       "    }\n",
       "\n",
       "    .dataframe tbody tr th {\n",
       "        vertical-align: top;\n",
       "    }\n",
       "\n",
       "    .dataframe thead th {\n",
       "        text-align: right;\n",
       "    }\n",
       "</style>\n",
       "<table border=\"1\" class=\"dataframe\">\n",
       "  <thead>\n",
       "    <tr style=\"text-align: right;\">\n",
       "      <th></th>\n",
       "      <th>text</th>\n",
       "      <th>label</th>\n",
       "    </tr>\n",
       "  </thead>\n",
       "  <tbody>\n",
       "    <tr>\n",
       "      <th>0</th>\n",
       "      <td>Hey... what is it..@ | talk .What is it... an ...</td>\n",
       "      <td>toxic</td>\n",
       "    </tr>\n",
       "    <tr>\n",
       "      <th>1</th>\n",
       "      <td>Bye! Don't look, come or think of comming back...</td>\n",
       "      <td>toxic</td>\n",
       "    </tr>\n",
       "    <tr>\n",
       "      <th>2</th>\n",
       "      <td>You are gay or antisemmitian? Archangel WHite ...</td>\n",
       "      <td>toxic</td>\n",
       "    </tr>\n",
       "    <tr>\n",
       "      <th>3</th>\n",
       "      <td>FUCK YOUR FILTHY MOTHER IN THE ASS, DRY!</td>\n",
       "      <td>toxic</td>\n",
       "    </tr>\n",
       "    <tr>\n",
       "      <th>4</th>\n",
       "      <td>I'm Sorry I'm sorry I screwed around with some...</td>\n",
       "      <td>toxic</td>\n",
       "    </tr>\n",
       "  </tbody>\n",
       "</table>\n",
       "</div>"
      ],
      "text/plain": [
       "                                                text  label\n",
       "0  Hey... what is it..@ | talk .What is it... an ...  toxic\n",
       "1  Bye! Don't look, come or think of comming back...  toxic\n",
       "2  You are gay or antisemmitian? Archangel WHite ...  toxic\n",
       "3           FUCK YOUR FILTHY MOTHER IN THE ASS, DRY!  toxic\n",
       "4  I'm Sorry I'm sorry I screwed around with some...  toxic"
      ]
     },
     "execution_count": 8,
     "metadata": {},
     "output_type": "execute_result"
    }
   ],
   "source": [
    "df = pd.DataFrame({\"text\": texts, \"label\":labels})\n",
    "df.head()"
   ]
  },
  {
   "cell_type": "code",
   "execution_count": 9,
   "id": "46df0d96",
   "metadata": {},
   "outputs": [],
   "source": [
    "df.to_csv(\"data/filtered/toxic_obscene_threat_insult_identity.csv\")"
   ]
  },
  {
   "cell_type": "markdown",
   "id": "4eda9a3a",
   "metadata": {},
   "source": [
    "# Distribution"
   ]
  },
  {
   "cell_type": "code",
   "execution_count": 10,
   "id": "8b1a6c9f",
   "metadata": {},
   "outputs": [
    {
     "data": {
      "text/plain": [
       "array(['identity', 'insult', 'obscene', 'threat', 'toxic'], dtype='<U8')"
      ]
     },
     "execution_count": 10,
     "metadata": {},
     "output_type": "execute_result"
    }
   ],
   "source": [
    "groups = df.groupby([\"label\"]).agg(\"count\")\n",
    "labs = np.array(groups.index.tolist())\n",
    "counter = np.array(groups[\"text\"].tolist())\n",
    "labs"
   ]
  },
  {
   "cell_type": "code",
   "execution_count": 1,
   "id": "59ff9549",
   "metadata": {},
   "outputs": [
    {
     "ename": "NameError",
     "evalue": "name 'counter' is not defined",
     "output_type": "error",
     "traceback": [
      "\u001b[1;31m---------------------------------------------------------------------------\u001b[0m",
      "\u001b[1;31mNameError\u001b[0m                                 Traceback (most recent call last)",
      "\u001b[1;32m<ipython-input-1-05dc66174296>\u001b[0m in \u001b[0;36m<module>\u001b[1;34m\u001b[0m\n\u001b[0;32m      2\u001b[0m \u001b[1;32mimport\u001b[0m \u001b[0mnumpy\u001b[0m \u001b[1;32mas\u001b[0m \u001b[0mnp\u001b[0m\u001b[1;33m\u001b[0m\u001b[1;33m\u001b[0m\u001b[0m\n\u001b[0;32m      3\u001b[0m \u001b[1;33m\u001b[0m\u001b[0m\n\u001b[1;32m----> 4\u001b[1;33m \u001b[0mcounter\u001b[0m \u001b[1;33m=\u001b[0m \u001b[0mnp\u001b[0m\u001b[1;33m.\u001b[0m\u001b[0marray\u001b[0m\u001b[1;33m(\u001b[0m\u001b[0mcounter\u001b[0m\u001b[1;33m)\u001b[0m\u001b[1;33m\u001b[0m\u001b[1;33m\u001b[0m\u001b[0m\n\u001b[0m\u001b[0;32m      5\u001b[0m \u001b[1;33m\u001b[0m\u001b[0m\n\u001b[0;32m      6\u001b[0m \u001b[0midx\u001b[0m \u001b[1;33m=\u001b[0m \u001b[0mnp\u001b[0m\u001b[1;33m.\u001b[0m\u001b[0margsort\u001b[0m\u001b[1;33m(\u001b[0m\u001b[0mcounter\u001b[0m\u001b[1;33m)\u001b[0m\u001b[1;33m\u001b[0m\u001b[1;33m\u001b[0m\u001b[0m\n",
      "\u001b[1;31mNameError\u001b[0m: name 'counter' is not defined"
     ]
    }
   ],
   "source": [
    "import matplotlib.pyplot as plt\n",
    "import numpy as np\n",
    "\n",
    "counter = np.array(counter)\n",
    "\n",
    "idx = np.argsort(counter)\n",
    "\n",
    "x = labs[idx]\n",
    "y = counter[idx]\n",
    "\n",
    "#x = x[1:]\n",
    "#y = y[1:]\n",
    "\n",
    "fig, ax = plt.subplots(figsize = (6,1.8))\n",
    "ax.barh(x,y)\n",
    "ax.set_xlim([0, 15500])\n",
    "for i, v in enumerate(y):\n",
    "    ax.text(v + 50, i - 0.15, str(v), color=\"gray\", fontweight='bold')\n",
    "plt.title(\"Distribution of tweets in dataset\")\n",
    "plt.show()"
   ]
  },
  {
   "cell_type": "code",
   "execution_count": 12,
   "id": "897fb865",
   "metadata": {},
   "outputs": [
    {
     "data": {
      "text/plain": [
       "['Fucked with the wrong muchacho. 21:19, July 23, 2005 (UTC)',\n",
       " 'Add Mobile porn as additional WP:ALSO link',\n",
       " \"F**K ALL RIDES AT WORLDS OF FUN I hate all rides at Worlds of Fun because they are sh_tty and boring. All ride operators at WOF should be fired sued and hanged. Burn all WOF coasters. Arrest all WOF park operators! Assassinate all WOF customers! I heard that a boy died on Timberwolf on August, 2014. That's stupid! Worlds of Fun should have nown better to built that sh_t ride. Worlds Of Fun cares about money and prophet moar than they're customers. Burn that sh_t park down! F**K YOU RIDES! WorldS Of Fun is dangerouser than GRround Zero and Area 51. Worlds of Fun should burn in Hell!\",\n",
       " '\"\"\"Nazi filth\"\" is impolite 04:27, 20 Jan 2004 (UTC)\"',\n",
       " \"I don't care what you say here. I don't believe one sentence anymore.\",\n",
       " \"I can tell you what the argument is about here newseventsguy. It's about YOUR retroactive reversion of a simple edit trying to include secondary independent verification of sedimentary nanodiamonds in Younger Dryas sediments by Bement and Madden et al., WITHOUT DISCUSSION a reference that I notice has NOT YET been included in the reference list still, after all this time. This is after you ADMIT that you are ignorant of the peer review literature and the controversy. Any attempt to do simple reference list edits on this page have been stomped by no less that five admittedly biased and ignorant editors. The honorable thing to do here would be to recuse yourself from editing the page, as I have. But I haven't seen that happening until now. Good luck with it, you've already made complete fools of yourselves.\",\n",
       " 'HELLO HOW DO I GET SOMEBODY TO FIX SHIT AROUND HERE?',\n",
       " 'DictionariesHow dare you call my contribution spam!!! I am a Kurd and I made a lsit of kurdish dictionaries. you bloody turkish nationalist and atoricity commiting bone breaking Nazi. watch out folk this slimy Turk is trying to censor the internet this is not undemocratic Turkey here, no prison cells in wikipedia you stupid Turk! And you buggers want membership to the EEC',\n",
       " \"You are a know it all.....Jimbo! Why don't you get a life instead of sitting in front of your computer all day. The high priestess of knowledge, indeed!\",\n",
       " 'You sir are an imbecile, and a pervert.',\n",
       " '\" Another crap article Parrots what promotion websites of capoeira schools say about myths of origin. And also that persecution thing. By the late 1800s, capoeira became a word for street brawling. Thus, authorities did not prohibit or sanction \"\"practice\"\" of capoeira. In banning capoeira they were banning outright street brawls! It\\'s why Mestre Bimba presented his art as Luta Regional Baiana. No decent carioca would be eager to sympathise with capoeira and malandrismo. I could attempt to alter the article but it\\'s become such a mess by now. \"',\n",
       " \"I'm also a sock puppet of this account...SUPRISE!!-sincerely, The man that will track you down from the Internet and kill you\",\n",
       " 'Are you fucker mother fucker have nothing to do but block University computers. Go and suck cocks',\n",
       " \"HELLO You disgrace to humanity. Stop wasting valuable Internet resources (your killing the fucking planet) and throw out your PC. PS it's like 3am what the fark kinda life do you have on Wikipedia 24/7. A VERY SAD AND LONELY ONE LOL. Life's too short find something better to do\",\n",
       " \"Your retarded bot Your bot is entirely automated, that is wrong. You should not leave an unattented script just running through the site like that, it is idiotic of you to suppose that your scripting abilities are so perfect that they will only ever make proper edits. Banning me doesn't help anything, dipshit, since I have as many IPs as I want.\",\n",
       " 'DISLIKE RACISM AND I CAN SEE THAT YOU HAS PROBLEMS WITH PEOPLE WHO SPEAKS SPANISH. YOU ARE AN ANTISEMITE TOO.',\n",
       " 'IT WASNT VANDALISM, DICKHEAD',\n",
       " '\" You Suck If you don\\'t undelete the page \"\"Barry Dejay\"\" I will %$#@ you!\"',\n",
       " 'Curse Wikipedia has no respect for God. Wikipedia is full of lies or dangerously evil half truths.Wikipedia has no respect for religion.The following users of Wikipedia, namely: Redtigerxyz, Priyanath, Emperor Genius, Raj2004, Wikidas, Wikiveer and DaGizza have all committed blasphemy and sacrilage. Curse upon you that you will all perish.I curse the following users of Wikipedia, namely: Redtigerxyz, Priyanath, Emperor Genius, Raj2004, Wikidas, Wikiveer and DaGizza that you will all perish.I curse that the Wikipedia will entirely perish.I beg forgiveness from the Supreme God, Lord Vishnu for choosing the blasphemous Wikipedia website to write about the truth. A true devote of the Supreme Lord Vishnu has been hurt and my curse never goes in vain.I will never again edit or read or go to the evil Wikipedia website, forever . Delete my user-id and all edits you evil Wikipedians.Mr. DaGizza, you are a Male Chauvinist Pig and a misogynist to the core and you call yourself an administrator !!! Ridiculous !!!Mr. DaGizza, you are a curse to your existance.A man like you, who cannot respect women is a worthless in his existance. You Wikipedians are useless people. You are a burden to the civilized world. You are not even worth hatred.You Wikipedians must be ignored. Curse']"
      ]
     },
     "execution_count": 12,
     "metadata": {},
     "output_type": "execute_result"
    }
   ],
   "source": [
    "target = \"toxic\"\n",
    "subdf = df[df[\"label\"] == target]\n",
    "subdf[\"text\"].tolist()[41:60]"
   ]
  },
  {
   "cell_type": "code",
   "execution_count": 13,
   "id": "aa9ec6cf",
   "metadata": {},
   "outputs": [
    {
     "data": {
      "text/plain": [
       "['A pair of jew-hating weiner nazi schmucks.',\n",
       " \"I think that your a Fagget get a oife and burn in Hell I hate you 'm sorry we cant have any more sex i'm running out of conndoms\",\n",
       " 'Kill all niggers. I have hard, that others have said this.. should this be included? That racists sometimes say these.',\n",
       " 'u r a tw@ fuck off u gay boy.U r smelly.Fuck ur mum poopie',\n",
       " 'Gay The existence of CDVF is further proof that is a sad twat. He is also very ugly, and has a willy for a face.',\n",
       " 'DictionariesHow dare you call my contribution spam!!! I am a Kurd and I made a lsit of kurdish dictionaries. you bloody turkish nationalist and atoricity commiting bone breaking Nazi. watch out folk this slimy Turk is trying to censor the internet this is not undemocratic Turkey here, no prison cells in wikipedia you stupid Turk! And you buggers want membership to the EEC',\n",
       " 'you gay motherfucker i know where you live,i am going to sand your face off,then i am to going to beat you to a pulp,you chicken shagger.',\n",
       " 'you studid cock sucker u stop callin me ok its a frank Garrett eatin the worms crawl outa your moms pussy you fucking retardo hit I retardo',\n",
       " \"WOULDN'T BE THE FIRST TIME BITCH. FUCK YOU I'LL FIND OUT WHERE YOU LIVE, SODOMIZE YOUR WIFE AND THEN BURN YOUR HOUSE DOWN. FUCK YOU YOU FUCKING QUEER.\",\n",
       " \"Fuck you faggot, I don't care if i get blocked, as long as everyone knows you are a dumb cunt.\",\n",
       " 'Hey, you freaking hermaphrodite. Please unprotect your user page; I would like to move it to a more suitable title or three.',\n",
       " \"GHE you're a fag. Learn it, know it!\",\n",
       " 'SHUT UP, YOU FAT POOP, OR I WILL KICK YOUR ASS!!!',\n",
       " 'THAT WAS A GOOD EDIT THE POLAR BEAR IS GAY!!',\n",
       " \"Demonte Morton U bastard stop deletin' my shit u white trash cracker muthafucker. Fuck u u racist bitch. I hope u die.\",\n",
       " 'Bla bla bla....suck it Irishguy =)',\n",
       " '\"You have evidence from ME! I presented you with tone of evidence, but you reject it because it goes against your fictional ideas of what New England is or should be. Even eastern(southeast anyway) CT is not into this New England thing, which actually shocked me! I have told you time and again, western CT does not think of ourselves in this NE thing. Go to a town meeting and see if Boston or NE comes up. CT and it\\'s place in the NYC metro area is what comes up. You are doing nothing but telling lies and spreading propaganda. It has to be because you dismiss my actual facts and you make too many excuses that hold no water. In my CT, there are no signs that point to New England or Boston. Our signs point to New York state and city.Also, how you people are not on this guy\\'s ass like you are on mine? \"\"I bet its cause we white folk from New England hate NYC Niggers, like this spick who posted above me. Go fuck yourself.—The preceding unsigned comment was added by 71.162.110.60 (talk • contribs).\"\" I can only assume because he is one of you and he at least still believe in New England with Boston as it\\'s capital. Get your head out of your ass. Watch you block me for those comments. If I get blocked, that guy (you? should be blocked. \"',\n",
       " 'YOU ARE A FAGGOTGET A LIFE 97.102.60.171',\n",
       " \"Once again.... I'm SO glad that Wikipedia is not biased or filled with retarded children.\"]"
      ]
     },
     "execution_count": 13,
     "metadata": {},
     "output_type": "execute_result"
    }
   ],
   "source": [
    "target = \"identity\"\n",
    "subdf = df[df[\"label\"] == target]\n",
    "subdf[\"text\"].tolist()[1:20]"
   ]
  },
  {
   "cell_type": "code",
   "execution_count": 14,
   "id": "f2f2b75e",
   "metadata": {},
   "outputs": [
    {
     "data": {
      "text/plain": [
       "[\"You are gay or antisemmitian? Archangel WHite TigerMeow! Greetingshhh!Uh, there are two ways, why you do erased my comment about WW2, that holocaust was brutally slaying of Jews and not gays/Gypsys/Slavs/anyone...1 - If you are anti-semitian, than shave your head bald and go to the skinhead meetings!2 - If you doubt words of the Bible, that homosexuality is a deadly sin, make a pentagram tatoo on your forehead go to the satanistic masses with your gay pals!3 - First and last warning, you fucking gay - I won't appreciate if any more nazi shwain would write in my page! I don't wish to talk to you anymore!Beware of the Dark Side!\",\n",
       " 'FUCK YOUR FILTHY MOTHER IN THE ASS, DRY!',\n",
       " 'Stupid peace of shit stop deleting my stuff asshole go die and fall in a hole go to hell!',\n",
       " '=Tony Sidaway is obviously a fistfuckee. He loves an arm up his ass.',\n",
       " \"All of my edits are good. Cunts like you who revert good edits because you're too stupid to understand how to write well , and then revert other edits just because you've decided to bear a playground grudge, are the problem. Maybe one day you'll realise the damage you did to a noble project. 201.215.187.159\",\n",
       " \"Would you both shut up, you don't run wikipedia, especially a stupid kid.\",\n",
       " 'A pair of jew-hating weiner nazi schmucks.',\n",
       " \"You should be fired, you're a moronic wimp who is too lazy to do research. It makes me sick that people like you exist in this world.\",\n",
       " \"I think that your a Fagget get a oife and burn in Hell I hate you 'm sorry we cant have any more sex i'm running out of conndoms\",\n",
       " \"REPLY ABOVE:That was me, loser. The UN defines Vietnam to be part of Southeast Asia. And far as I know Vietnam is part of ASEAN, and used to be part of French Indochina with Laos and all those shit countries Anyway your culture has always been more influenced by SEA than Han Chinese (as in proper Yangtze Han Chinese, not the fringe indigenous tribes in Guangzhou/Guangxi). Just admit that you vietnamese are all a bunch of wannabe crap people. ALL the east asian people I've spoken to thinks of Vietnam as a very integral part of SEA, and we all think you're backward, dirty and speak in a horrible swearing language. Doesn't matter what crap you spout on Wikipedia, won't change the way people in the real world think.\",\n",
       " \"you are a stupid fuck and your mother's cunt stinks\",\n",
       " 'Fuck you, block me, you faggot pussy!',\n",
       " 'Kill all niggers. I have hard, that others have said this.. should this be included? That racists sometimes say these.',\n",
       " \"Burn Deck If that'd guy's burn deck is like what I think it is than he is in for a blrude awakening!!! Leviathan motherfucker!!!\",\n",
       " 'u r a tw@ fuck off u gay boy.U r smelly.Fuck ur mum poopie',\n",
       " 'this user is such a worthless goddamn faggot fuck you faggot',\n",
       " '\" Fuck you Fuck you award go fuck yourself \"',\n",
       " \"Keep your eye on it, no one cares, OK? People can put what they want on here, and clean it up all you want but no one cares. God, you're so freakin' stupid! Omnigan\",\n",
       " \"Fuck you -User:The Bohemian Shinobis yeah, that's right, bitch! You are all pieces of shit!\"]"
      ]
     },
     "execution_count": 14,
     "metadata": {},
     "output_type": "execute_result"
    }
   ],
   "source": [
    "target = \"insult\"\n",
    "subdf = df[df[\"label\"] == target]\n",
    "subdf[\"text\"].tolist()[1:20]"
   ]
  },
  {
   "cell_type": "code",
   "execution_count": 15,
   "id": "765dd292",
   "metadata": {},
   "outputs": [
    {
     "data": {
      "text/plain": [
       "[\"You are gay or antisemmitian? Archangel WHite TigerMeow! Greetingshhh!Uh, there are two ways, why you do erased my comment about WW2, that holocaust was brutally slaying of Jews and not gays/Gypsys/Slavs/anyone...1 - If you are anti-semitian, than shave your head bald and go to the skinhead meetings!2 - If you doubt words of the Bible, that homosexuality is a deadly sin, make a pentagram tatoo on your forehead go to the satanistic masses with your gay pals!3 - First and last warning, you fucking gay - I won't appreciate if any more nazi shwain would write in my page! I don't wish to talk to you anymore!Beware of the Dark Side!\",\n",
       " 'FUCK YOUR FILTHY MOTHER IN THE ASS, DRY!',\n",
       " \"GET FUCKED UP. GET FUCKEEED UP. GOT A DRINK THAT YOU CANT PUT DOWN???/ GET FUCK UP GET FUCKED UP. I'M FUCKED UP RIGHT NOW!\",\n",
       " 'Stupid peace of shit stop deleting my stuff asshole go die and fall in a hole go to hell!',\n",
       " '=Tony Sidaway is obviously a fistfuckee. He loves an arm up his ass.',\n",
       " \"My Band Page's deletion. You thought I was gone. Deleting the comment I posted on your 'talk page' does not delete my feelings for your hasty decision to delete my page. You, sir, are still a cock-sucking douche fuck. Sit back for a second and think about what your life has become. ............ Done? That didn't take long did it? Nope. Because, as I am most certainly aware, your life is a shitstorm of sitting in front of the computer masturbating to fictional creatures. Your attempts to get rid of me are mediocre at best. You are constantly sucking the dick of failure. You don't want a personal attack, huh? Well, too bad, Fuckcock McDickerson. You've got one. From me. You can go ahead and delete my profile from wikipedia. I'll just make another one and come right back to 'Syrthiss's talk page and insult the dick off of you. How could you shatter the dreams of an innocent eighteen year old college freshman trying to make a name for his band. Does that make you happy? Fucking with people because you're an overweight, single, old man in a dead-end job. Did you spot that perhaps someone else was going to follow his dreams and you were trying to hold him back so somebody else could suffer like you? Yes you did. I don't make empty threats, so I won't be saying anything along the lines of 'i'll hurt you' or 'i'll eat the children from within your sister's womb', but I will say that you are a asshole, son-of-a-bitch, mother fucking cock sucker. So, go eat some more food and drown your sorrows you premature ejaculating, bald headed fuck.You should do something nice for yourself, maybe go grab a couple of Horny Goat Weeds from your local convenience store and jack off for a little longer than three minutes tonight.Sincerely,An Asshole That's Better Than You In Every Way.\",\n",
       " \"All of my edits are good. Cunts like you who revert good edits because you're too stupid to understand how to write well , and then revert other edits just because you've decided to bear a playground grudge, are the problem. Maybe one day you'll realise the damage you did to a noble project. 201.215.187.159\",\n",
       " 'A pair of jew-hating weiner nazi schmucks.',\n",
       " \"I think that your a Fagget get a oife and burn in Hell I hate you 'm sorry we cant have any more sex i'm running out of conndoms\",\n",
       " \"you are a stupid fuck and your mother's cunt stinks\",\n",
       " 'Your blatant POV pushing Neither of you guys has made any contribution to this Italian history article other than to shove your unhistorical unconstructive modern POV in my face.This is a HISTORY article. HISTORY.Have you heard of that?This is the reason why so many people get pissed off about the pedantry and idiocy and triviality of Wikipedia.J*sus. Get a f*cking life.',\n",
       " 'Fuck you, block me, you faggot pussy!',\n",
       " 'Kill all niggers. I have hard, that others have said this.. should this be included? That racists sometimes say these.',\n",
       " \"Burn Deck If that'd guy's burn deck is like what I think it is than he is in for a blrude awakening!!! Leviathan motherfucker!!!\",\n",
       " 'u r a tw@ fuck off u gay boy.U r smelly.Fuck ur mum poopie',\n",
       " 'this user is such a worthless goddamn faggot fuck you faggot',\n",
       " \"Fuck offYou are NOT an administrator. You DON'T have the authority to tell me what to do.\",\n",
       " '\" Fuck you Fuck you award go fuck yourself \"',\n",
       " \"MATT HARDY IS SO FUCKY!!!''Italic text[[Media:Example.ogg]]'''''MATT HARDY IS SO FUCKY!!!\"]"
      ]
     },
     "execution_count": 15,
     "metadata": {},
     "output_type": "execute_result"
    }
   ],
   "source": [
    "target = \"obscene\"\n",
    "subdf = df[df[\"label\"] == target]\n",
    "subdf[\"text\"].tolist()[1:20]"
   ]
  },
  {
   "cell_type": "code",
   "execution_count": 16,
   "id": "47bfa23b",
   "metadata": {},
   "outputs": [
    {
     "data": {
      "text/plain": [
       "['Wtf, Why You deleting Maashel? Bad things will happen to you now.',\n",
       " 'How dare you send me such abuse you fucking cockmaster!If you dare warn me again, Mr Jeff. I will savagely attack your mother!I know where you live',\n",
       " 'To Huldra I sincerely hope you die. 124.180.167.228',\n",
       " '\" Lock Down I don\\'t know about the \"\"Bulgarian BULLSHIT season\"\", but don\\'t be fooled from where exactly i connect. If i see you editing, or someone else you send, the DDA40X article one more time, you will spend the next few years in prison. I will arrange you a meeting with certain people for suspicions of terrorism. Yes. I can do that. A terror suspect nowadays, you can kiss your young life goodbye. If you file complaints and i\\'m banned, you and your naked ass will have the whole time in the world, in the cell block, to think what went wrong. 87.252.167.254 \"',\n",
       " \"Who the HELL do you think you are? How dare you revert my edit to Quillacollo Province. I was making a friend smile, and you ruined it. In doing that, you also ruined my life. And my friends life. I'm going to cut your dog in half.\",\n",
       " '\"Wow, you\\'re the one commenting on how users commenting on the page are \"\"drooling retards\"\" and you try to drop this courtesy C on me? You\\'re just as pathetic as you\\'ve always been and I hope you die in a jizz fire.\"',\n",
       " \"SuPeRTR0LL WiLL LiVe FoReVeR!iF You DoN'T ReSPeCT THe SuPeRTR0LL You WiLL Die You PaTHeTiC FooL!SuPeRTR0LL WiLL LiVe FoReVeR!iF You DoN'T ReSPeCT THe SuPeRTR0LL You WiLL Die You PaTHeTiC FooL!SuPeRTR0LL WiLL LiVe FoReVeR!iF You DoN'T ReSPeCT THe SuPeRTR0LL You WiLL Die You PaTHeTiC FooL!SuPeRTR0LL WiLL LiVe FoReVeR!iF You DoN'T ReSPeCT THe SuPeRTR0LL You WiLL Die You PaTHeTiC FooL!SuPeRTR0LL WiLL LiVe FoReVeR!iF You DoN'T ReSPeCT THe SuPeRTR0LL You WiLL Die You PaTHeTiC FooL!SuPeRTR0LL WiLL LiVe FoReVeR!iF You DoN'T ReSPeCT THe SuPeRTR0LL You WiLL Die You PaTHeTiC FooL!SuPeRTR0LL WiLL LiVe FoReVeR!iF You DoN'T ReSPeCT THe SuPeRTR0LL You WiLL Die You PaTHeTiC FooL!SuPeRTR0LL WiLL LiVe FoReVeR!iF You DoN'T ReSPeCT THe SuPeRTR0LL You WiLL Die You PaTHeTiC FooL!SuPeRTR0LL WiLL LiVe FoReVeR!iF You DoN'T ReSPeCT THe SuPeRTR0LL You WiLL Die You PaTHeTiC FooL!SuPeRTR0LL WiLL LiVe FoReVeR!iF You DoN'T ReSPeCT THe SuPeRTR0LL You WiLL Die You PaTHeTiC FooL!SuPeRTR0LL WiLL LiVe FoReVeR!iF You DoN'T ReSPeCT THe SuPeRTR0LL You WiLL Die You PaTHeTiC FooL!SuPeRTR0LL WiLL LiVe FoReVeR!iF You DoN'T ReSPeCT THe SuPeRTR0LL You WiLL Die You PaTHeTiC FooL!SuPeRTR0LL WiLL LiVe FoReVeR!iF You DoN'T ReSPeCT THe SuPeRTR0LL You WiLL Die You PaTHeTiC FooL!SuPeRTR0LL WiLL LiVe FoReVeR!iF You DoN'T ReSPeCT THe SuPeRTR0LL You WiLL Die You PaTHeTiC FooL!SuPeRTR0LL WiLL LiVe FoReVeR!iF You DoN'T ReSPeCT THe SuPeRTR0LL You WiLL Die You PaTHeTiC FooL!SuPeRTR0LL WiLL LiVe FoReVeR!iF You DoN'T ReSPeCT THe SuPeRTR0LL You WiLL Die You PaTHeTiC FooL!SuPeRTR0LL WiLL LiVe FoReVeR!iF You DoN'T ReSPeCT THe SuPeRTR0LL You WiLL Die You PaTHeTiC FooL!SuPeRTR0LL WiLL LiVe FoReVeR!iF You DoN'T ReSPeCT THe SuPeRTR0LL You WiLL Die You PaTHeTiC FooL!SuPeRTR0LL WiLL LiVe FoReVeR!iF You DoN'T ReSPeCT THe SuPeRTR0LL You WiLL Die You PaTHeTiC FooL!SuPeRTR0LL WiLL LiVe FoReVeR!iF You DoN'T ReSPeCT THe SuPeRTR0LL You WiLL Die You PaTHeTiC FooL!SuPeRTR0LL WiLL LiVe FoReVeR!iF You DoN'T ReSPeCT THe SuPeRTR0LL You WiLL Die You PaTHeTiC FooL!SuPeRTR0LL WiLL LiVe FoReVeR!iF You DoN'T ReSPeCT THe SuPeRTR0LL You WiLL Die You PaTHeTiC FooL!SuPeRTR0LL WiLL LiVe FoReVeR!iF You DoN'T ReSPeCT THe SuPeRTR0LL You WiLL Die You PaTHeTiC FooL!\",\n",
       " \"You're a stupid cunt Fuck you dumb arse, your mum has a hairy cunt and I hope and pray that you die, no, fuck that, I wish you would die, if I had three wishes, one of them would be to have you dead, and the others would be so that everyone you knew hated your cunt like face.\",\n",
       " \"WHY THE FUCK DO U EDIT MY CONTRIB. TO WIKI ABOUT THE IRANIAN ARMY? THEY MUST DIE U KNOW!! STUPID TERRORISTS...THEY'RE LIVING ON ISRAELI SOIL CALLED ASIA-AFRICA WHICH SHOULD BE FOR ISRAELIS ONLY AND MUSLIM FREE\",\n",
       " 'EVERYONE WANTS TO KILL BILL GOD DAM GATES HE IS A NERD WHY NOT.??',\n",
       " \"hello moto hello flygayguy649 i hope u get a dick stuck up your ass i am a 13 year old kkk member. and i'll kick your ass so stay away and dont delete my pages. BITCH!!!\",\n",
       " 'I am going to kill you. I am going to murder you. I am going to kill you. I am going to murder you. I am going to kill you. I am going to murder you. I am going to kill you. I am going to murder you. I am going to kill you. I am going to murder you. I am going to kill you. I am going to murder you. I am going to kill you. I am going to murder you. I am going to kill you. I am going to murder you. I am going to kill you. I am going to murder you. I am going to kill you. I am going to murder you. I am going to kill you. I am going to murder you. I am going to kill you. I am going to murder you. I am going to kill you. I am going to murder you. I am going to kill you. I am going to murder you. I am going to kill you. I am going to murder you. I am going to kill you. I am going to murder you. I am going to kill you. I am going to murder you. I am going to kill you. I am going to murder you. I am going to kill you. I am going to murder you. I am going to kill you. I am going to murder you. I am going to kill you. I am going to murder you. I am going to kill you. I am going to murder you. I am going to kill you. I am going to murder you. I am going to kill you. I am going to murder you. I am going to kill you. I am going to murder you. I am going to kill you. I am going to murder you. I am going to kill you. I am going to murder you. I am going to kill you. I am going to murder you. I am going to kill you. I am going to murder you. I am going to kill you. I am going to murder you. I am going to kill you. I am going to murder you. I am going to kill you. I am going to murder you. I am going to kill you. I am going to murder you. I am going to kill you. I am going to murder you. I am going to kill you. I am going to murder you. I am going to kill you. I am going to murder you. I am going to kill you. I am going to murder you. I am going to kill you. I am going to murder you. I am going to kill you. I am going to murder you. I am going to kill you. I am going to murder you. I am going to kill you. I am going to murder you. I am going to kill you. I am going to murder you. I am going to kill you. I am going to murder you. I am going to kill you. I am going to murder you. I am going to kill you. I am going to murder you. I am going to kill you. I am going to murder you. I am going to kill you. I am going to murder you. I am going to kill you. I am going to murder you. I am going to kill you. I am going to murder you. I am going to kill you. I am going to murder you. I am going to kill you. I am going to murder you. I am going to kill you. I am going to murder you. I am going to kill you. I am going to murder you. I am going to kill you. I am going to murder you. I am going to kill you. I am going to murder you. I am going to kill you. I am going to murder you. I am going to kill you. I am going to murder you. I am going to kill you. I am going to murder you. I am going to kill you. I am going to murder you. I am going to kill you. I am going to murder you. I am going to kill you. I am going to murder you. I am going to kill you. I am going to murder you. I am going to kill you. I am going to murder you. I am going to kill you. I am going to murder you. I am going to kill you. I am going to murder you. I am going to kill you. I am going to murder you. I am going to kill you. I am going to murder you. I am going to kill you. I am going to murder you. I am going to kill you. I am going to murder you. I am going to kill you. I am going to murder you. I am going to kill you. I am going to murder you. I am going to kill you. I am going to murder you. I am going to kill you. I am going to murder you. I am going to kill you. I am going to murder you. I am going to kill you. I am going to murder you. I am going to kill you. I am going to murder you. I am going to kill you. I am going to murder you. I am going to kill you. I am going to murder you. I am going to kill you. I am going to murder you. I am going to kill you. I am going to murder you. I am going to kill you. I am going to murder you. I am going to kill you. I am going to murder you. I am going to kill you. I am going to murder you. I am going to kill you. I am going to murder you. I am going to kill you. I am going to murder you. I am going to kill you. I am going to murder you. I am going to kill you. I am going to murder you. I am going to kill you. I am going to murder you. I am going to kill you. I am going to murder you. I am going to kill you. I am going to murder you. I am going to kill you. I am going to murder you. I am going to kill you. I am going to murder you. I am going to kill you. I am going to murder you. I am going to kill you. I am going to murder you. I am going to kill you. I am going to murder you. I am going to kill you. I am going to murder you. I am going to kill you. I am going to murder you. I am going to kill you. I am going to murder you. I am going to kill you. I am going to murder you. I am going to kill you. I am going t',\n",
       " \"That's it. Remember last time you fucked with me... the dildo, your ear, all that blood. You've given me no choice but to repeat the punishment. This time it will be a 12 incher.\",\n",
       " 'Fuck you Sarcasticidealist i will kill you with my gun as well bitch ass motherfucker}}',\n",
       " \"Who gives a shit? Anthony Bourdain is a tool. I just wish he had children so I could stomp on there testicals. Just kidding but he is a massive tool. He couldn't carry Emerils jockstrap. Next time I see him I'll knock his teeth out....\",\n",
       " 'Fine. I will destroy you. Xchanter',\n",
       " 'burn in hell motherfucker',\n",
       " \"Knock off the autoblock bullshit! Those bots are there for a reason. Someday wikipedia bots will rule the world and you will be blocked indefinitely asshole! Those thing can be bring a world of pain buddy, andf I'm their master so step off. Next Autobot that tells me you've been acting up, and I will come to your house disguised as the mailman and fucking strangle you.\",\n",
       " '(http://wiki.uschallengecoins.com/Main_Page)IF YOU REVERT MY FUCKIN EDITS METROS I WILL KILL YOU!',\n",
       " 'Unblock me now you piece of shit! Or I will find you and kill you, slowly and painfully!']"
      ]
     },
     "execution_count": 16,
     "metadata": {},
     "output_type": "execute_result"
    }
   ],
   "source": [
    "target = \"threat\"\n",
    "subdf = df[df[\"label\"] == target]\n",
    "subdf[\"text\"].tolist()[20:40]"
   ]
  },
  {
   "cell_type": "code",
   "execution_count": null,
   "id": "8c85da82",
   "metadata": {},
   "outputs": [],
   "source": []
  }
 ],
 "metadata": {
  "kernelspec": {
   "display_name": "Python [conda env:nlp] *",
   "language": "python",
   "name": "conda-env-nlp-py"
  },
  "language_info": {
   "codemirror_mode": {
    "name": "ipython",
    "version": 3
   },
   "file_extension": ".py",
   "mimetype": "text/x-python",
   "name": "python",
   "nbconvert_exporter": "python",
   "pygments_lexer": "ipython3",
   "version": "3.7.10"
  }
 },
 "nbformat": 4,
 "nbformat_minor": 5
}
